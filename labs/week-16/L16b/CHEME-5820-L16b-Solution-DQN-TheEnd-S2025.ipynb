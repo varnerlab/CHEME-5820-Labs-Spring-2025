{
 "cells": [
  {
   "cell_type": "markdown",
   "id": "c027c225-eebb-48e6-b2f6-b99efc6c7343",
   "metadata": {},
   "source": [
    "# L16b: Let's build a Deep Q-learning (DQN) Agent\n",
    "In this lab, we'll look at a Deep Q-learning (DQN) agent whose objective is to learn to mix $K$ different materials to maximize the benefit of the mixture. \n",
    "\n",
    "### Tasks\n",
    "Before you start, execute the `Run All Cells` command to check if you have any code or setup issues - let's get those fixed!\n",
    "\n",
    "* __Task 1: Setup, Data, Constants__: In this task, we set up the computational environment, load the necessary packages, and prepare the `world(...)` function for our personal shopper problem. We will also define any constants we use throughout the problem set.\n",
    "* __Task 2: Build the Context Models__:In this task, we will build several models of the contextual information used to inform the agent's recommendations. These models, which are [instances of the `MyBanditConsumerContextModel` type](src/Types.jl), hold various parameters that will be used in the `world(...)` function that we developed in Task 1.\n",
    "* __Task 3: Evaluation of Scenarios__: In this task, we'll run different context models to evaluate how well our agent performs under various scenarios. We will use the same bandit algorithm in all cases but vary the context model to see how it influences the agent's decisions and performance. We display the results, and ask you a few discussion questions.\n",
    "\n",
    "Tests throughout the notebook (and at the bottom section) help you determine if things are running correctly. Let's go! (Remember to answer the discussion questions.)\n",
    "___"
   ]
  },
  {
   "cell_type": "markdown",
   "id": "8bb9cabb",
   "metadata": {},
   "source": [
    "## Task 1: Setup, Data, Prerequisites\n",
    "We set up the computational environment by including the `Include.jl` file, loading any needed resources, such as sample datasets, and setting up any required constants. \n",
    "* The `Include.jl` file also loads external packages, various functions that we will use in the exercise, and custom types to model the components of our problem. It checks for a `Manifest.toml` file; if it finds one, packages are loaded. Other packages are downloaded and then loaded."
   ]
  },
  {
   "cell_type": "code",
   "execution_count": 1,
   "id": "62897123",
   "metadata": {},
   "outputs": [],
   "source": [
    "include(\"Include.jl\");"
   ]
  },
  {
   "cell_type": "markdown",
   "id": "d6e39983",
   "metadata": {},
   "source": [
    "Next, let's build the `world(...)` function. \n",
    "* The `world(...)` function takes the action vector `a::Array{Int64,1}` where the elements of `a::Array{Int64,1}` are binary variables indicating whether to select an item (`1`) or not (`0`). The length of the action vector `a` is $N$, the total number of _combinations_ available for selection. The function also takes the array `n::Array{Float64,1}` that contains the amount of each good to purchase (specified by the shopper beforehand). Finally, the `world(...)` function takes a `context` model, which encapsulates the personal shopper's environment, including the budget constraint and the penalty for exceeding it. More on the `context` in `Task 2`.\n",
    "\n",
    "We've assumed a _linear utility function_ for the personal shopper problem, where the utility is a linear combination of the items chosen minus a penalty for exceeding the budget. The utility function $U:\\mathbb{R}^{N}\\rightarrow\\mathbb{R}$ is defined as follows:\n",
    "$$\n",
    "\\begin{align*}\n",
    "U_{\\lambda}(\\mathbf{n},\\mathbf{\\gamma}) = \\sum_{i=1}^{N} \\gamma_{i}\\cdot n_i - \\lambda \\cdot \\left[\\max(0, \\sum_{i=1}^{N} c_i \\cdot n_{i} - B)\\right]^{2}\n",
    "\\end{align*}\n",
    "$$\n",
    "where $\\gamma_{i}$ is the marginal utility of option $i$ (unkown to the agent, only known to the world), while the term $n_i$ denotes the amount of component $i$ in the mixture,  The quadratic penalty term is subtracted from the utility if the total cost exceeds the budget, where $c_i$ is the unit cost of item $i$.\n",
    "\n",
    "__Hmmm__. Sometimes, we are uncertain about the benefit gained when we purchase good $i$, so let's add some randomness to the problem. In the presence of uncertainty, the utility function becomes:\n",
    "$$\n",
    "\\begin{align*}\n",
    "U_{\\lambda}(\\mathbf{n},\\mathbf{\\gamma}) = \\sum_{i=1}^{N} (\\gamma_{i} + \\sigma_{i} \\cdot Z_i) \\cdot n_i - \\lambda \\cdot \\left[\\max(0, \\sum_{i=1}^{N} c_i \\cdot n_{i} - B)\\right]^{2}\n",
    "\\end{align*}\n",
    "$$\n",
    "where $Z_i \\sim \\mathcal{N}(0,1)$ is a random variable drawn from a standard normal distribution for each item $i$, and $\\sigma_{i}\\geq{0}$ denotes the strength of the uncertainty associated with good $i$ (hyperparameter set by the shopper). This adds a stochastic element to the utility function, making it more realistic in scenarios where the benefits of purchasing items are uncertain."
   ]
  },
  {
   "cell_type": "code",
   "execution_count": 2,
   "id": "4134a51f",
   "metadata": {},
   "outputs": [],
   "source": [
    "function world(s::Array{Float32,1}, a::Array{Float32,1}, context::MyDQNworldContextModel)\n",
    "\n",
    "    # initialize -\n",
    "    γ = context.γ; # consumer preferences (unknown to agent)\n",
    "    σ = context.σ; # noise in utility calculation (unknown to agent)\n",
    "    B = context.B; # max budget (unknown to agent)\n",
    "    C = context.C; # unit costs of goods (unknown to agent)\n",
    "    λ = context.λ; # sensitivity to the budget\n",
    "    Z = context.Z; # noise model\n",
    "    number_of_goods = context.m; # number of possible combinations\n",
    "\n",
    "    # compute the reward for this choice -\n",
    "    Ū = 0.0; # initial utility\n",
    "    BC = 0.0; # initial budget constraint\n",
    "    for i ∈ 1:number_of_goods\n",
    "        \n",
    "        nᵢ = s[i]; # this is the quantity purchased of good aᵢ in category i\n",
    "        Cᵢ = C[i]; # cost of chosen good in category i\n",
    "        γᵢ = γ[i]; # preference of good in category i\n",
    "   \n",
    "        # update the utility and the budget constraint -\n",
    "        Ū += γᵢ*(nᵢ + σ[i,1]*rand(Z)); # compute the utility for this good, with noise. We'll use a linear utility model\n",
    "        BC += nᵢ*(Cᵢ + σ[i,2]*rand(Z)); # compute the budget constraint -\n",
    "    end\n",
    "\n",
    "    # compute the utility with the budget constraint\n",
    "    U = (Ū - λ*max(0.0, (BC - B))^2) .|> Float32 ; # use a penalty method to capture budget constraint\n",
    "\n",
    "    # compute the next state -\n",
    "    s′ = (s .+ (a.*s)) .|> Float32; # update the state with the action taken to get next state\n",
    "    \n",
    "    # return to caller -\n",
    "    return s′, U; # return the next state and the reward\n",
    "end;"
   ]
  },
  {
   "cell_type": "markdown",
   "id": "9da8599d",
   "metadata": {},
   "source": [
    "__Constants__: Set constants we'll use in the subsequent tasks. See the comment beside the value for a description of what it is, its permissible values, etc."
   ]
  },
  {
   "cell_type": "code",
   "execution_count": 3,
   "id": "e599fe0b",
   "metadata": {},
   "outputs": [],
   "source": [
    "K = 12; # TODO: Let's consider 12 different items that we need to mix together\n",
    "number_of_actions = 2*K; # TODO: number of actions (2 for each item,increase/decrease)\n",
    "number_of_hidden_states = 2^K; # TODO: number of hidden states (2^K made this up)\n",
    "T = 2^14; # TODO: number of rounds for each decision task (should be geq 2^{K})\n",
    "budget = 100.0; # TODO: Budget for agent, assume 100 USD. We can change this later if we want\n",
    "buffersize = 1000; # TODO: buffer size for the agent\n",
    "B = 64; # TODO: minibatch size for the agent"
   ]
  },
  {
   "cell_type": "markdown",
   "id": "955bb7bb",
   "metadata": {},
   "source": [
    "## Task 2: Setup the Context, Main, Target Networks, and the Replay Buffer\n",
    "In this task, we will build several models that are required for our deep Q-learning agent. We know that the agent will have a _main_ and a _target_ network, and we will also need a replay buffer to store the agent's experiences. "
   ]
  },
  {
   "cell_type": "markdown",
   "id": "09d8deee",
   "metadata": {},
   "source": [
    "### Context Model\n",
    "The context model is an instance of [the `MyDQNworldContextModel` type](src/Types.jl). It holds various parameters that will be used in the `world(...)` function that we developed in Task 1. We save our context model instance in the `contextmodel::MyDQNworldContextModel` variable.\n",
    "\n",
    "Let's walk through what we are saying here:"
   ]
  },
  {
   "cell_type": "code",
   "execution_count": 4,
   "id": "ff621f5e",
   "metadata": {},
   "outputs": [],
   "source": [
    "contextmodel = let\n",
    "\n",
    "    # initialize -\n",
    "    context = nothing; # initialize the context variable to nothing; this variable will be used to store the context model\n",
    "    γ = Array{Float32,1}(undef, K); # consumer preferences (unknown to agent)\n",
    "    σ = Array{Float32,2}(undef, K, 2); # noise in utility calculation (unknown to agent). First col is noise for good, seccond col is noise for price\n",
    "    C = Array{Float32,1}(undef, K); # unit costs of goods (unknown to agent)\n",
    "    Z = Normal(0,1); # use a standard normal distribution for the noise model; this can be changed to any distribution as required\n",
    "    λ = 100000.0; # sensitivity to the budget constraint λ ≥ 0. If zero, then no penalty for budget constraint violation.\n",
    "\n",
    "    # set the parameters -\n",
    "    for i ∈ 1:K\n",
    "        # Assigning values for γ, σ, and C for each good and price in the context model\n",
    "        # For simplicity, let's assume we have K goods with equal preference\n",
    "        # This can be customized as per the requirement of the simulation\n",
    "        rem(i, 2) == 0 ? γ[i] = 1.0 : γ[i] = -1.0; # Fancy! if i is even, then γ[i] = 1.0, else γ[i] = -1.0       \n",
    "        σ[i,:] .= 0.1; # uniform uncertainty for all goods and prices, this can be adjusted based on the specific needs of the simulation\n",
    "        C[i] = 10.0 + 10.0 * (i - 1); # linearly increasing costs for goods, this can be customized as per the requirement\n",
    "    end\n",
    "\n",
    "    # TODO: Uncomment the code below to build the context model -\n",
    "    # build a context model with the required parameters -\n",
    "    context = build(MyDQNworldContextModel, (\n",
    "        γ = γ, # consumer preferences (unknown to agent)\n",
    "        σ = σ, # noise in utility calculation (unknown to agent)\n",
    "        B = B, # max budget (unknown to agent)\n",
    "        C = C, # unit costs of goods (unknown to agent)\n",
    "        λ = λ, # sensitivity to the budget\n",
    "        Z = Z, # noise model\n",
    "        m = K, # number of components (this should match the number of arms in the algorithm)\n",
    "    )); # build the context\n",
    "\n",
    "    # return the model -\n",
    "    context;\n",
    "end;"
   ]
  },
  {
   "cell_type": "markdown",
   "id": "e88d4d9b",
   "metadata": {},
   "source": [
    "#### Main and Target Networks\n",
    "The main network is used to select actions, while the target network is used to evaluate the actions taken by the main network. These networks have the same architecture but are updated at different rates. The main network is updated more frequently, while the target network is updated less frequently to provide a stable target for the Q-value updates.\n",
    "\n",
    "__Implementation__: For the main and target models, let's build an empty model with default (random) parameter values but a fixed structure. The number and dimension of the layers and the activation functions for each layer are specified when we build the model (but we'll update the parameters during training).\n",
    "* _Library_: We use [the `Flux.jl` machine learning library](https://github.com/FluxML/Flux.jl) to construct the neural network model. The model will have three layers: the input layer is a `K` $\\times$ $2^{K}$ layer with [tanh activation functions](https://fluxml.ai/Flux.jl/stable/reference/models/activation/#NNlib.tanh_fast), the hidden layer is a $2^{K}$ $\\times$ $\\dim\\mathcal{A}$ layer and the output layer is the [softmax function](https://en.wikipedia.org/wiki/Softmax_function).\n",
    "* _Syntax_: The [`Flux.jl` package](https://github.com/FluxML/Flux.jl) uses some next level syntax. The model is built using [the `Chain` function](https://fluxml.ai/Flux.jl/stable/reference/models/layers/#Flux.Chain), which takes a list of layers as input. Each layer is defined using the [`Dense` type](https://fluxml.ai/Flux.jl/stable/reference/models/layers/#Flux.Dense) (in this case), which takes the number of input and output neurons as arguments. The activation function is an additional argument to [the `Dense` type](https://fluxml.ai/Flux.jl/stable/reference/models/layers/#Flux.Dense). The final layer uses [the `softmax(...)` method exported by the `NNlib.jl` package](https://fluxml.ai/NNlib.jl/dev/reference/#Softmax) to produce a probability distribution over the classes.\n",
    "\n",
    "We save the main network in the `M::Chain` variable:"
   ]
  },
  {
   "cell_type": "code",
   "execution_count": 5,
   "id": "7670c0f9",
   "metadata": {},
   "outputs": [
    {
     "data": {
      "text/plain": [
       "Chain(\n",
       "  input = Dense(12 => 4096, tanh_fast),  \u001b[90m# 53_248 parameters\u001b[39m\n",
       "  hidden = Dense(4096 => 24, tanh_fast),  \u001b[90m# 98_328 parameters\u001b[39m\n",
       "  output = NNlib.softmax,\n",
       ") \u001b[90m                  # Total: 4 arrays, \u001b[39m151_576 parameters, 592.297 KiB."
      ]
     },
     "metadata": {},
     "output_type": "display_data"
    }
   ],
   "source": [
    "M = let \n",
    "    \n",
    "    # TODO: Uncomment the code below to build the model!\n",
    "    Flux.@layer MyFluxNeuralNetworkModel trainable=(input, hidden); # create a \"namespaced\" of sorts\n",
    "    MyModel() = MyFluxNeuralNetworkModel( # a strange type of constructor\n",
    "        Chain(\n",
    "            input = Dense(K, number_of_hidden_states, tanh_fast),  # layer 1\n",
    "            hidden = Dense(number_of_hidden_states, number_of_actions, tanh_fast), # layer 2\n",
    "            output = NNlib.softmax) # layer 3 (output layer)\n",
    "    );\n",
    "    model = MyModel().chain;\n",
    "\n",
    "    # return -\n",
    "    model;\n",
    "end"
   ]
  },
  {
   "cell_type": "markdown",
   "id": "170fa4ef",
   "metadata": {},
   "source": [
    "The target network is a copy of the main network, but its parameters are updated less frequently. The target network is updated by copying the parameters from the main network every few episodes.\n",
    "\n",
    "We save the target network in the `T::Chain` variable:"
   ]
  },
  {
   "cell_type": "code",
   "execution_count": 6,
   "id": "277f89e6",
   "metadata": {},
   "outputs": [
    {
     "data": {
      "text/plain": [
       "Chain(\n",
       "  input = Dense(12 => 4096, tanh_fast),  \u001b[90m# 53_248 parameters\u001b[39m\n",
       "  hidden = Dense(4096 => 24, tanh_fast),  \u001b[90m# 98_328 parameters\u001b[39m\n",
       "  output = NNlib.softmax,\n",
       ") \u001b[90m                  # Total: 4 arrays, \u001b[39m151_576 parameters, 592.297 KiB."
      ]
     },
     "metadata": {},
     "output_type": "display_data"
    }
   ],
   "source": [
    "T = let\n",
    "\n",
    "    # TODO: Uncomment the code below to build the model!\n",
    "    Flux.@layer MyFluxNeuralNetworkModel trainable=(input, hidden); # create a \"namespaced\" of sorts\n",
    "    MyModel() = MyFluxNeuralNetworkModel( # a strange type of constructor\n",
    "        Chain(\n",
    "            input = Dense(K, number_of_hidden_states, tanh_fast),  # layer 1\n",
    "            hidden = Dense(number_of_hidden_states, number_of_actions, tanh_fast), # layer 2\n",
    "            output = NNlib.softmax) # layer 3 (output layer)\n",
    "    );\n",
    "    model = MyModel().chain;\n",
    "\n",
    "    # return -\n",
    "    model;\n",
    "end"
   ]
  },
  {
   "cell_type": "markdown",
   "id": "3ad92112",
   "metadata": {},
   "source": [
    "### Replay Buffer\n",
    "The replay buffer is a data structure that stores the agent's experiences. It is used to sample random batches of experiences for training the main network. We will implement a _vanilla DQN_ agent whose replay buffer is a [simple circular buffer](https://en.wikipedia.org/wiki/Circular_buffer#:~:text=In%20computer%20science%2C%20a%20circular,easily%20to%20buffering%20data%20streams.). \n",
    "* _What goes into the buffer_? The replay buffer stores the agent's experiences in the form of tuples $(s,a,r,s^{\\prime})$, where $s$ is the current state, $a$ is the action taken, $r$ is the reward received, $s^{\\prime}$ is the next state.\n",
    "* _Implementation_? We'll use [the circular buffer implementation exported by the `DataStructures.jl` package](https://github.com/JuliaCollections/DataStructures.jl). The [`CircularBuffer` type](https://juliacollections.github.io/DataStructures.jl/stable/circ_buffer/) is a fixed-size buffer that overwrites the oldest elements when it becomes full. The size of the buffer is set by the `buffersize::Int64`. We can generate $B$ random samples, i.e., our training minibatch from the replay buffer using [a extended `rand(...)` function](https://docs.julialang.org/en/v1/stdlib/Random/#Base.rand). \n",
    "\n",
    "The agent builds it's own replay buffer, so here let's play with the `CircularBuffer` type to see how it works."
   ]
  },
  {
   "cell_type": "code",
   "execution_count": 7,
   "id": "992f85bd",
   "metadata": {},
   "outputs": [],
   "source": [
    "test_replay_buffer = CircularBuffer{Int}(buffersize); # TODO: create a circular buffer that holdes int    \n",
    "for i ∈ 1:buffersize\n",
    "    push!(test_replay_buffer, i); # TODO: fill the buffer with some random values\n",
    "end"
   ]
  },
  {
   "cell_type": "markdown",
   "id": "700f819c",
   "metadata": {},
   "source": [
    "### Learning agent model\n",
    "Finally, we need to build a model for the learning agent. The agent model is an instance of [the `MyDQNLearningAgentModel` type](src/Types.jl). We save our problem model instance in the `agentmmodel::MyDQNworldProblemModel` variable."
   ]
  },
  {
   "cell_type": "code",
   "execution_count": 8,
   "id": "9203aabb",
   "metadata": {},
   "outputs": [],
   "source": [
    "agentmodel = let\n",
    "\n",
    "    model = build(MyDQNLearningAgentModel, (\n",
    "        mainnetwork = M, # the main network\n",
    "        targetnetwork = T, # the target network\n",
    "        number_of_actions = number_of_actions, # number of actions\n",
    "        number_of_inputs = K, # number of inputs\n",
    "        Δ = 0.1, # state peturbation \n",
    "    )); # build the agent\n",
    "\n",
    "    # return -\n",
    "    model\n",
    "end;"
   ]
  },
  {
   "cell_type": "markdown",
   "id": "474e7eee",
   "metadata": {},
   "source": [
    "What is in the agent model?"
   ]
  },
  {
   "cell_type": "markdown",
   "id": "63cdd70f",
   "metadata": {},
   "source": [
    "## Task 3: Let's watch the DQN agent in action.\n",
    "In this task, we train the agent and then give it some random vectors and see what is says."
   ]
  },
  {
   "cell_type": "code",
   "execution_count": null,
   "id": "3ad721b7",
   "metadata": {},
   "outputs": [],
   "source": [
    "my_trained_agent = learn(agentmodel, world, \n",
    "    context = contextmodel, numberofepisodes = 2, maxnumberofsteps = 10000);"
   ]
  },
  {
   "cell_type": "code",
   "execution_count": 16,
   "id": "f31d06fb",
   "metadata": {},
   "outputs": [
    {
     "data": {
      "text/plain": [
       "24-element Vector{Float32}:\n",
       " 0.041737862\n",
       " 0.041611947\n",
       " 0.041635692\n",
       " 0.041660223\n",
       " 0.041694764\n",
       " 0.041613698\n",
       " 0.041660555\n",
       " 0.041677054\n",
       " 0.041743103\n",
       " 0.041643206\n",
       " ⋮\n",
       " 0.04164222\n",
       " 0.04167992\n",
       " 0.04164572\n",
       " 0.041666742\n",
       " 0.041623436\n",
       " 0.041578513\n",
       " 0.04173692\n",
       " 0.041679688\n",
       " 0.041574482"
      ]
     },
     "metadata": {},
     "output_type": "display_data"
    }
   ],
   "source": [
    "let\n",
    "    a = my_trained_agent.actions;\n",
    "    sₒ = zeros(Float32, K); # initial state\n",
    "    sₒ[1] = 1.0; # set the first state to 1.0\n",
    "    p = my_trained_agent.mainnetwork(sₒ) |> u -> NNlib.softmax(u);\n",
    "end"
   ]
  },
  {
   "cell_type": "code",
   "execution_count": 11,
   "id": "612dab2f",
   "metadata": {},
   "outputs": [],
   "source": []
  }
 ],
 "metadata": {
  "kernelspec": {
   "display_name": "Julia 1.11.5",
   "language": "julia",
   "name": "julia-1.11"
  },
  "language_info": {
   "file_extension": ".jl",
   "mimetype": "application/julia",
   "name": "julia",
   "version": "1.11.5"
  }
 },
 "nbformat": 4,
 "nbformat_minor": 5
}
