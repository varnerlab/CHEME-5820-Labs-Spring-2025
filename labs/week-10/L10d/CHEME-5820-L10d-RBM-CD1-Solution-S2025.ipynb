{
 "cells": [
  {
   "cell_type": "markdown",
   "id": "73235119-71ca-40de-8741-495e8d6c8f9b",
   "metadata": {},
   "source": [
    "# L10d: Sampling and Training of a Restricted Boltzmann Machine\n",
    "\n",
    "## Tasks\n",
    "Before we get started,execute the `Run All Cells` command to check if you (or your neighbor) have any code or setup issues. Code issues, then raise your hands - and let's get those fixed!\n",
    "\n",
    "* __Task 1: Setup, Data, Constants (10 min)__: In this task, we'll take a few minutes to load [the USPS handwritten digits dataset](https://en.wikipedia.org/wiki/MNIST_database#USPS_database) that our restricted Boltzmann machine will model. These are `16` $\\times$ `16` gray-scale images of handwritten numbers.\n",
    "* __Task 2: What happens in a feedforward and feedback pass (20 min)__?\n",
    "In this task, let's assume some random values for the parameters $\\mathbf{W}$, $\\mathbf{a}$ and $\\mathbf{b}$ and see what happens when we do a combined _feedforward_ and _feedback_ pass through the restricted Boltzmann machine.\n",
    "* __Task 3: Let's do a few training steps (20 min)__! In this task, let's do a few training sets and see how this changes the behavior of the restricted Boltzmann machine.\n",
    "\n",
    "Let's get started!"
   ]
  },
  {
   "cell_type": "code",
   "execution_count": 2,
   "id": "e2126e55-2dc1-4019-bbe0-58044b88a74b",
   "metadata": {},
   "outputs": [],
   "source": [
    "include(\"Include.jl\"); # Include the required packages and codes from Include.jl"
   ]
  },
  {
   "cell_type": "markdown",
   "id": "328ddbff-08c5-4cbf-a54a-8519a14ee4de",
   "metadata": {},
   "source": [
    "## Task 1: Setup, Data, Constants\n",
    "In this task, we'll take a few minutes to load [the USPS handwritten digits dataset](https://en.wikipedia.org/wiki/MNIST_database#USPS_database) that our restricted Boltzmann machine will model.\n",
    "\n",
    "However, before we load the dataset, let's set some constants we'll use in the lab. Please see the comment next to the value for a description of the constant, its permissible values, etc."
   ]
  },
  {
   "cell_type": "code",
   "execution_count": 4,
   "id": "1bb2819f-a98d-4e2d-b549-461745845b1a",
   "metadata": {},
   "outputs": [],
   "source": [
    "number_of_images_to_explore = 200; # how many images do we want to play with?\n",
    "number_of_rows = 16;\n",
    "number_of_cols = 16;\n",
    "number_of_pixels = number_of_rows*number_of_cols;\n",
    "number_of_visible_nodes = number_of_pixels;\n",
    "number_of_hidden_nodes = 4*number_of_pixels;\n",
    "β = 0.1; # system (inverse) temperature \n",
    "number_of_internal_steps = 100; # how many steps do we take in the feedforward + feedback passes?\n",
    "η = 0.01; # learning rate"
   ]
  },
  {
   "cell_type": "markdown",
   "id": "b260425e-00d5-4855-97fc-5ab401c4fba0",
   "metadata": {},
   "source": [
    "__Load the data__. Let's load [the `usps-bad-labels.data` file](data/usps-bad-labels.data), transform the data to the `{-1,1}` scale, and then return this scaled data to the caller in the `X::Array{Int,2}` array, where the images are encoded in the columns of the array.\n",
    "* _What is in the `X` array_? Each column of the `X::Array{Int,2}` array holds one of the `7291` handwritten images. Each row is a pixel value; a total of `256` pixels per image.\n",
    "* _What else are we returning_? We also return the `raw_data_dictionary::Dict{Int64, Vector{Float64}}` dictionary that holds the raw (untransformed) data vectors for each image. However, we do not return the label as these were _wrong_. A shocking turn of events!!. I felt betrayed by the internet."
   ]
  },
  {
   "cell_type": "code",
   "execution_count": 6,
   "id": "07320cea-6185-44c4-83fc-8e96f021234b",
   "metadata": {},
   "outputs": [],
   "source": [
    "X, raw_data_dictionary = let\n",
    "\n",
    "    # load the \n",
    "    (labels, raw_data_dictionary) = joinpath(_PATH_TO_DATA, \"usps-bad-labels.data\") |> p -> parser(p);\n",
    "\n",
    "    # get the number of records -\n",
    "    number_of_records = length(labels);\n",
    "    X = Array{Int,2}(undef, number_of_pixels, number_of_records);\n",
    "\n",
    "    for i ∈ 1:number_of_records\n",
    "        record = raw_data_dictionary[i];\n",
    "        for k ∈ 1:number_of_pixels\n",
    "            if (record[k] ≤ 0.0)\n",
    "                X[k,i] = -1;\n",
    "            else\n",
    "                X[k,i] = 1;\n",
    "            end\n",
    "        end\n",
    "    end\n",
    "\n",
    "    X[:,1:number_of_images_to_explore], raw_data_dictionary\n",
    "end;"
   ]
  },
  {
   "cell_type": "code",
   "execution_count": 7,
   "id": "d857ae42-c86d-4d4d-a386-5f6d5bf0e760",
   "metadata": {},
   "outputs": [
    {
     "data": {
      "text/plain": [
       "Dict{Int64, Vector{Float64}} with 7291 entries:\n",
       "  4986 => [-1.0, -1.0, -1.0, -1.0, -0.99988, -0.990341, -0.845641, -0.377537, -…\n",
       "  4700 => [-0.999959, -0.996451, -0.938356, -0.679003, -0.195987, 0.219518, 0.2…\n",
       "  4576 => [-1.0, -1.0, -1.0, -1.0, -0.999971, -0.998356, -0.976414, -0.911377, …\n",
       "  7144 => [-1.0, -1.0, -1.0, -0.999996, -0.999945, -0.99965, -0.986294, -0.7905…\n",
       "  6073 => [-0.999828, -0.985106, -0.769292, -0.190479, 0.133481, 0.027313, -0.1…\n",
       "  2288 => [-1.0, -1.0, -1.0, -0.999942, -0.994807, -0.906057, -0.481336, 0.1212…\n",
       "  1703 => [-1.0, -1.0, -0.999929, -0.993736, -0.893689, -0.492704, 0.058186, 0.…\n",
       "  1956 => [-1.0, -1.0, -1.0, -0.999999, -0.999801, -0.987675, -0.816333, -0.292…\n",
       "  2350 => [-0.999998, -0.999922, -0.99864, -0.987528, -0.917924, -0.708757, -0.…\n",
       "  5975 => [-0.931519, -0.623818, -0.084242, 0.201256, 0.12177, -0.090782, -0.28…\n",
       "  3406 => [-1.0, -1.0, -0.999996, -0.999628, -0.990799, -0.90909, -0.618184, -0…\n",
       "  2841 => [-0.99531, -0.956031, -0.846924, -0.681021, -0.434111, -0.180687, 0.0…\n",
       "  2876 => [-0.998836, -0.98988, -0.948924, -0.846536, -0.691805, -0.491568, -0.…\n",
       "  687  => [-0.999875, -0.996782, -0.967448, -0.856031, -0.635373, -0.326407, 0.…\n",
       "  185  => [-1.0, -1.0, -1.0, -0.9999, -0.991267, -0.858231, -0.414111, -0.03012…\n",
       "  1090 => [-0.896169, -0.518707, -0.10261, -0.029683, 0.254548, 0.351756, 0.218…\n",
       "  2015 => [-1.0, -0.999998, -0.999767, -0.993681, -0.925782, -0.579591, 0.00594…\n",
       "  7272 => [-1.0, -1.0, -0.999961, -0.998932, -0.98671, -0.91505, -0.737748, -0.…\n",
       "  3293 => [-0.943501, -0.728798, -0.418634, -0.271288, -0.254784, -0.336894, -0…\n",
       "  1704 => [-1.0, -0.999998, -0.999823, -0.993422, -0.915112, -0.623876, -0.1801…\n",
       "  3220 => [-1.0, -1.0, -1.0, -1.0, -1.0, -0.999975, -0.998974, -0.975994, -0.75…\n",
       "  4888 => [-1.0, -1.0, -1.0, -1.0, -1.0, -0.999861, -0.987912, -0.809672, -0.30…\n",
       "  422  => [-0.999999, -0.999819, -0.98994, -0.855639, -0.466209, -0.322712, -0.…\n",
       "  1266 => [-1.0, -1.0, -0.999918, -0.992833, -0.880868, -0.461524, 0.112097, 0.…\n",
       "  183  => [-1.0, -1.0, -0.999997, -0.99997, -0.999897, -0.999828, -0.999794, -0…\n",
       "  ⋮    => ⋮"
      ]
     },
     "execution_count": 7,
     "metadata": {},
     "output_type": "execute_result"
    }
   ],
   "source": [
    "raw_data_dictionary"
   ]
  },
  {
   "cell_type": "markdown",
   "id": "db36e1b8-a0fa-4fed-990f-edaf4a593a45",
   "metadata": {},
   "source": [
    "__Probability distribution of the data__. In the code below, we want to be able to sample the data, for example, generate mini-batches of data to estimate the model parameters. However, we cannot compute the partition function even though our data vectors are relatively small, i.e., `16^2 = 256` pixels. \n",
    "* _How can we solve this problem_? Let's compute the probability of observing a pattern in the _data that we do have_, and use this to approximate $P(\\mathbf{x})_{\\text{data}}$. We'll compare each pattern to every other by computing a _dissimilarity score_. If the dissimilarity is below a threshold, the patterns are assumed to be similar (we increment a `counter`).\n",
    "* We compute an approximate probability of seeing _similar_ patterns from the `counter` values [using the `softmax(...)` method](src/Compute.jl) and use this to initialize [a `Categorical` distribution exported by the `Distributions.jl` package](https://juliastats.org/Distributions.jl/latest/univariate/#Distributions.Categorical).\n",
    "* We save the categorical distribution in the `data_distribution::Categorical{Float64, Vector{Float64}}` variable."
   ]
  },
  {
   "cell_type": "code",
   "execution_count": 9,
   "id": "b61cf73e-a005-4844-9b2b-6b24d0568051",
   "metadata": {},
   "outputs": [],
   "source": [
    "(data_distribution,p) = let\n",
    "\n",
    "    # initialize -\n",
    "    number_of_samples = size(X, 2); # how many turns do we have\n",
    "    θ = Array{Float64,1}(undef, number_of_samples);\n",
    "\n",
    "    for i ∈ 1:number_of_samples\n",
    "        sᵢ = X[:,i]; # get the ith pixel pattern\n",
    "\n",
    "        counter = 0;\n",
    "        for j ∈ 1:number_of_samples\n",
    "            sⱼ = X[:,j]; # get the jth pixel pattern\n",
    "\n",
    "            # compute the difference -\n",
    "            d = (1/(4*number_of_pixels))*sum((sᵢ .- sⱼ).^2);            \n",
    "            if (d ≤ 0.20)\n",
    "                counter += 1;\n",
    "            end\n",
    "        end\n",
    "        θ[i] = counter/number_of_samples\n",
    "    end\n",
    "\n",
    "    # initialize categorical distribution w/p -\n",
    "    p = softmax(θ);\n",
    "    data_distribution = Categorical(p);\n",
    "\n",
    "    data_distribution,p    \n",
    "end;"
   ]
  },
  {
   "cell_type": "markdown",
   "id": "523c7dec-04cf-4a6a-81ee-94fc3a697d39",
   "metadata": {},
   "source": [
    "What does our data distribution look like?"
   ]
  },
  {
   "cell_type": "code",
   "execution_count": 84,
   "id": "e77ed42b-1ed7-4dbe-b887-b4320cf5473c",
   "metadata": {},
   "outputs": [
    {
     "name": "stdout",
     "output_type": "stream",
     "text": [
      "i = 153\n"
     ]
    },
    {
     "data": {
      "image/png": "[encoded data removed]",
      "text/html": [
       "<img src=\"data:image/png;base64,iVBORw0KGgoAAAANSUhEUgAAAHAAAABwCAAAAADji6uXAAAAAXNSR0IArs4c6QAAAARnQU1BAACxjwv8YQUAAAAgY0hSTQAAeiYAAICEAAD6AAAAgOgAAHUwAADqYAAAOpgAABdwnLpRPAAAAOhJREFUaAW9wTEOwkAQwECf5P9/eZGuogiQkMgzEpOYxCQmMYlJTJ40bIvPJCYxiUlMYhKTL4Zt8dNwlsQkJjGJSUxicmR4N2yLs4ZtcUBiEpOYxCQmMYlJTGISk5jEJCb3DAcWn0lMYhKTmMQkJjGJSUxiEpOYxOS04QkSk5jEJCYxicmRxTZctPhJYhKTmMQkJjH5YnFguEViEpOYxCQmMblqsQ3/kZjEJCYxiUlMHrE4S2ISk5jEJCYxuWq4RWISk5jEJCYxiUlMYhKTmMQkJjGJSUxiEpOYxOSexUUSk5jEJCYxib0AojANwOB2ZQUAAAAASUVORK5C\">"
      ],
      "text/plain": [
       "\u001b[0m\u001b[38;2;0;0;0m██\u001b[38;2;0;0;0m██\u001b[38;2;0;0;0m██\u001b[38;2;0;0;0m██\u001b[38;2;0;0;0m██\u001b[38;2;0;0;0m██\u001b[38;2;0;0;0m██\u001b[38;2;0;0;0m██\u001b[38;2;0;0;0m██\u001b[38;2;0;0;0m██\u001b[38;2;0;0;0m██\u001b[38;2;0;0;0m██\u001b[38;2;0;0;0m██\u001b[38;2;0;0;0m██\u001b[38;2;0;0;0m██\u001b[38;2;0;0;0m██\u001b[0m\n",
       "\u001b[0m\u001b[38;2;0;0;0m██\u001b[38;2;0;0;0m██\u001b[38;2;0;0;0m██\u001b[38;2;0;0;0m██\u001b[38;2;0;0;0m██\u001b[38;2;0;0;0m██\u001b[38;2;0;0;0m██\u001b[38;2;0;0;0m██\u001b[38;2;0;0;0m██\u001b[38;2;0;0;0m██\u001b[38;2;0;0;0m██\u001b[38;2;255;255;255m██\u001b[38;2;0;0;0m██\u001b[38;2;0;0;0m██\u001b[38;2;0;0;0m██\u001b[38;2;0;0;0m██\u001b[0m\n",
       "\u001b[0m\u001b[38;2;0;0;0m██\u001b[38;2;0;0;0m██\u001b[38;2;0;0;0m██\u001b[38;2;0;0;0m██\u001b[38;2;255;255;255m██\u001b[38;2;0;0;0m██\u001b[38;2;0;0;0m██\u001b[38;2;0;0;0m██\u001b[38;2;0;0;0m██\u001b[38;2;0;0;0m██\u001b[38;2;255;255;255m██\u001b[38;2;255;255;255m██\u001b[38;2;0;0;0m██\u001b[38;2;0;0;0m██\u001b[38;2;0;0;0m██\u001b[38;2;0;0;0m██\u001b[0m\n",
       "\u001b[0m\u001b[38;2;0;0;0m██\u001b[38;2;0;0;0m██\u001b[38;2;0;0;0m██\u001b[38;2;255;255;255m██\u001b[38;2;255;255;255m██\u001b[38;2;255;255;255m██\u001b[38;2;0;0;0m██\u001b[38;2;0;0;0m██\u001b[38;2;0;0;0m██\u001b[38;2;0;0;0m██\u001b[38;2;255;255;255m██\u001b[38;2;255;255;255m██\u001b[38;2;255;255;255m██\u001b[38;2;0;0;0m██\u001b[38;2;0;0;0m██\u001b[38;2;0;0;0m██\u001b[0m\n",
       "\u001b[0m\u001b[38;2;0;0;0m██\u001b[38;2;0;0;0m██\u001b[38;2;0;0;0m██\u001b[38;2;255;255;255m██\u001b[38;2;255;255;255m██\u001b[38;2;255;255;255m██\u001b[38;2;0;0;0m██\u001b[38;2;0;0;0m██\u001b[38;2;0;0;0m██\u001b[38;2;0;0;0m██\u001b[38;2;255;255;255m██\u001b[38;2;255;255;255m██\u001b[38;2;255;255;255m██\u001b[38;2;0;0;0m██\u001b[38;2;0;0;0m██\u001b[38;2;0;0;0m██\u001b[0m\n",
       "\u001b[0m\u001b[38;2;0;0;0m██\u001b[38;2;0;0;0m██\u001b[38;2;0;0;0m██\u001b[38;2;255;255;255m██\u001b[38;2;255;255;255m██\u001b[38;2;255;255;255m██\u001b[38;2;0;0;0m██\u001b[38;2;0;0;0m██\u001b[38;2;0;0;0m██\u001b[38;2;255;255;255m██\u001b[38;2;255;255;255m██\u001b[38;2;255;255;255m██\u001b[38;2;0;0;0m██\u001b[38;2;0;0;0m██\u001b[38;2;0;0;0m██\u001b[38;2;0;0;0m██\u001b[0m\n",
       "\u001b[0m\u001b[38;2;0;0;0m██\u001b[38;2;0;0;0m██\u001b[38;2;0;0;0m██\u001b[38;2;255;255;255m██\u001b[38;2;255;255;255m██\u001b[38;2;255;255;255m██\u001b[38;2;0;0;0m██\u001b[38;2;0;0;0m██\u001b[38;2;0;0;0m██\u001b[38;2;255;255;255m██\u001b[38;2;255;255;255m██\u001b[38;2;255;255;255m██\u001b[38;2;0;0;0m██\u001b[38;2;0;0;0m██\u001b[38;2;0;0;0m██\u001b[38;2;0;0;0m██\u001b[0m\n",
       "\u001b[0m\u001b[38;2;0;0;0m██\u001b[38;2;0;0;0m██\u001b[38;2;0;0;0m██\u001b[38;2;255;255;255m██\u001b[38;2;255;255;255m██\u001b[38;2;255;255;255m██\u001b[38;2;255;255;255m██\u001b[38;2;255;255;255m██\u001b[38;2;255;255;255m██\u001b[38;2;255;255;255m██\u001b[38;2;255;255;255m██\u001b[38;2;255;255;255m██\u001b[38;2;0;0;0m██\u001b[38;2;0;0;0m██\u001b[38;2;0;0;0m██\u001b[38;2;0;0;0m██\u001b[0m\n",
       "\u001b[0m\u001b[38;2;0;0;0m██\u001b[38;2;0;0;0m██\u001b[38;2;0;0;0m██\u001b[38;2;0;0;0m██\u001b[38;2;255;255;255m██\u001b[38;2;255;255;255m██\u001b[38;2;255;255;255m██\u001b[38;2;255;255;255m██\u001b[38;2;255;255;255m██\u001b[38;2;255;255;255m██\u001b[38;2;255;255;255m██\u001b[38;2;0;0;0m██\u001b[38;2;0;0;0m██\u001b[38;2;0;0;0m██\u001b[38;2;0;0;0m██\u001b[38;2;0;0;0m██\u001b[0m\n",
       "\u001b[0m\u001b[38;2;0;0;0m██\u001b[38;2;0;0;0m██\u001b[38;2;0;0;0m██\u001b[38;2;0;0;0m██\u001b[38;2;0;0;0m██\u001b[38;2;0;0;0m██\u001b[38;2;0;0;0m██\u001b[38;2;255;255;255m██\u001b[38;2;255;255;255m██\u001b[38;2;255;255;255m██\u001b[38;2;255;255;255m██\u001b[38;2;0;0;0m██\u001b[38;2;0;0;0m██\u001b[38;2;0;0;0m██\u001b[38;2;0;0;0m██\u001b[38;2;0;0;0m██\u001b[0m\n",
       "\u001b[0m\u001b[38;2;0;0;0m██\u001b[38;2;0;0;0m██\u001b[38;2;0;0;0m██\u001b[38;2;0;0;0m██\u001b[38;2;0;0;0m██\u001b[38;2;0;0;0m██\u001b[38;2;0;0;0m██\u001b[38;2;0;0;0m██\u001b[38;2;255;255;255m██\u001b[38;2;255;255;255m██\u001b[38;2;255;255;255m██\u001b[38;2;0;0;0m██\u001b[38;2;0;0;0m██\u001b[38;2;0;0;0m██\u001b[38;2;0;0;0m██\u001b[38;2;0;0;0m██\u001b[0m\n",
       "\u001b[0m\u001b[38;2;0;0;0m██\u001b[38;2;0;0;0m██\u001b[38;2;0;0;0m██\u001b[38;2;0;0;0m██\u001b[38;2;0;0;0m██\u001b[38;2;0;0;0m██\u001b[38;2;0;0;0m██\u001b[38;2;0;0;0m██\u001b[38;2;255;255;255m██\u001b[38;2;255;255;255m██\u001b[38;2;0;0;0m██\u001b[38;2;0;0;0m██\u001b[38;2;0;0;0m██\u001b[38;2;0;0;0m██\u001b[38;2;0;0;0m██\u001b[38;2;0;0;0m██\u001b[0m\n",
       "\u001b[0m\u001b[38;2;0;0;0m██\u001b[38;2;0;0;0m██\u001b[38;2;0;0;0m██\u001b[38;2;0;0;0m██\u001b[38;2;0;0;0m██\u001b[38;2;0;0;0m██\u001b[38;2;0;0;0m██\u001b[38;2;255;255;255m██\u001b[38;2;255;255;255m██\u001b[38;2;255;255;255m██\u001b[38;2;0;0;0m██\u001b[38;2;0;0;0m██\u001b[38;2;0;0;0m██\u001b[38;2;0;0;0m██\u001b[38;2;0;0;0m██\u001b[38;2;0;0;0m██\u001b[0m\n",
       "\u001b[0m\u001b[38;2;0;0;0m██\u001b[38;2;0;0;0m██\u001b[38;2;0;0;0m██\u001b[38;2;0;0;0m██\u001b[38;2;0;0;0m██\u001b[38;2;0;0;0m██\u001b[38;2;0;0;0m██\u001b[38;2;255;255;255m██\u001b[38;2;255;255;255m██\u001b[38;2;255;255;255m██\u001b[38;2;0;0;0m██\u001b[38;2;0;0;0m██\u001b[38;2;0;0;0m██\u001b[38;2;0;0;0m██\u001b[38;2;0;0;0m██\u001b[38;2;0;0;0m██\u001b[0m\n",
       "\u001b[0m\u001b[38;2;0;0;0m██\u001b[38;2;0;0;0m██\u001b[38;2;0;0;0m██\u001b[38;2;0;0;0m██\u001b[38;2;0;0;0m██\u001b[38;2;0;0;0m██\u001b[38;2;0;0;0m██\u001b[38;2;255;255;255m██\u001b[38;2;255;255;255m██\u001b[38;2;255;255;255m██\u001b[38;2;0;0;0m██\u001b[38;2;0;0;0m██\u001b[38;2;0;0;0m██\u001b[38;2;0;0;0m██\u001b[38;2;0;0;0m██\u001b[38;2;0;0;0m██\u001b[0m\n",
       "\u001b[0m\u001b[38;2;0;0;0m██\u001b[38;2;0;0;0m██\u001b[38;2;0;0;0m██\u001b[38;2;0;0;0m██\u001b[38;2;0;0;0m██\u001b[38;2;0;0;0m██\u001b[38;2;0;0;0m██\u001b[38;2;255;255;255m██\u001b[38;2;255;255;255m██\u001b[38;2;0;0;0m██\u001b[38;2;0;0;0m██\u001b[38;2;0;0;0m██\u001b[38;2;0;0;0m██\u001b[38;2;0;0;0m██\u001b[38;2;0;0;0m██\u001b[38;2;0;0;0m██\u001b[0m"
      ]
     },
     "execution_count": 84,
     "metadata": {},
     "output_type": "execute_result"
    }
   ],
   "source": [
    "i = rand(data_distribution)\n",
    "@show i\n",
    "decode(X[:,i], number_of_rows = number_of_rows, number_of_cols = number_of_cols) |> img -> Gray.(img)"
   ]
  },
  {
   "cell_type": "markdown",
   "id": "e188cdf2-fda0-48cf-bbb6-973b529cd270",
   "metadata": {},
   "source": [
    "## Task 2: What happens in a feedforward and feedback pass?\n",
    "In this task, let's assume some random values for the parameters $\\mathbf{W}$, $\\mathbf{a}$ and $\\mathbf{b}$ and see what happens when we do a combined _feedforward_ and _feedback_ pass through the restricted Boltzmann machine.\n",
    "\n",
    "First, let's build a model. We'll create an instance of [the `MyRestrictedBoltzmannMachineModel` type](src/Types.jl) with random values for the $\\mathbf{W}$, $\\mathbf{a}$ and $\\mathbf{b}$  parameters.\n",
    "* _What is `randn(...)`_? The [`randn(...)` method](https://docs.julialang.org/en/v1/stdlib/Random/#Base.randn) generates normally distributed random numbers with mean `0` and standard deviation `1`. "
   ]
  },
  {
   "cell_type": "code",
   "execution_count": 13,
   "id": "eea971a1-0a55-4d4c-b3ad-d7f49846619c",
   "metadata": {},
   "outputs": [],
   "source": [
    "model = let \n",
    "    \n",
    "    # initialize some random weights and biases\n",
    "    W = 2*randn(number_of_visible_nodes, number_of_hidden_nodes);\n",
    "    a = randn(number_of_visible_nodes)\n",
    "    b = randn(number_of_hidden_nodes);\n",
    "\n",
    "    # next, build the model -\n",
    "    model = build(MyRestrictedBoltzmannMachineModel, (\n",
    "        W = W,\n",
    "        a = a,\n",
    "        b = b,\n",
    "    ));\n",
    "\n",
    "    # return -\n",
    "    model;\n",
    "end;"
   ]
  },
  {
   "cell_type": "markdown",
   "id": "4dc4831a-89a6-452c-bd5c-0f5198f245d5",
   "metadata": {},
   "source": [
    "__Sample__. We've implemented the restricted Boltzmann machine's feedforward and feedback passes in [the `simulate(...)` method](src/Compute.jl).\n",
    "* _What is going on_? Break up into groups and describe to each other what is going on in the feedforward and feedback passes of the RBM. The code is in the [Compute.jl](src/Compute.jl) file of you want to check it out."
   ]
  },
  {
   "cell_type": "code",
   "execution_count": 86,
   "id": "f36c979c-516a-4a06-84ec-22a4abf3f654",
   "metadata": {},
   "outputs": [],
   "source": [
    "(vₒ,v, h) = let\n",
    "\n",
    "    # draw a random index from the data distribution\n",
    "    i = rand(data_distribution);\n",
    "    \n",
    "    vₒ = X[:,i]; # initial visible layer values\n",
    "    (v,h) = simulate(model, vₒ, T = number_of_internal_steps, β = β);\n",
    "\n",
    "    (vₒ,v,h)\n",
    "end;"
   ]
  },
  {
   "cell_type": "code",
   "execution_count": 96,
   "id": "f710faf8-1461-4f0f-b009-ec141ddb8438",
   "metadata": {},
   "outputs": [
    {
     "data": {
      "text/plain": [
       "1024×100 Matrix{Int64}:\n",
       "  1  -1  -1  -1   1  -1  -1   1  -1  …  -1  -1  -1   1  -1   1   1  -1  -1\n",
       "  1   1   1   1   1   1   1   1   1      1   1   1   1   1   1   1   1   1\n",
       " -1   1   1  -1  -1  -1  -1   1   1      1  -1   1   1  -1   1  -1  -1   1\n",
       "  1   1   1   1   1   1   1   1  -1      1   1   1   1   1   1   1   1   1\n",
       "  1  -1  -1  -1  -1  -1  -1  -1  -1     -1   1  -1   1  -1  -1  -1  -1  -1\n",
       " -1  -1  -1  -1  -1  -1  -1  -1  -1  …  -1  -1  -1  -1  -1  -1  -1  -1  -1\n",
       " -1  -1  -1  -1  -1  -1  -1  -1  -1     -1  -1  -1  -1  -1  -1  -1   1  -1\n",
       "  1   1   1   1   1   1   1   1   1      1   1   1   1   1   1   1   1   1\n",
       " -1  -1  -1  -1  -1  -1  -1  -1   1      1  -1  -1  -1  -1  -1  -1  -1  -1\n",
       "  1   1   1   1   1   1   1   1   1      1   1   1   1   1   1   1   1   1\n",
       " -1  -1  -1  -1  -1   1  -1  -1  -1  …  -1  -1  -1  -1  -1  -1  -1  -1  -1\n",
       "  1  -1  -1   1  -1   1   1   1  -1      1   1   1  -1  -1  -1   1   1   1\n",
       "  1   1   1   1   1   1   1   1  -1      1   1   1   1   1   1   1   1   1\n",
       "  ⋮                   ⋮              ⋱                   ⋮              \n",
       "  1  -1  -1   1  -1   1   1  -1   1      1   1  -1   1   1   1   1  -1   1\n",
       " -1  -1  -1  -1  -1  -1  -1  -1  -1     -1  -1  -1  -1  -1  -1  -1  -1  -1\n",
       "  1   1   1   1   1   1  -1   1   1      1   1   1   1   1   1   1   1   1\n",
       " -1  -1  -1  -1  -1  -1   1  -1   1  …  -1  -1  -1   1  -1   1  -1  -1  -1\n",
       " -1  -1  -1  -1  -1  -1  -1  -1  -1     -1  -1  -1  -1  -1  -1  -1  -1  -1\n",
       "  1   1   1   1   1   1   1   1   1      1  -1   1   1   1   1   1   1   1\n",
       " -1  -1  -1  -1  -1  -1  -1  -1  -1     -1   1  -1  -1  -1  -1  -1  -1  -1\n",
       "  1   1   1   1  -1  -1   1   1   1      1   1   1   1   1   1   1   1   1\n",
       " -1  -1  -1  -1  -1  -1  -1  -1  -1  …  -1  -1  -1  -1  -1  -1  -1  -1  -1\n",
       " -1  -1  -1  -1  -1  -1  -1  -1  -1     -1  -1  -1  -1  -1  -1  -1  -1  -1\n",
       " -1  -1  -1  -1  -1  -1  -1  -1  -1     -1  -1  -1  -1  -1  -1  -1  -1  -1\n",
       "  1   1   1   1   1   1   1   1   1      1   1   1   1   1   1   1   1   1"
      ]
     },
     "execution_count": 96,
     "metadata": {},
     "output_type": "execute_result"
    }
   ],
   "source": [
    "h"
   ]
  },
  {
   "cell_type": "markdown",
   "id": "57b4544c-e940-439d-b403-02f18156a46f",
   "metadata": {},
   "source": [
    "__What are we giving the RBM__? We specify the initial condition for the _visible layer_ by drawing a sample $\\mathbf{v}_{\\circ}\\sim{P}(\\mathbf{x})_{\\text{data}}$ using the data distribution $P(\\mathbf{x})_{\\text{data}}$ that we estimated in `task 1`. What is that sample?"
   ]
  },
  {
   "cell_type": "code",
   "execution_count": 88,
   "id": "b669ebd4-cf61-4cff-9b2d-5418b1661292",
   "metadata": {},
   "outputs": [
    {
     "data": {
      "image/png": "[encoded data removed]",
      "text/html": [
       "<img src=\"data:image/png;base64,iVBORw0KGgoAAAANSUhEUgAAAHAAAABwCAAAAADji6uXAAAAAXNSR0IArs4c6QAAAARnQU1BAACxjwv8YQUAAAAgY0hSTQAAeiYAAICEAAD6AAAAgOgAAHUwAADqYAAAOpgAABdwnLpRPAAAAPdJREFUaAW9wTFuxDAQwEAuwP9/WQFUpbAj+w7hjJwtLgyfkZjEJCYxiUlMPrT4bXhKYhKTmMQkJjE5G+4ttsU2HElMYhKTmMQkJt8ZtsVTEpOYxCQmMYlJTGISk5jEJCYx+c7iJYlJTGISk5jE5K3FVyQmMYlJTGISk7PFU4ttuCcxiUlMYhKTmHxouLA4kpjEJCYxiUlMzoaXFttwQWISk5jEJCYxiUlMYhKTmMQkJv9guCcxiUlMYhKTmMQkJjGJSUxiEpMri204Wvw2HElMYhKTmMQkJleGbfHU8JTEJCYxiUlMYvKHYVvcG16SmMQkJjGJSewHmk0QwgwgojUAAAAASUVORK5C\">"
      ],
      "text/plain": [
       "\u001b[0m\u001b[38;2;0;0;0m██\u001b[38;2;0;0;0m██\u001b[38;2;0;0;0m██\u001b[38;2;0;0;0m██\u001b[38;2;0;0;0m██\u001b[38;2;255;255;255m██\u001b[38;2;255;255;255m██\u001b[38;2;255;255;255m██\u001b[38;2;0;0;0m██\u001b[38;2;0;0;0m██\u001b[38;2;0;0;0m██\u001b[38;2;0;0;0m██\u001b[38;2;0;0;0m██\u001b[38;2;0;0;0m██\u001b[38;2;0;0;0m██\u001b[38;2;0;0;0m██\u001b[0m\n",
       "\u001b[0m\u001b[38;2;0;0;0m██\u001b[38;2;0;0;0m██\u001b[38;2;0;0;0m██\u001b[38;2;0;0;0m██\u001b[38;2;0;0;0m██\u001b[38;2;255;255;255m██\u001b[38;2;255;255;255m██\u001b[38;2;255;255;255m██\u001b[38;2;255;255;255m██\u001b[38;2;255;255;255m██\u001b[38;2;0;0;0m██\u001b[38;2;0;0;0m██\u001b[38;2;0;0;0m██\u001b[38;2;0;0;0m██\u001b[38;2;0;0;0m██\u001b[38;2;0;0;0m██\u001b[0m\n",
       "\u001b[0m\u001b[38;2;0;0;0m██\u001b[38;2;0;0;0m██\u001b[38;2;0;0;0m██\u001b[38;2;0;0;0m██\u001b[38;2;0;0;0m██\u001b[38;2;0;0;0m██\u001b[38;2;0;0;0m██\u001b[38;2;0;0;0m██\u001b[38;2;0;0;0m██\u001b[38;2;255;255;255m██\u001b[38;2;255;255;255m██\u001b[38;2;0;0;0m██\u001b[38;2;0;0;0m██\u001b[38;2;0;0;0m██\u001b[38;2;0;0;0m██\u001b[38;2;0;0;0m██\u001b[0m\n",
       "\u001b[0m\u001b[38;2;0;0;0m██\u001b[38;2;0;0;0m██\u001b[38;2;0;0;0m██\u001b[38;2;0;0;0m██\u001b[38;2;0;0;0m██\u001b[38;2;0;0;0m██\u001b[38;2;0;0;0m██\u001b[38;2;0;0;0m██\u001b[38;2;0;0;0m██\u001b[38;2;0;0;0m██\u001b[38;2;255;255;255m██\u001b[38;2;0;0;0m██\u001b[38;2;0;0;0m██\u001b[38;2;0;0;0m██\u001b[38;2;0;0;0m██\u001b[38;2;0;0;0m██\u001b[0m\n",
       "\u001b[0m\u001b[38;2;0;0;0m██\u001b[38;2;0;0;0m██\u001b[38;2;0;0;0m██\u001b[38;2;0;0;0m██\u001b[38;2;0;0;0m██\u001b[38;2;0;0;0m██\u001b[38;2;0;0;0m██\u001b[38;2;0;0;0m██\u001b[38;2;0;0;0m██\u001b[38;2;0;0;0m██\u001b[38;2;255;255;255m██\u001b[38;2;0;0;0m██\u001b[38;2;0;0;0m██\u001b[38;2;0;0;0m██\u001b[38;2;0;0;0m██\u001b[38;2;0;0;0m██\u001b[0m\n",
       "\u001b[0m\u001b[38;2;0;0;0m██\u001b[38;2;0;0;0m██\u001b[38;2;0;0;0m██\u001b[38;2;0;0;0m██\u001b[38;2;0;0;0m██\u001b[38;2;0;0;0m██\u001b[38;2;0;0;0m██\u001b[38;2;0;0;0m██\u001b[38;2;0;0;0m██\u001b[38;2;255;255;255m██\u001b[38;2;255;255;255m██\u001b[38;2;0;0;0m██\u001b[38;2;0;0;0m██\u001b[38;2;0;0;0m██\u001b[38;2;0;0;0m██\u001b[38;2;0;0;0m██\u001b[0m\n",
       "\u001b[0m\u001b[38;2;0;0;0m██\u001b[38;2;0;0;0m██\u001b[38;2;0;0;0m██\u001b[38;2;0;0;0m██\u001b[38;2;0;0;0m██\u001b[38;2;0;0;0m██\u001b[38;2;0;0;0m██\u001b[38;2;255;255;255m██\u001b[38;2;255;255;255m██\u001b[38;2;255;255;255m██\u001b[38;2;255;255;255m██\u001b[38;2;0;0;0m██\u001b[38;2;0;0;0m██\u001b[38;2;0;0;0m██\u001b[38;2;0;0;0m██\u001b[38;2;0;0;0m██\u001b[0m\n",
       "\u001b[0m\u001b[38;2;0;0;0m██\u001b[38;2;0;0;0m██\u001b[38;2;0;0;0m██\u001b[38;2;0;0;0m██\u001b[38;2;0;0;0m██\u001b[38;2;255;255;255m██\u001b[38;2;255;255;255m██\u001b[38;2;255;255;255m██\u001b[38;2;255;255;255m██\u001b[38;2;255;255;255m██\u001b[38;2;255;255;255m██\u001b[38;2;255;255;255m██\u001b[38;2;0;0;0m██\u001b[38;2;0;0;0m██\u001b[38;2;0;0;0m██\u001b[38;2;0;0;0m██\u001b[0m\n",
       "\u001b[0m\u001b[38;2;0;0;0m██\u001b[38;2;0;0;0m██\u001b[38;2;0;0;0m██\u001b[38;2;0;0;0m██\u001b[38;2;0;0;0m██\u001b[38;2;255;255;255m██\u001b[38;2;255;255;255m██\u001b[38;2;255;255;255m██\u001b[38;2;0;0;0m██\u001b[38;2;0;0;0m██\u001b[38;2;0;0;0m██\u001b[38;2;255;255;255m██\u001b[38;2;0;0;0m██\u001b[38;2;0;0;0m██\u001b[38;2;0;0;0m██\u001b[38;2;0;0;0m██\u001b[0m\n",
       "\u001b[0m\u001b[38;2;0;0;0m██\u001b[38;2;0;0;0m██\u001b[38;2;0;0;0m██\u001b[38;2;0;0;0m██\u001b[38;2;0;0;0m██\u001b[38;2;0;0;0m██\u001b[38;2;0;0;0m██\u001b[38;2;0;0;0m██\u001b[38;2;0;0;0m██\u001b[38;2;0;0;0m██\u001b[38;2;0;0;0m██\u001b[38;2;255;255;255m██\u001b[38;2;255;255;255m██\u001b[38;2;0;0;0m██\u001b[38;2;0;0;0m██\u001b[38;2;0;0;0m██\u001b[0m\n",
       "\u001b[0m\u001b[38;2;0;0;0m██\u001b[38;2;0;0;0m██\u001b[38;2;0;0;0m██\u001b[38;2;0;0;0m██\u001b[38;2;0;0;0m██\u001b[38;2;0;0;0m██\u001b[38;2;0;0;0m██\u001b[38;2;0;0;0m██\u001b[38;2;0;0;0m██\u001b[38;2;0;0;0m██\u001b[38;2;0;0;0m██\u001b[38;2;255;255;255m██\u001b[38;2;255;255;255m██\u001b[38;2;0;0;0m██\u001b[38;2;0;0;0m██\u001b[38;2;0;0;0m██\u001b[0m\n",
       "\u001b[0m\u001b[38;2;0;0;0m██\u001b[38;2;0;0;0m██\u001b[38;2;0;0;0m██\u001b[38;2;0;0;0m██\u001b[38;2;0;0;0m██\u001b[38;2;0;0;0m██\u001b[38;2;0;0;0m██\u001b[38;2;0;0;0m██\u001b[38;2;0;0;0m██\u001b[38;2;0;0;0m██\u001b[38;2;0;0;0m██\u001b[38;2;255;255;255m██\u001b[38;2;0;0;0m██\u001b[38;2;0;0;0m██\u001b[38;2;0;0;0m██\u001b[38;2;0;0;0m██\u001b[0m\n",
       "\u001b[0m\u001b[38;2;0;0;0m██\u001b[38;2;0;0;0m██\u001b[38;2;0;0;0m██\u001b[38;2;0;0;0m██\u001b[38;2;0;0;0m██\u001b[38;2;0;0;0m██\u001b[38;2;0;0;0m██\u001b[38;2;0;0;0m██\u001b[38;2;0;0;0m██\u001b[38;2;0;0;0m██\u001b[38;2;0;0;0m██\u001b[38;2;255;255;255m██\u001b[38;2;0;0;0m██\u001b[38;2;0;0;0m██\u001b[38;2;0;0;0m██\u001b[38;2;0;0;0m██\u001b[0m\n",
       "\u001b[0m\u001b[38;2;0;0;0m██\u001b[38;2;0;0;0m██\u001b[38;2;0;0;0m██\u001b[38;2;255;255;255m██\u001b[38;2;0;0;0m██\u001b[38;2;0;0;0m██\u001b[38;2;0;0;0m██\u001b[38;2;0;0;0m██\u001b[38;2;0;0;0m██\u001b[38;2;255;255;255m██\u001b[38;2;255;255;255m██\u001b[38;2;0;0;0m██\u001b[38;2;0;0;0m██\u001b[38;2;0;0;0m██\u001b[38;2;0;0;0m██\u001b[38;2;0;0;0m██\u001b[0m\n",
       "\u001b[0m\u001b[38;2;0;0;0m██\u001b[38;2;0;0;0m██\u001b[38;2;0;0;0m██\u001b[38;2;0;0;0m██\u001b[38;2;255;255;255m██\u001b[38;2;255;255;255m██\u001b[38;2;255;255;255m██\u001b[38;2;255;255;255m██\u001b[38;2;255;255;255m██\u001b[38;2;255;255;255m██\u001b[38;2;0;0;0m██\u001b[38;2;0;0;0m██\u001b[38;2;0;0;0m██\u001b[38;2;0;0;0m██\u001b[38;2;0;0;0m██\u001b[38;2;0;0;0m██\u001b[0m\n",
       "\u001b[0m\u001b[38;2;0;0;0m██\u001b[38;2;0;0;0m██\u001b[38;2;0;0;0m██\u001b[38;2;0;0;0m██\u001b[38;2;0;0;0m██\u001b[38;2;255;255;255m██\u001b[38;2;255;255;255m██\u001b[38;2;255;255;255m██\u001b[38;2;255;255;255m██\u001b[38;2;0;0;0m██\u001b[38;2;0;0;0m██\u001b[38;2;0;0;0m██\u001b[38;2;0;0;0m██\u001b[38;2;0;0;0m██\u001b[38;2;0;0;0m██\u001b[38;2;0;0;0m██\u001b[0m"
      ]
     },
     "execution_count": 88,
     "metadata": {},
     "output_type": "execute_result"
    }
   ],
   "source": [
    "decode(vₒ, number_of_rows = number_of_rows, number_of_cols = number_of_cols) |> img -> Gray.(img)"
   ]
  },
  {
   "cell_type": "markdown",
   "id": "d5cefef0-fa0a-48d4-9579-81687366e34c",
   "metadata": {},
   "source": [
    "__After a single pass, what do we see__? We gave $\\mathbf{v}_{\\circ}$, and then did `number_of_internal_steps::Int` number of internal steps, i.e., $n$-feedforward steps which generated $\\mathbf{h}_{1},\\dots,\\mathbf{h}_{n}$. From that sequence, we grab the last value, and then we generate $\\mathbf{v}_{1},\\dots,\\mathbf{v}_{n}$ feedback steps _starting_ from $\\mathbf{h}_{n}$."
   ]
  },
  {
   "cell_type": "code",
   "execution_count": 90,
   "id": "a2bdeacf-904c-4d5a-a09f-7e27c3a5c114",
   "metadata": {},
   "outputs": [
    {
     "data": {
      "image/png": "[encoded data removed]",
      "text/html": [
       "<img src=\"data:image/png;base64,iVBORw0KGgoAAAANSUhEUgAAAHAAAABwCAAAAADji6uXAAAAAXNSR0IArs4c6QAAAARnQU1BAACxjwv8YQUAAAAgY0hSTQAAeiYAAICEAAD6AAAAgOgAAHUwAADqYAAAOpgAABdwnLpRPAAAATJJREFUaAW9wVGKWwkMAMEW9P2vrAV9vYBn7HVCV8nHlqfhOxKTmMQkJjGJySvLGc7ywvI0fEpiEpOYxCQmMXlleBqeljOc5SxneEtiEpOYxCQmMfnDcoZPDWf5lMQkJjGJSUxi8ofhZ8sZ/orEJCYxiUlMYvKx4Wn5jsQkJjGJSUxi8n8tf0ViEpOYxCQmMXlv+dRyhp9JTGISk5jEJCa/WM5wlqfhheWF5QxHYhKTmMQkJjH5xfA0vDWc5QxneJKYxCQmMYlJTP6l5S2JSUxiEpOYxORLyxleGH4mMYlJTGISk5h8afiOxCQmMYlJTGLyynKGt5YznOFny5GYxCQmMYlJTF4ZzvI0nOUMZ/jUcCQmMYlJTGISk18MZznL03KGF5YznOUMR2ISk5jEJCax/wCwqiDGkDc8qwAAAABJRU5ErkJg\">"
      ],
      "text/plain": [
       "\u001b[0m\u001b[38;2;0;0;0m██\u001b[38;2;0;0;0m██\u001b[38;2;0;0;0m██\u001b[38;2;0;0;0m██\u001b[38;2;0;0;0m██\u001b[38;2;0;0;0m██\u001b[38;2;255;255;255m██\u001b[38;2;255;255;255m██\u001b[38;2;0;0;0m██\u001b[38;2;0;0;0m██\u001b[38;2;0;0;0m██\u001b[38;2;0;0;0m██\u001b[38;2;0;0;0m██\u001b[38;2;0;0;0m██\u001b[38;2;0;0;0m██\u001b[38;2;0;0;0m██\u001b[0m\n",
       "\u001b[0m\u001b[38;2;0;0;0m██\u001b[38;2;0;0;0m██\u001b[38;2;0;0;0m██\u001b[38;2;255;255;255m██\u001b[38;2;0;0;0m██\u001b[38;2;255;255;255m██\u001b[38;2;255;255;255m██\u001b[38;2;255;255;255m██\u001b[38;2;255;255;255m██\u001b[38;2;255;255;255m██\u001b[38;2;0;0;0m██\u001b[38;2;0;0;0m██\u001b[38;2;0;0;0m██\u001b[38;2;0;0;0m██\u001b[38;2;0;0;0m██\u001b[38;2;0;0;0m██\u001b[0m\n",
       "\u001b[0m\u001b[38;2;0;0;0m██\u001b[38;2;0;0;0m██\u001b[38;2;0;0;0m██\u001b[38;2;0;0;0m██\u001b[38;2;0;0;0m██\u001b[38;2;0;0;0m██\u001b[38;2;0;0;0m██\u001b[38;2;255;255;255m██\u001b[38;2;0;0;0m██\u001b[38;2;255;255;255m██\u001b[38;2;255;255;255m██\u001b[38;2;0;0;0m██\u001b[38;2;0;0;0m██\u001b[38;2;0;0;0m██\u001b[38;2;0;0;0m██\u001b[38;2;0;0;0m██\u001b[0m\n",
       "\u001b[0m\u001b[38;2;0;0;0m██\u001b[38;2;0;0;0m██\u001b[38;2;255;255;255m██\u001b[38;2;0;0;0m██\u001b[38;2;0;0;0m██\u001b[38;2;0;0;0m██\u001b[38;2;0;0;0m██\u001b[38;2;255;255;255m██\u001b[38;2;0;0;0m██\u001b[38;2;0;0;0m██\u001b[38;2;255;255;255m██\u001b[38;2;0;0;0m██\u001b[38;2;0;0;0m██\u001b[38;2;0;0;0m██\u001b[38;2;0;0;0m██\u001b[38;2;0;0;0m██\u001b[0m\n",
       "\u001b[0m\u001b[38;2;0;0;0m██\u001b[38;2;0;0;0m██\u001b[38;2;0;0;0m██\u001b[38;2;0;0;0m██\u001b[38;2;0;0;0m██\u001b[38;2;0;0;0m██\u001b[38;2;255;255;255m██\u001b[38;2;0;0;0m██\u001b[38;2;0;0;0m██\u001b[38;2;0;0;0m██\u001b[38;2;255;255;255m██\u001b[38;2;0;0;0m██\u001b[38;2;0;0;0m██\u001b[38;2;0;0;0m██\u001b[38;2;0;0;0m██\u001b[38;2;0;0;0m██\u001b[0m\n",
       "\u001b[0m\u001b[38;2;0;0;0m██\u001b[38;2;0;0;0m██\u001b[38;2;0;0;0m██\u001b[38;2;0;0;0m██\u001b[38;2;0;0;0m██\u001b[38;2;0;0;0m██\u001b[38;2;0;0;0m██\u001b[38;2;0;0;0m██\u001b[38;2;255;255;255m██\u001b[38;2;255;255;255m██\u001b[38;2;255;255;255m██\u001b[38;2;0;0;0m██\u001b[38;2;0;0;0m██\u001b[38;2;0;0;0m██\u001b[38;2;0;0;0m██\u001b[38;2;0;0;0m██\u001b[0m\n",
       "\u001b[0m\u001b[38;2;0;0;0m██\u001b[38;2;0;0;0m██\u001b[38;2;0;0;0m██\u001b[38;2;0;0;0m██\u001b[38;2;0;0;0m██\u001b[38;2;0;0;0m██\u001b[38;2;0;0;0m██\u001b[38;2;255;255;255m██\u001b[38;2;255;255;255m██\u001b[38;2;255;255;255m██\u001b[38;2;255;255;255m██\u001b[38;2;0;0;0m██\u001b[38;2;0;0;0m██\u001b[38;2;0;0;0m██\u001b[38;2;0;0;0m██\u001b[38;2;0;0;0m██\u001b[0m\n",
       "\u001b[0m\u001b[38;2;0;0;0m██\u001b[38;2;0;0;0m██\u001b[38;2;0;0;0m██\u001b[38;2;0;0;0m██\u001b[38;2;0;0;0m██\u001b[38;2;255;255;255m██\u001b[38;2;255;255;255m██\u001b[38;2;255;255;255m██\u001b[38;2;255;255;255m██\u001b[38;2;255;255;255m██\u001b[38;2;255;255;255m██\u001b[38;2;255;255;255m██\u001b[38;2;0;0;0m██\u001b[38;2;0;0;0m██\u001b[38;2;0;0;0m██\u001b[38;2;0;0;0m██\u001b[0m\n",
       "\u001b[0m\u001b[38;2;0;0;0m██\u001b[38;2;0;0;0m██\u001b[38;2;0;0;0m██\u001b[38;2;0;0;0m██\u001b[38;2;255;255;255m██\u001b[38;2;0;0;0m██\u001b[38;2;255;255;255m██\u001b[38;2;255;255;255m██\u001b[38;2;0;0;0m██\u001b[38;2;0;0;0m██\u001b[38;2;0;0;0m██\u001b[38;2;255;255;255m██\u001b[38;2;0;0;0m██\u001b[38;2;0;0;0m██\u001b[38;2;255;255;255m██\u001b[38;2;0;0;0m██\u001b[0m\n",
       "\u001b[0m\u001b[38;2;0;0;0m██\u001b[38;2;0;0;0m██\u001b[38;2;0;0;0m██\u001b[38;2;0;0;0m██\u001b[38;2;0;0;0m██\u001b[38;2;0;0;0m██\u001b[38;2;0;0;0m██\u001b[38;2;0;0;0m██\u001b[38;2;0;0;0m██\u001b[38;2;0;0;0m██\u001b[38;2;0;0;0m██\u001b[38;2;0;0;0m██\u001b[38;2;255;255;255m██\u001b[38;2;0;0;0m██\u001b[38;2;0;0;0m██\u001b[38;2;0;0;0m██\u001b[0m\n",
       "\u001b[0m\u001b[38;2;0;0;0m██\u001b[38;2;0;0;0m██\u001b[38;2;0;0;0m██\u001b[38;2;0;0;0m██\u001b[38;2;0;0;0m██\u001b[38;2;0;0;0m██\u001b[38;2;0;0;0m██\u001b[38;2;0;0;0m██\u001b[38;2;0;0;0m██\u001b[38;2;0;0;0m██\u001b[38;2;0;0;0m██\u001b[38;2;255;255;255m██\u001b[38;2;255;255;255m██\u001b[38;2;0;0;0m██\u001b[38;2;0;0;0m██\u001b[38;2;0;0;0m██\u001b[0m\n",
       "\u001b[0m\u001b[38;2;0;0;0m██\u001b[38;2;0;0;0m██\u001b[38;2;0;0;0m██\u001b[38;2;0;0;0m██\u001b[38;2;0;0;0m██\u001b[38;2;0;0;0m██\u001b[38;2;0;0;0m██\u001b[38;2;0;0;0m██\u001b[38;2;255;255;255m██\u001b[38;2;0;0;0m██\u001b[38;2;0;0;0m██\u001b[38;2;255;255;255m██\u001b[38;2;0;0;0m██\u001b[38;2;0;0;0m██\u001b[38;2;0;0;0m██\u001b[38;2;0;0;0m██\u001b[0m\n",
       "\u001b[0m\u001b[38;2;0;0;0m██\u001b[38;2;0;0;0m██\u001b[38;2;0;0;0m██\u001b[38;2;0;0;0m██\u001b[38;2;0;0;0m██\u001b[38;2;0;0;0m██\u001b[38;2;0;0;0m██\u001b[38;2;0;0;0m██\u001b[38;2;0;0;0m██\u001b[38;2;0;0;0m██\u001b[38;2;0;0;0m██\u001b[38;2;255;255;255m██\u001b[38;2;0;0;0m██\u001b[38;2;0;0;0m██\u001b[38;2;0;0;0m██\u001b[38;2;0;0;0m██\u001b[0m\n",
       "\u001b[0m\u001b[38;2;0;0;0m██\u001b[38;2;0;0;0m██\u001b[38;2;0;0;0m██\u001b[38;2;255;255;255m██\u001b[38;2;0;0;0m██\u001b[38;2;0;0;0m██\u001b[38;2;0;0;0m██\u001b[38;2;0;0;0m██\u001b[38;2;0;0;0m██\u001b[38;2;255;255;255m██\u001b[38;2;0;0;0m██\u001b[38;2;0;0;0m██\u001b[38;2;0;0;0m██\u001b[38;2;0;0;0m██\u001b[38;2;0;0;0m██\u001b[38;2;255;255;255m██\u001b[0m\n",
       "\u001b[0m\u001b[38;2;0;0;0m██\u001b[38;2;0;0;0m██\u001b[38;2;0;0;0m██\u001b[38;2;0;0;0m██\u001b[38;2;255;255;255m██\u001b[38;2;255;255;255m██\u001b[38;2;0;0;0m██\u001b[38;2;255;255;255m██\u001b[38;2;0;0;0m██\u001b[38;2;0;0;0m██\u001b[38;2;0;0;0m██\u001b[38;2;0;0;0m██\u001b[38;2;0;0;0m██\u001b[38;2;0;0;0m██\u001b[38;2;0;0;0m██\u001b[38;2;0;0;0m██\u001b[0m\n",
       "\u001b[0m\u001b[38;2;0;0;0m██\u001b[38;2;0;0;0m██\u001b[38;2;0;0;0m██\u001b[38;2;0;0;0m██\u001b[38;2;0;0;0m██\u001b[38;2;255;255;255m██\u001b[38;2;255;255;255m██\u001b[38;2;255;255;255m██\u001b[38;2;255;255;255m██\u001b[38;2;0;0;0m██\u001b[38;2;0;0;0m██\u001b[38;2;0;0;0m██\u001b[38;2;255;255;255m██\u001b[38;2;0;0;0m██\u001b[38;2;255;255;255m██\u001b[38;2;0;0;0m██\u001b[0m"
      ]
     },
     "metadata": {},
     "output_type": "display_data"
    },
    {
     "name": "stdout",
     "output_type": "stream",
     "text": [
      "Turn index = 100\n"
     ]
    }
   ],
   "source": [
    "let\n",
    "    do_I_want_to_see_a_movie = true; # set this flag to watch the frames\n",
    "    if (do_I_want_to_see_a_movie == true)\n",
    "        for i ∈ 1:number_of_internal_steps\n",
    "            img = decode(v[:,i], number_of_rows = number_of_rows, number_of_cols = number_of_cols);\n",
    "            display(Gray.(img))\n",
    "            println(\"Turn index = $(i)\")\n",
    "            IJulia.clear_output(true) # may not work in VSCode?\n",
    "            sleep(0.1) # add some delay\n",
    "        end\n",
    "    end\n",
    "end"
   ]
  },
  {
   "cell_type": "markdown",
   "id": "3c1987d4-5c0e-4a0a-bbc3-64ad24457112",
   "metadata": {},
   "source": [
    "__What does the hidden layer look like?__ A strange (and frustrating) thing about deep learning and neural networks in general is the lack of interpretability. Let's visualize how the _hidden_ layer is changing during the $n$ feedforward steps."
   ]
  },
  {
   "cell_type": "code",
   "execution_count": 92,
   "id": "77cce264-80f3-4614-971c-22795eb2f51b",
   "metadata": {},
   "outputs": [
    {
     "data": {
      "image/png": "[encoded data removed]",
      "text/html": [
       "<img src=\"data:image/png;base64,iVBORw0KGgoAAAANSUhEUgAAAIAAAACACAAAAADmVT4XAAAAAXNSR0IArs4c6QAAAARnQU1BAACxjwv8YQUAAAAgY0hSTQAAeiYAAICEAAD6AAAAgOgAAHUwAADqYAAAOpgAABdwnLpRPAAAAvdJREFUeAHFwVuKYNkNBMBI0P63nC5Qw5lLtR/4RxHjRz3xFEER1BOrCGrFKoJaQRFf49g4No6NfwjqqwiKWPVVK1atWkER1Nc4No6NY1Mrfov/rIi/C4qgVhEUQTGOjWPj2PgR1IqniBXUU8RXEQS1ilhFPcE4No6NY+NHrVhFENR/Vyue+KonKIJxbBwbx8aPoL6KWEE9QVErVhFP/WfFODaOjWPjj6CeoFYRFEE9sYpYtYIiqBUrKMaxcWwcm6AIYhVFUKuIFX9XxFdQxFetcWwcG8fGH0WsWEVQX/XEV62giFUERTzj2Dg2jk0Rq574rVasoogVFPEUQVGrVjCOjWPj2ARFrKB+C+orVq0iqN9iFUGtcWwcG8emVhFPEStWUNQKiqD+P+PYODaOTaz6iqcIagX1W6x4inqCesaxcWwcG3/Eb0UQvwVFrFj1BLGKWPGMY+PYODZ+FEERxIpVBEE9sYqgiK8iVq2g1jg2jo1j4x+CIn4rgqCeeIJaQa0i/m4cG8fGsamn/i6oVQS16qmniL8rYo1j49g4NkFRBEUR1AqCIijif1dPEBTBODaOjWNTBPUERVBPrKC+4t8LiqBWrHFsHBvHxo8iqFWr/q4Iilj1FRTxFasIxrFxbBwbP+K3oIiv+iriiSdWEdSKZxwbx8ax8RfxVQT1FEGtWEWs+grqaxwbx8ax8aOeeOIrqBUUsWoFRRBPrfgax8axcWz8ERT1BEVQK1Y99RWrCOqrCIpxbBwbx8Yf9RVPEasIYhWx6qknVq2gCMaxcWwcGz+CIlatIqhVBLWCoJ564rciCIpxbBwbx8aPeuqJr6AI6iu+iiJWPUWscWwcG8fGH0ERFEWsoIhVBEWsIiiCoFatoIhnHBvHxrGJryL+rgjqqRVPEatWUMQTjGPj2Dg29RXUExTxBLXiqRXUb0GtWOPYODaOjR+xilqx6imCIlYRKyhqxSpqBbWKcWwcG8fGjyJWfAX1WxGrVqygvoJa8Yxj49g49i/nawIQWw+8ngAAAABJRU5ErkJg\">"
      ],
      "text/plain": [
       "\u001b[0m\u001b[38;2;0;0;0;48;2;0;0;0m▀\u001b[38;2;255;255;255;48;2;255;255;255m▀\u001b[38;2;255;255;255;48;2;255;255;255m▀\u001b[38;2;255;255;255;48;2;0;0;0m▀\u001b[38;2;0;0;0;48;2;255;255;255m▀\u001b[38;2;0;0;0;48;2;255;255;255m▀\u001b[38;2;0;0;0;48;2;255;255;255m▀\u001b[38;2;255;255;255;48;2;255;255;255m▀\u001b[38;2;0;0;0;48;2;255;255;255m▀\u001b[38;2;255;255;255;48;2;0;0;0m▀\u001b[38;2;0;0;0;48;2;255;255;255m▀\u001b[38;2;255;255;255;48;2;0;0;0m▀\u001b[38;2;255;255;255;48;2;0;0;0m▀\u001b[38;2;255;255;255;48;2;255;255;255m▀\u001b[38;2;0;0;0;48;2;0;0;0m▀\u001b[38;2;0;0;0;48;2;0;0;0m▀\u001b[38;2;255;255;255;48;2;255;255;255m▀\u001b[38;2;0;0;0;48;2;255;255;255m▀\u001b[38;2;255;255;255;48;2;255;255;255m▀\u001b[38;2;255;255;255;48;2;0;0;0m▀\u001b[38;2;0;0;0;48;2;0;0;0m▀\u001b[38;2;0;0;0;48;2;255;255;255m▀\u001b[38;2;255;255;255;48;2;255;255;255m▀\u001b[38;2;0;0;0;48;2;255;255;255m▀\u001b[38;2;255;255;255;48;2;255;255;255m▀\u001b[38;2;255;255;255;48;2;0;0;0m▀\u001b[38;2;0;0;0;48;2;255;255;255m▀\u001b[38;2;255;255;255;48;2;0;0;0m▀\u001b[38;2;0;0;0;48;2;255;255;255m▀\u001b[38;2;0;0;0;48;2;255;255;255m▀\u001b[38;2;0;0;0;48;2;255;255;255m▀\u001b[38;2;0;0;0;48;2;255;255;255m▀\u001b[0m\n",
       "\u001b[0m\u001b[38;2;255;255;255;48;2;255;255;255m▀\u001b[38;2;255;255;255;48;2;0;0;0m▀\u001b[38;2;0;0;0;48;2;255;255;255m▀\u001b[38;2;0;0;0;48;2;255;255;255m▀\u001b[38;2;255;255;255;48;2;0;0;0m▀\u001b[38;2;255;255;255;48;2;0;0;0m▀\u001b[38;2;255;255;255;48;2;0;0;0m▀\u001b[38;2;0;0;0;48;2;255;255;255m▀\u001b[38;2;0;0;0;48;2;0;0;0m▀\u001b[38;2;0;0;0;48;2;0;0;0m▀\u001b[38;2;255;255;255;48;2;0;0;0m▀\u001b[38;2;0;0;0;48;2;255;255;255m▀\u001b[38;2;0;0;0;48;2;255;255;255m▀\u001b[38;2;255;255;255;48;2;255;255;255m▀\u001b[38;2;0;0;0;48;2;255;255;255m▀\u001b[38;2;255;255;255;48;2;0;0;0m▀\u001b[38;2;0;0;0;48;2;0;0;0m▀\u001b[38;2;0;0;0;48;2;0;0;0m▀\u001b[38;2;0;0;0;48;2;0;0;0m▀\u001b[38;2;0;0;0;48;2;255;255;255m▀\u001b[38;2;0;0;0;48;2;0;0;0m▀\u001b[38;2;255;255;255;48;2;0;0;0m▀\u001b[38;2;0;0;0;48;2;255;255;255m▀\u001b[38;2;255;255;255;48;2;255;255;255m▀\u001b[38;2;0;0;0;48;2;255;255;255m▀\u001b[38;2;255;255;255;48;2;0;0;0m▀\u001b[38;2;255;255;255;48;2;0;0;0m▀\u001b[38;2;255;255;255;48;2;255;255;255m▀\u001b[38;2;0;0;0;48;2;255;255;255m▀\u001b[38;2;255;255;255;48;2;255;255;255m▀\u001b[38;2;0;0;0;48;2;0;0;0m▀\u001b[38;2;255;255;255;48;2;0;0;0m▀\u001b[0m\n",
       "\u001b[0m\u001b[38;2;255;255;255;48;2;255;255;255m▀\u001b[38;2;255;255;255;48;2;0;0;0m▀\u001b[38;2;255;255;255;48;2;255;255;255m▀\u001b[38;2;0;0;0;48;2;0;0;0m▀\u001b[38;2;0;0;0;48;2;0;0;0m▀\u001b[38;2;255;255;255;48;2;255;255;255m▀\u001b[38;2;0;0;0;48;2;255;255;255m▀\u001b[38;2;0;0;0;48;2;0;0;0m▀\u001b[38;2;255;255;255;48;2;255;255;255m▀\u001b[38;2;255;255;255;48;2;0;0;0m▀\u001b[38;2;255;255;255;48;2;255;255;255m▀\u001b[38;2;255;255;255;48;2;255;255;255m▀\u001b[38;2;255;255;255;48;2;255;255;255m▀\u001b[38;2;255;255;255;48;2;0;0;0m▀\u001b[38;2;255;255;255;48;2;255;255;255m▀\u001b[38;2;0;0;0;48;2;255;255;255m▀\u001b[38;2;0;0;0;48;2;255;255;255m▀\u001b[38;2;255;255;255;48;2;0;0;0m▀\u001b[38;2;255;255;255;48;2;0;0;0m▀\u001b[38;2;0;0;0;48;2;255;255;255m▀\u001b[38;2;0;0;0;48;2;0;0;0m▀\u001b[38;2;0;0;0;48;2;0;0;0m▀\u001b[38;2;0;0;0;48;2;0;0;0m▀\u001b[38;2;0;0;0;48;2;255;255;255m▀\u001b[38;2;0;0;0;48;2;255;255;255m▀\u001b[38;2;0;0;0;48;2;255;255;255m▀\u001b[38;2;255;255;255;48;2;255;255;255m▀\u001b[38;2;255;255;255;48;2;255;255;255m▀\u001b[38;2;255;255;255;48;2;255;255;255m▀\u001b[38;2;0;0;0;48;2;0;0;0m▀\u001b[38;2;255;255;255;48;2;255;255;255m▀\u001b[38;2;0;0;0;48;2;255;255;255m▀\u001b[0m\n",
       "\u001b[0m\u001b[38;2;255;255;255;48;2;0;0;0m▀\u001b[38;2;0;0;0;48;2;255;255;255m▀\u001b[38;2;0;0;0;48;2;0;0;0m▀\u001b[38;2;255;255;255;48;2;0;0;0m▀\u001b[38;2;255;255;255;48;2;0;0;0m▀\u001b[38;2;255;255;255;48;2;255;255;255m▀\u001b[38;2;0;0;0;48;2;255;255;255m▀\u001b[38;2;255;255;255;48;2;0;0;0m▀\u001b[38;2;255;255;255;48;2;255;255;255m▀\u001b[38;2;255;255;255;48;2;255;255;255m▀\u001b[38;2;0;0;0;48;2;255;255;255m▀\u001b[38;2;255;255;255;48;2;0;0;0m▀\u001b[38;2;0;0;0;48;2;0;0;0m▀\u001b[38;2;255;255;255;48;2;0;0;0m▀\u001b[38;2;255;255;255;48;2;0;0;0m▀\u001b[38;2;255;255;255;48;2;0;0;0m▀\u001b[38;2;0;0;0;48;2;0;0;0m▀\u001b[38;2;0;0;0;48;2;0;0;0m▀\u001b[38;2;255;255;255;48;2;255;255;255m▀\u001b[38;2;0;0;0;48;2;255;255;255m▀\u001b[38;2;0;0;0;48;2;0;0;0m▀\u001b[38;2;255;255;255;48;2;255;255;255m▀\u001b[38;2;255;255;255;48;2;255;255;255m▀\u001b[38;2;0;0;0;48;2;0;0;0m▀\u001b[38;2;255;255;255;48;2;0;0;0m▀\u001b[38;2;0;0;0;48;2;255;255;255m▀\u001b[38;2;255;255;255;48;2;0;0;0m▀\u001b[38;2;255;255;255;48;2;0;0;0m▀\u001b[38;2;0;0;0;48;2;0;0;0m▀\u001b[38;2;0;0;0;48;2;0;0;0m▀\u001b[38;2;0;0;0;48;2;255;255;255m▀\u001b[38;2;255;255;255;48;2;255;255;255m▀\u001b[0m\n",
       "\u001b[0m\u001b[38;2;0;0;0;48;2;255;255;255m▀\u001b[38;2;255;255;255;48;2;0;0;0m▀\u001b[38;2;255;255;255;48;2;0;0;0m▀\u001b[38;2;0;0;0;48;2;255;255;255m▀\u001b[38;2;0;0;0;48;2;255;255;255m▀\u001b[38;2;0;0;0;48;2;255;255;255m▀\u001b[38;2;0;0;0;48;2;0;0;0m▀\u001b[38;2;255;255;255;48;2;255;255;255m▀\u001b[38;2;0;0;0;48;2;0;0;0m▀\u001b[38;2;255;255;255;48;2;255;255;255m▀\u001b[38;2;255;255;255;48;2;255;255;255m▀\u001b[38;2;0;0;0;48;2;255;255;255m▀\u001b[38;2;0;0;0;48;2;255;255;255m▀\u001b[38;2;255;255;255;48;2;0;0;0m▀\u001b[38;2;255;255;255;48;2;0;0;0m▀\u001b[38;2;255;255;255;48;2;255;255;255m▀\u001b[38;2;0;0;0;48;2;255;255;255m▀\u001b[38;2;0;0;0;48;2;0;0;0m▀\u001b[38;2;255;255;255;48;2;255;255;255m▀\u001b[38;2;255;255;255;48;2;0;0;0m▀\u001b[38;2;255;255;255;48;2;255;255;255m▀\u001b[38;2;255;255;255;48;2;0;0;0m▀\u001b[38;2;0;0;0;48;2;0;0;0m▀\u001b[38;2;255;255;255;48;2;255;255;255m▀\u001b[38;2;0;0;0;48;2;255;255;255m▀\u001b[38;2;255;255;255;48;2;0;0;0m▀\u001b[38;2;255;255;255;48;2;255;255;255m▀\u001b[38;2;0;0;0;48;2;255;255;255m▀\u001b[38;2;255;255;255;48;2;255;255;255m▀\u001b[38;2;0;0;0;48;2;255;255;255m▀\u001b[38;2;255;255;255;48;2;255;255;255m▀\u001b[38;2;255;255;255;48;2;0;0;0m▀\u001b[0m\n",
       "\u001b[0m\u001b[38;2;0;0;0;48;2;255;255;255m▀\u001b[38;2;255;255;255;48;2;255;255;255m▀\u001b[38;2;0;0;0;48;2;255;255;255m▀\u001b[38;2;255;255;255;48;2;0;0;0m▀\u001b[38;2;0;0;0;48;2;0;0;0m▀\u001b[38;2;255;255;255;48;2;255;255;255m▀\u001b[38;2;0;0;0;48;2;255;255;255m▀\u001b[38;2;255;255;255;48;2;0;0;0m▀\u001b[38;2;0;0;0;48;2;0;0;0m▀\u001b[38;2;255;255;255;48;2;0;0;0m▀\u001b[38;2;0;0;0;48;2;0;0;0m▀\u001b[38;2;255;255;255;48;2;0;0;0m▀\u001b[38;2;255;255;255;48;2;255;255;255m▀\u001b[38;2;0;0;0;48;2;255;255;255m▀\u001b[38;2;0;0;0;48;2;255;255;255m▀\u001b[38;2;0;0;0;48;2;0;0;0m▀\u001b[38;2;0;0;0;48;2;255;255;255m▀\u001b[38;2;255;255;255;48;2;0;0;0m▀\u001b[38;2;255;255;255;48;2;255;255;255m▀\u001b[38;2;255;255;255;48;2;255;255;255m▀\u001b[38;2;0;0;0;48;2;0;0;0m▀\u001b[38;2;255;255;255;48;2;255;255;255m▀\u001b[38;2;255;255;255;48;2;255;255;255m▀\u001b[38;2;255;255;255;48;2;255;255;255m▀\u001b[38;2;255;255;255;48;2;255;255;255m▀\u001b[38;2;0;0;0;48;2;0;0;0m▀\u001b[38;2;0;0;0;48;2;0;0;0m▀\u001b[38;2;0;0;0;48;2;0;0;0m▀\u001b[38;2;255;255;255;48;2;255;255;255m▀\u001b[38;2;0;0;0;48;2;0;0;0m▀\u001b[38;2;255;255;255;48;2;255;255;255m▀\u001b[38;2;0;0;0;48;2;0;0;0m▀\u001b[0m\n",
       "\u001b[0m\u001b[38;2;0;0;0;48;2;0;0;0m▀\u001b[38;2;0;0;0;48;2;0;0;0m▀\u001b[38;2;255;255;255;48;2;0;0;0m▀\u001b[38;2;0;0;0;48;2;0;0;0m▀\u001b[38;2;0;0;0;48;2;0;0;0m▀\u001b[38;2;255;255;255;48;2;255;255;255m▀\u001b[38;2;0;0;0;48;2;0;0;0m▀\u001b[38;2;0;0;0;48;2;255;255;255m▀\u001b[38;2;0;0;0;48;2;0;0;0m▀\u001b[38;2;255;255;255;48;2;0;0;0m▀\u001b[38;2;0;0;0;48;2;0;0;0m▀\u001b[38;2;255;255;255;48;2;255;255;255m▀\u001b[38;2;255;255;255;48;2;255;255;255m▀\u001b[38;2;0;0;0;48;2;0;0;0m▀\u001b[38;2;255;255;255;48;2;0;0;0m▀\u001b[38;2;0;0;0;48;2;255;255;255m▀\u001b[38;2;255;255;255;48;2;0;0;0m▀\u001b[38;2;0;0;0;48;2;0;0;0m▀\u001b[38;2;255;255;255;48;2;0;0;0m▀\u001b[38;2;0;0;0;48;2;0;0;0m▀\u001b[38;2;0;0;0;48;2;255;255;255m▀\u001b[38;2;0;0;0;48;2;255;255;255m▀\u001b[38;2;0;0;0;48;2;255;255;255m▀\u001b[38;2;0;0;0;48;2;0;0;0m▀\u001b[38;2;255;255;255;48;2;0;0;0m▀\u001b[38;2;255;255;255;48;2;0;0;0m▀\u001b[38;2;255;255;255;48;2;255;255;255m▀\u001b[38;2;255;255;255;48;2;0;0;0m▀\u001b[38;2;0;0;0;48;2;0;0;0m▀\u001b[38;2;255;255;255;48;2;0;0;0m▀\u001b[38;2;255;255;255;48;2;0;0;0m▀\u001b[38;2;0;0;0;48;2;0;0;0m▀\u001b[0m\n",
       "\u001b[0m\u001b[38;2;0;0;0;48;2;0;0;0m▀\u001b[38;2;255;255;255;48;2;255;255;255m▀\u001b[38;2;0;0;0;48;2;0;0;0m▀\u001b[38;2;255;255;255;48;2;0;0;0m▀\u001b[38;2;0;0;0;48;2;255;255;255m▀\u001b[38;2;0;0;0;48;2;0;0;0m▀\u001b[38;2;0;0;0;48;2;0;0;0m▀\u001b[38;2;0;0;0;48;2;0;0;0m▀\u001b[38;2;0;0;0;48;2;0;0;0m▀\u001b[38;2;255;255;255;48;2;255;255;255m▀\u001b[38;2;0;0;0;48;2;255;255;255m▀\u001b[38;2;0;0;0;48;2;0;0;0m▀\u001b[38;2;255;255;255;48;2;0;0;0m▀\u001b[38;2;0;0;0;48;2;255;255;255m▀\u001b[38;2;0;0;0;48;2;255;255;255m▀\u001b[38;2;0;0;0;48;2;255;255;255m▀\u001b[38;2;0;0;0;48;2;0;0;0m▀\u001b[38;2;255;255;255;48;2;255;255;255m▀\u001b[38;2;0;0;0;48;2;0;0;0m▀\u001b[38;2;255;255;255;48;2;0;0;0m▀\u001b[38;2;0;0;0;48;2;255;255;255m▀\u001b[38;2;0;0;0;48;2;255;255;255m▀\u001b[38;2;0;0;0;48;2;0;0;0m▀\u001b[38;2;0;0;0;48;2;255;255;255m▀\u001b[38;2;255;255;255;48;2;255;255;255m▀\u001b[38;2;0;0;0;48;2;255;255;255m▀\u001b[38;2;255;255;255;48;2;0;0;0m▀\u001b[38;2;255;255;255;48;2;0;0;0m▀\u001b[38;2;255;255;255;48;2;0;0;0m▀\u001b[38;2;0;0;0;48;2;0;0;0m▀\u001b[38;2;255;255;255;48;2;255;255;255m▀\u001b[38;2;255;255;255;48;2;255;255;255m▀\u001b[0m\n",
       "\u001b[0m\u001b[38;2;255;255;255;48;2;0;0;0m▀\u001b[38;2;255;255;255;48;2;255;255;255m▀\u001b[38;2;0;0;0;48;2;255;255;255m▀\u001b[38;2;255;255;255;48;2;0;0;0m▀\u001b[38;2;255;255;255;48;2;255;255;255m▀\u001b[38;2;0;0;0;48;2;255;255;255m▀\u001b[38;2;0;0;0;48;2;0;0;0m▀\u001b[38;2;0;0;0;48;2;255;255;255m▀\u001b[38;2;0;0;0;48;2;255;255;255m▀\u001b[38;2;0;0;0;48;2;0;0;0m▀\u001b[38;2;255;255;255;48;2;0;0;0m▀\u001b[38;2;0;0;0;48;2;255;255;255m▀\u001b[38;2;255;255;255;48;2;0;0;0m▀\u001b[38;2;0;0;0;48;2;255;255;255m▀\u001b[38;2;255;255;255;48;2;0;0;0m▀\u001b[38;2;255;255;255;48;2;0;0;0m▀\u001b[38;2;255;255;255;48;2;0;0;0m▀\u001b[38;2;255;255;255;48;2;0;0;0m▀\u001b[38;2;0;0;0;48;2;0;0;0m▀\u001b[38;2;255;255;255;48;2;255;255;255m▀\u001b[38;2;255;255;255;48;2;255;255;255m▀\u001b[38;2;255;255;255;48;2;255;255;255m▀\u001b[38;2;255;255;255;48;2;255;255;255m▀\u001b[38;2;0;0;0;48;2;0;0;0m▀\u001b[38;2;0;0;0;48;2;0;0;0m▀\u001b[38;2;0;0;0;48;2;255;255;255m▀\u001b[38;2;0;0;0;48;2;255;255;255m▀\u001b[38;2;0;0;0;48;2;255;255;255m▀\u001b[38;2;0;0;0;48;2;0;0;0m▀\u001b[38;2;255;255;255;48;2;0;0;0m▀\u001b[38;2;0;0;0;48;2;255;255;255m▀\u001b[38;2;0;0;0;48;2;0;0;0m▀\u001b[0m\n",
       "\u001b[0m\u001b[38;2;255;255;255;48;2;255;255;255m▀\u001b[38;2;0;0;0;48;2;255;255;255m▀\u001b[38;2;255;255;255;48;2;0;0;0m▀\u001b[38;2;0;0;0;48;2;255;255;255m▀\u001b[38;2;255;255;255;48;2;255;255;255m▀\u001b[38;2;0;0;0;48;2;255;255;255m▀\u001b[38;2;255;255;255;48;2;255;255;255m▀\u001b[38;2;0;0;0;48;2;255;255;255m▀\u001b[38;2;255;255;255;48;2;255;255;255m▀\u001b[38;2;0;0;0;48;2;0;0;0m▀\u001b[38;2;0;0;0;48;2;0;0;0m▀\u001b[38;2;0;0;0;48;2;0;0;0m▀\u001b[38;2;0;0;0;48;2;0;0;0m▀\u001b[38;2;0;0;0;48;2;255;255;255m▀\u001b[38;2;255;255;255;48;2;0;0;0m▀\u001b[38;2;255;255;255;48;2;255;255;255m▀\u001b[38;2;255;255;255;48;2;0;0;0m▀\u001b[38;2;255;255;255;48;2;0;0;0m▀\u001b[38;2;0;0;0;48;2;255;255;255m▀\u001b[38;2;255;255;255;48;2;255;255;255m▀\u001b[38;2;255;255;255;48;2;255;255;255m▀\u001b[38;2;255;255;255;48;2;255;255;255m▀\u001b[38;2;255;255;255;48;2;0;0;0m▀\u001b[38;2;0;0;0;48;2;255;255;255m▀\u001b[38;2;0;0;0;48;2;0;0;0m▀\u001b[38;2;0;0;0;48;2;0;0;0m▀\u001b[38;2;255;255;255;48;2;255;255;255m▀\u001b[38;2;0;0;0;48;2;0;0;0m▀\u001b[38;2;255;255;255;48;2;0;0;0m▀\u001b[38;2;255;255;255;48;2;0;0;0m▀\u001b[38;2;0;0;0;48;2;255;255;255m▀\u001b[38;2;0;0;0;48;2;0;0;0m▀\u001b[0m\n",
       "\u001b[0m\u001b[38;2;255;255;255;48;2;255;255;255m▀\u001b[38;2;0;0;0;48;2;0;0;0m▀\u001b[38;2;0;0;0;48;2;0;0;0m▀\u001b[38;2;255;255;255;48;2;255;255;255m▀\u001b[38;2;255;255;255;48;2;255;255;255m▀\u001b[38;2;255;255;255;48;2;0;0;0m▀\u001b[38;2;0;0;0;48;2;0;0;0m▀\u001b[38;2;255;255;255;48;2;255;255;255m▀\u001b[38;2;0;0;0;48;2;0;0;0m▀\u001b[38;2;0;0;0;48;2;255;255;255m▀\u001b[38;2;0;0;0;48;2;0;0;0m▀\u001b[38;2;0;0;0;48;2;255;255;255m▀\u001b[38;2;255;255;255;48;2;255;255;255m▀\u001b[38;2;255;255;255;48;2;255;255;255m▀\u001b[38;2;0;0;0;48;2;255;255;255m▀\u001b[38;2;255;255;255;48;2;0;0;0m▀\u001b[38;2;255;255;255;48;2;255;255;255m▀\u001b[38;2;0;0;0;48;2;0;0;0m▀\u001b[38;2;255;255;255;48;2;0;0;0m▀\u001b[38;2;255;255;255;48;2;0;0;0m▀\u001b[38;2;0;0;0;48;2;255;255;255m▀\u001b[38;2;0;0;0;48;2;0;0;0m▀\u001b[38;2;0;0;0;48;2;0;0;0m▀\u001b[38;2;0;0;0;48;2;255;255;255m▀\u001b[38;2;0;0;0;48;2;255;255;255m▀\u001b[38;2;255;255;255;48;2;255;255;255m▀\u001b[38;2;0;0;0;48;2;0;0;0m▀\u001b[38;2;255;255;255;48;2;0;0;0m▀\u001b[38;2;255;255;255;48;2;255;255;255m▀\u001b[38;2;0;0;0;48;2;0;0;0m▀\u001b[38;2;255;255;255;48;2;255;255;255m▀\u001b[38;2;0;0;0;48;2;0;0;0m▀\u001b[0m\n",
       "\u001b[0m\u001b[38;2;255;255;255;48;2;255;255;255m▀\u001b[38;2;255;255;255;48;2;255;255;255m▀\u001b[38;2;255;255;255;48;2;0;0;0m▀\u001b[38;2;255;255;255;48;2;255;255;255m▀\u001b[38;2;0;0;0;48;2;255;255;255m▀\u001b[38;2;0;0;0;48;2;255;255;255m▀\u001b[38;2;0;0;0;48;2;255;255;255m▀\u001b[38;2;0;0;0;48;2;0;0;0m▀\u001b[38;2;0;0;0;48;2;255;255;255m▀\u001b[38;2;255;255;255;48;2;0;0;0m▀\u001b[38;2;0;0;0;48;2;255;255;255m▀\u001b[38;2;0;0;0;48;2;255;255;255m▀\u001b[38;2;255;255;255;48;2;0;0;0m▀\u001b[38;2;255;255;255;48;2;0;0;0m▀\u001b[38;2;0;0;0;48;2;255;255;255m▀\u001b[38;2;255;255;255;48;2;255;255;255m▀\u001b[38;2;0;0;0;48;2;0;0;0m▀\u001b[38;2;0;0;0;48;2;255;255;255m▀\u001b[38;2;255;255;255;48;2;255;255;255m▀\u001b[38;2;255;255;255;48;2;255;255;255m▀\u001b[38;2;0;0;0;48;2;0;0;0m▀\u001b[38;2;255;255;255;48;2;0;0;0m▀\u001b[38;2;0;0;0;48;2;0;0;0m▀\u001b[38;2;0;0;0;48;2;255;255;255m▀\u001b[38;2;0;0;0;48;2;0;0;0m▀\u001b[38;2;0;0;0;48;2;255;255;255m▀\u001b[38;2;255;255;255;48;2;255;255;255m▀\u001b[38;2;255;255;255;48;2;255;255;255m▀\u001b[38;2;0;0;0;48;2;0;0;0m▀\u001b[38;2;0;0;0;48;2;255;255;255m▀\u001b[38;2;255;255;255;48;2;0;0;0m▀\u001b[38;2;0;0;0;48;2;255;255;255m▀\u001b[0m\n",
       "\u001b[0m\u001b[38;2;255;255;255;48;2;255;255;255m▀\u001b[38;2;255;255;255;48;2;0;0;0m▀\u001b[38;2;255;255;255;48;2;255;255;255m▀\u001b[38;2;255;255;255;48;2;0;0;0m▀\u001b[38;2;255;255;255;48;2;0;0;0m▀\u001b[38;2;255;255;255;48;2;255;255;255m▀\u001b[38;2;0;0;0;48;2;0;0;0m▀\u001b[38;2;0;0;0;48;2;255;255;255m▀\u001b[38;2;255;255;255;48;2;0;0;0m▀\u001b[38;2;255;255;255;48;2;255;255;255m▀\u001b[38;2;0;0;0;48;2;0;0;0m▀\u001b[38;2;0;0;0;48;2;255;255;255m▀\u001b[38;2;255;255;255;48;2;0;0;0m▀\u001b[38;2;0;0;0;48;2;255;255;255m▀\u001b[38;2;0;0;0;48;2;255;255;255m▀\u001b[38;2;0;0;0;48;2;0;0;0m▀\u001b[38;2;255;255;255;48;2;0;0;0m▀\u001b[38;2;0;0;0;48;2;255;255;255m▀\u001b[38;2;0;0;0;48;2;255;255;255m▀\u001b[38;2;255;255;255;48;2;255;255;255m▀\u001b[38;2;0;0;0;48;2;255;255;255m▀\u001b[38;2;0;0;0;48;2;255;255;255m▀\u001b[38;2;255;255;255;48;2;255;255;255m▀\u001b[38;2;255;255;255;48;2;0;0;0m▀\u001b[38;2;0;0;0;48;2;0;0;0m▀\u001b[38;2;0;0;0;48;2;0;0;0m▀\u001b[38;2;0;0;0;48;2;0;0;0m▀\u001b[38;2;255;255;255;48;2;255;255;255m▀\u001b[38;2;0;0;0;48;2;255;255;255m▀\u001b[38;2;0;0;0;48;2;0;0;0m▀\u001b[38;2;255;255;255;48;2;0;0;0m▀\u001b[38;2;0;0;0;48;2;255;255;255m▀\u001b[0m\n",
       "\u001b[0m\u001b[38;2;255;255;255;48;2;255;255;255m▀\u001b[38;2;255;255;255;48;2;255;255;255m▀\u001b[38;2;255;255;255;48;2;0;0;0m▀\u001b[38;2;0;0;0;48;2;255;255;255m▀\u001b[38;2;255;255;255;48;2;0;0;0m▀\u001b[38;2;255;255;255;48;2;255;255;255m▀\u001b[38;2;0;0;0;48;2;255;255;255m▀\u001b[38;2;0;0;0;48;2;0;0;0m▀\u001b[38;2;0;0;0;48;2;0;0;0m▀\u001b[38;2;255;255;255;48;2;0;0;0m▀\u001b[38;2;0;0;0;48;2;255;255;255m▀\u001b[38;2;0;0;0;48;2;0;0;0m▀\u001b[38;2;255;255;255;48;2;255;255;255m▀\u001b[38;2;0;0;0;48;2;255;255;255m▀\u001b[38;2;255;255;255;48;2;0;0;0m▀\u001b[38;2;0;0;0;48;2;255;255;255m▀\u001b[38;2;0;0;0;48;2;0;0;0m▀\u001b[38;2;255;255;255;48;2;255;255;255m▀\u001b[38;2;0;0;0;48;2;255;255;255m▀\u001b[38;2;0;0;0;48;2;0;0;0m▀\u001b[38;2;0;0;0;48;2;255;255;255m▀\u001b[38;2;0;0;0;48;2;0;0;0m▀\u001b[38;2;255;255;255;48;2;0;0;0m▀\u001b[38;2;255;255;255;48;2;255;255;255m▀\u001b[38;2;0;0;0;48;2;0;0;0m▀\u001b[38;2;0;0;0;48;2;255;255;255m▀\u001b[38;2;255;255;255;48;2;255;255;255m▀\u001b[38;2;255;255;255;48;2;0;0;0m▀\u001b[38;2;255;255;255;48;2;255;255;255m▀\u001b[38;2;255;255;255;48;2;0;0;0m▀\u001b[38;2;0;0;0;48;2;0;0;0m▀\u001b[38;2;255;255;255;48;2;255;255;255m▀\u001b[0m\n",
       "\u001b[0m\u001b[38;2;0;0;0;48;2;255;255;255m▀\u001b[38;2;0;0;0;48;2;255;255;255m▀\u001b[38;2;0;0;0;48;2;255;255;255m▀\u001b[38;2;255;255;255;48;2;255;255;255m▀\u001b[38;2;255;255;255;48;2;0;0;0m▀\u001b[38;2;0;0;0;48;2;255;255;255m▀\u001b[38;2;0;0;0;48;2;255;255;255m▀\u001b[38;2;0;0;0;48;2;255;255;255m▀\u001b[38;2;0;0;0;48;2;0;0;0m▀\u001b[38;2;0;0;0;48;2;255;255;255m▀\u001b[38;2;255;255;255;48;2;0;0;0m▀\u001b[38;2;255;255;255;48;2;0;0;0m▀\u001b[38;2;0;0;0;48;2;0;0;0m▀\u001b[38;2;255;255;255;48;2;0;0;0m▀\u001b[38;2;0;0;0;48;2;255;255;255m▀\u001b[38;2;255;255;255;48;2;255;255;255m▀\u001b[38;2;255;255;255;48;2;0;0;0m▀\u001b[38;2;255;255;255;48;2;0;0;0m▀\u001b[38;2;0;0;0;48;2;0;0;0m▀\u001b[38;2;0;0;0;48;2;255;255;255m▀\u001b[38;2;255;255;255;48;2;255;255;255m▀\u001b[38;2;255;255;255;48;2;0;0;0m▀\u001b[38;2;0;0;0;48;2;255;255;255m▀\u001b[38;2;255;255;255;48;2;255;255;255m▀\u001b[38;2;255;255;255;48;2;255;255;255m▀\u001b[38;2;255;255;255;48;2;255;255;255m▀\u001b[38;2;0;0;0;48;2;0;0;0m▀\u001b[38;2;255;255;255;48;2;0;0;0m▀\u001b[38;2;0;0;0;48;2;255;255;255m▀\u001b[38;2;0;0;0;48;2;255;255;255m▀\u001b[38;2;0;0;0;48;2;0;0;0m▀\u001b[38;2;0;0;0;48;2;0;0;0m▀\u001b[0m\n",
       "\u001b[0m\u001b[38;2;255;255;255;48;2;255;255;255m▀\u001b[38;2;0;0;0;48;2;255;255;255m▀\u001b[38;2;0;0;0;48;2;0;0;0m▀\u001b[38;2;255;255;255;48;2;255;255;255m▀\u001b[38;2;255;255;255;48;2;0;0;0m▀\u001b[38;2;255;255;255;48;2;0;0;0m▀\u001b[38;2;0;0;0;48;2;0;0;0m▀\u001b[38;2;0;0;0;48;2;0;0;0m▀\u001b[38;2;255;255;255;48;2;0;0;0m▀\u001b[38;2;255;255;255;48;2;255;255;255m▀\u001b[38;2;0;0;0;48;2;0;0;0m▀\u001b[38;2;255;255;255;48;2;255;255;255m▀\u001b[38;2;0;0;0;48;2;0;0;0m▀\u001b[38;2;255;255;255;48;2;255;255;255m▀\u001b[38;2;0;0;0;48;2;255;255;255m▀\u001b[38;2;0;0;0;48;2;0;0;0m▀\u001b[38;2;255;255;255;48;2;255;255;255m▀\u001b[38;2;0;0;0;48;2;255;255;255m▀\u001b[38;2;0;0;0;48;2;255;255;255m▀\u001b[38;2;0;0;0;48;2;0;0;0m▀\u001b[38;2;255;255;255;48;2;255;255;255m▀\u001b[38;2;255;255;255;48;2;0;0;0m▀\u001b[38;2;255;255;255;48;2;255;255;255m▀\u001b[38;2;0;0;0;48;2;0;0;0m▀\u001b[38;2;0;0;0;48;2;0;0;0m▀\u001b[38;2;255;255;255;48;2;255;255;255m▀\u001b[38;2;255;255;255;48;2;0;0;0m▀\u001b[38;2;255;255;255;48;2;255;255;255m▀\u001b[38;2;0;0;0;48;2;0;0;0m▀\u001b[38;2;255;255;255;48;2;0;0;0m▀\u001b[38;2;0;0;0;48;2;0;0;0m▀\u001b[38;2;255;255;255;48;2;255;255;255m▀\u001b[0m\n"
      ]
     },
     "metadata": {},
     "output_type": "display_data"
    },
    {
     "name": "stdout",
     "output_type": "stream",
     "text": [
      "Turn index = 100\n"
     ]
    }
   ],
   "source": [
    "let\n",
    "\n",
    "    # initialize -\n",
    "    number_of_rows = sqrt(number_of_hidden_nodes) |> x-> round(Int,x)\n",
    "    number_of_cols = sqrt(number_of_hidden_nodes) |> x-> round(Int,x)\n",
    "\n",
    "    do_I_want_to_see_a_movie = true; # set this flag to watch the frames\n",
    "    if (do_I_want_to_see_a_movie == true)\n",
    "        for i ∈ 1:number_of_internal_steps\n",
    "            img = decode(h[:,i], number_of_rows = number_of_rows, number_of_cols = number_of_cols);\n",
    "            display(Gray.(img))\n",
    "            println(\"Turn index = $(i)\")\n",
    "            IJulia.clear_output(true) # may not work in VSCode?\n",
    "            sleep(0.1) # add some delay\n",
    "        end\n",
    "    end\n",
    "end"
   ]
  },
  {
   "cell_type": "markdown",
   "id": "6dfaafef-8562-40d5-bb1e-e88ae4f931c6",
   "metadata": {},
   "source": [
    "## Task 3: Let's do a few training steps\n",
    "In this task, let's do a few training sets and see how this changes the behavior of the restricted Boltzmann machine. \n",
    "* _How does the training work_? The training method for the RBM is known as Contrastive Divergence (CD). Let's walk through this [description of the CD algorithm](https://ml-lectures.org/docs/unsupervised_learning/ml_unsupervised-1.html#training-an-rbm).\n",
    "\n",
    "We've implemented [the CD algorithm](https://ml-lectures.org/docs/unsupervised_learning/ml_unsupervised-1.html#training-an-rbm) in [the `learn(...)` method](src/Compute.jl). \n",
    "* The [`learn(...)` method](src/Compute.jl) takes a `model::MyRestrictedBoltzmannMachineModel` instance, the image dataset `X::Array{Int,2}` array, our approximate value for $P(\\mathbf{x})_{\\text{data}}$, the system (inverse) temperature `β::Float64`, the learning rate `η::Float64` and some other control parameters, e.g., `maxnumberofiterations::Int` which is the maximum number of iterations we want the training to go for.\n",
    "* This method returns a new `MyRestrictedBoltzmannMachineModel` with the updated parameters."
   ]
  },
  {
   "cell_type": "code",
   "execution_count": 133,
   "id": "ad786594-129a-4772-97b2-9b0975f97001",
   "metadata": {},
   "outputs": [
    {
     "name": "stdout",
     "output_type": "stream",
     "text": [
      "Iteration: 1\n",
      "Iteration: 2\n",
      "Iteration: 3\n",
      "Iteration: 4\n",
      "Iteration: 5\n",
      "Iteration: 6\n",
      "Iteration: 7\n",
      "Iteration: 8\n",
      "Iteration: 9\n",
      "Iteration: 10\n",
      "Iteration: 11\n",
      "Iteration: 12\n",
      "Iteration: 13\n",
      "Iteration: 14\n",
      "Iteration: 15\n",
      "Iteration: 16\n",
      "Iteration: 17\n",
      "Iteration: 18\n",
      "Iteration: 19\n",
      "Iteration: 20\n"
     ]
    }
   ],
   "source": [
    "newmodel = let\n",
    "\n",
    "    # initialize -\n",
    "    do_I_want_to_train_the_model = true;\n",
    "    newmodel = nothing;\n",
    "\n",
    "    if (do_I_want_to_train_the_model == true)\n",
    "        newmodel = learn(model,X,data_distribution, maxnumberofiterations = 20,\n",
    "            T = number_of_internal_steps, β = β, η = η, verbose = true, batchsize = 10); # do a few training steps, and let's see what is going o\n",
    "    else\n",
    "        newmodel = model; # skip the training, return the old model \n",
    "    end\n",
    "\n",
    "    # return -\n",
    "    newmodel;\n",
    "end;"
   ]
  },
  {
   "cell_type": "markdown",
   "id": "ae12f28d-b61b-450f-8b37-67d189ee9d7e",
   "metadata": {},
   "source": [
    "__After a single pass of the trained model, what do we see__? We gave $\\bar{\\mathbf{v}}_{\\circ}$, and then did `number_of_internal_steps::Int` number of internal steps, i.e., $n$-feedforward steps which generated $\\bar{\\mathbf{h}}_{1},\\dots,\\bar{\\mathbf{h}}_{n}$, and then we generated $\\bar{\\mathbf{v}}_{1},\\dots,\\bar{\\mathbf{v}}_{n}$ feedback steps _starting_ from $\\bar{\\mathbf{h}}_{n}$."
   ]
  },
  {
   "cell_type": "code",
   "execution_count": 127,
   "id": "a0ea73b5-4a64-41f7-b3a9-5f808a9d3f0c",
   "metadata": {},
   "outputs": [],
   "source": [
    "v̄ₒ, v̄, h̄ = let\n",
    "\n",
    "    # draw a random index from the data distribution\n",
    "    i = rand(data_distribution);\n",
    "    vₒ = copy(X[:,i]); # initial visible layer values\n",
    "\n",
    "    # let's make this a little harder -\n",
    "    for j ∈ eachindex(vₒ)\n",
    "        if (rand() ≤ 0.15)\n",
    "            vₒ[j] = -1;\n",
    "        end\n",
    "    end\n",
    "\n",
    "    # uncomment me to see the image -\n",
    "    # img = decode(vₒ, number_of_rows = number_of_rows, number_of_cols = number_of_cols);\n",
    "    # display(Gray.(img))\n",
    "    \n",
    "    # run the simulation -\n",
    "    (v,h) = simulate(newmodel, vₒ, T = number_of_internal_steps, β = β);\n",
    "\n",
    "    # return -\n",
    "    vₒ, v, h\n",
    "end;"
   ]
  },
  {
   "cell_type": "markdown",
   "id": "f4b79375-6d49-4d46-94c0-0dcbff6b33af",
   "metadata": {},
   "source": [
    "__What are we giving the updated RBM__? We specify the initial condition for the _visible layer_ by drawing a sample $\\mathbf{v}_{\\circ}\\sim{P}(\\mathbf{x})_{\\text{data}}$ using the data distribution $P(\\mathbf{x})_{\\text{data}}$ that we estimated in `task 1`. What is that sample?"
   ]
  },
  {
   "cell_type": "code",
   "execution_count": 129,
   "id": "e7f24560-c3aa-4c86-80ff-852e467f32af",
   "metadata": {},
   "outputs": [
    {
     "data": {
      "image/png": "[encoded data removed]",
      "text/html": [
       "<img src=\"data:image/png;base64,iVBORw0KGgoAAAANSUhEUgAAAHAAAABwCAAAAADji6uXAAAAAXNSR0IArs4c6QAAAARnQU1BAACxjwv8YQUAAAAgY0hSTQAAeiYAAICEAAD6AAAAgOgAAHUwAADqYAAAOpgAABdwnLpRPAAAARVJREFUaAW9wVlqJFEQwEAl6P5XzoHnnzJU04t7FCHvWq6GY7kx3JCYxCQmMYlJTH5Z3rRcDcdyLMdwJTGJSUxiEpOY/Fi+YTmGYzmWYzgkJjGJSUxiEpMfw7Ecw7HcGB5bjuUxiUlMYhKTmMTkl+FqeNNwLI9JTGISk5jEJCbftDwlMYlJTGISk5jEJCYxiUlMYhKTr1iuhmM5hiuJSUxiEpOYxOT/GW5ITGISk5jEJCZ/s7xJYhKTmMQkJjH50HJjOJZjuCExiUlMYhKTmLxreWp4TGISk5jEJCYxednyDRKTmMQkJjGJyXPLMRzLjeFVEpOYxCQmMYnJy5Ybw5skJjGJSUxiEpMPDZ+RmMQkJjGJSewf5asbvU05g1EAAAAASUVORK5C\">"
      ],
      "text/plain": [
       "\u001b[0m\u001b[38;2;0;0;0m██\u001b[38;2;0;0;0m██\u001b[38;2;0;0;0m██\u001b[38;2;0;0;0m██\u001b[38;2;0;0;0m██\u001b[38;2;0;0;0m██\u001b[38;2;0;0;0m██\u001b[38;2;255;255;255m██\u001b[38;2;255;255;255m██\u001b[38;2;0;0;0m██\u001b[38;2;255;255;255m██\u001b[38;2;255;255;255m██\u001b[38;2;255;255;255m██\u001b[38;2;0;0;0m██\u001b[38;2;0;0;0m██\u001b[38;2;0;0;0m██\u001b[0m\n",
       "\u001b[0m\u001b[38;2;0;0;0m██\u001b[38;2;0;0;0m██\u001b[38;2;255;255;255m██\u001b[38;2;255;255;255m██\u001b[38;2;255;255;255m██\u001b[38;2;255;255;255m██\u001b[38;2;255;255;255m██\u001b[38;2;255;255;255m██\u001b[38;2;255;255;255m██\u001b[38;2;255;255;255m██\u001b[38;2;255;255;255m██\u001b[38;2;0;0;0m██\u001b[38;2;255;255;255m██\u001b[38;2;255;255;255m██\u001b[38;2;0;0;0m██\u001b[38;2;0;0;0m██\u001b[0m\n",
       "\u001b[0m\u001b[38;2;0;0;0m██\u001b[38;2;255;255;255m██\u001b[38;2;255;255;255m██\u001b[38;2;255;255;255m██\u001b[38;2;255;255;255m██\u001b[38;2;255;255;255m██\u001b[38;2;255;255;255m██\u001b[38;2;255;255;255m██\u001b[38;2;255;255;255m██\u001b[38;2;255;255;255m██\u001b[38;2;255;255;255m██\u001b[38;2;255;255;255m██\u001b[38;2;0;0;0m██\u001b[38;2;255;255;255m██\u001b[38;2;255;255;255m██\u001b[38;2;0;0;0m██\u001b[0m\n",
       "\u001b[0m\u001b[38;2;0;0;0m██\u001b[38;2;0;0;0m██\u001b[38;2;255;255;255m██\u001b[38;2;0;0;0m██\u001b[38;2;255;255;255m██\u001b[38;2;255;255;255m██\u001b[38;2;255;255;255m██\u001b[38;2;0;0;0m██\u001b[38;2;0;0;0m██\u001b[38;2;0;0;0m██\u001b[38;2;0;0;0m██\u001b[38;2;255;255;255m██\u001b[38;2;255;255;255m██\u001b[38;2;255;255;255m██\u001b[38;2;255;255;255m██\u001b[38;2;0;0;0m██\u001b[0m\n",
       "\u001b[0m\u001b[38;2;0;0;0m██\u001b[38;2;0;0;0m██\u001b[38;2;0;0;0m██\u001b[38;2;0;0;0m██\u001b[38;2;0;0;0m██\u001b[38;2;0;0;0m██\u001b[38;2;0;0;0m██\u001b[38;2;0;0;0m██\u001b[38;2;0;0;0m██\u001b[38;2;0;0;0m██\u001b[38;2;0;0;0m██\u001b[38;2;0;0;0m██\u001b[38;2;255;255;255m██\u001b[38;2;255;255;255m██\u001b[38;2;255;255;255m██\u001b[38;2;0;0;0m██\u001b[0m\n",
       "\u001b[0m\u001b[38;2;0;0;0m██\u001b[38;2;0;0;0m██\u001b[38;2;0;0;0m██\u001b[38;2;0;0;0m██\u001b[38;2;0;0;0m██\u001b[38;2;0;0;0m██\u001b[38;2;0;0;0m██\u001b[38;2;0;0;0m██\u001b[38;2;0;0;0m██\u001b[38;2;0;0;0m██\u001b[38;2;0;0;0m██\u001b[38;2;255;255;255m██\u001b[38;2;255;255;255m██\u001b[38;2;255;255;255m██\u001b[38;2;255;255;255m██\u001b[38;2;0;0;0m██\u001b[0m\n",
       "\u001b[0m\u001b[38;2;0;0;0m██\u001b[38;2;0;0;0m██\u001b[38;2;0;0;0m██\u001b[38;2;0;0;0m██\u001b[38;2;0;0;0m██\u001b[38;2;0;0;0m██\u001b[38;2;0;0;0m██\u001b[38;2;0;0;0m██\u001b[38;2;0;0;0m██\u001b[38;2;0;0;0m██\u001b[38;2;0;0;0m██\u001b[38;2;255;255;255m██\u001b[38;2;255;255;255m██\u001b[38;2;255;255;255m██\u001b[38;2;255;255;255m██\u001b[38;2;0;0;0m██\u001b[0m\n",
       "\u001b[0m\u001b[38;2;0;0;0m██\u001b[38;2;0;0;0m██\u001b[38;2;0;0;0m██\u001b[38;2;0;0;0m██\u001b[38;2;0;0;0m██\u001b[38;2;0;0;0m██\u001b[38;2;0;0;0m██\u001b[38;2;0;0;0m██\u001b[38;2;0;0;0m██\u001b[38;2;0;0;0m██\u001b[38;2;255;255;255m██\u001b[38;2;255;255;255m██\u001b[38;2;0;0;0m██\u001b[38;2;255;255;255m██\u001b[38;2;0;0;0m██\u001b[38;2;0;0;0m██\u001b[0m\n",
       "\u001b[0m\u001b[38;2;0;0;0m██\u001b[38;2;0;0;0m██\u001b[38;2;0;0;0m██\u001b[38;2;0;0;0m██\u001b[38;2;0;0;0m██\u001b[38;2;0;0;0m██\u001b[38;2;0;0;0m██\u001b[38;2;0;0;0m██\u001b[38;2;0;0;0m██\u001b[38;2;0;0;0m██\u001b[38;2;255;255;255m██\u001b[38;2;255;255;255m██\u001b[38;2;0;0;0m██\u001b[38;2;0;0;0m██\u001b[38;2;0;0;0m██\u001b[38;2;0;0;0m██\u001b[0m\n",
       "\u001b[0m\u001b[38;2;0;0;0m██\u001b[38;2;0;0;0m██\u001b[38;2;0;0;0m██\u001b[38;2;0;0;0m██\u001b[38;2;0;0;0m██\u001b[38;2;0;0;0m██\u001b[38;2;0;0;0m██\u001b[38;2;0;0;0m██\u001b[38;2;0;0;0m██\u001b[38;2;255;255;255m██\u001b[38;2;255;255;255m██\u001b[38;2;255;255;255m██\u001b[38;2;0;0;0m██\u001b[38;2;0;0;0m██\u001b[38;2;0;0;0m██\u001b[38;2;0;0;0m██\u001b[0m\n",
       "\u001b[0m\u001b[38;2;0;0;0m██\u001b[38;2;0;0;0m██\u001b[38;2;0;0;0m██\u001b[38;2;0;0;0m██\u001b[38;2;0;0;0m██\u001b[38;2;0;0;0m██\u001b[38;2;0;0;0m██\u001b[38;2;0;0;0m██\u001b[38;2;255;255;255m██\u001b[38;2;255;255;255m██\u001b[38;2;255;255;255m██\u001b[38;2;0;0;0m██\u001b[38;2;255;255;255m██\u001b[38;2;0;0;0m██\u001b[38;2;0;0;0m██\u001b[38;2;0;0;0m██\u001b[0m\n",
       "\u001b[0m\u001b[38;2;0;0;0m██\u001b[38;2;0;0;0m██\u001b[38;2;0;0;0m██\u001b[38;2;0;0;0m██\u001b[38;2;0;0;0m██\u001b[38;2;0;0;0m██\u001b[38;2;0;0;0m██\u001b[38;2;255;255;255m██\u001b[38;2;255;255;255m██\u001b[38;2;255;255;255m██\u001b[38;2;255;255;255m██\u001b[38;2;0;0;0m██\u001b[38;2;0;0;0m██\u001b[38;2;0;0;0m██\u001b[38;2;0;0;0m██\u001b[38;2;0;0;0m██\u001b[0m\n",
       "\u001b[0m\u001b[38;2;0;0;0m██\u001b[38;2;0;0;0m██\u001b[38;2;0;0;0m██\u001b[38;2;0;0;0m██\u001b[38;2;0;0;0m██\u001b[38;2;0;0;0m██\u001b[38;2;255;255;255m██\u001b[38;2;255;255;255m██\u001b[38;2;255;255;255m██\u001b[38;2;255;255;255m██\u001b[38;2;255;255;255m██\u001b[38;2;0;0;0m██\u001b[38;2;0;0;0m██\u001b[38;2;0;0;0m██\u001b[38;2;0;0;0m██\u001b[38;2;0;0;0m██\u001b[0m\n",
       "\u001b[0m\u001b[38;2;0;0;0m██\u001b[38;2;0;0;0m██\u001b[38;2;0;0;0m██\u001b[38;2;0;0;0m██\u001b[38;2;0;0;0m██\u001b[38;2;255;255;255m██\u001b[38;2;0;0;0m██\u001b[38;2;255;255;255m██\u001b[38;2;255;255;255m██\u001b[38;2;255;255;255m██\u001b[38;2;0;0;0m██\u001b[38;2;0;0;0m██\u001b[38;2;0;0;0m██\u001b[38;2;0;0;0m██\u001b[38;2;0;0;0m██\u001b[38;2;0;0;0m██\u001b[0m\n",
       "\u001b[0m\u001b[38;2;0;0;0m██\u001b[38;2;0;0;0m██\u001b[38;2;0;0;0m██\u001b[38;2;0;0;0m██\u001b[38;2;0;0;0m██\u001b[38;2;255;255;255m██\u001b[38;2;255;255;255m██\u001b[38;2;255;255;255m██\u001b[38;2;255;255;255m██\u001b[38;2;0;0;0m██\u001b[38;2;0;0;0m██\u001b[38;2;0;0;0m██\u001b[38;2;0;0;0m██\u001b[38;2;0;0;0m██\u001b[38;2;0;0;0m██\u001b[38;2;0;0;0m██\u001b[0m\n",
       "\u001b[0m\u001b[38;2;0;0;0m██\u001b[38;2;0;0;0m██\u001b[38;2;0;0;0m██\u001b[38;2;0;0;0m██\u001b[38;2;0;0;0m██\u001b[38;2;255;255;255m██\u001b[38;2;255;255;255m██\u001b[38;2;255;255;255m██\u001b[38;2;0;0;0m██\u001b[38;2;0;0;0m██\u001b[38;2;0;0;0m██\u001b[38;2;0;0;0m██\u001b[38;2;0;0;0m██\u001b[38;2;0;0;0m██\u001b[38;2;0;0;0m██\u001b[38;2;0;0;0m██\u001b[0m"
      ]
     },
     "execution_count": 129,
     "metadata": {},
     "output_type": "execute_result"
    }
   ],
   "source": [
    "decode(v̄ₒ, number_of_rows = number_of_rows, number_of_cols = number_of_cols) |> img -> Gray.(img)"
   ]
  },
  {
   "cell_type": "markdown",
   "id": "b60e1f1e-c203-416b-887a-988356c6e325",
   "metadata": {},
   "source": [
    "What does the network give back?"
   ]
  },
  {
   "cell_type": "code",
   "execution_count": 131,
   "id": "5f60e1d9-2ef2-4f6e-a6d3-23101a624393",
   "metadata": {},
   "outputs": [
    {
     "ename": "LoadError",
     "evalue": "InterruptException:",
     "output_type": "error",
     "traceback": [
      "InterruptException:",
      "",
      "Stacktrace:",
      " [1] poptask(W::Base.IntrusiveLinkedListSynchronized{Task})",
      "   @ Base ./task.jl:1012",
      " [2] wait()",
      "   @ Base ./task.jl:1021",
      " [3] wait(c::Base.GenericCondition{Base.Threads.SpinLock}; first::Bool)",
      "   @ Base ./condition.jl:130",
      " [4] wait",
      "   @ ./condition.jl:125 [inlined]",
      " [5] _trywait(t::Timer)",
      "   @ Base ./asyncevent.jl:145",
      " [6] wait",
      "   @ ./asyncevent.jl:162 [inlined]",
      " [7] sleep",
      "   @ ./asyncevent.jl:272 [inlined]",
      " [8] top-level scope",
      "   @ ./In[131]:9"
     ]
    }
   ],
   "source": [
    "let\n",
    "    do_I_want_to_see_a_movie = true; # set this flag to watch the frames\n",
    "    if (do_I_want_to_see_a_movie == true)\n",
    "        for i ∈ 1:number_of_internal_steps\n",
    "            img = decode(v̄[:,i], number_of_rows = number_of_rows, number_of_cols = number_of_cols);\n",
    "            display(Gray.(img))\n",
    "            println(\"Turn index = $(i)\")\n",
    "            IJulia.clear_output(true) # may not work in VSCode?\n",
    "            sleep(0.1) # add some delay\n",
    "        end\n",
    "    end\n",
    "end"
   ]
  },
  {
   "cell_type": "code",
   "execution_count": null,
   "id": "7d6cff1e-2896-40e9-892d-1abb653f1525",
   "metadata": {},
   "outputs": [],
   "source": []
  }
 ],
 "metadata": {
  "kernelspec": {
   "display_name": "Julia 1.11.4",
   "language": "julia",
   "name": "julia-1.11"
  },
  "language_info": {
   "file_extension": ".jl",
   "mimetype": "application/julia",
   "name": "julia",
   "version": "1.11.4"
  }
 },
 "nbformat": 4,
 "nbformat_minor": 5
}
