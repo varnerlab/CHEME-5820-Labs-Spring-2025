{
 "cells": [
  {
   "cell_type": "code",
   "execution_count": null,
   "id": "bfe9634d-cfb4-4a0b-9df2-c249620140b8",
   "metadata": {},
   "outputs": [],
   "source": []
  }
 ],
 "metadata": {
  "kernelspec": {
   "display_name": "Julia 1.11.5",
   "language": "julia",
   "name": "julia-1.11"
  },
  "language_info": {
   "file_extension": ".jl",
   "mimetype": "application/julia",
   "name": "julia",
   "version": "1.11.5"
  }
 },
 "nbformat": 4,
 "nbformat_minor": 5
}
