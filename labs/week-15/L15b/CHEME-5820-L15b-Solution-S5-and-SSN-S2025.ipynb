{
 "cells": [
  {
   "cell_type": "markdown",
   "id": "4b0b40ea-0b0d-4237-b28e-653a016bbe43",
   "metadata": {},
   "source": [
    "# L15b: Combining S5 and Spike Nueral Networks\n",
    "In this lab, we'll explore two alternative neural network architectures: Spike Neural Networks (SNNs) and the simplified structure state space sequence (S5) models. This is going to be a toy lab in the sense that we'll implement each of these and hook them together, but we will not (because of time) train them to do anything useful. \n",
    "\n",
    "* __Objective__: Our goal is to understand how these two models work. We'll start by using an SSN for vector embedding, and then we'll use the output of that model as input to an S5 model. The objective of the S5 model is to output a sequence of transformed digits. \n",
    "\n",
    "### Tasks\n",
    "Before we start, execute the `Run All Cells` command to check if you (or your neighbor) have any code or setup issues. Code issues, then raise your hands - and let's get those fixed!\n",
    "* __Task 1: Setup, Data, Constants (5 min)__: Let's take 5 minutes to load [the MNIST handwritten digits dataset](https://en.wikipedia.org/wiki/MNIST_database) that will serve as the input into the Spike Neural Network (SNN) model.\n",
    "* __Task 2: What is a Spiking Neural Network? (20 min)__: We will build a Spiking Neural Network (SNN) model instance in this task. The SNN model is a type of artificial neural network that is inspired by the way biological neurons communicate with each other. We'll feed in the vectorized digits from the training data, then check out the spiking patterns generated for different digits and hyperparameter choices.\n",
    "* __Task 3: Let's build an S5 model (20 min)__: In this task, we'll create a simplified structured state space sequence (S5) model instance. We'll feed in the spike patterns from our SSN and output a sequence of transformed digits using a nonlinear output transformation.\n",
    "\n",
    "Let's get started!\n",
    "___"
   ]
  },
  {
   "cell_type": "markdown",
   "id": "28e06d22",
   "metadata": {},
   "source": [
    "## Task 1: Setup, Data, Prerequisites\n",
    "We set up the computational environment by including the `Include.jl` file, loading any needed resources, such as sample datasets, and setting up any required constants. \n",
    "* The `Include.jl` file also loads external packages, various functions that we will use in the exercise, and custom types to model the components of our problem. It checks for a `Manifest.toml` file; if it finds one, packages are loaded. Other packages are downloaded and then loaded."
   ]
  },
  {
   "cell_type": "code",
   "execution_count": 3,
   "id": "0f3aa51b",
   "metadata": {},
   "outputs": [],
   "source": [
    "include(\"Include.jl\");"
   ]
  },
  {
   "cell_type": "code",
   "execution_count": 4,
   "id": "17752d75",
   "metadata": {},
   "outputs": [],
   "source": [
    "file_extension(file::String) = file[findlast(==('.'), file)+1:end]; # helper function to get the file extension"
   ]
  },
  {
   "cell_type": "markdown",
   "id": "406bb1c0",
   "metadata": {},
   "source": [
    "### Load the MNIST digits data set\n",
    "In this example, we'll use a Hopfield network to learn a single image pattern from [the MNIST handwritten digits dataset](https://en.wikipedia.org/wiki/MNIST_database). The goal is to train the network to recognize a digit, e.g., \"3\" or \"5\", etc, and then retrieve it from a noisy input.\n",
    "\n",
    "Load a training image dataset and save training data in the `training_image_dataset` variable.\n",
    "* _What's in the training dataset_? The `training_image_dataset` will be of type `Vector{Tuple{Vector{Float32}, OneHotVector{UInt32}}}` where the first element is the input data `x.` The second element is the `label,` i.e., whether the image corresponds to `0,....,9`. However, the label is encoded as a `OneHotVector` (see below).\n",
    "* _Hmmm. That's strange_. The `Vector{Tuple{Vector{Float32}, OneHotVector{UInt32}}}` type has a couple of _weird features_. First, notice that the floating point is `Float32`, not the default `Float64`. Next, the labels are [One Hot encoded](https://en.wikipedia.org/wiki/One-hot). Finally, the input data `x` is a Vector, not a Matrix (even though the original image is a matrix of `Gray` values).\n",
    "\n",
    "However, before we load the training data, let's set some constants, which we use below. The comment next to each constant describes its permissible values, units, etc."
   ]
  },
  {
   "cell_type": "code",
   "execution_count": 6,
   "id": "b0deacbc",
   "metadata": {},
   "outputs": [],
   "source": [
    "number_of_training_examples = 30; # how many training examples of *each* number to include from the library\n",
    "number_digit_array = range(0,length=10,step=1) |> collect; # numbers 0 ... 9\n",
    "number_of_rows = 28; # number of rows in the image\n",
    "number_of_cols = 28; # number of cols in the image\n",
    "number_of_pixels = number_of_rows*number_of_cols; # how many pixels do we have in the image?\n",
    "number_of_images_to_memorize = 3; # number of images that we want to encode"
   ]
  },
  {
   "cell_type": "markdown",
   "id": "c3c1c2e2",
   "metadata": {},
   "source": [
    "`Unhide` the code blocks below to see how we construct and populate the `training_image_dataset` variable. First, we load all the images into the `training_image_dictionary::Dict{Int64, Array{Gray{N0f8},3}}`, and then we'll convert these to a vector format below."
   ]
  },
  {
   "cell_type": "code",
   "execution_count": 8,
   "id": "5ec7e35a",
   "metadata": {},
   "outputs": [],
   "source": [
    "training_image_dictionary = let\n",
    "    training_image_dictionary = Dict{Int64, Array{Gray{N0f8},3}}();\n",
    "    for i ∈ number_digit_array\n",
    "        \n",
    "        # create a set for this digit -\n",
    "        image_digit_array = Array{Gray{N0f8},3}(undef, number_of_rows, number_of_cols, number_of_training_examples);\n",
    "        files = readdir(joinpath(_PATH_TO_IMAGES,\"$(i)\")); \n",
    "        imagecount = 1;\n",
    "        for fileindex ∈ 1:number_of_training_examples\n",
    "            filename = files[fileindex];\n",
    "            ext = file_extension(filename)\n",
    "            if (ext == \"jpg\")\n",
    "                image_digit_array[:,:,fileindex] = joinpath(_PATH_TO_IMAGES, \"$(i)\", filename) |> x-> FileIO.load(x);\n",
    "                imagecount += 1\n",
    "            end\n",
    "        end\n",
    "    \n",
    "        # capture -\n",
    "        training_image_dictionary[i] = image_digit_array\n",
    "    end\n",
    "    training_image_dictionary\n",
    "end;"
   ]
  },
  {
   "cell_type": "markdown",
   "id": "837fc8eb",
   "metadata": {},
   "source": [
    "Next, we take the images in array format and vectorize them. \n",
    "* _What do we mean by vectorize_? Each $N\\times{N}$ image array containing the grayscale values at each pixel is converted to an $N^{2}$ vector of values. What image class, i.e., what number it represents, is then converted to [one-hot format](https://en.wikipedia.org/wiki/One-hot). The converted data is stored in the `training_image_dataset::Vector{Tuple{Vector{Float32}, OneHotVector{UInt32}}}` variable.\n",
    "* _What's the deal with Float32_? Most neural network libraries (or other machine learning calculations) use `Float32` (or lower) to save memory because of the large number of parameters associated with the network. Additionally, model training is often carried out using specialized hardware [such as Graphical Processing Units (GPUs)](https://www.nvidia.com/en-us/data-center/h100/), which has different memory constraints."
   ]
  },
  {
   "cell_type": "code",
   "execution_count": 10,
   "id": "a2b79705",
   "metadata": {},
   "outputs": [],
   "source": [
    "training_image_dataset = let\n",
    "    training_image_dataset = Vector{Tuple{Vector{Float32}, OneHotVector{UInt32}}}()\n",
    "    for i ∈ number_digit_array\n",
    "        Y = onehot(i, number_digit_array);\n",
    "        X = training_image_dictionary[i];\n",
    "        \n",
    "        for t ∈ 1:number_of_training_examples\n",
    "            D = Array{Float32,1}(undef, number_of_pixels);\n",
    "            linearindex = 1;\n",
    "            for row ∈ 1:number_of_rows\n",
    "                for col ∈ 1:number_of_cols\n",
    "                    D[linearindex] = X[row,col,t] |> x-> convert(Float32,x);\n",
    "                    linearindex+=1;\n",
    "                end\n",
    "            end\n",
    "    \n",
    "            training_tuple = (D,Y);\n",
    "            push!(training_image_dataset,training_tuple);\n",
    "        end\n",
    "    end\n",
    "    training_image_dataset\n",
    "end;"
   ]
  },
  {
   "cell_type": "markdown",
   "id": "d745b933",
   "metadata": {},
   "source": [
    "## Task 2: What is a Spiking Neural Network?\n",
    "In this task, we will build a Spiking Neural Network (SNN) model instance. The SNN model is a neural network inspired by how actual biological neurons communicate. We'll feed in the vectorized digits and then check out the spiking patterns generated for different digits and hyperparameters.\n",
    "\n",
    "### Background\n",
    "The LIF spiking neural network model is characterized by its ability to generate binary spikes in response to an input current (from _pre-synaptic_ neurons, i.e., input neurons). It incorporates a leaky membrane potential that decays over time. The behavior of each neuron is governed by the (discretized) ordinary differential (now difference) equations:\n",
    "$$\n",
    "\\begin{align*}\n",
    "V_{i}(t+\\Delta{t}) & = \\alpha\\,V_{i}(t) + \\left(1-\\alpha\\right)I_{i}(t) - \\nu{z}_{i}(t)\\\\\n",
    "z_{i}(t) & = H\\left(I_{i}(t) - \\nu\\right)\n",
    "\\end{align*}\n",
    "$$\n",
    "where $V_{i}(\\star)$ denotes the membrane voltage at time $\\star$, $z_{i}(t)\\in\\left\\{0,1\\right\\}$ denotes the spike state of neuron $i$, and $\\nu$ denotes the firing threshold parameter. A LIF neuron will _fire_, i.e., switch to the `on` state from the `off` state, if the input current exceeds the firing threshold parameter. We implement this logic [using the Heaviside step function](https://en.wikipedia.org/wiki/Heaviside_step_function) $H(x)$. The input current for neuron $i$ at time $t$ denoted as $I_{i}(t)$, is given by\n",
    "$$\n",
    "\\begin{align*}\n",
    "I_{i}(t) = \\sum_{j=1}^{d_{in}}w_{ij}z_{j}(t)\n",
    "\\end{align*}\n",
    "$$\n",
    "where $w_{ij}\\in\\mathbb{R}_{+}$ denotes the strength of the connection between neuron $i$ and _pre-synaptic_ (input) neuron $j$, and $z_{j}(t)$ denotes the spike state of _pre synaptic_ neuron $j$. We have $d_{in}$ inputs in this formulation, i.e., $d_{in}$ _pre-synaptic_ neurons. The membrane potential decay constant $\\alpha = \\exp(-\\Delta{t}/\\tau_{m})$, where $\\Delta{t}$ is the timestep, and $\\tau_{m}$ is the membrane time constant.\n",
    "\n",
    "### Algorithm\n",
    "__Initialize__: The user specifies the number of neurons, the initial membrane voltage, and spike states are assumed to be zero. The user provides an input $\\mathbf{Z}\\in\\left\\{0,1\\right\\}^{d_{in}\\times{T}}$ matrix, where $z_{ij}\\in\\mathbf{Z}$ is the spike state of input neuron $i$ at time $j$. Lastly, specify a refractory time $\\Delta_{r}$ (number of time steps before neuron $i$ can refire).\n",
    "\n",
    "For $t = 1,2,\\dots,T\\cdot\\Delta{t}$\n",
    "1. For each neuron $k$, compute the input current $I_{k}(t)$, and compute the _next_ membrane voltage $V_{k}(t+1)  = \\alpha\\,V_{k}(t) + \\left(1-\\alpha\\right)I_{k}(t) - \\nu{z}_{k}(t)$. \n",
    "2. Update the _next_ spike state of neuron $k$ at time $t+1$. Evaluate $z_{k}(t+1) = H(I_{k}(t) - \\nu)$.\n",
    "    * __Refactory check__: If a neuron has recently fired, it is _ineligible_ to fire again until after a refactory period. Thus, if neuron $k$ is not eligible, i.e., fewer than refactory timesteps have passed, and it spiked, ignore the spike update.\n",
    "4. Continue until all input has been processed, i.e., all the columns of the $\\mathbf{Z}$ matrix have been given to the network, and the corresponding spike pattern recorded. \n",
    "\n",
    "Let's start by setting a few constants we will use in the SNN model. The comment next to each constant describes its permissible values, units, etc."
   ]
  },
  {
   "cell_type": "code",
   "execution_count": 12,
   "id": "5b4ab1c3",
   "metadata": {},
   "outputs": [],
   "source": [
    "number_of_samples = length(training_image_dataset); # how many samples do we have?\n",
    "number_of_neurons = 2^4; # TODO: how many SSN neurons do we want? (This will be the embedding dimension.)\n",
    "number_of_inputs = number_of_pixels; # how many inputs do we have? (size of the vector input)\n",
    "ν = 0.1; # Table 2: firing threshold https://arxiv.org/abs/2205.11276\n",
    "τ = 20.0; # Table 2: time constant (ms) https://arxiv.org/abs/2205.11276\n",
    "Δt = 1.0; # samping time step (ms)\n",
    "T₂ = 100; # number of time steps of length Δt (ms) to simulate (needs to be less than number_of_samples)"
   ]
  },
  {
   "cell_type": "markdown",
   "id": "26ad0a92",
   "metadata": {},
   "source": [
    "Next, we'll create an array `Z::Array{Int64,2}` that will hold the input data for the SSN. The columns of this array will hold the vectorized images, where the rows will be the pixel values transformed to $z_{ij}\\in\\{0,1\\}$ for image $j$ and pixel $i$. "
   ]
  },
  {
   "cell_type": "code",
   "execution_count": 14,
   "id": "7b4d4973",
   "metadata": {},
   "outputs": [
    {
     "data": {
      "text/plain": [
       "784×100 Matrix{Int64}:\n",
       " 0  0  0  0  0  0  0  0  0  0  0  0  0  …  0  0  0  0  0  0  0  0  0  0  0  0\n",
       " 0  0  0  0  0  0  0  0  0  0  0  0  0     0  0  0  0  0  0  0  0  0  0  0  0\n",
       " 0  0  0  0  0  0  0  0  0  0  0  0  0     0  0  0  0  0  0  0  0  0  0  0  0\n",
       " 0  0  0  0  0  0  0  0  0  0  0  0  0     0  0  0  0  0  0  0  0  0  0  0  0\n",
       " 0  0  0  0  0  0  0  0  0  0  0  0  0     0  0  0  0  0  0  0  0  0  0  0  0\n",
       " 0  0  0  0  0  0  0  0  0  0  0  0  0  …  0  0  0  0  0  0  0  0  0  0  0  0\n",
       " 0  0  0  0  0  0  0  0  0  0  0  0  0     0  0  0  0  0  0  0  0  0  0  0  0\n",
       " 0  0  0  0  0  0  0  0  0  0  0  0  0     0  0  0  0  0  0  0  0  0  0  0  0\n",
       " 0  0  0  0  0  0  0  0  0  0  0  0  0     0  0  0  0  0  0  0  0  0  0  0  0\n",
       " 0  0  0  0  0  0  0  0  0  0  0  0  0     0  0  0  0  0  0  0  0  0  0  0  0\n",
       " 0  0  0  0  0  0  0  0  0  0  0  0  0  …  0  0  0  0  0  0  0  0  0  0  0  0\n",
       " 0  0  0  0  0  0  0  0  0  0  0  0  0     0  0  0  0  0  0  0  0  0  0  0  0\n",
       " 0  0  0  0  0  0  0  0  0  0  0  0  0     0  0  0  0  0  0  0  0  0  0  0  0\n",
       " ⋮              ⋮              ⋮        ⋱        ⋮              ⋮           \n",
       " 0  0  0  0  0  0  0  0  0  0  0  0  0     0  0  0  0  0  0  0  0  0  0  0  0\n",
       " 0  0  0  0  0  0  0  0  0  0  0  0  0     0  0  0  0  0  0  0  0  0  0  0  0\n",
       " 0  0  0  0  0  0  0  0  0  0  0  0  0     0  0  0  0  0  0  0  0  0  0  0  0\n",
       " 0  0  0  0  0  0  0  0  0  0  0  0  0  …  0  0  0  0  0  0  0  0  0  0  0  0\n",
       " 0  0  0  0  0  0  0  0  0  0  0  0  0     0  0  0  0  0  0  0  0  0  0  0  0\n",
       " 0  0  0  0  0  0  0  0  0  0  0  0  0     0  0  0  0  0  0  0  0  0  0  0  0\n",
       " 0  0  0  0  0  0  0  0  0  0  0  0  0     0  0  0  0  0  0  0  0  0  0  0  0\n",
       " 0  0  0  0  0  0  0  0  0  0  0  0  0     0  0  0  0  0  0  0  0  0  0  0  0\n",
       " 0  0  0  0  0  0  0  0  0  0  0  0  0  …  0  0  0  0  0  0  0  0  0  0  0  0\n",
       " 0  0  0  0  0  0  0  0  0  0  0  0  0     0  0  0  0  0  0  0  0  0  0  0  0\n",
       " 0  0  0  0  0  0  0  0  0  0  0  0  0     0  0  0  0  0  0  0  0  0  0  0  0\n",
       " 0  0  0  0  0  0  0  0  0  0  0  0  0     0  0  0  0  0  0  0  0  0  0  0  0"
      ]
     },
     "execution_count": 14,
     "metadata": {},
     "output_type": "execute_result"
    }
   ],
   "source": [
    "Z = let\n",
    "\n",
    "    # initialize -\n",
    "    Z = zeros(Int, number_of_inputs, T₂); # we'll store the samples here (images on the col)\n",
    "    indexset = Set{Int64}(); # used to keep track of which samples we have already used\n",
    "    \n",
    "    # transform to {0,1}\n",
    "    for i ∈ 1:T₂\n",
    "        j = rand(1:number_of_samples); # generate a random sample index [1,....,number_of_samples]\n",
    "        if (j ∉ indexset) # if we have not already used this sample\n",
    "\n",
    "            tmp = training_image_dataset[j][1]; # grab the image\n",
    "            for k ∈ 1:number_of_pixels\n",
    "                z = tmp[k]; # grab the pixel value\n",
    "                if (z ≥ 0.5) # if the pixel value is greater than 0.5\n",
    "                    Z[k,i] = 1; # set to 1\n",
    "                else\n",
    "                    Z[k,i] = 0; # set to 0\n",
    "                end\n",
    "            end\n",
    "            push!(indexset,j); # grab the index (so we don't use it again)\n",
    "        end\n",
    "    end\n",
    "\n",
    "    Z # return \n",
    "end"
   ]
  },
  {
   "cell_type": "markdown",
   "id": "258bd06a",
   "metadata": {},
   "source": [
    "__Check__: Let's pick a column, and see what this data looks like. We should get a number back (after some gentle persuasion)."
   ]
  },
  {
   "cell_type": "code",
   "execution_count": 16,
   "id": "e00fb4c0",
   "metadata": {},
   "outputs": [
    {
     "data": {
      "image/png": "[encoded data removed]",
      "text/html": [
       "<img src=\"data:image/png;base64,iVBORw0KGgoAAAANSUhEUgAAAHAAAABwCAAAAADji6uXAAAAAXNSR0IArs4c6QAAAARnQU1BAACxjwv8YQUAAAAgY0hSTQAAeiYAAICEAAD6AAAAgOgAAHUwAADqYAAAOpgAABdwnLpRPAAAAPFJREFUaAW9wTGOwzAQwEAK4P+/vFekSBGcYUsGZyQmMYlJTGISk5jEJCYxiUlMYhKTmMQkJjGJSUxeMnwsrklMYhKTmMQkJjF5wfA1wOJ/EpOYxOTQ8IzEJCYxecniY7gmMYlJTA4MvxbXJCYxicmm4Wtxn8QkJjGJSUxiEpNDi2ckJjGJyYZhn8QkJjE5sHhOYhKTmDw0nJGYxCQmmxZ7JCYxickDwzmJSUxismGxT2ISk5jcNLxDYhKTmDy0OCMxiUlMYhKTmMTkhuFjcU5iEpOY3LCA4R0Sk5jE5KbFOyQmMYlJTGISk5jEJCYxif0By60OwQyjP00AAAAASUVORK5C\">"
      ],
      "text/plain": [
       "\u001b[0m\u001b[38;2;0;0;0m██\u001b[38;2;0;0;0m██\u001b[38;2;0;0;0m██\u001b[38;2;0;0;0m██\u001b[38;2;0;0;0m██\u001b[38;2;0;0;0m██\u001b[38;2;0;0;0m██\u001b[38;2;0;0;0m██\u001b[38;2;0;0;0m██\u001b[38;2;0;0;0m██\u001b[38;2;0;0;0m██\u001b[38;2;0;0;0m██\u001b[38;2;0;0;0m██\u001b[38;2;0;0;0m██\u001b[38;2;0;0;0m██\u001b[38;2;0;0;0m██\u001b[38;2;0;0;0m██\u001b[38;2;0;0;0m██\u001b[38;2;0;0;0m██\u001b[38;2;0;0;0m██\u001b[38;2;0;0;0m██\u001b[38;2;0;0;0m██\u001b[38;2;0;0;0m██\u001b[38;2;0;0;0m██\u001b[38;2;0;0;0m██\u001b[38;2;0;0;0m██\u001b[38;2;0;0;0m██\u001b[38;2;0;0;0m██\u001b[0m\n",
       "\u001b[0m\u001b[38;2;0;0;0m██\u001b[38;2;0;0;0m██\u001b[38;2;0;0;0m██\u001b[38;2;0;0;0m██\u001b[38;2;0;0;0m██\u001b[38;2;0;0;0m██\u001b[38;2;0;0;0m██\u001b[38;2;0;0;0m██\u001b[38;2;0;0;0m██\u001b[38;2;0;0;0m██\u001b[38;2;0;0;0m██\u001b[38;2;0;0;0m██\u001b[38;2;0;0;0m██\u001b[38;2;0;0;0m██\u001b[38;2;0;0;0m██\u001b[38;2;0;0;0m██\u001b[38;2;0;0;0m██\u001b[38;2;0;0;0m██\u001b[38;2;0;0;0m██\u001b[38;2;0;0;0m██\u001b[38;2;0;0;0m██\u001b[38;2;0;0;0m██\u001b[38;2;0;0;0m██\u001b[38;2;0;0;0m██\u001b[38;2;0;0;0m██\u001b[38;2;0;0;0m██\u001b[38;2;0;0;0m██\u001b[38;2;0;0;0m██\u001b[0m\n",
       "\u001b[0m\u001b[38;2;0;0;0m██\u001b[38;2;0;0;0m██\u001b[38;2;0;0;0m██\u001b[38;2;0;0;0m██\u001b[38;2;0;0;0m██\u001b[38;2;0;0;0m██\u001b[38;2;0;0;0m██\u001b[38;2;0;0;0m██\u001b[38;2;0;0;0m██\u001b[38;2;0;0;0m██\u001b[38;2;0;0;0m██\u001b[38;2;0;0;0m██\u001b[38;2;0;0;0m██\u001b[38;2;0;0;0m██\u001b[38;2;0;0;0m██\u001b[38;2;0;0;0m██\u001b[38;2;0;0;0m██\u001b[38;2;0;0;0m██\u001b[38;2;0;0;0m██\u001b[38;2;0;0;0m██\u001b[38;2;0;0;0m██\u001b[38;2;0;0;0m██\u001b[38;2;0;0;0m██\u001b[38;2;0;0;0m██\u001b[38;2;0;0;0m██\u001b[38;2;0;0;0m██\u001b[38;2;0;0;0m██\u001b[38;2;0;0;0m██\u001b[0m\n",
       "\u001b[0m\u001b[38;2;0;0;0m██\u001b[38;2;0;0;0m██\u001b[38;2;0;0;0m██\u001b[38;2;0;0;0m██\u001b[38;2;0;0;0m██\u001b[38;2;0;0;0m██\u001b[38;2;0;0;0m██\u001b[38;2;0;0;0m██\u001b[38;2;0;0;0m██\u001b[38;2;0;0;0m██\u001b[38;2;0;0;0m██\u001b[38;2;0;0;0m██\u001b[38;2;0;0;0m██\u001b[38;2;0;0;0m██\u001b[38;2;0;0;0m██\u001b[38;2;0;0;0m██\u001b[38;2;0;0;0m██\u001b[38;2;0;0;0m██\u001b[38;2;0;0;0m██\u001b[38;2;0;0;0m██\u001b[38;2;0;0;0m██\u001b[38;2;0;0;0m██\u001b[38;2;0;0;0m██\u001b[38;2;0;0;0m██\u001b[38;2;0;0;0m██\u001b[38;2;0;0;0m██\u001b[38;2;0;0;0m██\u001b[38;2;0;0;0m██\u001b[0m\n",
       "\u001b[0m\u001b[38;2;0;0;0m██\u001b[38;2;0;0;0m██\u001b[38;2;0;0;0m██\u001b[38;2;0;0;0m██\u001b[38;2;0;0;0m██\u001b[38;2;0;0;0m██\u001b[38;2;0;0;0m██\u001b[38;2;0;0;0m██\u001b[38;2;0;0;0m██\u001b[38;2;0;0;0m██\u001b[38;2;0;0;0m██\u001b[38;2;0;0;0m██\u001b[38;2;0;0;0m██\u001b[38;2;0;0;0m██\u001b[38;2;0;0;0m██\u001b[38;2;0;0;0m██\u001b[38;2;0;0;0m██\u001b[38;2;0;0;0m██\u001b[38;2;0;0;0m██\u001b[38;2;0;0;0m██\u001b[38;2;0;0;0m██\u001b[38;2;0;0;0m██\u001b[38;2;0;0;0m██\u001b[38;2;0;0;0m██\u001b[38;2;0;0;0m██\u001b[38;2;0;0;0m██\u001b[38;2;0;0;0m██\u001b[38;2;0;0;0m██\u001b[0m\n",
       "\u001b[0m\u001b[38;2;0;0;0m██\u001b[38;2;0;0;0m██\u001b[38;2;0;0;0m██\u001b[38;2;0;0;0m██\u001b[38;2;0;0;0m██\u001b[38;2;0;0;0m██\u001b[38;2;0;0;0m██\u001b[38;2;0;0;0m██\u001b[38;2;0;0;0m██\u001b[38;2;0;0;0m██\u001b[38;2;0;0;0m██\u001b[38;2;0;0;0m██\u001b[38;2;0;0;0m██\u001b[38;2;0;0;0m██\u001b[38;2;0;0;0m██\u001b[38;2;0;0;0m██\u001b[38;2;0;0;0m██\u001b[38;2;0;0;0m██\u001b[38;2;255;255;255m██\u001b[38;2;255;255;255m██\u001b[38;2;0;0;0m██\u001b[38;2;0;0;0m██\u001b[38;2;0;0;0m██\u001b[38;2;0;0;0m██\u001b[38;2;0;0;0m██\u001b[38;2;0;0;0m██\u001b[38;2;0;0;0m██\u001b[38;2;0;0;0m██\u001b[0m\n",
       "\u001b[0m\u001b[38;2;0;0;0m██\u001b[38;2;0;0;0m██\u001b[38;2;0;0;0m██\u001b[38;2;0;0;0m██\u001b[38;2;0;0;0m██\u001b[38;2;0;0;0m██\u001b[38;2;0;0;0m██\u001b[38;2;0;0;0m██\u001b[38;2;0;0;0m██\u001b[38;2;0;0;0m██\u001b[38;2;0;0;0m██\u001b[38;2;0;0;0m██\u001b[38;2;0;0;0m██\u001b[38;2;0;0;0m██\u001b[38;2;0;0;0m██\u001b[38;2;0;0;0m██\u001b[38;2;0;0;0m██\u001b[38;2;0;0;0m██\u001b[38;2;255;255;255m██\u001b[38;2;255;255;255m██\u001b[38;2;0;0;0m██\u001b[38;2;0;0;0m██\u001b[38;2;0;0;0m██\u001b[38;2;0;0;0m██\u001b[38;2;0;0;0m██\u001b[38;2;0;0;0m██\u001b[38;2;0;0;0m██\u001b[38;2;0;0;0m██\u001b[0m\n",
       "\u001b[0m\u001b[38;2;0;0;0m██\u001b[38;2;0;0;0m██\u001b[38;2;0;0;0m██\u001b[38;2;0;0;0m██\u001b[38;2;0;0;0m██\u001b[38;2;0;0;0m██\u001b[38;2;0;0;0m██\u001b[38;2;0;0;0m██\u001b[38;2;0;0;0m██\u001b[38;2;0;0;0m██\u001b[38;2;0;0;0m██\u001b[38;2;0;0;0m██\u001b[38;2;0;0;0m██\u001b[38;2;0;0;0m██\u001b[38;2;0;0;0m██\u001b[38;2;0;0;0m██\u001b[38;2;0;0;0m██\u001b[38;2;255;255;255m██\u001b[38;2;255;255;255m██\u001b[38;2;255;255;255m██\u001b[38;2;255;255;255m██\u001b[38;2;0;0;0m██\u001b[38;2;0;0;0m██\u001b[38;2;0;0;0m██\u001b[38;2;0;0;0m██\u001b[38;2;0;0;0m██\u001b[38;2;0;0;0m██\u001b[38;2;0;0;0m██\u001b[0m\n",
       "\u001b[0m\u001b[38;2;0;0;0m██\u001b[38;2;0;0;0m██\u001b[38;2;0;0;0m██\u001b[38;2;0;0;0m██\u001b[38;2;0;0;0m██\u001b[38;2;0;0;0m██\u001b[38;2;0;0;0m██\u001b[38;2;0;0;0m██\u001b[38;2;0;0;0m██\u001b[38;2;0;0;0m██\u001b[38;2;0;0;0m██\u001b[38;2;0;0;0m██\u001b[38;2;0;0;0m██\u001b[38;2;0;0;0m██\u001b[38;2;0;0;0m██\u001b[38;2;0;0;0m██\u001b[38;2;255;255;255m██\u001b[38;2;255;255;255m██\u001b[38;2;255;255;255m██\u001b[38;2;255;255;255m██\u001b[38;2;255;255;255m██\u001b[38;2;0;0;0m██\u001b[38;2;0;0;0m██\u001b[38;2;0;0;0m██\u001b[38;2;0;0;0m██\u001b[38;2;0;0;0m██\u001b[38;2;0;0;0m██\u001b[38;2;0;0;0m██\u001b[0m\n",
       "\u001b[0m\u001b[38;2;0;0;0m██\u001b[38;2;0;0;0m██\u001b[38;2;0;0;0m██\u001b[38;2;0;0;0m██\u001b[38;2;0;0;0m██\u001b[38;2;0;0;0m██\u001b[38;2;0;0;0m██\u001b[38;2;0;0;0m██\u001b[38;2;0;0;0m██\u001b[38;2;0;0;0m██\u001b[38;2;0;0;0m██\u001b[38;2;0;0;0m██\u001b[38;2;0;0;0m██\u001b[38;2;0;0;0m██\u001b[38;2;0;0;0m██\u001b[38;2;0;0;0m██\u001b[38;2;255;255;255m██\u001b[38;2;255;255;255m██\u001b[38;2;0;0;0m██\u001b[38;2;0;0;0m██\u001b[38;2;255;255;255m██\u001b[38;2;0;0;0m██\u001b[38;2;0;0;0m██\u001b[38;2;0;0;0m██\u001b[38;2;0;0;0m██\u001b[38;2;0;0;0m██\u001b[38;2;0;0;0m██\u001b[38;2;0;0;0m██\u001b[0m\n",
       "\u001b[0m\u001b[38;2;0;0;0m██\u001b[38;2;0;0;0m██\u001b[38;2;0;0;0m██\u001b[38;2;0;0;0m██\u001b[38;2;0;0;0m██\u001b[38;2;0;0;0m██\u001b[38;2;0;0;0m██\u001b[38;2;0;0;0m██\u001b[38;2;0;0;0m██\u001b[38;2;0;0;0m██\u001b[38;2;0;0;0m██\u001b[38;2;0;0;0m██\u001b[38;2;0;0;0m██\u001b[38;2;0;0;0m██\u001b[38;2;0;0;0m██\u001b[38;2;255;255;255m██\u001b[38;2;255;255;255m██\u001b[38;2;255;255;255m██\u001b[38;2;0;0;0m██\u001b[38;2;0;0;0m██\u001b[38;2;0;0;0m██\u001b[38;2;0;0;0m██\u001b[38;2;0;0;0m██\u001b[38;2;0;0;0m██\u001b[38;2;0;0;0m██\u001b[38;2;0;0;0m██\u001b[38;2;0;0;0m██\u001b[38;2;0;0;0m██\u001b[0m\n",
       "\u001b[0m\u001b[38;2;0;0;0m██\u001b[38;2;0;0;0m██\u001b[38;2;0;0;0m██\u001b[38;2;0;0;0m██\u001b[38;2;0;0;0m██\u001b[38;2;0;0;0m██\u001b[38;2;0;0;0m██\u001b[38;2;0;0;0m██\u001b[38;2;0;0;0m██\u001b[38;2;0;0;0m██\u001b[38;2;0;0;0m██\u001b[38;2;0;0;0m██\u001b[38;2;0;0;0m██\u001b[38;2;0;0;0m██\u001b[38;2;255;255;255m██\u001b[38;2;255;255;255m██\u001b[38;2;255;255;255m██\u001b[38;2;0;0;0m██\u001b[38;2;0;0;0m██\u001b[38;2;0;0;0m██\u001b[38;2;0;0;0m██\u001b[38;2;0;0;0m██\u001b[38;2;0;0;0m██\u001b[38;2;0;0;0m██\u001b[38;2;0;0;0m██\u001b[38;2;0;0;0m██\u001b[38;2;0;0;0m██\u001b[38;2;0;0;0m██\u001b[0m\n",
       "\u001b[0m\u001b[38;2;0;0;0m██\u001b[38;2;0;0;0m██\u001b[38;2;0;0;0m██\u001b[38;2;0;0;0m██\u001b[38;2;0;0;0m██\u001b[38;2;0;0;0m██\u001b[38;2;0;0;0m██\u001b[38;2;0;0;0m██\u001b[38;2;0;0;0m██\u001b[38;2;0;0;0m██\u001b[38;2;0;0;0m██\u001b[38;2;0;0;0m██\u001b[38;2;0;0;0m██\u001b[38;2;0;0;0m██\u001b[38;2;255;255;255m██\u001b[38;2;255;255;255m██\u001b[38;2;255;255;255m██\u001b[38;2;0;0;0m██\u001b[38;2;0;0;0m██\u001b[38;2;0;0;0m██\u001b[38;2;0;0;0m██\u001b[38;2;0;0;0m██\u001b[38;2;0;0;0m██\u001b[38;2;0;0;0m██\u001b[38;2;0;0;0m██\u001b[38;2;0;0;0m██\u001b[38;2;0;0;0m██\u001b[38;2;0;0;0m██\u001b[0m\n",
       "\u001b[0m\u001b[38;2;0;0;0m██\u001b[38;2;0;0;0m██\u001b[38;2;0;0;0m██\u001b[38;2;0;0;0m██\u001b[38;2;0;0;0m██\u001b[38;2;0;0;0m██\u001b[38;2;0;0;0m██\u001b[38;2;0;0;0m██\u001b[38;2;0;0;0m██\u001b[38;2;0;0;0m██\u001b[38;2;0;0;0m██\u001b[38;2;0;0;0m██\u001b[38;2;0;0;0m██\u001b[38;2;0;0;0m██\u001b[38;2;255;255;255m██\u001b[38;2;255;255;255m██\u001b[38;2;0;0;0m██\u001b[38;2;0;0;0m██\u001b[38;2;0;0;0m██\u001b[38;2;0;0;0m██\u001b[38;2;0;0;0m██\u001b[38;2;0;0;0m██\u001b[38;2;0;0;0m██\u001b[38;2;0;0;0m██\u001b[38;2;0;0;0m██\u001b[38;2;0;0;0m██\u001b[38;2;0;0;0m██\u001b[38;2;0;0;0m██\u001b[0m\n",
       "\u001b[0m\u001b[38;2;0;0;0m██\u001b[38;2;0;0;0m██\u001b[38;2;0;0;0m██\u001b[38;2;0;0;0m██\u001b[38;2;0;0;0m██\u001b[38;2;0;0;0m██\u001b[38;2;0;0;0m██\u001b[38;2;0;0;0m██\u001b[38;2;0;0;0m██\u001b[38;2;0;0;0m██\u001b[38;2;0;0;0m██\u001b[38;2;0;0;0m██\u001b[38;2;0;0;0m██\u001b[38;2;255;255;255m██\u001b[38;2;255;255;255m██\u001b[38;2;255;255;255m██\u001b[38;2;0;0;0m██\u001b[38;2;0;0;0m██\u001b[38;2;0;0;0m██\u001b[38;2;0;0;0m██\u001b[38;2;0;0;0m██\u001b[38;2;0;0;0m██\u001b[38;2;0;0;0m██\u001b[38;2;0;0;0m██\u001b[38;2;0;0;0m██\u001b[38;2;0;0;0m██\u001b[38;2;0;0;0m██\u001b[38;2;0;0;0m██\u001b[0m\n",
       "\u001b[0m\u001b[38;2;0;0;0m██\u001b[38;2;0;0;0m██\u001b[38;2;0;0;0m██\u001b[38;2;0;0;0m██\u001b[38;2;0;0;0m██\u001b[38;2;0;0;0m██\u001b[38;2;0;0;0m██\u001b[38;2;0;0;0m██\u001b[38;2;0;0;0m██\u001b[38;2;0;0;0m██\u001b[38;2;0;0;0m██\u001b[38;2;0;0;0m██\u001b[38;2;0;0;0m██\u001b[38;2;255;255;255m██\u001b[38;2;255;255;255m██\u001b[38;2;0;0;0m██\u001b[38;2;0;0;0m██\u001b[38;2;0;0;0m██\u001b[38;2;0;0;0m██\u001b[38;2;0;0;0m██\u001b[38;2;0;0;0m██\u001b[38;2;0;0;0m██\u001b[38;2;0;0;0m██\u001b[38;2;0;0;0m██\u001b[38;2;0;0;0m██\u001b[38;2;0;0;0m██\u001b[38;2;0;0;0m██\u001b[38;2;0;0;0m██\u001b[0m\n",
       "\u001b[0m\u001b[38;2;0;0;0m██\u001b[38;2;0;0;0m██\u001b[38;2;0;0;0m██\u001b[38;2;0;0;0m██\u001b[38;2;0;0;0m██\u001b[38;2;0;0;0m██\u001b[38;2;0;0;0m██\u001b[38;2;0;0;0m██\u001b[38;2;0;0;0m██\u001b[38;2;0;0;0m██\u001b[38;2;0;0;0m██\u001b[38;2;0;0;0m██\u001b[38;2;255;255;255m██\u001b[38;2;255;255;255m██\u001b[38;2;255;255;255m██\u001b[38;2;0;0;0m██\u001b[38;2;0;0;0m██\u001b[38;2;0;0;0m██\u001b[38;2;0;0;0m██\u001b[38;2;0;0;0m██\u001b[38;2;0;0;0m██\u001b[38;2;0;0;0m██\u001b[38;2;0;0;0m██\u001b[38;2;0;0;0m██\u001b[38;2;0;0;0m██\u001b[38;2;0;0;0m██\u001b[38;2;0;0;0m██\u001b[38;2;0;0;0m██\u001b[0m\n",
       "\u001b[0m\u001b[38;2;0;0;0m██\u001b[38;2;0;0;0m██\u001b[38;2;0;0;0m██\u001b[38;2;0;0;0m██\u001b[38;2;0;0;0m██\u001b[38;2;0;0;0m██\u001b[38;2;0;0;0m██\u001b[38;2;0;0;0m██\u001b[38;2;0;0;0m██\u001b[38;2;0;0;0m██\u001b[38;2;0;0;0m██\u001b[38;2;0;0;0m██\u001b[38;2;255;255;255m██\u001b[38;2;255;255;255m██\u001b[38;2;0;0;0m██\u001b[38;2;0;0;0m██\u001b[38;2;0;0;0m██\u001b[38;2;0;0;0m██\u001b[38;2;0;0;0m██\u001b[38;2;0;0;0m██\u001b[38;2;0;0;0m██\u001b[38;2;0;0;0m██\u001b[38;2;0;0;0m██\u001b[38;2;0;0;0m██\u001b[38;2;0;0;0m██\u001b[38;2;0;0;0m██\u001b[38;2;0;0;0m██\u001b[38;2;0;0;0m██\u001b[0m\n",
       "\u001b[0m\u001b[38;2;0;0;0m██\u001b[38;2;0;0;0m██\u001b[38;2;0;0;0m██\u001b[38;2;0;0;0m██\u001b[38;2;0;0;0m██\u001b[38;2;0;0;0m██\u001b[38;2;0;0;0m██\u001b[38;2;0;0;0m██\u001b[38;2;0;0;0m██\u001b[38;2;0;0;0m██\u001b[38;2;0;0;0m██\u001b[38;2;255;255;255m██\u001b[38;2;255;255;255m██\u001b[38;2;255;255;255m██\u001b[38;2;0;0;0m██\u001b[38;2;0;0;0m██\u001b[38;2;0;0;0m██\u001b[38;2;0;0;0m██\u001b[38;2;0;0;0m██\u001b[38;2;0;0;0m██\u001b[38;2;0;0;0m██\u001b[38;2;0;0;0m██\u001b[38;2;0;0;0m██\u001b[38;2;0;0;0m██\u001b[38;2;0;0;0m██\u001b[38;2;0;0;0m██\u001b[38;2;0;0;0m██\u001b[38;2;0;0;0m██\u001b[0m\n",
       "\u001b[0m\u001b[38;2;0;0;0m██\u001b[38;2;0;0;0m██\u001b[38;2;0;0;0m██\u001b[38;2;0;0;0m██\u001b[38;2;0;0;0m██\u001b[38;2;0;0;0m██\u001b[38;2;0;0;0m██\u001b[38;2;0;0;0m██\u001b[38;2;0;0;0m██\u001b[38;2;0;0;0m██\u001b[38;2;0;0;0m██\u001b[38;2;255;255;255m██\u001b[38;2;255;255;255m██\u001b[38;2;0;0;0m██\u001b[38;2;0;0;0m██\u001b[38;2;0;0;0m██\u001b[38;2;0;0;0m██\u001b[38;2;0;0;0m██\u001b[38;2;0;0;0m██\u001b[38;2;0;0;0m██\u001b[38;2;0;0;0m██\u001b[38;2;0;0;0m██\u001b[38;2;0;0;0m██\u001b[38;2;0;0;0m██\u001b[38;2;0;0;0m██\u001b[38;2;0;0;0m██\u001b[38;2;0;0;0m██\u001b[38;2;0;0;0m██\u001b[0m\n",
       "\u001b[0m\u001b[38;2;0;0;0m██\u001b[38;2;0;0;0m██\u001b[38;2;0;0;0m██\u001b[38;2;0;0;0m██\u001b[38;2;0;0;0m██\u001b[38;2;0;0;0m██\u001b[38;2;0;0;0m██\u001b[38;2;0;0;0m██\u001b[38;2;0;0;0m██\u001b[38;2;0;0;0m██\u001b[38;2;255;255;255m██\u001b[38;2;255;255;255m██\u001b[38;2;255;255;255m██\u001b[38;2;0;0;0m██\u001b[38;2;0;0;0m██\u001b[38;2;0;0;0m██\u001b[38;2;0;0;0m██\u001b[38;2;0;0;0m██\u001b[38;2;0;0;0m██\u001b[38;2;0;0;0m██\u001b[38;2;0;0;0m██\u001b[38;2;0;0;0m██\u001b[38;2;0;0;0m██\u001b[38;2;0;0;0m██\u001b[38;2;0;0;0m██\u001b[38;2;0;0;0m██\u001b[38;2;0;0;0m██\u001b[38;2;0;0;0m██\u001b[0m\n",
       "\u001b[0m\u001b[38;2;0;0;0m██\u001b[38;2;0;0;0m██\u001b[38;2;0;0;0m██\u001b[38;2;0;0;0m██\u001b[38;2;0;0;0m██\u001b[38;2;0;0;0m██\u001b[38;2;0;0;0m██\u001b[38;2;0;0;0m██\u001b[38;2;0;0;0m██\u001b[38;2;0;0;0m██\u001b[38;2;255;255;255m██\u001b[38;2;255;255;255m██\u001b[38;2;0;0;0m██\u001b[38;2;0;0;0m██\u001b[38;2;0;0;0m██\u001b[38;2;0;0;0m██\u001b[38;2;0;0;0m██\u001b[38;2;0;0;0m██\u001b[38;2;0;0;0m██\u001b[38;2;0;0;0m██\u001b[38;2;0;0;0m██\u001b[38;2;0;0;0m██\u001b[38;2;0;0;0m██\u001b[38;2;0;0;0m██\u001b[38;2;0;0;0m██\u001b[38;2;0;0;0m██\u001b[38;2;0;0;0m██\u001b[38;2;0;0;0m██\u001b[0m\n",
       "\u001b[0m\u001b[38;2;0;0;0m██\u001b[38;2;0;0;0m██\u001b[38;2;0;0;0m██\u001b[38;2;0;0;0m██\u001b[38;2;0;0;0m██\u001b[38;2;0;0;0m██\u001b[38;2;0;0;0m██\u001b[38;2;0;0;0m██\u001b[38;2;0;0;0m██\u001b[38;2;0;0;0m██\u001b[38;2;255;255;255m██\u001b[38;2;255;255;255m██\u001b[38;2;0;0;0m██\u001b[38;2;0;0;0m██\u001b[38;2;0;0;0m██\u001b[38;2;0;0;0m██\u001b[38;2;0;0;0m██\u001b[38;2;0;0;0m██\u001b[38;2;0;0;0m██\u001b[38;2;0;0;0m██\u001b[38;2;0;0;0m██\u001b[38;2;0;0;0m██\u001b[38;2;0;0;0m██\u001b[38;2;0;0;0m██\u001b[38;2;0;0;0m██\u001b[38;2;0;0;0m██\u001b[38;2;0;0;0m██\u001b[38;2;0;0;0m██\u001b[0m\n",
       "\u001b[0m\u001b[38;2;0;0;0m██\u001b[38;2;0;0;0m██\u001b[38;2;0;0;0m██\u001b[38;2;0;0;0m██\u001b[38;2;0;0;0m██\u001b[38;2;0;0;0m██\u001b[38;2;0;0;0m██\u001b[38;2;0;0;0m██\u001b[38;2;0;0;0m██\u001b[38;2;255;255;255m██\u001b[38;2;255;255;255m██\u001b[38;2;0;0;0m██\u001b[38;2;0;0;0m██\u001b[38;2;0;0;0m██\u001b[38;2;0;0;0m██\u001b[38;2;0;0;0m██\u001b[38;2;0;0;0m██\u001b[38;2;0;0;0m██\u001b[38;2;0;0;0m██\u001b[38;2;0;0;0m██\u001b[38;2;0;0;0m██\u001b[38;2;0;0;0m██\u001b[38;2;0;0;0m██\u001b[38;2;0;0;0m██\u001b[38;2;0;0;0m██\u001b[38;2;0;0;0m██\u001b[38;2;0;0;0m██\u001b[38;2;0;0;0m██\u001b[0m\n",
       "\u001b[0m\u001b[38;2;0;0;0m██\u001b[38;2;0;0;0m██\u001b[38;2;0;0;0m██\u001b[38;2;0;0;0m██\u001b[38;2;0;0;0m██\u001b[38;2;0;0;0m██\u001b[38;2;0;0;0m██\u001b[38;2;0;0;0m██\u001b[38;2;0;0;0m██\u001b[38;2;0;0;0m██\u001b[38;2;255;255;255m██\u001b[38;2;0;0;0m██\u001b[38;2;0;0;0m██\u001b[38;2;0;0;0m██\u001b[38;2;0;0;0m██\u001b[38;2;0;0;0m██\u001b[38;2;0;0;0m██\u001b[38;2;0;0;0m██\u001b[38;2;0;0;0m██\u001b[38;2;0;0;0m██\u001b[38;2;0;0;0m██\u001b[38;2;0;0;0m██\u001b[38;2;0;0;0m██\u001b[38;2;0;0;0m██\u001b[38;2;0;0;0m██\u001b[38;2;0;0;0m██\u001b[38;2;0;0;0m██\u001b[38;2;0;0;0m██\u001b[0m\n",
       "\u001b[0m\u001b[38;2;0;0;0m██\u001b[38;2;0;0;0m██\u001b[38;2;0;0;0m██\u001b[38;2;0;0;0m██\u001b[38;2;0;0;0m██\u001b[38;2;0;0;0m██\u001b[38;2;0;0;0m██\u001b[38;2;0;0;0m██\u001b[38;2;0;0;0m██\u001b[38;2;0;0;0m██\u001b[38;2;0;0;0m██\u001b[38;2;0;0;0m██\u001b[38;2;0;0;0m██\u001b[38;2;0;0;0m██\u001b[38;2;0;0;0m██\u001b[38;2;0;0;0m██\u001b[38;2;0;0;0m██\u001b[38;2;0;0;0m██\u001b[38;2;0;0;0m██\u001b[38;2;0;0;0m██\u001b[38;2;0;0;0m██\u001b[38;2;0;0;0m██\u001b[38;2;0;0;0m██\u001b[38;2;0;0;0m██\u001b[38;2;0;0;0m██\u001b[38;2;0;0;0m██\u001b[38;2;0;0;0m██\u001b[38;2;0;0;0m██\u001b[0m\n",
       "\u001b[0m\u001b[38;2;0;0;0m██\u001b[38;2;0;0;0m██\u001b[38;2;0;0;0m██\u001b[38;2;0;0;0m██\u001b[38;2;0;0;0m██\u001b[38;2;0;0;0m██\u001b[38;2;0;0;0m██\u001b[38;2;0;0;0m██\u001b[38;2;0;0;0m██\u001b[38;2;0;0;0m██\u001b[38;2;0;0;0m██\u001b[38;2;0;0;0m██\u001b[38;2;0;0;0m██\u001b[38;2;0;0;0m██\u001b[38;2;0;0;0m██\u001b[38;2;0;0;0m██\u001b[38;2;0;0;0m██\u001b[38;2;0;0;0m██\u001b[38;2;0;0;0m██\u001b[38;2;0;0;0m██\u001b[38;2;0;0;0m██\u001b[38;2;0;0;0m██\u001b[38;2;0;0;0m██\u001b[38;2;0;0;0m██\u001b[38;2;0;0;0m██\u001b[38;2;0;0;0m██\u001b[38;2;0;0;0m██\u001b[38;2;0;0;0m██\u001b[0m\n",
       "\u001b[0m\u001b[38;2;0;0;0m██\u001b[38;2;0;0;0m██\u001b[38;2;0;0;0m██\u001b[38;2;0;0;0m██\u001b[38;2;0;0;0m██\u001b[38;2;0;0;0m██\u001b[38;2;0;0;0m██\u001b[38;2;0;0;0m██\u001b[38;2;0;0;0m██\u001b[38;2;0;0;0m██\u001b[38;2;0;0;0m██\u001b[38;2;0;0;0m██\u001b[38;2;0;0;0m██\u001b[38;2;0;0;0m██\u001b[38;2;0;0;0m██\u001b[38;2;0;0;0m██\u001b[38;2;0;0;0m██\u001b[38;2;0;0;0m██\u001b[38;2;0;0;0m██\u001b[38;2;0;0;0m██\u001b[38;2;0;0;0m██\u001b[38;2;0;0;0m██\u001b[38;2;0;0;0m██\u001b[38;2;0;0;0m██\u001b[38;2;0;0;0m██\u001b[38;2;0;0;0m██\u001b[38;2;0;0;0m██\u001b[38;2;0;0;0m██\u001b[0m"
      ]
     },
     "execution_count": 16,
     "metadata": {},
     "output_type": "execute_result"
    }
   ],
   "source": [
    "let\n",
    "    index_to_look_at = 8; # which image to look at?\n",
    "    img = Z[:,index_to_look_at] |> x-> reshape(x, number_of_rows, number_of_cols) |> transpose |> Matrix; # Magic? No just the majesty of Julia\n",
    "    Gray.(img) # convert to a gray scale image, display\n",
    "end"
   ]
  },
  {
   "cell_type": "markdown",
   "id": "655b000c",
   "metadata": {},
   "source": [
    "What does the entire $\\mathbf{Z}$ matrix look like? "
   ]
  },
  {
   "cell_type": "code",
   "execution_count": 18,
   "id": "1166ab56",
   "metadata": {},
   "outputs": [
    {
     "data": {
      "image/png": "[encoded data removed]",
      "text/html": [
       "<img src=\"data:image/png;base64,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\">"
      ],
      "text/plain": [
       "\u001b[0m\u001b[38;2;0;0;0;48;2;0;0;0m▀\u001b[38;2;0;0;0;48;2;0;0;0m▀\u001b[38;2;0;0;0;48;2;0;0;0m▀\u001b[38;2;0;0;0;48;2;1;1;1m▀\u001b[38;2;0;0;0;48;2;1;1;1m▀\u001b[38;2;0;0;0;48;2;2;2;2m▀\u001b[38;2;1;1;1;48;2;5;5;5m▀\u001b[38;2;0;0;0;48;2;2;2;2m▀\u001b[38;2;4;4;4;48;2;17;17;17m▀\u001b[38;2;2;2;2;48;2;11;11;11m▀\u001b[38;2;7;7;7;48;2;33;33;33m▀\u001b[38;2;8;8;8;48;2;29;29;29m▀\u001b[38;2;9;9;9;48;2;34;34;34m▀\u001b[38;2;18;18;18;48;2;55;55;55m▀\u001b[38;2;9;9;9;48;2;31;31;31m▀\u001b[38;2;24;24;24;48;2;71;71;71m▀\u001b[38;2;10;10;10;48;2;37;37;37m▀\u001b[38;2;16;16;16;48;2;58;58;58m▀\u001b[38;2;11;11;11;48;2;48;48;48m▀\u001b[38;2;9;9;9;48;2;40;40;40m▀\u001b[38;2;12;12;12;48;2;51;51;51m▀\u001b[38;2;6;6;6;48;2;25;25;25m▀\u001b[38;2;12;12;12;48;2;54;54;54m▀\u001b[38;2;7;7;7;48;2;29;29;29m▀\u001b[38;2;13;13;13;48;2;52;52;52m▀\u001b[38;2;9;9;9;48;2;42;42;42m▀\u001b[38;2;10;10;10;48;2;41;41;41m▀\u001b[38;2;14;14;14;48;2;62;62;62m▀\u001b[38;2;8;8;8;48;2;35;35;35m▀\u001b[38;2;16;16;16;48;2;63;63;63m▀\u001b[38;2;9;9;9;48;2;34;34;34m▀\u001b[38;2;12;12;12;48;2;46;46;46m▀\u001b[38;2;12;12;12;48;2;46;46;46m▀\u001b[38;2;8;8;8;48;2;32;32;32m▀\u001b[38;2;14;14;14;48;2;60;60;60m▀\u001b[38;2;6;6;6;48;2;27;27;27m▀\u001b[38;2;16;16;16;48;2;60;60;60m▀\u001b[38;2;7;7;7;48;2;32;32;32m▀\u001b[38;2;10;10;10;48;2;36;36;36m▀\u001b[38;2;10;10;10;48;2;39;39;39m▀\u001b[38;2;6;6;6;48;2;19;19;19m▀\u001b[38;2;10;10;10;48;2;39;39;39m▀\u001b[38;2;3;3;3;48;2;10;10;10m▀\u001b[38;2;6;6;6;48;2;20;20;20m▀\u001b[38;2;1;1;1;48;2;5;5;5m▀\u001b[38;2;2;2;2;48;2;6;6;6m▀\u001b[38;2;1;1;1;48;2;3;3;3m▀\u001b[38;2;1;1;1;48;2;2;2;2m▀\u001b[38;2;0;0;0;48;2;1;1;1m▀\u001b[38;2;0;0;0;48;2;0;0;0m▀\u001b[0m\n",
       "\u001b[0m\u001b[38;2;0;0;0;48;2;0;0;0m▀\u001b[38;2;0;0;0;48;2;0;0;0m▀\u001b[38;2;0;0;0;48;2;0;0;0m▀\u001b[38;2;0;0;0;48;2;0;0;0m▀\u001b[38;2;0;0;0;48;2;0;0;0m▀\u001b[38;2;1;1;1;48;2;0;0;0m▀\u001b[38;2;6;6;6;48;2;7;7;7m▀\u001b[38;2;3;3;3;48;2;5;5;5m▀\u001b[38;2;19;19;19;48;2;19;19;19m▀\u001b[38;2;19;19;19;48;2;15;15;15m▀\u001b[38;2;45;45;45;48;2;34;34;34m▀\u001b[38;2;43;43;43;48;2;35;35;35m▀\u001b[38;2;42;42;42;48;2;35;35;35m▀\u001b[38;2;63;63;63;48;2;57;57;57m▀\u001b[38;2;31;31;31;48;2;26;26;26m▀\u001b[38;2;67;67;67;48;2;57;57;57m▀\u001b[38;2;32;32;32;48;2;24;24;24m▀\u001b[38;2;54;54;54;48;2;47;47;47m▀\u001b[38;2;45;45;45;48;2;34;34;34m▀\u001b[38;2;41;41;41;48;2;33;33;33m▀\u001b[38;2;59;59;59;48;2;46;46;46m▀\u001b[38;2;29;29;29;48;2;22;22;22m▀\u001b[38;2;63;63;63;48;2;51;51;51m▀\u001b[38;2;33;33;33;48;2;29;29;29m▀\u001b[38;2;53;53;53;48;2;44;44;44m▀\u001b[38;2;48;48;48;48;2;49;49;49m▀\u001b[38;2;37;37;37;48;2;32;32;32m▀\u001b[38;2;67;67;67;48;2;65;65;65m▀\u001b[38;2;29;29;29;48;2;22;22;22m▀\u001b[38;2;62;62;62;48;2;52;52;52m▀\u001b[38;2;32;32;32;48;2;24;24;24m▀\u001b[38;2;48;48;48;48;2;41;41;41m▀\u001b[38;2;52;52;52;48;2;42;42;42m▀\u001b[38;2;38;38;38;48;2;33;33;33m▀\u001b[38;2;72;72;72;48;2;58;58;58m▀\u001b[38;2;36;36;36;48;2;31;31;31m▀\u001b[38;2;74;74;74;48;2;58;58;58m▀\u001b[38;2;44;44;44;48;2;36;36;36m▀\u001b[38;2;46;46;46;48;2;35;35;35m▀\u001b[38;2;49;49;49;48;2;39;39;39m▀\u001b[38;2;22;22;22;48;2;18;18;18m▀\u001b[38;2;37;37;37;48;2;31;31;31m▀\u001b[38;2;9;9;9;48;2;8;8;8m▀\u001b[38;2;16;16;16;48;2;17;17;17m▀\u001b[38;2;2;2;2;48;2;3;3;3m▀\u001b[38;2;2;2;2;48;2;4;4;4m▀\u001b[38;2;0;0;0;48;2;1;1;1m▀\u001b[38;2;0;0;0;48;2;0;0;0m▀\u001b[38;2;0;0;0;48;2;0;0;0m▀\u001b[38;2;0;0;0;48;2;0;0;0m▀\u001b[0m\n",
       "\u001b[0m\u001b[38;2;0;0;0;48;2;0;0;0m▀\u001b[38;2;0;0;0;48;2;0;0;0m▀\u001b[38;2;0;0;0;48;2;0;0;0m▀\u001b[38;2;0;0;0;48;2;0;0;0m▀\u001b[38;2;1;1;1;48;2;1;1;1m▀\u001b[38;2;1;1;1;48;2;0;0;0m▀\u001b[38;2;6;6;6;48;2;4;4;4m▀\u001b[38;2;4;4;4;48;2;3;3;3m▀\u001b[38;2;18;18;18;48;2;16;16;16m▀\u001b[38;2;13;13;13;48;2;12;12;12m▀\u001b[38;2;25;25;25;48;2;23;23;23m▀\u001b[38;2;33;33;33;48;2;29;29;29m▀\u001b[38;2;30;30;30;48;2;27;27;27m▀\u001b[38;2;60;60;60;48;2;63;63;63m▀\u001b[38;2;26;26;26;48;2;28;28;28m▀\u001b[38;2;59;59;59;48;2;62;62;62m▀\u001b[38;2;23;23;23;48;2;27;27;27m▀\u001b[38;2;40;40;40;48;2;41;41;41m▀\u001b[38;2;32;32;32;48;2;33;33;33m▀\u001b[38;2;26;26;26;48;2;28;28;28m▀\u001b[38;2;41;41;41;48;2;40;40;40m▀\u001b[38;2;21;21;21;48;2;23;23;23m▀\u001b[38;2;52;52;52;48;2;47;47;47m▀\u001b[38;2;30;30;30;48;2;30;30;30m▀\u001b[38;2;46;46;46;48;2;45;45;45m▀\u001b[38;2;47;47;47;48;2;44;44;44m▀\u001b[38;2;33;33;33;48;2;32;32;32m▀\u001b[38;2;59;59;59;48;2;63;63;63m▀\u001b[38;2;23;23;23;48;2;26;26;26m▀\u001b[38;2;56;56;56;48;2;53;53;53m▀\u001b[38;2;23;23;23;48;2;25;25;25m▀\u001b[38;2;40;40;40;48;2;38;38;38m▀\u001b[38;2;33;33;33;48;2;30;30;30m▀\u001b[38;2;25;25;25;48;2;23;23;23m▀\u001b[38;2;42;42;42;48;2;35;35;35m▀\u001b[38;2;24;24;24;48;2;20;20;20m▀\u001b[38;2;51;51;51;48;2;47;47;47m▀\u001b[38;2;28;28;28;48;2;28;28;28m▀\u001b[38;2;36;36;36;48;2;41;41;41m▀\u001b[38;2;35;35;35;48;2;41;41;41m▀\u001b[38;2;20;20;20;48;2;24;24;24m▀\u001b[38;2;35;35;35;48;2;36;36;36m▀\u001b[38;2;10;10;10;48;2;10;10;10m▀\u001b[38;2;20;20;20;48;2;18;18;18m▀\u001b[38;2;3;3;3;48;2;4;4;4m▀\u001b[38;2;3;3;3;48;2;5;5;5m▀\u001b[38;2;0;0;0;48;2;2;2;2m▀\u001b[38;2;0;0;0;48;2;1;1;1m▀\u001b[38;2;0;0;0;48;2;0;0;0m▀\u001b[38;2;0;0;0;48;2;0;0;0m▀\u001b[0m\n",
       "\u001b[0m\u001b[38;2;0;0;0;48;2;0;0;0m▀\u001b[38;2;0;0;0;48;2;0;0;0m▀\u001b[38;2;0;0;0;48;2;1;1;1m▀\u001b[38;2;0;0;0;48;2;1;1;1m▀\u001b[38;2;2;2;2;48;2;1;1;1m▀\u001b[38;2;1;1;1;48;2;1;1;1m▀\u001b[38;2;3;3;3;48;2;1;1;1m▀\u001b[38;2;3;3;3;48;2;1;1;1m▀\u001b[38;2;15;15;15;48;2;3;3;3m▀\u001b[38;2;16;16;16;48;2;3;3;3m▀\u001b[38;2;28;28;28;48;2;8;8;8m▀\u001b[38;2;31;31;31;48;2;9;9;9m▀\u001b[38;2;26;26;26;48;2;8;8;8m▀\u001b[38;2;62;62;62;48;2;16;16;16m▀\u001b[38;2;34;34;34;48;2;10;10;10m▀\u001b[38;2;70;70;70;48;2;20;20;20m▀\u001b[38;2;36;36;36;48;2;13;13;13m▀\u001b[38;2;44;44;44;48;2;13;13;13m▀\u001b[38;2;38;38;38;48;2;14;14;14m▀\u001b[38;2;27;27;27;48;2;8;8;8m▀\u001b[38;2;36;36;36;48;2;10;10;10m▀\u001b[38;2;20;20;20;48;2;6;6;6m▀\u001b[38;2;42;42;42;48;2;11;11;11m▀\u001b[38;2;26;26;26;48;2;7;7;7m▀\u001b[38;2;42;42;42;48;2;10;10;10m▀\u001b[38;2;34;34;34;48;2;8;8;8m▀\u001b[38;2;28;28;28;48;2;7;7;7m▀\u001b[38;2;50;50;50;48;2;13;13;13m▀\u001b[38;2;23;23;23;48;2;7;7;7m▀\u001b[38;2;52;52;52;48;2;18;18;18m▀\u001b[38;2;23;23;23;48;2;9;9;9m▀\u001b[38;2;41;41;41;48;2;17;17;17m▀\u001b[38;2;35;35;35;48;2;14;14;14m▀\u001b[38;2;32;32;32;48;2;14;14;14m▀\u001b[38;2;44;44;44;48;2;17;17;17m▀\u001b[38;2;22;22;22;48;2;7;7;7m▀\u001b[38;2;51;51;51;48;2;15;15;15m▀\u001b[38;2;27;27;27;48;2;5;5;5m▀\u001b[38;2;42;42;42;48;2;9;9;9m▀\u001b[38;2;43;43;43;48;2;7;7;7m▀\u001b[38;2;25;25;25;48;2;6;6;6m▀\u001b[38;2;40;40;40;48;2;9;9;9m▀\u001b[38;2;10;10;10;48;2;3;3;3m▀\u001b[38;2;16;16;16;48;2;5;5;5m▀\u001b[38;2;4;4;4;48;2;1;1;1m▀\u001b[38;2;5;5;5;48;2;2;2;2m▀\u001b[38;2;4;4;4;48;2;2;2;2m▀\u001b[38;2;2;2;2;48;2;1;1;1m▀\u001b[38;2;0;0;0;48;2;0;0;0m▀\u001b[38;2;0;0;0;48;2;0;0;0m▀\u001b[0m\n"
      ]
     },
     "execution_count": 18,
     "metadata": {},
     "output_type": "execute_result"
    }
   ],
   "source": [
    "Gray.(transpose(Z)) # tranpose: T x d_{in}"
   ]
  },
  {
   "cell_type": "markdown",
   "id": "cb209bcd",
   "metadata": {},
   "source": [
    "__Build an SSN model instance__: We model an SSN using [the `MyLIFSpikingNeuralNetworkModel` type](src/Types.jl#L5). The [`MyLIFSpikingNeuralNetworkModel` type](src/Types.jl) implements the [Leaky Integrate-and-Fire (LIF) neuron model](https://www.nature.com/articles/s41598-017-07418-y), which is a simple and widely used model for spiking neurons. \n",
    "\n",
    "We construct this type [using a `build(...)` method](src/Factory.jl); we pass in the type of thing we want to build and the data required to build it. We get back a model (populated) model instance. We save the SSN model instance in the `ssnmodel::MyLIFSpikingNeuralNetworkModel` variable."
   ]
  },
  {
   "cell_type": "code",
   "execution_count": 20,
   "id": "ba726710",
   "metadata": {},
   "outputs": [],
   "source": [
    "ssnmodel = let\n",
    "\n",
    "    # build model -\n",
    "    model = build(MyLIFSpikingNeuralNetworkModel, (\n",
    "        Δt = Δt, # time step (ms)\n",
    "        τ = τ, # time constant (ms)\n",
    "        ν = ν, # firing threshold\n",
    "        number_of_nodes = number_of_neurons, # number of neurons\n",
    "        number_of_inputs = number_of_inputs, # number of inputs\n",
    "    ));\n",
    "\n",
    "    model;\n",
    "end;"
   ]
  },
  {
   "cell_type": "markdown",
   "id": "c751c2bb",
   "metadata": {},
   "source": [
    "Not that we have a populated `ssnmodel::MyLIFSpikingNeuralNetworkModel` model, we can run the model forward in time and generate the spiking patterns for our system. We do this [using the `solve(...)` method](src/Compute.jl). \n",
    "* _Arguments_: We pass in the model instance, the input data array (images in the columns), and the length of spike pattern we want to generate (optional arguement with default `100 ms`), and the refractory period parameter $\\Delta_{r}$, which has a dfualt value of `3 ms`. The [`solve(...)` method](src/Compute.jl) returns a time vector `T::Array{Float64,1}`, the membrane voltage array `V::Array{Float64,2}` array and a spike pattern array `s::Array{Float64,2}`.\n",
    "* _What does `T` represent_? The parameter `T` represents the length of time that we run the SNN; we feed a new image during each time step $t = 1,2,\\dots{T}$. Physically, the time $T$ represents the length of time that we are recording the spike pattern of the LIF neurons, where we observe the system every $\\Delta{t}$ ms.\n",
    "\n",
    "Let's run the model:"
   ]
  },
  {
   "cell_type": "code",
   "execution_count": 22,
   "id": "bb453221",
   "metadata": {},
   "outputs": [],
   "source": [
    "(Tₐ,Vₐ,sₐ) = let\n",
    "\n",
    "    # initialize -\n",
    "    Δᵣ = 6; # TODO: Update the refactory period, and see what happens\n",
    "    T = size(Z,2); # How many columns do we have (process one per time step)\n",
    "    sₒ = zeros(Int, number_of_neurons); # initial conditions for the spikes (all 0)\n",
    "    (T,V,s) = solve(ssnmodel, Z, T = T, Δᵣ = Δᵣ, sₒ = sₒ);\n",
    "\n",
    "    (T,V,s) # return the time, voltage, and spikes\n",
    "end;"
   ]
  },
  {
   "cell_type": "markdown",
   "id": "d947b6cc",
   "metadata": {},
   "source": [
    "__What gets generated from the SSN?__ Let's look at the spike pattern generated by the SSN model. The rows of the spike matrix `s::Array{Float64,2}` denote the input image index, while the columns denote the spike state for each neuron in the network. The values in the spike matrix are either `0` (no spike) or `1` (spike)."
   ]
  },
  {
   "cell_type": "code",
   "execution_count": 24,
   "id": "4359710f",
   "metadata": {},
   "outputs": [
    {
     "data": {
      "text/plain": [
       "100×16 Matrix{Float64}:\n",
       " 0.0  0.0  0.0  0.0  0.0  0.0  0.0  0.0  …  0.0  1.0  0.0  0.0  0.0  1.0  1.0\n",
       " 1.0  0.0  0.0  0.0  0.0  0.0  1.0  0.0     0.0  0.0  0.0  0.0  0.0  0.0  0.0\n",
       " 0.0  1.0  1.0  1.0  1.0  1.0  0.0  1.0     0.0  0.0  1.0  1.0  1.0  0.0  0.0\n",
       " 0.0  0.0  0.0  0.0  0.0  0.0  0.0  0.0     1.0  0.0  0.0  0.0  0.0  0.0  0.0\n",
       " 0.0  0.0  0.0  0.0  0.0  0.0  0.0  0.0     0.0  0.0  0.0  0.0  0.0  0.0  0.0\n",
       " 0.0  0.0  0.0  0.0  0.0  0.0  0.0  0.0  …  0.0  0.0  0.0  0.0  0.0  0.0  0.0\n",
       " 0.0  0.0  0.0  0.0  0.0  0.0  0.0  0.0     0.0  0.0  0.0  0.0  0.0  0.0  0.0\n",
       " 0.0  0.0  0.0  0.0  0.0  0.0  0.0  0.0     0.0  1.0  0.0  0.0  0.0  1.0  1.0\n",
       " 1.0  0.0  0.0  0.0  0.0  0.0  1.0  0.0     0.0  0.0  0.0  0.0  0.0  0.0  0.0\n",
       " 0.0  1.0  1.0  1.0  1.0  1.0  0.0  1.0     0.0  0.0  1.0  1.0  1.0  0.0  0.0\n",
       " 0.0  0.0  0.0  0.0  0.0  0.0  0.0  0.0  …  1.0  0.0  0.0  0.0  0.0  0.0  0.0\n",
       " 0.0  0.0  0.0  0.0  0.0  0.0  0.0  0.0     0.0  0.0  0.0  0.0  0.0  0.0  0.0\n",
       " 0.0  0.0  0.0  0.0  0.0  0.0  0.0  0.0     0.0  0.0  0.0  0.0  0.0  0.0  0.0\n",
       " ⋮                        ⋮              ⋱       ⋮                        ⋮\n",
       " 0.0  0.0  0.0  0.0  0.0  0.0  0.0  0.0     0.0  0.0  0.0  0.0  0.0  0.0  0.0\n",
       " 0.0  0.0  0.0  0.0  0.0  0.0  0.0  0.0     0.0  0.0  0.0  0.0  0.0  0.0  0.0\n",
       " 0.0  0.0  0.0  0.0  0.0  0.0  0.0  0.0  …  0.0  0.0  0.0  0.0  0.0  0.0  0.0\n",
       " 0.0  0.0  0.0  0.0  0.0  0.0  0.0  0.0     0.0  1.0  0.0  0.0  0.0  1.0  1.0\n",
       " 1.0  0.0  0.0  0.0  0.0  0.0  1.0  0.0     0.0  0.0  0.0  0.0  0.0  0.0  0.0\n",
       " 0.0  1.0  1.0  1.0  1.0  1.0  0.0  1.0     0.0  0.0  1.0  1.0  1.0  0.0  0.0\n",
       " 0.0  0.0  0.0  0.0  0.0  0.0  0.0  0.0     1.0  0.0  0.0  0.0  0.0  0.0  0.0\n",
       " 0.0  0.0  0.0  0.0  0.0  0.0  0.0  0.0  …  0.0  0.0  0.0  0.0  0.0  0.0  0.0\n",
       " 0.0  0.0  0.0  0.0  0.0  0.0  0.0  0.0     0.0  0.0  0.0  0.0  0.0  0.0  0.0\n",
       " 0.0  0.0  0.0  0.0  0.0  0.0  0.0  0.0     0.0  0.0  0.0  0.0  0.0  0.0  0.0\n",
       " 0.0  0.0  0.0  0.0  0.0  0.0  0.0  0.0     0.0  1.0  0.0  0.0  0.0  1.0  1.0\n",
       " 1.0  0.0  0.0  0.0  0.0  0.0  1.0  0.0     0.0  0.0  0.0  0.0  0.0  0.0  0.0"
      ]
     },
     "execution_count": 24,
     "metadata": {},
     "output_type": "execute_result"
    }
   ],
   "source": [
    "sₐ"
   ]
  },
  {
   "cell_type": "code",
   "execution_count": 25,
   "id": "6eeacbdc",
   "metadata": {},
   "outputs": [
    {
     "data": {
      "image/png": "[encoded data removed]",
      "text/html": [
       "<img src=\"data:image/png;base64,iVBORw0KGgoAAAANSUhEUgAAASwAAAAwCAAAAACOdRj9AAAAAXNSR0IArs4c6QAAAARnQU1BAACxjwv8YQUAAAAgY0hSTQAAeiYAAICEAAD6AAAAgOgAAHUwAADqYAAAOpgAABdwnLpRPAAAAbJJREFUaAXtwbENBCEQBDCPRP8tz4tP0F5EAdgLJb5KfJX4KvFV4qvEV4mvEl8lvkp8lfgq8VXiq8RXWZ5ry3NtIZQYQokhlBhCiSGUGEKJIZQYQokhlBhCiSGUGEKJIZQYQokhLM+15bm2PNeW59ryXFuea8tzbXmuLc+15bm2PNeW59ryXFueawslvkp8lfgq8VXiq8RXia8SXyW+SnyV+CrxVeKrxFdZnmvLc20hlBhCiSGUGEKJIZQYQokhlBhCiSGUGEKJIZQYQokhlBhCiSEsz7XlubY815bn2vJcW/5CiSGUGEKJIZQYQokhlBhCiSGUGEKJIZQYQokhlBhCiSGUGJbn2vJcWyW2OEpscZTY4iixxVFii6PEFkeJLY4SWxwltjhKbHGU2OIoscVRYoujxBZHCctzbXmurdhKHLGVOGIrccRW4oitxBFbiSO2EkdsJY7YShyxlThiK3HEVuKIrcQRW4kjtuW5tjzXlufa8lxbnmvLc215ri3PtVVCDCXEUEIMJcRQQgwlxFBCDCXEUEIMJcRQQgwlxFBCDCXEUMLyXFuea8tzbXmuLc+1HxsjdRbbtN37AAAAAElFTkSuQmCC\">"
      ],
      "text/plain": [
       "\u001b[0m\u001b[38;2;12;12;12;48;2;4;4;4m▀\u001b[38;2;48;48;48;48;2;96;96;96m▀\u001b[38;2;4;4;4;48;2;28;28;28m▀\u001b[38;2;0;0;0;48;2;0;0;0m▀\u001b[38;2;40;40;40;48;2;40;40;40m▀\u001b[38;2;24;24;24;48;2;88;88;88m▀\u001b[38;2;0;0;0;48;2;0;0;0m▀\u001b[38;2;12;12;12;48;2;4;4;4m▀\u001b[38;2;48;48;48;48;2;96;96;96m▀\u001b[38;2;4;4;4;48;2;28;28;28m▀\u001b[38;2;0;0;0;48;2;0;0;0m▀\u001b[38;2;40;40;40;48;2;40;40;40m▀\u001b[38;2;24;24;24;48;2;88;88;88m▀\u001b[38;2;0;0;0;48;2;0;0;0m▀\u001b[38;2;12;12;12;48;2;4;4;4m▀\u001b[38;2;48;48;48;48;2;96;96;96m▀\u001b[38;2;4;4;4;48;2;28;28;28m▀\u001b[38;2;0;0;0;48;2;0;0;0m▀\u001b[38;2;40;40;40;48;2;40;40;40m▀\u001b[38;2;24;24;24;48;2;88;88;88m▀\u001b[38;2;0;0;0;48;2;0;0;0m▀\u001b[38;2;12;12;12;48;2;4;4;4m▀\u001b[38;2;48;48;48;48;2;96;96;96m▀\u001b[38;2;4;4;4;48;2;28;28;28m▀\u001b[38;2;0;0;0;48;2;0;0;0m▀\u001b[38;2;40;40;40;48;2;40;40;40m▀\u001b[38;2;24;24;24;48;2;88;88;88m▀\u001b[38;2;0;0;0;48;2;0;0;0m▀\u001b[38;2;12;12;12;48;2;4;4;4m▀\u001b[38;2;48;48;48;48;2;96;96;96m▀\u001b[38;2;4;4;4;48;2;28;28;28m▀\u001b[38;2;0;0;0;48;2;0;0;0m▀\u001b[38;2;40;40;40;48;2;40;40;40m▀\u001b[38;2;24;24;24;48;2;88;88;88m▀\u001b[38;2;0;0;0;48;2;0;0;0m▀\u001b[38;2;12;12;12;48;2;4;4;4m▀\u001b[38;2;48;48;48;48;2;96;96;96m▀\u001b[38;2;4;4;4;48;2;28;28;28m▀\u001b[38;2;0;0;0;48;2;0;0;0m▀\u001b[38;2;40;40;40;48;2;40;40;40m▀\u001b[38;2;24;24;24;48;2;88;88;88m▀\u001b[38;2;0;0;0;48;2;0;0;0m▀\u001b[38;2;12;12;12;48;2;4;4;4m▀\u001b[38;2;48;48;48;48;2;96;96;96m▀\u001b[38;2;4;4;4;48;2;28;28;28m▀\u001b[38;2;0;0;0;48;2;0;0;0m▀\u001b[38;2;40;40;40;48;2;40;40;40m▀\u001b[38;2;24;24;24;48;2;88;88;88m▀\u001b[38;2;0;0;0;48;2;0;0;0m▀\u001b[38;2;12;12;12;48;2;4;4;4m▀\u001b[38;2;36;36;36;48;2;12;12;12m▀\u001b[0m\n",
       "\u001b[0m\u001b[38;2;0;0;0;48;2;12;12;12m▀\u001b[38;2;96;96;96;48;2;96;96;96m▀\u001b[38;2;32;32;32;48;2;20;20;20m▀\u001b[38;2;0;0;0;48;2;0;0;0m▀\u001b[38;2;32;32;32;48;2;56;56;56m▀\u001b[38;2;96;96;96;48;2;72;72;72m▀\u001b[38;2;0;0;0;48;2;0;0;0m▀\u001b[38;2;0;0;0;48;2;12;12;12m▀\u001b[38;2;96;96;96;48;2;96;96;96m▀\u001b[38;2;32;32;32;48;2;20;20;20m▀\u001b[38;2;0;0;0;48;2;0;0;0m▀\u001b[38;2;32;32;32;48;2;56;56;56m▀\u001b[38;2;96;96;96;48;2;72;72;72m▀\u001b[38;2;0;0;0;48;2;0;0;0m▀\u001b[38;2;0;0;0;48;2;12;12;12m▀\u001b[38;2;96;96;96;48;2;96;96;96m▀\u001b[38;2;32;32;32;48;2;20;20;20m▀\u001b[38;2;0;0;0;48;2;0;0;0m▀\u001b[38;2;32;32;32;48;2;56;56;56m▀\u001b[38;2;96;96;96;48;2;72;72;72m▀\u001b[38;2;0;0;0;48;2;0;0;0m▀\u001b[38;2;0;0;0;48;2;12;12;12m▀\u001b[38;2;96;96;96;48;2;96;96;96m▀\u001b[38;2;32;32;32;48;2;20;20;20m▀\u001b[38;2;0;0;0;48;2;0;0;0m▀\u001b[38;2;32;32;32;48;2;56;56;56m▀\u001b[38;2;96;96;96;48;2;72;72;72m▀\u001b[38;2;0;0;0;48;2;0;0;0m▀\u001b[38;2;0;0;0;48;2;12;12;12m▀\u001b[38;2;96;96;96;48;2;96;96;96m▀\u001b[38;2;32;32;32;48;2;20;20;20m▀\u001b[38;2;0;0;0;48;2;0;0;0m▀\u001b[38;2;32;32;32;48;2;56;56;56m▀\u001b[38;2;96;96;96;48;2;72;72;72m▀\u001b[38;2;0;0;0;48;2;0;0;0m▀\u001b[38;2;0;0;0;48;2;12;12;12m▀\u001b[38;2;96;96;96;48;2;96;96;96m▀\u001b[38;2;32;32;32;48;2;20;20;20m▀\u001b[38;2;0;0;0;48;2;0;0;0m▀\u001b[38;2;32;32;32;48;2;56;56;56m▀\u001b[38;2;96;96;96;48;2;72;72;72m▀\u001b[38;2;0;0;0;48;2;0;0;0m▀\u001b[38;2;0;0;0;48;2;12;12;12m▀\u001b[38;2;96;96;96;48;2;96;96;96m▀\u001b[38;2;32;32;32;48;2;20;20;20m▀\u001b[38;2;0;0;0;48;2;0;0;0m▀\u001b[38;2;32;32;32;48;2;56;56;56m▀\u001b[38;2;96;96;96;48;2;72;72;72m▀\u001b[38;2;0;0;0;48;2;0;0;0m▀\u001b[38;2;0;0;0;48;2;12;12;12m▀\u001b[38;2;0;0;0;48;2;36;36;36m▀\u001b[0m\n",
       "\u001b[0m\u001b[38;2;4;4;4;48;2;36;36;36m▀\u001b[38;2;88;88;88;48;2;48;48;48m▀\u001b[38;2;36;36;36;48;2;44;44;44m▀\u001b[38;2;0;0;0;48;2;12;12;12m▀\u001b[38;2;36;36;36;48;2;44;44;44m▀\u001b[38;2;88;88;88;48;2;60;60;60m▀\u001b[38;2;4;4;4;48;2;12;12;12m▀\u001b[38;2;4;4;4;48;2;36;36;36m▀\u001b[38;2;88;88;88;48;2;48;48;48m▀\u001b[38;2;36;36;36;48;2;44;44;44m▀\u001b[38;2;0;0;0;48;2;12;12;12m▀\u001b[38;2;36;36;36;48;2;44;44;44m▀\u001b[38;2;88;88;88;48;2;60;60;60m▀\u001b[38;2;4;4;4;48;2;12;12;12m▀\u001b[38;2;4;4;4;48;2;36;36;36m▀\u001b[38;2;88;88;88;48;2;48;48;48m▀\u001b[38;2;36;36;36;48;2;44;44;44m▀\u001b[38;2;0;0;0;48;2;12;12;12m▀\u001b[38;2;36;36;36;48;2;44;44;44m▀\u001b[38;2;88;88;88;48;2;60;60;60m▀\u001b[38;2;4;4;4;48;2;12;12;12m▀\u001b[38;2;4;4;4;48;2;36;36;36m▀\u001b[38;2;88;88;88;48;2;48;48;48m▀\u001b[38;2;36;36;36;48;2;44;44;44m▀\u001b[38;2;0;0;0;48;2;12;12;12m▀\u001b[38;2;36;36;36;48;2;44;44;44m▀\u001b[38;2;88;88;88;48;2;60;60;60m▀\u001b[38;2;4;4;4;48;2;12;12;12m▀\u001b[38;2;4;4;4;48;2;36;36;36m▀\u001b[38;2;88;88;88;48;2;48;48;48m▀\u001b[38;2;36;36;36;48;2;44;44;44m▀\u001b[38;2;0;0;0;48;2;12;12;12m▀\u001b[38;2;36;36;36;48;2;44;44;44m▀\u001b[38;2;88;88;88;48;2;60;60;60m▀\u001b[38;2;4;4;4;48;2;12;12;12m▀\u001b[38;2;4;4;4;48;2;36;36;36m▀\u001b[38;2;88;88;88;48;2;48;48;48m▀\u001b[38;2;36;36;36;48;2;44;44;44m▀\u001b[38;2;0;0;0;48;2;12;12;12m▀\u001b[38;2;36;36;36;48;2;44;44;44m▀\u001b[38;2;88;88;88;48;2;60;60;60m▀\u001b[38;2;4;4;4;48;2;12;12;12m▀\u001b[38;2;4;4;4;48;2;36;36;36m▀\u001b[38;2;88;88;88;48;2;48;48;48m▀\u001b[38;2;36;36;36;48;2;44;44;44m▀\u001b[38;2;0;0;0;48;2;12;12;12m▀\u001b[38;2;36;36;36;48;2;44;44;44m▀\u001b[38;2;88;88;88;48;2;60;60;60m▀\u001b[38;2;4;4;4;48;2;12;12;12m▀\u001b[38;2;4;4;4;48;2;36;36;36m▀\u001b[38;2;12;12;12;48;2;12;12;12m▀\u001b[0m\n",
       "\u001b[0m\u001b[38;2;12;12;12;48;2;48;48;48m▀\u001b[38;2;88;88;88;48;2;64;64;64m▀\u001b[38;2;28;28;28;48;2;16;16;16m▀\u001b[38;2;4;4;4;48;2;16;16;16m▀\u001b[38;2;40;40;40;48;2;64;64;64m▀\u001b[38;2;84;84;84;48;2;48;48;48m▀\u001b[38;2;0;0;0;48;2;0;0;0m▀\u001b[38;2;12;12;12;48;2;48;48;48m▀\u001b[38;2;88;88;88;48;2;64;64;64m▀\u001b[38;2;28;28;28;48;2;16;16;16m▀\u001b[38;2;4;4;4;48;2;16;16;16m▀\u001b[38;2;40;40;40;48;2;64;64;64m▀\u001b[38;2;84;84;84;48;2;48;48;48m▀\u001b[38;2;0;0;0;48;2;0;0;0m▀\u001b[38;2;12;12;12;48;2;48;48;48m▀\u001b[38;2;88;88;88;48;2;64;64;64m▀\u001b[38;2;28;28;28;48;2;16;16;16m▀\u001b[38;2;4;4;4;48;2;16;16;16m▀\u001b[38;2;40;40;40;48;2;64;64;64m▀\u001b[38;2;84;84;84;48;2;48;48;48m▀\u001b[38;2;0;0;0;48;2;0;0;0m▀\u001b[38;2;12;12;12;48;2;48;48;48m▀\u001b[38;2;88;88;88;48;2;64;64;64m▀\u001b[38;2;28;28;28;48;2;16;16;16m▀\u001b[38;2;4;4;4;48;2;16;16;16m▀\u001b[38;2;40;40;40;48;2;64;64;64m▀\u001b[38;2;84;84;84;48;2;48;48;48m▀\u001b[38;2;0;0;0;48;2;0;0;0m▀\u001b[38;2;12;12;12;48;2;48;48;48m▀\u001b[38;2;88;88;88;48;2;64;64;64m▀\u001b[38;2;28;28;28;48;2;16;16;16m▀\u001b[38;2;4;4;4;48;2;16;16;16m▀\u001b[38;2;40;40;40;48;2;64;64;64m▀\u001b[38;2;84;84;84;48;2;48;48;48m▀\u001b[38;2;0;0;0;48;2;0;0;0m▀\u001b[38;2;12;12;12;48;2;48;48;48m▀\u001b[38;2;88;88;88;48;2;64;64;64m▀\u001b[38;2;28;28;28;48;2;16;16;16m▀\u001b[38;2;4;4;4;48;2;16;16;16m▀\u001b[38;2;40;40;40;48;2;64;64;64m▀\u001b[38;2;84;84;84;48;2;48;48;48m▀\u001b[38;2;0;0;0;48;2;0;0;0m▀\u001b[38;2;12;12;12;48;2;48;48;48m▀\u001b[38;2;88;88;88;48;2;64;64;64m▀\u001b[38;2;28;28;28;48;2;16;16;16m▀\u001b[38;2;4;4;4;48;2;16;16;16m▀\u001b[38;2;40;40;40;48;2;64;64;64m▀\u001b[38;2;84;84;84;48;2;48;48;48m▀\u001b[38;2;0;0;0;48;2;0;0;0m▀\u001b[38;2;12;12;12;48;2;48;48;48m▀\u001b[38;2;4;4;4;48;2;16;16;16m▀\u001b[0m\n",
       "\u001b[0m\u001b[38;2;48;48;48m▀\u001b[38;2;16;16;16m▀\u001b[38;2;0;0;0m▀\u001b[38;2;16;16;16m▀\u001b[38;2;48;48;48m▀\u001b[38;2;0;0;0m▀\u001b[38;2;0;0;0m▀\u001b[38;2;48;48;48m▀\u001b[38;2;16;16;16m▀\u001b[38;2;0;0;0m▀\u001b[38;2;16;16;16m▀\u001b[38;2;48;48;48m▀\u001b[38;2;0;0;0m▀\u001b[38;2;0;0;0m▀\u001b[38;2;48;48;48m▀\u001b[38;2;16;16;16m▀\u001b[38;2;0;0;0m▀\u001b[38;2;16;16;16m▀\u001b[38;2;48;48;48m▀\u001b[38;2;0;0;0m▀\u001b[38;2;0;0;0m▀\u001b[38;2;48;48;48m▀\u001b[38;2;16;16;16m▀\u001b[38;2;0;0;0m▀\u001b[38;2;16;16;16m▀\u001b[38;2;48;48;48m▀\u001b[38;2;0;0;0m▀\u001b[38;2;0;0;0m▀\u001b[38;2;48;48;48m▀\u001b[38;2;16;16;16m▀\u001b[38;2;0;0;0m▀\u001b[38;2;16;16;16m▀\u001b[38;2;48;48;48m▀\u001b[38;2;0;0;0m▀\u001b[38;2;0;0;0m▀\u001b[38;2;48;48;48m▀\u001b[38;2;16;16;16m▀\u001b[38;2;0;0;0m▀\u001b[38;2;16;16;16m▀\u001b[38;2;48;48;48m▀\u001b[38;2;0;0;0m▀\u001b[38;2;0;0;0m▀\u001b[38;2;48;48;48m▀\u001b[38;2;16;16;16m▀\u001b[38;2;0;0;0m▀\u001b[38;2;16;16;16m▀\u001b[38;2;48;48;48m▀\u001b[38;2;0;0;0m▀\u001b[38;2;0;0;0m▀\u001b[38;2;48;48;48m▀\u001b[38;2;16;16;16m▀\u001b[0m"
      ]
     },
     "execution_count": 25,
     "metadata": {},
     "output_type": "execute_result"
    }
   ],
   "source": [
    "Gray.(transpose(sₐ)) # What is this saying?"
   ]
  },
  {
   "cell_type": "markdown",
   "id": "dcacf04a",
   "metadata": {},
   "source": [
    "### Discussion\n",
    "1. What do the rows (and columns) of the transposed spike matrix `s::Array{Float64,2}` represent?\n",
    "2. What happens if we change the refractory period parameter $\\Delta_{r}$?"
   ]
  },
  {
   "cell_type": "markdown",
   "id": "4588116d",
   "metadata": {},
   "source": [
    "## Task 3: Let's build an S5 model to process the spikes\n",
    "In this task, we'll build a simplified structured state space sequence (S5) model instance. We'll feed in the spike patterns from our SSN into the S5 model, and output a sequence of transformed digits by including a nonlinear output transformation.\n",
    "\n",
    "First, let's build [an instance of the `MyS5Model` type](src/Types.jl#L5). The [`MyS5Model` type](src/Types.jl) is constructed using [a custom `build(...)` method](src/Factory.jl). In the [`build(...)` method](src/Factory.jl), we pass in the type we want to build, and the data required to build it. We get back a model (populated) model instance. \n",
    "\n",
    "Our build methods don't normally do much, but in this case, we construct all the system matrices, diagonalize them, and compute the required discrete system matrices. We save the S5 model instance in the `s5model::MyS5Model` variable."
   ]
  },
  {
   "cell_type": "code",
   "execution_count": 28,
   "id": "04b34023",
   "metadata": {},
   "outputs": [],
   "source": [
    "s5model = let\n",
    "\n",
    "    # initialize -\n",
    "    number_of_hidden_states = 2^4; # number of hidden states\n",
    "    number_of_inputs = number_of_neurons; # number of inputs\n",
    "    number_of_outputs = 10; # number of outputs: the number of numbers we want to classify\n",
    "    Δt = 2.0; # adjust for open-loop stability (which is curious)\n",
    "\n",
    "    # build model -\n",
    "    model = build(MyS5Model, (\n",
    "        Δt = Δt, # time step (ms)\n",
    "        number_of_hidden_states = number_of_hidden_states, # number of hidden states\n",
    "        number_of_inputs = number_of_inputs, # number of inputs\n",
    "        number_of_outputs = number_of_outputs, # the number of outputs\n",
    "    ));\n",
    "\n",
    "    model;\n",
    "end;"
   ]
  },
  {
   "cell_type": "markdown",
   "id": "4312c353",
   "metadata": {},
   "source": [
    "__Solve the S5 model__: Now that we have a populated `s5model::MyS5Model` model, we can run the model forward in time and generate the output for our system. We do this [using the `solve(...)` method](src/Compute.jl).\n",
    "* _Arguments_: We pass in the model instance, the input data array (spike patterns in the columns), and the time upper bound $[0,T]$. The [`solve(...)` method](src/Compute.jl) returns a time vector `T::Array{Float64,1}`, the hidden state array `H::Array{Float64,2}` array, the output array `Y::Array{Float64,2}` and the output spike pattern array `U::Array{Float64,2}` (which is the transpose of the spike pattern matrix `s::Array{Float64,2}` from the SSN model).\n",
    "\n",
    "Run the S5 model:"
   ]
  },
  {
   "cell_type": "code",
   "execution_count": 30,
   "id": "80a58f8f",
   "metadata": {},
   "outputs": [],
   "source": [
    "(TS5,HS5,YS5, U) = let\n",
    "    \n",
    "    U = transpose(sₐ) |> Matrix; # formulate the input (transposed spike patterns)\n",
    "    (TS5,HS5,YS5) = solve(s5model,U,100); # solve the S5 model -\n",
    "\n",
    "    TS5, HS5, YS5, U # return the time, hidden states, output and the input\n",
    "end;"
   ]
  },
  {
   "cell_type": "markdown",
   "id": "55ebfeb8",
   "metadata": {},
   "source": [
    "What do we put into the S5 model?"
   ]
  },
  {
   "cell_type": "code",
   "execution_count": 32,
   "id": "17ee349a",
   "metadata": {},
   "outputs": [
    {
     "data": {
      "image/png": "[encoded data removed]",
      "text/html": [
       "<img src=\"data:image/png;base64,iVBORw0KGgoAAAANSUhEUgAAASwAAAAwCAAAAACOdRj9AAAAAXNSR0IArs4c6QAAAARnQU1BAACxjwv8YQUAAAAgY0hSTQAAeiYAAICEAAD6AAAAgOgAAHUwAADqYAAAOpgAABdwnLpRPAAAAbJJREFUaAXtwbENBCEQBDCPRP8tz4tP0F5EAdgLJb5KfJX4KvFV4qvEV4mvEl8lvkp8lfgq8VXiq8RXWZ5ry3NtIZQYQokhlBhCiSGUGEKJIZQYQokhlBhCiSGUGEKJIZQYQokhLM+15bm2PNeW59ryXFuea8tzbXmuLc+15bm2PNeW59ryXFueawslvkp8lfgq8VXiq8RXia8SXyW+SnyV+CrxVeKrxFdZnmvLc20hlBhCiSGUGEKJIZQYQokhlBhCiSGUGEKJIZQYQokhlBhCiSEsz7XlubY815bn2vJcW/5CiSGUGEKJIZQYQokhlBhCiSGUGEKJIZQYQokhlBhCiSGUGJbn2vJcWyW2OEpscZTY4iixxVFii6PEFkeJLY4SWxwltjhKbHGU2OIoscVRYoujxBZHCctzbXmurdhKHLGVOGIrccRW4oitxBFbiSO2EkdsJY7YShyxlThiK3HEVuKIrcQRW4kjtuW5tjzXlufa8lxbnmvLc215ri3PtVVCDCXEUEIMJcRQQgwlxFBCDCXEUEIMJcRQQgwlxFBCDCXEUMLyXFuea8tzbXmuLc+1HxsjdRbbtN37AAAAAElFTkSuQmCC\">"
      ],
      "text/plain": [
       "\u001b[0m\u001b[38;2;12;12;12;48;2;4;4;4m▀\u001b[38;2;48;48;48;48;2;96;96;96m▀\u001b[38;2;4;4;4;48;2;28;28;28m▀\u001b[38;2;0;0;0;48;2;0;0;0m▀\u001b[38;2;40;40;40;48;2;40;40;40m▀\u001b[38;2;24;24;24;48;2;88;88;88m▀\u001b[38;2;0;0;0;48;2;0;0;0m▀\u001b[38;2;12;12;12;48;2;4;4;4m▀\u001b[38;2;48;48;48;48;2;96;96;96m▀\u001b[38;2;4;4;4;48;2;28;28;28m▀\u001b[38;2;0;0;0;48;2;0;0;0m▀\u001b[38;2;40;40;40;48;2;40;40;40m▀\u001b[38;2;24;24;24;48;2;88;88;88m▀\u001b[38;2;0;0;0;48;2;0;0;0m▀\u001b[38;2;12;12;12;48;2;4;4;4m▀\u001b[38;2;48;48;48;48;2;96;96;96m▀\u001b[38;2;4;4;4;48;2;28;28;28m▀\u001b[38;2;0;0;0;48;2;0;0;0m▀\u001b[38;2;40;40;40;48;2;40;40;40m▀\u001b[38;2;24;24;24;48;2;88;88;88m▀\u001b[38;2;0;0;0;48;2;0;0;0m▀\u001b[38;2;12;12;12;48;2;4;4;4m▀\u001b[38;2;48;48;48;48;2;96;96;96m▀\u001b[38;2;4;4;4;48;2;28;28;28m▀\u001b[38;2;0;0;0;48;2;0;0;0m▀\u001b[38;2;40;40;40;48;2;40;40;40m▀\u001b[38;2;24;24;24;48;2;88;88;88m▀\u001b[38;2;0;0;0;48;2;0;0;0m▀\u001b[38;2;12;12;12;48;2;4;4;4m▀\u001b[38;2;48;48;48;48;2;96;96;96m▀\u001b[38;2;4;4;4;48;2;28;28;28m▀\u001b[38;2;0;0;0;48;2;0;0;0m▀\u001b[38;2;40;40;40;48;2;40;40;40m▀\u001b[38;2;24;24;24;48;2;88;88;88m▀\u001b[38;2;0;0;0;48;2;0;0;0m▀\u001b[38;2;12;12;12;48;2;4;4;4m▀\u001b[38;2;48;48;48;48;2;96;96;96m▀\u001b[38;2;4;4;4;48;2;28;28;28m▀\u001b[38;2;0;0;0;48;2;0;0;0m▀\u001b[38;2;40;40;40;48;2;40;40;40m▀\u001b[38;2;24;24;24;48;2;88;88;88m▀\u001b[38;2;0;0;0;48;2;0;0;0m▀\u001b[38;2;12;12;12;48;2;4;4;4m▀\u001b[38;2;48;48;48;48;2;96;96;96m▀\u001b[38;2;4;4;4;48;2;28;28;28m▀\u001b[38;2;0;0;0;48;2;0;0;0m▀\u001b[38;2;40;40;40;48;2;40;40;40m▀\u001b[38;2;24;24;24;48;2;88;88;88m▀\u001b[38;2;0;0;0;48;2;0;0;0m▀\u001b[38;2;12;12;12;48;2;4;4;4m▀\u001b[38;2;36;36;36;48;2;12;12;12m▀\u001b[0m\n",
       "\u001b[0m\u001b[38;2;0;0;0;48;2;12;12;12m▀\u001b[38;2;96;96;96;48;2;96;96;96m▀\u001b[38;2;32;32;32;48;2;20;20;20m▀\u001b[38;2;0;0;0;48;2;0;0;0m▀\u001b[38;2;32;32;32;48;2;56;56;56m▀\u001b[38;2;96;96;96;48;2;72;72;72m▀\u001b[38;2;0;0;0;48;2;0;0;0m▀\u001b[38;2;0;0;0;48;2;12;12;12m▀\u001b[38;2;96;96;96;48;2;96;96;96m▀\u001b[38;2;32;32;32;48;2;20;20;20m▀\u001b[38;2;0;0;0;48;2;0;0;0m▀\u001b[38;2;32;32;32;48;2;56;56;56m▀\u001b[38;2;96;96;96;48;2;72;72;72m▀\u001b[38;2;0;0;0;48;2;0;0;0m▀\u001b[38;2;0;0;0;48;2;12;12;12m▀\u001b[38;2;96;96;96;48;2;96;96;96m▀\u001b[38;2;32;32;32;48;2;20;20;20m▀\u001b[38;2;0;0;0;48;2;0;0;0m▀\u001b[38;2;32;32;32;48;2;56;56;56m▀\u001b[38;2;96;96;96;48;2;72;72;72m▀\u001b[38;2;0;0;0;48;2;0;0;0m▀\u001b[38;2;0;0;0;48;2;12;12;12m▀\u001b[38;2;96;96;96;48;2;96;96;96m▀\u001b[38;2;32;32;32;48;2;20;20;20m▀\u001b[38;2;0;0;0;48;2;0;0;0m▀\u001b[38;2;32;32;32;48;2;56;56;56m▀\u001b[38;2;96;96;96;48;2;72;72;72m▀\u001b[38;2;0;0;0;48;2;0;0;0m▀\u001b[38;2;0;0;0;48;2;12;12;12m▀\u001b[38;2;96;96;96;48;2;96;96;96m▀\u001b[38;2;32;32;32;48;2;20;20;20m▀\u001b[38;2;0;0;0;48;2;0;0;0m▀\u001b[38;2;32;32;32;48;2;56;56;56m▀\u001b[38;2;96;96;96;48;2;72;72;72m▀\u001b[38;2;0;0;0;48;2;0;0;0m▀\u001b[38;2;0;0;0;48;2;12;12;12m▀\u001b[38;2;96;96;96;48;2;96;96;96m▀\u001b[38;2;32;32;32;48;2;20;20;20m▀\u001b[38;2;0;0;0;48;2;0;0;0m▀\u001b[38;2;32;32;32;48;2;56;56;56m▀\u001b[38;2;96;96;96;48;2;72;72;72m▀\u001b[38;2;0;0;0;48;2;0;0;0m▀\u001b[38;2;0;0;0;48;2;12;12;12m▀\u001b[38;2;96;96;96;48;2;96;96;96m▀\u001b[38;2;32;32;32;48;2;20;20;20m▀\u001b[38;2;0;0;0;48;2;0;0;0m▀\u001b[38;2;32;32;32;48;2;56;56;56m▀\u001b[38;2;96;96;96;48;2;72;72;72m▀\u001b[38;2;0;0;0;48;2;0;0;0m▀\u001b[38;2;0;0;0;48;2;12;12;12m▀\u001b[38;2;0;0;0;48;2;36;36;36m▀\u001b[0m\n",
       "\u001b[0m\u001b[38;2;4;4;4;48;2;36;36;36m▀\u001b[38;2;88;88;88;48;2;48;48;48m▀\u001b[38;2;36;36;36;48;2;44;44;44m▀\u001b[38;2;0;0;0;48;2;12;12;12m▀\u001b[38;2;36;36;36;48;2;44;44;44m▀\u001b[38;2;88;88;88;48;2;60;60;60m▀\u001b[38;2;4;4;4;48;2;12;12;12m▀\u001b[38;2;4;4;4;48;2;36;36;36m▀\u001b[38;2;88;88;88;48;2;48;48;48m▀\u001b[38;2;36;36;36;48;2;44;44;44m▀\u001b[38;2;0;0;0;48;2;12;12;12m▀\u001b[38;2;36;36;36;48;2;44;44;44m▀\u001b[38;2;88;88;88;48;2;60;60;60m▀\u001b[38;2;4;4;4;48;2;12;12;12m▀\u001b[38;2;4;4;4;48;2;36;36;36m▀\u001b[38;2;88;88;88;48;2;48;48;48m▀\u001b[38;2;36;36;36;48;2;44;44;44m▀\u001b[38;2;0;0;0;48;2;12;12;12m▀\u001b[38;2;36;36;36;48;2;44;44;44m▀\u001b[38;2;88;88;88;48;2;60;60;60m▀\u001b[38;2;4;4;4;48;2;12;12;12m▀\u001b[38;2;4;4;4;48;2;36;36;36m▀\u001b[38;2;88;88;88;48;2;48;48;48m▀\u001b[38;2;36;36;36;48;2;44;44;44m▀\u001b[38;2;0;0;0;48;2;12;12;12m▀\u001b[38;2;36;36;36;48;2;44;44;44m▀\u001b[38;2;88;88;88;48;2;60;60;60m▀\u001b[38;2;4;4;4;48;2;12;12;12m▀\u001b[38;2;4;4;4;48;2;36;36;36m▀\u001b[38;2;88;88;88;48;2;48;48;48m▀\u001b[38;2;36;36;36;48;2;44;44;44m▀\u001b[38;2;0;0;0;48;2;12;12;12m▀\u001b[38;2;36;36;36;48;2;44;44;44m▀\u001b[38;2;88;88;88;48;2;60;60;60m▀\u001b[38;2;4;4;4;48;2;12;12;12m▀\u001b[38;2;4;4;4;48;2;36;36;36m▀\u001b[38;2;88;88;88;48;2;48;48;48m▀\u001b[38;2;36;36;36;48;2;44;44;44m▀\u001b[38;2;0;0;0;48;2;12;12;12m▀\u001b[38;2;36;36;36;48;2;44;44;44m▀\u001b[38;2;88;88;88;48;2;60;60;60m▀\u001b[38;2;4;4;4;48;2;12;12;12m▀\u001b[38;2;4;4;4;48;2;36;36;36m▀\u001b[38;2;88;88;88;48;2;48;48;48m▀\u001b[38;2;36;36;36;48;2;44;44;44m▀\u001b[38;2;0;0;0;48;2;12;12;12m▀\u001b[38;2;36;36;36;48;2;44;44;44m▀\u001b[38;2;88;88;88;48;2;60;60;60m▀\u001b[38;2;4;4;4;48;2;12;12;12m▀\u001b[38;2;4;4;4;48;2;36;36;36m▀\u001b[38;2;12;12;12;48;2;12;12;12m▀\u001b[0m\n",
       "\u001b[0m\u001b[38;2;12;12;12;48;2;48;48;48m▀\u001b[38;2;88;88;88;48;2;64;64;64m▀\u001b[38;2;28;28;28;48;2;16;16;16m▀\u001b[38;2;4;4;4;48;2;16;16;16m▀\u001b[38;2;40;40;40;48;2;64;64;64m▀\u001b[38;2;84;84;84;48;2;48;48;48m▀\u001b[38;2;0;0;0;48;2;0;0;0m▀\u001b[38;2;12;12;12;48;2;48;48;48m▀\u001b[38;2;88;88;88;48;2;64;64;64m▀\u001b[38;2;28;28;28;48;2;16;16;16m▀\u001b[38;2;4;4;4;48;2;16;16;16m▀\u001b[38;2;40;40;40;48;2;64;64;64m▀\u001b[38;2;84;84;84;48;2;48;48;48m▀\u001b[38;2;0;0;0;48;2;0;0;0m▀\u001b[38;2;12;12;12;48;2;48;48;48m▀\u001b[38;2;88;88;88;48;2;64;64;64m▀\u001b[38;2;28;28;28;48;2;16;16;16m▀\u001b[38;2;4;4;4;48;2;16;16;16m▀\u001b[38;2;40;40;40;48;2;64;64;64m▀\u001b[38;2;84;84;84;48;2;48;48;48m▀\u001b[38;2;0;0;0;48;2;0;0;0m▀\u001b[38;2;12;12;12;48;2;48;48;48m▀\u001b[38;2;88;88;88;48;2;64;64;64m▀\u001b[38;2;28;28;28;48;2;16;16;16m▀\u001b[38;2;4;4;4;48;2;16;16;16m▀\u001b[38;2;40;40;40;48;2;64;64;64m▀\u001b[38;2;84;84;84;48;2;48;48;48m▀\u001b[38;2;0;0;0;48;2;0;0;0m▀\u001b[38;2;12;12;12;48;2;48;48;48m▀\u001b[38;2;88;88;88;48;2;64;64;64m▀\u001b[38;2;28;28;28;48;2;16;16;16m▀\u001b[38;2;4;4;4;48;2;16;16;16m▀\u001b[38;2;40;40;40;48;2;64;64;64m▀\u001b[38;2;84;84;84;48;2;48;48;48m▀\u001b[38;2;0;0;0;48;2;0;0;0m▀\u001b[38;2;12;12;12;48;2;48;48;48m▀\u001b[38;2;88;88;88;48;2;64;64;64m▀\u001b[38;2;28;28;28;48;2;16;16;16m▀\u001b[38;2;4;4;4;48;2;16;16;16m▀\u001b[38;2;40;40;40;48;2;64;64;64m▀\u001b[38;2;84;84;84;48;2;48;48;48m▀\u001b[38;2;0;0;0;48;2;0;0;0m▀\u001b[38;2;12;12;12;48;2;48;48;48m▀\u001b[38;2;88;88;88;48;2;64;64;64m▀\u001b[38;2;28;28;28;48;2;16;16;16m▀\u001b[38;2;4;4;4;48;2;16;16;16m▀\u001b[38;2;40;40;40;48;2;64;64;64m▀\u001b[38;2;84;84;84;48;2;48;48;48m▀\u001b[38;2;0;0;0;48;2;0;0;0m▀\u001b[38;2;12;12;12;48;2;48;48;48m▀\u001b[38;2;4;4;4;48;2;16;16;16m▀\u001b[0m\n",
       "\u001b[0m\u001b[38;2;48;48;48m▀\u001b[38;2;16;16;16m▀\u001b[38;2;0;0;0m▀\u001b[38;2;16;16;16m▀\u001b[38;2;48;48;48m▀\u001b[38;2;0;0;0m▀\u001b[38;2;0;0;0m▀\u001b[38;2;48;48;48m▀\u001b[38;2;16;16;16m▀\u001b[38;2;0;0;0m▀\u001b[38;2;16;16;16m▀\u001b[38;2;48;48;48m▀\u001b[38;2;0;0;0m▀\u001b[38;2;0;0;0m▀\u001b[38;2;48;48;48m▀\u001b[38;2;16;16;16m▀\u001b[38;2;0;0;0m▀\u001b[38;2;16;16;16m▀\u001b[38;2;48;48;48m▀\u001b[38;2;0;0;0m▀\u001b[38;2;0;0;0m▀\u001b[38;2;48;48;48m▀\u001b[38;2;16;16;16m▀\u001b[38;2;0;0;0m▀\u001b[38;2;16;16;16m▀\u001b[38;2;48;48;48m▀\u001b[38;2;0;0;0m▀\u001b[38;2;0;0;0m▀\u001b[38;2;48;48;48m▀\u001b[38;2;16;16;16m▀\u001b[38;2;0;0;0m▀\u001b[38;2;16;16;16m▀\u001b[38;2;48;48;48m▀\u001b[38;2;0;0;0m▀\u001b[38;2;0;0;0m▀\u001b[38;2;48;48;48m▀\u001b[38;2;16;16;16m▀\u001b[38;2;0;0;0m▀\u001b[38;2;16;16;16m▀\u001b[38;2;48;48;48m▀\u001b[38;2;0;0;0m▀\u001b[38;2;0;0;0m▀\u001b[38;2;48;48;48m▀\u001b[38;2;16;16;16m▀\u001b[38;2;0;0;0m▀\u001b[38;2;16;16;16m▀\u001b[38;2;48;48;48m▀\u001b[38;2;0;0;0m▀\u001b[38;2;0;0;0m▀\u001b[38;2;48;48;48m▀\u001b[38;2;16;16;16m▀\u001b[0m"
      ]
     },
     "execution_count": 32,
     "metadata": {},
     "output_type": "execute_result"
    }
   ],
   "source": [
    "Gray.(U) # This is what feed into the model d_neurons x T"
   ]
  },
  {
   "cell_type": "markdown",
   "id": "31f6e61f",
   "metadata": {},
   "source": [
    "What do we get out of the S5 model?"
   ]
  },
  {
   "cell_type": "code",
   "execution_count": 34,
   "id": "895c4250",
   "metadata": {},
   "outputs": [
    {
     "data": {
      "image/png": "[encoded data removed]",
      "text/html": [
       "<img src=\"data:image/png;base64,iVBORw0KGgoAAAANSUhEUgAAAZAAAAAoCAAAAAD1OvO8AAAAAXNSR0IArs4c6QAAAARnQU1BAACxjwv8YQUAAAAgY0hSTQAAeiYAAICEAAD6AAAAgOgAAHUwAADqYAAAOpgAABdwnLpRPAAAA95JREFUaAXtwbENAWEYANAn+WMAQ4iKxiKmYAIKW6hobaFWmeASEtEQlYjEBbmg/PNtcMW9l/p4YI4ZbrI+HphjhpusjwfmmOEm6+OBOWa4yfp4YI4ZbrI+HphjhpusjwfmmOEm6+OBOWa4yfp4YI4ZbrI+HphjhpusjwfmmOEm6+OBOWa4yfp4YI4ZbrI+HphjhpusjweSRq0kjVpJGrWSClSYohQVqDBFKSpQYYpSVKDCFKWoQIUpSlGBClOUogIVpihFBSpMUYoKVJiiFBWoMEUpKlBhilJUoMIUpahAhSlKUYEKU5SiAhWSRq0kjVpJGrWSRrhgiy4OshEu2KKLg2yEC7bo4iAb4YItujjIRrhgiy4OshEu2KKLg2yEC7bo4iAb4YItujjIRrhgiy4OshEu2KKLg2yEC7bo4iAb4YItujjIRrhgiy4OshEu2KKLg2yEC5JGrSSNWkkatZJ2eGKMs2iHJ8Y4i3Z4YoyzaIcnxjiLdnhijLNohyfGOIt2eGKMs2iHJ8Y4i3Z4YoyzaIcnxjiLdnhijLNohyfGOIt2eGKMs2iHJ8Y4i3Z4ImnUStKolaRRK2mII1ZYi4Y4YoW1aIgjVliLhjhihbVoiCNWWIuGOGKFtWiII1ZYi4Y4YoW1aIgjVliLhjhihbVoiCNWWIuGOGKFtWiII1ZYi4Y4YoW1aIgjkkatJI1aSRq1kva4Y4mWaI87lmiJ9rhjiZZojzuWaIn2uGOJlmiPO5Zoifa4Y4mWaI87lmiJ9rhjiZZojzuWaIn2uGOJlmiPO5Zoifa4Y4mWaI87lmiJ9rgjadRK0qiVpFErqYcrJligkPVwxQQLFLIerphggULWwxUTLFDIerhiggUKWQ9XTLBAIevhigkWKGQ9XDHBAoWshysmWKCQ9XDFBAsUsh6umGCBQtbDFRMsUMh6uGKCBQpZD1dMsEAh6+GKpFErSaNWkkatpA3aGOAn2qCNAX6iDdoY4CfaoI0BfqIN2hjgJ9qgjQF+og3aGOAn2qCNAX6iDdoY4CfaoI0BfqIN2hjgJ9qgjQF+og3aGOAn2qCNAX6iDdpIGrWSNGoladRKKvHGCR1RiTdO6IhKvHFCR1TijRM6ohJvnNARlXjjhI6oxBsndEQl3jihIyrxxgkdUYk3TuiISrxxQkdU4o0TOqISb5zQEZV444SOqMQbSaNWkkatJI1aSRW++OAlqvDFBy9RhS8+eIkqfPHBS1Thiw9eogpffPASVfjig5eowhcfvEQVvvjgJarwxQcvUYUvPniJKnzxwUtU4YsPXqIKX3zwElX4ImnUStKolaRRK3/ACp7+hDPVhwAAAABJRU5ErkJg\">"
      ],
      "text/plain": [
       "\u001b[0m\u001b[38;2;8;8;8;48;2;20;20;20m▀\u001b[38;2;30;30;30;48;2;74;74;74m▀\u001b[38;2;10;10;10;48;2;26;26;26m▀\u001b[38;2;2;2;2;48;2;5;5;5m▀\u001b[38;2;19;19;19;48;2;46;46;46m▀\u001b[38;2;27;27;27;48;2;66;66;66m▀\u001b[38;2;1;1;1;48;2;2;2;2m▀\u001b[38;2;8;8;8;48;2;20;20;20m▀\u001b[38;2;30;30;30;48;2;74;74;74m▀\u001b[38;2;10;10;10;48;2;26;26;26m▀\u001b[38;2;2;2;2;48;2;5;5;5m▀\u001b[38;2;19;19;19;48;2;46;46;46m▀\u001b[38;2;27;27;27;48;2;66;66;66m▀\u001b[38;2;1;1;1;48;2;2;2;2m▀\u001b[38;2;8;8;8;48;2;20;20;20m▀\u001b[38;2;30;30;30;48;2;74;74;74m▀\u001b[38;2;10;10;10;48;2;26;26;26m▀\u001b[38;2;2;2;2;48;2;5;5;5m▀\u001b[38;2;19;19;19;48;2;46;46;46m▀\u001b[38;2;27;27;27;48;2;66;66;66m▀\u001b[38;2;1;1;1;48;2;2;2;2m▀\u001b[38;2;8;8;8;48;2;20;20;20m▀\u001b[38;2;30;30;30;48;2;74;74;74m▀\u001b[38;2;10;10;10;48;2;26;26;26m▀\u001b[38;2;2;2;2;48;2;5;5;5m▀\u001b[38;2;19;19;19;48;2;46;46;46m▀\u001b[38;2;27;27;27;48;2;66;66;66m▀\u001b[38;2;1;1;1;48;2;2;2;2m▀\u001b[38;2;8;8;8;48;2;20;20;20m▀\u001b[38;2;30;30;30;48;2;74;74;74m▀\u001b[38;2;10;10;10;48;2;26;26;26m▀\u001b[38;2;2;2;2;48;2;5;5;5m▀\u001b[38;2;19;19;19;48;2;46;46;46m▀\u001b[38;2;27;27;27;48;2;66;66;66m▀\u001b[38;2;1;1;1;48;2;2;2;2m▀\u001b[38;2;8;8;8;48;2;20;20;20m▀\u001b[38;2;30;30;30;48;2;74;74;74m▀\u001b[38;2;10;10;10;48;2;26;26;26m▀\u001b[38;2;2;2;2;48;2;5;5;5m▀\u001b[38;2;19;19;19;48;2;46;46;46m▀\u001b[38;2;27;27;27;48;2;66;66;66m▀\u001b[38;2;1;1;1;48;2;2;2;2m▀\u001b[38;2;8;8;8;48;2;20;20;20m▀\u001b[38;2;30;30;30;48;2;74;74;74m▀\u001b[38;2;10;10;10;48;2;26;26;26m▀\u001b[38;2;2;2;2;48;2;5;5;5m▀\u001b[38;2;19;19;19;48;2;46;46;46m▀\u001b[38;2;27;27;27;48;2;66;66;66m▀\u001b[38;2;1;1;1;48;2;2;2;2m▀\u001b[38;2;8;8;8;48;2;20;20;20m▀\u001b[38;2;7;7;7;48;2;16;16;16m▀\u001b[0m\n",
       "\u001b[0m\u001b[38;2;27;27;27;48;2;28;28;28m▀\u001b[38;2;97;97;97;48;2;103;103;103m▀\u001b[38;2;29;29;29;48;2;35;35;35m▀\u001b[38;2;7;7;7;48;2;8;8;8m▀\u001b[38;2;61;61;61;48;2;64;64;64m▀\u001b[38;2;83;83;83;48;2;91;91;91m▀\u001b[38;2;2;2;2;48;2;3;3;3m▀\u001b[38;2;27;27;27;48;2;28;28;28m▀\u001b[38;2;97;97;97;48;2;103;103;103m▀\u001b[38;2;29;29;29;48;2;35;35;35m▀\u001b[38;2;7;7;7;48;2;8;8;8m▀\u001b[38;2;61;61;61;48;2;64;64;64m▀\u001b[38;2;83;83;83;48;2;91;91;91m▀\u001b[38;2;2;2;2;48;2;3;3;3m▀\u001b[38;2;27;27;27;48;2;28;28;28m▀\u001b[38;2;97;97;97;48;2;103;103;103m▀\u001b[38;2;29;29;29;48;2;35;35;35m▀\u001b[38;2;7;7;7;48;2;8;8;8m▀\u001b[38;2;61;61;61;48;2;64;64;64m▀\u001b[38;2;83;83;83;48;2;91;91;91m▀\u001b[38;2;2;2;2;48;2;3;3;3m▀\u001b[38;2;27;27;27;48;2;28;28;28m▀\u001b[38;2;97;97;97;48;2;103;103;103m▀\u001b[38;2;29;29;29;48;2;35;35;35m▀\u001b[38;2;7;7;7;48;2;8;8;8m▀\u001b[38;2;61;61;61;48;2;64;64;64m▀\u001b[38;2;83;83;83;48;2;91;91;91m▀\u001b[38;2;2;2;2;48;2;3;3;3m▀\u001b[38;2;27;27;27;48;2;28;28;28m▀\u001b[38;2;97;97;97;48;2;103;103;103m▀\u001b[38;2;29;29;29;48;2;35;35;35m▀\u001b[38;2;7;7;7;48;2;8;8;8m▀\u001b[38;2;61;61;61;48;2;64;64;64m▀\u001b[38;2;83;83;83;48;2;91;91;91m▀\u001b[38;2;2;2;2;48;2;3;3;3m▀\u001b[38;2;27;27;27;48;2;28;28;28m▀\u001b[38;2;97;97;97;48;2;103;103;103m▀\u001b[38;2;29;29;29;48;2;35;35;35m▀\u001b[38;2;7;7;7;48;2;8;8;8m▀\u001b[38;2;61;61;61;48;2;64;64;64m▀\u001b[38;2;83;83;83;48;2;91;91;91m▀\u001b[38;2;2;2;2;48;2;3;3;3m▀\u001b[38;2;27;27;27;48;2;28;28;28m▀\u001b[38;2;97;97;97;48;2;103;103;103m▀\u001b[38;2;29;29;29;48;2;35;35;35m▀\u001b[38;2;7;7;7;48;2;8;8;8m▀\u001b[38;2;61;61;61;48;2;64;64;64m▀\u001b[38;2;83;83;83;48;2;91;91;91m▀\u001b[38;2;2;2;2;48;2;3;3;3m▀\u001b[38;2;27;27;27;48;2;28;28;28m▀\u001b[38;2;21;21;21;48;2;23;23;23m▀\u001b[0m\n",
       "\u001b[0m\u001b[38;2;9;9;9;48;2;0;0;0m▀\u001b[38;2;35;35;35;48;2;2;2;2m▀\u001b[38;2;20;20;20;48;2;3;3;3m▀\u001b[38;2;2;2;2;48;2;0;0;0m▀\u001b[38;2;21;21;21;48;2;1;1;1m▀\u001b[38;2;36;36;36;48;2;3;3;3m▀\u001b[38;2;4;4;4;48;2;1;1;1m▀\u001b[38;2;9;9;9;48;2;0;0;0m▀\u001b[38;2;35;35;35;48;2;2;2;2m▀\u001b[38;2;20;20;20;48;2;3;3;3m▀\u001b[38;2;2;2;2;48;2;0;0;0m▀\u001b[38;2;21;21;21;48;2;1;1;1m▀\u001b[38;2;36;36;36;48;2;3;3;3m▀\u001b[38;2;4;4;4;48;2;1;1;1m▀\u001b[38;2;9;9;9;48;2;0;0;0m▀\u001b[38;2;35;35;35;48;2;2;2;2m▀\u001b[38;2;20;20;20;48;2;3;3;3m▀\u001b[38;2;2;2;2;48;2;0;0;0m▀\u001b[38;2;21;21;21;48;2;1;1;1m▀\u001b[38;2;36;36;36;48;2;3;3;3m▀\u001b[38;2;4;4;4;48;2;1;1;1m▀\u001b[38;2;9;9;9;48;2;0;0;0m▀\u001b[38;2;35;35;35;48;2;2;2;2m▀\u001b[38;2;20;20;20;48;2;3;3;3m▀\u001b[38;2;2;2;2;48;2;0;0;0m▀\u001b[38;2;21;21;21;48;2;1;1;1m▀\u001b[38;2;36;36;36;48;2;3;3;3m▀\u001b[38;2;4;4;4;48;2;1;1;1m▀\u001b[38;2;9;9;9;48;2;0;0;0m▀\u001b[38;2;35;35;35;48;2;2;2;2m▀\u001b[38;2;20;20;20;48;2;3;3;3m▀\u001b[38;2;2;2;2;48;2;0;0;0m▀\u001b[38;2;21;21;21;48;2;1;1;1m▀\u001b[38;2;36;36;36;48;2;3;3;3m▀\u001b[38;2;4;4;4;48;2;1;1;1m▀\u001b[38;2;9;9;9;48;2;0;0;0m▀\u001b[38;2;35;35;35;48;2;2;2;2m▀\u001b[38;2;20;20;20;48;2;3;3;3m▀\u001b[38;2;2;2;2;48;2;0;0;0m▀\u001b[38;2;21;21;21;48;2;1;1;1m▀\u001b[38;2;36;36;36;48;2;3;3;3m▀\u001b[38;2;4;4;4;48;2;1;1;1m▀\u001b[38;2;9;9;9;48;2;0;0;0m▀\u001b[38;2;35;35;35;48;2;2;2;2m▀\u001b[38;2;20;20;20;48;2;3;3;3m▀\u001b[38;2;2;2;2;48;2;0;0;0m▀\u001b[38;2;21;21;21;48;2;1;1;1m▀\u001b[38;2;36;36;36;48;2;3;3;3m▀\u001b[38;2;4;4;4;48;2;1;1;1m▀\u001b[38;2;9;9;9;48;2;0;0;0m▀\u001b[38;2;9;9;9;48;2;1;1;1m▀\u001b[0m\n"
      ]
     },
     "execution_count": 34,
     "metadata": {},
     "output_type": "execute_result"
    }
   ],
   "source": [
    "Gray.(transpose(abs.(YS5))) # This is what we get (d_{out} x T)"
   ]
  },
  {
   "cell_type": "markdown",
   "id": "baa3da44",
   "metadata": {},
   "source": [
    "__What the S5 is saying to us__? The output of the S5 model is a matrix $\\mathbf{Y}\\in\\mathbb{R}^{d_{out}\\times{T}}$, where $d_{out}$ is the number of outputs in the S5 model (dictated by the application), and $T$ is the time length of the simulation (number of input images). \n",
    "* _What can the columns of the output matrix `Y::Array{Float64,2}` represent_? Depends. In this case, let's run each column through a $\\texttt{softmax}$ function, and then take the index of the maximum value in each column. This gives us a vector of length $T$ that we can use to decode the output of the S5 model, i.e., the digit that the S5 model is trying to tell us.\n",
    "\n",
    "Decode the output of the S5 model:"
   ]
  },
  {
   "cell_type": "code",
   "execution_count": 36,
   "id": "cd2f7fd0",
   "metadata": {},
   "outputs": [
    {
     "data": {
      "text/plain": [
       "100-element Vector{Int64}:\n",
       " 2\n",
       " 6\n",
       " 2\n",
       " 6\n",
       " 0\n",
       " 0\n",
       " 0\n",
       " 2\n",
       " 6\n",
       " 2\n",
       " 6\n",
       " 0\n",
       " 0\n",
       " ⋮\n",
       " 0\n",
       " 0\n",
       " 0\n",
       " 2\n",
       " 6\n",
       " 2\n",
       " 6\n",
       " 0\n",
       " 0\n",
       " 0\n",
       " 2\n",
       " 6"
      ]
     },
     "execution_count": 36,
     "metadata": {},
     "output_type": "execute_result"
    }
   ],
   "source": [
    "Nₐ = let\n",
    "    Y = transpose(YS5) |> Matrix;\n",
    "    (number_of_rows, number_of_cols) = size(Y);\n",
    "    number_array = Array{Int64,1}(undef, number_of_cols); # numbers we are going to decode\n",
    "\n",
    "    for i ∈ 1:number_of_cols\n",
    "        number_array[i] = NNlib.softmax(abs.(Y[:,i])) |> x-> argmax(x) |> i -> i -1; # zero based\n",
    "    end\n",
    "\n",
    "    number_array\n",
    "end"
   ]
  },
  {
   "cell_type": "markdown",
   "id": "8443db24",
   "metadata": {},
   "source": [
    "### Discussion\n",
    "1. What do the rows of the output matrix `Y::Array{Float64,2}` represent?\n",
    "2. Hmmm. Interesting. Let's brainstorm about what we could do with these models if we had more time (and could train them)."
   ]
  },
  {
   "cell_type": "markdown",
   "id": "d0a97478",
   "metadata": {},
   "source": [
    "## What's coming up next time?\n",
    "In lecture `L15c`, we'll look at [Graph Neural Networks (GNNs)](https://en.wikipedia.org/wiki/Graph_neural_network).\n",
    "* __Graph Neural Networks (GNNs)__ are another type of neural network architecture specifically designed to operate on data structured as graphs, where entities (nodes) and their relationships (edges) are represented explicitly. \n",
    "* __How are GNNs different from traditional neural networks?__ Traditional neural networks typically operate on fixed-size, grid-like data structures (e.g., images, sequences), while GNNs can handle variable-sized graphs with complex connectivity patterns. This flexibility allows GNNs to model relationships and dependencies between entities more effectively, e.g., predicting user behavior in social networks by analyzing connections"
   ]
  }
 ],
 "metadata": {
  "kernelspec": {
   "display_name": "Julia 1.11.5",
   "language": "julia",
   "name": "julia-1.11"
  },
  "language_info": {
   "file_extension": ".jl",
   "mimetype": "application/julia",
   "name": "julia",
   "version": "1.11.5"
  }
 },
 "nbformat": 4,
 "nbformat_minor": 5
}
