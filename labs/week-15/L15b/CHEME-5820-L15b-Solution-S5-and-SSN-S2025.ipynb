{
 "cells": [
  {
   "cell_type": "markdown",
   "id": "4b0b40ea-0b0d-4237-b28e-653a016bbe43",
   "metadata": {},
   "source": [
    "# L15b: Combining S5 and Spike Neural Networks\n",
    "In this lab, we'll explore two alternative neural network architectures: Spike Neural Networks (SNNs) and the simplified structure state space sequence (S5) models. This is going to be a toy lab in the sense that we'll implement each of these and hook them together, but we will not (because of time) train them to do anything useful. \n",
    "\n",
    "* __Objective__: Our goal is to understand how these two models work. We'll start by using an SSN for vector embedding, and then we'll use the output of that model as input to an S5 model. The objective of the S5 model is to output a sequence of transformed digits. \n",
    "\n",
    "### Tasks\n",
    "Before we start, execute the `Run All Cells` command to check if you (or your neighbor) have any code or setup issues. Code issues, then raise your hands - and let's get those fixed!\n",
    "* __Task 1: Setup, Data, Constants (5 min)__: Let's take 5 minutes to load [the MNIST handwritten digits dataset](https://en.wikipedia.org/wiki/MNIST_database) that will serve as the input into the Spike Neural Network (SNN) model.\n",
    "* __Task 2: What is a Spiking Neural Network? (20 min)__: We will build a Spiking Neural Network (SNN) model instance in this task. The SNN model is a type of artificial neural network that is inspired by the way biological neurons communicate with each other. We'll feed in the vectorized digits from the training data, then check out the spiking patterns generated for different digits and hyperparameter choices.\n",
    "* __Task 3: Let's build an S5 model (20 min)__: In this task, we'll create a simplified structured state space sequence (S5) model instance. We'll feed in the spike patterns from our SSN and output a sequence of transformed digits using a nonlinear output transformation.\n",
    "\n",
    "Let's get started!\n",
    "___"
   ]
  },
  {
   "cell_type": "markdown",
   "id": "28e06d22",
   "metadata": {},
   "source": [
    "## Task 1: Setup, Data, Prerequisites\n",
    "We set up the computational environment by including the `Include.jl` file, loading any needed resources, such as sample datasets, and setting up any required constants. \n",
    "* The `Include.jl` file also loads external packages, various functions that we will use in the exercise, and custom types to model the components of our problem. It checks for a `Manifest.toml` file; if it finds one, packages are loaded. Other packages are downloaded and then loaded."
   ]
  },
  {
   "cell_type": "code",
   "execution_count": 3,
   "id": "0f3aa51b",
   "metadata": {},
   "outputs": [],
   "source": [
    "include(\"Include.jl\");"
   ]
  },
  {
   "cell_type": "code",
   "execution_count": 4,
   "id": "17752d75",
   "metadata": {},
   "outputs": [],
   "source": [
    "file_extension(file::String) = file[findlast(==('.'), file)+1:end]; # helper function to get the file extension"
   ]
  },
  {
   "cell_type": "markdown",
   "id": "406bb1c0",
   "metadata": {},
   "source": [
    "### Load the MNIST digits data set\n",
    "In this example, we'll play with image patterns from [the MNIST handwritten digits dataset](https://en.wikipedia.org/wiki/MNIST_database). The goal is to train the network to recognize a digit, e.g., \"3\" or \"5\", etc, and then retrieve it from a noisy input.\n",
    "\n",
    "Load a training image dataset and save training data in the `training_image_dataset` variable.\n",
    "* _What's in the training dataset_? The `training_image_dataset` will be of type `Vector{Tuple{Vector{Float32}, OneHotVector{UInt32}}}` where the first element is the input data `x.` The second element is the `label,` i.e., whether the image corresponds to `0,....,9`. However, the label is encoded as a `OneHotVector` (see below).\n",
    "* _Hmmm. That's strange_. The `Vector{Tuple{Vector{Float32}, OneHotVector{UInt32}}}` type has a couple of _weird features_. First, notice that the floating point is `Float32`, not the default `Float64`. Next, the labels are [One Hot encoded](https://en.wikipedia.org/wiki/One-hot). Finally, the input data `x` is a Vector, not a Matrix (even though the original image is a matrix of `Gray` values).\n",
    "\n",
    "However, before we load the training data, let's set some constants, which we use below. The comment next to each constant describes its permissible values, units, etc."
   ]
  },
  {
   "cell_type": "code",
   "execution_count": 6,
   "id": "b0deacbc",
   "metadata": {},
   "outputs": [],
   "source": [
    "number_of_training_examples = 30; # how many training examples of *each* number to include from the library\n",
    "number_digit_array = range(0,length=10,step=1) |> collect; # numbers 0 ... 9\n",
    "number_of_rows = 28; # number of rows in the image\n",
    "number_of_cols = 28; # number of cols in the image\n",
    "number_of_pixels = number_of_rows*number_of_cols; # how many pixels do we have in the image?\n",
    "number_of_images_to_memorize = 3; # number of images that we want to encode"
   ]
  },
  {
   "cell_type": "markdown",
   "id": "c3c1c2e2",
   "metadata": {},
   "source": [
    "`Unhide` the code blocks below to see how we construct and populate the `training_image_dataset` variable. First, we load all the images into the `training_image_dictionary::Dict{Int64, Array{Gray{N0f8},3}}`, and then we'll convert these to a vector format below."
   ]
  },
  {
   "cell_type": "code",
   "execution_count": 8,
   "id": "5ec7e35a",
   "metadata": {},
   "outputs": [],
   "source": [
    "training_image_dictionary = let\n",
    "    training_image_dictionary = Dict{Int64, Array{Gray{N0f8},3}}();\n",
    "    for i ∈ number_digit_array\n",
    "        \n",
    "        # create a set for this digit -\n",
    "        image_digit_array = Array{Gray{N0f8},3}(undef, number_of_rows, number_of_cols, number_of_training_examples);\n",
    "        files = readdir(joinpath(_PATH_TO_IMAGES,\"$(i)\")); \n",
    "        imagecount = 1;\n",
    "        for fileindex ∈ 1:number_of_training_examples\n",
    "            filename = files[fileindex];\n",
    "            ext = file_extension(filename)\n",
    "            if (ext == \"jpg\")\n",
    "                image_digit_array[:,:,fileindex] = joinpath(_PATH_TO_IMAGES, \"$(i)\", filename) |> x-> FileIO.load(x);\n",
    "                imagecount += 1\n",
    "            end\n",
    "        end\n",
    "    \n",
    "        # capture -\n",
    "        training_image_dictionary[i] = image_digit_array\n",
    "    end\n",
    "    training_image_dictionary\n",
    "end;"
   ]
  },
  {
   "cell_type": "markdown",
   "id": "837fc8eb",
   "metadata": {},
   "source": [
    "Next, we take the images in array format and vectorize them. \n",
    "* _What do we mean by vectorize_? Each $N\\times{N}$ image array containing the grayscale values at each pixel is converted to an $N^{2}$ vector of values. What image class, i.e., what number it represents, is then converted to [one-hot format](https://en.wikipedia.org/wiki/One-hot). The converted data is stored in the `training_image_dataset::Vector{Tuple{Vector{Float32}, OneHotVector{UInt32}}}` variable.\n",
    "* _What's the deal with Float32_? Most neural network libraries (or other machine learning calculations) use `Float32` (or lower) to save memory because of the large number of parameters associated with the network. Additionally, model training is often carried out using specialized hardware [such as Graphical Processing Units (GPUs)](https://www.nvidia.com/en-us/data-center/h100/), which has different memory constraints."
   ]
  },
  {
   "cell_type": "code",
   "execution_count": 10,
   "id": "a2b79705",
   "metadata": {},
   "outputs": [],
   "source": [
    "training_image_dataset = let\n",
    "    training_image_dataset = Vector{Tuple{Vector{Float32}, OneHotVector{UInt32}}}()\n",
    "    for i ∈ number_digit_array\n",
    "        Y = onehot(i, number_digit_array);\n",
    "        X = training_image_dictionary[i];\n",
    "        \n",
    "        for t ∈ 1:number_of_training_examples\n",
    "            D = Array{Float32,1}(undef, number_of_pixels);\n",
    "            linearindex = 1;\n",
    "            for row ∈ 1:number_of_rows\n",
    "                for col ∈ 1:number_of_cols\n",
    "                    D[linearindex] = X[row,col,t] |> x-> convert(Float32,x);\n",
    "                    linearindex+=1;\n",
    "                end\n",
    "            end\n",
    "    \n",
    "            training_tuple = (D,Y);\n",
    "            push!(training_image_dataset,training_tuple);\n",
    "        end\n",
    "    end\n",
    "    training_image_dataset\n",
    "end;"
   ]
  },
  {
   "cell_type": "code",
   "execution_count": 11,
   "id": "fbedfab4-53ed-42c2-812e-0f1ce243031f",
   "metadata": {},
   "outputs": [
    {
     "data": {
      "text/plain": [
       "784-element Vector{Float32}:\n",
       " 0.0\n",
       " 1.0\n",
       " 0.3137255\n",
       " 0.011764706\n",
       " 0.0\n",
       " 0.0\n",
       " 0.0\n",
       " 0.003921569\n",
       " 0.4392157\n",
       " 1.0\n",
       " 0.9098039\n",
       " 1.0\n",
       " 0.0\n",
       " ⋮\n",
       " 0.39215687\n",
       " 0.0\n",
       " 0.3372549\n",
       " 0.0\n",
       " 0.3372549\n",
       " 0.0\n",
       " 1.0\n",
       " 0.0\n",
       " 0.34117648\n",
       " 1.0\n",
       " 1.0\n",
       " 0.0"
      ]
     },
     "execution_count": 11,
     "metadata": {},
     "output_type": "execute_result"
    }
   ],
   "source": [
    "training_image_dataset[1][1]"
   ]
  },
  {
   "cell_type": "markdown",
   "id": "d745b933",
   "metadata": {},
   "source": [
    "## Task 2: What is a Spiking Neural Network?\n",
    "In this task, we will build a Spiking Neural Network (SNN) model instance. The SNN model is a neural network inspired by how actual biological neurons communicate. We'll feed in the vectorized digits and then check out the spiking patterns generated for different digits and hyperparameters.\n",
    "\n",
    "### Background\n",
    "The LIF spiking neural network model is characterized by its ability to generate binary spikes in response to an input current (from _pre-synaptic_ neurons, i.e., input neurons). It incorporates a leaky membrane potential that decays over time. The behavior of each neuron is governed by the (discretized) ordinary differential (now difference) equations:\n",
    "$$\n",
    "\\begin{align*}\n",
    "V_{i}(t+\\Delta{t}) & = \\alpha\\,V_{i}(t) + \\left(1-\\alpha\\right)I_{i}(t) - \\nu{z}_{i}(t)\\\\\n",
    "z_{i}(t) & = H\\left(I_{i}(t) - \\nu\\right)\n",
    "\\end{align*}\n",
    "$$\n",
    "where $V_{i}(\\star)$ denotes the membrane voltage at time $\\star$, $z_{i}(t)\\in\\left\\{0,1\\right\\}$ denotes the spike state of neuron $i$, and $\\nu$ denotes the firing threshold parameter. A LIF neuron will _fire_, i.e., switch to the `on` state from the `off` state, if the input current exceeds the firing threshold parameter. We implement this logic [using the Heaviside step function](https://en.wikipedia.org/wiki/Heaviside_step_function) $H(x)$. The input current for neuron $i$ at time $t$ denoted as $I_{i}(t)$, is given by\n",
    "$$\n",
    "\\begin{align*}\n",
    "I_{i}(t) = \\sum_{j=1}^{d_{in}}w_{ij}z_{j}(t)\n",
    "\\end{align*}\n",
    "$$\n",
    "where $w_{ij}\\in\\mathbb{R}_{+}$ denotes the strength of the connection between neuron $i$ and _pre-synaptic_ (input) neuron $j$, and $z_{j}(t)$ denotes the spike state of _pre synaptic_ neuron $j$. We have $d_{in}$ inputs in this formulation, i.e., $d_{in}$ _pre-synaptic_ neurons. The membrane potential decay constant $\\alpha = \\exp(-\\Delta{t}/\\tau_{m})$, where $\\Delta{t}$ is the timestep, and $\\tau_{m}$ is the membrane time constant.\n",
    "\n",
    "### Algorithm\n",
    "__Initialize__: The user specifies the number of neurons, the initial membrane voltage, and spike states are assumed to be zero. The user provides an input $\\mathbf{Z}\\in\\left\\{0,1\\right\\}^{d_{in}\\times{T}}$ matrix, where $z_{ij}\\in\\mathbf{Z}$ is the spike state of input neuron $i$ at time $j$. Lastly, specify a refractory time $\\Delta_{r}$ (number of time steps before neuron $i$ can refire).\n",
    "\n",
    "For $t = 1,2,\\dots,T\\cdot\\Delta{t}$\n",
    "1. For each neuron $k$, compute the input current $I_{k}(t)$, and compute the _next_ membrane voltage $V_{k}(t+1)  = \\alpha\\,V_{k}(t) + \\left(1-\\alpha\\right)I_{k}(t) - \\nu{z}_{k}(t)$. \n",
    "2. Update the _next_ spike state of neuron $k$ at time $t+1$. Evaluate $z_{k}(t+1) = H(I_{k}(t) - \\nu)$.\n",
    "    * __Refactory check__: If a neuron has recently fired, it is _ineligible_ to fire again until after a refactory period. Thus, if neuron $k$ is not eligible, i.e., fewer than refactory timesteps have passed, and it spiked, ignore the spike update.\n",
    "4. Continue until all input has been processed, i.e., all the columns of the $\\mathbf{Z}$ matrix have been given to the network, and the corresponding spike pattern recorded. \n",
    "\n",
    "Let's start by setting a few constants we will use in the SNN model. The comment next to each constant describes its permissible values, units, etc."
   ]
  },
  {
   "cell_type": "code",
   "execution_count": 13,
   "id": "5b4ab1c3",
   "metadata": {},
   "outputs": [],
   "source": [
    "number_of_samples = length(training_image_dataset); # how many samples do we have?\n",
    "number_of_neurons = 2^4; # TODO: how many SSN neurons do we want? (This will be the embedding dimension.)\n",
    "number_of_inputs = number_of_pixels; # how many inputs do we have? (size of the vector input)\n",
    "ν = 0.1; # Table 2: firing threshold https://arxiv.org/abs/2205.11276\n",
    "τ = 20.0; # Table 2: time constant (ms) https://arxiv.org/abs/2205.11276\n",
    "Δt = 1.0; # samping time step (ms)\n",
    "T₂ = 100; # number of time steps of length Δt (ms) to simulate (needs to be less than number_of_samples)"
   ]
  },
  {
   "cell_type": "code",
   "execution_count": 14,
   "id": "3d93ad1d-d29e-4994-b40e-ef80c5e5b7fb",
   "metadata": {},
   "outputs": [
    {
     "data": {
      "text/plain": [
       "300"
      ]
     },
     "execution_count": 14,
     "metadata": {},
     "output_type": "execute_result"
    }
   ],
   "source": [
    "number_of_samples"
   ]
  },
  {
   "cell_type": "markdown",
   "id": "26ad0a92",
   "metadata": {},
   "source": [
    "Next, we'll create an array `Z::Array{Int64,2}` that will hold the input data for the SSN. The columns of this array will hold the vectorized images, where the rows will be the pixel values transformed to $z_{ij}\\in\\{0,1\\}$ for image $j$ and pixel $i$. "
   ]
  },
  {
   "cell_type": "code",
   "execution_count": 16,
   "id": "7b4d4973",
   "metadata": {},
   "outputs": [
    {
     "data": {
      "text/plain": [
       "784×100 Matrix{Int64}:\n",
       " 0  0  0  0  0  0  0  0  0  0  0  0  0  …  0  0  0  0  0  0  0  0  0  0  0  0\n",
       " 0  0  0  0  0  0  0  0  0  0  0  0  0     0  0  0  0  0  0  0  0  0  0  0  0\n",
       " 0  0  0  0  0  0  0  0  0  0  0  0  0     0  0  0  0  0  0  0  0  0  0  0  0\n",
       " 0  0  0  0  0  0  0  0  0  0  0  0  0     0  0  0  0  0  0  0  0  0  0  0  0\n",
       " 0  0  0  0  0  0  0  0  0  0  0  0  0     0  0  0  0  0  0  0  0  0  0  0  0\n",
       " 0  0  0  0  0  0  0  0  0  0  0  0  0  …  0  0  0  0  0  0  0  0  0  0  0  0\n",
       " 0  0  0  0  0  0  0  0  0  0  0  0  0     0  0  0  0  0  0  0  0  0  0  0  0\n",
       " 0  0  0  0  0  0  0  0  0  0  0  0  0     0  0  0  0  0  0  0  0  0  0  0  0\n",
       " 0  0  0  0  0  0  0  0  0  0  0  0  0     0  0  0  0  0  0  0  0  0  0  0  0\n",
       " 0  0  0  0  0  0  0  0  0  0  0  0  0     0  0  0  0  0  0  0  0  0  0  0  0\n",
       " 0  0  0  0  0  0  0  0  0  0  0  0  0  …  0  0  0  0  0  0  0  0  0  0  0  0\n",
       " 0  0  0  0  0  0  0  0  0  0  0  0  0     0  0  0  0  0  0  0  0  0  0  0  0\n",
       " 0  0  0  0  0  0  0  0  0  0  0  0  0     0  0  0  0  0  0  0  0  0  0  0  0\n",
       " ⋮              ⋮              ⋮        ⋱        ⋮              ⋮           \n",
       " 0  0  0  0  0  0  0  0  0  0  0  0  0     0  0  0  0  0  0  0  0  0  0  0  0\n",
       " 0  0  0  0  0  0  0  0  0  0  0  0  0     0  0  0  0  0  0  0  0  0  0  0  0\n",
       " 0  0  0  0  0  0  0  0  0  0  0  0  0     0  0  0  0  0  0  0  0  0  0  0  0\n",
       " 0  0  0  0  0  0  0  0  0  0  0  0  0  …  0  0  0  0  0  0  0  0  0  0  0  0\n",
       " 0  0  0  0  0  0  0  0  0  0  0  0  0     0  0  0  0  0  0  0  0  0  0  0  0\n",
       " 0  0  0  0  0  0  0  0  0  0  0  0  0     0  0  0  0  0  0  0  0  0  0  0  0\n",
       " 0  0  0  0  0  0  0  0  0  0  0  0  0     0  0  0  0  0  0  0  0  0  0  0  0\n",
       " 0  0  0  0  0  0  0  0  0  0  0  0  0     0  0  0  0  0  0  0  0  0  0  0  0\n",
       " 0  0  0  0  0  0  0  0  0  0  0  0  0  …  0  0  0  0  0  0  0  0  0  0  0  0\n",
       " 0  0  0  0  0  0  0  0  0  0  0  0  0     0  0  0  0  0  0  0  0  0  0  0  0\n",
       " 0  0  0  0  0  0  0  0  0  0  0  0  0     0  0  0  0  0  0  0  0  0  0  0  0\n",
       " 0  0  0  0  0  0  0  0  0  0  0  0  0     0  0  0  0  0  0  0  0  0  0  0  0"
      ]
     },
     "execution_count": 16,
     "metadata": {},
     "output_type": "execute_result"
    }
   ],
   "source": [
    "Z = let\n",
    "\n",
    "    # initialize -\n",
    "    Z = zeros(Int, number_of_inputs, T₂); # we'll store the samples here (images on the col)\n",
    "    indexset = Set{Int64}(); # used to keep track of which samples we have already used\n",
    "    \n",
    "    # transform to {0,1}\n",
    "    for i ∈ 1:T₂\n",
    "        j = rand(1:number_of_samples); # generate a random sample index [1,....,number_of_samples]\n",
    "        if (j ∉ indexset) # if we have not already used this sample\n",
    "\n",
    "            tmp = training_image_dataset[j][1]; # grab the image\n",
    "            for k ∈ 1:number_of_pixels\n",
    "                z = tmp[k]; # grab the pixel value\n",
    "                if (z ≥ 0.5) # if the pixel value is greater than 0.5\n",
    "                    Z[k,i] = 1; # set to 1\n",
    "                else\n",
    "                    Z[k,i] = 0; # set to 0\n",
    "                end\n",
    "            end\n",
    "            push!(indexset,j); # grab the index (so we don't use it again)\n",
    "        end\n",
    "    end\n",
    "\n",
    "    Z # return \n",
    "end"
   ]
  },
  {
   "cell_type": "markdown",
   "id": "258bd06a",
   "metadata": {},
   "source": [
    "__Check__: Let's pick a column, and see what this data looks like. We should get a number back (after some gentle persuasion)."
   ]
  },
  {
   "cell_type": "code",
   "execution_count": 18,
   "id": "e00fb4c0",
   "metadata": {},
   "outputs": [
    {
     "data": {
      "image/png": "[encoded data removed]",
      "text/html": [
       "<img src=\"data:image/png;base64,iVBORw0KGgoAAAANSUhEUgAAAHAAAABwCAAAAADji6uXAAAAAXNSR0IArs4c6QAAAARnQU1BAACxjwv8YQUAAAAgY0hSTQAAeiYAAICEAAD6AAAAgOgAAHUwAADqYAAAOpgAABdwnLpRPAAAAQJJREFUaAW9wUFuwgAQwECv5P9/eXvggBCFpGnkGYlJTGISk5jEJCYxiUlMYhKTmMQkJjGJSUxiEpOYxCQmMYlJTGISkwuWd8M5EpOYxOQPls8WGI5JTGISkxOWV8PD8jScIzGJSUwOLE/D/0lMYhKTL5an4R4Sk5jE5ITh3fJqgeGYxCQmMflgeRjuJTGJSUwuWB6Gh+U8iUlMYvLBAAssvxuukZjEJCZfDLC8G66TmMQkJgeGe0lMYhKTGy0wfCcxiUlMbjDAco7EJCYxiUlMYhKTmMQkJjGJSUxiEpOYxCQmMbnRcExiEpOY3GA5T2ISk5jEJCYxickNhvMkJjGJ/QA+DBPCcZgZZAAAAABJRU5ErkJg\">"
      ],
      "text/plain": [
       "\u001b[0m\u001b[38;2;0;0;0m██\u001b[38;2;0;0;0m██\u001b[38;2;0;0;0m██\u001b[38;2;0;0;0m██\u001b[38;2;0;0;0m██\u001b[38;2;0;0;0m██\u001b[38;2;0;0;0m██\u001b[38;2;0;0;0m██\u001b[38;2;0;0;0m██\u001b[38;2;0;0;0m██\u001b[38;2;0;0;0m██\u001b[38;2;0;0;0m██\u001b[38;2;0;0;0m██\u001b[38;2;0;0;0m██\u001b[38;2;0;0;0m██\u001b[38;2;0;0;0m██\u001b[38;2;0;0;0m██\u001b[38;2;0;0;0m██\u001b[38;2;0;0;0m██\u001b[38;2;0;0;0m██\u001b[38;2;0;0;0m██\u001b[38;2;0;0;0m██\u001b[38;2;0;0;0m██\u001b[38;2;0;0;0m██\u001b[38;2;0;0;0m██\u001b[38;2;0;0;0m██\u001b[38;2;0;0;0m██\u001b[38;2;0;0;0m██\u001b[0m\n",
       "\u001b[0m\u001b[38;2;0;0;0m██\u001b[38;2;0;0;0m██\u001b[38;2;0;0;0m██\u001b[38;2;0;0;0m██\u001b[38;2;0;0;0m██\u001b[38;2;0;0;0m██\u001b[38;2;0;0;0m██\u001b[38;2;0;0;0m██\u001b[38;2;0;0;0m██\u001b[38;2;0;0;0m██\u001b[38;2;0;0;0m██\u001b[38;2;0;0;0m██\u001b[38;2;0;0;0m██\u001b[38;2;0;0;0m██\u001b[38;2;0;0;0m██\u001b[38;2;0;0;0m██\u001b[38;2;0;0;0m██\u001b[38;2;0;0;0m██\u001b[38;2;0;0;0m██\u001b[38;2;0;0;0m██\u001b[38;2;0;0;0m██\u001b[38;2;0;0;0m██\u001b[38;2;0;0;0m██\u001b[38;2;0;0;0m██\u001b[38;2;0;0;0m██\u001b[38;2;0;0;0m██\u001b[38;2;0;0;0m██\u001b[38;2;0;0;0m██\u001b[0m\n",
       "\u001b[0m\u001b[38;2;0;0;0m██\u001b[38;2;0;0;0m██\u001b[38;2;0;0;0m██\u001b[38;2;0;0;0m██\u001b[38;2;0;0;0m██\u001b[38;2;0;0;0m██\u001b[38;2;0;0;0m██\u001b[38;2;0;0;0m██\u001b[38;2;0;0;0m██\u001b[38;2;0;0;0m██\u001b[38;2;0;0;0m██\u001b[38;2;0;0;0m██\u001b[38;2;0;0;0m██\u001b[38;2;0;0;0m██\u001b[38;2;0;0;0m██\u001b[38;2;0;0;0m██\u001b[38;2;0;0;0m██\u001b[38;2;0;0;0m██\u001b[38;2;0;0;0m██\u001b[38;2;0;0;0m██\u001b[38;2;0;0;0m██\u001b[38;2;0;0;0m██\u001b[38;2;0;0;0m██\u001b[38;2;0;0;0m██\u001b[38;2;0;0;0m██\u001b[38;2;0;0;0m██\u001b[38;2;0;0;0m██\u001b[38;2;0;0;0m██\u001b[0m\n",
       "\u001b[0m\u001b[38;2;0;0;0m██\u001b[38;2;0;0;0m██\u001b[38;2;0;0;0m██\u001b[38;2;0;0;0m██\u001b[38;2;0;0;0m██\u001b[38;2;0;0;0m██\u001b[38;2;0;0;0m██\u001b[38;2;0;0;0m██\u001b[38;2;0;0;0m██\u001b[38;2;0;0;0m██\u001b[38;2;0;0;0m██\u001b[38;2;0;0;0m██\u001b[38;2;0;0;0m██\u001b[38;2;0;0;0m██\u001b[38;2;0;0;0m██\u001b[38;2;0;0;0m██\u001b[38;2;0;0;0m██\u001b[38;2;0;0;0m██\u001b[38;2;0;0;0m██\u001b[38;2;0;0;0m██\u001b[38;2;0;0;0m██\u001b[38;2;0;0;0m██\u001b[38;2;0;0;0m██\u001b[38;2;0;0;0m██\u001b[38;2;0;0;0m██\u001b[38;2;0;0;0m██\u001b[38;2;0;0;0m██\u001b[38;2;0;0;0m██\u001b[0m\n",
       "\u001b[0m\u001b[38;2;0;0;0m██\u001b[38;2;0;0;0m██\u001b[38;2;0;0;0m██\u001b[38;2;0;0;0m██\u001b[38;2;0;0;0m██\u001b[38;2;0;0;0m██\u001b[38;2;0;0;0m██\u001b[38;2;0;0;0m██\u001b[38;2;0;0;0m██\u001b[38;2;0;0;0m██\u001b[38;2;0;0;0m██\u001b[38;2;0;0;0m██\u001b[38;2;0;0;0m██\u001b[38;2;0;0;0m██\u001b[38;2;0;0;0m██\u001b[38;2;0;0;0m██\u001b[38;2;0;0;0m██\u001b[38;2;0;0;0m██\u001b[38;2;0;0;0m██\u001b[38;2;0;0;0m██\u001b[38;2;0;0;0m██\u001b[38;2;0;0;0m██\u001b[38;2;0;0;0m██\u001b[38;2;0;0;0m██\u001b[38;2;0;0;0m██\u001b[38;2;0;0;0m██\u001b[38;2;0;0;0m██\u001b[38;2;0;0;0m██\u001b[0m\n",
       "\u001b[0m\u001b[38;2;0;0;0m██\u001b[38;2;0;0;0m██\u001b[38;2;0;0;0m██\u001b[38;2;0;0;0m██\u001b[38;2;0;0;0m██\u001b[38;2;0;0;0m██\u001b[38;2;0;0;0m██\u001b[38;2;0;0;0m██\u001b[38;2;0;0;0m██\u001b[38;2;0;0;0m██\u001b[38;2;0;0;0m██\u001b[38;2;0;0;0m██\u001b[38;2;0;0;0m██\u001b[38;2;0;0;0m██\u001b[38;2;0;0;0m██\u001b[38;2;0;0;0m██\u001b[38;2;0;0;0m██\u001b[38;2;0;0;0m██\u001b[38;2;0;0;0m██\u001b[38;2;0;0;0m██\u001b[38;2;0;0;0m██\u001b[38;2;0;0;0m██\u001b[38;2;0;0;0m██\u001b[38;2;0;0;0m██\u001b[38;2;0;0;0m██\u001b[38;2;0;0;0m██\u001b[38;2;0;0;0m██\u001b[38;2;0;0;0m██\u001b[0m\n",
       "\u001b[0m\u001b[38;2;0;0;0m██\u001b[38;2;0;0;0m██\u001b[38;2;0;0;0m██\u001b[38;2;0;0;0m██\u001b[38;2;0;0;0m██\u001b[38;2;0;0;0m██\u001b[38;2;0;0;0m██\u001b[38;2;0;0;0m██\u001b[38;2;0;0;0m██\u001b[38;2;0;0;0m██\u001b[38;2;0;0;0m██\u001b[38;2;0;0;0m██\u001b[38;2;0;0;0m██\u001b[38;2;0;0;0m██\u001b[38;2;0;0;0m██\u001b[38;2;0;0;0m██\u001b[38;2;0;0;0m██\u001b[38;2;0;0;0m██\u001b[38;2;0;0;0m██\u001b[38;2;0;0;0m██\u001b[38;2;0;0;0m██\u001b[38;2;0;0;0m██\u001b[38;2;0;0;0m██\u001b[38;2;0;0;0m██\u001b[38;2;0;0;0m██\u001b[38;2;0;0;0m██\u001b[38;2;0;0;0m██\u001b[38;2;0;0;0m██\u001b[0m\n",
       "\u001b[0m\u001b[38;2;0;0;0m██\u001b[38;2;0;0;0m██\u001b[38;2;0;0;0m██\u001b[38;2;0;0;0m██\u001b[38;2;0;0;0m██\u001b[38;2;0;0;0m██\u001b[38;2;0;0;0m██\u001b[38;2;0;0;0m██\u001b[38;2;0;0;0m██\u001b[38;2;0;0;0m██\u001b[38;2;0;0;0m██\u001b[38;2;0;0;0m██\u001b[38;2;0;0;0m██\u001b[38;2;255;255;255m██\u001b[38;2;255;255;255m██\u001b[38;2;255;255;255m██\u001b[38;2;255;255;255m██\u001b[38;2;255;255;255m██\u001b[38;2;0;0;0m██\u001b[38;2;0;0;0m██\u001b[38;2;0;0;0m██\u001b[38;2;0;0;0m██\u001b[38;2;0;0;0m██\u001b[38;2;0;0;0m██\u001b[38;2;0;0;0m██\u001b[38;2;0;0;0m██\u001b[38;2;0;0;0m██\u001b[38;2;0;0;0m██\u001b[0m\n",
       "\u001b[0m\u001b[38;2;0;0;0m██\u001b[38;2;0;0;0m██\u001b[38;2;0;0;0m██\u001b[38;2;0;0;0m██\u001b[38;2;0;0;0m██\u001b[38;2;0;0;0m██\u001b[38;2;0;0;0m██\u001b[38;2;0;0;0m██\u001b[38;2;0;0;0m██\u001b[38;2;0;0;0m██\u001b[38;2;0;0;0m██\u001b[38;2;255;255;255m██\u001b[38;2;255;255;255m██\u001b[38;2;255;255;255m██\u001b[38;2;255;255;255m██\u001b[38;2;255;255;255m██\u001b[38;2;255;255;255m██\u001b[38;2;255;255;255m██\u001b[38;2;255;255;255m██\u001b[38;2;0;0;0m██\u001b[38;2;0;0;0m██\u001b[38;2;0;0;0m██\u001b[38;2;0;0;0m██\u001b[38;2;0;0;0m██\u001b[38;2;0;0;0m██\u001b[38;2;0;0;0m██\u001b[38;2;0;0;0m██\u001b[38;2;0;0;0m██\u001b[0m\n",
       "\u001b[0m\u001b[38;2;0;0;0m██\u001b[38;2;0;0;0m██\u001b[38;2;0;0;0m██\u001b[38;2;0;0;0m██\u001b[38;2;0;0;0m██\u001b[38;2;0;0;0m██\u001b[38;2;0;0;0m██\u001b[38;2;0;0;0m██\u001b[38;2;0;0;0m██\u001b[38;2;255;255;255m██\u001b[38;2;255;255;255m██\u001b[38;2;255;255;255m██\u001b[38;2;255;255;255m██\u001b[38;2;0;0;0m██\u001b[38;2;0;0;0m██\u001b[38;2;255;255;255m██\u001b[38;2;255;255;255m██\u001b[38;2;255;255;255m██\u001b[38;2;0;0;0m██\u001b[38;2;0;0;0m██\u001b[38;2;0;0;0m██\u001b[38;2;0;0;0m██\u001b[38;2;0;0;0m██\u001b[38;2;0;0;0m██\u001b[38;2;0;0;0m██\u001b[38;2;0;0;0m██\u001b[38;2;0;0;0m██\u001b[38;2;0;0;0m██\u001b[0m\n",
       "\u001b[0m\u001b[38;2;0;0;0m██\u001b[38;2;0;0;0m██\u001b[38;2;0;0;0m██\u001b[38;2;0;0;0m██\u001b[38;2;0;0;0m██\u001b[38;2;0;0;0m██\u001b[38;2;0;0;0m██\u001b[38;2;0;0;0m██\u001b[38;2;255;255;255m██\u001b[38;2;255;255;255m██\u001b[38;2;255;255;255m██\u001b[38;2;0;0;0m██\u001b[38;2;0;0;0m██\u001b[38;2;0;0;0m██\u001b[38;2;0;0;0m██\u001b[38;2;255;255;255m██\u001b[38;2;255;255;255m██\u001b[38;2;255;255;255m██\u001b[38;2;0;0;0m██\u001b[38;2;0;0;0m██\u001b[38;2;0;0;0m██\u001b[38;2;0;0;0m██\u001b[38;2;0;0;0m██\u001b[38;2;0;0;0m██\u001b[38;2;0;0;0m██\u001b[38;2;0;0;0m██\u001b[38;2;0;0;0m██\u001b[38;2;0;0;0m██\u001b[0m\n",
       "\u001b[0m\u001b[38;2;0;0;0m██\u001b[38;2;0;0;0m██\u001b[38;2;0;0;0m██\u001b[38;2;0;0;0m██\u001b[38;2;0;0;0m██\u001b[38;2;0;0;0m██\u001b[38;2;0;0;0m██\u001b[38;2;255;255;255m██\u001b[38;2;255;255;255m██\u001b[38;2;255;255;255m██\u001b[38;2;0;0;0m██\u001b[38;2;0;0;0m██\u001b[38;2;0;0;0m██\u001b[38;2;0;0;0m██\u001b[38;2;0;0;0m██\u001b[38;2;255;255;255m██\u001b[38;2;255;255;255m██\u001b[38;2;255;255;255m██\u001b[38;2;0;0;0m██\u001b[38;2;0;0;0m██\u001b[38;2;0;0;0m██\u001b[38;2;0;0;0m██\u001b[38;2;0;0;0m██\u001b[38;2;0;0;0m██\u001b[38;2;0;0;0m██\u001b[38;2;0;0;0m██\u001b[38;2;0;0;0m██\u001b[38;2;0;0;0m██\u001b[0m\n",
       "\u001b[0m\u001b[38;2;0;0;0m██\u001b[38;2;0;0;0m██\u001b[38;2;0;0;0m██\u001b[38;2;0;0;0m██\u001b[38;2;0;0;0m██\u001b[38;2;0;0;0m██\u001b[38;2;0;0;0m██\u001b[38;2;255;255;255m██\u001b[38;2;255;255;255m██\u001b[38;2;0;0;0m██\u001b[38;2;0;0;0m██\u001b[38;2;0;0;0m██\u001b[38;2;0;0;0m██\u001b[38;2;0;0;0m██\u001b[38;2;255;255;255m██\u001b[38;2;255;255;255m██\u001b[38;2;255;255;255m██\u001b[38;2;255;255;255m██\u001b[38;2;255;255;255m██\u001b[38;2;0;0;0m██\u001b[38;2;0;0;0m██\u001b[38;2;0;0;0m██\u001b[38;2;0;0;0m██\u001b[38;2;0;0;0m██\u001b[38;2;0;0;0m██\u001b[38;2;0;0;0m██\u001b[38;2;0;0;0m██\u001b[38;2;0;0;0m██\u001b[0m\n",
       "\u001b[0m\u001b[38;2;0;0;0m██\u001b[38;2;0;0;0m██\u001b[38;2;0;0;0m██\u001b[38;2;0;0;0m██\u001b[38;2;0;0;0m██\u001b[38;2;0;0;0m██\u001b[38;2;255;255;255m██\u001b[38;2;255;255;255m██\u001b[38;2;0;0;0m██\u001b[38;2;0;0;0m██\u001b[38;2;0;0;0m██\u001b[38;2;0;0;0m██\u001b[38;2;0;0;0m██\u001b[38;2;0;0;0m██\u001b[38;2;255;255;255m██\u001b[38;2;255;255;255m██\u001b[38;2;255;255;255m██\u001b[38;2;255;255;255m██\u001b[38;2;255;255;255m██\u001b[38;2;0;0;0m██\u001b[38;2;0;0;0m██\u001b[38;2;0;0;0m██\u001b[38;2;0;0;0m██\u001b[38;2;0;0;0m██\u001b[38;2;0;0;0m██\u001b[38;2;0;0;0m██\u001b[38;2;0;0;0m██\u001b[38;2;0;0;0m██\u001b[0m\n",
       "\u001b[0m\u001b[38;2;0;0;0m██\u001b[38;2;0;0;0m██\u001b[38;2;0;0;0m██\u001b[38;2;0;0;0m██\u001b[38;2;0;0;0m██\u001b[38;2;0;0;0m██\u001b[38;2;255;255;255m██\u001b[38;2;255;255;255m██\u001b[38;2;0;0;0m██\u001b[38;2;0;0;0m██\u001b[38;2;0;0;0m██\u001b[38;2;0;0;0m██\u001b[38;2;0;0;0m██\u001b[38;2;255;255;255m██\u001b[38;2;255;255;255m██\u001b[38;2;0;0;0m██\u001b[38;2;0;0;0m██\u001b[38;2;255;255;255m██\u001b[38;2;255;255;255m██\u001b[38;2;0;0;0m██\u001b[38;2;0;0;0m██\u001b[38;2;0;0;0m██\u001b[38;2;0;0;0m██\u001b[38;2;0;0;0m██\u001b[38;2;0;0;0m██\u001b[38;2;0;0;0m██\u001b[38;2;0;0;0m██\u001b[38;2;0;0;0m██\u001b[0m\n",
       "\u001b[0m\u001b[38;2;0;0;0m██\u001b[38;2;0;0;0m██\u001b[38;2;0;0;0m██\u001b[38;2;0;0;0m██\u001b[38;2;0;0;0m██\u001b[38;2;0;0;0m██\u001b[38;2;0;0;0m██\u001b[38;2;255;255;255m██\u001b[38;2;255;255;255m██\u001b[38;2;255;255;255m██\u001b[38;2;255;255;255m██\u001b[38;2;255;255;255m██\u001b[38;2;255;255;255m██\u001b[38;2;255;255;255m██\u001b[38;2;0;0;0m██\u001b[38;2;0;0;0m██\u001b[38;2;0;0;0m██\u001b[38;2;255;255;255m██\u001b[38;2;255;255;255m██\u001b[38;2;0;0;0m██\u001b[38;2;0;0;0m██\u001b[38;2;0;0;0m██\u001b[38;2;0;0;0m██\u001b[38;2;0;0;0m██\u001b[38;2;0;0;0m██\u001b[38;2;0;0;0m██\u001b[38;2;0;0;0m██\u001b[38;2;0;0;0m██\u001b[0m\n",
       "\u001b[0m\u001b[38;2;0;0;0m██\u001b[38;2;0;0;0m██\u001b[38;2;0;0;0m██\u001b[38;2;0;0;0m██\u001b[38;2;0;0;0m██\u001b[38;2;0;0;0m██\u001b[38;2;0;0;0m██\u001b[38;2;0;0;0m██\u001b[38;2;255;255;255m██\u001b[38;2;255;255;255m██\u001b[38;2;255;255;255m██\u001b[38;2;255;255;255m██\u001b[38;2;255;255;255m██\u001b[38;2;0;0;0m██\u001b[38;2;0;0;0m██\u001b[38;2;0;0;0m██\u001b[38;2;0;0;0m██\u001b[38;2;255;255;255m██\u001b[38;2;255;255;255m██\u001b[38;2;0;0;0m██\u001b[38;2;0;0;0m██\u001b[38;2;0;0;0m██\u001b[38;2;0;0;0m██\u001b[38;2;0;0;0m██\u001b[38;2;0;0;0m██\u001b[38;2;0;0;0m██\u001b[38;2;0;0;0m██\u001b[38;2;0;0;0m██\u001b[0m\n",
       "\u001b[0m\u001b[38;2;0;0;0m██\u001b[38;2;0;0;0m██\u001b[38;2;0;0;0m██\u001b[38;2;0;0;0m██\u001b[38;2;0;0;0m██\u001b[38;2;0;0;0m██\u001b[38;2;0;0;0m██\u001b[38;2;0;0;0m██\u001b[38;2;0;0;0m██\u001b[38;2;0;0;0m██\u001b[38;2;0;0;0m██\u001b[38;2;0;0;0m██\u001b[38;2;0;0;0m██\u001b[38;2;0;0;0m██\u001b[38;2;0;0;0m██\u001b[38;2;0;0;0m██\u001b[38;2;0;0;0m██\u001b[38;2;255;255;255m██\u001b[38;2;255;255;255m██\u001b[38;2;0;0;0m██\u001b[38;2;0;0;0m██\u001b[38;2;0;0;0m██\u001b[38;2;0;0;0m██\u001b[38;2;0;0;0m██\u001b[38;2;0;0;0m██\u001b[38;2;0;0;0m██\u001b[38;2;0;0;0m██\u001b[38;2;0;0;0m██\u001b[0m\n",
       "\u001b[0m\u001b[38;2;0;0;0m██\u001b[38;2;0;0;0m██\u001b[38;2;0;0;0m██\u001b[38;2;0;0;0m██\u001b[38;2;0;0;0m██\u001b[38;2;0;0;0m██\u001b[38;2;0;0;0m██\u001b[38;2;0;0;0m██\u001b[38;2;0;0;0m██\u001b[38;2;0;0;0m██\u001b[38;2;0;0;0m██\u001b[38;2;0;0;0m██\u001b[38;2;0;0;0m██\u001b[38;2;0;0;0m██\u001b[38;2;0;0;0m██\u001b[38;2;0;0;0m██\u001b[38;2;0;0;0m██\u001b[38;2;255;255;255m██\u001b[38;2;255;255;255m██\u001b[38;2;255;255;255m██\u001b[38;2;0;0;0m██\u001b[38;2;0;0;0m██\u001b[38;2;0;0;0m██\u001b[38;2;0;0;0m██\u001b[38;2;0;0;0m██\u001b[38;2;0;0;0m██\u001b[38;2;0;0;0m██\u001b[38;2;0;0;0m██\u001b[0m\n",
       "\u001b[0m\u001b[38;2;0;0;0m██\u001b[38;2;0;0;0m██\u001b[38;2;0;0;0m██\u001b[38;2;0;0;0m██\u001b[38;2;0;0;0m██\u001b[38;2;0;0;0m██\u001b[38;2;0;0;0m██\u001b[38;2;0;0;0m██\u001b[38;2;0;0;0m██\u001b[38;2;0;0;0m██\u001b[38;2;0;0;0m██\u001b[38;2;0;0;0m██\u001b[38;2;0;0;0m██\u001b[38;2;0;0;0m██\u001b[38;2;0;0;0m██\u001b[38;2;0;0;0m██\u001b[38;2;0;0;0m██\u001b[38;2;0;0;0m██\u001b[38;2;255;255;255m██\u001b[38;2;255;255;255m██\u001b[38;2;0;0;0m██\u001b[38;2;0;0;0m██\u001b[38;2;0;0;0m██\u001b[38;2;0;0;0m██\u001b[38;2;0;0;0m██\u001b[38;2;0;0;0m██\u001b[38;2;0;0;0m██\u001b[38;2;0;0;0m██\u001b[0m\n",
       "\u001b[0m\u001b[38;2;0;0;0m██\u001b[38;2;0;0;0m██\u001b[38;2;0;0;0m██\u001b[38;2;0;0;0m██\u001b[38;2;0;0;0m██\u001b[38;2;0;0;0m██\u001b[38;2;0;0;0m██\u001b[38;2;0;0;0m██\u001b[38;2;0;0;0m██\u001b[38;2;0;0;0m██\u001b[38;2;0;0;0m██\u001b[38;2;0;0;0m██\u001b[38;2;0;0;0m██\u001b[38;2;0;0;0m██\u001b[38;2;0;0;0m██\u001b[38;2;0;0;0m██\u001b[38;2;0;0;0m██\u001b[38;2;0;0;0m██\u001b[38;2;255;255;255m██\u001b[38;2;255;255;255m██\u001b[38;2;0;0;0m██\u001b[38;2;0;0;0m██\u001b[38;2;0;0;0m██\u001b[38;2;0;0;0m██\u001b[38;2;0;0;0m██\u001b[38;2;0;0;0m██\u001b[38;2;0;0;0m██\u001b[38;2;0;0;0m██\u001b[0m\n",
       "\u001b[0m\u001b[38;2;0;0;0m██\u001b[38;2;0;0;0m██\u001b[38;2;0;0;0m██\u001b[38;2;0;0;0m██\u001b[38;2;0;0;0m██\u001b[38;2;0;0;0m██\u001b[38;2;0;0;0m██\u001b[38;2;0;0;0m██\u001b[38;2;0;0;0m██\u001b[38;2;0;0;0m██\u001b[38;2;0;0;0m██\u001b[38;2;0;0;0m██\u001b[38;2;0;0;0m██\u001b[38;2;0;0;0m██\u001b[38;2;0;0;0m██\u001b[38;2;0;0;0m██\u001b[38;2;0;0;0m██\u001b[38;2;0;0;0m██\u001b[38;2;255;255;255m██\u001b[38;2;255;255;255m██\u001b[38;2;0;0;0m██\u001b[38;2;0;0;0m██\u001b[38;2;0;0;0m██\u001b[38;2;0;0;0m██\u001b[38;2;0;0;0m██\u001b[38;2;0;0;0m██\u001b[38;2;0;0;0m██\u001b[38;2;0;0;0m██\u001b[0m\n",
       "\u001b[0m\u001b[38;2;0;0;0m██\u001b[38;2;0;0;0m██\u001b[38;2;0;0;0m██\u001b[38;2;0;0;0m██\u001b[38;2;0;0;0m██\u001b[38;2;0;0;0m██\u001b[38;2;0;0;0m██\u001b[38;2;0;0;0m██\u001b[38;2;0;0;0m██\u001b[38;2;0;0;0m██\u001b[38;2;0;0;0m██\u001b[38;2;0;0;0m██\u001b[38;2;0;0;0m██\u001b[38;2;0;0;0m██\u001b[38;2;0;0;0m██\u001b[38;2;0;0;0m██\u001b[38;2;0;0;0m██\u001b[38;2;0;0;0m██\u001b[38;2;255;255;255m██\u001b[38;2;255;255;255m██\u001b[38;2;0;0;0m██\u001b[38;2;0;0;0m██\u001b[38;2;0;0;0m██\u001b[38;2;0;0;0m██\u001b[38;2;0;0;0m██\u001b[38;2;0;0;0m██\u001b[38;2;0;0;0m██\u001b[38;2;0;0;0m██\u001b[0m\n",
       "\u001b[0m\u001b[38;2;0;0;0m██\u001b[38;2;0;0;0m██\u001b[38;2;0;0;0m██\u001b[38;2;0;0;0m██\u001b[38;2;0;0;0m██\u001b[38;2;0;0;0m██\u001b[38;2;0;0;0m██\u001b[38;2;0;0;0m██\u001b[38;2;0;0;0m██\u001b[38;2;0;0;0m██\u001b[38;2;0;0;0m██\u001b[38;2;0;0;0m██\u001b[38;2;0;0;0m██\u001b[38;2;0;0;0m██\u001b[38;2;0;0;0m██\u001b[38;2;0;0;0m██\u001b[38;2;0;0;0m██\u001b[38;2;0;0;0m██\u001b[38;2;255;255;255m██\u001b[38;2;255;255;255m██\u001b[38;2;0;0;0m██\u001b[38;2;0;0;0m██\u001b[38;2;0;0;0m██\u001b[38;2;0;0;0m██\u001b[38;2;0;0;0m██\u001b[38;2;0;0;0m██\u001b[38;2;0;0;0m██\u001b[38;2;0;0;0m██\u001b[0m\n",
       "\u001b[0m\u001b[38;2;0;0;0m██\u001b[38;2;0;0;0m██\u001b[38;2;0;0;0m██\u001b[38;2;0;0;0m██\u001b[38;2;0;0;0m██\u001b[38;2;0;0;0m██\u001b[38;2;0;0;0m██\u001b[38;2;0;0;0m██\u001b[38;2;0;0;0m██\u001b[38;2;0;0;0m██\u001b[38;2;0;0;0m██\u001b[38;2;0;0;0m██\u001b[38;2;0;0;0m██\u001b[38;2;0;0;0m██\u001b[38;2;0;0;0m██\u001b[38;2;0;0;0m██\u001b[38;2;0;0;0m██\u001b[38;2;0;0;0m██\u001b[38;2;255;255;255m██\u001b[38;2;0;0;0m██\u001b[38;2;0;0;0m██\u001b[38;2;0;0;0m██\u001b[38;2;0;0;0m██\u001b[38;2;0;0;0m██\u001b[38;2;0;0;0m██\u001b[38;2;0;0;0m██\u001b[38;2;0;0;0m██\u001b[38;2;0;0;0m██\u001b[0m\n",
       "\u001b[0m\u001b[38;2;0;0;0m██\u001b[38;2;0;0;0m██\u001b[38;2;0;0;0m██\u001b[38;2;0;0;0m██\u001b[38;2;0;0;0m██\u001b[38;2;0;0;0m██\u001b[38;2;0;0;0m██\u001b[38;2;0;0;0m██\u001b[38;2;0;0;0m██\u001b[38;2;0;0;0m██\u001b[38;2;0;0;0m██\u001b[38;2;0;0;0m██\u001b[38;2;0;0;0m██\u001b[38;2;0;0;0m██\u001b[38;2;0;0;0m██\u001b[38;2;0;0;0m██\u001b[38;2;0;0;0m██\u001b[38;2;255;255;255m██\u001b[38;2;255;255;255m██\u001b[38;2;0;0;0m██\u001b[38;2;0;0;0m██\u001b[38;2;0;0;0m██\u001b[38;2;0;0;0m██\u001b[38;2;0;0;0m██\u001b[38;2;0;0;0m██\u001b[38;2;0;0;0m██\u001b[38;2;0;0;0m██\u001b[38;2;0;0;0m██\u001b[0m\n",
       "\u001b[0m\u001b[38;2;0;0;0m██\u001b[38;2;0;0;0m██\u001b[38;2;0;0;0m██\u001b[38;2;0;0;0m██\u001b[38;2;0;0;0m██\u001b[38;2;0;0;0m██\u001b[38;2;0;0;0m██\u001b[38;2;0;0;0m██\u001b[38;2;0;0;0m██\u001b[38;2;0;0;0m██\u001b[38;2;0;0;0m██\u001b[38;2;0;0;0m██\u001b[38;2;0;0;0m██\u001b[38;2;0;0;0m██\u001b[38;2;0;0;0m██\u001b[38;2;0;0;0m██\u001b[38;2;0;0;0m██\u001b[38;2;255;255;255m██\u001b[38;2;255;255;255m██\u001b[38;2;0;0;0m██\u001b[38;2;0;0;0m██\u001b[38;2;0;0;0m██\u001b[38;2;0;0;0m██\u001b[38;2;0;0;0m██\u001b[38;2;0;0;0m██\u001b[38;2;0;0;0m██\u001b[38;2;0;0;0m██\u001b[38;2;0;0;0m██\u001b[0m\n",
       "\u001b[0m\u001b[38;2;0;0;0m██\u001b[38;2;0;0;0m██\u001b[38;2;0;0;0m██\u001b[38;2;0;0;0m██\u001b[38;2;0;0;0m██\u001b[38;2;0;0;0m██\u001b[38;2;0;0;0m██\u001b[38;2;0;0;0m██\u001b[38;2;0;0;0m██\u001b[38;2;0;0;0m██\u001b[38;2;0;0;0m██\u001b[38;2;0;0;0m██\u001b[38;2;0;0;0m██\u001b[38;2;0;0;0m██\u001b[38;2;0;0;0m██\u001b[38;2;0;0;0m██\u001b[38;2;0;0;0m██\u001b[38;2;0;0;0m██\u001b[38;2;0;0;0m██\u001b[38;2;0;0;0m██\u001b[38;2;0;0;0m██\u001b[38;2;0;0;0m██\u001b[38;2;0;0;0m██\u001b[38;2;0;0;0m██\u001b[38;2;0;0;0m██\u001b[38;2;0;0;0m██\u001b[38;2;0;0;0m██\u001b[38;2;0;0;0m██\u001b[0m"
      ]
     },
     "execution_count": 18,
     "metadata": {},
     "output_type": "execute_result"
    }
   ],
   "source": [
    "let\n",
    "    index_to_look_at = 80; # which image to look at?\n",
    "    img = Z[:,index_to_look_at] |> x-> reshape(x, number_of_rows, number_of_cols) |> transpose |> Matrix; # Magic? No just the majesty of Julia\n",
    "    Gray.(img) # convert to a gray scale image, display\n",
    "end"
   ]
  },
  {
   "cell_type": "markdown",
   "id": "655b000c",
   "metadata": {},
   "source": [
    "What does the entire $\\mathbf{Z}$ matrix look like? "
   ]
  },
  {
   "cell_type": "code",
   "execution_count": 20,
   "id": "1166ab56",
   "metadata": {},
   "outputs": [
    {
     "data": {
      "image/png": "[encoded data removed]",
      "text/html": [
       "<img src=\"data:image/png;base64,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\">"
      ],
      "text/plain": [
       "\u001b[0m\u001b[38;2;0;0;0;48;2;0;0;0m▀\u001b[38;2;0;0;0;48;2;0;0;0m▀\u001b[38;2;0;0;0;48;2;1;1;1m▀\u001b[38;2;0;0;0;48;2;1;1;1m▀\u001b[38;2;0;0;0;48;2;2;2;2m▀\u001b[38;2;0;0;0;48;2;1;1;1m▀\u001b[38;2;3;3;3;48;2;7;7;7m▀\u001b[38;2;2;2;2;48;2;5;5;5m▀\u001b[38;2;6;6;6;48;2;16;16;16m▀\u001b[38;2;3;3;3;48;2;13;13;13m▀\u001b[38;2;7;7;7;48;2;26;26;26m▀\u001b[38;2;7;7;7;48;2;29;29;29m▀\u001b[38;2;8;8;8;48;2;27;27;27m▀\u001b[38;2;15;15;15;48;2;52;52;52m▀\u001b[38;2;7;7;7;48;2;26;26;26m▀\u001b[38;2;15;15;15;48;2;58;58;58m▀\u001b[38;2;8;8;8;48;2;32;32;32m▀\u001b[38;2;13;13;13;48;2;50;50;50m▀\u001b[38;2;13;13;13;48;2;46;46;46m▀\u001b[38;2;9;9;9;48;2;36;36;36m▀\u001b[38;2;16;16;16;48;2;55;55;55m▀\u001b[38;2;7;7;7;48;2;27;27;27m▀\u001b[38;2;12;12;12;48;2;54;54;54m▀\u001b[38;2;8;8;8;48;2;33;33;33m▀\u001b[38;2;9;9;9;48;2;47;47;47m▀\u001b[38;2;13;13;13;48;2;49;49;49m▀\u001b[38;2;9;9;9;48;2;39;39;39m▀\u001b[38;2;17;17;17;48;2;66;66;66m▀\u001b[38;2;8;8;8;48;2;35;35;35m▀\u001b[38;2;18;18;18;48;2;73;73;73m▀\u001b[38;2;9;9;9;48;2;38;38;38m▀\u001b[38;2;14;14;14;48;2;54;54;54m▀\u001b[38;2;13;13;13;48;2;47;47;47m▀\u001b[38;2;10;10;10;48;2;34;34;34m▀\u001b[38;2;15;15;15;48;2;54;54;54m▀\u001b[38;2;8;8;8;48;2;25;25;25m▀\u001b[38;2;16;16;16;48;2;60;60;60m▀\u001b[38;2;11;11;11;48;2;29;29;29m▀\u001b[38;2;13;13;13;48;2;41;41;41m▀\u001b[38;2;12;12;12;48;2;40;40;40m▀\u001b[38;2;7;7;7;48;2;23;23;23m▀\u001b[38;2;11;11;11;48;2;39;39;39m▀\u001b[38;2;3;3;3;48;2;10;10;10m▀\u001b[38;2;3;3;3;48;2;19;19;19m▀\u001b[38;2;0;0;0;48;2;3;3;3m▀\u001b[38;2;0;0;0;48;2;3;3;3m▀\u001b[38;2;0;0;0;48;2;1;1;1m▀\u001b[38;2;0;0;0;48;2;1;1;1m▀\u001b[38;2;0;0;0;48;2;0;0;0m▀\u001b[38;2;0;0;0;48;2;0;0;0m▀\u001b[0m\n",
       "\u001b[0m\u001b[38;2;0;0;0;48;2;0;0;0m▀\u001b[38;2;0;0;0;48;2;0;0;0m▀\u001b[38;2;0;0;0;48;2;0;0;0m▀\u001b[38;2;0;0;0;48;2;0;0;0m▀\u001b[38;2;2;2;2;48;2;1;1;1m▀\u001b[38;2;1;1;1;48;2;1;1;1m▀\u001b[38;2;15;15;15;48;2;9;9;9m▀\u001b[38;2;8;8;8;48;2;6;6;6m▀\u001b[38;2;33;33;33;48;2;27;27;27m▀\u001b[38;2;21;21;21;48;2;16;16;16m▀\u001b[38;2;41;41;41;48;2;32;32;32m▀\u001b[38;2;37;37;37;48;2;27;27;27m▀\u001b[38;2;31;31;31;48;2;22;22;22m▀\u001b[38;2;54;54;54;48;2;44;44;44m▀\u001b[38;2;28;28;28;48;2;23;23;23m▀\u001b[38;2;62;62;62;48;2;55;55;55m▀\u001b[38;2;29;29;29;48;2;29;29;29m▀\u001b[38;2;52;52;52;48;2;47;47;47m▀\u001b[38;2;42;42;42;48;2;40;40;40m▀\u001b[38;2;41;41;41;48;2;33;33;33m▀\u001b[38;2;57;57;57;48;2;46;46;46m▀\u001b[38;2;33;33;33;48;2;25;25;25m▀\u001b[38;2;72;72;72;48;2;50;50;50m▀\u001b[38;2;42;42;42;48;2;31;31;31m▀\u001b[38;2;65;65;65;48;2;47;47;47m▀\u001b[38;2;61;61;61;48;2;43;43;43m▀\u001b[38;2;49;49;49;48;2;34;34;34m▀\u001b[38;2;71;71;71;48;2;52;52;52m▀\u001b[38;2;39;39;39;48;2;26;26;26m▀\u001b[38;2;71;71;71;48;2;47;47;47m▀\u001b[38;2;40;40;40;48;2;29;29;29m▀\u001b[38;2;54;54;54;48;2;39;39;39m▀\u001b[38;2;55;55;55;48;2;41;41;41m▀\u001b[38;2;41;41;41;48;2;33;33;33m▀\u001b[38;2;75;75;75;48;2;56;56;56m▀\u001b[38;2;38;38;38;48;2;31;31;31m▀\u001b[38;2;84;84;84;48;2;66;66;66m▀\u001b[38;2;42;42;42;48;2;35;35;35m▀\u001b[38;2;54;54;54;48;2;47;47;47m▀\u001b[38;2;46;46;46;48;2;40;40;40m▀\u001b[38;2;26;26;26;48;2;22;22;22m▀\u001b[38;2;34;34;34;48;2;29;29;29m▀\u001b[38;2;7;7;7;48;2;6;6;6m▀\u001b[38;2;14;14;14;48;2;9;9;9m▀\u001b[38;2;3;3;3;48;2;3;3;3m▀\u001b[38;2;3;3;3;48;2;3;3;3m▀\u001b[38;2;1;1;1;48;2;2;2;2m▀\u001b[38;2;0;0;0;48;2;1;1;1m▀\u001b[38;2;0;0;0;48;2;0;0;0m▀\u001b[38;2;0;0;0;48;2;0;0;0m▀\u001b[0m\n",
       "\u001b[0m\u001b[38;2;0;0;0;48;2;0;0;0m▀\u001b[38;2;0;0;0;48;2;0;0;0m▀\u001b[38;2;0;0;0;48;2;0;0;0m▀\u001b[38;2;0;0;0;48;2;0;0;0m▀\u001b[38;2;0;0;0;48;2;0;0;0m▀\u001b[38;2;1;1;1;48;2;0;0;0m▀\u001b[38;2;5;5;5;48;2;1;1;1m▀\u001b[38;2;3;3;3;48;2;1;1;1m▀\u001b[38;2;13;13;13;48;2;6;6;6m▀\u001b[38;2;12;12;12;48;2;9;9;9m▀\u001b[38;2;27;27;27;48;2;21;21;21m▀\u001b[38;2;30;30;30;48;2;27;27;27m▀\u001b[38;2;27;27;27;48;2;29;29;29m▀\u001b[38;2;56;56;56;48;2;67;67;67m▀\u001b[38;2;28;28;28;48;2;37;37;37m▀\u001b[38;2;67;67;67;48;2;85;85;85m▀\u001b[38;2;32;32;32;48;2;39;39;39m▀\u001b[38;2;47;47;47;48;2;57;57;57m▀\u001b[38;2;40;40;40;48;2;46;46;46m▀\u001b[38;2;30;30;30;48;2;36;36;36m▀\u001b[38;2;51;51;51;48;2;55;55;55m▀\u001b[38;2;27;27;27;48;2;29;29;29m▀\u001b[38;2;58;58;58;48;2;64;64;64m▀\u001b[38;2;34;34;34;48;2;37;37;37m▀\u001b[38;2;49;49;49;48;2;58;58;58m▀\u001b[38;2;45;45;45;48;2;52;52;52m▀\u001b[38;2;36;36;36;48;2;38;38;38m▀\u001b[38;2;59;59;59;48;2;65;65;65m▀\u001b[38;2;28;28;28;48;2;27;27;27m▀\u001b[38;2;59;59;59;48;2;61;61;61m▀\u001b[38;2;29;29;29;48;2;26;26;26m▀\u001b[38;2;46;46;46;48;2;42;42;42m▀\u001b[38;2;35;35;35;48;2;28;28;28m▀\u001b[38;2;32;32;32;48;2;25;25;25m▀\u001b[38;2;47;47;47;48;2;36;36;36m▀\u001b[38;2;26;26;26;48;2;20;20;20m▀\u001b[38;2;59;59;59;48;2;45;45;45m▀\u001b[38;2;28;28;28;48;2;25;25;25m▀\u001b[38;2;45;45;45;48;2;37;37;37m▀\u001b[38;2;36;36;36;48;2;39;39;39m▀\u001b[38;2;22;22;22;48;2;24;24;24m▀\u001b[38;2;31;31;31;48;2;47;47;47m▀\u001b[38;2;11;11;11;48;2;15;15;15m▀\u001b[38;2;20;20;20;48;2;31;31;31m▀\u001b[38;2;4;4;4;48;2;8;8;8m▀\u001b[38;2;8;8;8;48;2;10;10;10m▀\u001b[38;2;2;2;2;48;2;4;4;4m▀\u001b[38;2;1;1;1;48;2;2;2;2m▀\u001b[38;2;0;0;0;48;2;0;0;0m▀\u001b[38;2;0;0;0;48;2;0;0;0m▀\u001b[0m\n",
       "\u001b[0m\u001b[38;2;0;0;0;48;2;0;0;0m▀\u001b[38;2;0;0;0;48;2;0;0;0m▀\u001b[38;2;0;0;0;48;2;0;0;0m▀\u001b[38;2;0;0;0;48;2;0;0;0m▀\u001b[38;2;0;0;0;48;2;0;0;0m▀\u001b[38;2;0;0;0;48;2;0;0;0m▀\u001b[38;2;0;0;0;48;2;0;0;0m▀\u001b[38;2;3;3;3;48;2;2;2;2m▀\u001b[38;2;15;15;15;48;2;9;9;9m▀\u001b[38;2;11;11;11;48;2;6;6;6m▀\u001b[38;2;17;17;17;48;2;10;10;10m▀\u001b[38;2;19;19;19;48;2;8;8;8m▀\u001b[38;2;18;18;18;48;2;6;6;6m▀\u001b[38;2;44;44;44;48;2;11;11;11m▀\u001b[38;2;25;25;25;48;2;5;5;5m▀\u001b[38;2;65;65;65;48;2;15;15;15m▀\u001b[38;2;32;32;32;48;2;7;7;7m▀\u001b[38;2;49;49;49;48;2;13;13;13m▀\u001b[38;2;39;39;39;48;2;9;9;9m▀\u001b[38;2;30;30;30;48;2;8;8;8m▀\u001b[38;2;34;34;34;48;2;9;9;9m▀\u001b[38;2;20;20;20;48;2;5;5;5m▀\u001b[38;2;41;41;41;48;2;11;11;11m▀\u001b[38;2;26;26;26;48;2;6;6;6m▀\u001b[38;2;42;42;42;48;2;10;10;10m▀\u001b[38;2;36;36;36;48;2;10;10;10m▀\u001b[38;2;28;28;28;48;2;8;8;8m▀\u001b[38;2;44;44;44;48;2;13;13;13m▀\u001b[38;2;20;20;20;48;2;5;5;5m▀\u001b[38;2;42;42;42;48;2;13;13;13m▀\u001b[38;2;17;17;17;48;2;6;6;6m▀\u001b[38;2;28;28;28;48;2;9;9;9m▀\u001b[38;2;23;23;23;48;2;8;8;8m▀\u001b[38;2;19;19;19;48;2;7;7;7m▀\u001b[38;2;35;35;35;48;2;14;14;14m▀\u001b[38;2;16;16;16;48;2;7;7;7m▀\u001b[38;2;37;37;37;48;2;14;14;14m▀\u001b[38;2;22;22;22;48;2;9;9;9m▀\u001b[38;2;31;31;31;48;2;12;12;12m▀\u001b[38;2;32;32;32;48;2;12;12;12m▀\u001b[38;2;18;18;18;48;2;5;5;5m▀\u001b[38;2;34;34;34;48;2;8;8;8m▀\u001b[38;2;11;11;11;48;2;2;2;2m▀\u001b[38;2;18;18;18;48;2;2;2;2m▀\u001b[38;2;7;7;7;48;2;1;1;1m▀\u001b[38;2;7;7;7;48;2;1;1;1m▀\u001b[38;2;4;4;4;48;2;1;1;1m▀\u001b[38;2;1;1;1;48;2;0;0;0m▀\u001b[38;2;0;0;0;48;2;0;0;0m▀\u001b[38;2;0;0;0;48;2;0;0;0m▀\u001b[0m\n"
      ]
     },
     "execution_count": 20,
     "metadata": {},
     "output_type": "execute_result"
    }
   ],
   "source": [
    "Gray.(transpose(Z)) # tranpose: T x d_{in}"
   ]
  },
  {
   "cell_type": "markdown",
   "id": "cb209bcd",
   "metadata": {},
   "source": [
    "__Build an SSN model instance__: We model an SSN using [the `MyLIFSpikingNeuralNetworkModel` type](src/Types.jl#L5). The [`MyLIFSpikingNeuralNetworkModel` type](src/Types.jl) implements the [Leaky Integrate-and-Fire (LIF) neuron model](https://www.nature.com/articles/s41598-017-07418-y), which is a simple and widely used model for spiking neurons. \n",
    "\n",
    "We construct this type [using a `build(...)` method](src/Factory.jl); we pass in the type of thing we want to build and the data required to build it. We get back a model (populated) model instance. We save the SSN model instance in the `ssnmodel::MyLIFSpikingNeuralNetworkModel` variable."
   ]
  },
  {
   "cell_type": "code",
   "execution_count": 22,
   "id": "ba726710",
   "metadata": {},
   "outputs": [],
   "source": [
    "ssnmodel = let\n",
    "\n",
    "    # build model -\n",
    "    model = build(MyLIFSpikingNeuralNetworkModel, (\n",
    "        Δt = Δt, # time step (ms)\n",
    "        τ = τ, # time constant (ms)\n",
    "        ν = ν, # firing threshold\n",
    "        number_of_nodes = number_of_neurons, # number of neurons\n",
    "        number_of_inputs = number_of_inputs, # number of inputs\n",
    "    ));\n",
    "\n",
    "    model;\n",
    "end;"
   ]
  },
  {
   "cell_type": "markdown",
   "id": "c751c2bb",
   "metadata": {},
   "source": [
    "Not that we have a populated `ssnmodel::MyLIFSpikingNeuralNetworkModel` model, we can run the model forward in time and generate the spiking patterns for our system. We do this [using the `solve(...)` method](src/Compute.jl). \n",
    "* _Arguments_: We pass in the model instance, the input data array (images in the columns), and the length of spike pattern we want to generate (optional arguement with default `100 ms`), and the refractory period parameter $\\Delta_{r}$, which has a default value of `3 ms`. The [`solve(...)` method](src/Compute.jl) returns a time vector `T::Array{Float64,1}`, the membrane voltage array `V::Array{Float64,2}` array and a spike pattern array `s::Array{Float64,2}`.\n",
    "* _What does `T` represent_? The parameter `T` represents the length of time that we run the SNN; we feed a new image during each time step $t = 1,2,\\dots{T}$. Physically, the time $T$ represents the length of time that we are recording the spike pattern of the LIF neurons, where we observe the system every $\\Delta{t}$ ms.\n",
    "\n",
    "Let's run the model:"
   ]
  },
  {
   "cell_type": "code",
   "execution_count": 24,
   "id": "bb453221",
   "metadata": {},
   "outputs": [],
   "source": [
    "(Tₐ,Vₐ,sₐ) = let\n",
    "\n",
    "    # initialize -\n",
    "    Δᵣ = 6; # TODO: Update the refactory period, and see what happens\n",
    "    T = size(Z,2); # How many columns do we have (process one per time step)\n",
    "    sₒ = zeros(Int, number_of_neurons); # initial conditions for the spikes (all 0)\n",
    "    (T,V,s) = solve(ssnmodel, Z, T = T, Δᵣ = Δᵣ, sₒ = sₒ);\n",
    "\n",
    "    (T,V,s) # return the time, voltage, and spikes\n",
    "end;"
   ]
  },
  {
   "cell_type": "markdown",
   "id": "d947b6cc",
   "metadata": {},
   "source": [
    "__What gets generated from the SSN?__ Let's look at the spike pattern generated by the SSN model. The rows of the spike matrix `s::Array{Float64,2}` denote the input image index, while the columns denote the spike state for each neuron in the network. The values in the spike matrix are either `0` (no spike) or `1` (spike)."
   ]
  },
  {
   "cell_type": "code",
   "execution_count": 26,
   "id": "4359710f",
   "metadata": {},
   "outputs": [
    {
     "data": {
      "text/plain": [
       "100×16 Matrix{Float64}:\n",
       " 0.0  0.0  0.0  0.0  1.0  0.0  0.0  0.0  …  0.0  0.0  0.0  0.0  0.0  0.0  0.0\n",
       " 0.0  1.0  0.0  0.0  0.0  0.0  0.0  1.0     0.0  1.0  1.0  1.0  0.0  0.0  1.0\n",
       " 0.0  0.0  1.0  1.0  0.0  1.0  0.0  0.0     1.0  0.0  0.0  0.0  1.0  1.0  0.0\n",
       " 1.0  0.0  0.0  0.0  0.0  0.0  0.0  0.0     0.0  0.0  0.0  0.0  0.0  0.0  0.0\n",
       " 0.0  0.0  0.0  0.0  0.0  0.0  1.0  0.0     0.0  0.0  0.0  0.0  0.0  0.0  0.0\n",
       " 0.0  0.0  0.0  0.0  0.0  0.0  0.0  0.0  …  0.0  0.0  0.0  0.0  0.0  0.0  0.0\n",
       " 0.0  0.0  0.0  0.0  0.0  0.0  0.0  0.0     0.0  0.0  0.0  0.0  0.0  0.0  0.0\n",
       " 0.0  0.0  0.0  0.0  1.0  0.0  0.0  0.0     0.0  0.0  0.0  0.0  0.0  0.0  0.0\n",
       " 0.0  1.0  0.0  0.0  0.0  0.0  0.0  1.0     0.0  1.0  1.0  1.0  0.0  0.0  1.0\n",
       " 0.0  0.0  1.0  1.0  0.0  1.0  0.0  0.0     1.0  0.0  0.0  0.0  1.0  1.0  0.0\n",
       " 1.0  0.0  0.0  0.0  0.0  0.0  0.0  0.0  …  0.0  0.0  0.0  0.0  0.0  0.0  0.0\n",
       " 0.0  0.0  0.0  0.0  0.0  0.0  1.0  0.0     0.0  0.0  0.0  0.0  0.0  0.0  0.0\n",
       " 0.0  0.0  0.0  0.0  0.0  0.0  0.0  0.0     0.0  0.0  0.0  0.0  0.0  0.0  0.0\n",
       " ⋮                        ⋮              ⋱       ⋮                        ⋮\n",
       " 0.0  0.0  0.0  0.0  0.0  0.0  1.0  0.0     0.0  0.0  0.0  0.0  0.0  0.0  0.0\n",
       " 0.0  0.0  0.0  0.0  0.0  0.0  0.0  0.0     0.0  0.0  0.0  0.0  0.0  0.0  0.0\n",
       " 0.0  0.0  0.0  0.0  0.0  0.0  0.0  0.0  …  0.0  0.0  0.0  0.0  0.0  0.0  0.0\n",
       " 0.0  0.0  0.0  0.0  1.0  0.0  0.0  0.0     0.0  0.0  0.0  0.0  0.0  0.0  0.0\n",
       " 0.0  1.0  0.0  0.0  0.0  0.0  0.0  1.0     0.0  1.0  1.0  1.0  0.0  0.0  1.0\n",
       " 0.0  0.0  1.0  1.0  0.0  1.0  0.0  0.0     1.0  0.0  0.0  0.0  1.0  1.0  0.0\n",
       " 1.0  0.0  0.0  0.0  0.0  0.0  0.0  0.0     0.0  0.0  0.0  0.0  0.0  0.0  0.0\n",
       " 0.0  0.0  0.0  0.0  0.0  0.0  1.0  0.0  …  0.0  0.0  0.0  0.0  0.0  0.0  0.0\n",
       " 0.0  0.0  0.0  0.0  0.0  0.0  0.0  0.0     0.0  0.0  0.0  0.0  0.0  0.0  0.0\n",
       " 0.0  0.0  0.0  0.0  0.0  0.0  0.0  0.0     0.0  0.0  0.0  0.0  0.0  0.0  0.0\n",
       " 0.0  0.0  0.0  0.0  1.0  0.0  0.0  0.0     0.0  0.0  0.0  0.0  0.0  0.0  0.0\n",
       " 0.0  1.0  0.0  0.0  0.0  0.0  0.0  1.0     0.0  1.0  1.0  1.0  0.0  0.0  1.0"
      ]
     },
     "execution_count": 26,
     "metadata": {},
     "output_type": "execute_result"
    }
   ],
   "source": [
    "sₐ"
   ]
  },
  {
   "cell_type": "code",
   "execution_count": 27,
   "id": "6eeacbdc",
   "metadata": {},
   "outputs": [
    {
     "data": {
      "image/png": "[encoded data removed]",
      "text/html": [
       "<img src=\"data:image/png;base64,iVBORw0KGgoAAAANSUhEUgAAASwAAAAwCAAAAACOdRj9AAAAAXNSR0IArs4c6QAAAARnQU1BAACxjwv8YQUAAAAgY0hSTQAAeiYAAICEAAD6AAAAgOgAAHUwAADqYAAAOpgAABdwnLpRPAAAAhxJREFUaAXtwdGJRSEUBLAM2H/Ls7jwkOOXBdxk+SlxK3ErcStxK3ErcStxK3ErcStxK3ErcStxKzEsn2fL59lCCTGUEEMJMZQQQwkxlBBDCTGUEEMJMZQQQwkxlBBDCTGUEENZPs+Wz7OFUGIIJYZQYgglhlBiCCWGUGIIJYZQYgglhlBiCCWGUGIIJYawfJ4tn2fL59nyebZ8nq0SYighhhJiKCGGEmIoIYYSYighhhJiKCGGEmIoIYYSYighhhKWz7Pl82zFVuKIrcQRW4kjthJHbCWO2EocsZU4YitxxFbiiK3EEVuJI7YSR2wljthKHLEtn2fL59nyL7YSR2wljthKHLGVOGIrccRW4oitxBFbiSO2EkdsJY7YShyxlThiK3HEVuJYPs+Wz7OFElscJbY4SmxxlNjiKLHFUWKLo8QWR4ktjhJbHCW2OEpscZTY4iixxVFii6Msn2fL59nyebZ8ni2fZwuhxBBKDKHEEEoMocQQSgyhxBBKDKHEEEoMocQQSgyhxBBKDGH5PFs+zxZK3ErcStxK3ErcStxK3ErcStxK3ErcStxK3ErcyvJ5tnyeLZ9ny+fZ8nm2fJ4tn2fL59lCKDGEEkMoMYQSQygxhBJDKDGEEkMoMYQSQygxhBJDKDGEEkNYPs+Wz7Pl82z5PFs+zxZK3ErcStxK3ErcStxK3ErcStxK3ErcStxK3ErcyvJ5tnye/QFM2qAxBTbX/AAAAABJRU5ErkJg\">"
      ],
      "text/plain": [
       "\u001b[0m\u001b[38;2;4;4;4;48;2;12;12;12m▀\u001b[38;2;24;24;24;48;2;88;88;88m▀\u001b[38;2;36;36;36;48;2;28;28;28m▀\u001b[38;2;0;0;0;48;2;0;0;0m▀\u001b[38;2;12;12;12;48;2;52;52;52m▀\u001b[38;2;40;40;40;48;2;72;72;72m▀\u001b[38;2;12;12;12;48;2;4;4;4m▀\u001b[38;2;4;4;4;48;2;12;12;12m▀\u001b[38;2;24;24;24;48;2;88;88;88m▀\u001b[38;2;36;36;36;48;2;28;28;28m▀\u001b[38;2;0;0;0;48;2;0;0;0m▀\u001b[38;2;12;12;12;48;2;52;52;52m▀\u001b[38;2;40;40;40;48;2;72;72;72m▀\u001b[38;2;12;12;12;48;2;4;4;4m▀\u001b[38;2;4;4;4;48;2;12;12;12m▀\u001b[38;2;24;24;24;48;2;88;88;88m▀\u001b[38;2;36;36;36;48;2;28;28;28m▀\u001b[38;2;0;0;0;48;2;0;0;0m▀\u001b[38;2;12;12;12;48;2;52;52;52m▀\u001b[38;2;40;40;40;48;2;72;72;72m▀\u001b[38;2;12;12;12;48;2;4;4;4m▀\u001b[38;2;4;4;4;48;2;12;12;12m▀\u001b[38;2;24;24;24;48;2;88;88;88m▀\u001b[38;2;36;36;36;48;2;28;28;28m▀\u001b[38;2;0;0;0;48;2;0;0;0m▀\u001b[38;2;12;12;12;48;2;52;52;52m▀\u001b[38;2;40;40;40;48;2;72;72;72m▀\u001b[38;2;12;12;12;48;2;4;4;4m▀\u001b[38;2;4;4;4;48;2;12;12;12m▀\u001b[38;2;24;24;24;48;2;88;88;88m▀\u001b[38;2;36;36;36;48;2;28;28;28m▀\u001b[38;2;0;0;0;48;2;0;0;0m▀\u001b[38;2;12;12;12;48;2;52;52;52m▀\u001b[38;2;40;40;40;48;2;72;72;72m▀\u001b[38;2;12;12;12;48;2;4;4;4m▀\u001b[38;2;4;4;4;48;2;12;12;12m▀\u001b[38;2;24;24;24;48;2;88;88;88m▀\u001b[38;2;36;36;36;48;2;28;28;28m▀\u001b[38;2;0;0;0;48;2;0;0;0m▀\u001b[38;2;12;12;12;48;2;52;52;52m▀\u001b[38;2;40;40;40;48;2;72;72;72m▀\u001b[38;2;12;12;12;48;2;4;4;4m▀\u001b[38;2;4;4;4;48;2;12;12;12m▀\u001b[38;2;24;24;24;48;2;88;88;88m▀\u001b[38;2;36;36;36;48;2;28;28;28m▀\u001b[38;2;0;0;0;48;2;0;0;0m▀\u001b[38;2;12;12;12;48;2;52;52;52m▀\u001b[38;2;40;40;40;48;2;72;72;72m▀\u001b[38;2;12;12;12;48;2;4;4;4m▀\u001b[38;2;4;4;4;48;2;12;12;12m▀\u001b[38;2;12;12;12;48;2;36;36;36m▀\u001b[0m\n",
       "\u001b[0m\u001b[38;2;36;36;36;48;2;16;16;16m▀\u001b[38;2;72;72;72;48;2;52;52;52m▀\u001b[38;2;20;20;20;48;2;48;48;48m▀\u001b[38;2;12;12;12;48;2;16;16;16m▀\u001b[38;2;56;56;56;48;2;36;36;36m▀\u001b[38;2;60;60;60;48;2;52;52;52m▀\u001b[38;2;0;0;0;48;2;36;36;36m▀\u001b[38;2;36;36;36;48;2;16;16;16m▀\u001b[38;2;72;72;72;48;2;52;52;52m▀\u001b[38;2;20;20;20;48;2;48;48;48m▀\u001b[38;2;12;12;12;48;2;16;16;16m▀\u001b[38;2;56;56;56;48;2;36;36;36m▀\u001b[38;2;60;60;60;48;2;52;52;52m▀\u001b[38;2;0;0;0;48;2;36;36;36m▀\u001b[38;2;36;36;36;48;2;16;16;16m▀\u001b[38;2;72;72;72;48;2;52;52;52m▀\u001b[38;2;20;20;20;48;2;48;48;48m▀\u001b[38;2;12;12;12;48;2;16;16;16m▀\u001b[38;2;56;56;56;48;2;36;36;36m▀\u001b[38;2;60;60;60;48;2;52;52;52m▀\u001b[38;2;0;0;0;48;2;36;36;36m▀\u001b[38;2;36;36;36;48;2;16;16;16m▀\u001b[38;2;72;72;72;48;2;52;52;52m▀\u001b[38;2;20;20;20;48;2;48;48;48m▀\u001b[38;2;12;12;12;48;2;16;16;16m▀\u001b[38;2;56;56;56;48;2;36;36;36m▀\u001b[38;2;60;60;60;48;2;52;52;52m▀\u001b[38;2;0;0;0;48;2;36;36;36m▀\u001b[38;2;36;36;36;48;2;16;16;16m▀\u001b[38;2;72;72;72;48;2;52;52;52m▀\u001b[38;2;20;20;20;48;2;48;48;48m▀\u001b[38;2;12;12;12;48;2;16;16;16m▀\u001b[38;2;56;56;56;48;2;36;36;36m▀\u001b[38;2;60;60;60;48;2;52;52;52m▀\u001b[38;2;0;0;0;48;2;36;36;36m▀\u001b[38;2;36;36;36;48;2;16;16;16m▀\u001b[38;2;72;72;72;48;2;52;52;52m▀\u001b[38;2;20;20;20;48;2;48;48;48m▀\u001b[38;2;12;12;12;48;2;16;16;16m▀\u001b[38;2;56;56;56;48;2;36;36;36m▀\u001b[38;2;60;60;60;48;2;52;52;52m▀\u001b[38;2;0;0;0;48;2;36;36;36m▀\u001b[38;2;36;36;36;48;2;16;16;16m▀\u001b[38;2;72;72;72;48;2;52;52;52m▀\u001b[38;2;20;20;20;48;2;48;48;48m▀\u001b[38;2;12;12;12;48;2;16;16;16m▀\u001b[38;2;56;56;56;48;2;36;36;36m▀\u001b[38;2;60;60;60;48;2;52;52;52m▀\u001b[38;2;0;0;0;48;2;36;36;36m▀\u001b[38;2;36;36;36;48;2;16;16;16m▀\u001b[38;2;12;12;12;48;2;16;16;16m▀\u001b[0m\n",
       "\u001b[0m\u001b[38;2;24;24;24;48;2;20;20;20m▀\u001b[38;2;84;84;84;48;2;96;96;96m▀\u001b[38;2;16;16;16;48;2;12;12;12m▀\u001b[38;2;4;4;4;48;2;0;0;0m▀\u001b[38;2;76;76;76;48;2;72;72;72m▀\u001b[38;2;40;40;40;48;2;56;56;56m▀\u001b[38;2;12;12;12;48;2;0;0;0m▀\u001b[38;2;24;24;24;48;2;20;20;20m▀\u001b[38;2;84;84;84;48;2;96;96;96m▀\u001b[38;2;16;16;16;48;2;12;12;12m▀\u001b[38;2;4;4;4;48;2;0;0;0m▀\u001b[38;2;76;76;76;48;2;72;72;72m▀\u001b[38;2;40;40;40;48;2;56;56;56m▀\u001b[38;2;12;12;12;48;2;0;0;0m▀\u001b[38;2;24;24;24;48;2;20;20;20m▀\u001b[38;2;84;84;84;48;2;96;96;96m▀\u001b[38;2;16;16;16;48;2;12;12;12m▀\u001b[38;2;4;4;4;48;2;0;0;0m▀\u001b[38;2;76;76;76;48;2;72;72;72m▀\u001b[38;2;40;40;40;48;2;56;56;56m▀\u001b[38;2;12;12;12;48;2;0;0;0m▀\u001b[38;2;24;24;24;48;2;20;20;20m▀\u001b[38;2;84;84;84;48;2;96;96;96m▀\u001b[38;2;16;16;16;48;2;12;12;12m▀\u001b[38;2;4;4;4;48;2;0;0;0m▀\u001b[38;2;76;76;76;48;2;72;72;72m▀\u001b[38;2;40;40;40;48;2;56;56;56m▀\u001b[38;2;12;12;12;48;2;0;0;0m▀\u001b[38;2;24;24;24;48;2;20;20;20m▀\u001b[38;2;84;84;84;48;2;96;96;96m▀\u001b[38;2;16;16;16;48;2;12;12;12m▀\u001b[38;2;4;4;4;48;2;0;0;0m▀\u001b[38;2;76;76;76;48;2;72;72;72m▀\u001b[38;2;40;40;40;48;2;56;56;56m▀\u001b[38;2;12;12;12;48;2;0;0;0m▀\u001b[38;2;24;24;24;48;2;20;20;20m▀\u001b[38;2;84;84;84;48;2;96;96;96m▀\u001b[38;2;16;16;16;48;2;12;12;12m▀\u001b[38;2;4;4;4;48;2;0;0;0m▀\u001b[38;2;76;76;76;48;2;72;72;72m▀\u001b[38;2;40;40;40;48;2;56;56;56m▀\u001b[38;2;12;12;12;48;2;0;0;0m▀\u001b[38;2;24;24;24;48;2;20;20;20m▀\u001b[38;2;84;84;84;48;2;96;96;96m▀\u001b[38;2;16;16;16;48;2;12;12;12m▀\u001b[38;2;4;4;4;48;2;0;0;0m▀\u001b[38;2;76;76;76;48;2;72;72;72m▀\u001b[38;2;40;40;40;48;2;56;56;56m▀\u001b[38;2;12;12;12;48;2;0;0;0m▀\u001b[38;2;24;24;24;48;2;20;20;20m▀\u001b[38;2;72;72;72;48;2;60;60;60m▀\u001b[0m\n",
       "\u001b[0m\u001b[38;2;28;28;28;48;2;8;8;8m▀\u001b[38;2;96;96;96;48;2;96;96;96m▀\u001b[38;2;4;4;4;48;2;24;24;24m▀\u001b[38;2;0;0;0;48;2;0;0;0m▀\u001b[38;2;88;88;88;48;2;48;48;48m▀\u001b[38;2;40;40;40;48;2;80;80;80m▀\u001b[38;2;0;0;0;48;2;0;0;0m▀\u001b[38;2;28;28;28;48;2;8;8;8m▀\u001b[38;2;96;96;96;48;2;96;96;96m▀\u001b[38;2;4;4;4;48;2;24;24;24m▀\u001b[38;2;0;0;0;48;2;0;0;0m▀\u001b[38;2;88;88;88;48;2;48;48;48m▀\u001b[38;2;40;40;40;48;2;80;80;80m▀\u001b[38;2;0;0;0;48;2;0;0;0m▀\u001b[38;2;28;28;28;48;2;8;8;8m▀\u001b[38;2;96;96;96;48;2;96;96;96m▀\u001b[38;2;4;4;4;48;2;24;24;24m▀\u001b[38;2;0;0;0;48;2;0;0;0m▀\u001b[38;2;88;88;88;48;2;48;48;48m▀\u001b[38;2;40;40;40;48;2;80;80;80m▀\u001b[38;2;0;0;0;48;2;0;0;0m▀\u001b[38;2;28;28;28;48;2;8;8;8m▀\u001b[38;2;96;96;96;48;2;96;96;96m▀\u001b[38;2;4;4;4;48;2;24;24;24m▀\u001b[38;2;0;0;0;48;2;0;0;0m▀\u001b[38;2;88;88;88;48;2;48;48;48m▀\u001b[38;2;40;40;40;48;2;80;80;80m▀\u001b[38;2;0;0;0;48;2;0;0;0m▀\u001b[38;2;28;28;28;48;2;8;8;8m▀\u001b[38;2;96;96;96;48;2;96;96;96m▀\u001b[38;2;4;4;4;48;2;24;24;24m▀\u001b[38;2;0;0;0;48;2;0;0;0m▀\u001b[38;2;88;88;88;48;2;48;48;48m▀\u001b[38;2;40;40;40;48;2;80;80;80m▀\u001b[38;2;0;0;0;48;2;0;0;0m▀\u001b[38;2;28;28;28;48;2;8;8;8m▀\u001b[38;2;96;96;96;48;2;96;96;96m▀\u001b[38;2;4;4;4;48;2;24;24;24m▀\u001b[38;2;0;0;0;48;2;0;0;0m▀\u001b[38;2;88;88;88;48;2;48;48;48m▀\u001b[38;2;40;40;40;48;2;80;80;80m▀\u001b[38;2;0;0;0;48;2;0;0;0m▀\u001b[38;2;28;28;28;48;2;8;8;8m▀\u001b[38;2;96;96;96;48;2;96;96;96m▀\u001b[38;2;4;4;4;48;2;24;24;24m▀\u001b[38;2;0;0;0;48;2;0;0;0m▀\u001b[38;2;88;88;88;48;2;48;48;48m▀\u001b[38;2;40;40;40;48;2;80;80;80m▀\u001b[38;2;0;0;0;48;2;0;0;0m▀\u001b[38;2;28;28;28;48;2;8;8;8m▀\u001b[38;2;84;84;84;48;2;24;24;24m▀\u001b[0m\n",
       "\u001b[0m\u001b[38;2;12;12;12m▀\u001b[38;2;48;48;48m▀\u001b[38;2;4;4;4m▀\u001b[38;2;0;0;0m▀\u001b[38;2;40;40;40m▀\u001b[38;2;24;24;24m▀\u001b[38;2;0;0;0m▀\u001b[38;2;12;12;12m▀\u001b[38;2;48;48;48m▀\u001b[38;2;4;4;4m▀\u001b[38;2;0;0;0m▀\u001b[38;2;40;40;40m▀\u001b[38;2;24;24;24m▀\u001b[38;2;0;0;0m▀\u001b[38;2;12;12;12m▀\u001b[38;2;48;48;48m▀\u001b[38;2;4;4;4m▀\u001b[38;2;0;0;0m▀\u001b[38;2;40;40;40m▀\u001b[38;2;24;24;24m▀\u001b[38;2;0;0;0m▀\u001b[38;2;12;12;12m▀\u001b[38;2;48;48;48m▀\u001b[38;2;4;4;4m▀\u001b[38;2;0;0;0m▀\u001b[38;2;40;40;40m▀\u001b[38;2;24;24;24m▀\u001b[38;2;0;0;0m▀\u001b[38;2;12;12;12m▀\u001b[38;2;48;48;48m▀\u001b[38;2;4;4;4m▀\u001b[38;2;0;0;0m▀\u001b[38;2;40;40;40m▀\u001b[38;2;24;24;24m▀\u001b[38;2;0;0;0m▀\u001b[38;2;12;12;12m▀\u001b[38;2;48;48;48m▀\u001b[38;2;4;4;4m▀\u001b[38;2;0;0;0m▀\u001b[38;2;40;40;40m▀\u001b[38;2;24;24;24m▀\u001b[38;2;0;0;0m▀\u001b[38;2;12;12;12m▀\u001b[38;2;48;48;48m▀\u001b[38;2;4;4;4m▀\u001b[38;2;0;0;0m▀\u001b[38;2;40;40;40m▀\u001b[38;2;24;24;24m▀\u001b[38;2;0;0;0m▀\u001b[38;2;12;12;12m▀\u001b[38;2;36;36;36m▀\u001b[0m"
      ]
     },
     "execution_count": 27,
     "metadata": {},
     "output_type": "execute_result"
    }
   ],
   "source": [
    "Gray.(transpose(sₐ)) # What is this saying?"
   ]
  },
  {
   "cell_type": "markdown",
   "id": "dcacf04a",
   "metadata": {},
   "source": [
    "### Discussion\n",
    "1. What do the rows (and columns) of the transposed spike matrix `s::Array{Float64,2}` represent?\n",
    "2. What happens if we change the refractory period parameter $\\Delta_{r}$?"
   ]
  },
  {
   "cell_type": "markdown",
   "id": "4588116d",
   "metadata": {},
   "source": [
    "## Task 3: Let's build an S5 model to process the spikes\n",
    "In this task, we'll build a simplified structured state space sequence (S5) model instance. We'll feed in the spike patterns from our SSN into the S5 model, and output a sequence of transformed digits by including a nonlinear output transformation.\n",
    "\n",
    "First, let's build [an instance of the `MyS5Model` type](src/Types.jl#L5). The [`MyS5Model` type](src/Types.jl) is constructed using [a custom `build(...)` method](src/Factory.jl). In the [`build(...)` method](src/Factory.jl), we pass in the type we want to build, and the data required to build it. We get back a model (populated) model instance. \n",
    "\n",
    "Our build methods don't normally do much, but in this case, we construct all the system matrices, diagonalize them, and compute the required discrete system matrices. We save the S5 model instance in the `s5model::MyS5Model` variable."
   ]
  },
  {
   "cell_type": "code",
   "execution_count": 30,
   "id": "04b34023",
   "metadata": {},
   "outputs": [],
   "source": [
    "s5model = let\n",
    "\n",
    "    # initialize -\n",
    "    number_of_hidden_states = 2^4; # number of hidden states\n",
    "    number_of_inputs = number_of_neurons; # number of inputs\n",
    "    number_of_outputs = 10; # number of outputs: the number of numbers we want to classify\n",
    "    Δt = 2.0; # adjust for open-loop stability (which is curious)\n",
    "\n",
    "    # build model -\n",
    "    model = build(MyS5Model, (\n",
    "        Δt = Δt, # time step (ms)\n",
    "        number_of_hidden_states = number_of_hidden_states, # number of hidden states\n",
    "        number_of_inputs = number_of_inputs, # number of inputs\n",
    "        number_of_outputs = number_of_outputs, # the number of outputs\n",
    "    ));\n",
    "\n",
    "    model;\n",
    "end;"
   ]
  },
  {
   "cell_type": "markdown",
   "id": "4312c353",
   "metadata": {},
   "source": [
    "__Solve the S5 model__: Now that we have a populated `s5model::MyS5Model` model, we can run the model forward in time and generate the output for our system. We do this [using the `solve(...)` method](src/Compute.jl).\n",
    "* _Arguments_: We pass in the model instance, the input data array (spike patterns in the columns), and the time upper bound $[0,T]$. The [`solve(...)` method](src/Compute.jl) returns a time vector `T::Array{Float64,1}`, the hidden state array `H::Array{Float64,2}` array, the output array `Y::Array{Float64,2}` and the output spike pattern array `U::Array{Float64,2}` (which is the transpose of the spike pattern matrix `s::Array{Float64,2}` from the SSN model).\n",
    "\n",
    "Run the S5 model:"
   ]
  },
  {
   "cell_type": "code",
   "execution_count": 32,
   "id": "80a58f8f",
   "metadata": {},
   "outputs": [],
   "source": [
    "(TS5,HS5,YS5, U) = let\n",
    "    \n",
    "    U = transpose(sₐ) |> Matrix; # formulate the input (transposed spike patterns)\n",
    "    (TS5,HS5,YS5) = solve(s5model,U,100); # solve the S5 model -\n",
    "\n",
    "    TS5, HS5, YS5, U # return the time, hidden states, output and the input\n",
    "end;"
   ]
  },
  {
   "cell_type": "markdown",
   "id": "55ebfeb8",
   "metadata": {},
   "source": [
    "What do we put into the S5 model?"
   ]
  },
  {
   "cell_type": "code",
   "execution_count": 34,
   "id": "17ee349a",
   "metadata": {},
   "outputs": [
    {
     "data": {
      "image/png": "[encoded data removed]",
      "text/html": [
       "<img src=\"data:image/png;base64,iVBORw0KGgoAAAANSUhEUgAAASwAAAAwCAAAAACOdRj9AAAAAXNSR0IArs4c6QAAAARnQU1BAACxjwv8YQUAAAAgY0hSTQAAeiYAAICEAAD6AAAAgOgAAHUwAADqYAAAOpgAABdwnLpRPAAAAhxJREFUaAXtwdGJRSEUBLAM2H/Ls7jwkOOXBdxk+SlxK3ErcStxK3ErcStxK3ErcStxK3ErcStxKzEsn2fL59lCCTGUEEMJMZQQQwkxlBBDCTGUEEMJMZQQQwkxlBBDCTGUEENZPs+Wz7OFUGIIJYZQYgglhlBiCCWGUGIIJYZQYgglhlBiCCWGUGIIJYawfJ4tn2fL59nyebZ8nq0SYighhhJiKCGGEmIoIYYSYighhhJiKCGGEmIoIYYSYighhhKWz7Pl82zFVuKIrcQRW4kjthJHbCWO2EocsZU4YitxxFbiiK3EEVuJI7YSR2wljthKHLEtn2fL59nyL7YSR2wljthKHLGVOGIrccRW4oitxBFbiSO2EkdsJY7YShyxlThiK3HEVuJYPs+Wz7OFElscJbY4SmxxlNjiKLHFUWKLo8QWR4ktjhJbHCW2OEpscZTY4iixxVFii6Msn2fL59nyebZ8ni2fZwuhxBBKDKHEEEoMocQQSgyhxBBKDKHEEEoMocQQSgyhxBBKDGH5PFs+zxZK3ErcStxK3ErcStxK3ErcStxK3ErcStxK3ErcyvJ5tnyeLZ9ny+fZ8nm2fJ4tn2fL59lCKDGEEkMoMYQSQygxhBJDKDGEEkMoMYQSQygxhBJDKDGEEkNYPs+Wz7Pl82z5PFs+zxZK3ErcStxK3ErcStxK3ErcStxK3ErcStxK3ErcyvJ5tnye/QFM2qAxBTbX/AAAAABJRU5ErkJg\">"
      ],
      "text/plain": [
       "\u001b[0m\u001b[38;2;4;4;4;48;2;12;12;12m▀\u001b[38;2;24;24;24;48;2;88;88;88m▀\u001b[38;2;36;36;36;48;2;28;28;28m▀\u001b[38;2;0;0;0;48;2;0;0;0m▀\u001b[38;2;12;12;12;48;2;52;52;52m▀\u001b[38;2;40;40;40;48;2;72;72;72m▀\u001b[38;2;12;12;12;48;2;4;4;4m▀\u001b[38;2;4;4;4;48;2;12;12;12m▀\u001b[38;2;24;24;24;48;2;88;88;88m▀\u001b[38;2;36;36;36;48;2;28;28;28m▀\u001b[38;2;0;0;0;48;2;0;0;0m▀\u001b[38;2;12;12;12;48;2;52;52;52m▀\u001b[38;2;40;40;40;48;2;72;72;72m▀\u001b[38;2;12;12;12;48;2;4;4;4m▀\u001b[38;2;4;4;4;48;2;12;12;12m▀\u001b[38;2;24;24;24;48;2;88;88;88m▀\u001b[38;2;36;36;36;48;2;28;28;28m▀\u001b[38;2;0;0;0;48;2;0;0;0m▀\u001b[38;2;12;12;12;48;2;52;52;52m▀\u001b[38;2;40;40;40;48;2;72;72;72m▀\u001b[38;2;12;12;12;48;2;4;4;4m▀\u001b[38;2;4;4;4;48;2;12;12;12m▀\u001b[38;2;24;24;24;48;2;88;88;88m▀\u001b[38;2;36;36;36;48;2;28;28;28m▀\u001b[38;2;0;0;0;48;2;0;0;0m▀\u001b[38;2;12;12;12;48;2;52;52;52m▀\u001b[38;2;40;40;40;48;2;72;72;72m▀\u001b[38;2;12;12;12;48;2;4;4;4m▀\u001b[38;2;4;4;4;48;2;12;12;12m▀\u001b[38;2;24;24;24;48;2;88;88;88m▀\u001b[38;2;36;36;36;48;2;28;28;28m▀\u001b[38;2;0;0;0;48;2;0;0;0m▀\u001b[38;2;12;12;12;48;2;52;52;52m▀\u001b[38;2;40;40;40;48;2;72;72;72m▀\u001b[38;2;12;12;12;48;2;4;4;4m▀\u001b[38;2;4;4;4;48;2;12;12;12m▀\u001b[38;2;24;24;24;48;2;88;88;88m▀\u001b[38;2;36;36;36;48;2;28;28;28m▀\u001b[38;2;0;0;0;48;2;0;0;0m▀\u001b[38;2;12;12;12;48;2;52;52;52m▀\u001b[38;2;40;40;40;48;2;72;72;72m▀\u001b[38;2;12;12;12;48;2;4;4;4m▀\u001b[38;2;4;4;4;48;2;12;12;12m▀\u001b[38;2;24;24;24;48;2;88;88;88m▀\u001b[38;2;36;36;36;48;2;28;28;28m▀\u001b[38;2;0;0;0;48;2;0;0;0m▀\u001b[38;2;12;12;12;48;2;52;52;52m▀\u001b[38;2;40;40;40;48;2;72;72;72m▀\u001b[38;2;12;12;12;48;2;4;4;4m▀\u001b[38;2;4;4;4;48;2;12;12;12m▀\u001b[38;2;12;12;12;48;2;36;36;36m▀\u001b[0m\n",
       "\u001b[0m\u001b[38;2;36;36;36;48;2;16;16;16m▀\u001b[38;2;72;72;72;48;2;52;52;52m▀\u001b[38;2;20;20;20;48;2;48;48;48m▀\u001b[38;2;12;12;12;48;2;16;16;16m▀\u001b[38;2;56;56;56;48;2;36;36;36m▀\u001b[38;2;60;60;60;48;2;52;52;52m▀\u001b[38;2;0;0;0;48;2;36;36;36m▀\u001b[38;2;36;36;36;48;2;16;16;16m▀\u001b[38;2;72;72;72;48;2;52;52;52m▀\u001b[38;2;20;20;20;48;2;48;48;48m▀\u001b[38;2;12;12;12;48;2;16;16;16m▀\u001b[38;2;56;56;56;48;2;36;36;36m▀\u001b[38;2;60;60;60;48;2;52;52;52m▀\u001b[38;2;0;0;0;48;2;36;36;36m▀\u001b[38;2;36;36;36;48;2;16;16;16m▀\u001b[38;2;72;72;72;48;2;52;52;52m▀\u001b[38;2;20;20;20;48;2;48;48;48m▀\u001b[38;2;12;12;12;48;2;16;16;16m▀\u001b[38;2;56;56;56;48;2;36;36;36m▀\u001b[38;2;60;60;60;48;2;52;52;52m▀\u001b[38;2;0;0;0;48;2;36;36;36m▀\u001b[38;2;36;36;36;48;2;16;16;16m▀\u001b[38;2;72;72;72;48;2;52;52;52m▀\u001b[38;2;20;20;20;48;2;48;48;48m▀\u001b[38;2;12;12;12;48;2;16;16;16m▀\u001b[38;2;56;56;56;48;2;36;36;36m▀\u001b[38;2;60;60;60;48;2;52;52;52m▀\u001b[38;2;0;0;0;48;2;36;36;36m▀\u001b[38;2;36;36;36;48;2;16;16;16m▀\u001b[38;2;72;72;72;48;2;52;52;52m▀\u001b[38;2;20;20;20;48;2;48;48;48m▀\u001b[38;2;12;12;12;48;2;16;16;16m▀\u001b[38;2;56;56;56;48;2;36;36;36m▀\u001b[38;2;60;60;60;48;2;52;52;52m▀\u001b[38;2;0;0;0;48;2;36;36;36m▀\u001b[38;2;36;36;36;48;2;16;16;16m▀\u001b[38;2;72;72;72;48;2;52;52;52m▀\u001b[38;2;20;20;20;48;2;48;48;48m▀\u001b[38;2;12;12;12;48;2;16;16;16m▀\u001b[38;2;56;56;56;48;2;36;36;36m▀\u001b[38;2;60;60;60;48;2;52;52;52m▀\u001b[38;2;0;0;0;48;2;36;36;36m▀\u001b[38;2;36;36;36;48;2;16;16;16m▀\u001b[38;2;72;72;72;48;2;52;52;52m▀\u001b[38;2;20;20;20;48;2;48;48;48m▀\u001b[38;2;12;12;12;48;2;16;16;16m▀\u001b[38;2;56;56;56;48;2;36;36;36m▀\u001b[38;2;60;60;60;48;2;52;52;52m▀\u001b[38;2;0;0;0;48;2;36;36;36m▀\u001b[38;2;36;36;36;48;2;16;16;16m▀\u001b[38;2;12;12;12;48;2;16;16;16m▀\u001b[0m\n",
       "\u001b[0m\u001b[38;2;24;24;24;48;2;20;20;20m▀\u001b[38;2;84;84;84;48;2;96;96;96m▀\u001b[38;2;16;16;16;48;2;12;12;12m▀\u001b[38;2;4;4;4;48;2;0;0;0m▀\u001b[38;2;76;76;76;48;2;72;72;72m▀\u001b[38;2;40;40;40;48;2;56;56;56m▀\u001b[38;2;12;12;12;48;2;0;0;0m▀\u001b[38;2;24;24;24;48;2;20;20;20m▀\u001b[38;2;84;84;84;48;2;96;96;96m▀\u001b[38;2;16;16;16;48;2;12;12;12m▀\u001b[38;2;4;4;4;48;2;0;0;0m▀\u001b[38;2;76;76;76;48;2;72;72;72m▀\u001b[38;2;40;40;40;48;2;56;56;56m▀\u001b[38;2;12;12;12;48;2;0;0;0m▀\u001b[38;2;24;24;24;48;2;20;20;20m▀\u001b[38;2;84;84;84;48;2;96;96;96m▀\u001b[38;2;16;16;16;48;2;12;12;12m▀\u001b[38;2;4;4;4;48;2;0;0;0m▀\u001b[38;2;76;76;76;48;2;72;72;72m▀\u001b[38;2;40;40;40;48;2;56;56;56m▀\u001b[38;2;12;12;12;48;2;0;0;0m▀\u001b[38;2;24;24;24;48;2;20;20;20m▀\u001b[38;2;84;84;84;48;2;96;96;96m▀\u001b[38;2;16;16;16;48;2;12;12;12m▀\u001b[38;2;4;4;4;48;2;0;0;0m▀\u001b[38;2;76;76;76;48;2;72;72;72m▀\u001b[38;2;40;40;40;48;2;56;56;56m▀\u001b[38;2;12;12;12;48;2;0;0;0m▀\u001b[38;2;24;24;24;48;2;20;20;20m▀\u001b[38;2;84;84;84;48;2;96;96;96m▀\u001b[38;2;16;16;16;48;2;12;12;12m▀\u001b[38;2;4;4;4;48;2;0;0;0m▀\u001b[38;2;76;76;76;48;2;72;72;72m▀\u001b[38;2;40;40;40;48;2;56;56;56m▀\u001b[38;2;12;12;12;48;2;0;0;0m▀\u001b[38;2;24;24;24;48;2;20;20;20m▀\u001b[38;2;84;84;84;48;2;96;96;96m▀\u001b[38;2;16;16;16;48;2;12;12;12m▀\u001b[38;2;4;4;4;48;2;0;0;0m▀\u001b[38;2;76;76;76;48;2;72;72;72m▀\u001b[38;2;40;40;40;48;2;56;56;56m▀\u001b[38;2;12;12;12;48;2;0;0;0m▀\u001b[38;2;24;24;24;48;2;20;20;20m▀\u001b[38;2;84;84;84;48;2;96;96;96m▀\u001b[38;2;16;16;16;48;2;12;12;12m▀\u001b[38;2;4;4;4;48;2;0;0;0m▀\u001b[38;2;76;76;76;48;2;72;72;72m▀\u001b[38;2;40;40;40;48;2;56;56;56m▀\u001b[38;2;12;12;12;48;2;0;0;0m▀\u001b[38;2;24;24;24;48;2;20;20;20m▀\u001b[38;2;72;72;72;48;2;60;60;60m▀\u001b[0m\n",
       "\u001b[0m\u001b[38;2;28;28;28;48;2;8;8;8m▀\u001b[38;2;96;96;96;48;2;96;96;96m▀\u001b[38;2;4;4;4;48;2;24;24;24m▀\u001b[38;2;0;0;0;48;2;0;0;0m▀\u001b[38;2;88;88;88;48;2;48;48;48m▀\u001b[38;2;40;40;40;48;2;80;80;80m▀\u001b[38;2;0;0;0;48;2;0;0;0m▀\u001b[38;2;28;28;28;48;2;8;8;8m▀\u001b[38;2;96;96;96;48;2;96;96;96m▀\u001b[38;2;4;4;4;48;2;24;24;24m▀\u001b[38;2;0;0;0;48;2;0;0;0m▀\u001b[38;2;88;88;88;48;2;48;48;48m▀\u001b[38;2;40;40;40;48;2;80;80;80m▀\u001b[38;2;0;0;0;48;2;0;0;0m▀\u001b[38;2;28;28;28;48;2;8;8;8m▀\u001b[38;2;96;96;96;48;2;96;96;96m▀\u001b[38;2;4;4;4;48;2;24;24;24m▀\u001b[38;2;0;0;0;48;2;0;0;0m▀\u001b[38;2;88;88;88;48;2;48;48;48m▀\u001b[38;2;40;40;40;48;2;80;80;80m▀\u001b[38;2;0;0;0;48;2;0;0;0m▀\u001b[38;2;28;28;28;48;2;8;8;8m▀\u001b[38;2;96;96;96;48;2;96;96;96m▀\u001b[38;2;4;4;4;48;2;24;24;24m▀\u001b[38;2;0;0;0;48;2;0;0;0m▀\u001b[38;2;88;88;88;48;2;48;48;48m▀\u001b[38;2;40;40;40;48;2;80;80;80m▀\u001b[38;2;0;0;0;48;2;0;0;0m▀\u001b[38;2;28;28;28;48;2;8;8;8m▀\u001b[38;2;96;96;96;48;2;96;96;96m▀\u001b[38;2;4;4;4;48;2;24;24;24m▀\u001b[38;2;0;0;0;48;2;0;0;0m▀\u001b[38;2;88;88;88;48;2;48;48;48m▀\u001b[38;2;40;40;40;48;2;80;80;80m▀\u001b[38;2;0;0;0;48;2;0;0;0m▀\u001b[38;2;28;28;28;48;2;8;8;8m▀\u001b[38;2;96;96;96;48;2;96;96;96m▀\u001b[38;2;4;4;4;48;2;24;24;24m▀\u001b[38;2;0;0;0;48;2;0;0;0m▀\u001b[38;2;88;88;88;48;2;48;48;48m▀\u001b[38;2;40;40;40;48;2;80;80;80m▀\u001b[38;2;0;0;0;48;2;0;0;0m▀\u001b[38;2;28;28;28;48;2;8;8;8m▀\u001b[38;2;96;96;96;48;2;96;96;96m▀\u001b[38;2;4;4;4;48;2;24;24;24m▀\u001b[38;2;0;0;0;48;2;0;0;0m▀\u001b[38;2;88;88;88;48;2;48;48;48m▀\u001b[38;2;40;40;40;48;2;80;80;80m▀\u001b[38;2;0;0;0;48;2;0;0;0m▀\u001b[38;2;28;28;28;48;2;8;8;8m▀\u001b[38;2;84;84;84;48;2;24;24;24m▀\u001b[0m\n",
       "\u001b[0m\u001b[38;2;12;12;12m▀\u001b[38;2;48;48;48m▀\u001b[38;2;4;4;4m▀\u001b[38;2;0;0;0m▀\u001b[38;2;40;40;40m▀\u001b[38;2;24;24;24m▀\u001b[38;2;0;0;0m▀\u001b[38;2;12;12;12m▀\u001b[38;2;48;48;48m▀\u001b[38;2;4;4;4m▀\u001b[38;2;0;0;0m▀\u001b[38;2;40;40;40m▀\u001b[38;2;24;24;24m▀\u001b[38;2;0;0;0m▀\u001b[38;2;12;12;12m▀\u001b[38;2;48;48;48m▀\u001b[38;2;4;4;4m▀\u001b[38;2;0;0;0m▀\u001b[38;2;40;40;40m▀\u001b[38;2;24;24;24m▀\u001b[38;2;0;0;0m▀\u001b[38;2;12;12;12m▀\u001b[38;2;48;48;48m▀\u001b[38;2;4;4;4m▀\u001b[38;2;0;0;0m▀\u001b[38;2;40;40;40m▀\u001b[38;2;24;24;24m▀\u001b[38;2;0;0;0m▀\u001b[38;2;12;12;12m▀\u001b[38;2;48;48;48m▀\u001b[38;2;4;4;4m▀\u001b[38;2;0;0;0m▀\u001b[38;2;40;40;40m▀\u001b[38;2;24;24;24m▀\u001b[38;2;0;0;0m▀\u001b[38;2;12;12;12m▀\u001b[38;2;48;48;48m▀\u001b[38;2;4;4;4m▀\u001b[38;2;0;0;0m▀\u001b[38;2;40;40;40m▀\u001b[38;2;24;24;24m▀\u001b[38;2;0;0;0m▀\u001b[38;2;12;12;12m▀\u001b[38;2;48;48;48m▀\u001b[38;2;4;4;4m▀\u001b[38;2;0;0;0m▀\u001b[38;2;40;40;40m▀\u001b[38;2;24;24;24m▀\u001b[38;2;0;0;0m▀\u001b[38;2;12;12;12m▀\u001b[38;2;36;36;36m▀\u001b[0m"
      ]
     },
     "execution_count": 34,
     "metadata": {},
     "output_type": "execute_result"
    }
   ],
   "source": [
    "Gray.(U) # This is what feed into the model d_neurons x T"
   ]
  },
  {
   "cell_type": "markdown",
   "id": "31f6e61f",
   "metadata": {},
   "source": [
    "What do we get out of the S5 model?"
   ]
  },
  {
   "cell_type": "code",
   "execution_count": 36,
   "id": "895c4250",
   "metadata": {},
   "outputs": [
    {
     "data": {
      "image/png": "[encoded data removed]",
      "text/html": [
       "<img src=\"data:image/png;base64,iVBORw0KGgoAAAANSUhEUgAAAZAAAAAoCAAAAAD1OvO8AAAAAXNSR0IArs4c6QAAAARnQU1BAACxjwv8YQUAAAAgY0hSTQAAeiYAAICEAAD6AAAAgOgAAHUwAADqYAAAOpgAABdwnLpRPAAABHJJREFUaAXtwbGpwkAAANAXPbBKJ6JjOIlzWegSLuEIglikt5ZgFaLFPzySX1xxK6TIe2GBGn/4YcQoW6DGH34YMcoWqPGHH0aMsgVq/OGHEaNsgRp/+GHEKFugxh9+GDHKFqjxhx9GjLIFavzhhxGjbIEaf/hhxChboMYffhgxyhao8YcfRoyyBWr84YcRo2yBGn/4YcQoW6DGH34YMcoWqBHMJiWYTUowm5SwwQlvHGWtbIMT3jjKWtkGJ7xxlLWyDU544yhrZRuc8MZR1so2OOGNo6yVbXDCG0dZK9vghDeOsla2wQlvHGWtbIMT3jjKWtkGJ7xxlLWyDU544yhrZRuc8MZR1so2OOGNo6yVbXBCMJuUYDYpwWxSQoczXuiQFB3OeKFDUnQ444UOSdHhjBc6JEWHM17okBQdznihQ1J0OOOFDknR4YwXOiRFhzNe6JAUHc54oUNSdDjjhQ5J0eGMFzokRYczXuiQFB3OeKFDUnQ4I5hNSjCblGA2KWGFPda4IeArW2GPNW4I+MpW2GONGwK+shX2WOOGgK9shT3WuCHgK1thjzVuCPjKVthjjRsCvrIV9ljjhoCvbIU91rgh4CtbYY81bgj4ylbYY40bAr6yFfZY44aAr2yFPda4IeArW2GPNW4I+MpW2COYTUowm5RgNilhiS1q3BHwlS2xRY07Ar6yJbaocUfAV7bEFjXuCPjKltiixh0BX9kSW9S4I+ArW2KLGncEfGVLbFHjjoCvbIktatwR8JUtsUWNOwK+siW2qHFHwFe2xBY17gj4ypbYosYdAV/ZElvUuCPgK1tii2A2KcFsUoLZpISEFh8kVIqEFh8kVIqEFh8kVIqEFh8kVIqEFh8kVIqEFh8kVIqEFh8kVIqEFh8kVIqEFh8kVIqEFh8kVIqEFh8kVIqEFh8kVIqEFh8kVIqEFh8kVIqEFsFsUoLZpASzSQkRDyREVIqIBxIiKkXEAwkRlSLigYSIShHxQEJEpYh4ICGiUkQ8kBBRKSIeSIioFBEPJERUiogHEiIqRcQDCRGVIuKBhIhKEfFAQkSliHggIaJSRDwQzCYlmE1KMJuUENHIBlSKiEY2oFJENLIBlSKikQ2oFBGNbECliGhkAypFRCMbUCkiGtmAShHRyAZUiohGNqBSRDSyAZUiopENqBQRjWxApYhoZAMqRUSDYDYpwWxSgtmkhBoHRFxRoZfVOCDiigq9rMYBEVdU6GU1Doi4okIvq3FAxBUVelmNAyKuqNDLahwQcUWFXlbjgIgrKvSyGgdEXFGhl9U4IOKKCr2sxgERV1ToZTUOiLiiQi+rcUDEFRV6WY0DIq6o0MtqHBDMJiWYTUowm5SwwwVPNBjQy3a44IkGA3rZDhc80WBAL9vhgicaDOhlO1zwRIMBvWyHC55oMKCX7XDBEw0G9LIdLniiwYBetsMFTzQY0Mt2uOCJBgN62Q4XPNFgQC/b4YInGgzoZTtc8ESDAb1shwueaDCgl+1wQTCblGA2KcFsUv4BZbrXQXr0q6cAAAAASUVORK5C\">"
      ],
      "text/plain": [
       "\u001b[0m\u001b[38;2;5;5;5;48;2;17;17;17m▀\u001b[38;2;18;18;18;48;2;66;66;66m▀\u001b[38;2;5;5;5;48;2;19;19;19m▀\u001b[38;2;1;1;1;48;2;3;3;3m▀\u001b[38;2;14;14;14;48;2;50;50;50m▀\u001b[38;2;13;13;13;48;2;46;46;46m▀\u001b[38;2;2;2;2;48;2;6;6;6m▀\u001b[38;2;5;5;5;48;2;17;17;17m▀\u001b[38;2;18;18;18;48;2;66;66;66m▀\u001b[38;2;5;5;5;48;2;19;19;19m▀\u001b[38;2;1;1;1;48;2;3;3;3m▀\u001b[38;2;14;14;14;48;2;50;50;50m▀\u001b[38;2;13;13;13;48;2;46;46;46m▀\u001b[38;2;2;2;2;48;2;6;6;6m▀\u001b[38;2;5;5;5;48;2;17;17;17m▀\u001b[38;2;18;18;18;48;2;66;66;66m▀\u001b[38;2;5;5;5;48;2;19;19;19m▀\u001b[38;2;1;1;1;48;2;3;3;3m▀\u001b[38;2;14;14;14;48;2;50;50;50m▀\u001b[38;2;13;13;13;48;2;46;46;46m▀\u001b[38;2;2;2;2;48;2;6;6;6m▀\u001b[38;2;5;5;5;48;2;17;17;17m▀\u001b[38;2;18;18;18;48;2;66;66;66m▀\u001b[38;2;5;5;5;48;2;19;19;19m▀\u001b[38;2;1;1;1;48;2;3;3;3m▀\u001b[38;2;14;14;14;48;2;50;50;50m▀\u001b[38;2;13;13;13;48;2;46;46;46m▀\u001b[38;2;2;2;2;48;2;6;6;6m▀\u001b[38;2;5;5;5;48;2;17;17;17m▀\u001b[38;2;18;18;18;48;2;66;66;66m▀\u001b[38;2;5;5;5;48;2;19;19;19m▀\u001b[38;2;1;1;1;48;2;3;3;3m▀\u001b[38;2;14;14;14;48;2;50;50;50m▀\u001b[38;2;13;13;13;48;2;46;46;46m▀\u001b[38;2;2;2;2;48;2;6;6;6m▀\u001b[38;2;5;5;5;48;2;17;17;17m▀\u001b[38;2;18;18;18;48;2;66;66;66m▀\u001b[38;2;5;5;5;48;2;19;19;19m▀\u001b[38;2;1;1;1;48;2;3;3;3m▀\u001b[38;2;14;14;14;48;2;50;50;50m▀\u001b[38;2;13;13;13;48;2;46;46;46m▀\u001b[38;2;2;2;2;48;2;6;6;6m▀\u001b[38;2;5;5;5;48;2;17;17;17m▀\u001b[38;2;18;18;18;48;2;66;66;66m▀\u001b[38;2;5;5;5;48;2;19;19;19m▀\u001b[38;2;1;1;1;48;2;3;3;3m▀\u001b[38;2;14;14;14;48;2;50;50;50m▀\u001b[38;2;13;13;13;48;2;46;46;46m▀\u001b[38;2;2;2;2;48;2;6;6;6m▀\u001b[38;2;5;5;5;48;2;17;17;17m▀\u001b[38;2;10;10;10;48;2;37;37;37m▀\u001b[0m\n",
       "\u001b[0m\u001b[38;2;18;18;18;48;2;13;13;13m▀\u001b[38;2;73;73;73;48;2;53;53;53m▀\u001b[38;2;21;21;21;48;2;16;16;16m▀\u001b[38;2;4;4;4;48;2;3;3;3m▀\u001b[38;2;54;54;54;48;2;39;39;39m▀\u001b[38;2;51;51;51;48;2;38;38;38m▀\u001b[38;2;7;7;7;48;2;5;5;5m▀\u001b[38;2;18;18;18;48;2;13;13;13m▀\u001b[38;2;73;73;73;48;2;53;53;53m▀\u001b[38;2;21;21;21;48;2;16;16;16m▀\u001b[38;2;4;4;4;48;2;3;3;3m▀\u001b[38;2;54;54;54;48;2;39;39;39m▀\u001b[38;2;51;51;51;48;2;38;38;38m▀\u001b[38;2;7;7;7;48;2;5;5;5m▀\u001b[38;2;18;18;18;48;2;13;13;13m▀\u001b[38;2;73;73;73;48;2;53;53;53m▀\u001b[38;2;21;21;21;48;2;16;16;16m▀\u001b[38;2;4;4;4;48;2;3;3;3m▀\u001b[38;2;54;54;54;48;2;39;39;39m▀\u001b[38;2;51;51;51;48;2;38;38;38m▀\u001b[38;2;7;7;7;48;2;5;5;5m▀\u001b[38;2;18;18;18;48;2;13;13;13m▀\u001b[38;2;73;73;73;48;2;53;53;53m▀\u001b[38;2;21;21;21;48;2;16;16;16m▀\u001b[38;2;4;4;4;48;2;3;3;3m▀\u001b[38;2;54;54;54;48;2;39;39;39m▀\u001b[38;2;51;51;51;48;2;38;38;38m▀\u001b[38;2;7;7;7;48;2;5;5;5m▀\u001b[38;2;18;18;18;48;2;13;13;13m▀\u001b[38;2;73;73;73;48;2;53;53;53m▀\u001b[38;2;21;21;21;48;2;16;16;16m▀\u001b[38;2;4;4;4;48;2;3;3;3m▀\u001b[38;2;54;54;54;48;2;39;39;39m▀\u001b[38;2;51;51;51;48;2;38;38;38m▀\u001b[38;2;7;7;7;48;2;5;5;5m▀\u001b[38;2;18;18;18;48;2;13;13;13m▀\u001b[38;2;73;73;73;48;2;53;53;53m▀\u001b[38;2;21;21;21;48;2;16;16;16m▀\u001b[38;2;4;4;4;48;2;3;3;3m▀\u001b[38;2;54;54;54;48;2;39;39;39m▀\u001b[38;2;51;51;51;48;2;38;38;38m▀\u001b[38;2;7;7;7;48;2;5;5;5m▀\u001b[38;2;18;18;18;48;2;13;13;13m▀\u001b[38;2;73;73;73;48;2;53;53;53m▀\u001b[38;2;21;21;21;48;2;16;16;16m▀\u001b[38;2;4;4;4;48;2;3;3;3m▀\u001b[38;2;54;54;54;48;2;39;39;39m▀\u001b[38;2;51;51;51;48;2;38;38;38m▀\u001b[38;2;7;7;7;48;2;5;5;5m▀\u001b[38;2;18;18;18;48;2;13;13;13m▀\u001b[38;2;40;40;40;48;2;28;28;28m▀\u001b[0m\n",
       "\u001b[0m\u001b[38;2;13;13;13;48;2;20;20;20m▀\u001b[38;2;55;55;55;48;2;80;80;80m▀\u001b[38;2;16;16;16;48;2;23;23;23m▀\u001b[38;2;3;3;3;48;2;4;4;4m▀\u001b[38;2;40;40;40;48;2;59;59;59m▀\u001b[38;2;39;39;39;48;2;56;56;56m▀\u001b[38;2;5;5;5;48;2;8;8;8m▀\u001b[38;2;13;13;13;48;2;20;20;20m▀\u001b[38;2;55;55;55;48;2;80;80;80m▀\u001b[38;2;16;16;16;48;2;23;23;23m▀\u001b[38;2;3;3;3;48;2;4;4;4m▀\u001b[38;2;40;40;40;48;2;59;59;59m▀\u001b[38;2;39;39;39;48;2;56;56;56m▀\u001b[38;2;5;5;5;48;2;8;8;8m▀\u001b[38;2;13;13;13;48;2;20;20;20m▀\u001b[38;2;55;55;55;48;2;80;80;80m▀\u001b[38;2;16;16;16;48;2;23;23;23m▀\u001b[38;2;3;3;3;48;2;4;4;4m▀\u001b[38;2;40;40;40;48;2;59;59;59m▀\u001b[38;2;39;39;39;48;2;56;56;56m▀\u001b[38;2;5;5;5;48;2;8;8;8m▀\u001b[38;2;13;13;13;48;2;20;20;20m▀\u001b[38;2;55;55;55;48;2;80;80;80m▀\u001b[38;2;16;16;16;48;2;23;23;23m▀\u001b[38;2;3;3;3;48;2;4;4;4m▀\u001b[38;2;40;40;40;48;2;59;59;59m▀\u001b[38;2;39;39;39;48;2;56;56;56m▀\u001b[38;2;5;5;5;48;2;8;8;8m▀\u001b[38;2;13;13;13;48;2;20;20;20m▀\u001b[38;2;55;55;55;48;2;80;80;80m▀\u001b[38;2;16;16;16;48;2;23;23;23m▀\u001b[38;2;3;3;3;48;2;4;4;4m▀\u001b[38;2;40;40;40;48;2;59;59;59m▀\u001b[38;2;39;39;39;48;2;56;56;56m▀\u001b[38;2;5;5;5;48;2;8;8;8m▀\u001b[38;2;13;13;13;48;2;20;20;20m▀\u001b[38;2;55;55;55;48;2;80;80;80m▀\u001b[38;2;16;16;16;48;2;23;23;23m▀\u001b[38;2;3;3;3;48;2;4;4;4m▀\u001b[38;2;40;40;40;48;2;59;59;59m▀\u001b[38;2;39;39;39;48;2;56;56;56m▀\u001b[38;2;5;5;5;48;2;8;8;8m▀\u001b[38;2;13;13;13;48;2;20;20;20m▀\u001b[38;2;55;55;55;48;2;80;80;80m▀\u001b[38;2;16;16;16;48;2;23;23;23m▀\u001b[38;2;3;3;3;48;2;4;4;4m▀\u001b[38;2;40;40;40;48;2;59;59;59m▀\u001b[38;2;39;39;39;48;2;56;56;56m▀\u001b[38;2;5;5;5;48;2;8;8;8m▀\u001b[38;2;13;13;13;48;2;20;20;20m▀\u001b[38;2;29;29;29;48;2;43;43;43m▀\u001b[0m\n"
      ]
     },
     "execution_count": 36,
     "metadata": {},
     "output_type": "execute_result"
    }
   ],
   "source": [
    "Gray.(transpose(abs.(YS5))) # This is what we get (d_{out} x T)"
   ]
  },
  {
   "cell_type": "code",
   "execution_count": 37,
   "id": "05cd5ba2-39e8-42c3-9c3d-ba8cce152456",
   "metadata": {},
   "outputs": [
    {
     "data": {
      "text/plain": [
       "(100, 10)"
      ]
     },
     "execution_count": 37,
     "metadata": {},
     "output_type": "execute_result"
    }
   ],
   "source": [
    "size(YS5)"
   ]
  },
  {
   "cell_type": "markdown",
   "id": "baa3da44",
   "metadata": {},
   "source": [
    "__What the S5 is saying to us__? The output of the S5 model is a matrix $\\mathbf{Y}\\in\\mathbb{R}^{d_{out}\\times{T}}$, where $d_{out}$ is the number of outputs in the S5 model (dictated by the application), and $T$ is the time length of the simulation (number of input images). \n",
    "* _What can the columns of the output matrix `Y::Array{Float64,2}` represent_? Depends. In this case, let's run each column through a $\\texttt{softmax}$ function, and then take the index of the maximum value in each column. This gives us a vector of length $T$ that we can use to decode the output of the S5 model, i.e., the digit that the S5 model is trying to tell us.\n",
    "\n",
    "Decode the output of the S5 model:"
   ]
  },
  {
   "cell_type": "code",
   "execution_count": 39,
   "id": "cd2f7fd0",
   "metadata": {},
   "outputs": [
    {
     "data": {
      "text/plain": [
       "100-element Vector{Int64}:\n",
       " 9\n",
       " 9\n",
       " 9\n",
       " 9\n",
       " 9\n",
       " 0\n",
       " 0\n",
       " 9\n",
       " 9\n",
       " 9\n",
       " 9\n",
       " 9\n",
       " 0\n",
       " ⋮\n",
       " 9\n",
       " 0\n",
       " 0\n",
       " 9\n",
       " 9\n",
       " 9\n",
       " 9\n",
       " 9\n",
       " 0\n",
       " 0\n",
       " 9\n",
       " 9"
      ]
     },
     "execution_count": 39,
     "metadata": {},
     "output_type": "execute_result"
    }
   ],
   "source": [
    "Nₐ = let\n",
    "    Y = transpose(YS5) |> Matrix;\n",
    "    (number_of_rows, number_of_cols) = size(Y);\n",
    "    number_array = Array{Int64,1}(undef, number_of_cols); # numbers we are going to decode\n",
    "\n",
    "    for i ∈ 1:number_of_cols\n",
    "        number_array[i] = NNlib.softmax(abs.(Y[:,i])) |> x-> argmax(x) |> i -> i -1; # zero based\n",
    "    end\n",
    "\n",
    "    number_array\n",
    "end"
   ]
  },
  {
   "cell_type": "markdown",
   "id": "8443db24",
   "metadata": {},
   "source": [
    "### Discussion\n",
    "1. What do the rows of the output matrix `Y::Array{Float64,2}` represent?\n",
    "2. Hmmm. Interesting. Let's brainstorm about what we could do with these models if we had more time (and could train them)."
   ]
  },
  {
   "cell_type": "markdown",
   "id": "d0a97478",
   "metadata": {},
   "source": [
    "## What's coming up next time?\n",
    "In lecture `L15c`, we'll look at [Graph Neural Networks (GNNs)](https://en.wikipedia.org/wiki/Graph_neural_network).\n",
    "* __Graph Neural Networks (GNNs)__ are another type of neural network architecture specifically designed to operate on data structured as graphs, where entities (nodes) and their relationships (edges) are represented explicitly. \n",
    "* __How are GNNs different from traditional neural networks?__ Traditional neural networks typically operate on fixed-size, grid-like data structures (e.g., images, sequences), while GNNs can handle variable-sized graphs with complex connectivity patterns. This flexibility allows GNNs to model relationships and dependencies between entities more effectively, e.g., predicting user behavior in social networks by analyzing connections"
   ]
  }
 ],
 "metadata": {
  "kernelspec": {
   "display_name": "Julia 1.11.5",
   "language": "julia",
   "name": "julia-1.11"
  },
  "language_info": {
   "file_extension": ".jl",
   "mimetype": "application/julia",
   "name": "julia",
   "version": "1.11.5"
  }
 },
 "nbformat": 4,
 "nbformat_minor": 5
}
