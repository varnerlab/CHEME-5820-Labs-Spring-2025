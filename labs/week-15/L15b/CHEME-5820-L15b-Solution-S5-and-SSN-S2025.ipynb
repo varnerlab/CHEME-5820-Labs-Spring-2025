{
 "cells": [
  {
   "cell_type": "markdown",
   "id": "4b0b40ea-0b0d-4237-b28e-653a016bbe43",
   "metadata": {},
   "source": [
    "# L15b: Combining S5 and Spike Nueral Networks\n",
    "Fill me in.\n",
    "\n",
    "\n",
    "### Tasks\n",
    "Before we start, execute the `Run All Cells` command to check if you (or your neighbor) have any code or setup issues. Code issues, then raise your hands - and let's get those fixed!\n",
    "* __Task 1: Setup, Data, Prerequisites (10 min)__: In this task, we set up the computational environment and then specify a simple text sequence, e.g., a sentence without punctuation. From this sequence, we'll build a vocabulary, an inverse vocabulary, and the training datasets for the CBOW and skip-gram models. \n",
    "* __Task 2: Build and Train a CBOW model instance (20 min)__: In this task, we build and train a Continuous Bag of Words (CBOW) model instance on a sample input sequence. We start by creating a model instance, and then we train this instance for a few epochs, and finally, we see how the model performs.\n",
    "* __Task 3: Build and train a skip-gram model instance (20 min)__: In this task, we will build and train a skip-gram model instance on the sample input sequence we selected above. We start by creating a model instance, then train it for a few epochs and see how it performs.\n",
    "\n",
    "Let's get started!\n",
    "\n",
    "___"
   ]
  },
  {
   "cell_type": "markdown",
   "id": "28e06d22",
   "metadata": {},
   "source": [
    "## Task 1: Setup, Data, Prerequisites\n",
    "We set up the computational environment by including the `Include.jl` file, loading any needed resources, such as sample datasets, and setting up any required constants. \n",
    "* The `Include.jl` file also loads external packages, various functions that we will use in the exercise, and custom types to model the components of our problem. It checks for a `Manifest.toml` file; if it finds one, packages are loaded. Other packages are downloaded and then loaded."
   ]
  },
  {
   "cell_type": "code",
   "execution_count": 1,
   "id": "0f3aa51b",
   "metadata": {},
   "outputs": [
    {
     "ename": "LoadError",
     "evalue": "LoadError: UndefVarError: `T` not defined in `Main`\nSuggestion: check for spelling errors or missing imports.\nin expression starting at /Users/jeffreyvarner/Desktop/julia_work/CHEME-5820-SP25/CHEME-5820-Labs-Spring-2025/labs/week-15/L15b/src/Compute.jl:52\nin expression starting at /Users/jeffreyvarner/Desktop/julia_work/CHEME-5820-SP25/CHEME-5820-Labs-Spring-2025/labs/week-15/L15b/Include.jl:30",
     "output_type": "error",
     "traceback": [
      "LoadError: UndefVarError: `T` not defined in `Main`\n",
      "Suggestion: check for spelling errors or missing imports.\n",
      "in expression starting at /Users/jeffreyvarner/Desktop/julia_work/CHEME-5820-SP25/CHEME-5820-Labs-Spring-2025/labs/week-15/L15b/src/Compute.jl:52\n",
      "in expression starting at /Users/jeffreyvarner/Desktop/julia_work/CHEME-5820-SP25/CHEME-5820-Labs-Spring-2025/labs/week-15/L15b/Include.jl:30\n",
      "\n",
      "Stacktrace:\n",
      " [1] top-level scope\n",
      "   @ ~/Desktop/julia_work/CHEME-5820-SP25/CHEME-5820-Labs-Spring-2025/labs/week-15/L15b/src/Compute.jl:52"
     ]
    }
   ],
   "source": [
    "include(\"Include.jl\");"
   ]
  },
  {
   "cell_type": "code",
   "execution_count": 2,
   "id": "17752d75",
   "metadata": {},
   "outputs": [],
   "source": [
    "file_extension(file::String) = file[findlast(==('.'), file)+1:end]; # helper function to get the file extension"
   ]
  },
  {
   "cell_type": "markdown",
   "id": "406bb1c0",
   "metadata": {},
   "source": [
    "### Load the MNIST digits data set\n",
    "In this example, we'll use a Hopfield network to learn a single image pattern from [the MNIST handwritten digits dataset](https://en.wikipedia.org/wiki/MNIST_database). The goal is to train the network to recognize a digit, e.g., \"3\" or \"5\", etc, and then retrieve it from a noisy input.\n",
    "\n",
    "Load a training image dataset that we'll encode into the Hopfield network. We'll save training data in the `training_image_dataset` variable.\n",
    "* _What's in the training dataset_? The `training_image_dataset` will be of type `Vector{Tuple{Vector{Float32}, OneHotVector{UInt32}}}` where the first element is the input data `x.` The second element is the `label,` i.e., whether the image corresponds to `0,....,9`. However, the label is encoded as a `OneHotVector` (see below).\n",
    "* _Hmmm. That's strange_. The `Vector{Tuple{Vector{Float32}, OneHotVector{UInt32}}}` type has a couple of _weird features_. First, notice that the floating point is `Float32`, not the default `Float64`. Next, the labels are [One Hot ecoded](https://en.wikipedia.org/wiki/One-hot). Finally, the input data `x` is a Vector, not a Matrix (even though the original image is a matrix of `Gray` values).\n",
    "\n",
    "However, before we load the training data, let's set some constants, which we use below. The comment next to each constant describes it, its permissible values, units, etc."
   ]
  },
  {
   "cell_type": "code",
   "execution_count": 3,
   "id": "b0deacbc",
   "metadata": {},
   "outputs": [],
   "source": [
    "number_of_training_examples = 30; # how many training examples of *each* number to include from the library\n",
    "number_digit_array = range(0,length=10,step=1) |> collect; # numbers 0 ... 9\n",
    "number_of_rows = 28; # number of rows in the image\n",
    "number_of_cols = 28; # number of cols in the image\n",
    "number_of_pixels = number_of_rows*number_of_cols; # how many pixels do we have in the image?\n",
    "number_of_images_to_memorize = 3; # number of images that we want to encode"
   ]
  },
  {
   "cell_type": "markdown",
   "id": "c3c1c2e2",
   "metadata": {},
   "source": [
    "`Unhide` the code blocks below to see how we construct and populate the `training_image_dataset` variable. First, we load all the images into the `training_image_dictionary::Dict{Int64, Array{Gray{N0f8},3}}`, and then we'll convert these to a vector format below."
   ]
  },
  {
   "cell_type": "code",
   "execution_count": 4,
   "id": "5ec7e35a",
   "metadata": {},
   "outputs": [],
   "source": [
    "training_image_dictionary = let\n",
    "    training_image_dictionary = Dict{Int64, Array{Gray{N0f8},3}}();\n",
    "    for i ∈ number_digit_array\n",
    "        \n",
    "        # create a set for this digit -\n",
    "        image_digit_array = Array{Gray{N0f8},3}(undef, number_of_rows, number_of_cols, number_of_training_examples);\n",
    "        files = readdir(joinpath(_PATH_TO_IMAGES,\"$(i)\")); \n",
    "        imagecount = 1;\n",
    "        for fileindex ∈ 1:number_of_training_examples\n",
    "            filename = files[fileindex];\n",
    "            ext = file_extension(filename)\n",
    "            if (ext == \"jpg\")\n",
    "                image_digit_array[:,:,fileindex] = joinpath(_PATH_TO_IMAGES, \"$(i)\", filename) |> x-> FileIO.load(x);\n",
    "                imagecount += 1\n",
    "            end\n",
    "        end\n",
    "    \n",
    "        # capture -\n",
    "        training_image_dictionary[i] = image_digit_array\n",
    "    end\n",
    "    training_image_dictionary\n",
    "end;"
   ]
  },
  {
   "cell_type": "markdown",
   "id": "837fc8eb",
   "metadata": {},
   "source": [
    "Next, we take the images in array format and vectorize them. \n",
    "* _What do we mean by vectorize_? Each $N\\times{N}$ image array containing the grayscale values at each pixel is converted to an $N^{2}$ vector of values. What image class, i.e., what number it represents, is then converted to [one-hot format](https://en.wikipedia.org/wiki/One-hot). The converted data is stored in the `training_image_dataset::Vector{Tuple{Vector{Float32}, OneHotVector{UInt32}}}` variable.\n",
    "* _What's the deal with Float32_? Most neural network libraries (or other machine learning calculations) use `Float32` (or lower) to save memory because of the large number of parameters associated with the network. Additionally, model training is often carried out using specialized hardware [such as Graphical Processing Units (GPUs)](https://www.nvidia.com/en-us/data-center/h100/), which has different memory constraints."
   ]
  },
  {
   "cell_type": "code",
   "execution_count": 5,
   "id": "a2b79705",
   "metadata": {},
   "outputs": [],
   "source": [
    "training_image_dataset = let\n",
    "    training_image_dataset = Vector{Tuple{Vector{Float32}, OneHotVector{UInt32}}}()\n",
    "    for i ∈ number_digit_array\n",
    "        Y = onehot(i, number_digit_array);\n",
    "        X = training_image_dictionary[i];\n",
    "        \n",
    "        for t ∈ 1:number_of_training_examples\n",
    "            D = Array{Float32,1}(undef, number_of_pixels);\n",
    "            linearindex = 1;\n",
    "            for row ∈ 1:number_of_rows\n",
    "                for col ∈ 1:number_of_cols\n",
    "                    D[linearindex] = X[row,col,t] |> x-> convert(Float32,x);\n",
    "                    linearindex+=1;\n",
    "                end\n",
    "            end\n",
    "    \n",
    "            training_tuple = (D,Y);\n",
    "            push!(training_image_dataset,training_tuple);\n",
    "        end\n",
    "    end\n",
    "    training_image_dataset\n",
    "end;"
   ]
  },
  {
   "cell_type": "markdown",
   "id": "d745b933",
   "metadata": {},
   "source": [
    "## Task 2: What is a Spiking Neural Network?\n",
    "Fill me in."
   ]
  },
  {
   "cell_type": "code",
   "execution_count": 6,
   "id": "5b4ab1c3",
   "metadata": {},
   "outputs": [],
   "source": [
    "number_of_samples = length(training_image_dataset); # how many samples do we have?\n",
    "number_of_neurons = 2^4; # how many SSN neurons do we want?\n",
    "number_of_inputs = number_of_pixels; # how many inputs do we have?\n",
    "ν = 0.1; # Table 2: firing threshold https://arxiv.org/abs/2205.11276\n",
    "τ = 20.0; # Table 2: time constant (ms) https://arxiv.org/abs/2205.11276\n",
    "Δt = 1.0; # samping time step (ms)\n",
    "T = 100; # number of time steps of length Δt (ms) to simulate"
   ]
  },
  {
   "cell_type": "markdown",
   "id": "26ad0a92",
   "metadata": {},
   "source": [
    "Fill me in"
   ]
  },
  {
   "cell_type": "code",
   "execution_count": 7,
   "id": "7b4d4973",
   "metadata": {},
   "outputs": [
    {
     "data": {
      "text/plain": [
       "784×100 Matrix{Int64}:\n",
       " 0  0  0  0  0  0  0  0  0  0  0  0  0  …  0  0  0  0  0  0  0  0  0  0  0  0\n",
       " 0  0  0  0  0  0  0  0  0  0  0  0  0     0  0  0  0  0  0  0  0  0  0  0  0\n",
       " 0  0  0  0  0  0  0  0  0  0  0  0  0     0  0  0  0  0  0  0  0  0  0  0  0\n",
       " 0  0  0  0  0  0  0  0  0  0  0  0  0     0  0  0  0  0  0  0  0  0  0  0  0\n",
       " 0  0  0  0  0  0  0  0  0  0  0  0  0     0  0  0  0  0  0  0  0  0  0  0  0\n",
       " 0  0  0  0  0  0  0  0  0  0  0  0  0  …  0  0  0  0  0  0  0  0  0  0  0  0\n",
       " 0  0  0  0  0  0  0  0  0  0  0  0  0     0  0  0  0  0  0  0  0  0  0  0  0\n",
       " 1  0  0  0  0  0  0  0  0  0  0  0  0     0  0  0  0  0  0  0  0  0  0  0  0\n",
       " 0  0  0  0  0  0  0  0  0  0  0  0  0     0  0  0  0  0  0  0  0  0  0  0  0\n",
       " 0  0  0  0  0  0  0  0  0  0  0  0  0     0  0  0  0  0  0  0  0  0  0  0  0\n",
       " ⋮              ⋮              ⋮        ⋱        ⋮              ⋮           \n",
       " 0  0  0  0  0  0  0  0  0  0  0  0  0  …  0  0  0  0  0  0  0  0  0  0  0  0\n",
       " 0  0  0  0  0  0  0  0  0  0  0  0  0     0  0  0  0  0  0  0  0  0  0  0  0\n",
       " 1  0  0  0  0  0  0  0  0  0  0  0  0     0  0  0  0  0  0  0  0  0  0  0  0\n",
       " 1  0  0  0  0  0  0  0  0  0  0  0  0     0  0  0  0  0  0  0  0  0  0  0  0\n",
       " 0  0  0  0  0  0  0  0  0  0  0  0  0     0  0  0  0  0  0  0  0  0  0  0  0\n",
       " 0  0  0  0  0  0  0  0  0  0  0  0  0  …  0  0  0  0  0  0  0  0  0  0  0  0\n",
       " 0  0  0  0  0  0  0  0  0  0  0  0  0     0  0  0  0  0  0  0  0  0  0  0  0\n",
       " 0  0  0  0  0  0  0  0  0  0  0  0  0     0  0  0  0  0  0  0  0  0  0  0  0\n",
       " 0  0  0  0  0  0  0  0  0  0  0  0  0     0  0  0  0  0  0  0  0  0  0  0  0"
      ]
     },
     "metadata": {},
     "output_type": "display_data"
    }
   ],
   "source": [
    "Z = let\n",
    "\n",
    "    # initialize -\n",
    "    Z = Array{Int64,2}(undef, number_of_inputs, T);\n",
    "\n",
    "    for i ∈ 1:T\n",
    "        z = training_image_dataset[i][1] |> x-> round.(Int, x);\n",
    "        Z[:,i] = z;\n",
    "    end\n",
    "    Z \n",
    "end"
   ]
  },
  {
   "cell_type": "markdown",
   "id": "cb209bcd",
   "metadata": {},
   "source": [
    "Fill me in"
   ]
  },
  {
   "cell_type": "code",
   "execution_count": 8,
   "id": "ba726710",
   "metadata": {},
   "outputs": [],
   "source": [
    "ssnmodel = let\n",
    "\n",
    "    # build model -\n",
    "    model = build(MyLIFSpikingNeuralNetworkModel, (\n",
    "        Δt = Δt, # time step (ms)\n",
    "        τ = τ, # time constant (ms)\n",
    "        ν = ν, # firing threshold\n",
    "        number_of_nodes = number_of_neurons, # number of neurons\n",
    "        number_of_inputs = number_of_inputs, # number of inputs\n",
    "    ));\n",
    "\n",
    "    model;\n",
    "end;"
   ]
  },
  {
   "cell_type": "code",
   "execution_count": 9,
   "id": "1b8f5f1e",
   "metadata": {},
   "outputs": [
    {
     "data": {
      "text/plain": [
       "16×784 Matrix{Float64}:\n",
       " 0.00787499   0.00477604   0.00850661   …  0.00834518   0.00785965\n",
       " 0.00108043   0.00920477   0.00771442      0.00165019   0.00419566\n",
       " 0.000990301  0.00350428   0.00933099      0.00600266   0.00753358\n",
       " 0.00729257   0.00296902   0.00102969      5.65595e-5   0.0049188\n",
       " 0.00909525   0.00960018   0.00314606      0.00975505   0.00076039\n",
       " 0.00519194   0.00344498   0.00484527   …  0.00107907   4.32369e-6\n",
       " 0.00325004   0.00923435   0.00397747      0.00947414   0.000829868\n",
       " 0.00930411   0.00754679   0.00379807      0.000540173  0.00231299\n",
       " 0.00640937   0.00480488   0.00399553      0.00597695   0.00345989\n",
       " 0.00575041   0.00204713   0.00586715      0.000622133  0.00631988\n",
       " 0.00432907   0.000782908  0.00185801   …  0.00553653   0.00902934\n",
       " 0.00866731   0.00711657   0.00228168      0.00743597   0.00222831\n",
       " 0.00531448   0.00744309   0.0046262       0.00587165   0.00415155\n",
       " 0.00095699   3.59466e-5   0.000448992     0.00333124   0.00623891\n",
       " 0.000527207  0.00683937   0.00255406      0.00171363   0.00909702\n",
       " 0.00136246   0.00215405   0.00298979   …  0.00949604   0.00208164"
      ]
     },
     "metadata": {},
     "output_type": "display_data"
    }
   ],
   "source": [
    "ssnmodel.W"
   ]
  },
  {
   "cell_type": "markdown",
   "id": "42c5d36f",
   "metadata": {},
   "source": [
    "Fill me in"
   ]
  },
  {
   "cell_type": "code",
   "execution_count": 10,
   "id": "bec6a64f",
   "metadata": {},
   "outputs": [
    {
     "data": {
      "text/plain": [
       "784×100 Matrix{Int64}:\n",
       " 0  0  0  0  0  0  0  0  0  0  0  0  0  …  0  0  0  0  0  0  0  0  0  0  0  0\n",
       " 0  0  0  0  0  0  0  0  0  0  0  0  0     0  0  0  0  0  0  0  0  0  0  0  0\n",
       " 0  0  0  0  0  0  0  0  0  0  0  0  0     0  0  0  0  0  0  0  0  0  0  0  0\n",
       " 0  0  0  0  0  0  0  0  0  0  0  0  0     0  0  0  0  0  0  0  0  0  0  0  0\n",
       " 0  0  0  0  0  0  0  0  0  0  0  0  0     0  0  0  0  0  0  0  0  0  0  0  0\n",
       " 0  0  0  0  0  0  0  0  0  0  0  0  0  …  0  0  0  0  0  0  0  0  0  0  0  0\n",
       " 0  0  0  0  0  0  0  0  0  0  0  0  0     0  0  0  0  0  0  0  0  0  0  0  0\n",
       " 1  0  0  0  0  0  0  0  0  0  0  0  0     0  0  0  0  0  0  0  0  0  0  0  0\n",
       " 0  0  0  0  0  0  0  0  0  0  0  0  0     0  0  0  0  0  0  0  0  0  0  0  0\n",
       " 0  0  0  0  0  0  0  0  0  0  0  0  0     0  0  0  0  0  0  0  0  0  0  0  0\n",
       " ⋮              ⋮              ⋮        ⋱        ⋮              ⋮           \n",
       " 0  0  0  0  0  0  0  0  0  0  0  0  0  …  0  0  0  0  0  0  0  0  0  0  0  0\n",
       " 0  0  0  0  0  0  0  0  0  0  0  0  0     0  0  0  0  0  0  0  0  0  0  0  0\n",
       " 1  0  0  0  0  0  0  0  0  0  0  0  0     0  0  0  0  0  0  0  0  0  0  0  0\n",
       " 1  0  0  0  0  0  0  0  0  0  0  0  0     0  0  0  0  0  0  0  0  0  0  0  0\n",
       " 0  0  0  0  0  0  0  0  0  0  0  0  0     0  0  0  0  0  0  0  0  0  0  0  0\n",
       " 0  0  0  0  0  0  0  0  0  0  0  0  0  …  0  0  0  0  0  0  0  0  0  0  0  0\n",
       " 0  0  0  0  0  0  0  0  0  0  0  0  0     0  0  0  0  0  0  0  0  0  0  0  0\n",
       " 0  0  0  0  0  0  0  0  0  0  0  0  0     0  0  0  0  0  0  0  0  0  0  0  0\n",
       " 0  0  0  0  0  0  0  0  0  0  0  0  0     0  0  0  0  0  0  0  0  0  0  0  0"
      ]
     },
     "metadata": {},
     "output_type": "display_data"
    }
   ],
   "source": [
    "Z"
   ]
  },
  {
   "cell_type": "code",
   "execution_count": 18,
   "id": "bb453221",
   "metadata": {},
   "outputs": [],
   "source": [
    "(T,V,s) = solve(ssnmodel, Z, 100, Δ = 3);"
   ]
  },
  {
   "cell_type": "code",
   "execution_count": 12,
   "id": "f1995d1e",
   "metadata": {},
   "outputs": [
    {
     "data": {
      "image/png": "[encoded data removed]",
      "text/html": [
       "<img src=\"data:image/png;base64,iVBORw0KGgoAAAANSUhEUgAAAGQAAAMQCAAAAAD00p/CAAAAAXNSR0IArs4c6QAAAARnQU1BAACxjwv8YQUAAAAgY0hSTQAAeiYAAICEAAD6AAAAgOgAAHUwAADqYAAAOpgAABdwnLpRPAAAGedJREFUeAG8wQty21gQwECgau5/Zewjqa8tO07WYvdwguEEwwmGEwwnGE4wnGCStxt5v+EEwwmGEwwnGE4wnGCStxt5v+EEwwmGEwwnGE4wnGCStxt5v+EEwwmGEwwnGE4wyduNvN8kbzfyfpO83XCC4QQj7zfJ24283yRvN/J+k7zdcILhBCPvN8nbjbzfJG838n6TvN1wguEEI+83yduNvN9wguEEk7zdyPtN8nYj7zfJ2w0nGE4w8n6TvN3I+03yDsndyPtN8nbDe8iD4QQj7zfJ24283yRvN/J+k7zdcILhBCPvN8nbjbzfcILhBJO83cj7TfJ2I+83ydsNJxjeIHky8puSFyb5/5KDXCTJxcj/kkCQvJYwyduN3CR/K16RZ5P8b8ZVciVXw538PXkpHg3/i+zkI3kw8k+SJ3KQFyZJ/pfkI7kSGHm/Sf6F3MkfjCBvNsnbDScYTjDyfpO83cj7DScYTjDJ24283yRvN/J+k7zdyG9IHiRPJvkFckieJMvI/5IsyQdJEktO8gtCHsUmIGHkteTH4lHywSRXybPkD4LkQfLZyI0kkCyySzbJLvkrspmQTXKIG0HI5JXkFbmSjYxAsiTPMgERSBZ5lOzMeCBLcjVJkHwlE3nBQCDZJa+NHIyDXARyI3dJspFnxguTLAKCvCKb5CbZyGIgV3IQuRkBWWSXHEKW5C7ZGB/JE3k0yRcEkiu5E7mTbwiMID+TfEu+MMkTuZBF5IG8IH8y8mPyjyZ5u5H3m+TtRt5vOMEkbzecYOT9Jnm7kfeb5N8lh+RB8mTkF8Q3cpJ/J8mjTDbJErIM/0dykXyUQQLDF5KfSS6STUpykTByFbJLDsmvmORCSCA2skuW5CpJrpJnsSSbODQmCZlsQj4JgUweZGxiSTZyiLsJguSzACHjQQpJBgTEo7gyjGWMz5JdsoSZLGJ8EMZHschhkkM8SmKXyUFINoI8E4idPEiGC2OXgUA8EJKrwMSQQHZxEGKRq+GRPJGdLMbBBJNHxhLGhXEz8pHcZTxIWYydgARyJbIIsjFhEkSQJTkIspODJBtZ5Jks8pnACPIjcSMvyFcm+YbIA/kZeTLySORCPpKX5E8m+SH5V8MJhhOMvN9wgknebjjByPtN8nYj/0PyE5P8guQiIXky8r8kS3yU3E3yW5KDIJtMYHghIfk5S66SJTMOw02YLMkh+RNJbkJ2yWLsRj6KP0iuEpIb4yp2CROSkMgmdvIg5CJ5EhfJB0ksjQUhG9mYbAKSXQKZPIgX4iYOE4bxJEkuMh4kuwxjCVniKrkxGQMCIkkQIwhSIsBkkUV2IcSDSOKBQUwCxi6IZBPGxiQ2QsaSGFdyk4ARG1lsuDDkgfFAHgUhJhuJF0x2Dk8E4yKWQBYTEkwWEZAguTKQj0aWIB7ITpIrE5DFZCOLgYGxyE6SXcAkSCBggiwCspGrZCOfGYsBshNkI4wgiHwkG3kgB/lINvKJwCSvySJ/IshBPpNl5Jl8SV6Sg3xlkgfyNfkxeTKcYDjByPsNJ5jk7YYTjLzfJP8u+YmR95vk38knCQnJzcgnIT+V3CSvTfJS8s/k2XCTJI+SP5FHiTxJYCA5JJv4GyFLsktCNsnFyJIhcpV8I7lKTDbJXRIJAk0QxE4gdkJchSwJyU08ilgy7hIY4xCvJLtkk1wlFwnGg1iM2E1cCSRIEDexSQ7JRVwkVwbEJnbpSIAEIbGRjaXEAwNkF0bsEjA2cRUGMcnOgHgmO8kAAYPADAwC4yKNTZjJbgAjIcB4lISBmBwSCJC7gLAEiQcyxC4wLpIlSEB2SYJhIJISVwbGVSaHMeLCWNLAAAM5WILs5MbEQCAFAUl2AZNkXAQGspFFXpCd7JIHshNkI4wgCAJCyCIIyBNZ5DOJkM8EJgFBNsmV/JQsgnwmy8gz+Yq8InKQr0zyQH6FPBlOMJxg5P2GE0zydiPvN5xgOMHwJskhGT5LftfwQvKrJrlLrhKSP0quktcGMgRCNgHJv0iW5NnILuQufi45RJB80pBALCIQO0n+KDF5lOySqwHiiXGIq5AlIUkOySaBeJDsks1A7BJIDhmb5FFylXxgPEkScDDAWJLYGIuxiSXkkBzCZJNcyS4ROTSAAcYngsSjeJLcCEJCbJJdDB/JYnEIkCwRswzMWCIwOSTJEkuym+QqMtJYDEgwFkuSi0AwFrnLEoK4kDEuYmNcxUEQLFkMA4HE2IQRT0xIYIAg4ipJbuSR7OQgGBi75CDJLmC4MyAWwTBBHshBdrJLFjnIlWyEQTJMMEAQBHlm7OQFM7lK5CAwgCA7M+7kibwkIF+QZdjIjVzIj8hB5CvDhWzkV8iTSd5u5P2GEwwnmOTthhOMvN9wguFNkkMyfJb8roHkg+T/SJ4NS5IsCQRkQvJHyV3yyiSQQMjB+AcZLzUkmwRkF38v2WTy0RhBLEKSsUjIs+QnJDG5Gq5iE4uRAcku5CJJDsmSfM9BFgO5MRaBJLlJkl0mj2SRXSKQbAYywCABuROIgJAP4iDJQUAeJNCAvGQ8CYHYJLtEniVk3BjDlSwmkFxkgGGAmWUEBoSJCQkkGZBkksFkcpVcpRwEwUgeCUYki5GQhSxxIcNVyLOMO2MRwUAgMT4RLEwgYIwgglhCiCVC5IEc5EKwNAQCOZjIRhg+CTDA5IGxSy7kgSyCQPJoMAwwYzETiY9kJx8ICJncyE6WAQQJkY3IRuTPREBS5LUBQZCdXMlfkQfyZDjBJG83nGDk/SZ5u+EEwwlG3m84wfAmySEZSJ4l/0vybDgkV5H8qkkI2SWHTEj+KPmjAdlkQLKJv5YZQrKRm4YMYjGDjF3Is+Qn5IMxDrGJCwOSn5MleZAgDjdyJSWCXCQXSXInD0RkSR4MYphxkLtMYkk2SbLL5E8SaPiKidwkm9gkEFfJTj5JYriSnTyKuAjZRUAsCQnJVUKyJMZmWOTKOAiyGGBsMjOMwFiSZJFNkAEJpJFNciPIIbkSZIkrAxGMAAMyAQtZIpbAYUmWJNkkJK+IgMSSGCQkS2wEC5PDmLEJAkIOYSJXhlzJlYGxCcFYTGQjDARBEBAEYWA8kQ9EFtkYByG5MGAwDDAgMDAIkD8SWQRMbuQgMIDsJAMMxOTnJEVeG3ayERBkI8jPyQN5MiDIhbzDJG83nGDk/YYTTPJ2wwlG3m84wfBZ8r8kkBySgQSS9xmW5JBAQLIk/0IWuRAGhCTjKiH5KwkkJB9NGMQhwYhN/JLhKswC2QUmj5JvxWtjXMiVlPE/JJtMYBDDjA8EuUjuktdkkQexNFzJQR4lYSSbANkFcmfyLLkYNvKZLBEQEMguSB6FfC2GRZCDHOSziF0QVyEbSQgkOUgEwwORDwwzzDAzjMAk40ksAQkhhEzySnIjglyJgQjEkgHJxkIs7oYlyYTkmdwZIgKyy8xAkiU2AoYsBowZu2QJ2WSYyI18KSBCMEiQgzAQEAGxicBA/kBEZGfGRjZyNywGWBAYGATJT5mCfCIwmOwkNsZi8nOykQt5MuxMFkM2gvwV+dqAILKILHIhv2OStxtOMPJ+wwmGE0zydiPvN5xgIHmW/C/Js+GQQLIEJL9oWEISSB4lfydZ5IMBOcSSQELyb5KPJgyCACOlWOKj5GvJCwkMd7JJjAhM/posyYMxdiY3hiHyreSZPEuWBjGMT+QuWWSXbJI/CohhIyKkIQdZQsIgMwOEhEg2yUvJEjAscmPs5CIgiIhdBHEVhCwJyV0chg/kG3ERV/EowpCEuBgeyJVcGGaYYWYYIEvGVwKEgOGlkI0sIogBIkiyiyUhOViChRxsEpJHyZ3ciFzIJgPjECEYi8lBGDMgQ5KQQ8gfCQKxGBfJA4dFICMuwgSS74g8kUU2cjeQxCYIjAzC+DGTlwQG42A8MEF+SDZyIU+GnQlmiLGRvyJfGzYii8giyEZ+x4C82yRvN/J+wwmGE0zydsMJRt5vIHmW/C/Js+EQQggEJEvyKwYkZAlIIPk3ySIfDBCbWCIlIIm/keySjyYEYhGCxISA5FHyJPlMluSQwHCQeBSL8QfJI3mSLDGAySI3giHy/ySbkQtZJFkCeZAssks2CQLJa7EEDA+SC2MXG4PADBASIkg2yZKQXAXEZljkTnbyIAiIWCKInQTEs+SBDX9kbIy72Jg8izAgbmJ4IB9JgIGAmQmB7AIyHgQYi2HAsCQfJQdDZDFABEx2gYEkEUjIQS4mOSQvyZXIhWwyRO4EgzQBAWPIWCJJQg4h3xNkF4uxkUcCYyCEsQRkGEvyPbkwBLmRKxlIYpMERsZi/B25kCeDcbC4k0V+SIwvDTsTDBDjlw0bkY1s5EL+gnxpQK7kSv5a8pVJfod8aTjByPsNJ5jk7YYTjLzfQHKRbJLkFw2HEMgkrpK/k7wyYCBLLAnJ30u+MuyCQAIEJP4sQ15JHkzIYiCbhIzF5J/EowYwwORGNiJPku/JkySBYSMgi8RBPpNnsknuks9GnsmjZJcQQkImkFwlT4wlNsmwyCdyiEUgICB2AQnGTRJ3QRIwPEheCuJBxCbZxYMMSe6GPzI2xiMDYhMPIjZxNzyQm2QjgQRiZiCQCEFgQhKLAWIsFpthSb4ki2xEZCc7Q5CLAEPSjKtJDskm5F8EhmBcCEIxZCyRZFwF8j1BdgGCLLIRQcAYA0kMiCXTWJLvyYXxQB45mERAshiYgPFzBvKKDDcWIJAgi/yQfGfYmWAIGL9sQJCDbORCfsdwkEWu5DdN8jvkS8MJRt5vOMEkbzecYOT9BhJIIExCkn+RvDJcJLvkJvkr8doAgSxBbFJI/izkIrkJeTBkEAQSIEsQJN9JfmQAAwnZJCT/RF5pYpELiUXA5A9kk9wlnw1ykJ0cRCC5CblIniTxWZLJCMgnchEmSUAmJCTJEiSLxLMAWYbvBZEQEBEQECSHuAqSuElw+IkI4y4+STZBWIABAcOD5AMDYxFjZwZmgWFIEIsRxCHZDEuyk5tkJyGxkSUQATFIbiwwJOPB8CzkmYDcyANjMeIgGItZFkuTHJJdsgv5M7mRg2wEuRgylkjikCzJ9+QgGIsc5MIExsAQ4yLBgJDvyZWBPBJEiMEEAhKQQECIn5KvyXAhFsaSKYv8imFngIFg/LIBQQ6ykQv5HcNBFrmSvyZfmuTthhOMvN9wguEEk7zdyPsNJBdhEpL8nQRCdsmjYZMhSyQ3yc8ld8mDAWKTsTMQkj/JkD+bkEgKiUUyCJKfikUOxqMxwFgEKfkpMUheSi4mNoKxMUDA5EnIJwKZIAFJspOrQS5kJxcCmdxlsmRyCIh4EnfJCMgncpVJEhchmwTiSYAsyd3wvSASAiICIoLkhYwl5Gr4lrGJkPgoAcOAWIz4aHiW7JKDGYtgYJgkCYTcWOzMWJLdsCQ3ySMBCVlkJwhCPIhFDAETyASGq2SXHJKNgNzJnbEYG9kZh4AIGp7ETbwkd4IcjEUWQRAwdhNGEkkcUiD5C/KRYBBjSYGxkwQyQr4nN8kzQSQYjIvAJJBF4mdEDOQFc9iZGCBLpizyC2RAkI3JYlzI7xgOsshO/oV8aXhJftNwgknebuT9hhMMJ5jk7YZHmfy75KWR5CIgQ5K/kzxIHg2QGbLETZL8WMhdcpEwLBFkGAdZ4o9CPkqMK4EJzLAQDCGDIPlOsiR/MCaLgCAmOzOeJM9ElgyQhOQquZjYCMaN7CS5iZvkKiFAvjbIhexkY8gmZBeQyS65iAdxkcjVsMhncpNkXMQSEPIoYgkCQq5GniSPDCIBKSAOyYVhJBuD+GD4iQgwAkySgMwwdsZrwwfJJtlJ7GQxYyMgO0GW2BmSJDfDklzEXbIRAllkEdkIEUuyERCMjUCyGyASkl2yixu5kifGhcQmWWQTgdCQbCL5AbkThExALuQQBiETAckSFymW/FwC8kgwiAEkwgDJUEgL+Z58TZDdSGyEWASSjcmPyJdkGRAkkGQxSPmZZBG5SZ4ND+SZ/IRcyWvDQe4E+Sl5Ii8Mv08+GE4wyduNvN9wguEEk7zd8ChD/klCckiuEkbIJCECQpLkL8Sz5G4glniQ7JIfCpJDYtzlsDHIuJBN/FlIyNcMJjBZAgmETIPkQfIsIYHYJCQfCGPsJANMNonxKD6TgAD5KLmYEJCNXMhOMuQmkyUTkCV2yRJXyc0gF/LAkCdxkXxgLBFLEEvcDIs8kJ3cJBkXEUSGCVjcCMQHI8+SBwYRixCfGWYQBvHCAMlVXCRPYmOESRib5DPjyfCVEBBiIztjIyARkAImYJIsxs2whJAkL0ggi+zkWfKJGMluiCXjIvlIrgQ5yCN5ZOxCoOEQJGGQKcYrcmdsZCMfBYQxgbEYIHJIQv7M+CjZmREMhrGJXSCLkXxPkl0CsgkEBNk4Ikhixi4TMPmefCE5mDDciSzGIiD/Ru4Ehs8E+TkBka8NB/lHcicICPJoOMHw6+SjSd5u5P2GEwwnmOTthkdJ8k8SkkMmh4QRMjnEkizJX4gn8WgglhBiE5n8WEiQHBLjLoeNQcaFkBDyKPkoZIlNQPJBMATJEmAgBBgk30lIvmcMYIBkcpMYmVwEyS6TiyCuYhdLsogMO+MqQYjFINnFJrkziasgbuJuMg4CcScfyC4jDslHER8MiyBXciMCIZkcIpYMEcPYGRCfjZDJR7KLTUCSLGZ8YvJKwrAEJI8yZDEIkk3GIhBECBg3hgTGTmDYJckL8iWJC+PGeJQwHGITljwRCFlkJ1+QWJLFIAQa4iI5ZIJxIxeCHGQXJIbcZCwBsQxPxNgIhHwid8aVbOKzYDJjsQwwMNNIfkBek4xlQITkLtmY/IFhQLLEI0EMGbkS5J8li3GQC4HhEwkRkJ+QG1mMD4aDPJAfEuROMJEPhl8h8rXhl8lGHg3/j/zAJG838n7DCYYTDCeY5EnytxJISA6Z3I0syS7kKvm55AsJAySQbIJA/kIsAXETjyZZguRKQj5JPksgIFmS5FEyEod4YixyE58F8SA+ywmIR0bcJHfJLhOIQ4DFo5CdMcaVsaSYiRkku9gkCfHAuAgIYpOQLMOVgPFMrgK5iBvjk3giEy9FXIQkyC52GRvjwlhiMR6NhAHJYvIoAyKWZDGB2MUnxsYA2QxLfGbcBMgm42CGsTF2xl1AshniLiB5IBKvyY2xMXZxkSzDAxMjA4wLCbmTi8R4YjyJbLhJ7gTiSnYiyEGukkWeWexiwDCw5BCQRvKR3MnG+IIZyyCGsREwMBbjR+QqDsYissgkCIjcyU6+FyAbuZJDshgw8okB8hMmm0yujDuB4SA3Igf5KVnEuJK74QTD/yE3shEBkUfDb5BvDScY/h/5geEEwwmGEwwnmORJ8reS5FHyaNgknyQfJN9LPkpghOQi5C9lXMRdckgYdhlyCPkLsclkSTZxkwyHILlLYjG5CJKL5KOAuDBkMWBCYpcsAXGXPEiWOMRG4hAQcpVsxuILxoOQXcYhDhmPMiBjk8OdXBmxyCaB+CSuYjF2xk1iTHzPghAEgcQkY2dcGXeGsRtuBASMuwSCEBKBlIOxMbmKD5IxnhgHY2dsZJNxMPnEjE8aMHbJVcaNxJeMXcqz2AQxgLEYh1gMImWR5E4uktdiExfDRgKSxYiNcSMbEbmQRUheCONqkJ0scpCDfEt2yRMDC8nAhkV28sz4kzQ+kQJBJJxkI8jfE0RANgHyTBg+kY2A/EHykVzIzcivEeRK7obfJBfyaPg/5EeG3yDfGk4wnGA4wXCC4QTDCSaB5H9Ikm8MHySH5IPkryUw8v8kckgukkeTJJBcJC/FSyF3ySJPRjZJQrIkJJsMuUkOIR/FLtkliyGTXCRXCYTxUbLER8kSN7EkmzEJApIlbuIukF3GRcaSxoNMljgMr8iF3MmdLMliLLKTG1kCcgLjs4yNhSECIolABsZGnsQuOTRsjCvjUQJB8hX5TB6N8VlyI3GRGSRgshgP5KXhhcC4Mb4iLxi7WCQGWUzimQGySPJCgiyZXMghDsHwSMBANiYXshERZCPII+NCdpKBDYsgyD9KXhFExOETib8m35jkEwEB+RF5RW6G3yPJKyPvIXfDCYbfIAd5aTjBcILhBMMJhhMMJxhOMMlPJf9m2CT/T/JaAiNfSH4i+UpyGD5ISF6IrwkkXxg+S0g2GXKTHJKrkEfJLmWTDBuBZCNfEkgyXsrkKu6GXUaSQJAsmVzFI7mRK3kkkGyG5EkcjI1xIcgi8leaOBggT2ITJrKTZJMhL8hNHAYhBeMqbtKAkNfkgTwKAmLkJdPYWRwygQRMfmr4jggYyEX8BYlluJGdhGzkQuIgi1wk3xEQafgR2QjIhSCP5Ely4bDIMwH5PcNn8hvkZpK3G04w8ouSK7kbTjD8JnlpOMFwguEEwwmGEwwnGE4wnGCStxv5f5LvJDC8kLyQ/J3kMMnfSDbJV5KPRl5K/lbySjLJR5F8QUiQK3mQILvkZuSn5CB/qeE1eZR8lnwkL03yE8lFskn+RC5GXpCXkk0CIs/kBRGGn5GLuEh+yOEz+UhuBNnIt+Ru+Avyb4YTDCcYTjDJ242833CC4QTDCYYTDCcYTjCcYDjBcILhBJO83XCCkfeb5O1GPkt+1SRvN/J+wz9LfmiStxv+mfzUyGfyu4YTDCcYTjCcYDjBJG83nGDk/YYTDCcYTjCcYDjBcILhBMMJhhNM8nbDCUbeb5K3G3m/Sd5u5P2GE0zydsMJRt5vOMFwguEEwwmGE0zydsMJRt5vOMFwguEEwwmGEwwnGE4wnGA4wSRvN5xg5P2GEwwnGE4wnGA4wSRvN5zgv97ggAYAGAhCGJfg3/Km4mkd9yQgAQlIQAK+cU4CjnsSkIAEJPABgZUJZrIjxSIAAAAASUVORK5C\">"
      ],
      "text/plain": [
       "\u001b[0m\u001b[38;5;232;48;5;232m▀\u001b[38;5;232;48;5;232m▀\u001b[38;5;232;48;5;232m▀\u001b[38;5;232;48;5;232m▀\u001b[38;5;232;48;5;232m▀\u001b[0m\n",
       "\u001b[0m\u001b[38;5;232;48;5;232m▀\u001b[38;5;232;48;5;232m▀\u001b[38;5;232;48;5;232m▀\u001b[38;5;232;48;5;232m▀\u001b[38;5;232;48;5;232m▀\u001b[0m\n",
       "\u001b[0m\u001b[38;5;232;48;5;232m▀\u001b[38;5;233;48;5;234m▀\u001b[38;5;233;48;5;235m▀\u001b[38;5;234;48;5;236m▀\u001b[38;5;232;48;5;232m▀\u001b[0m\n",
       "\u001b[0m\u001b[38;5;233;48;5;233m▀\u001b[38;5;235;48;5;236m▀\u001b[38;5;235;48;5;236m▀\u001b[38;5;236;48;5;236m▀\u001b[38;5;233;48;5;233m▀\u001b[0m\n",
       "\u001b[0m\u001b[38;5;233;48;5;233m▀\u001b[38;5;237;48;5;237m▀\u001b[38;5;235;48;5;235m▀\u001b[38;5;235;48;5;235m▀\u001b[38;5;232;48;5;232m▀\u001b[0m\n",
       "\u001b[0m\u001b[38;5;233;48;5;233m▀\u001b[38;5;237;48;5;236m▀\u001b[38;5;235;48;5;235m▀\u001b[38;5;234;48;5;235m▀\u001b[38;5;232;48;5;232m▀\u001b[0m\n",
       "\u001b[0m\u001b[38;5;233;48;5;233m▀\u001b[38;5;236;48;5;236m▀\u001b[38;5;235;48;5;235m▀\u001b[38;5;235;48;5;235m▀\u001b[38;5;232;48;5;232m▀\u001b[0m\n",
       "\u001b[0m\u001b[38;5;233;48;5;233m▀\u001b[38;5;236;48;5;236m▀\u001b[38;5;235;48;5;236m▀\u001b[38;5;236;48;5;236m▀\u001b[38;5;232;48;5;232m▀\u001b[0m\n",
       "\u001b[0m\u001b[38;5;233;48;5;233m▀\u001b[38;5;236;48;5;237m▀\u001b[38;5;236;48;5;237m▀\u001b[38;5;237;48;5;238m▀\u001b[38;5;232;48;5;233m▀\u001b[0m\n",
       "\u001b[0m\u001b[38;5;233;48;5;233m▀\u001b[38;5;237;48;5;237m▀\u001b[38;5;237;48;5;236m▀\u001b[38;5;238;48;5;238m▀\u001b[38;5;233;48;5;233m▀\u001b[0m\n",
       "\u001b[0m\u001b[38;5;233;48;5;232m▀\u001b[38;5;236;48;5;234m▀\u001b[38;5;235;48;5;233m▀\u001b[38;5;235;48;5;233m▀\u001b[38;5;233;48;5;232m▀\u001b[0m\n",
       "\u001b[0m\u001b[38;5;232;48;5;232m▀\u001b[38;5;232;48;5;232m▀\u001b[38;5;232;48;5;232m▀\u001b[38;5;232;48;5;232m▀\u001b[38;5;232;48;5;232m▀\u001b[0m\n",
       "\u001b[0m\u001b[38;5;232;48;5;232m▀\u001b[38;5;232;48;5;232m▀\u001b[38;5;232;48;5;232m▀\u001b[38;5;232;48;5;232m▀\u001b[38;5;232;48;5;232m▀\u001b[0m\n"
      ]
     },
     "metadata": {},
     "output_type": "display_data"
    }
   ],
   "source": [
    "Gray.(Z)"
   ]
  },
  {
   "cell_type": "markdown",
   "id": "82460051",
   "metadata": {},
   "source": [
    "Fill me in"
   ]
  },
  {
   "cell_type": "code",
   "execution_count": 13,
   "id": "2060538e",
   "metadata": {},
   "outputs": [
    {
     "ename": "UndefVarError",
     "evalue": "UndefVarError: `s` not defined in `Main`\nSuggestion: check for spelling errors or missing imports.",
     "output_type": "error",
     "traceback": [
      "UndefVarError: `s` not defined in `Main`\n",
      "Suggestion: check for spelling errors or missing imports.\n"
     ]
    }
   ],
   "source": [
    "s"
   ]
  },
  {
   "cell_type": "code",
   "execution_count": 14,
   "id": "6eeacbdc",
   "metadata": {},
   "outputs": [
    {
     "ename": "UndefVarError",
     "evalue": "UndefVarError: `s` not defined in `Main`\nSuggestion: check for spelling errors or missing imports.",
     "output_type": "error",
     "traceback": [
      "UndefVarError: `s` not defined in `Main`\n",
      "Suggestion: check for spelling errors or missing imports.\n",
      "\n",
      "Stacktrace:\n",
      " [1] top-level scope\n",
      "   @ ~/Desktop/julia_work/CHEME-5820-SP25/CHEME-5820-Labs-Spring-2025/labs/week-15/L15b/jl_notebook_cell_df34fa98e69747e1a8f8a730347b8e2f_X36sZmlsZQ==.jl:1"
     ]
    }
   ],
   "source": [
    "s[2:end,:]"
   ]
  },
  {
   "cell_type": "markdown",
   "id": "4588116d",
   "metadata": {},
   "source": [
    "## Task 3: Let's build an S5 model \n",
    "Fill me in."
   ]
  },
  {
   "cell_type": "code",
   "execution_count": 15,
   "id": "04b34023",
   "metadata": {},
   "outputs": [],
   "source": [
    "s5model = let\n",
    "\n",
    "    # initialize -\n",
    "    number_of_hidden_states = 2^4; # number of hidden states\n",
    "    number_of_inputs = number_of_neurons; # number of inputs\n",
    "    number_of_outputs = 10; # the number of numbers we want to classify\n",
    "    Δt = 1.0; # we'll use the same time step as before\n",
    "\n",
    "    # build model -\n",
    "    model = build(MyS5Model, (\n",
    "        Δt = Δt, # time step (ms)\n",
    "        number_of_hidden_states = number_of_hidden_states, # number of hidden states\n",
    "        number_of_inputs = number_of_inputs, # number of inputs\n",
    "        number_of_outputs = number_of_outputs, # the number of outputs\n",
    "    ));\n",
    "\n",
    "    model;\n",
    "end;"
   ]
  },
  {
   "cell_type": "code",
   "execution_count": 16,
   "id": "49193190",
   "metadata": {},
   "outputs": [
    {
     "data": {
      "text/plain": [
       "10×16 Matrix{Float64}:\n",
       " 0.0  0.0  0.0  0.0  0.0  0.0  0.0  0.0  …  0.0  0.0  0.0  0.0  0.0  0.0  0.0\n",
       " 0.0  0.0  0.0  0.0  0.0  0.0  0.0  0.0     0.0  0.0  0.0  0.0  0.0  0.0  0.0\n",
       " 0.0  0.0  0.0  0.0  0.0  0.0  0.0  0.0     0.0  0.0  0.0  0.0  0.0  0.0  0.0\n",
       " 0.0  0.0  0.0  0.0  0.0  0.0  0.0  0.0     0.0  0.0  0.0  0.0  0.0  0.0  0.0\n",
       " 0.0  0.0  0.0  0.0  0.0  0.0  0.0  0.0     0.0  0.0  0.0  0.0  0.0  0.0  0.0\n",
       " 0.0  0.0  0.0  0.0  0.0  0.0  0.0  0.0  …  0.0  0.0  0.0  0.0  0.0  0.0  0.0\n",
       " 0.0  0.0  0.0  0.0  0.0  0.0  0.0  0.0     0.0  0.0  0.0  0.0  0.0  0.0  0.0\n",
       " 0.0  0.0  0.0  0.0  0.0  0.0  0.0  0.0     0.0  0.0  0.0  0.0  0.0  0.0  0.0\n",
       " 0.0  0.0  0.0  0.0  0.0  0.0  0.0  0.0     0.0  0.0  0.0  0.0  0.0  0.0  0.0\n",
       " 0.0  0.0  0.0  0.0  0.0  0.0  0.0  0.0     0.0  0.0  0.0  0.0  0.0  0.0  0.0"
      ]
     },
     "metadata": {},
     "output_type": "display_data"
    }
   ],
   "source": [
    "s5model.D̄"
   ]
  },
  {
   "cell_type": "markdown",
   "id": "4312c353",
   "metadata": {},
   "source": [
    "Fill me in"
   ]
  },
  {
   "cell_type": "code",
   "execution_count": null,
   "id": "80a58f8f",
   "metadata": {},
   "outputs": [
    {
     "ename": "UndefVarError",
     "evalue": "UndefVarError: `s` not defined in `Main`\nSuggestion: check for spelling errors or missing imports.",
     "output_type": "error",
     "traceback": [
      "UndefVarError: `s` not defined in `Main`\n",
      "Suggestion: check for spelling errors or missing imports.\n",
      "\n",
      "Stacktrace:\n",
      " [1] top-level scope\n",
      "   @ ~/Desktop/julia_work/CHEME-5820-SP25/CHEME-5820-Labs-Spring-2025/labs/week-15/L15b/jl_notebook_cell_df34fa98e69747e1a8f8a730347b8e2f_X43sZmlsZQ==.jl:1"
     ]
    }
   ],
   "source": [
    "(TS5,HS5,YS5) = solve(s5model,s,10);"
   ]
  },
  {
   "cell_type": "markdown",
   "id": "bbe3108b",
   "metadata": {},
   "source": []
  }
 ],
 "metadata": {
  "kernelspec": {
   "display_name": "Julia 1.11.5",
   "language": "julia",
   "name": "julia-1.11"
  },
  "language_info": {
   "file_extension": ".jl",
   "mimetype": "application/julia",
   "name": "julia",
   "version": "1.11.5"
  }
 },
 "nbformat": 4,
 "nbformat_minor": 5
}
