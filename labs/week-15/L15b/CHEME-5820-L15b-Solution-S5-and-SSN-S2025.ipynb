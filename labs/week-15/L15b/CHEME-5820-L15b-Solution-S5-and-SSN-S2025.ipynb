{
 "cells": [
  {
   "cell_type": "markdown",
   "id": "4b0b40ea-0b0d-4237-b28e-653a016bbe43",
   "metadata": {},
   "source": [
    "# L15b: Combining S5 and Spike Nueral Networks\n",
    "Fill me in.\n",
    "\n",
    "\n",
    "### Tasks\n",
    "Before we start, execute the `Run All Cells` command to check if you (or your neighbor) have any code or setup issues. Code issues, then raise your hands - and let's get those fixed!\n",
    "* __Task 1: Setup, Data, Prerequisites (10 min)__: In this task, we set up the computational environment and then specify a simple text sequence, e.g., a sentence without punctuation. From this sequence, we'll build a vocabulary, an inverse vocabulary, and the training datasets for the CBOW and skip-gram models. \n",
    "* __Task 2: Build and Train a CBOW model instance (20 min)__: In this task, we build and train a Continuous Bag of Words (CBOW) model instance on a sample input sequence. We start by creating a model instance, and then we train this instance for a few epochs, and finally, we see how the model performs.\n",
    "* __Task 3: Build and train a skip-gram model instance (20 min)__: In this task, we will build and train a skip-gram model instance on the sample input sequence we selected above. We start by creating a model instance, then train it for a few epochs and see how it performs.\n",
    "\n",
    "Let's get started!\n",
    "\n",
    "___"
   ]
  },
  {
   "cell_type": "markdown",
   "id": "28e06d22",
   "metadata": {},
   "source": [
    "## Task 1: Setup, Data, Prerequisites\n",
    "We set up the computational environment by including the `Include.jl` file, loading any needed resources, such as sample datasets, and setting up any required constants. \n",
    "* The `Include.jl` file also loads external packages, various functions that we will use in the exercise, and custom types to model the components of our problem. It checks for a `Manifest.toml` file; if it finds one, packages are loaded. Other packages are downloaded and then loaded."
   ]
  },
  {
   "cell_type": "code",
   "execution_count": 1,
   "id": "0f3aa51b",
   "metadata": {},
   "outputs": [],
   "source": [
    "include(\"Include.jl\");"
   ]
  },
  {
   "cell_type": "code",
   "execution_count": 2,
   "id": "17752d75",
   "metadata": {},
   "outputs": [],
   "source": [
    "file_extension(file::String) = file[findlast(==('.'), file)+1:end]; # helper function to get the file extension"
   ]
  },
  {
   "cell_type": "markdown",
   "id": "406bb1c0",
   "metadata": {},
   "source": [
    "### Load the MNIST digits data set\n",
    "In this example, we'll use a Hopfield network to learn a single image pattern from [the MNIST handwritten digits dataset](https://en.wikipedia.org/wiki/MNIST_database). The goal is to train the network to recognize a digit, e.g., \"3\" or \"5\", etc, and then retrieve it from a noisy input.\n",
    "\n",
    "Load a training image dataset that we'll encode into the Hopfield network. We'll save training data in the `training_image_dataset` variable.\n",
    "* _What's in the training dataset_? The `training_image_dataset` will be of type `Vector{Tuple{Vector{Float32}, OneHotVector{UInt32}}}` where the first element is the input data `x.` The second element is the `label,` i.e., whether the image corresponds to `0,....,9`. However, the label is encoded as a `OneHotVector` (see below).\n",
    "* _Hmmm. That's strange_. The `Vector{Tuple{Vector{Float32}, OneHotVector{UInt32}}}` type has a couple of _weird features_. First, notice that the floating point is `Float32`, not the default `Float64`. Next, the labels are [One Hot ecoded](https://en.wikipedia.org/wiki/One-hot). Finally, the input data `x` is a Vector, not a Matrix (even though the original image is a matrix of `Gray` values).\n",
    "\n",
    "However, before we load the training data, let's set some constants, which we use below. The comment next to each constant describes it, its permissible values, units, etc."
   ]
  },
  {
   "cell_type": "code",
   "execution_count": 3,
   "id": "b0deacbc",
   "metadata": {},
   "outputs": [],
   "source": [
    "number_of_training_examples = 30; # how many training examples of *each* number to include from the library\n",
    "number_digit_array = range(0,length=10,step=1) |> collect; # numbers 0 ... 9\n",
    "number_of_rows = 28; # number of rows in the image\n",
    "number_of_cols = 28; # number of cols in the image\n",
    "number_of_pixels = number_of_rows*number_of_cols; # how many pixels do we have in the image?\n",
    "number_of_images_to_memorize = 3; # number of images that we want to encode"
   ]
  },
  {
   "cell_type": "markdown",
   "id": "c3c1c2e2",
   "metadata": {},
   "source": [
    "`Unhide` the code blocks below to see how we construct and populate the `training_image_dataset` variable. First, we load all the images into the `training_image_dictionary::Dict{Int64, Array{Gray{N0f8},3}}`, and then we'll convert these to a vector format below."
   ]
  },
  {
   "cell_type": "code",
   "execution_count": 4,
   "id": "5ec7e35a",
   "metadata": {},
   "outputs": [],
   "source": [
    "training_image_dictionary = let\n",
    "    training_image_dictionary = Dict{Int64, Array{Gray{N0f8},3}}();\n",
    "    for i ∈ number_digit_array\n",
    "        \n",
    "        # create a set for this digit -\n",
    "        image_digit_array = Array{Gray{N0f8},3}(undef, number_of_rows, number_of_cols, number_of_training_examples);\n",
    "        files = readdir(joinpath(_PATH_TO_IMAGES,\"$(i)\")); \n",
    "        imagecount = 1;\n",
    "        for fileindex ∈ 1:number_of_training_examples\n",
    "            filename = files[fileindex];\n",
    "            ext = file_extension(filename)\n",
    "            if (ext == \"jpg\")\n",
    "                image_digit_array[:,:,fileindex] = joinpath(_PATH_TO_IMAGES, \"$(i)\", filename) |> x-> FileIO.load(x);\n",
    "                imagecount += 1\n",
    "            end\n",
    "        end\n",
    "    \n",
    "        # capture -\n",
    "        training_image_dictionary[i] = image_digit_array\n",
    "    end\n",
    "    training_image_dictionary\n",
    "end;"
   ]
  },
  {
   "cell_type": "markdown",
   "id": "837fc8eb",
   "metadata": {},
   "source": [
    "Next, we take the images in array format and vectorize them. \n",
    "* _What do we mean by vectorize_? Each $N\\times{N}$ image array containing the grayscale values at each pixel is converted to an $N^{2}$ vector of values. What image class, i.e., what number it represents, is then converted to [one-hot format](https://en.wikipedia.org/wiki/One-hot). The converted data is stored in the `training_image_dataset::Vector{Tuple{Vector{Float32}, OneHotVector{UInt32}}}` variable.\n",
    "* _What's the deal with Float32_? Most neural network libraries (or other machine learning calculations) use `Float32` (or lower) to save memory because of the large number of parameters associated with the network. Additionally, model training is often carried out using specialized hardware [such as Graphical Processing Units (GPUs)](https://www.nvidia.com/en-us/data-center/h100/), which has different memory constraints."
   ]
  },
  {
   "cell_type": "code",
   "execution_count": 5,
   "id": "a2b79705",
   "metadata": {},
   "outputs": [],
   "source": [
    "training_image_dataset = let\n",
    "    training_image_dataset = Vector{Tuple{Vector{Float32}, OneHotVector{UInt32}}}()\n",
    "    for i ∈ number_digit_array\n",
    "        Y = onehot(i, number_digit_array);\n",
    "        X = training_image_dictionary[i];\n",
    "        \n",
    "        for t ∈ 1:number_of_training_examples\n",
    "            D = Array{Float32,1}(undef, number_of_pixels);\n",
    "            linearindex = 1;\n",
    "            for row ∈ 1:number_of_rows\n",
    "                for col ∈ 1:number_of_cols\n",
    "                    D[linearindex] = X[row,col,t] |> x-> convert(Float32,x);\n",
    "                    linearindex+=1;\n",
    "                end\n",
    "            end\n",
    "    \n",
    "            training_tuple = (D,Y);\n",
    "            push!(training_image_dataset,training_tuple);\n",
    "        end\n",
    "    end\n",
    "    training_image_dataset\n",
    "end;"
   ]
  },
  {
   "cell_type": "markdown",
   "id": "d745b933",
   "metadata": {},
   "source": [
    "## Task 2: What is a Spiking Neural Network?\n",
    "Fill me in."
   ]
  },
  {
   "cell_type": "code",
   "execution_count": null,
   "id": "5b4ab1c3",
   "metadata": {},
   "outputs": [],
   "source": [
    "number_of_samples = length(training_image_dataset); # how many samples do we have?\n",
    "number_of_neurons = 2^8; # how many SSN neurons do we want?\n",
    "number_of_inputs = number_of_pixels; # how many inputs do we have?\n",
    "ν = 0.1; # Table 2: firing threshold https://arxiv.org/abs/2205.11276\n",
    "τ = 20.0; # Table 2: time constant (ms) https://arxiv.org/abs/2205.11276\n",
    "Δt = 1.0; # samping time step (ms)\n",
    "T = 100; # number of time steps of length Δt (ms) to simulate"
   ]
  },
  {
   "cell_type": "markdown",
   "id": "26ad0a92",
   "metadata": {},
   "source": [
    "Fill me in"
   ]
  },
  {
   "cell_type": "code",
   "execution_count": 7,
   "id": "7b4d4973",
   "metadata": {},
   "outputs": [
    {
     "data": {
      "text/plain": [
       "784×100 Matrix{Int64}:\n",
       " 0  0  0  0  0  0  0  0  0  0  0  0  0  …  0  0  0  0  0  0  0  0  0  0  0  0\n",
       " 0  0  0  0  0  0  0  0  0  0  0  0  0     0  0  0  0  0  0  0  0  0  0  0  0\n",
       " 0  0  0  0  0  0  0  0  0  0  0  0  0     0  0  0  0  0  0  0  0  0  0  0  0\n",
       " 0  0  0  0  0  0  0  0  0  0  0  0  0     0  0  0  0  0  0  0  0  0  0  0  0\n",
       " 0  0  0  0  0  0  0  0  0  0  0  0  0     0  0  0  0  0  0  0  0  0  0  0  0\n",
       " 0  0  0  0  0  0  0  0  0  0  0  0  0  …  0  0  0  0  0  0  0  0  0  0  0  0\n",
       " 0  0  0  0  0  0  0  0  0  0  0  0  0     0  0  0  0  0  0  0  0  0  0  0  0\n",
       " 0  0  0  0  0  0  0  0  0  0  0  0  0     0  0  0  0  0  0  0  0  0  0  0  0\n",
       " 0  0  0  0  0  0  0  0  0  0  0  0  0     0  0  0  0  0  0  0  0  0  0  0  0\n",
       " 0  0  0  0  0  0  0  0  0  0  0  0  0     0  0  0  0  0  0  0  0  0  0  0  0\n",
       " ⋮              ⋮              ⋮        ⋱        ⋮              ⋮           \n",
       " 0  0  0  0  0  0  0  0  0  0  0  0  0  …  0  0  0  0  0  0  0  0  0  0  0  0\n",
       " 0  0  0  0  0  0  0  0  0  0  0  0  0     0  0  0  0  0  0  0  0  0  0  0  0\n",
       " 0  0  0  0  0  0  0  0  0  0  0  0  0     0  0  0  0  0  0  0  0  0  0  0  0\n",
       " 0  0  0  0  0  0  0  0  0  0  0  0  0     0  0  0  0  0  0  0  0  0  0  0  0\n",
       " 0  0  0  0  0  0  0  0  0  0  0  0  0     0  0  0  0  0  0  0  0  0  0  0  0\n",
       " 0  0  0  0  0  0  0  0  0  0  0  0  0  …  0  0  0  0  0  0  0  0  0  0  0  0\n",
       " 1  0  0  0  0  0  0  0  0  0  0  0  0     0  0  0  0  0  0  0  0  0  0  0  0\n",
       " 0  0  0  0  0  0  0  0  0  0  0  0  0     0  0  0  0  0  0  0  0  0  0  0  0\n",
       " 0  0  0  0  0  0  0  0  0  0  0  0  0     0  0  0  0  0  0  0  0  0  0  0  0"
      ]
     },
     "metadata": {},
     "output_type": "display_data"
    }
   ],
   "source": [
    "Z = let\n",
    "\n",
    "    # initialize -\n",
    "    Z = Array{Int64,2}(undef, number_of_inputs, T);\n",
    "\n",
    "    for i ∈ 1:T\n",
    "        z = training_image_dataset[i][1] |> x-> round.(Int, x);\n",
    "        Z[:,i] = z;\n",
    "    end\n",
    "    Z \n",
    "end"
   ]
  },
  {
   "cell_type": "markdown",
   "id": "cb209bcd",
   "metadata": {},
   "source": [
    "Fill me in"
   ]
  },
  {
   "cell_type": "code",
   "execution_count": 8,
   "id": "ba726710",
   "metadata": {},
   "outputs": [],
   "source": [
    "model = let\n",
    "\n",
    "    # build model -\n",
    "    model = build(MyLIFSpikingNeuralNetworkModel, (\n",
    "        Δt = Δt, # time step (ms)\n",
    "        τ = τ, # time constant (ms)\n",
    "        ν = ν, # firing threshold\n",
    "        number_of_nodes = number_of_neurons, # number of neurons\n",
    "        number_of_inputs = number_of_inputs, # number of inputs\n",
    "    ));\n",
    "\n",
    "    model;\n",
    "end;"
   ]
  },
  {
   "cell_type": "code",
   "execution_count": 9,
   "id": "1b8f5f1e",
   "metadata": {},
   "outputs": [
    {
     "data": {
      "text/plain": [
       "64×784 Matrix{Float64}:\n",
       " 0.00361535   0.00972073   0.0091657    …  0.00664079   0.00710653\n",
       " 0.00183639   0.00970271   0.00860735      0.00280008   0.00322316\n",
       " 0.00682516   0.00312375   0.00551616      0.000494165  0.00280025\n",
       " 0.001035     0.0062282    0.0074281       0.00797504   0.000775221\n",
       " 0.00228541   0.00215781   0.00490865      0.00561554   0.00016104\n",
       " 0.00742148   0.00621016   0.00539178   …  0.00549504   0.0039942\n",
       " 0.00742953   0.0062561    0.00997749      0.00307544   0.00759337\n",
       " 0.00413537   0.00563192   0.00460335      0.00225946   0.00555944\n",
       " 0.0057559    0.00713928   0.00971752      0.00970587   0.00987443\n",
       " 0.00962018   0.00372236   0.000408653     0.000645434  0.00446188\n",
       " ⋮                                      ⋱               \n",
       " 0.00987817   0.00319892   0.00529447   …  0.00902865   0.000816405\n",
       " 0.00410585   0.00582805   0.00531738      0.00799149   0.00888511\n",
       " 0.00293393   0.00349514   0.00491588      0.00682093   0.00692745\n",
       " 0.00303201   0.00118353   0.00846758      0.00105187   0.00146436\n",
       " 0.00470074   0.00916877   0.00759414      0.0076892    0.00715239\n",
       " 0.00442814   0.00184289   0.00264287   …  0.00720087   0.00978937\n",
       " 0.00107196   0.000651536  0.00405411      0.000403225  0.001591\n",
       " 0.00854293   0.00239876   0.00935597      0.00101576   0.00877233\n",
       " 0.000822137  0.00222829   0.00506989      0.00388827   0.00348232"
      ]
     },
     "metadata": {},
     "output_type": "display_data"
    }
   ],
   "source": [
    "model.W"
   ]
  },
  {
   "cell_type": "markdown",
   "id": "42c5d36f",
   "metadata": {},
   "source": [
    "Fill me in"
   ]
  },
  {
   "cell_type": "code",
   "execution_count": 10,
   "id": "bec6a64f",
   "metadata": {},
   "outputs": [
    {
     "data": {
      "text/plain": [
       "784×100 Matrix{Int64}:\n",
       " 0  0  0  0  0  0  0  0  0  0  0  0  0  …  0  0  0  0  0  0  0  0  0  0  0  0\n",
       " 0  0  0  0  0  0  0  0  0  0  0  0  0     0  0  0  0  0  0  0  0  0  0  0  0\n",
       " 0  0  0  0  0  0  0  0  0  0  0  0  0     0  0  0  0  0  0  0  0  0  0  0  0\n",
       " 0  0  0  0  0  0  0  0  0  0  0  0  0     0  0  0  0  0  0  0  0  0  0  0  0\n",
       " 0  0  0  0  0  0  0  0  0  0  0  0  0     0  0  0  0  0  0  0  0  0  0  0  0\n",
       " 0  0  0  0  0  0  0  0  0  0  0  0  0  …  0  0  0  0  0  0  0  0  0  0  0  0\n",
       " 0  0  0  0  0  0  0  0  0  0  0  0  0     0  0  0  0  0  0  0  0  0  0  0  0\n",
       " 0  0  0  0  0  0  0  0  0  0  0  0  0     0  0  0  0  0  0  0  0  0  0  0  0\n",
       " 0  0  0  0  0  0  0  0  0  0  0  0  0     0  0  0  0  0  0  0  0  0  0  0  0\n",
       " 0  0  0  0  0  0  0  0  0  0  0  0  0     0  0  0  0  0  0  0  0  0  0  0  0\n",
       " ⋮              ⋮              ⋮        ⋱        ⋮              ⋮           \n",
       " 0  0  0  0  0  0  0  0  0  0  0  0  0  …  0  0  0  0  0  0  0  0  0  0  0  0\n",
       " 0  0  0  0  0  0  0  0  0  0  0  0  0     0  0  0  0  0  0  0  0  0  0  0  0\n",
       " 0  0  0  0  0  0  0  0  0  0  0  0  0     0  0  0  0  0  0  0  0  0  0  0  0\n",
       " 0  0  0  0  0  0  0  0  0  0  0  0  0     0  0  0  0  0  0  0  0  0  0  0  0\n",
       " 0  0  0  0  0  0  0  0  0  0  0  0  0     0  0  0  0  0  0  0  0  0  0  0  0\n",
       " 0  0  0  0  0  0  0  0  0  0  0  0  0  …  0  0  0  0  0  0  0  0  0  0  0  0\n",
       " 1  0  0  0  0  0  0  0  0  0  0  0  0     0  0  0  0  0  0  0  0  0  0  0  0\n",
       " 0  0  0  0  0  0  0  0  0  0  0  0  0     0  0  0  0  0  0  0  0  0  0  0  0\n",
       " 0  0  0  0  0  0  0  0  0  0  0  0  0     0  0  0  0  0  0  0  0  0  0  0  0"
      ]
     },
     "metadata": {},
     "output_type": "display_data"
    }
   ],
   "source": [
    "Z"
   ]
  },
  {
   "cell_type": "code",
   "execution_count": 11,
   "id": "bb453221",
   "metadata": {},
   "outputs": [],
   "source": [
    "(T,V,s) = model(Z, 100, Δ = 3);"
   ]
  },
  {
   "cell_type": "code",
   "execution_count": 17,
   "id": "f1995d1e",
   "metadata": {},
   "outputs": [
    {
     "data": {
      "image/png": "[encoded data removed]",
      "text/html": [
       "<img src=\"data:image/png;base64,iVBORw0KGgoAAAANSUhEUgAAAGQAAAMQCAAAAAD00p/CAAAAAXNSR0IArs4c6QAAAARnQU1BAACxjwv8YQUAAAAgY0hSTQAAeiYAAICEAAD6AAAAgOgAAHUwAADqYAAAOpgAABdwnLpRPAAAGYhJREFUeAG9wQtS3FgQAMGqiL7/lWufpPkzYLwGZQ4nGE4wnGA4wXCC4QTDCYYTDCcYTjCcYDjBcIJJft3I7xtOMJxgOMFwguEEwwmGEwwnGE4wnGA4wXCC4QTDCYYTDCcYTjCcYDjBcILhBMMJhhMMJxhOMJxgkl838vuGEwwnGE4wnGA4wXCC4QTDCYYTDCcYTjCcYDjBcILhBMMJhhMMJxhOMJxgOMFwguEEwwmGEwy/I7mb5NeN/L7hd8iD4QTDCYYTDCcYTjCcYDjBcILhBMMJhhMMJxhOMJxgOMFwguEEwwmGEwwnGH5B8mT4Uckbw09IDnKRJBfDv0kgSN5LGE4wyVXyt+IdeTby74yr5Equhjv5e/JWPBr+iezklTwY/p/kiRzkjQGSf5K8kiuB4QTD/yN38gcDyC8bTjCcYDjBcILhBMMJhhMMJxhOMJxgOMFwguEEw49IHiRPhh8hh+RJsgz/JlmSF0kSSw4/IuRRbAIShk8k3xaPkhfDXfIs+YMgeZB8NNxJAskiu2ST7JK/Ipsh2SSHuBGETN5J3pEr2cggJEvyLBMQgWSRR8nOjAeyJFcDBMlnMpE3DASSXfLecGEc5CKQG7lLko08M96YZBEQ5B3ZJDfJRhYDuZKDyM0IyCK75BCyJHfJxnglT+TR8CmB5EruRO7kCwIDyPckX5JPDC/kQhaRB/KG/MnwffI/DScYTjCcYDjBcILhBMMJhhMMJxhOMPyL5JA8SJ4MPyG+kMO/kORRJptkCVmGf5FcJK8ySGD4RPI9yUWySUkuEoabkF1ySH7EcCMkEBvZJUtylSRXybNYkk0cGpKETDYhH4RAJg8yNrEkGznE3QBB8lGAkPEghSQDAuJRXBnGMryT7JIlzGQR40UYr2KRwyCHeJTELpODkGwEeSYQO3mQDBfGLgOBeCAkV4GJIYHs4iDEIleT3MkT2cliHEwweWQsYVwYNyOv5C7jQcpi7AQkkCuRRZCNCcMigizJQZCdHCTZyCLPZJGPBAaQb4kbeUM+M3xJ5IF8jzwZnohcyCt5S/5k+Db5v4YTDCcYTjCcYDjBcILhBMMJhn+RfMfwI5KLhOTJ8G+SJV4ld8PPSQ6CbDKB4Y2E5PssuUqWzDgMN2GyJIfkTyS5Cdkli7EbPog/SK4SkhvjKnYJQ5KQyCZ28iDkInkSF8mLJJYGgpCNbEw2AckugUwexBtxE4cBw3iSJBcZD5JdhrGELHGV3JgMm4BIEsQIgpQIMFlkkV0I8SCSeGAQg4CxCyLZhLExiY2QsSTGldwkYMRGFhsuDHlgPJBHQYjJRuINk52TPBCMi1gCWUxIMFlEQILkykBejSxBPJCdJFcmIIvJRhYDA2ORnSS7gGGRQMAEWQRkI1fJRj4yFgNkJ8hGGEAQeSUbeSAHeSUb+UBg+Iws8ieCHOQjWYYX8il5Sw7ymeGJfE6+TZ4MJxhOMJxgOMFwguEEwwmGf5F8x3CC4V/IBwkJyc3wUch3JTfJe8Mnkv9Nng03SfIo+RN5lMiTBAaSQ7KJvxGyJLskZJNcDJsMkavkC8lVYrJJ7pJIEGiIIHYCsRPiKmRJSG7iUcSScZfAcBXvJLtkk1wlFwnGg1iM2A03AgkSxE1skkNyERfJlQGxiV06GCBBSGxkYynxwADZhRG7BIxNXIVBDBcGxDPZSQYIGARmYBAYF2lswkx2AxgJAcajJAzE5JBAgNwFhCVIPJCJQ2BcJEuQgOySBMNAJCWuDIyrTA5jxIWxpIEBBnKwBNnJjYmBQAoCkuwCBsm4CAxkI4u8ITvZJQ9kJ8hGGEAQBISQRRCQJ7LIRxIhHwkMG0E2yZV8lyyCfCTL8EI+I++IHOQzwxP5EfJkOMFwguEEwwmGEwwnGE4wnGCSX5EckpEPkp81vJH8qOFRcpWQ/FFylbw3kCEQsglI/o9kSZ4Nh5C7+L7kEEHyQUMCsYhA7CT5o8TkUbJLrgaIJ8YhrkKWhCQ5JJsE4kGySzYDsUsgOWRskkfJVfLCeJIk4GCAsSSxMRZjE0vIITmEySa5kl0icmgAA4wPBIlH8SS5EYSE2CS7GF7JYnEIkCwRswzMWCIwOSTJEkuyG+4iI43FgARjsSS5CARjkbssIYgLGeIiNsZVHATBksUwEEiMTRjxxIQEBggirpLkRh7JTg6CgbFLDpLsAoY7A2IRDBPkgRxkJ7tkkYNcyUYYJMMEAwRBkGfGTt4wk6tEDgIDCLIz406eyFsC8glZJgG5kQv5FjmIfGbkIBv5EfJkOMFwguEEwwmGEwwnGE4wnGCSX5EckpEPkp81kLxI/kXybFiSZEkgIBOSP0rukneGTQIhB+N/yHirIdkkILv4e8kmk1cDBLEIScYiIc+S75DE5Gq4ik0sRgYku5CLJDkkS/I1B1kM5MZYBJLkJkl2mTySRXaJQLIZyACDBOROIAJCXsRBkoOAPEigAXnLeBICsUl2iTxLyLgxhitZTCC5yADDADPLCAwIExMSSDIgySSDgeQquUo5CIKRPBKMSBYjIQtZ4kKGq5BnGXfGIoKBQGJ8IFiYQMAQQQSxhBBLhMgDOciFYGkIBHIwkY0wfBBggMkDY5dcyANZBIHk0WAYYMZiJhKvZCcvBIRMbmQnywCChMhGZCPyZyIgKfLepCDITq7kr8gDeTLy+4YTDCcYTjCcYDjBcILhBMMJJvkVySEZSZ4l/yR5NhySq0h+1LCE7JJDJiR/lPzRgGwyINnEX8sMIdnITUMGsZhBxi7kWfId8mK4ik1cGJB8nyzJgwRxuJErKRHkIrlIkjt5ICJL8mAQw4yD3GUSS7JJkl0mf5JAw2dM5CbZxCaBuEp28kESw5Xs5FHERcguAmJJSEiuEpIlMTbDIlfGQZDFAGOTmWEExpIki2yCDEggjWx4IMghuRJkiSsDEYwAAzIBC1kilsBhSZYk2SQk74iAxJIYJCRLbAQLk8OQsQkCQg5hIleGXMmVgbEJwVhMZCMMBEEQEARhYDyRFyKLbIyDkFwYMBgGGBAYGATIH4ksAiY3chAYQHaSAQZi8n2SIu9NsshGQJCNIN8nD+TJiCAX8huGEwwnGE4wnGA4wXCC4QTDCSZ5lfyTBJJDMpJA8nuGJTkkEJAsyf8hi1wIA0KScZWQ/JUEEpJXQwZxSDBiEz9kuAqzQHaByaPkS/HecCNXUsY/SDaZwCCGGS8EuUjukvdkkQexNFzJQR4lYSSbANkFcmfyLLkYNvKRLBEQEMguSB6FfC6GRZCDHOSjiF0QVyEbSQgkOUgEwwORF4YZZpgZRmCS8SSWgIQQQob3khsR5EoMRCCWDEg2FmJxNyxJJiTP5M4QEZBdZgaSLLERMGQxYMjYJUvIJsNEbuRTARGCQYIchIGACIhNBAbyByIiOzM2spG7YTHAgsDAIEi+yxTkA4HBZCexMRaT75ONXMiTSRaTxZCNIH9FPjciiCwii1zIzxhOMJxgOMFwguEEwwmGEwwnGEieJf8keTYcEkiWgOQHDUtIAsmj5O8ki7wYkEMsCSQk/0/yasggCDBSiiVeJZ9L3khg4kY2iRGByV+TJXkwxs7kxjBEvpQ8k2fJ0iCG8YHcJYvskk3yRwExbESENOQgS0gYZGaAkBDJJnkrWQKGRW6MnVwEBBGxiyCugpAlIbmLw/BCvhAXcRWPIgxJiIvhgVzJhWGGGWaGAbJkfCZACBjeCtnIIoIYIIIku1gSkoMlWMjBhiV5lNzJjciFbDIwDhGCsZgchCEDMiQJOYT8kSAQi3GRPHBYBDLiIkwg+YrIE1lkI3cDSWyCwMggjG8zeUtgMA7GAxPkm2QjF/Jk2Jlghhgb+SvyuWEjsogsgmzkZwzIbxtOMJxgOMFwguEEwwmGEwwkz5J/kjwbDiGEQECyJD9iQEKWgASS/ydZ5MUAsYklUgKS+BvJLnk1JBCLECQmBCSPkifJR7IkhwQmdhKPYjH+IHkkT5IlxjBZ5EYwRP5NshnkIIskSyAPkkV2ySZBIHkvloDhQXJh7GJjEJgBQkIEySZZEpKrgNgMi9zJTh4EARFLBLGTgHiWPLDhj4yNcRcbk2cRBsRNDA/klQQYCJiZEMguIONBgLEYBgxL8io5GCKLASJgsgsMJIlAQg5yMVwlb8mVyIVsMkTuBIM0AQFjyFgiSUIOIV8TZBeLsZFHAsMihLEEZBhL8jW5MAS5kSsZSGKTBEbGYvwduZAng3GwuJNFvkmMTw07EwwQ44cNG5GNbORC/oJ8akCu5Er+WvKZ4afIp4YTDCcYTjCcYDjBcIKB5CLZJMkPGg4hkElcJX8neWfAQJZYEpK/l3xm2AWBBAhI/FmGvJM8GJLFQDYJGYvJ/xKPmsAAkxvZiDxJviZPkgTGAAFZJA7ykTyTTXKXfDTIE3mU7BJCSMgEkqvkibHEJhkW+UAOsQgEBMQuIMG4SeIuSAKGB8lbQTyI2CS7eJAhyd3wR8bGeGRAbOJBxCbuhgdyk2wkkEDMDAQSIQhMSGIxQIzFYjMsyadkkY2I7GRnCHIRYEiacTVcJZuQ/yMwBONCEIohY4kk4yqQrwmyCxBkkY0IAsawSGJALJnGknxNLowH8sjBJAKSxcAEjO8zkHdkuLEAgQRZ5JvkK8POBEPA+GEDghxkIxfyM4aDLHIlP2n4KfKp4QTDCYYTDCcYTjCcYCCBBMIkJPk/kneGi2SX3CR/Jd4bIJAliE0KyZ+FXCQ3IQ+GDIJAAmQJguQrybcMYCAhm4Tkf5F3mljkQmIRMPkD2SR3yUcjF7KTgwgkNyEXyZMkPkoyGRb5QC7CJAnIhIQkWYJkkXgWIMvwtSASAiICAoLkEFdBEjcJDt8RYdzFB8kmCAswIGB4kLwwMBYxdmZgFhiGBLEYQRySzbAkO7lJdhISG1kCERCD5MYCQzIeDM9CngnIjTwwFiMOgrGYZbE0XCW7ZBfyZ3IjB9kIcjFkLJHEIVmSr8lBMBY5yIUJDIshxkWCASFfkysDeSSIEIMJBCQggYAQ3yWfk+FCLIwlUxb5EcPOAAPB+GEDghxkIxfyM4aDLHIlf00+NZxgOMFwguEEwwmGEwwnGEguwiQk+TsJhOySR8MmQ5ZIbpLvS+6SBwPEJmNnICR/kiF/NiSRFBKLZBAk3xWLHIxHw8ZYBCn5LjFI3kouhp1gbAwQMHkS8oFAJkhAkuzkapAL2cmFQCZ3mSyZHAIinsRdMizygVxlksRFyCaBeBIgS3I3fC2IhICIgIggeSNjCbkavmRsIiReJWAYEIsRryZ5lOySgxmLYGCYJAmE3FjszFiS3QgkN8kjAQlZZCcIQjyIRQwBE8gEhqtklxySjYDcyZ2xGBvZGYeACBqexE28JXeCHIxFFkEQMHZDRhJJHFIg+QvySjCIgaTA2EkCGSFfk5vkmSASDMZFYBLIIvE9IgbyhjnsTAyQJVMW+QEyIMjGZDEu5GcMB1lkJ/+HfGp4S37ScILhBJP8upHfN5xgOMHwKJP/L3lrILkIyJDk7yQPkkcDZIYscZMk3xZyl1wkDEsEGcZBlvijkFeJcSUwhBkWgiFkECRfSZbkDwZkERDEZGfGk+SZyJIBkpBcJRfDTjBuZCfJTdwkVwkB8rlBLmQnG0M2IbuATHbJRTyIi0SuhkU+kpsk4yKWgJBHEUsQEHI1PEseGUQCUkAckgvDSDYG8WL4jggwAkySgMwwdsZ7kzxJNslOYieLGRsB2QmyxM6QJLkZgeQi7pKNEMgii8hGiFiSjYBgbASS3QCRkOySXdzIlTwxLiQ2ySKbCISGZBPJN8idIGQCciGHMAgZCEiWuEix5PsSkEeCQQwgEQZIhkJayNfkc4LsBmMjxCKQbEy+RT4ly4AggSSLQcr3JIvITfJseCDP5DvkSt4bDnInyHfJE3lj+HnyYjjBcIJJft3I7xtOMJxgeJQh/0tCckiuEgbIJCECQpLkL8Sz5G4glniQ7JJvCpJDYtzlsDHIuJBN/FlIyOcMhjBZAgmETIPkQfIsIYHYJCQvhOFCMsBkkxiP4iMJCJBXycWAgGzkQnaSITeZLJmALLFLlrhKbga5kAeGPImL5IWxRCxBLHEzLPJAdnKTZFxEEBkmYHEjEC+GF8kDg4hFiI8MMwiDeGOA5CoukiexMcIkjE3ykfFkkvdCQIiN7IyNgERACpiASbIYNyMQQpK8IYEsspNnyQdiJLshloyL5JVcCXKQR/LI2IVAwyFIwiBTjHfkztjIRl4FhDGAsRggckhC/sx4lezMCAbD2MQukMVIvibJLgHZBAKCbBwQJDFjlwmYfE0+kRxMGO5EFmMRkP9H7gSGjwT5PgGRzw0H+Z/kThAQ5NFwguHHyavhBMMJhhMMJxhOMDxKkv8lITlkckgYIJNDLMmS/IV4Eo8GYgkhNpHJt4UEySEx7nLYGGRcCAkhj5JXIUtsApIXwRAkS4CBEGCQfCUh+ZoxgAGSyU1iZHIRJLtMLoK4il0sySIy7IyrBCEWg2QXm+TOJK6CuIm7wTgIxJ28kF1GHJJXES+GRZAruRGBkEwOEUuGiGHsDIiPBsjklexiE5AkixkfmLyTMCwByaMMWQyCZJOxCAQRAsaNIYGxE5hkSZI35FMSF8aN8ShhZBebsOSJQMgiO/mExJIsBiHQEBfJIROMG7kQ5CC7IDHkJmMJiGV4IsZGIOQDuTOuZBMfBYMZi2WAgZlG8g3ynmQsAyIkd8nG5A8MA5IlHgliyHAjyP+WLMZBLgSGDyREQL5DbmQxXgwHeSDfJMidYCIvhh8h8rnhh8lGHg3/Rr5hOMFwguEEk/y6kd83vEj+VgIJySGTu2GT7EKuku9LPpEwQALJJgjkL8QSEDfxaNgFyZWEfJB8lEBAsiTJo2QgDvHEWOQmPgriQXyUQxCPjLhJ7pJdJhCHAItHITtjuDOWFDMxg2QXmyQhHhgXAUFsEpJluBIwnslVIBdxY3wQT2R4L+IiJEF2scvYGBfGEovxaDAMSBaTRxkQsSSLCcQuPjA2BshmWOIj4yZANhkHM4yNsTPuApLNEHcByQOReE9ujI2xi4tkGR6YGBlgXEjInVwkxhPjSWTDTXInEFeyE0EOcpUs8sxiFwOGgSWHgDSSV3InG+MTZiyDGMZGwMBYjG+RqzgYi8gikyAgcic7+VqAbORKDsliwMgHBsh3mGwyuTLuBIaD3Igc5LtkEeNK7oYTDP9CbmQjAiKPhp8gXxpOMPwb+YbhBMMJJvl1I79veJH8rSR5lDwaNskHyYvka8mrBAZILkL+UsZF3CWHhGGXIYeQvxCbTJZkEzfJcAiSuyQWk4sguUheBcSFIYsBQxK7ZAmIu+RBssQhNhKHgJCrZDMQnzAehOwyDnHIeJQBGZsc7uTKiEU2CcQHcRWLsTNuEmP4AwtCEAQSk4ydcWXcGcZuuBEQMO4SCEJIBFIOxsbkKl4kwwvjYOyMjWwyDiYfmPFBA8Yuucq4kfiUsUt5FpsgBjAW4xCLQaQsktzJRfJebOJi2EhAshixMW5kIyIXsgjJG2FcDbKTRQ5ykC/JLnliYCEZ2LDITp4Zf5LGB1IgiISTbAT5e4IIyCZAngkjr2QjIH+QvJILuRl+jiBXcjf8JLmQR8O/kG8ZfoJ8aTjBcILhBMMJJvl1I79v2CT/IEm+MLxIDsmL5K8lMPyjRA7JRfJogASSi+SteCvkLlnkybBLEpIlIdlkyE1yCHkVu2SXLIYMN8lVAmG8SpZ4lSxxE0uyGZIgIFniJu4C2WVcZCxpPMhkicPwjlzIndzJkizGIju5kSUgBzA+ythYGCIgkghkYGzkSeySQ8PGuDIeJRAkn5GP5NHwTnIjcZEZJGCyGA/kreGNwLgxPiNvGLtYJAZZTOKZAbJI8kaCLJlcyCEOwfBIwEA2JheyERFkI8gj40J2koENiyDI/5S8I4iIwwcSf02+MMkHAgLyLfKO3Iz8GEneGX6J3A0nGH6CHOSt4QTDCYYTDCcYTjDJrxv5fcP3Jf/PsEn+TfJeAsNnku9IPpMchhcJyRvxOYHkE8NHCckmQ26SQ3IV8ijZpWySYSOQbORTAknGW5lcxd2wy0gSCJIlk6t4JDdyJY8Eks2QPImDsTEuBFlE/krDhQHyJDZhIjtJNhnyhtzEYRBSMK7iJg0IeU8eyKMgIIb3TGNnccgEEjD5ruErImAgF/EXJJbhRnYSspELiYMscpF8RUCk4VtkIyAXgjySJ8mFwyLPBOTnDB/JT5CbSX7dyO8bflJyJXfDCYafJG8NJxhOMJxgOMFwguEEwwmGEwwnGP5R8pUEJvkgeSP5O8lh5K8km+QzyavhveRvJe8kw0eRfEJIkCt5kCC75Gb4NjnIX2p4Tx4lHyWv5K3he5KLZJP8iVwM78hbySYBkWfyhgjD98hFXCTf5PCRvJIbQTbyJbkb/oL8P8MJhhMMJxhOMJxgOMFwgkl+3cjvG04wnGA4wXCC4QTDCYYTDCeY5NeN/L7hjeRHDScYTjD8b8k3DScY/jf5ruEN+VnDCYYTDCcYTjCcYDjBcILhBMMJJvl1I79vOMFwguEEwwmGEwwnGE4wnGCSXzfy+4YTDCcYTjCcYDjBcILhBMMJhhMMJxhOMJxgOMFwguEEwwkm+XUjv284wXCC4QTDCYYTDCcYTjCcYJJfN/L7hhMMJxhOMJxgOMFwguEEwwmGEwwnGE4wnGA4wXCC4QTDCSb5dSO/bzjBf8a5jQJtD7rcAAAAAElFTkSuQmCC\">"
      ],
      "text/plain": [
       "\u001b[0m\u001b[38;5;232;48;5;232m▀\u001b[38;5;232;48;5;232m▀\u001b[38;5;232;48;5;232m▀\u001b[38;5;232;48;5;232m▀\u001b[38;5;232;48;5;232m▀\u001b[0m\n",
       "\u001b[0m\u001b[38;5;232;48;5;232m▀\u001b[38;5;232;48;5;232m▀\u001b[38;5;232;48;5;232m▀\u001b[38;5;232;48;5;232m▀\u001b[38;5;232;48;5;232m▀\u001b[0m\n",
       "\u001b[0m\u001b[38;5;232;48;5;232m▀\u001b[38;5;232;48;5;234m▀\u001b[38;5;233;48;5;235m▀\u001b[38;5;234;48;5;236m▀\u001b[38;5;232;48;5;232m▀\u001b[0m\n",
       "\u001b[0m\u001b[38;5;232;48;5;233m▀\u001b[38;5;235;48;5;236m▀\u001b[38;5;235;48;5;236m▀\u001b[38;5;236;48;5;236m▀\u001b[38;5;233;48;5;233m▀\u001b[0m\n",
       "\u001b[0m\u001b[38;5;233;48;5;233m▀\u001b[38;5;237;48;5;237m▀\u001b[38;5;235;48;5;235m▀\u001b[38;5;235;48;5;235m▀\u001b[38;5;232;48;5;232m▀\u001b[0m\n",
       "\u001b[0m\u001b[38;5;233;48;5;233m▀\u001b[38;5;237;48;5;236m▀\u001b[38;5;235;48;5;235m▀\u001b[38;5;234;48;5;235m▀\u001b[38;5;232;48;5;232m▀\u001b[0m\n",
       "\u001b[0m\u001b[38;5;233;48;5;233m▀\u001b[38;5;236;48;5;236m▀\u001b[38;5;235;48;5;235m▀\u001b[38;5;235;48;5;235m▀\u001b[38;5;232;48;5;232m▀\u001b[0m\n",
       "\u001b[0m\u001b[38;5;232;48;5;233m▀\u001b[38;5;236;48;5;236m▀\u001b[38;5;235;48;5;236m▀\u001b[38;5;236;48;5;236m▀\u001b[38;5;232;48;5;232m▀\u001b[0m\n",
       "\u001b[0m\u001b[38;5;233;48;5;233m▀\u001b[38;5;236;48;5;236m▀\u001b[38;5;236;48;5;237m▀\u001b[38;5;237;48;5;238m▀\u001b[38;5;232;48;5;233m▀\u001b[0m\n",
       "\u001b[0m\u001b[38;5;233;48;5;233m▀\u001b[38;5;237;48;5;237m▀\u001b[38;5;237;48;5;236m▀\u001b[38;5;238;48;5;238m▀\u001b[38;5;233;48;5;233m▀\u001b[0m\n",
       "\u001b[0m\u001b[38;5;232;48;5;232m▀\u001b[38;5;236;48;5;234m▀\u001b[38;5;235;48;5;233m▀\u001b[38;5;235;48;5;233m▀\u001b[38;5;233;48;5;232m▀\u001b[0m\n",
       "\u001b[0m\u001b[38;5;232;48;5;232m▀\u001b[38;5;232;48;5;232m▀\u001b[38;5;232;48;5;232m▀\u001b[38;5;232;48;5;232m▀\u001b[38;5;232;48;5;232m▀\u001b[0m\n",
       "\u001b[0m\u001b[38;5;232;48;5;232m▀\u001b[38;5;232;48;5;232m▀\u001b[38;5;232;48;5;232m▀\u001b[38;5;232;48;5;232m▀\u001b[38;5;232;48;5;232m▀\u001b[0m\n"
      ]
     },
     "metadata": {},
     "output_type": "display_data"
    }
   ],
   "source": [
    "Gray.(Z)"
   ]
  },
  {
   "cell_type": "markdown",
   "id": "82460051",
   "metadata": {},
   "source": [
    "Fill me in"
   ]
  },
  {
   "cell_type": "code",
   "execution_count": 19,
   "id": "2060538e",
   "metadata": {},
   "outputs": [
    {
     "data": {
      "image/png": "[encoded data removed]",
      "text/html": [
       "<img src=\"data:image/png;base64,iVBORw0KGgoAAAANSUhEUgAAAIAAAADKCAAAAABIlhcdAAAAAXNSR0IArs4c6QAAAARnQU1BAACxjwv8YQUAAAAgY0hSTQAAeiYAAICEAAD6AAAAgOgAAHUwAADqYAAAOpgAABdwnLpRPAAACV1JREFUeAHFwVGOHEuAZTkewPe/5duyMTgilU811f0V5OPLHl/2+H82YXJM/neTv02Ox5c9k98m12RyTciRYzKEyeQ1uSZ/mxzz+LInk3mFvEKOIa/JEXKFTCbklWuu5Mrjyx4yeQ2ZK8ckx5AJQ64hk0yGzBUm+WnI48sef+QjR16TTI4wYXJMyJEj5MhrMrkmk+PxZc/kt8k1meSYkCPHZAiTyWtyTcgrk2MeX/ZkMq+QV8gx5DU5Qq6QyYS8cs2VXHl82UMmryFz5ZjkGDJhyDVkksmQucIkPw15fNnjj3zkyGuSyREmTI4JOXKEHHlNJtdkcjy+7Jn8NrkmkxwTcuSYDGEyeU2uCXllcszjy55M5hXyCjmGvCZHyBUymZBXrrmSK48ve8jkNWSuHJMcQyYMuYZMMhkyV5jkpyGPL3v8kY8ceU0yOcKEyTEhR46QI6/J5JpMjseXPZPfJtdkkmNCjhyTIUwmr8k1Ia9Mjnl82ZPJvEJeIceQ1+QIuUImE/LKNVdy5fFlD5m8hsyVY5JjyIQh15BJJkPmCpP8NOTxZY8/8pEjr0kmR5gwOSbkyBFy5DWZXJPJ8fiyZ/Lb5JpMckzIkWMyhMnkNbkm5JXJMY8vezKZV8gr5BjymhwhV8hkQl655kquPL7sIZPXkLlyTHIMmTDkGjLJZMhcYZKfhjy+7PFHPnLkNcnkCBMmx4QcOUKOvCaTazI5Hl/2TH6bXJNJjgk5ckyGMJm8JteEvDI55vFlTybzCnmFHENekyPkCplMyCvXXMmVx5c9ZPIaMleOSY4hE4ZcQyaZDJkrTPLTkMeXPf7IR468JpkcYcLkmJAjR8iR12RyTSbH48ueyW+TazLJMSFHjskQJpPX5JqQVybHPL7syWReIa+QY8hrcoRcIZMJeeWaK7ny+LKHTF5D5soxyTFkwpBryCSTIXOFSX4a8viyxx/5yJHXJJMjTJgcE3LkCDnymkyuyeR4fNkz+W1yTSY5JuTIMRnCZPKaXBPyyuSYx5c9mcwr5BVyDHlNjpArZDIhr7zmSK48vuwhk9cQ5sgxyTFkwpBrwiSTCXOFyeRjyOPLHn/kI8fkI68cOXJMyJEjZJKPkGtCjseXPf4p/zJh8pEJQyZXfppMrjA5Hl/2TP5nk2NCjhwTJjly5N9CjsmRYx5f9uSYHBMmV4ZkyGty5Jj8/5lck5/y+LKHSebIkWuSKz/lp/xt8lNe+e3xZQ858rchvw35r8k1yWQIk98m1+PLHn9MXkPIx+TKMTkmE3JMMglhyDG5hhyTx5c9/shHjslH/pZjQj5y5COvMCGv8Piyxz/lXyYfuSb/Nfnb5KcJjy97/D/Iv+SaTK78lp8mx+PLngmTf5m8JsfkNbkm5N8m1+TIMY8vezLJZAiTYzJkyBWGkGOSj8lPk2vyUx5f9pAjkysMIUeuIeSnTK5JJkyYvPLb48sef0zIMYR8TK4ck2MyIcckkzAZckxeQ67Hlz3+yEf+K3/LFfKRI1fIK6/JNXl82eOfJv81+Zgck/8bkyOv8PiyZ/Jf+Zf8lCvXZHJN/pbJ5Jgcjy97cgxh8jHkGnJMXpNXyCsfQ8jkymQeX/YwyTH5KR95hSHkmExek5/yykfI48seck2uyeQYMjmGkJ8yuSaZMGHyP3t82eOPCXmFTMiRK/+WV44cOfLb5PX4sscf+Rhy5DX5aXJMJq8Jk2My5LdMmDy+7PFL/it/yxXykSNXyGvykSM8vuzxT5P/mvzX5H+XyTH5eHzZM/mv/Ev+JR+T/0mOyU+PL3tyDPltyGvy02TymuR/k2tyPL7s8f/JNfnIT/lbyEd+mnxMGHLlenzZw+Sa/E8m1+Rvk58mYXJMjvw2jy97yITJNRnC5MgxhCGvDDkmmZBj8rcJkzy+7PFHjlwTcmWOHDkmx2RCjkkmuYb8lkkmjy97Jj9NmLzymhy5QiZXJrkmeQ1hSI7w+LInxxAmR44h15CfJpNckxyTyceEIdeEeXzZwxCGHJMhTI4cc2QIOebIMcmECUOOXJNM8viyh1y5JuTKHDlyTI7JJNckkxwZ8lsmmTy+7Jn8NGHyymty5AqZXJnkmuQ1hCE5wuPLnhxDmBw5hlxDfppMck1yTCYfE4ZcE+bxZQ9DGPIa8pFjjgwhx5Ack0yYMOTINcmRx5c95Mo1JNccuXJMjskkTCaZ5MiQ3zIZ8viyZ/LThMmVY8LkyBUyIWSSa5LXEIaEHI8ve3IMYXLkGHJkyE+TSa5JjsnkY8KQa8I8vuxhCENeQz5yzJEh5BiSY5IJE4YcuSY58viyh1y5huSaI1eOyTGZhMkkkxwZ8lsmQx5f9kx+mjC5ckyYHLlCJoRMck3yGsKQkOPxZU+OIUyOHEOODPlpMsk1yTGZfEwYck2Yx5c9DGHIa8hHjjkyhBxDckwyYcKQI9ckRx5f9pAr15Bcc+TKMTkmkzCZZJIjQ37LZMjjy57JTxMmV44JkyNXyISQSa5JXkMYEnI8vuzJMYTJkWPIkSE/TSa5Jjkmk48JQ64J8/iyhyEMeQ35yDFHhpBjSI5JJkwYcuSa5Mjjyx5y5RqSa45cOSbHZBImk0xyZMhvmQx5fNkz+WnC5MoxYXLkCpkQMslHXkOYEHI8vuzJMYTJkWPIkSE/TSa5JjkmTF6TYzJhwjy+7GEIQ15DPnLMkSHkGJJjkiEThhwTMsmRx5c95Mo1JB+TK8fkmExyTTLJkSGvXJkweXzZM/lpwuQaMmFy5AqZMMkkH3kNYUKY8PiyJ8cQJkeOIUeG/DSZ5Mgkx4TJa3JMJkyYx5c9DGHIa8hHjjkyhBxDckwyZMKQY0ImOfL4sodcuYbkY3LlmByTSa5JJjky5JUrEyaPL3smP02YXEMmTI5cIRMmmeQjryFMCBMeX/bkGMLkyDHkyJCfJpMcmeSY/G1yTCZMmMeXPQxhyGvIR44hTEKOITkmmSsMOSZkkiOPL3vIlWtCPiZXGDI5JrkmOXINeeXKx+PLnsnfMvkp14QcYZLJlWPyym8TJkweX/bkGMKQTJgrc+RvmeQYMsnkb3NkcoTJPL7sYQhDrgx55RrCZJJjyJFJhkyY5ApDJuTxZQ+5ck3Ix+QKQybHJNckR5gMmRwTcuR6fNkz+VsmP+WakCNMMrlyTI6QI1eYMGHy+LInxxCGZMJcYcjfMskxZJLJ3+bI5MiReXzZ/wEIx9oE1Xa+mQAAAABJRU5ErkJg\">"
      ],
      "text/plain": [
       "\u001b[0m\u001b[38;5;232;48;5;235m▀\u001b[38;5;233;48;5;238m▀\u001b[38;5;233;48;5;238m▀\u001b[38;5;232;48;5;238m▀\u001b[38;5;233;48;5;237m▀\u001b[38;5;233;48;5;237m▀\u001b[38;5;233;48;5;238m▀\u001b[38;5;233;48;5;238m▀\u001b[38;5;234;48;5;238m▀\u001b[38;5;233;48;5;238m▀\u001b[38;5;233;48;5;238m▀\u001b[38;5;232;48;5;238m▀\u001b[38;5;232;48;5;238m▀\u001b[38;5;233;48;5;238m▀\u001b[38;5;233;48;5;237m▀\u001b[38;5;234;48;5;238m▀\u001b[38;5;232;48;5;235m▀\u001b[0m\n",
       "\u001b[0m\u001b[38;5;235;48;5;235m▀\u001b[38;5;238;48;5;238m▀\u001b[38;5;238;48;5;238m▀\u001b[38;5;238;48;5;238m▀\u001b[38;5;238;48;5;238m▀\u001b[38;5;238;48;5;238m▀\u001b[38;5;238;48;5;238m▀\u001b[38;5;238;48;5;238m▀\u001b[38;5;238;48;5;238m▀\u001b[38;5;238;48;5;238m▀\u001b[38;5;238;48;5;238m▀\u001b[38;5;238;48;5;238m▀\u001b[38;5;238;48;5;238m▀\u001b[38;5;238;48;5;238m▀\u001b[38;5;238;48;5;238m▀\u001b[38;5;238;48;5;238m▀\u001b[38;5;235;48;5;235m▀\u001b[0m\n",
       "\u001b[0m\u001b[38;5;235;48;5;235m▀\u001b[38;5;238;48;5;238m▀\u001b[38;5;238;48;5;238m▀\u001b[38;5;238;48;5;238m▀\u001b[38;5;238;48;5;238m▀\u001b[38;5;238;48;5;238m▀\u001b[38;5;238;48;5;238m▀\u001b[38;5;238;48;5;238m▀\u001b[38;5;238;48;5;238m▀\u001b[38;5;238;48;5;238m▀\u001b[38;5;238;48;5;238m▀\u001b[38;5;238;48;5;238m▀\u001b[38;5;238;48;5;238m▀\u001b[38;5;238;48;5;238m▀\u001b[38;5;238;48;5;238m▀\u001b[38;5;238;48;5;238m▀\u001b[38;5;235;48;5;235m▀\u001b[0m\n",
       "\u001b[0m\u001b[38;5;235;48;5;235m▀\u001b[38;5;238;48;5;238m▀\u001b[38;5;238;48;5;238m▀\u001b[38;5;238;48;5;238m▀\u001b[38;5;238;48;5;238m▀\u001b[38;5;238;48;5;238m▀\u001b[38;5;238;48;5;238m▀\u001b[38;5;238;48;5;238m▀\u001b[38;5;238;48;5;238m▀\u001b[38;5;238;48;5;238m▀\u001b[38;5;238;48;5;238m▀\u001b[38;5;238;48;5;238m▀\u001b[38;5;238;48;5;238m▀\u001b[38;5;238;48;5;238m▀\u001b[38;5;238;48;5;238m▀\u001b[38;5;238;48;5;238m▀\u001b[38;5;235;48;5;235m▀\u001b[0m\n",
       "\u001b[0m\u001b[38;5;234;48;5;234m▀\u001b[38;5;236;48;5;236m▀\u001b[38;5;237;48;5;235m▀\u001b[38;5;237;48;5;235m▀\u001b[38;5;236;48;5;236m▀\u001b[38;5;236;48;5;236m▀\u001b[38;5;237;48;5;235m▀\u001b[38;5;237;48;5;235m▀\u001b[38;5;237;48;5;235m▀\u001b[38;5;237;48;5;235m▀\u001b[38;5;237;48;5;234m▀\u001b[38;5;237;48;5;234m▀\u001b[38;5;237;48;5;234m▀\u001b[38;5;237;48;5;235m▀\u001b[38;5;237;48;5;235m▀\u001b[38;5;237;48;5;234m▀\u001b[38;5;234;48;5;233m▀\u001b[0m\n",
       "\u001b[0m\u001b[38;5;233;48;5;234m▀\u001b[38;5;234;48;5;237m▀\u001b[38;5;234;48;5;236m▀\u001b[38;5;235;48;5;235m▀\u001b[38;5;233;48;5;237m▀\u001b[38;5;233;48;5;237m▀\u001b[38;5;234;48;5;236m▀\u001b[38;5;234;48;5;236m▀\u001b[38;5;235;48;5;235m▀\u001b[38;5;234;48;5;236m▀\u001b[38;5;235;48;5;235m▀\u001b[38;5;235;48;5;235m▀\u001b[38;5;235;48;5;235m▀\u001b[38;5;235;48;5;235m▀\u001b[38;5;235;48;5;235m▀\u001b[38;5;235;48;5;234m▀\u001b[38;5;233;48;5;233m▀\u001b[0m\n",
       "\u001b[0m\u001b[38;5;233;48;5;233m▀\u001b[38;5;234;48;5;236m▀\u001b[38;5;234;48;5;235m▀\u001b[38;5;234;48;5;235m▀\u001b[38;5;233;48;5;236m▀\u001b[38;5;234;48;5;236m▀\u001b[38;5;234;48;5;236m▀\u001b[38;5;234;48;5;235m▀\u001b[38;5;235;48;5;234m▀\u001b[38;5;234;48;5;235m▀\u001b[38;5;235;48;5;235m▀\u001b[38;5;234;48;5;236m▀\u001b[38;5;234;48;5;236m▀\u001b[38;5;235;48;5;234m▀\u001b[38;5;236;48;5;233m▀\u001b[38;5;235;48;5;234m▀\u001b[38;5;233;48;5;233m▀\u001b[0m\n",
       "\u001b[0m\u001b[38;5;233;48;5;234m▀\u001b[38;5;233;48;5;236m▀\u001b[38;5;233;48;5;235m▀\u001b[38;5;234;48;5;235m▀\u001b[38;5;233;48;5;235m▀\u001b[38;5;233;48;5;235m▀\u001b[38;5;233;48;5;236m▀\u001b[38;5;233;48;5;236m▀\u001b[38;5;235;48;5;235m▀\u001b[38;5;233;48;5;236m▀\u001b[38;5;234;48;5;235m▀\u001b[38;5;233;48;5;236m▀\u001b[38;5;233;48;5;236m▀\u001b[38;5;234;48;5;235m▀\u001b[38;5;235;48;5;235m▀\u001b[38;5;234;48;5;235m▀\u001b[38;5;232;48;5;234m▀\u001b[0m\n",
       "\u001b[0m\u001b[38;5;234;48;5;235m▀\u001b[38;5;237;48;5;238m▀\u001b[38;5;238;48;5;238m▀\u001b[38;5;238;48;5;238m▀\u001b[38;5;238;48;5;237m▀\u001b[38;5;238;48;5;237m▀\u001b[38;5;238;48;5;238m▀\u001b[38;5;238;48;5;238m▀\u001b[38;5;238;48;5;238m▀\u001b[38;5;238;48;5;237m▀\u001b[38;5;238;48;5;238m▀\u001b[38;5;238;48;5;238m▀\u001b[38;5;237;48;5;238m▀\u001b[38;5;238;48;5;238m▀\u001b[38;5;238;48;5;238m▀\u001b[38;5;238;48;5;238m▀\u001b[38;5;235;48;5;234m▀\u001b[0m\n",
       "\u001b[0m\u001b[38;5;235;48;5;235m▀\u001b[38;5;238;48;5;238m▀\u001b[38;5;238;48;5;238m▀\u001b[38;5;238;48;5;238m▀\u001b[38;5;238;48;5;238m▀\u001b[38;5;238;48;5;238m▀\u001b[38;5;238;48;5;238m▀\u001b[38;5;238;48;5;238m▀\u001b[38;5;238;48;5;238m▀\u001b[38;5;238;48;5;238m▀\u001b[38;5;238;48;5;238m▀\u001b[38;5;238;48;5;238m▀\u001b[38;5;238;48;5;238m▀\u001b[38;5;238;48;5;238m▀\u001b[38;5;238;48;5;238m▀\u001b[38;5;238;48;5;238m▀\u001b[38;5;235;48;5;235m▀\u001b[0m\n",
       "\u001b[0m\u001b[38;5;235;48;5;235m▀\u001b[38;5;238;48;5;238m▀\u001b[38;5;238;48;5;238m▀\u001b[38;5;238;48;5;238m▀\u001b[38;5;238;48;5;237m▀\u001b[38;5;238;48;5;238m▀\u001b[38;5;238;48;5;238m▀\u001b[38;5;238;48;5;238m▀\u001b[38;5;238;48;5;238m▀\u001b[38;5;238;48;5;237m▀\u001b[38;5;238;48;5;238m▀\u001b[38;5;238;48;5;237m▀\u001b[38;5;238;48;5;238m▀\u001b[38;5;238;48;5;238m▀\u001b[38;5;238;48;5;238m▀\u001b[38;5;238;48;5;238m▀\u001b[38;5;235;48;5;234m▀\u001b[0m\n",
       "\u001b[0m\u001b[38;5;235;48;5;235m▀\u001b[38;5;238;48;5;238m▀\u001b[38;5;238;48;5;237m▀\u001b[38;5;238;48;5;237m▀\u001b[38;5;238;48;5;237m▀\u001b[38;5;238;48;5;237m▀\u001b[38;5;238;48;5;238m▀\u001b[38;5;238;48;5;237m▀\u001b[38;5;238;48;5;237m▀\u001b[38;5;238;48;5;237m▀\u001b[38;5;238;48;5;237m▀\u001b[38;5;238;48;5;237m▀\u001b[38;5;238;48;5;238m▀\u001b[38;5;238;48;5;237m▀\u001b[38;5;238;48;5;238m▀\u001b[38;5;238;48;5;237m▀\u001b[38;5;235;48;5;234m▀\u001b[0m\n",
       "\u001b[0m\u001b[38;5;235;48;5;233m▀\u001b[38;5;238;48;5;235m▀\u001b[38;5;238;48;5;236m▀\u001b[38;5;238;48;5;235m▀\u001b[38;5;238;48;5;237m▀\u001b[38;5;238;48;5;236m▀\u001b[38;5;238;48;5;235m▀\u001b[38;5;238;48;5;234m▀\u001b[38;5;238;48;5;235m▀\u001b[38;5;238;48;5;235m▀\u001b[38;5;238;48;5;236m▀\u001b[38;5;238;48;5;234m▀\u001b[38;5;237;48;5;234m▀\u001b[38;5;237;48;5;236m▀\u001b[38;5;237;48;5;236m▀\u001b[38;5;237;48;5;234m▀\u001b[38;5;235;48;5;234m▀\u001b[0m\n"
      ]
     },
     "metadata": {},
     "output_type": "display_data"
    }
   ],
   "source": [
    "Gray.(s)"
   ]
  },
  {
   "cell_type": "markdown",
   "id": "4588116d",
   "metadata": {},
   "source": [
    "## Task 3: Let's build an S5 model \n",
    "Fill me in."
   ]
  },
  {
   "cell_type": "markdown",
   "id": "bbe3108b",
   "metadata": {},
   "source": []
  }
 ],
 "metadata": {
  "kernelspec": {
   "display_name": "Julia 1.11.5",
   "language": "julia",
   "name": "julia-1.11"
  },
  "language_info": {
   "file_extension": ".jl",
   "mimetype": "application/julia",
   "name": "julia",
   "version": "1.11.5"
  }
 },
 "nbformat": 4,
 "nbformat_minor": 5
}
