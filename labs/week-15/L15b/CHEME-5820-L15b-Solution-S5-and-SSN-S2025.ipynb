{
 "cells": [
  {
   "cell_type": "markdown",
   "id": "4b0b40ea-0b0d-4237-b28e-653a016bbe43",
   "metadata": {},
   "source": [
    "# L15b: Combining S5 and Spike Nueral Networks\n",
    "Fill me in.\n",
    "\n",
    "\n",
    "### Tasks\n",
    "Before we start, execute the `Run All Cells` command to check if you (or your neighbor) have any code or setup issues. Code issues, then raise your hands - and let's get those fixed!\n",
    "* __Task 1: Setup, Data, Prerequisites (10 min)__: In this task, we set up the computational environment and then specify a simple text sequence, e.g., a sentence without punctuation. From this sequence, we'll build a vocabulary, an inverse vocabulary, and the training datasets for the CBOW and skip-gram models. \n",
    "* __Task 2: Build and Train a CBOW model instance (20 min)__: In this task, we build and train a Continuous Bag of Words (CBOW) model instance on a sample input sequence. We start by creating a model instance, and then we train this instance for a few epochs, and finally, we see how the model performs.\n",
    "* __Task 3: Build and train a skip-gram model instance (20 min)__: In this task, we will build and train a skip-gram model instance on the sample input sequence we selected above. We start by creating a model instance, then train it for a few epochs and see how it performs.\n",
    "\n",
    "Let's get started!\n",
    "\n",
    "___"
   ]
  },
  {
   "cell_type": "markdown",
   "id": "28e06d22",
   "metadata": {},
   "source": [
    "## Task 1: Setup, Data, Prerequisites\n",
    "We set up the computational environment by including the `Include.jl` file, loading any needed resources, such as sample datasets, and setting up any required constants. \n",
    "* The `Include.jl` file also loads external packages, various functions that we will use in the exercise, and custom types to model the components of our problem. It checks for a `Manifest.toml` file; if it finds one, packages are loaded. Other packages are downloaded and then loaded."
   ]
  },
  {
   "cell_type": "code",
   "execution_count": 1,
   "id": "0f3aa51b",
   "metadata": {},
   "outputs": [],
   "source": [
    "include(\"Include.jl\");"
   ]
  },
  {
   "cell_type": "code",
   "execution_count": 2,
   "id": "17752d75",
   "metadata": {},
   "outputs": [],
   "source": [
    "file_extension(file::String) = file[findlast(==('.'), file)+1:end]; # helper function to get the file extension"
   ]
  },
  {
   "cell_type": "markdown",
   "id": "406bb1c0",
   "metadata": {},
   "source": [
    "### Load the MNIST digits data set\n",
    "In this example, we'll use a Hopfield network to learn a single image pattern from [the MNIST handwritten digits dataset](https://en.wikipedia.org/wiki/MNIST_database). The goal is to train the network to recognize a digit, e.g., \"3\" or \"5\", etc, and then retrieve it from a noisy input.\n",
    "\n",
    "Load a training image dataset that we'll encode into the Hopfield network. We'll save training data in the `training_image_dataset` variable.\n",
    "* _What's in the training dataset_? The `training_image_dataset` will be of type `Vector{Tuple{Vector{Float32}, OneHotVector{UInt32}}}` where the first element is the input data `x.` The second element is the `label,` i.e., whether the image corresponds to `0,....,9`. However, the label is encoded as a `OneHotVector` (see below).\n",
    "* _Hmmm. That's strange_. The `Vector{Tuple{Vector{Float32}, OneHotVector{UInt32}}}` type has a couple of _weird features_. First, notice that the floating point is `Float32`, not the default `Float64`. Next, the labels are [One Hot ecoded](https://en.wikipedia.org/wiki/One-hot). Finally, the input data `x` is a Vector, not a Matrix (even though the original image is a matrix of `Gray` values).\n",
    "\n",
    "However, before we load the training data, let's set some constants, which we use below. The comment next to each constant describes it, its permissible values, units, etc."
   ]
  },
  {
   "cell_type": "code",
   "execution_count": 3,
   "id": "b0deacbc",
   "metadata": {},
   "outputs": [],
   "source": [
    "number_of_training_examples = 30; # how many training examples of *each* number to include from the library\n",
    "number_digit_array = range(0,length=10,step=1) |> collect; # numbers 0 ... 9\n",
    "number_of_rows = 28; # number of rows in the image\n",
    "number_of_cols = 28; # number of cols in the image\n",
    "number_of_pixels = number_of_rows*number_of_cols; # how many pixels do we have in the image?\n",
    "number_of_images_to_memorize = 3; # number of images that we want to encode"
   ]
  },
  {
   "cell_type": "markdown",
   "id": "c3c1c2e2",
   "metadata": {},
   "source": [
    "`Unhide` the code blocks below to see how we construct and populate the `training_image_dataset` variable. First, we load all the images into the `training_image_dictionary::Dict{Int64, Array{Gray{N0f8},3}}`, and then we'll convert these to a vector format below."
   ]
  },
  {
   "cell_type": "code",
   "execution_count": 4,
   "id": "5ec7e35a",
   "metadata": {},
   "outputs": [],
   "source": [
    "training_image_dictionary = let\n",
    "    training_image_dictionary = Dict{Int64, Array{Gray{N0f8},3}}();\n",
    "    for i ∈ number_digit_array\n",
    "        \n",
    "        # create a set for this digit -\n",
    "        image_digit_array = Array{Gray{N0f8},3}(undef, number_of_rows, number_of_cols, number_of_training_examples);\n",
    "        files = readdir(joinpath(_PATH_TO_IMAGES,\"$(i)\")); \n",
    "        imagecount = 1;\n",
    "        for fileindex ∈ 1:number_of_training_examples\n",
    "            filename = files[fileindex];\n",
    "            ext = file_extension(filename)\n",
    "            if (ext == \"jpg\")\n",
    "                image_digit_array[:,:,fileindex] = joinpath(_PATH_TO_IMAGES, \"$(i)\", filename) |> x-> FileIO.load(x);\n",
    "                imagecount += 1\n",
    "            end\n",
    "        end\n",
    "    \n",
    "        # capture -\n",
    "        training_image_dictionary[i] = image_digit_array\n",
    "    end\n",
    "    training_image_dictionary\n",
    "end;"
   ]
  },
  {
   "cell_type": "markdown",
   "id": "837fc8eb",
   "metadata": {},
   "source": [
    "Next, we take the images in array format and vectorize them. \n",
    "* _What do we mean by vectorize_? Each $N\\times{N}$ image array containing the grayscale values at each pixel is converted to an $N^{2}$ vector of values. What image class, i.e., what number it represents, is then converted to [one-hot format](https://en.wikipedia.org/wiki/One-hot). The converted data is stored in the `training_image_dataset::Vector{Tuple{Vector{Float32}, OneHotVector{UInt32}}}` variable.\n",
    "* _What's the deal with Float32_? Most neural network libraries (or other machine learning calculations) use `Float32` (or lower) to save memory because of the large number of parameters associated with the network. Additionally, model training is often carried out using specialized hardware [such as Graphical Processing Units (GPUs)](https://www.nvidia.com/en-us/data-center/h100/), which has different memory constraints."
   ]
  },
  {
   "cell_type": "code",
   "execution_count": 5,
   "id": "a2b79705",
   "metadata": {},
   "outputs": [],
   "source": [
    "training_image_dataset = let\n",
    "    training_image_dataset = Vector{Tuple{Vector{Float32}, OneHotVector{UInt32}}}()\n",
    "    for i ∈ number_digit_array\n",
    "        Y = onehot(i, number_digit_array);\n",
    "        X = training_image_dictionary[i];\n",
    "        \n",
    "        for t ∈ 1:number_of_training_examples\n",
    "            D = Array{Float32,1}(undef, number_of_pixels);\n",
    "            linearindex = 1;\n",
    "            for row ∈ 1:number_of_rows\n",
    "                for col ∈ 1:number_of_cols\n",
    "                    D[linearindex] = X[row,col,t] |> x-> convert(Float32,x);\n",
    "                    linearindex+=1;\n",
    "                end\n",
    "            end\n",
    "    \n",
    "            training_tuple = (D,Y);\n",
    "            push!(training_image_dataset,training_tuple);\n",
    "        end\n",
    "    end\n",
    "    training_image_dataset\n",
    "end;"
   ]
  },
  {
   "cell_type": "markdown",
   "id": "d745b933",
   "metadata": {},
   "source": [
    "## Task 2: What is a Spiking Neural Network?\n",
    "Fill me in."
   ]
  },
  {
   "cell_type": "code",
   "execution_count": 6,
   "id": "5b4ab1c3",
   "metadata": {},
   "outputs": [],
   "source": [
    "number_of_samples = length(training_image_dataset); # how many samples do we have?\n",
    "number_of_neurons = 2^4; # how many SSN neurons do we want?\n",
    "number_of_inputs = number_of_pixels; # how many inputs do we have?\n",
    "ν = 0.1; # Table 2: firing threshold https://arxiv.org/abs/2205.11276\n",
    "τ = 20.0; # Table 2: time constant (ms) https://arxiv.org/abs/2205.11276\n",
    "Δt = 1.0; # samping time step (ms)\n",
    "T = 100; # number of time steps of length Δt (ms) to simulate"
   ]
  },
  {
   "cell_type": "markdown",
   "id": "26ad0a92",
   "metadata": {},
   "source": [
    "Fill me in"
   ]
  },
  {
   "cell_type": "code",
   "execution_count": 7,
   "id": "7b4d4973",
   "metadata": {},
   "outputs": [
    {
     "data": {
      "text/plain": [
       "784×100 Matrix{Int64}:\n",
       " 0  0  0  0  0  0  0  0  0  0  0  0  0  …  0  0  0  0  0  0  0  0  0  0  0  0\n",
       " 0  0  0  0  0  0  0  0  0  0  0  0  0     0  0  0  0  0  0  0  0  0  0  0  0\n",
       " 0  0  0  0  0  0  0  0  0  0  0  0  0     0  0  0  0  0  0  0  0  0  0  0  0\n",
       " 0  0  0  0  0  0  0  0  0  0  0  0  0     0  0  0  0  0  0  0  0  0  0  0  0\n",
       " 0  0  0  0  0  0  0  0  0  0  0  0  0     0  0  0  0  0  0  0  0  0  0  0  0\n",
       " 0  0  0  0  0  0  0  0  0  0  0  0  0  …  0  0  0  0  0  0  0  0  0  0  0  0\n",
       " 1  0  0  0  0  0  0  0  0  0  0  0  0     0  0  0  0  0  0  0  0  0  0  0  0\n",
       " 0  0  0  0  0  0  0  0  0  0  0  0  0     0  0  0  0  0  0  0  0  0  0  0  0\n",
       " 1  0  0  0  0  0  0  0  0  0  0  0  0     0  0  0  0  0  0  0  0  0  0  0  0\n",
       " 0  0  0  0  0  0  0  0  0  0  0  0  0     0  0  0  0  0  0  0  0  0  0  0  0\n",
       " ⋮              ⋮              ⋮        ⋱        ⋮              ⋮           \n",
       " 0  0  0  0  0  0  0  0  0  0  0  0  0  …  0  0  0  0  0  0  0  0  0  0  0  0\n",
       " 0  0  0  0  0  0  0  0  0  0  0  0  0     0  0  0  0  0  0  0  0  0  0  0  0\n",
       " 1  0  0  0  0  0  0  0  0  0  0  0  0     0  0  0  0  0  0  0  0  0  0  0  0\n",
       " 0  0  0  0  0  0  0  0  0  0  0  0  0     0  0  0  0  0  0  0  0  0  0  0  0\n",
       " 0  0  0  0  0  0  0  0  0  0  0  0  0     0  0  0  0  0  0  0  0  0  0  0  0\n",
       " 0  0  0  0  0  0  0  0  0  0  0  0  0  …  0  0  0  0  0  0  0  0  0  0  0  0\n",
       " 0  0  0  0  0  0  0  0  0  0  0  0  0     0  0  0  0  0  0  0  0  0  0  0  0\n",
       " 0  0  0  0  0  0  0  0  0  0  0  0  0     0  0  0  0  0  0  0  0  0  0  0  0\n",
       " 0  0  0  0  0  0  0  0  0  0  0  0  0     0  0  0  0  0  0  0  0  0  0  0  0"
      ]
     },
     "metadata": {},
     "output_type": "display_data"
    }
   ],
   "source": [
    "Z = let\n",
    "\n",
    "    # initialize -\n",
    "    Z = Array{Int64,2}(undef, number_of_inputs, T);\n",
    "\n",
    "    for i ∈ 1:T\n",
    "        z = training_image_dataset[i][1] |> x-> round.(Int, x);\n",
    "        Z[:,i] = z;\n",
    "    end\n",
    "    Z \n",
    "end"
   ]
  },
  {
   "cell_type": "markdown",
   "id": "cb209bcd",
   "metadata": {},
   "source": [
    "Fill me in"
   ]
  },
  {
   "cell_type": "code",
   "execution_count": 8,
   "id": "ba726710",
   "metadata": {},
   "outputs": [],
   "source": [
    "ssnmodel = let\n",
    "\n",
    "    # build model -\n",
    "    model = build(MyLIFSpikingNeuralNetworkModel, (\n",
    "        Δt = Δt, # time step (ms)\n",
    "        τ = τ, # time constant (ms)\n",
    "        ν = ν, # firing threshold\n",
    "        number_of_nodes = number_of_neurons, # number of neurons\n",
    "        number_of_inputs = number_of_inputs, # number of inputs\n",
    "    ));\n",
    "\n",
    "    model;\n",
    "end;"
   ]
  },
  {
   "cell_type": "code",
   "execution_count": 9,
   "id": "1b8f5f1e",
   "metadata": {},
   "outputs": [
    {
     "data": {
      "text/plain": [
       "16×784 Matrix{Float64}:\n",
       " 0.00761975   0.00109544   0.00718645  …  0.00753035   0.00932271\n",
       " 0.00410645   0.00349635   0.00832477     0.000276435  0.00610185\n",
       " 0.000358585  0.00181873   0.00663482     0.000577974  0.00373933\n",
       " 0.00450219   0.00955658   0.00304328     0.000104055  0.000551121\n",
       " 0.0033983    0.00911722   0.00487994     0.00307079   0.00646643\n",
       " 0.00771959   0.000632358  0.0047983   …  0.00421366   0.000386089\n",
       " 0.00432014   0.00241648   0.00189644     0.00765977   0.00947486\n",
       " 0.00607057   0.00649259   0.00155297     0.00327808   0.00794492\n",
       " 0.00925484   0.00308511   0.00435991     0.0033368    0.00303534\n",
       " 0.00126246   0.0039595    0.00739277     0.00953066   0.00211681\n",
       " 0.00319607   0.00989838   0.00271135  …  0.00692047   0.00455918\n",
       " 0.000535357  0.00826859   0.00675585     0.00798963   0.00194317\n",
       " 0.0001552    0.00116658   0.00579737     0.000753234  0.00859037\n",
       " 0.00876119   0.000692185  0.00861963     0.00811555   0.00276812\n",
       " 0.0011787    0.00465909   0.00669592     0.00841621   0.00492815\n",
       " 0.00248455   0.00346778   0.00236423  …  0.00890908   0.00800512"
      ]
     },
     "metadata": {},
     "output_type": "display_data"
    }
   ],
   "source": [
    "ssnmodel.W"
   ]
  },
  {
   "cell_type": "markdown",
   "id": "42c5d36f",
   "metadata": {},
   "source": [
    "Fill me in"
   ]
  },
  {
   "cell_type": "code",
   "execution_count": 10,
   "id": "bec6a64f",
   "metadata": {},
   "outputs": [
    {
     "data": {
      "text/plain": [
       "784×100 Matrix{Int64}:\n",
       " 0  0  0  0  0  0  0  0  0  0  0  0  0  …  0  0  0  0  0  0  0  0  0  0  0  0\n",
       " 0  0  0  0  0  0  0  0  0  0  0  0  0     0  0  0  0  0  0  0  0  0  0  0  0\n",
       " 0  0  0  0  0  0  0  0  0  0  0  0  0     0  0  0  0  0  0  0  0  0  0  0  0\n",
       " 0  0  0  0  0  0  0  0  0  0  0  0  0     0  0  0  0  0  0  0  0  0  0  0  0\n",
       " 0  0  0  0  0  0  0  0  0  0  0  0  0     0  0  0  0  0  0  0  0  0  0  0  0\n",
       " 0  0  0  0  0  0  0  0  0  0  0  0  0  …  0  0  0  0  0  0  0  0  0  0  0  0\n",
       " 1  0  0  0  0  0  0  0  0  0  0  0  0     0  0  0  0  0  0  0  0  0  0  0  0\n",
       " 0  0  0  0  0  0  0  0  0  0  0  0  0     0  0  0  0  0  0  0  0  0  0  0  0\n",
       " 1  0  0  0  0  0  0  0  0  0  0  0  0     0  0  0  0  0  0  0  0  0  0  0  0\n",
       " 0  0  0  0  0  0  0  0  0  0  0  0  0     0  0  0  0  0  0  0  0  0  0  0  0\n",
       " ⋮              ⋮              ⋮        ⋱        ⋮              ⋮           \n",
       " 0  0  0  0  0  0  0  0  0  0  0  0  0  …  0  0  0  0  0  0  0  0  0  0  0  0\n",
       " 0  0  0  0  0  0  0  0  0  0  0  0  0     0  0  0  0  0  0  0  0  0  0  0  0\n",
       " 1  0  0  0  0  0  0  0  0  0  0  0  0     0  0  0  0  0  0  0  0  0  0  0  0\n",
       " 0  0  0  0  0  0  0  0  0  0  0  0  0     0  0  0  0  0  0  0  0  0  0  0  0\n",
       " 0  0  0  0  0  0  0  0  0  0  0  0  0     0  0  0  0  0  0  0  0  0  0  0  0\n",
       " 0  0  0  0  0  0  0  0  0  0  0  0  0  …  0  0  0  0  0  0  0  0  0  0  0  0\n",
       " 0  0  0  0  0  0  0  0  0  0  0  0  0     0  0  0  0  0  0  0  0  0  0  0  0\n",
       " 0  0  0  0  0  0  0  0  0  0  0  0  0     0  0  0  0  0  0  0  0  0  0  0  0\n",
       " 0  0  0  0  0  0  0  0  0  0  0  0  0     0  0  0  0  0  0  0  0  0  0  0  0"
      ]
     },
     "metadata": {},
     "output_type": "display_data"
    }
   ],
   "source": [
    "Z"
   ]
  },
  {
   "cell_type": "code",
   "execution_count": 11,
   "id": "bb453221",
   "metadata": {},
   "outputs": [],
   "source": [
    "(T,V,s) = solve(ssnmodel, Z, 100, Δ = 3);"
   ]
  },
  {
   "cell_type": "code",
   "execution_count": 12,
   "id": "f1995d1e",
   "metadata": {},
   "outputs": [
    {
     "data": {
      "image/png": "[encoded data removed]",
      "text/html": [
       "<img src=\"data:image/png;base64,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\">"
      ],
      "text/plain": [
       "\u001b[0m\u001b[38;5;232;48;5;232m▀\u001b[38;5;232;48;5;232m▀\u001b[38;5;232;48;5;232m▀\u001b[38;5;232;48;5;232m▀\u001b[38;5;232;48;5;232m▀\u001b[0m\n",
       "\u001b[0m\u001b[38;5;232;48;5;232m▀\u001b[38;5;232;48;5;232m▀\u001b[38;5;232;48;5;232m▀\u001b[38;5;232;48;5;232m▀\u001b[38;5;232;48;5;232m▀\u001b[0m\n",
       "\u001b[0m\u001b[38;5;232;48;5;232m▀\u001b[38;5;232;48;5;234m▀\u001b[38;5;233;48;5;235m▀\u001b[38;5;234;48;5;236m▀\u001b[38;5;232;48;5;232m▀\u001b[0m\n",
       "\u001b[0m\u001b[38;5;232;48;5;233m▀\u001b[38;5;235;48;5;236m▀\u001b[38;5;235;48;5;236m▀\u001b[38;5;236;48;5;236m▀\u001b[38;5;233;48;5;233m▀\u001b[0m\n",
       "\u001b[0m\u001b[38;5;233;48;5;233m▀\u001b[38;5;237;48;5;237m▀\u001b[38;5;235;48;5;235m▀\u001b[38;5;235;48;5;235m▀\u001b[38;5;232;48;5;232m▀\u001b[0m\n",
       "\u001b[0m\u001b[38;5;233;48;5;233m▀\u001b[38;5;237;48;5;236m▀\u001b[38;5;235;48;5;235m▀\u001b[38;5;234;48;5;235m▀\u001b[38;5;232;48;5;232m▀\u001b[0m\n",
       "\u001b[0m\u001b[38;5;233;48;5;233m▀\u001b[38;5;236;48;5;236m▀\u001b[38;5;235;48;5;235m▀\u001b[38;5;235;48;5;235m▀\u001b[38;5;232;48;5;232m▀\u001b[0m\n",
       "\u001b[0m\u001b[38;5;233;48;5;233m▀\u001b[38;5;236;48;5;236m▀\u001b[38;5;235;48;5;236m▀\u001b[38;5;236;48;5;236m▀\u001b[38;5;232;48;5;232m▀\u001b[0m\n",
       "\u001b[0m\u001b[38;5;233;48;5;233m▀\u001b[38;5;236;48;5;236m▀\u001b[38;5;236;48;5;237m▀\u001b[38;5;237;48;5;238m▀\u001b[38;5;232;48;5;233m▀\u001b[0m\n",
       "\u001b[0m\u001b[38;5;233;48;5;233m▀\u001b[38;5;237;48;5;237m▀\u001b[38;5;237;48;5;236m▀\u001b[38;5;238;48;5;238m▀\u001b[38;5;233;48;5;233m▀\u001b[0m\n",
       "\u001b[0m\u001b[38;5;233;48;5;232m▀\u001b[38;5;236;48;5;234m▀\u001b[38;5;235;48;5;233m▀\u001b[38;5;235;48;5;233m▀\u001b[38;5;233;48;5;232m▀\u001b[0m\n",
       "\u001b[0m\u001b[38;5;232;48;5;232m▀\u001b[38;5;232;48;5;232m▀\u001b[38;5;232;48;5;232m▀\u001b[38;5;232;48;5;232m▀\u001b[38;5;232;48;5;232m▀\u001b[0m\n",
       "\u001b[0m\u001b[38;5;232;48;5;232m▀\u001b[38;5;232;48;5;232m▀\u001b[38;5;232;48;5;232m▀\u001b[38;5;232;48;5;232m▀\u001b[38;5;232;48;5;232m▀\u001b[0m\n"
      ]
     },
     "metadata": {},
     "output_type": "display_data"
    }
   ],
   "source": [
    "Gray.(Z)"
   ]
  },
  {
   "cell_type": "markdown",
   "id": "82460051",
   "metadata": {},
   "source": [
    "Fill me in"
   ]
  },
  {
   "cell_type": "code",
   "execution_count": null,
   "id": "2060538e",
   "metadata": {},
   "outputs": [
    {
     "data": {
      "text/plain": [
       "16-element Vector{Float64}:\n",
       " 0.0\n",
       " 0.0\n",
       " 0.0\n",
       " 0.0\n",
       " 0.0\n",
       " 0.0\n",
       " 0.0\n",
       " 0.0\n",
       " 0.761594155955765\n",
       " 0.0\n",
       " 0.0\n",
       " 0.0\n",
       " 0.0\n",
       " 0.761594155955765\n",
       " 0.0\n",
       " 0.761594155955765"
      ]
     },
     "metadata": {},
     "output_type": "display_data"
    }
   ],
   "source": [
    "s .|> x-> NNlib.tanh_fast(x)"
   ]
  },
  {
   "cell_type": "code",
   "execution_count": 14,
   "id": "6eeacbdc",
   "metadata": {},
   "outputs": [
    {
     "data": {
      "text/plain": [
       "100×16 Matrix{Float64}:\n",
       " 0.0  0.0  0.0  0.0  1.0  1.0  0.0  0.0  …  0.0  0.0  0.0  0.0  0.0  0.0  0.0\n",
       " 0.0  0.0  0.0  0.0  0.0  0.0  0.0  0.0     0.0  0.0  0.0  0.0  1.0  0.0  1.0\n",
       " 1.0  0.0  1.0  1.0  0.0  0.0  1.0  1.0     1.0  0.0  1.0  1.0  0.0  1.0  0.0\n",
       " 0.0  1.0  0.0  0.0  0.0  0.0  0.0  0.0     0.0  1.0  0.0  0.0  0.0  0.0  0.0\n",
       " 0.0  0.0  0.0  0.0  1.0  1.0  0.0  0.0     0.0  0.0  0.0  0.0  0.0  0.0  0.0\n",
       " 0.0  0.0  0.0  0.0  0.0  0.0  0.0  0.0  …  0.0  0.0  0.0  0.0  1.0  0.0  1.0\n",
       " 1.0  0.0  1.0  1.0  0.0  0.0  1.0  1.0     1.0  0.0  1.0  1.0  0.0  1.0  0.0\n",
       " 0.0  1.0  0.0  0.0  0.0  0.0  0.0  0.0     0.0  1.0  0.0  0.0  0.0  0.0  0.0\n",
       " 0.0  0.0  0.0  0.0  1.0  1.0  0.0  0.0     0.0  0.0  0.0  0.0  0.0  0.0  0.0\n",
       " 0.0  0.0  0.0  0.0  0.0  0.0  0.0  0.0     0.0  0.0  0.0  0.0  1.0  0.0  1.0\n",
       " ⋮                        ⋮              ⋱       ⋮                        ⋮\n",
       " 0.0  1.0  0.0  0.0  0.0  1.0  0.0  0.0     0.0  1.0  1.0  1.0  0.0  0.0  1.0\n",
       " 1.0  0.0  0.0  0.0  0.0  0.0  1.0  0.0     1.0  0.0  0.0  0.0  1.0  1.0  0.0\n",
       " 0.0  0.0  0.0  0.0  0.0  0.0  0.0  0.0     0.0  0.0  0.0  0.0  0.0  0.0  0.0\n",
       " 0.0  0.0  0.0  0.0  0.0  0.0  0.0  1.0     0.0  0.0  0.0  0.0  0.0  0.0  0.0\n",
       " 0.0  0.0  1.0  1.0  1.0  1.0  0.0  0.0  …  0.0  0.0  1.0  1.0  0.0  0.0  1.0\n",
       " 1.0  1.0  0.0  0.0  0.0  0.0  0.0  0.0     1.0  1.0  0.0  0.0  1.0  1.0  0.0\n",
       " 0.0  0.0  0.0  0.0  0.0  0.0  1.0  0.0     0.0  0.0  0.0  0.0  0.0  0.0  0.0\n",
       " 0.0  0.0  0.0  0.0  0.0  0.0  0.0  1.0     0.0  0.0  0.0  0.0  0.0  0.0  0.0\n",
       " 0.0  0.0  1.0  1.0  1.0  0.0  0.0  0.0     0.0  0.0  1.0  1.0  0.0  0.0  1.0"
      ]
     },
     "metadata": {},
     "output_type": "display_data"
    }
   ],
   "source": [
    "s[2:end,:]"
   ]
  },
  {
   "cell_type": "markdown",
   "id": "4588116d",
   "metadata": {},
   "source": [
    "## Task 3: Let's build an S5 model \n",
    "Fill me in."
   ]
  },
  {
   "cell_type": "code",
   "execution_count": 35,
   "id": "04b34023",
   "metadata": {},
   "outputs": [
    {
     "name": "stdout",
     "output_type": "stream",
     "text": [
      "inv(V) = [-0.1056495988790453 -0.1359045209269539 -0.16023049340630036 -0.18103818411210618 -0.1994359954916472 -0.2160441968458639 -0.23125210797244647 -0.245323442463715 -0.25844685307264986 -0.27076296179749915 -0.2823800123795764 -0.29338350618643244 -0.3038424297195292 -0.3138134420405497 -0.3233437847671782 -0.33247336146373985; -0.9883977122433221 0.10387600067591617 0.059050330228393566 0.04406339506328711 0.03630184705933096 0.03145076607466633 0.028081410549615164 0.025577811391485232 0.023628384225049516 0.02205749595047059 0.020758062889794576 0.019660785478429095 0.018718665014288035 0.017898599105321794 0.017176535249168075 0.016534534412833087; -0.07957952023335717 -0.9741790560904617 0.1540523906740287 0.08186866439778037 0.059105381427705536 0.04770292034404788 0.04074545148964759 0.03600247378202859 0.032530907987555674 0.02986125998845835 0.02773248115077614 0.025987306154191616 0.024525038723210327 0.0232780369089181 0.022199068841893353 0.021254084176964148; 0.04557386870718013 0.1096899324102721 0.9567488176438623 -0.20195709369007164 -0.1021296955376064 -0.07197480077380758 -0.0571956655694911 -0.04831691162745379 -0.042338059188752816 -0.03800613835844769 -0.03470346122151541 -0.03208941633806505 -0.029960296983958745 -0.02818652165731496 -0.026681561993565604 -0.025385328019370965; -0.032815222843002055 -0.06167423710255662 -0.13409590695638765 -0.9361917272598757 0.2489706643803127 0.12080045141238192 0.0835180913902853 0.06555141296439074 0.054880950325942236 0.0477598168428974 0.042638609395113616 0.03875906365499458 0.03570554019834462 0.033230737889537794 0.031178063684806804 0.029443386761763394; -0.025874941204956346 -0.04374754760517397 -0.07497878216942688 -0.15415966339733447 -0.9126600134914853 0.29572355326252686 0.13822887804077827 0.09403832379653017 0.07304853202132099 0.06069829865993245 0.05251451643175322 0.046663449538105306 0.04225319127915672 0.03879720931929556 0.036007195613218884 0.0337012380293911; 0.021402030320376818 0.03410869040465868 0.052719970826664755 0.08617507572931007 0.1706020542720086 0.8861969330871381 -0.3426334855271461 -0.15456400445177368 -0.10366518252432788 -0.07980800522775458 -0.06588391793554343 -0.0567123076912716 -0.050186708547874374 -0.04528828258538277 -0.0414636204473222 -0.0383859218614766; -0.018218865005794956 -0.02795865127581913 -0.04077521055578878 -0.06024717896878258 -0.09557044804623303 -0.18384368668033618 -0.856733179645 0.3900479559762631 0.16985696971691885 0.11244596621671954 0.08587756499994417 0.07048568007049719 0.0604008510207083 0.053255606721386614 0.04791097892652099 0.04375075509259221; 0.01579765494218994 0.023614198013966532 0.03317822367541359 0.04629948058629169 0.06653545931470382 0.1033126682199082 0.19412141692758372 0.8240807272946596 -0.43830992000814273 -0.1840920206317263 -0.12037451873567058 -0.0912592181228432 -0.07451064080765266 -0.06359045053408068 -0.05588262998272614 -0.05013527635039462; 0.013862613110315239 0.020324646127418994 0.027823336787582507 0.037422996640128145 0.050838741059784094 0.07166432233622407 0.10945210152768027 0.20153296856504546 0.7879083403660232 -0.48780732817947503 -0.1971912863264109 -0.12739768406750474 -0.09591659236088844 -0.07793277439772946 -0.0662619232273199 -0.058053400383646064; 0.012252414331185714 0.017699103164726383 0.023768828490926066 0.03115727670846465 0.0408151861475605 0.054437004790371876 0.07563335462300808 0.11395703348176572 0.20604469228944997 0.7476875811791972 -0.5390320280730068 -0.20900184425817941 -0.13340793742958373 -0.0997706037747685 -0.08069038747065345 -0.06836510827292025; -0.010862729414602052 -0.01550814800413379 -0.02052173343418945 -0.026394031143295377 -0.03370561680130063 -0.043368547408307645 -0.057060382755133705 -0.07836685411122442 -0.11670230845983126 -0.2074663516698947 -0.7025842622831697 0.5926762787875365 0.21925984413239644 0.13821971864969776 0.10268233182661834 0.08267283325180845; -0.0096176277008223 -0.01359995415656978 -0.017787357150500373 -0.022544625809092174 -0.028251731341933525 -0.0354453222979271 -0.045009807511013585 -0.058588821970032685 -0.07968790070285581 -0.1174246261191525 -0.20537377103703372 -0.6512308730832085 0.6498288440403247 0.22750877562908736 0.1415146093818809 0.10441232590342037; -0.00845053029387434 -0.01185515233573955 -0.01535835742932752 -0.0192406359224281 -0.02376279812761876 -0.029260068277526263 -0.03623795214214493 -0.045544791617391 -0.05876052671167516 -0.07923824240410166 -0.11560391962701894 -0.19890861744450383 -0.5911895256055305 0.7124613162167028 0.23289858030797256 0.1427070054758979; -0.007279976395774402 -0.010144626790489553 -0.01303852062321656 -0.01617973127971462 -0.019751656931311593 -0.02397062703031984 -0.029138906937629244 -0.035724603648859744 -0.0445182067851526 -0.05698882061996868 -0.07623206719350208 -0.1101077659951977 -0.18618083971599225 -0.5173924183997669 0.7850092541898908 0.23358053467859355; -0.005929164398571939 -0.008214338299714056 -0.0104862579066015 -0.012908898782972682 -0.01560844498974832 -0.018722314806884164 -0.022429749088301504 -0.026990207991981378 -0.032809614862210144 -0.04057329470531767 -0.05154762118551934 -0.06837306627178383 -0.09763623383637585 -0.1616641943168986 -0.4154395290812109 0.8828828971430895]\n"
     ]
    }
   ],
   "source": [
    "s5model = let\n",
    "\n",
    "    # initialize -\n",
    "    number_of_hidden_states = 2^4; # number of hidden states\n",
    "    number_of_inputs = number_of_neurons; # number of inputs\n",
    "    number_of_outputs = 10; # the number of numbers we want to classify\n",
    "    Δt = 20.0; # we'll use the same time step as before\n",
    "\n",
    "    # build model -\n",
    "    model = build(MyS5Model, (\n",
    "        Δt = Δt, # time step (ms)\n",
    "        number_of_hidden_states = number_of_hidden_states, # number of hidden states\n",
    "        number_of_inputs = number_of_inputs, # number of inputs\n",
    "        number_of_outputs = number_of_outputs, # the number of outputs\n",
    "    ));\n",
    "\n",
    "    model;\n",
    "end;"
   ]
  },
  {
   "cell_type": "code",
   "execution_count": 16,
   "id": "49193190",
   "metadata": {},
   "outputs": [],
   "source": []
  },
  {
   "cell_type": "markdown",
   "id": "4312c353",
   "metadata": {},
   "source": [
    "Fill me in"
   ]
  },
  {
   "cell_type": "code",
   "execution_count": 36,
   "id": "80a58f8f",
   "metadata": {},
   "outputs": [
    {
     "name": "stdout",
     "output_type": "stream",
     "text": [
      "size(H) = (100, 16)\n"
     ]
    }
   ],
   "source": [
    "(TS5,HS5,YS5, U) = let\n",
    "    \n",
    "    U = s |> s-> transpose(s) |> Matrix .|> x-> tanh_fast(x);\n",
    "    (TS5,HS5,YS5) = solve(s5model,U,100);\n",
    "\n",
    "    TS5, HS5, YS5, U\n",
    "end;"
   ]
  },
  {
   "cell_type": "code",
   "execution_count": 37,
   "id": "17ee349a",
   "metadata": {},
   "outputs": [
    {
     "data": {
      "text/plain": [
       "16×101 Matrix{Float64}:\n",
       " 0.0  0.0       0.0       0.761594  0.0       …  0.0       0.0       0.0\n",
       " 0.0  0.0       0.0       0.0       0.761594     0.0       0.0       0.0\n",
       " 0.0  0.0       0.0       0.761594  0.0          0.0       0.0       0.761594\n",
       " 0.0  0.0       0.0       0.761594  0.0          0.0       0.0       0.761594\n",
       " 0.0  0.761594  0.0       0.0       0.0          0.0       0.0       0.761594\n",
       " 0.0  0.761594  0.0       0.0       0.0       …  0.0       0.0       0.0\n",
       " 0.0  0.0       0.0       0.761594  0.0          0.761594  0.0       0.0\n",
       " 0.0  0.0       0.0       0.761594  0.0          0.0       0.761594  0.0\n",
       " 0.0  0.0       0.761594  0.0       0.0          0.761594  0.0       0.0\n",
       " 0.0  0.0       0.0       0.761594  0.0          0.0       0.0       0.0\n",
       " 0.0  0.0       0.0       0.0       0.761594  …  0.0       0.0       0.0\n",
       " 0.0  0.0       0.0       0.761594  0.0          0.0       0.0       0.761594\n",
       " 0.0  0.0       0.0       0.761594  0.0          0.0       0.0       0.761594\n",
       " 0.0  0.0       0.761594  0.0       0.0          0.0       0.0       0.0\n",
       " 0.0  0.0       0.0       0.761594  0.0          0.0       0.0       0.0\n",
       " 0.0  0.0       0.761594  0.0       0.0       …  0.0       0.0       0.761594"
      ]
     },
     "metadata": {},
     "output_type": "display_data"
    }
   ],
   "source": [
    "U"
   ]
  },
  {
   "cell_type": "code",
   "execution_count": 38,
   "id": "895c4250",
   "metadata": {},
   "outputs": [
    {
     "data": {
      "text/plain": [
       "16-element Vector{Float64}:\n",
       " -0.9992787431693497\n",
       " -1.2050696587350904\n",
       " -1.099113296124118\n",
       " -1.0654248121813241\n",
       " -1.0488530884587834\n",
       " -1.0389892526325795\n",
       " -1.0324429294403448\n",
       " -1.0277795113796488\n",
       " -1.0242874346747073\n",
       " -1.021573500316455\n",
       " -1.0194026135040308\n",
       " -1.0176254234150621\n",
       " -1.016142255284616\n",
       " -1.0148835619819165\n",
       " -1.013798119682867\n",
       " -1.0128425936270384"
      ]
     },
     "metadata": {},
     "output_type": "display_data"
    }
   ],
   "source": [
    "diag(s5model.Ā)"
   ]
  },
  {
   "cell_type": "code",
   "execution_count": 20,
   "id": "cd2f7fd0",
   "metadata": {},
   "outputs": [],
   "source": []
  }
 ],
 "metadata": {
  "kernelspec": {
   "display_name": "Julia 1.11.5",
   "language": "julia",
   "name": "julia-1.11"
  },
  "language_info": {
   "file_extension": ".jl",
   "mimetype": "application/julia",
   "name": "julia",
   "version": "1.11.5"
  }
 },
 "nbformat": 4,
 "nbformat_minor": 5
}
