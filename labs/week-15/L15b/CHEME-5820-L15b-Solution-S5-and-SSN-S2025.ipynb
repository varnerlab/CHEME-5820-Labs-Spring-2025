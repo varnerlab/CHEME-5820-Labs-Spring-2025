{
 "cells": [
  {
   "cell_type": "markdown",
   "id": "4b0b40ea-0b0d-4237-b28e-653a016bbe43",
   "metadata": {},
   "source": [
    "# L15b: Combining S5 and Spike Nueral Networks\n",
    "Fill me in.\n",
    "\n",
    "\n",
    "### Tasks\n",
    "Before we start, execute the `Run All Cells` command to check if you (or your neighbor) have any code or setup issues. Code issues, then raise your hands - and let's get those fixed!\n",
    "* __Task 1: Setup, Data, Prerequisites (10 min)__: In this task, we set up the computational environment and then specify a simple text sequence, e.g., a sentence without punctuation. From this sequence, we'll build a vocabulary, an inverse vocabulary, and the training datasets for the CBOW and skip-gram models. \n",
    "* __Task 2: Build and Train a CBOW model instance (20 min)__: In this task, we build and train a Continuous Bag of Words (CBOW) model instance on a sample input sequence. We start by creating a model instance, and then we train this instance for a few epochs, and finally, we see how the model performs.\n",
    "* __Task 3: Build and train a skip-gram model instance (20 min)__: In this task, we will build and train a skip-gram model instance on the sample input sequence we selected above. We start by creating a model instance, then train it for a few epochs and see how it performs.\n",
    "\n",
    "Let's get started!\n",
    "\n",
    "___"
   ]
  },
  {
   "cell_type": "markdown",
   "id": "28e06d22",
   "metadata": {},
   "source": [
    "## Task 1: Setup, Data, Prerequisites\n",
    "We set up the computational environment by including the `Include.jl` file, loading any needed resources, such as sample datasets, and setting up any required constants. \n",
    "* The `Include.jl` file also loads external packages, various functions that we will use in the exercise, and custom types to model the components of our problem. It checks for a `Manifest.toml` file; if it finds one, packages are loaded. Other packages are downloaded and then loaded."
   ]
  },
  {
   "cell_type": "code",
   "execution_count": 1,
   "id": "0f3aa51b",
   "metadata": {},
   "outputs": [],
   "source": [
    "include(\"Include.jl\");"
   ]
  },
  {
   "cell_type": "code",
   "execution_count": 2,
   "id": "17752d75",
   "metadata": {},
   "outputs": [],
   "source": [
    "file_extension(file::String) = file[findlast(==('.'), file)+1:end]; # helper function to get the file extension"
   ]
  },
  {
   "cell_type": "markdown",
   "id": "406bb1c0",
   "metadata": {},
   "source": [
    "### Load the MNIST digits data set\n",
    "In this example, we'll use a Hopfield network to learn a single image pattern from [the MNIST handwritten digits dataset](https://en.wikipedia.org/wiki/MNIST_database). The goal is to train the network to recognize a digit, e.g., \"3\" or \"5\", etc, and then retrieve it from a noisy input.\n",
    "\n",
    "Load a training image dataset that we'll encode into the Hopfield network. We'll save training data in the `training_image_dataset` variable.\n",
    "* _What's in the training dataset_? The `training_image_dataset` will be of type `Vector{Tuple{Vector{Float32}, OneHotVector{UInt32}}}` where the first element is the input data `x.` The second element is the `label,` i.e., whether the image corresponds to `0,....,9`. However, the label is encoded as a `OneHotVector` (see below).\n",
    "* _Hmmm. That's strange_. The `Vector{Tuple{Vector{Float32}, OneHotVector{UInt32}}}` type has a couple of _weird features_. First, notice that the floating point is `Float32`, not the default `Float64`. Next, the labels are [One Hot ecoded](https://en.wikipedia.org/wiki/One-hot). Finally, the input data `x` is a Vector, not a Matrix (even though the original image is a matrix of `Gray` values).\n",
    "\n",
    "However, before we load the training data, let's set some constants, which we use below. The comment next to each constant describes it, its permissible values, units, etc."
   ]
  },
  {
   "cell_type": "code",
   "execution_count": 3,
   "id": "b0deacbc",
   "metadata": {},
   "outputs": [],
   "source": [
    "number_of_training_examples = 30; # how many training examples of *each* number to include from the library\n",
    "number_digit_array = range(0,length=10,step=1) |> collect; # numbers 0 ... 9\n",
    "number_of_rows = 28; # number of rows in the image\n",
    "number_of_cols = 28; # number of cols in the image\n",
    "number_of_pixels = number_of_rows*number_of_cols; # how many pixels do we have in the image?\n",
    "number_of_images_to_memorize = 3; # number of images that we want to encode"
   ]
  },
  {
   "cell_type": "markdown",
   "id": "c3c1c2e2",
   "metadata": {},
   "source": [
    "`Unhide` the code blocks below to see how we construct and populate the `training_image_dataset` variable. First, we load all the images into the `training_image_dictionary::Dict{Int64, Array{Gray{N0f8},3}}`, and then we'll convert these to a vector format below."
   ]
  },
  {
   "cell_type": "code",
   "execution_count": 4,
   "id": "5ec7e35a",
   "metadata": {},
   "outputs": [],
   "source": [
    "training_image_dictionary = let\n",
    "    training_image_dictionary = Dict{Int64, Array{Gray{N0f8},3}}();\n",
    "    for i ∈ number_digit_array\n",
    "        \n",
    "        # create a set for this digit -\n",
    "        image_digit_array = Array{Gray{N0f8},3}(undef, number_of_rows, number_of_cols, number_of_training_examples);\n",
    "        files = readdir(joinpath(_PATH_TO_IMAGES,\"$(i)\")); \n",
    "        imagecount = 1;\n",
    "        for fileindex ∈ 1:number_of_training_examples\n",
    "            filename = files[fileindex];\n",
    "            ext = file_extension(filename)\n",
    "            if (ext == \"jpg\")\n",
    "                image_digit_array[:,:,fileindex] = joinpath(_PATH_TO_IMAGES, \"$(i)\", filename) |> x-> FileIO.load(x);\n",
    "                imagecount += 1\n",
    "            end\n",
    "        end\n",
    "    \n",
    "        # capture -\n",
    "        training_image_dictionary[i] = image_digit_array\n",
    "    end\n",
    "    training_image_dictionary\n",
    "end;"
   ]
  },
  {
   "cell_type": "markdown",
   "id": "837fc8eb",
   "metadata": {},
   "source": [
    "Next, we take the images in array format and vectorize them. \n",
    "* _What do we mean by vectorize_? Each $N\\times{N}$ image array containing the grayscale values at each pixel is converted to an $N^{2}$ vector of values. What image class, i.e., what number it represents, is then converted to [one-hot format](https://en.wikipedia.org/wiki/One-hot). The converted data is stored in the `training_image_dataset::Vector{Tuple{Vector{Float32}, OneHotVector{UInt32}}}` variable.\n",
    "* _What's the deal with Float32_? Most neural network libraries (or other machine learning calculations) use `Float32` (or lower) to save memory because of the large number of parameters associated with the network. Additionally, model training is often carried out using specialized hardware [such as Graphical Processing Units (GPUs)](https://www.nvidia.com/en-us/data-center/h100/), which has different memory constraints."
   ]
  },
  {
   "cell_type": "code",
   "execution_count": 5,
   "id": "a2b79705",
   "metadata": {},
   "outputs": [],
   "source": [
    "training_image_dataset = let\n",
    "    training_image_dataset = Vector{Tuple{Vector{Float32}, OneHotVector{UInt32}}}()\n",
    "    for i ∈ number_digit_array\n",
    "        Y = onehot(i, number_digit_array);\n",
    "        X = training_image_dictionary[i];\n",
    "        \n",
    "        for t ∈ 1:number_of_training_examples\n",
    "            D = Array{Float32,1}(undef, number_of_pixels);\n",
    "            linearindex = 1;\n",
    "            for row ∈ 1:number_of_rows\n",
    "                for col ∈ 1:number_of_cols\n",
    "                    D[linearindex] = X[row,col,t] |> x-> convert(Float32,x);\n",
    "                    linearindex+=1;\n",
    "                end\n",
    "            end\n",
    "    \n",
    "            training_tuple = (D,Y);\n",
    "            push!(training_image_dataset,training_tuple);\n",
    "        end\n",
    "    end\n",
    "    training_image_dataset\n",
    "end;"
   ]
  },
  {
   "cell_type": "markdown",
   "id": "d745b933",
   "metadata": {},
   "source": [
    "## Task 2: What is a Spiking Neural Network?\n",
    "Fill me in."
   ]
  },
  {
   "cell_type": "code",
   "execution_count": 6,
   "id": "5b4ab1c3",
   "metadata": {},
   "outputs": [],
   "source": [
    "number_of_samples = length(training_image_dataset); # how many samples do we have?\n",
    "number_of_neurons = 2^4; # how many SSN neurons do we want?\n",
    "number_of_inputs = number_of_pixels; # how many inputs do we have?\n",
    "ν = 0.1; # Table 2: firing threshold https://arxiv.org/abs/2205.11276\n",
    "τ = 20.0; # Table 2: time constant (ms) https://arxiv.org/abs/2205.11276\n",
    "Δt = 1.0; # samping time step (ms)\n",
    "T = 100; # number of time steps of length Δt (ms) to simulate"
   ]
  },
  {
   "cell_type": "markdown",
   "id": "26ad0a92",
   "metadata": {},
   "source": [
    "Fill me in"
   ]
  },
  {
   "cell_type": "code",
   "execution_count": 7,
   "id": "7b4d4973",
   "metadata": {},
   "outputs": [
    {
     "data": {
      "text/plain": [
       "784×100 Matrix{Int64}:\n",
       " 0  0  0  0  0  0  0  0  0  0  0  0  0  …  0  0  0  0  0  0  0  0  0  0  0  0\n",
       " 0  0  0  0  0  0  0  0  0  0  0  0  0     0  0  0  0  0  0  0  0  0  0  0  0\n",
       " 0  0  0  0  0  0  0  0  0  0  0  0  0     0  0  0  0  0  0  0  0  0  0  0  0\n",
       " 0  0  0  0  0  0  0  0  0  0  0  0  0     0  0  0  0  0  0  0  0  0  0  0  0\n",
       " 0  0  0  0  0  0  0  0  0  0  0  0  0     0  0  0  0  0  0  0  0  0  0  0  0\n",
       " 0  0  0  0  0  0  0  0  0  0  0  0  0  …  0  0  0  0  0  0  0  0  0  0  0  0\n",
       " 0  0  0  0  0  0  0  0  0  0  0  0  0     0  0  0  0  0  0  0  0  0  0  0  0\n",
       " 0  0  0  0  0  0  0  0  0  0  0  0  0     0  0  0  0  0  0  0  0  0  0  0  0\n",
       " 0  0  0  0  0  0  0  0  0  0  0  0  0     0  0  0  0  0  0  0  0  0  0  0  0\n",
       " 0  0  0  0  0  0  0  0  0  0  0  0  0     0  0  0  0  0  0  0  0  0  0  0  0\n",
       " ⋮              ⋮              ⋮        ⋱        ⋮              ⋮           \n",
       " 0  0  0  0  0  0  0  0  0  0  0  0  0  …  0  0  0  0  0  0  0  0  0  0  0  0\n",
       " 0  0  0  0  0  0  0  0  0  0  0  0  0     0  0  0  0  0  0  0  0  0  0  0  0\n",
       " 0  0  0  0  0  0  0  0  0  0  0  0  0     0  0  0  0  0  0  0  0  0  0  0  0\n",
       " 0  0  0  0  0  0  0  0  0  0  0  0  0     0  0  0  0  0  0  0  0  0  0  0  0\n",
       " 0  0  0  0  0  0  0  0  0  0  0  0  0     0  0  0  0  0  0  0  0  0  0  0  0\n",
       " 0  0  0  0  0  0  0  0  0  0  0  0  0  …  0  0  0  0  0  0  0  0  0  0  0  0\n",
       " 0  0  0  0  0  0  0  0  0  0  0  0  0     0  0  0  0  0  0  0  0  0  0  0  0\n",
       " 0  0  0  0  0  0  0  0  0  0  0  0  0     0  0  0  0  0  0  0  0  0  0  0  0\n",
       " 0  0  0  0  0  0  0  0  0  0  0  0  0     0  0  0  0  0  0  0  0  0  0  0  0"
      ]
     },
     "metadata": {},
     "output_type": "display_data"
    }
   ],
   "source": [
    "Z = let\n",
    "\n",
    "    # initialize -\n",
    "    Z = Array{Int64,2}(undef, number_of_inputs, T);\n",
    "\n",
    "    for i ∈ 1:T\n",
    "        z = training_image_dataset[i][1] |> x-> round.(Int, x);\n",
    "        Z[:,i] = z;\n",
    "    end\n",
    "    Z \n",
    "end"
   ]
  },
  {
   "cell_type": "markdown",
   "id": "cb209bcd",
   "metadata": {},
   "source": [
    "Fill me in"
   ]
  },
  {
   "cell_type": "code",
   "execution_count": 8,
   "id": "ba726710",
   "metadata": {},
   "outputs": [],
   "source": [
    "ssnmodel = let\n",
    "\n",
    "    # build model -\n",
    "    model = build(MyLIFSpikingNeuralNetworkModel, (\n",
    "        Δt = Δt, # time step (ms)\n",
    "        τ = τ, # time constant (ms)\n",
    "        ν = ν, # firing threshold\n",
    "        number_of_nodes = number_of_neurons, # number of neurons\n",
    "        number_of_inputs = number_of_inputs, # number of inputs\n",
    "    ));\n",
    "\n",
    "    model;\n",
    "end;"
   ]
  },
  {
   "cell_type": "code",
   "execution_count": 9,
   "id": "1b8f5f1e",
   "metadata": {},
   "outputs": [
    {
     "data": {
      "text/plain": [
       "16×784 Matrix{Float64}:\n",
       " 0.00988348  0.00161928  0.00386516   0.00873629  …  0.00200568   0.00887687\n",
       " 0.00177562  0.0095412   0.000256736  0.00943899     0.00774196   0.00859256\n",
       " 0.00980666  0.00290794  0.00378331   0.00138199     0.00929561   0.000571135\n",
       " 0.0092034   0.00901559  0.00581208   0.00682782     0.00156106   0.00765576\n",
       " 0.00993806  0.00244868  0.00657704   0.00514853     9.03101e-5   0.00692853\n",
       " 0.00274619  0.00257147  0.00592389   0.00584977  …  0.000410583  0.00402977\n",
       " 0.00239403  0.00387679  0.00175342   0.00719157     0.00603062   0.00342657\n",
       " 0.00447416  0.00693688  0.00857481   0.00142549     0.00440817   0.00709038\n",
       " 0.00299108  0.0098294   0.00479925   0.00599141     0.00882588   0.00669089\n",
       " 0.00561078  0.00411231  0.00973699   0.00156602     0.00889314   0.00368341\n",
       " 0.00409053  0.00821235  0.00596397   0.00679111  …  0.00447235   0.00502922\n",
       " 0.00399913  0.00143441  0.00560684   0.00679323     0.00661474   0.0067478\n",
       " 0.00419029  0.00903239  0.0037201    0.00659171     0.00446627   0.00691355\n",
       " 0.00815346  0.00281148  0.00146121   0.00205809     0.00569659   0.0019109\n",
       " 0.00190326  0.0016683   0.00260661   0.00852922     0.00809851   0.00151469\n",
       " 0.00884275  0.00350719  0.00905346   0.00550136  …  0.00165835   0.00955708"
      ]
     },
     "metadata": {},
     "output_type": "display_data"
    }
   ],
   "source": [
    "ssnmodel.W"
   ]
  },
  {
   "cell_type": "markdown",
   "id": "42c5d36f",
   "metadata": {},
   "source": [
    "Fill me in"
   ]
  },
  {
   "cell_type": "code",
   "execution_count": 10,
   "id": "bec6a64f",
   "metadata": {},
   "outputs": [
    {
     "data": {
      "text/plain": [
       "784×100 Matrix{Int64}:\n",
       " 0  0  0  0  0  0  0  0  0  0  0  0  0  …  0  0  0  0  0  0  0  0  0  0  0  0\n",
       " 0  0  0  0  0  0  0  0  0  0  0  0  0     0  0  0  0  0  0  0  0  0  0  0  0\n",
       " 0  0  0  0  0  0  0  0  0  0  0  0  0     0  0  0  0  0  0  0  0  0  0  0  0\n",
       " 0  0  0  0  0  0  0  0  0  0  0  0  0     0  0  0  0  0  0  0  0  0  0  0  0\n",
       " 0  0  0  0  0  0  0  0  0  0  0  0  0     0  0  0  0  0  0  0  0  0  0  0  0\n",
       " 0  0  0  0  0  0  0  0  0  0  0  0  0  …  0  0  0  0  0  0  0  0  0  0  0  0\n",
       " 0  0  0  0  0  0  0  0  0  0  0  0  0     0  0  0  0  0  0  0  0  0  0  0  0\n",
       " 0  0  0  0  0  0  0  0  0  0  0  0  0     0  0  0  0  0  0  0  0  0  0  0  0\n",
       " 0  0  0  0  0  0  0  0  0  0  0  0  0     0  0  0  0  0  0  0  0  0  0  0  0\n",
       " 0  0  0  0  0  0  0  0  0  0  0  0  0     0  0  0  0  0  0  0  0  0  0  0  0\n",
       " ⋮              ⋮              ⋮        ⋱        ⋮              ⋮           \n",
       " 0  0  0  0  0  0  0  0  0  0  0  0  0  …  0  0  0  0  0  0  0  0  0  0  0  0\n",
       " 0  0  0  0  0  0  0  0  0  0  0  0  0     0  0  0  0  0  0  0  0  0  0  0  0\n",
       " 0  0  0  0  0  0  0  0  0  0  0  0  0     0  0  0  0  0  0  0  0  0  0  0  0\n",
       " 0  0  0  0  0  0  0  0  0  0  0  0  0     0  0  0  0  0  0  0  0  0  0  0  0\n",
       " 0  0  0  0  0  0  0  0  0  0  0  0  0     0  0  0  0  0  0  0  0  0  0  0  0\n",
       " 0  0  0  0  0  0  0  0  0  0  0  0  0  …  0  0  0  0  0  0  0  0  0  0  0  0\n",
       " 0  0  0  0  0  0  0  0  0  0  0  0  0     0  0  0  0  0  0  0  0  0  0  0  0\n",
       " 0  0  0  0  0  0  0  0  0  0  0  0  0     0  0  0  0  0  0  0  0  0  0  0  0\n",
       " 0  0  0  0  0  0  0  0  0  0  0  0  0     0  0  0  0  0  0  0  0  0  0  0  0"
      ]
     },
     "metadata": {},
     "output_type": "display_data"
    }
   ],
   "source": [
    "Z"
   ]
  },
  {
   "cell_type": "code",
   "execution_count": 11,
   "id": "bb453221",
   "metadata": {},
   "outputs": [],
   "source": [
    "(T,V,s) = solve(ssnmodel, Z, 100, Δ = 3);"
   ]
  },
  {
   "cell_type": "code",
   "execution_count": 12,
   "id": "f1995d1e",
   "metadata": {},
   "outputs": [
    {
     "data": {
      "image/png": "[encoded data removed]",
      "text/html": [
       "<img src=\"data:image/png;base64,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\">"
      ],
      "text/plain": [
       "\u001b[0m\u001b[38;5;232;48;5;232m▀\u001b[38;5;232;48;5;232m▀\u001b[38;5;232;48;5;232m▀\u001b[38;5;232;48;5;232m▀\u001b[38;5;232;48;5;232m▀\u001b[0m\n",
       "\u001b[0m\u001b[38;5;232;48;5;232m▀\u001b[38;5;232;48;5;232m▀\u001b[38;5;232;48;5;232m▀\u001b[38;5;232;48;5;232m▀\u001b[38;5;232;48;5;232m▀\u001b[0m\n",
       "\u001b[0m\u001b[38;5;232;48;5;232m▀\u001b[38;5;232;48;5;234m▀\u001b[38;5;233;48;5;235m▀\u001b[38;5;234;48;5;236m▀\u001b[38;5;232;48;5;232m▀\u001b[0m\n",
       "\u001b[0m\u001b[38;5;232;48;5;233m▀\u001b[38;5;235;48;5;236m▀\u001b[38;5;235;48;5;236m▀\u001b[38;5;236;48;5;236m▀\u001b[38;5;233;48;5;233m▀\u001b[0m\n",
       "\u001b[0m\u001b[38;5;233;48;5;233m▀\u001b[38;5;237;48;5;237m▀\u001b[38;5;235;48;5;235m▀\u001b[38;5;235;48;5;235m▀\u001b[38;5;232;48;5;232m▀\u001b[0m\n",
       "\u001b[0m\u001b[38;5;233;48;5;233m▀\u001b[38;5;237;48;5;236m▀\u001b[38;5;235;48;5;235m▀\u001b[38;5;234;48;5;235m▀\u001b[38;5;232;48;5;232m▀\u001b[0m\n",
       "\u001b[0m\u001b[38;5;233;48;5;233m▀\u001b[38;5;236;48;5;236m▀\u001b[38;5;235;48;5;235m▀\u001b[38;5;235;48;5;235m▀\u001b[38;5;232;48;5;232m▀\u001b[0m\n",
       "\u001b[0m\u001b[38;5;232;48;5;233m▀\u001b[38;5;236;48;5;236m▀\u001b[38;5;235;48;5;236m▀\u001b[38;5;236;48;5;236m▀\u001b[38;5;232;48;5;232m▀\u001b[0m\n",
       "\u001b[0m\u001b[38;5;233;48;5;233m▀\u001b[38;5;236;48;5;236m▀\u001b[38;5;236;48;5;237m▀\u001b[38;5;237;48;5;238m▀\u001b[38;5;232;48;5;233m▀\u001b[0m\n",
       "\u001b[0m\u001b[38;5;233;48;5;233m▀\u001b[38;5;237;48;5;237m▀\u001b[38;5;237;48;5;236m▀\u001b[38;5;238;48;5;238m▀\u001b[38;5;233;48;5;233m▀\u001b[0m\n",
       "\u001b[0m\u001b[38;5;232;48;5;232m▀\u001b[38;5;236;48;5;234m▀\u001b[38;5;235;48;5;233m▀\u001b[38;5;235;48;5;233m▀\u001b[38;5;233;48;5;232m▀\u001b[0m\n",
       "\u001b[0m\u001b[38;5;232;48;5;232m▀\u001b[38;5;232;48;5;232m▀\u001b[38;5;232;48;5;232m▀\u001b[38;5;232;48;5;232m▀\u001b[38;5;232;48;5;232m▀\u001b[0m\n",
       "\u001b[0m\u001b[38;5;232;48;5;232m▀\u001b[38;5;232;48;5;232m▀\u001b[38;5;232;48;5;232m▀\u001b[38;5;232;48;5;232m▀\u001b[38;5;232;48;5;232m▀\u001b[0m\n"
      ]
     },
     "metadata": {},
     "output_type": "display_data"
    }
   ],
   "source": [
    "Gray.(Z)"
   ]
  },
  {
   "cell_type": "markdown",
   "id": "82460051",
   "metadata": {},
   "source": [
    "Fill me in"
   ]
  },
  {
   "cell_type": "code",
   "execution_count": 13,
   "id": "2060538e",
   "metadata": {},
   "outputs": [
    {
     "data": {
      "text/plain": [
       "101×16 Matrix{Float64}:\n",
       " 0.0  0.0  0.0  0.0  0.0  0.0  0.0  0.0  …  0.0  0.0  0.0  0.0  0.0  0.0  0.0\n",
       " 0.0  0.0  0.0  0.0  0.0  0.0  0.0  0.0     0.0  0.0  0.0  0.0  0.0  0.0  0.0\n",
       " 0.0  0.0  0.0  0.0  0.0  1.0  0.0  1.0     0.0  0.0  0.0  0.0  0.0  0.0  0.0\n",
       " 1.0  0.0  0.0  1.0  0.0  0.0  0.0  0.0     1.0  0.0  1.0  0.0  0.0  0.0  1.0\n",
       " 0.0  1.0  0.0  0.0  1.0  0.0  1.0  0.0     0.0  1.0  0.0  1.0  1.0  0.0  0.0\n",
       " 0.0  0.0  1.0  0.0  0.0  0.0  0.0  0.0  …  0.0  0.0  0.0  0.0  0.0  1.0  0.0\n",
       " 0.0  0.0  0.0  0.0  0.0  1.0  0.0  1.0     0.0  0.0  0.0  0.0  0.0  0.0  0.0\n",
       " 1.0  0.0  0.0  1.0  0.0  0.0  0.0  0.0     1.0  0.0  1.0  0.0  0.0  0.0  1.0\n",
       " 0.0  1.0  0.0  0.0  1.0  0.0  1.0  0.0     0.0  1.0  0.0  1.0  1.0  0.0  0.0\n",
       " 0.0  0.0  1.0  0.0  0.0  0.0  0.0  0.0     0.0  0.0  0.0  0.0  0.0  1.0  0.0\n",
       " ⋮                        ⋮              ⋱       ⋮                        ⋮\n",
       " 0.0  0.0  0.0  1.0  0.0  0.0  0.0  0.0     1.0  0.0  0.0  0.0  1.0  0.0  0.0\n",
       " 0.0  0.0  0.0  0.0  0.0  0.0  1.0  0.0     0.0  1.0  1.0  0.0  0.0  0.0  0.0\n",
       " 0.0  1.0  1.0  0.0  0.0  0.0  0.0  1.0     0.0  0.0  0.0  0.0  0.0  0.0  0.0\n",
       " 1.0  0.0  0.0  0.0  0.0  1.0  0.0  0.0  …  0.0  0.0  0.0  0.0  0.0  0.0  1.0\n",
       " 0.0  0.0  0.0  1.0  1.0  0.0  0.0  0.0     1.0  0.0  0.0  1.0  1.0  1.0  0.0\n",
       " 0.0  0.0  0.0  0.0  0.0  0.0  1.0  0.0     0.0  1.0  1.0  0.0  0.0  0.0  0.0\n",
       " 0.0  1.0  1.0  0.0  0.0  0.0  0.0  1.0     0.0  0.0  0.0  0.0  0.0  0.0  0.0\n",
       " 1.0  0.0  0.0  0.0  0.0  0.0  0.0  0.0     0.0  0.0  0.0  0.0  0.0  0.0  1.0\n",
       " 0.0  0.0  0.0  1.0  1.0  1.0  0.0  0.0  …  1.0  0.0  0.0  1.0  1.0  1.0  0.0"
      ]
     },
     "metadata": {},
     "output_type": "display_data"
    }
   ],
   "source": [
    "s"
   ]
  },
  {
   "cell_type": "code",
   "execution_count": 14,
   "id": "6eeacbdc",
   "metadata": {},
   "outputs": [
    {
     "data": {
      "text/plain": [
       "100×16 Matrix{Float64}:\n",
       " 0.0  0.0  0.0  0.0  0.0  0.0  0.0  0.0  …  0.0  0.0  0.0  0.0  0.0  0.0  0.0\n",
       " 0.0  0.0  0.0  0.0  0.0  1.0  0.0  1.0     0.0  0.0  0.0  0.0  0.0  0.0  0.0\n",
       " 1.0  0.0  0.0  1.0  0.0  0.0  0.0  0.0     1.0  0.0  1.0  0.0  0.0  0.0  1.0\n",
       " 0.0  1.0  0.0  0.0  1.0  0.0  1.0  0.0     0.0  1.0  0.0  1.0  1.0  0.0  0.0\n",
       " 0.0  0.0  1.0  0.0  0.0  0.0  0.0  0.0     0.0  0.0  0.0  0.0  0.0  1.0  0.0\n",
       " 0.0  0.0  0.0  0.0  0.0  1.0  0.0  1.0  …  0.0  0.0  0.0  0.0  0.0  0.0  0.0\n",
       " 1.0  0.0  0.0  1.0  0.0  0.0  0.0  0.0     1.0  0.0  1.0  0.0  0.0  0.0  1.0\n",
       " 0.0  1.0  0.0  0.0  1.0  0.0  1.0  0.0     0.0  1.0  0.0  1.0  1.0  0.0  0.0\n",
       " 0.0  0.0  1.0  0.0  0.0  0.0  0.0  0.0     0.0  0.0  0.0  0.0  0.0  1.0  0.0\n",
       " 0.0  0.0  0.0  0.0  0.0  1.0  0.0  1.0     0.0  0.0  0.0  0.0  0.0  0.0  0.0\n",
       " ⋮                        ⋮              ⋱       ⋮                        ⋮\n",
       " 0.0  0.0  0.0  1.0  0.0  0.0  0.0  0.0     1.0  0.0  0.0  0.0  1.0  0.0  0.0\n",
       " 0.0  0.0  0.0  0.0  0.0  0.0  1.0  0.0     0.0  1.0  1.0  0.0  0.0  0.0  0.0\n",
       " 0.0  1.0  1.0  0.0  0.0  0.0  0.0  1.0     0.0  0.0  0.0  0.0  0.0  0.0  0.0\n",
       " 1.0  0.0  0.0  0.0  0.0  1.0  0.0  0.0     0.0  0.0  0.0  0.0  0.0  0.0  1.0\n",
       " 0.0  0.0  0.0  1.0  1.0  0.0  0.0  0.0  …  1.0  0.0  0.0  1.0  1.0  1.0  0.0\n",
       " 0.0  0.0  0.0  0.0  0.0  0.0  1.0  0.0     0.0  1.0  1.0  0.0  0.0  0.0  0.0\n",
       " 0.0  1.0  1.0  0.0  0.0  0.0  0.0  1.0     0.0  0.0  0.0  0.0  0.0  0.0  0.0\n",
       " 1.0  0.0  0.0  0.0  0.0  0.0  0.0  0.0     0.0  0.0  0.0  0.0  0.0  0.0  1.0\n",
       " 0.0  0.0  0.0  1.0  1.0  1.0  0.0  0.0     1.0  0.0  0.0  1.0  1.0  1.0  0.0"
      ]
     },
     "metadata": {},
     "output_type": "display_data"
    }
   ],
   "source": [
    "s[2:end,:]"
   ]
  },
  {
   "cell_type": "markdown",
   "id": "4588116d",
   "metadata": {},
   "source": [
    "## Task 3: Let's build an S5 model \n",
    "Fill me in."
   ]
  },
  {
   "cell_type": "code",
   "execution_count": null,
   "id": "04b34023",
   "metadata": {},
   "outputs": [
    {
     "name": "stdout",
     "output_type": "stream",
     "text": [
      "inv(V) = [-0.1056495988790453 -0.1359045209269539 -0.16023049340630036 -0.18103818411210618 -0.1994359954916472 -0.2160441968458639 -0.23125210797244647 -0.245323442463715 -0.25844685307264986 -0.27076296179749915 -0.2823800123795764 -0.29338350618643244 -0.3038424297195292 -0.3138134420405497 -0.3233437847671782 -0.33247336146373985; -0.9883977122433221 0.10387600067591617 0.059050330228393566 0.04406339506328711 0.03630184705933096 0.03145076607466633 0.028081410549615164 0.025577811391485232 0.023628384225049516 0.02205749595047059 0.020758062889794576 0.019660785478429095 0.018718665014288035 0.017898599105321794 0.017176535249168075 0.016534534412833087; -0.07957952023335717 -0.9741790560904617 0.1540523906740287 0.08186866439778037 0.059105381427705536 0.04770292034404788 0.04074545148964759 0.03600247378202859 0.032530907987555674 0.02986125998845835 0.02773248115077614 0.025987306154191616 0.024525038723210327 0.0232780369089181 0.022199068841893353 0.021254084176964148; 0.04557386870718013 0.1096899324102721 0.9567488176438623 -0.20195709369007164 -0.1021296955376064 -0.07197480077380758 -0.0571956655694911 -0.04831691162745379 -0.042338059188752816 -0.03800613835844769 -0.03470346122151541 -0.03208941633806505 -0.029960296983958745 -0.02818652165731496 -0.026681561993565604 -0.025385328019370965; -0.032815222843002055 -0.06167423710255662 -0.13409590695638765 -0.9361917272598757 0.2489706643803127 0.12080045141238192 0.0835180913902853 0.06555141296439074 0.054880950325942236 0.0477598168428974 0.042638609395113616 0.03875906365499458 0.03570554019834462 0.033230737889537794 0.031178063684806804 0.029443386761763394; -0.025874941204956346 -0.04374754760517397 -0.07497878216942688 -0.15415966339733447 -0.9126600134914853 0.29572355326252686 0.13822887804077827 0.09403832379653017 0.07304853202132099 0.06069829865993245 0.05251451643175322 0.046663449538105306 0.04225319127915672 0.03879720931929556 0.036007195613218884 0.0337012380293911; 0.021402030320376818 0.03410869040465868 0.052719970826664755 0.08617507572931007 0.1706020542720086 0.8861969330871381 -0.3426334855271461 -0.15456400445177368 -0.10366518252432788 -0.07980800522775458 -0.06588391793554343 -0.0567123076912716 -0.050186708547874374 -0.04528828258538277 -0.0414636204473222 -0.0383859218614766; -0.018218865005794956 -0.02795865127581913 -0.04077521055578878 -0.06024717896878258 -0.09557044804623303 -0.18384368668033618 -0.856733179645 0.3900479559762631 0.16985696971691885 0.11244596621671954 0.08587756499994417 0.07048568007049719 0.0604008510207083 0.053255606721386614 0.04791097892652099 0.04375075509259221; 0.01579765494218994 0.023614198013966532 0.03317822367541359 0.04629948058629169 0.06653545931470382 0.1033126682199082 0.19412141692758372 0.8240807272946596 -0.43830992000814273 -0.1840920206317263 -0.12037451873567058 -0.0912592181228432 -0.07451064080765266 -0.06359045053408068 -0.05588262998272614 -0.05013527635039462; 0.013862613110315239 0.020324646127418994 0.027823336787582507 0.037422996640128145 0.050838741059784094 0.07166432233622407 0.10945210152768027 0.20153296856504546 0.7879083403660232 -0.48780732817947503 -0.1971912863264109 -0.12739768406750474 -0.09591659236088844 -0.07793277439772946 -0.0662619232273199 -0.058053400383646064; 0.012252414331185714 0.017699103164726383 0.023768828490926066 0.03115727670846465 0.0408151861475605 0.054437004790371876 0.07563335462300808 0.11395703348176572 0.20604469228944997 0.7476875811791972 -0.5390320280730068 -0.20900184425817941 -0.13340793742958373 -0.0997706037747685 -0.08069038747065345 -0.06836510827292025; -0.010862729414602052 -0.01550814800413379 -0.02052173343418945 -0.026394031143295377 -0.03370561680130063 -0.043368547408307645 -0.057060382755133705 -0.07836685411122442 -0.11670230845983126 -0.2074663516698947 -0.7025842622831697 0.5926762787875365 0.21925984413239644 0.13821971864969776 0.10268233182661834 0.08267283325180845; -0.0096176277008223 -0.01359995415656978 -0.017787357150500373 -0.022544625809092174 -0.028251731341933525 -0.0354453222979271 -0.045009807511013585 -0.058588821970032685 -0.07968790070285581 -0.1174246261191525 -0.20537377103703372 -0.6512308730832085 0.6498288440403247 0.22750877562908736 0.1415146093818809 0.10441232590342037; -0.00845053029387434 -0.01185515233573955 -0.01535835742932752 -0.0192406359224281 -0.02376279812761876 -0.029260068277526263 -0.03623795214214493 -0.045544791617391 -0.05876052671167516 -0.07923824240410166 -0.11560391962701894 -0.19890861744450383 -0.5911895256055305 0.7124613162167028 0.23289858030797256 0.1427070054758979; -0.007279976395774402 -0.010144626790489553 -0.01303852062321656 -0.01617973127971462 -0.019751656931311593 -0.02397062703031984 -0.029138906937629244 -0.035724603648859744 -0.0445182067851526 -0.05698882061996868 -0.07623206719350208 -0.1101077659951977 -0.18618083971599225 -0.5173924183997669 0.7850092541898908 0.23358053467859355; -0.005929164398571939 -0.008214338299714056 -0.0104862579066015 -0.012908898782972682 -0.01560844498974832 -0.018722314806884164 -0.022429749088301504 -0.026990207991981378 -0.032809614862210144 -0.04057329470531767 -0.05154762118551934 -0.06837306627178383 -0.09763623383637585 -0.1616641943168986 -0.4154395290812109 0.8828828971430895]\n",
      "diag(Λ) = [-277.1937343548817, 1.0752783577718859, 2.1178927330753234, 3.156944197955083, 4.193906983357604, 5.229618715309254, 6.264671423021603, 7.299550678437015, 8.334710774468057, 9.370632816476808, 10.407889705603326, 11.44724512939005, 12.489842464615574, 13.537643505163565, 14.594728600473072, 15.673178269763525]\n"
     ]
    }
   ],
   "source": [
    "s5model = let\n",
    "\n",
    "    # initialize -\n",
    "    number_of_hidden_states = 2^4; # number of hidden states\n",
    "    number_of_inputs = number_of_neurons; # number of inputs\n",
    "    number_of_outputs = 10; # the number of numbers we want to classify\n",
    "    Δt = 2.0; # we'll use the same time step as before\n",
    "\n",
    "    # build model -\n",
    "    model = build(MyS5Model, (\n",
    "        Δt = Δt, # time step (ms)\n",
    "        number_of_hidden_states = number_of_hidden_states, # number of hidden states\n",
    "        number_of_inputs = number_of_inputs, # number of inputs\n",
    "        number_of_outputs = number_of_outputs, # the number of outputs\n",
    "    ));\n",
    "\n",
    "    model;\n",
    "end;"
   ]
  },
  {
   "cell_type": "code",
   "execution_count": 16,
   "id": "49193190",
   "metadata": {},
   "outputs": [],
   "source": []
  },
  {
   "cell_type": "markdown",
   "id": "4312c353",
   "metadata": {},
   "source": [
    "Fill me in"
   ]
  },
  {
   "cell_type": "code",
   "execution_count": 17,
   "id": "80a58f8f",
   "metadata": {},
   "outputs": [
    {
     "name": "stdout",
     "output_type": "stream",
     "text": [
      "size(H) = (100, 16)\n"
     ]
    }
   ],
   "source": [
    "(TS5,HS5,YS5) = let\n",
    "    \n",
    "    U = s |> s-> transpose(s) |> Matrix;\n",
    "    (TS5,HS5,YS5) = solve(s5model,U,100);\n",
    "\n",
    "    TS5, HS5, YS5\n",
    "end;"
   ]
  },
  {
   "cell_type": "code",
   "execution_count": 18,
   "id": "17ee349a",
   "metadata": {},
   "outputs": [
    {
     "data": {
      "text/plain": [
       "100×16 Matrix{Float64}:\n",
       "  0.0             0.0              0.0          …   0.0           0.0\n",
       "  0.0             0.0              0.0              0.0           0.0\n",
       " -0.36467         0.278729        -2.614           -0.0272209    -0.0220414\n",
       " -0.248338        1.39149         86.948           -0.00950209   -0.00824619\n",
       " -0.48456         5.18505      -3042.25            -0.0419219    -0.0334242\n",
       "  0.234504       17.4293           1.06261e5    …   0.0370887     0.028508\n",
       " -0.595815       58.2422          -3.71162e6       -0.0760888    -0.0588892\n",
       " -0.0205049     194.156            1.29644e8        0.0548859     0.0393812\n",
       " -0.709129      646.249           -4.52835e9       -0.12676      -0.0949846\n",
       "  0.45585      2149.37             1.58171e11       0.148891      0.108073\n",
       "  ⋮                                             ⋱                 ⋮\n",
       " -2.12538e121    -3.25967e123      5.50229e137      7.60931e121  -1.48825e121\n",
       "  7.42377e122     1.13857e125     -1.9219e139      -2.65787e123   5.19832e122\n",
       " -2.59306e124    -3.97694e126      6.71304e140      9.28371e124  -1.81573e124\n",
       "  9.05733e125     1.38911e128     -2.34481e142     -3.24272e126   6.34218e125\n",
       " -3.16365e127    -4.85205e129      8.19021e143  …   1.13265e128  -2.21527e127\n",
       "  1.10504e129     1.69478e131     -2.86077e145     -3.95626e129   7.73775e128\n",
       " -3.8598e130     -5.91972e132      9.99243e146      1.38189e131  -2.70273e130\n",
       "  1.34819e132     2.06771e134     -3.49027e148     -4.82682e132   9.44041e131\n",
       " -4.70913e133    -7.22233e135      1.21912e150      1.68597e134  -3.29745e133"
      ]
     },
     "metadata": {},
     "output_type": "display_data"
    }
   ],
   "source": [
    "HS5"
   ]
  },
  {
   "cell_type": "code",
   "execution_count": 19,
   "id": "bbe3108b",
   "metadata": {},
   "outputs": [
    {
     "data": {
      "text/plain": [
       "100×16 Matrix{Float64}:\n",
       "  0.0             0.0              0.0          …   0.0           0.0\n",
       "  0.0             0.0              0.0              0.0           0.0\n",
       " -0.36467         0.278729        -2.614           -0.0272209    -0.0220414\n",
       " -0.248338        1.39149         86.948           -0.00950209   -0.00824619\n",
       " -0.48456         5.18505      -3042.25            -0.0419219    -0.0334242\n",
       "  0.234504       17.4293           1.06261e5    …   0.0370887     0.028508\n",
       " -0.595815       58.2422          -3.71162e6       -0.0760888    -0.0588892\n",
       " -0.0205049     194.156            1.29644e8        0.0548859     0.0393812\n",
       " -0.709129      646.249           -4.52835e9       -0.12676      -0.0949846\n",
       "  0.45585      2149.37             1.58171e11       0.148891      0.108073\n",
       "  ⋮                                             ⋱                 ⋮\n",
       " -2.12538e121    -3.25967e123      5.50229e137      7.60931e121  -1.48825e121\n",
       "  7.42377e122     1.13857e125     -1.9219e139      -2.65787e123   5.19832e122\n",
       " -2.59306e124    -3.97694e126      6.71304e140      9.28371e124  -1.81573e124\n",
       "  9.05733e125     1.38911e128     -2.34481e142     -3.24272e126   6.34218e125\n",
       " -3.16365e127    -4.85205e129      8.19021e143  …   1.13265e128  -2.21527e127\n",
       "  1.10504e129     1.69478e131     -2.86077e145     -3.95626e129   7.73775e128\n",
       " -3.8598e130     -5.91972e132      9.99243e146      1.38189e131  -2.70273e130\n",
       "  1.34819e132     2.06771e134     -3.49027e148     -4.82682e132   9.44041e131\n",
       " -4.70913e133    -7.22233e135      1.21912e150      1.68597e134  -3.29745e133"
      ]
     },
     "metadata": {},
     "output_type": "display_data"
    }
   ],
   "source": [
    "HS5"
   ]
  },
  {
   "cell_type": "markdown",
   "id": "895c4250",
   "metadata": {},
   "source": []
  }
 ],
 "metadata": {
  "kernelspec": {
   "display_name": "Julia 1.11.5",
   "language": "julia",
   "name": "julia-1.11"
  },
  "language_info": {
   "file_extension": ".jl",
   "mimetype": "application/julia",
   "name": "julia",
   "version": "1.11.5"
  }
 },
 "nbformat": 4,
 "nbformat_minor": 5
}
