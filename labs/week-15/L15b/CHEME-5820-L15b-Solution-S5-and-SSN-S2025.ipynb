{
 "cells": [
  {
   "cell_type": "markdown",
   "id": "4b0b40ea-0b0d-4237-b28e-653a016bbe43",
   "metadata": {},
   "source": [
    "# L15b: Combining S5 and Spike Nueral Networks\n",
    "In this lab, we'll explore two alternative neural networkl architectures: Spike Neural Networks (SNNs) and the simplified structure state space sequnce (S5) models. This is going ot be a toy lab in the sense that we'll implement each of these, hook them together, but we will not (because of time) train them to do anything useful. \n",
    "\n",
    "* __Objective__: Our goal is to get a feel for how these two models work. We'll start by using an SSN for vector embedding, and then we'll use the output of that model as the input into an S5 model. The objective of the S5 model is to output a sequence of transformed digits. \n",
    "\n",
    "### Tasks\n",
    "Before we start, execute the `Run All Cells` command to check if you (or your neighbor) have any code or setup issues. Code issues, then raise your hands - and let's get those fixed!\n",
    "* __Task 1: Setup, Data, Constants (5 min)__: Let's take 5 minutes to load [the MNIST handwritten digits dataset](https://en.wikipedia.org/wiki/MNIST_database) that will serve as the input into the Spike Neural Network (SNN) model.\n",
    "* __Task 2: What is a Spiking Neural Network? (20 min)__: In this task, we will build a Spiking Neural Network (SNN) model instance. The SNN model is a type of artificial neural network that is inspired by the way biological neurons communicate with each other. We'll feed in the vectorized digits from the training data, and then check out the spiking patterns that are generated for different digits, and hyperparameter choices.\n",
    "* __Task 3: Let's build an S5 model (20 min)__: In this task, we'll build a simplified structured state space sequence (S5) model instance. We'll feed in the spike patterns from our SSN and output a sequence of transformed digits by using a nonlinear transformation of the output.\n",
    "\n",
    "Let's get started!\n",
    "\n",
    "___"
   ]
  },
  {
   "cell_type": "markdown",
   "id": "28e06d22",
   "metadata": {},
   "source": [
    "## Task 1: Setup, Data, Prerequisites\n",
    "We set up the computational environment by including the `Include.jl` file, loading any needed resources, such as sample datasets, and setting up any required constants. \n",
    "* The `Include.jl` file also loads external packages, various functions that we will use in the exercise, and custom types to model the components of our problem. It checks for a `Manifest.toml` file; if it finds one, packages are loaded. Other packages are downloaded and then loaded."
   ]
  },
  {
   "cell_type": "code",
   "execution_count": 1,
   "id": "0f3aa51b",
   "metadata": {},
   "outputs": [],
   "source": [
    "include(\"Include.jl\");"
   ]
  },
  {
   "cell_type": "code",
   "execution_count": 2,
   "id": "17752d75",
   "metadata": {},
   "outputs": [],
   "source": [
    "file_extension(file::String) = file[findlast(==('.'), file)+1:end]; # helper function to get the file extension"
   ]
  },
  {
   "cell_type": "markdown",
   "id": "406bb1c0",
   "metadata": {},
   "source": [
    "### Load the MNIST digits data set\n",
    "In this example, we'll use a Hopfield network to learn a single image pattern from [the MNIST handwritten digits dataset](https://en.wikipedia.org/wiki/MNIST_database). The goal is to train the network to recognize a digit, e.g., \"3\" or \"5\", etc, and then retrieve it from a noisy input.\n",
    "\n",
    "Load a training image dataset that we'll encode into the Hopfield network. We'll save training data in the `training_image_dataset` variable.\n",
    "* _What's in the training dataset_? The `training_image_dataset` will be of type `Vector{Tuple{Vector{Float32}, OneHotVector{UInt32}}}` where the first element is the input data `x.` The second element is the `label,` i.e., whether the image corresponds to `0,....,9`. However, the label is encoded as a `OneHotVector` (see below).\n",
    "* _Hmmm. That's strange_. The `Vector{Tuple{Vector{Float32}, OneHotVector{UInt32}}}` type has a couple of _weird features_. First, notice that the floating point is `Float32`, not the default `Float64`. Next, the labels are [One Hot ecoded](https://en.wikipedia.org/wiki/One-hot). Finally, the input data `x` is a Vector, not a Matrix (even though the original image is a matrix of `Gray` values).\n",
    "\n",
    "However, before we load the training data, let's set some constants, which we use below. The comment next to each constant describes it, its permissible values, units, etc."
   ]
  },
  {
   "cell_type": "code",
   "execution_count": 3,
   "id": "b0deacbc",
   "metadata": {},
   "outputs": [],
   "source": [
    "number_of_training_examples = 30; # how many training examples of *each* number to include from the library\n",
    "number_digit_array = range(0,length=10,step=1) |> collect; # numbers 0 ... 9\n",
    "number_of_rows = 28; # number of rows in the image\n",
    "number_of_cols = 28; # number of cols in the image\n",
    "number_of_pixels = number_of_rows*number_of_cols; # how many pixels do we have in the image?\n",
    "number_of_images_to_memorize = 3; # number of images that we want to encode"
   ]
  },
  {
   "cell_type": "markdown",
   "id": "c3c1c2e2",
   "metadata": {},
   "source": [
    "`Unhide` the code blocks below to see how we construct and populate the `training_image_dataset` variable. First, we load all the images into the `training_image_dictionary::Dict{Int64, Array{Gray{N0f8},3}}`, and then we'll convert these to a vector format below."
   ]
  },
  {
   "cell_type": "code",
   "execution_count": 4,
   "id": "5ec7e35a",
   "metadata": {},
   "outputs": [],
   "source": [
    "training_image_dictionary = let\n",
    "    training_image_dictionary = Dict{Int64, Array{Gray{N0f8},3}}();\n",
    "    for i ∈ number_digit_array\n",
    "        \n",
    "        # create a set for this digit -\n",
    "        image_digit_array = Array{Gray{N0f8},3}(undef, number_of_rows, number_of_cols, number_of_training_examples);\n",
    "        files = readdir(joinpath(_PATH_TO_IMAGES,\"$(i)\")); \n",
    "        imagecount = 1;\n",
    "        for fileindex ∈ 1:number_of_training_examples\n",
    "            filename = files[fileindex];\n",
    "            ext = file_extension(filename)\n",
    "            if (ext == \"jpg\")\n",
    "                image_digit_array[:,:,fileindex] = joinpath(_PATH_TO_IMAGES, \"$(i)\", filename) |> x-> FileIO.load(x);\n",
    "                imagecount += 1\n",
    "            end\n",
    "        end\n",
    "    \n",
    "        # capture -\n",
    "        training_image_dictionary[i] = image_digit_array\n",
    "    end\n",
    "    training_image_dictionary\n",
    "end;"
   ]
  },
  {
   "cell_type": "markdown",
   "id": "837fc8eb",
   "metadata": {},
   "source": [
    "Next, we take the images in array format and vectorize them. \n",
    "* _What do we mean by vectorize_? Each $N\\times{N}$ image array containing the grayscale values at each pixel is converted to an $N^{2}$ vector of values. What image class, i.e., what number it represents, is then converted to [one-hot format](https://en.wikipedia.org/wiki/One-hot). The converted data is stored in the `training_image_dataset::Vector{Tuple{Vector{Float32}, OneHotVector{UInt32}}}` variable.\n",
    "* _What's the deal with Float32_? Most neural network libraries (or other machine learning calculations) use `Float32` (or lower) to save memory because of the large number of parameters associated with the network. Additionally, model training is often carried out using specialized hardware [such as Graphical Processing Units (GPUs)](https://www.nvidia.com/en-us/data-center/h100/), which has different memory constraints."
   ]
  },
  {
   "cell_type": "code",
   "execution_count": 5,
   "id": "a2b79705",
   "metadata": {},
   "outputs": [],
   "source": [
    "training_image_dataset = let\n",
    "    training_image_dataset = Vector{Tuple{Vector{Float32}, OneHotVector{UInt32}}}()\n",
    "    for i ∈ number_digit_array\n",
    "        Y = onehot(i, number_digit_array);\n",
    "        X = training_image_dictionary[i];\n",
    "        \n",
    "        for t ∈ 1:number_of_training_examples\n",
    "            D = Array{Float32,1}(undef, number_of_pixels);\n",
    "            linearindex = 1;\n",
    "            for row ∈ 1:number_of_rows\n",
    "                for col ∈ 1:number_of_cols\n",
    "                    D[linearindex] = X[row,col,t] |> x-> convert(Float32,x);\n",
    "                    linearindex+=1;\n",
    "                end\n",
    "            end\n",
    "    \n",
    "            training_tuple = (D,Y);\n",
    "            push!(training_image_dataset,training_tuple);\n",
    "        end\n",
    "    end\n",
    "    training_image_dataset\n",
    "end;"
   ]
  },
  {
   "cell_type": "markdown",
   "id": "d745b933",
   "metadata": {},
   "source": [
    "## Task 2: What is a Spiking Neural Network?\n",
    "In this task, we will build a Spiking Neural Network (SNN) model instance. The SNN model is a type of artificial neural network that is inspired by the way biological neurons communicate with each other. We'll feed in the vectorsized digits and then check out the spiking patterns that are generated for different digits, and hyperparameters.\n",
    "\n",
    "### Background\n",
    "The LIF model is characterized by its ability to generate spikes in response to input currents, and it incorporates a leaky membrane potential that decays over time.\n",
    "\n",
    "Let's get started by setting a few constants that we will use in the SNN model. The comment next to each constant describes it, its permissible values, units, etc."
   ]
  },
  {
   "cell_type": "code",
   "execution_count": 6,
   "id": "5b4ab1c3",
   "metadata": {},
   "outputs": [],
   "source": [
    "number_of_samples = length(training_image_dataset); # how many samples do we have?\n",
    "number_of_neurons = 2^4; # how many SSN neurons do we want? (this will be the embedding dimension)\n",
    "number_of_inputs = number_of_pixels; # how many inputs do we have? (size of the vector input)\n",
    "ν = 0.1; # Table 2: firing threshold https://arxiv.org/abs/2205.11276\n",
    "τ = 20.0; # Table 2: time constant (ms) https://arxiv.org/abs/2205.11276\n",
    "Δt = 1.0; # samping time step (ms)\n",
    "T₂ = 100; # number of time steps of length Δt (ms) to simulate (needs to be less than number_of_samples)"
   ]
  },
  {
   "cell_type": "markdown",
   "id": "26ad0a92",
   "metadata": {},
   "source": [
    "Next, we'll create an array `Z::Array{Int64,2}` that will hold the input data for the SSN. The columns of this array will hold the vectorized images, where the rows will be the pixels values transformed to $z_{ij}\\in\\{0,1\\}$ for image $j$ and pixel $i$. "
   ]
  },
  {
   "cell_type": "code",
   "execution_count": 7,
   "id": "7b4d4973",
   "metadata": {},
   "outputs": [
    {
     "data": {
      "text/plain": [
       "784×100 Matrix{Int64}:\n",
       " 0  0  0  0  0  0  0  0  0  0  0  0  0  …  0  0  0  0  0  0  0  0  0  0  0  0\n",
       " 0  0  0  0  0  0  0  0  0  0  0  0  0     0  0  0  0  0  0  0  0  0  0  0  0\n",
       " 0  0  0  0  0  0  0  0  1  0  0  0  0     0  0  0  0  0  0  0  0  0  0  0  0\n",
       " 0  0  0  0  0  0  0  0  0  0  0  0  0     0  0  0  0  0  0  0  0  0  0  0  0\n",
       " 0  0  0  0  0  0  0  0  1  0  0  0  0     0  0  0  0  0  0  0  0  0  0  0  0\n",
       " 0  0  0  0  0  0  0  0  0  0  0  0  0  …  0  0  0  0  0  0  0  0  0  0  0  0\n",
       " 0  0  0  0  0  0  0  0  0  0  0  0  0     0  0  0  0  0  0  0  0  0  0  0  0\n",
       " 0  0  0  0  0  0  0  0  0  0  0  0  0     0  0  0  0  0  0  0  0  0  0  0  0\n",
       " 0  0  0  0  0  0  0  0  1  0  0  0  0     0  0  0  0  0  0  0  0  0  0  0  0\n",
       " 0  0  0  0  0  0  0  0  0  0  0  0  0     0  0  0  0  0  0  0  0  0  0  0  0\n",
       " ⋮              ⋮              ⋮        ⋱        ⋮              ⋮           \n",
       " 0  0  0  0  0  0  0  0  0  0  0  0  0  …  0  0  0  0  0  0  0  0  0  0  0  0\n",
       " 0  0  0  0  0  0  0  0  0  0  0  0  0     0  0  0  0  0  0  0  0  0  0  0  0\n",
       " 0  0  0  0  0  0  0  0  0  0  0  0  0     0  0  0  0  0  0  0  0  0  0  0  0\n",
       " 0  0  0  0  0  0  0  0  0  0  0  0  0     0  0  0  0  0  0  0  0  0  0  0  0\n",
       " 0  0  0  0  0  0  0  0  0  0  0  0  0     0  0  0  0  0  0  0  0  0  0  0  0\n",
       " 0  0  0  0  0  0  0  0  0  0  0  0  0  …  0  0  0  0  0  0  0  0  0  0  0  0\n",
       " 0  0  0  0  0  0  0  0  1  0  0  0  0     0  0  0  0  0  0  0  0  0  0  0  0\n",
       " 0  0  0  0  0  0  0  0  0  0  0  0  0     0  0  0  0  0  0  0  0  0  0  0  0\n",
       " 0  0  0  0  0  0  0  0  0  0  0  0  0     0  0  0  0  0  0  0  0  0  0  0  0"
      ]
     },
     "metadata": {},
     "output_type": "display_data"
    }
   ],
   "source": [
    "Z = let\n",
    "\n",
    "    # initialize -\n",
    "    Z = zeros(Int, number_of_inputs, T₂); # we'll store the samples here (images on the col)\n",
    "    indexset = Set{Int64}(); # used to keep track of which samples we have already used\n",
    "    \n",
    "    # transform to {0,1}\n",
    "    for i ∈ 1:T₂\n",
    "        j = rand(1:number_of_samples); # generate a random sample index [1,....,number_of_samples]\n",
    "        if (j ∉ indexset) # if we have not already used this sample\n",
    "\n",
    "            tmp = training_image_dataset[j][1]; # grab the image\n",
    "            for k ∈ 1:number_of_pixels\n",
    "                z = tmp[k]; # grab the pixel value\n",
    "                if (z ≥ 0.5) # if the pixel value is greater than 0.5\n",
    "                    Z[k,i] = 1; # set to 1\n",
    "                else\n",
    "                    Z[k,i] = 0; # set to 0\n",
    "                end\n",
    "            end\n",
    "            push!(indexset,j); # grab the index (so we don't use it again)\n",
    "        end\n",
    "    end\n",
    "\n",
    "    Z # return \n",
    "end"
   ]
  },
  {
   "cell_type": "markdown",
   "id": "258bd06a",
   "metadata": {},
   "source": [
    "__Check__: Let's pick a column, and see what this data look like."
   ]
  },
  {
   "cell_type": "code",
   "execution_count": 8,
   "id": "e00fb4c0",
   "metadata": {},
   "outputs": [
    {
     "data": {
      "image/png": "[encoded data removed]",
      "text/html": [
       "<img src=\"data:image/png;base64,iVBORw0KGgoAAAANSUhEUgAAAHAAAABwCAAAAADji6uXAAAAAXNSR0IArs4c6QAAAARnQU1BAACxjwv8YQUAAAAgY0hSTQAAeiYAAICEAAD6AAAAgOgAAHUwAADqYAAAOpgAABdwnLpRPAAAAK9JREFUaAW9wTEBAAAAQDCH/pm1sMlMZjKTmcxkJjOZyUxmMpOZzGQmM5nJTGYyk5nMZCYzmclMZjKTmcxkJjOZyUxmMpOZzGQmM5nJTGYyk5nMZCYzmclMZjKTmcxkJjOZyUxmMpOZzGQmM5nJTGYyk5nMZCYzmclMZjKTmcxkJjOZyUxmMpOZzGQmM5nJTGYyk5nMZCYzmclMZjKTmcxkJjOZyUxmMpOZzGQmM5kF2NUBwV2YjfcAAAAASUVORK5C\">"
      ],
      "text/plain": [
       "\u001b[0m\u001b[38;5;232;48;5;232m▀\u001b[38;5;232;48;5;232m▀\u001b[38;5;232;48;5;232m▀\u001b[38;5;232;48;5;232m▀\u001b[38;5;232;48;5;232m▀\u001b[38;5;232;48;5;232m▀\u001b[38;5;232;48;5;232m▀\u001b[38;5;232;48;5;232m▀\u001b[38;5;232;48;5;232m▀\u001b[38;5;232;48;5;232m▀\u001b[38;5;232;48;5;232m▀\u001b[38;5;232;48;5;232m▀\u001b[38;5;232;48;5;232m▀\u001b[38;5;232;48;5;232m▀\u001b[38;5;232;48;5;232m▀\u001b[38;5;232;48;5;232m▀\u001b[38;5;232;48;5;232m▀\u001b[38;5;232;48;5;232m▀\u001b[38;5;232;48;5;232m▀\u001b[38;5;232;48;5;232m▀\u001b[38;5;232;48;5;232m▀\u001b[38;5;232;48;5;232m▀\u001b[38;5;232;48;5;232m▀\u001b[38;5;232;48;5;232m▀\u001b[38;5;232;48;5;232m▀\u001b[38;5;232;48;5;232m▀\u001b[38;5;232;48;5;232m▀\u001b[38;5;232;48;5;232m▀\u001b[0m\n",
       "\u001b[0m\u001b[38;5;232;48;5;232m▀\u001b[38;5;232;48;5;232m▀\u001b[38;5;232;48;5;232m▀\u001b[38;5;232;48;5;232m▀\u001b[38;5;232;48;5;232m▀\u001b[38;5;232;48;5;232m▀\u001b[38;5;232;48;5;232m▀\u001b[38;5;232;48;5;232m▀\u001b[38;5;232;48;5;232m▀\u001b[38;5;232;48;5;232m▀\u001b[38;5;232;48;5;232m▀\u001b[38;5;232;48;5;232m▀\u001b[38;5;232;48;5;232m▀\u001b[38;5;232;48;5;232m▀\u001b[38;5;232;48;5;232m▀\u001b[38;5;232;48;5;232m▀\u001b[38;5;232;48;5;232m▀\u001b[38;5;232;48;5;232m▀\u001b[38;5;232;48;5;232m▀\u001b[38;5;232;48;5;232m▀\u001b[38;5;232;48;5;232m▀\u001b[38;5;232;48;5;232m▀\u001b[38;5;232;48;5;232m▀\u001b[38;5;232;48;5;232m▀\u001b[38;5;232;48;5;232m▀\u001b[38;5;232;48;5;232m▀\u001b[38;5;232;48;5;232m▀\u001b[38;5;232;48;5;232m▀\u001b[0m\n",
       "\u001b[0m\u001b[38;5;232;48;5;232m▀\u001b[38;5;232;48;5;232m▀\u001b[38;5;232;48;5;232m▀\u001b[38;5;232;48;5;232m▀\u001b[38;5;232;48;5;232m▀\u001b[38;5;232;48;5;232m▀\u001b[38;5;232;48;5;232m▀\u001b[38;5;232;48;5;232m▀\u001b[38;5;232;48;5;232m▀\u001b[38;5;232;48;5;232m▀\u001b[38;5;232;48;5;232m▀\u001b[38;5;232;48;5;232m▀\u001b[38;5;232;48;5;232m▀\u001b[38;5;232;48;5;232m▀\u001b[38;5;232;48;5;232m▀\u001b[38;5;232;48;5;232m▀\u001b[38;5;232;48;5;232m▀\u001b[38;5;232;48;5;232m▀\u001b[38;5;232;48;5;232m▀\u001b[38;5;232;48;5;232m▀\u001b[38;5;232;48;5;232m▀\u001b[38;5;232;48;5;232m▀\u001b[38;5;232;48;5;232m▀\u001b[38;5;232;48;5;232m▀\u001b[38;5;232;48;5;232m▀\u001b[38;5;232;48;5;232m▀\u001b[38;5;232;48;5;232m▀\u001b[38;5;232;48;5;232m▀\u001b[0m\n",
       "\u001b[0m\u001b[38;5;232;48;5;232m▀\u001b[38;5;232;48;5;232m▀\u001b[38;5;232;48;5;232m▀\u001b[38;5;232;48;5;232m▀\u001b[38;5;232;48;5;232m▀\u001b[38;5;232;48;5;232m▀\u001b[38;5;232;48;5;232m▀\u001b[38;5;232;48;5;232m▀\u001b[38;5;232;48;5;232m▀\u001b[38;5;232;48;5;232m▀\u001b[38;5;232;48;5;232m▀\u001b[38;5;232;48;5;232m▀\u001b[38;5;232;48;5;232m▀\u001b[38;5;232;48;5;232m▀\u001b[38;5;232;48;5;232m▀\u001b[38;5;232;48;5;232m▀\u001b[38;5;232;48;5;232m▀\u001b[38;5;232;48;5;232m▀\u001b[38;5;232;48;5;232m▀\u001b[38;5;232;48;5;232m▀\u001b[38;5;232;48;5;232m▀\u001b[38;5;232;48;5;232m▀\u001b[38;5;232;48;5;232m▀\u001b[38;5;232;48;5;232m▀\u001b[38;5;232;48;5;232m▀\u001b[38;5;232;48;5;232m▀\u001b[38;5;232;48;5;232m▀\u001b[38;5;232;48;5;232m▀\u001b[0m\n",
       "\u001b[0m\u001b[38;5;232;48;5;232m▀\u001b[38;5;232;48;5;232m▀\u001b[38;5;232;48;5;232m▀\u001b[38;5;232;48;5;232m▀\u001b[38;5;232;48;5;232m▀\u001b[38;5;232;48;5;232m▀\u001b[38;5;232;48;5;232m▀\u001b[38;5;232;48;5;232m▀\u001b[38;5;232;48;5;232m▀\u001b[38;5;232;48;5;232m▀\u001b[38;5;232;48;5;232m▀\u001b[38;5;232;48;5;232m▀\u001b[38;5;232;48;5;232m▀\u001b[38;5;232;48;5;232m▀\u001b[38;5;232;48;5;232m▀\u001b[38;5;232;48;5;232m▀\u001b[38;5;232;48;5;232m▀\u001b[38;5;232;48;5;232m▀\u001b[38;5;232;48;5;232m▀\u001b[38;5;232;48;5;232m▀\u001b[38;5;232;48;5;232m▀\u001b[38;5;232;48;5;232m▀\u001b[38;5;232;48;5;232m▀\u001b[38;5;232;48;5;232m▀\u001b[38;5;232;48;5;232m▀\u001b[38;5;232;48;5;232m▀\u001b[38;5;232;48;5;232m▀\u001b[38;5;232;48;5;232m▀\u001b[0m\n",
       "\u001b[0m\u001b[38;5;232;48;5;232m▀\u001b[38;5;232;48;5;232m▀\u001b[38;5;232;48;5;232m▀\u001b[38;5;232;48;5;232m▀\u001b[38;5;232;48;5;232m▀\u001b[38;5;232;48;5;232m▀\u001b[38;5;232;48;5;232m▀\u001b[38;5;232;48;5;232m▀\u001b[38;5;232;48;5;232m▀\u001b[38;5;232;48;5;232m▀\u001b[38;5;232;48;5;232m▀\u001b[38;5;232;48;5;232m▀\u001b[38;5;232;48;5;232m▀\u001b[38;5;232;48;5;232m▀\u001b[38;5;232;48;5;232m▀\u001b[38;5;232;48;5;232m▀\u001b[38;5;232;48;5;232m▀\u001b[38;5;232;48;5;232m▀\u001b[38;5;232;48;5;232m▀\u001b[38;5;232;48;5;232m▀\u001b[38;5;232;48;5;232m▀\u001b[38;5;232;48;5;232m▀\u001b[38;5;232;48;5;232m▀\u001b[38;5;232;48;5;232m▀\u001b[38;5;232;48;5;232m▀\u001b[38;5;232;48;5;232m▀\u001b[38;5;232;48;5;232m▀\u001b[38;5;232;48;5;232m▀\u001b[0m\n",
       "\u001b[0m\u001b[38;5;232;48;5;232m▀\u001b[38;5;232;48;5;232m▀\u001b[38;5;232;48;5;232m▀\u001b[38;5;232;48;5;232m▀\u001b[38;5;232;48;5;232m▀\u001b[38;5;232;48;5;232m▀\u001b[38;5;232;48;5;232m▀\u001b[38;5;232;48;5;232m▀\u001b[38;5;232;48;5;232m▀\u001b[38;5;232;48;5;232m▀\u001b[38;5;232;48;5;232m▀\u001b[38;5;232;48;5;232m▀\u001b[38;5;232;48;5;232m▀\u001b[38;5;232;48;5;232m▀\u001b[38;5;232;48;5;232m▀\u001b[38;5;232;48;5;232m▀\u001b[38;5;232;48;5;232m▀\u001b[38;5;232;48;5;232m▀\u001b[38;5;232;48;5;232m▀\u001b[38;5;232;48;5;232m▀\u001b[38;5;232;48;5;232m▀\u001b[38;5;232;48;5;232m▀\u001b[38;5;232;48;5;232m▀\u001b[38;5;232;48;5;232m▀\u001b[38;5;232;48;5;232m▀\u001b[38;5;232;48;5;232m▀\u001b[38;5;232;48;5;232m▀\u001b[38;5;232;48;5;232m▀\u001b[0m\n",
       "\u001b[0m\u001b[38;5;232;48;5;232m▀\u001b[38;5;232;48;5;232m▀\u001b[38;5;232;48;5;232m▀\u001b[38;5;232;48;5;232m▀\u001b[38;5;232;48;5;232m▀\u001b[38;5;232;48;5;232m▀\u001b[38;5;232;48;5;232m▀\u001b[38;5;232;48;5;232m▀\u001b[38;5;232;48;5;232m▀\u001b[38;5;232;48;5;232m▀\u001b[38;5;232;48;5;232m▀\u001b[38;5;232;48;5;232m▀\u001b[38;5;232;48;5;232m▀\u001b[38;5;232;48;5;232m▀\u001b[38;5;232;48;5;232m▀\u001b[38;5;232;48;5;232m▀\u001b[38;5;232;48;5;232m▀\u001b[38;5;232;48;5;232m▀\u001b[38;5;232;48;5;232m▀\u001b[38;5;232;48;5;232m▀\u001b[38;5;232;48;5;232m▀\u001b[38;5;232;48;5;232m▀\u001b[38;5;232;48;5;232m▀\u001b[38;5;232;48;5;232m▀\u001b[38;5;232;48;5;232m▀\u001b[38;5;232;48;5;232m▀\u001b[38;5;232;48;5;232m▀\u001b[38;5;232;48;5;232m▀\u001b[0m\n",
       "\u001b[0m\u001b[38;5;232;48;5;232m▀\u001b[38;5;232;48;5;232m▀\u001b[38;5;232;48;5;232m▀\u001b[38;5;232;48;5;232m▀\u001b[38;5;232;48;5;232m▀\u001b[38;5;232;48;5;232m▀\u001b[38;5;232;48;5;232m▀\u001b[38;5;232;48;5;232m▀\u001b[38;5;232;48;5;232m▀\u001b[38;5;232;48;5;232m▀\u001b[38;5;232;48;5;232m▀\u001b[38;5;232;48;5;232m▀\u001b[38;5;232;48;5;232m▀\u001b[38;5;232;48;5;232m▀\u001b[38;5;232;48;5;232m▀\u001b[38;5;232;48;5;232m▀\u001b[38;5;232;48;5;232m▀\u001b[38;5;232;48;5;232m▀\u001b[38;5;232;48;5;232m▀\u001b[38;5;232;48;5;232m▀\u001b[38;5;232;48;5;232m▀\u001b[38;5;232;48;5;232m▀\u001b[38;5;232;48;5;232m▀\u001b[38;5;232;48;5;232m▀\u001b[38;5;232;48;5;232m▀\u001b[38;5;232;48;5;232m▀\u001b[38;5;232;48;5;232m▀\u001b[38;5;232;48;5;232m▀\u001b[0m\n",
       "\u001b[0m\u001b[38;5;232;48;5;232m▀\u001b[38;5;232;48;5;232m▀\u001b[38;5;232;48;5;232m▀\u001b[38;5;232;48;5;232m▀\u001b[38;5;232;48;5;232m▀\u001b[38;5;232;48;5;232m▀\u001b[38;5;232;48;5;232m▀\u001b[38;5;232;48;5;232m▀\u001b[38;5;232;48;5;232m▀\u001b[38;5;232;48;5;232m▀\u001b[38;5;232;48;5;232m▀\u001b[38;5;232;48;5;232m▀\u001b[38;5;232;48;5;232m▀\u001b[38;5;232;48;5;232m▀\u001b[38;5;232;48;5;232m▀\u001b[38;5;232;48;5;232m▀\u001b[38;5;232;48;5;232m▀\u001b[38;5;232;48;5;232m▀\u001b[38;5;232;48;5;232m▀\u001b[38;5;232;48;5;232m▀\u001b[38;5;232;48;5;232m▀\u001b[38;5;232;48;5;232m▀\u001b[38;5;232;48;5;232m▀\u001b[38;5;232;48;5;232m▀\u001b[38;5;232;48;5;232m▀\u001b[38;5;232;48;5;232m▀\u001b[38;5;232;48;5;232m▀\u001b[38;5;232;48;5;232m▀\u001b[0m\n",
       "\u001b[0m\u001b[38;5;232;48;5;232m▀\u001b[38;5;232;48;5;232m▀\u001b[38;5;232;48;5;232m▀\u001b[38;5;232;48;5;232m▀\u001b[38;5;232;48;5;232m▀\u001b[38;5;232;48;5;232m▀\u001b[38;5;232;48;5;232m▀\u001b[38;5;232;48;5;232m▀\u001b[38;5;232;48;5;232m▀\u001b[38;5;232;48;5;232m▀\u001b[38;5;232;48;5;232m▀\u001b[38;5;232;48;5;232m▀\u001b[38;5;232;48;5;232m▀\u001b[38;5;232;48;5;232m▀\u001b[38;5;232;48;5;232m▀\u001b[38;5;232;48;5;232m▀\u001b[38;5;232;48;5;232m▀\u001b[38;5;232;48;5;232m▀\u001b[38;5;232;48;5;232m▀\u001b[38;5;232;48;5;232m▀\u001b[38;5;232;48;5;232m▀\u001b[38;5;232;48;5;232m▀\u001b[38;5;232;48;5;232m▀\u001b[38;5;232;48;5;232m▀\u001b[38;5;232;48;5;232m▀\u001b[38;5;232;48;5;232m▀\u001b[38;5;232;48;5;232m▀\u001b[38;5;232;48;5;232m▀\u001b[0m\n",
       "\u001b[0m\u001b[38;5;232;48;5;232m▀\u001b[38;5;232;48;5;232m▀\u001b[38;5;232;48;5;232m▀\u001b[38;5;232;48;5;232m▀\u001b[38;5;232;48;5;232m▀\u001b[38;5;232;48;5;232m▀\u001b[38;5;232;48;5;232m▀\u001b[38;5;232;48;5;232m▀\u001b[38;5;232;48;5;232m▀\u001b[38;5;232;48;5;232m▀\u001b[38;5;232;48;5;232m▀\u001b[38;5;232;48;5;232m▀\u001b[38;5;232;48;5;232m▀\u001b[38;5;232;48;5;232m▀\u001b[38;5;232;48;5;232m▀\u001b[38;5;232;48;5;232m▀\u001b[38;5;232;48;5;232m▀\u001b[38;5;232;48;5;232m▀\u001b[38;5;232;48;5;232m▀\u001b[38;5;232;48;5;232m▀\u001b[38;5;232;48;5;232m▀\u001b[38;5;232;48;5;232m▀\u001b[38;5;232;48;5;232m▀\u001b[38;5;232;48;5;232m▀\u001b[38;5;232;48;5;232m▀\u001b[38;5;232;48;5;232m▀\u001b[38;5;232;48;5;232m▀\u001b[38;5;232;48;5;232m▀\u001b[0m\n",
       "\u001b[0m\u001b[38;5;232;48;5;232m▀\u001b[38;5;232;48;5;232m▀\u001b[38;5;232;48;5;232m▀\u001b[38;5;232;48;5;232m▀\u001b[38;5;232;48;5;232m▀\u001b[38;5;232;48;5;232m▀\u001b[38;5;232;48;5;232m▀\u001b[38;5;232;48;5;232m▀\u001b[38;5;232;48;5;232m▀\u001b[38;5;232;48;5;232m▀\u001b[38;5;232;48;5;232m▀\u001b[38;5;232;48;5;232m▀\u001b[38;5;232;48;5;232m▀\u001b[38;5;232;48;5;232m▀\u001b[38;5;232;48;5;232m▀\u001b[38;5;232;48;5;232m▀\u001b[38;5;232;48;5;232m▀\u001b[38;5;232;48;5;232m▀\u001b[38;5;232;48;5;232m▀\u001b[38;5;232;48;5;232m▀\u001b[38;5;232;48;5;232m▀\u001b[38;5;232;48;5;232m▀\u001b[38;5;232;48;5;232m▀\u001b[38;5;232;48;5;232m▀\u001b[38;5;232;48;5;232m▀\u001b[38;5;232;48;5;232m▀\u001b[38;5;232;48;5;232m▀\u001b[38;5;232;48;5;232m▀\u001b[0m\n",
       "\u001b[0m\u001b[38;5;232;48;5;232m▀\u001b[38;5;232;48;5;232m▀\u001b[38;5;232;48;5;232m▀\u001b[38;5;232;48;5;232m▀\u001b[38;5;232;48;5;232m▀\u001b[38;5;232;48;5;232m▀\u001b[38;5;232;48;5;232m▀\u001b[38;5;232;48;5;232m▀\u001b[38;5;232;48;5;232m▀\u001b[38;5;232;48;5;232m▀\u001b[38;5;232;48;5;232m▀\u001b[38;5;232;48;5;232m▀\u001b[38;5;232;48;5;232m▀\u001b[38;5;232;48;5;232m▀\u001b[38;5;232;48;5;232m▀\u001b[38;5;232;48;5;232m▀\u001b[38;5;232;48;5;232m▀\u001b[38;5;232;48;5;232m▀\u001b[38;5;232;48;5;232m▀\u001b[38;5;232;48;5;232m▀\u001b[38;5;232;48;5;232m▀\u001b[38;5;232;48;5;232m▀\u001b[38;5;232;48;5;232m▀\u001b[38;5;232;48;5;232m▀\u001b[38;5;232;48;5;232m▀\u001b[38;5;232;48;5;232m▀\u001b[38;5;232;48;5;232m▀\u001b[38;5;232;48;5;232m▀\u001b[0m\n"
      ]
     },
     "metadata": {},
     "output_type": "display_data"
    }
   ],
   "source": [
    "let\n",
    "    index_to_look_at = 80; # which image to look at?\n",
    "    img = Z[:,index_to_look_at] |> x-> reshape(x, number_of_rows, number_of_cols) |> transpose |> Matrix; # Magic? No just the majesty of Julia\n",
    "    Gray.(img) # convert to a gray image\n",
    "end"
   ]
  },
  {
   "cell_type": "markdown",
   "id": "655b000c",
   "metadata": {},
   "source": [
    "What does the entrire $\\mathbf{Z}$ matrix look like? "
   ]
  },
  {
   "cell_type": "code",
   "execution_count": 9,
   "id": "1166ab56",
   "metadata": {},
   "outputs": [
    {
     "data": {
      "image/png": "[encoded data removed]",
      "text/html": [
       "<img src=\"data:image/png;base64,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\">"
      ],
      "text/plain": [
       "\u001b[0m\u001b[38;5;232;48;5;232m▀\u001b[38;5;232;48;5;232m▀\u001b[38;5;232;48;5;232m▀\u001b[38;5;232;48;5;232m▀\u001b[38;5;232;48;5;232m▀\u001b[0m\n",
       "\u001b[0m\u001b[38;5;232;48;5;232m▀\u001b[38;5;232;48;5;232m▀\u001b[38;5;232;48;5;232m▀\u001b[38;5;232;48;5;232m▀\u001b[38;5;232;48;5;232m▀\u001b[0m\n",
       "\u001b[0m\u001b[38;5;232;48;5;232m▀\u001b[38;5;232;48;5;233m▀\u001b[38;5;233;48;5;234m▀\u001b[38;5;232;48;5;233m▀\u001b[38;5;232;48;5;232m▀\u001b[0m\n",
       "\u001b[0m\u001b[38;5;232;48;5;232m▀\u001b[38;5;235;48;5;235m▀\u001b[38;5;235;48;5;236m▀\u001b[38;5;234;48;5;235m▀\u001b[38;5;232;48;5;233m▀\u001b[0m\n",
       "\u001b[0m\u001b[38;5;232;48;5;232m▀\u001b[38;5;236;48;5;235m▀\u001b[38;5;236;48;5;236m▀\u001b[38;5;235;48;5;235m▀\u001b[38;5;232;48;5;232m▀\u001b[0m\n",
       "\u001b[0m\u001b[38;5;232;48;5;232m▀\u001b[38;5;235;48;5;235m▀\u001b[38;5;236;48;5;236m▀\u001b[38;5;235;48;5;234m▀\u001b[38;5;232;48;5;232m▀\u001b[0m\n",
       "\u001b[0m\u001b[38;5;232;48;5;233m▀\u001b[38;5;235;48;5;236m▀\u001b[38;5;236;48;5;236m▀\u001b[38;5;234;48;5;234m▀\u001b[38;5;232;48;5;232m▀\u001b[0m\n",
       "\u001b[0m\u001b[38;5;233;48;5;232m▀\u001b[38;5;236;48;5;235m▀\u001b[38;5;236;48;5;236m▀\u001b[38;5;235;48;5;235m▀\u001b[38;5;232;48;5;232m▀\u001b[0m\n",
       "\u001b[0m\u001b[38;5;232;48;5;232m▀\u001b[38;5;235;48;5;235m▀\u001b[38;5;236;48;5;236m▀\u001b[38;5;235;48;5;235m▀\u001b[38;5;232;48;5;232m▀\u001b[0m\n",
       "\u001b[0m\u001b[38;5;232;48;5;232m▀\u001b[38;5;235;48;5;235m▀\u001b[38;5;236;48;5;235m▀\u001b[38;5;235;48;5;234m▀\u001b[38;5;232;48;5;232m▀\u001b[0m\n",
       "\u001b[0m\u001b[38;5;232;48;5;232m▀\u001b[38;5;235;48;5;234m▀\u001b[38;5;235;48;5;234m▀\u001b[38;5;234;48;5;233m▀\u001b[38;5;232;48;5;232m▀\u001b[0m\n",
       "\u001b[0m\u001b[38;5;232;48;5;232m▀\u001b[38;5;232;48;5;232m▀\u001b[38;5;232;48;5;232m▀\u001b[38;5;232;48;5;232m▀\u001b[38;5;232;48;5;232m▀\u001b[0m\n",
       "\u001b[0m\u001b[38;5;232;48;5;232m▀\u001b[38;5;232;48;5;232m▀\u001b[38;5;232;48;5;232m▀\u001b[38;5;232;48;5;232m▀\u001b[38;5;232;48;5;232m▀\u001b[0m\n"
      ]
     },
     "metadata": {},
     "output_type": "display_data"
    }
   ],
   "source": [
    "Gray.(Z)"
   ]
  },
  {
   "cell_type": "markdown",
   "id": "cb209bcd",
   "metadata": {},
   "source": [
    "__Build an SSN model instance__: We model an SSN using [the `MyLIFSpikingNeuralNetworkModel` type](src/Types.jl#L5). The [`MyLIFSpikingNeuralNetworkModel` type](src/Types.jl) implements the [Leaky Integrate-and-Fire (LIF) neuron model](https://www.nature.com/articles/s41598-017-07418-y), which is a simple and widely used model for spiking neurons. \n",
    "\n",
    "We construct this type [using a `build(...)` method](src/Factory.jl); we pass in the type of thint we want to build, amnd the data required to build it. We get back a model (populated) model instance. We save the SSN model instance in the `ssnmodel::MyLIFSpikingNeuralNetworkModel` variable."
   ]
  },
  {
   "cell_type": "code",
   "execution_count": 10,
   "id": "ba726710",
   "metadata": {},
   "outputs": [],
   "source": [
    "ssnmodel = let\n",
    "\n",
    "    # build model -\n",
    "    model = build(MyLIFSpikingNeuralNetworkModel, (\n",
    "        Δt = Δt, # time step (ms)\n",
    "        τ = τ, # time constant (ms)\n",
    "        ν = ν, # firing threshold\n",
    "        number_of_nodes = number_of_neurons, # number of neurons\n",
    "        number_of_inputs = number_of_inputs, # number of inputs\n",
    "    ));\n",
    "\n",
    "    model;\n",
    "end;"
   ]
  },
  {
   "cell_type": "markdown",
   "id": "c751c2bb",
   "metadata": {},
   "source": [
    "Not that we have a populated `ssnmodel::MyLIFSpikingNeuralNetworkModel` model, we can run the model forward in time and generate the spiking patterns for our system. We do this [using the `solve(...)` method](src/Compute.jl). \n",
    "* _Arguments_: We pass in the model instance, the input data array (images in the columns), and the length of spike pattern we want to generate (optional arguement with default `100 ms`), and the refractory period parameter $\\Delta_{r}$, which has a dfualt value of `3 ms`. The [`solve(...)` method](src/Compute.jl) returns a time vector `T::Array{Float64,1}`, the membrane voltage array `V::Array{Float64,2}` array and a spike pattern array `S::Array{Float64,2}`. "
   ]
  },
  {
   "cell_type": "code",
   "execution_count": 11,
   "id": "bb453221",
   "metadata": {},
   "outputs": [],
   "source": [
    "(T,V,s) = let\n",
    "\n",
    "    # set the initial conditions for the spikes\n",
    "    sₒ = zeros(Int, number_of_neurons); # initial conditions for the spikes\n",
    "    (T,V,s) = solvessn(ssnmodel, Z, T = 100, Δᵣ = 2, sₒ = sₒ);\n",
    "\n",
    "    (T,V,s) # return the time, voltage, and spikes\n",
    "end;\n"
   ]
  },
  {
   "cell_type": "markdown",
   "id": "d947b6cc",
   "metadata": {},
   "source": [
    "What gets generated? Let's look at the spike pattern generated by the SSN model."
   ]
  },
  {
   "cell_type": "code",
   "execution_count": 12,
   "id": "4359710f",
   "metadata": {},
   "outputs": [
    {
     "data": {
      "text/plain": [
       "100×16 Matrix{Float64}:\n",
       " 1.0  1.0  0.0  0.0  1.0  0.0  0.0  1.0  …  0.0  0.0  1.0  1.0  0.0  0.0  0.0\n",
       " 0.0  0.0  0.0  0.0  0.0  0.0  0.0  0.0     0.0  0.0  0.0  0.0  0.0  0.0  0.0\n",
       " 0.0  0.0  1.0  1.0  0.0  1.0  0.0  0.0     0.0  0.0  0.0  0.0  0.0  0.0  0.0\n",
       " 0.0  0.0  0.0  0.0  0.0  0.0  0.0  0.0     0.0  0.0  0.0  0.0  0.0  1.0  0.0\n",
       " 0.0  0.0  0.0  0.0  1.0  0.0  1.0  0.0     1.0  1.0  0.0  0.0  1.0  0.0  1.0\n",
       " 0.0  1.0  0.0  0.0  0.0  0.0  0.0  1.0  …  0.0  0.0  1.0  1.0  0.0  0.0  0.0\n",
       " 1.0  0.0  0.0  0.0  0.0  0.0  0.0  0.0     0.0  0.0  0.0  0.0  0.0  0.0  0.0\n",
       " 0.0  0.0  0.0  0.0  0.0  1.0  0.0  0.0     0.0  0.0  0.0  0.0  0.0  0.0  0.0\n",
       " 0.0  0.0  1.0  1.0  0.0  0.0  0.0  0.0     0.0  0.0  0.0  0.0  0.0  1.0  0.0\n",
       " 0.0  0.0  0.0  0.0  0.0  0.0  0.0  0.0     1.0  1.0  0.0  0.0  0.0  0.0  0.0\n",
       " ⋮                        ⋮              ⋱       ⋮                        ⋮\n",
       " 0.0  0.0  1.0  0.0  1.0  1.0  1.0  0.0     0.0  0.0  1.0  0.0  0.0  0.0  1.0\n",
       " 0.0  0.0  0.0  0.0  0.0  0.0  0.0  0.0     0.0  0.0  0.0  0.0  0.0  1.0  0.0\n",
       " 0.0  0.0  0.0  0.0  0.0  0.0  0.0  0.0     0.0  0.0  0.0  0.0  0.0  0.0  0.0\n",
       " 1.0  0.0  0.0  0.0  0.0  0.0  0.0  1.0     0.0  0.0  0.0  1.0  1.0  0.0  0.0\n",
       " 0.0  1.0  1.0  1.0  0.0  0.0  0.0  0.0  …  1.0  1.0  1.0  0.0  0.0  0.0  0.0\n",
       " 0.0  0.0  0.0  0.0  1.0  1.0  1.0  0.0     0.0  0.0  0.0  0.0  0.0  0.0  1.0\n",
       " 0.0  0.0  0.0  0.0  0.0  0.0  0.0  0.0     0.0  0.0  0.0  1.0  0.0  1.0  0.0\n",
       " 0.0  0.0  0.0  0.0  0.0  0.0  0.0  1.0     0.0  0.0  0.0  0.0  0.0  0.0  0.0\n",
       " 1.0  0.0  0.0  0.0  0.0  0.0  0.0  0.0     0.0  0.0  0.0  0.0  1.0  0.0  0.0"
      ]
     },
     "metadata": {},
     "output_type": "display_data"
    }
   ],
   "source": [
    "s"
   ]
  },
  {
   "cell_type": "code",
   "execution_count": 13,
   "id": "6eeacbdc",
   "metadata": {},
   "outputs": [
    {
     "data": {
      "image/png": "[encoded data removed]",
      "text/html": [
       "<img src=\"data:image/png;base64,iVBORw0KGgoAAAANSUhEUgAAADAAAAEsCAAAAACgCm8PAAAAAXNSR0IArs4c6QAAAARnQU1BAACxjwv8YQUAAAAgY0hSTQAAeiYAAICEAAD6AAAAgOgAAHUwAADqYAAAOpgAABdwnLpRPAAABBRJREFUaAWVwQFuHYmOBDAWUPe/shYyOug8r3/GIjtWrCHWEI+x4lFHddR4xSNe8aGO6qi+jBWGWEP8oI7qqL7EIx7x3RDqqI7qL0MYYo0VawhDHdVRMcSKFYYQa6xYoY7qqEN8F6/4UEd11PgwxL/UUR3Vl7FCPIb4MIQ6qqP6Et+FseIRq47qqP4yhCFW/KCO6qhjxYoVhniMRxjqqI4aH4YQr3iFOqqj+jLEiscQH4ZQR3VUX8IQr/guVh3VUf0RhniNFR/qqI6KIVassUKsIQxhqKM6KuJDfAhDrFBHdVS/EK86qqMOcVBHddRYQ6wh1hAfhlBHdVRfwljxiDXEI1Yd1VExhHiMFYYwhCEMdVRHHeI1xCNWGGKFOqqjxhrCEI8hHrGGUEd1VF/CEK8wVjxi1VEdFUOI7+IHdVRHRXw3xGMIQ6w6qqP6f4Z4hSHWUEd11CFeQ3wXj1BHddRYQ6x4DPFhCHVUR/UljBWPMFY8YtVRHRVDiNcQYg3xqqM6KuLDEK8wVhjqqI46hCGMFWuIR6wh1FEdNQxhiFcYj1ix6qiOiljxGkI8xopVR3XUIV5jxYd4DHVUR401hCEe4xGPIdRRHRVDGOIxxGOIFauO6qiIFa94hbFi1VEddYjXWPEh1lh1VEeN1xCPIT7EqqM6qi9DiMcQxooPdVRH9SU+xIof1FEdFUMY4gdDvOqojopY8bMwVqw6qqP6hXjVUR11iNdY8YOx6qiOGmsIQ6zxikesOqqjYogVj3gN8aqjOiriX+JDHdVR/THEf6ujOqo/4lfqqI7q0xDfjRWrjuqoQxjCEIYwhCHEGquO6qixYsUKQxjiFauO6qgY4kOsWEO86qiOilhDGOJDGCtWHdVRhzCEIQxhCEOINVYd1VFjxYoVhjDEK1Yd1VExxIdYsYZ41VEdFfEv8aGO6qiO6qiO6qiO6qj+GI/4bjxCHdVR/RH/U7zqqI46xA+G+EEd1VHDWPEYK4xHPIY6qqMiPsQjvgt1VEf1aYjvhnjUUR3VH2PFD8JYoY7qqEOs+DDEKx51VEcNY8VjrDBWvIY6qqMiPsQj1hCPUEd1VH8ZKz7Ehzqqo/pL/Lc6qqP6hSEMoY7qqEOsIV5DPMIQq47qqPGID/EhHnVUR/WTIYwVH+qojoqx4jHEijXEY6ijOiriQ3yIV6ijOqq/jBX/Ukd1VH+J/1ZHdVRHdVRH9QtDGEId1VH9QqxYdVRHHWIN8RgrXkOsOqqjxiNe8V086qiOiiF+MFZ8qKM6KsIQxiNWrCEeQx3VUX2JFT+IxxDqqI7q12LVUR11iO/GisdYseqojhrGIx6xxiNedVRHRTzGI1Z8N9RRHdVf4mdDGEId1VH9ZKx4xIpVR3XUIb6L74ZYdVRH/wfWwNhGYaim6wAAAABJRU5ErkJg\">"
      ],
      "text/plain": [
       "\u001b[0m\u001b[38;5;234;48;5;233m▀\u001b[38;5;235;48;5;236m▀\u001b[38;5;234;48;5;236m▀\u001b[38;5;234;48;5;237m▀\u001b[38;5;232;48;5;234m▀\u001b[0m\n",
       "\u001b[0m\u001b[38;5;234;48;5;234m▀\u001b[38;5;236;48;5;236m▀\u001b[38;5;236;48;5;236m▀\u001b[38;5;235;48;5;236m▀\u001b[38;5;233;48;5;234m▀\u001b[0m\n",
       "\u001b[0m\u001b[38;5;233;48;5;234m▀\u001b[38;5;235;48;5;236m▀\u001b[38;5;236;48;5;235m▀\u001b[38;5;236;48;5;235m▀\u001b[38;5;234;48;5;233m▀\u001b[0m\n",
       "\u001b[0m\u001b[38;5;234;48;5;233m▀\u001b[38;5;238;48;5;235m▀\u001b[38;5;237;48;5;236m▀\u001b[38;5;237;48;5;236m▀\u001b[38;5;234;48;5;234m▀\u001b[0m\n",
       "\u001b[0m\u001b[38;5;234;48;5;235m▀\u001b[38;5;238;48;5;238m▀\u001b[38;5;237;48;5;238m▀\u001b[38;5;237;48;5;239m▀\u001b[38;5;234;48;5;235m▀\u001b[0m\n",
       "\u001b[0m\u001b[38;5;234;48;5;233m▀\u001b[38;5;237;48;5;235m▀\u001b[38;5;238;48;5;236m▀\u001b[38;5;237;48;5;235m▀\u001b[38;5;235;48;5;233m▀\u001b[0m\n",
       "\u001b[0m\u001b[38;5;234;48;5;233m▀\u001b[38;5;236;48;5;235m▀\u001b[38;5;236;48;5;234m▀\u001b[38;5;236;48;5;234m▀\u001b[38;5;234;48;5;232m▀\u001b[0m\n",
       "\u001b[0m\u001b[38;5;234;48;5;234m▀\u001b[38;5;237;48;5;236m▀\u001b[38;5;237;48;5;237m▀\u001b[38;5;237;48;5;237m▀\u001b[38;5;235;48;5;234m▀\u001b[0m\n",
       "\u001b[0m\u001b[38;5;232;48;5;234m▀\u001b[38;5;234;48;5;236m▀\u001b[38;5;233;48;5;237m▀\u001b[38;5;234;48;5;236m▀\u001b[38;5;233;48;5;234m▀\u001b[0m\n",
       "\u001b[0m\u001b[38;5;234;48;5;233m▀\u001b[38;5;237;48;5;235m▀\u001b[38;5;236;48;5;234m▀\u001b[38;5;236;48;5;235m▀\u001b[38;5;234;48;5;233m▀\u001b[0m\n",
       "\u001b[0m\u001b[38;5;233;48;5;232m▀\u001b[38;5;234;48;5;234m▀\u001b[38;5;236;48;5;233m▀\u001b[38;5;235;48;5;233m▀\u001b[38;5;233;48;5;232m▀\u001b[0m\n",
       "\u001b[0m\u001b[38;5;233;48;5;234m▀\u001b[38;5;234;48;5;236m▀\u001b[38;5;235;48;5;236m▀\u001b[38;5;235;48;5;236m▀\u001b[38;5;233;48;5;234m▀\u001b[0m\n",
       "\u001b[0m\u001b[38;5;234;48;5;233m▀\u001b[38;5;237;48;5;232m▀\u001b[38;5;237;48;5;233m▀\u001b[38;5;237;48;5;233m▀\u001b[38;5;234;48;5;233m▀\u001b[0m\n"
      ]
     },
     "metadata": {},
     "output_type": "display_data"
    }
   ],
   "source": [
    "Gray.(s)"
   ]
  },
  {
   "cell_type": "markdown",
   "id": "4588116d",
   "metadata": {},
   "source": [
    "## Task 3: Let's build an S5 model \n",
    "In this task, we'll build a simplified structured state space sequence (S5) model instance. We'll feed in the spike patterns from our SSN and output a sequence of transformed digits by including a nonlinear transformation of the output.\n",
    "\n",
    "First, let's build an [an instance of the `MyS5Model` type](src/Types.jl#L5). The [`MyS5Model` type](src/Types.jl) is constructed using [a custom `build(...)` method](src/Factory.jl). In the [`build(...)` method](src/Factory.jl), we pass in the type we want to build, and the data required to build it. We get back a model (populated) model instance. \n",
    "\n",
    "Normaally, our build methods don't do much, but in this case we construct all the system matriciesm, diaganolize them, and compute the requyired discete system matricies. We save the S5 model instance in the `s5model::MyS5Model` variable."
   ]
  },
  {
   "cell_type": "code",
   "execution_count": 25,
   "id": "04b34023",
   "metadata": {},
   "outputs": [],
   "source": [
    "s5model = let\n",
    "\n",
    "    # initialize -\n",
    "    number_of_hidden_states = 2^4; # number of hidden states\n",
    "    number_of_inputs = number_of_neurons; # number of inputs\n",
    "    number_of_outputs = 10; # number of outputs: the number of numbers we want to classify\n",
    "    Δt = 2.0; # adjust for stability\n",
    "\n",
    "    # build model -\n",
    "    model = build(MyS5Model, (\n",
    "        Δt = Δt, # time step (ms)\n",
    "        number_of_hidden_states = number_of_hidden_states, # number of hidden states\n",
    "        number_of_inputs = number_of_inputs, # number of inputs\n",
    "        number_of_outputs = number_of_outputs, # the number of outputs\n",
    "    ));\n",
    "\n",
    "    model;\n",
    "end;"
   ]
  },
  {
   "cell_type": "markdown",
   "id": "4312c353",
   "metadata": {},
   "source": [
    "__Solve the S5 model__: Now that we have a populated `s5model::MyS5Model` model, we can run the model forward in time and generate the output for our system. We do this [using the `solve(...)` method](src/Compute.jl)."
   ]
  },
  {
   "cell_type": "code",
   "execution_count": null,
   "id": "80a58f8f",
   "metadata": {},
   "outputs": [],
   "source": [
    "(TS5,HS5,YS5, U) = let\n",
    "    \n",
    "    U = s |> s-> transpose(s) |> Matrix; # formulate the input (transposed spike patterns)\n",
    "    (TS5,HS5,YS5) = solve(s5model,U,100); # solve the S5 model -\n",
    "\n",
    "    TS5, HS5, YS5, U # return the time, hidden states, output and the input\n",
    "end;"
   ]
  },
  {
   "cell_type": "code",
   "execution_count": 22,
   "id": "17ee349a",
   "metadata": {},
   "outputs": [
    {
     "data": {
      "image/png": "[encoded data removed]",
      "text/html": [
       "<img src=\"data:image/png;base64,iVBORw0KGgoAAAANSUhEUgAAASwAAAAwCAAAAACOdRj9AAAAAXNSR0IArs4c6QAAAARnQU1BAACxjwv8YQUAAAAgY0hSTQAAeiYAAICEAAD6AAAAgOgAAHUwAADqYAAAOpgAABdwnLpRPAAAArRJREFUaAXtwVGKZTcWBMBI0P63nOYYGXGL1y5VzzT+uRGrxEOJo8QHJbYSDyWOEqPEVuKrEl+V2Ep8UOIo8VDil0o8lDjK8rq2vK4tTyX+TYkRW4mtxIithFBCjBLiKDFilDhilBCjxEMosYUSR2wlvopRYgsltrC8ri2vaytGiRFbiRGjxIijhBglxFFCjBJbiaOEOEo8lBCjhPgjQonPlte15XVtuRNKPIQSI5Q4QokRSoxQYotRYoutxIitxFclRmwlxEOJER+UGPFLy+va8rq2SohRYotRYgslPivxSyW2EluJEUeJEVuJEUr8QIkRDyWO2EpsocS2vK4tr2srRgmxlRgxSox4KDFKPJQQX5XYSnxV4qHEVuIbJf6I5XVteV1b/hajxIithDhKbDFKPJQ4Svy+UGKEEg+xlRBbCfFVCfFjy+va8rq2SmyhxBFK/ECJo8RWYpQQo8QRSjyEEiOU+E0lPigxYishRgnL69ryurZilBixlRgxSow4SohRYsRWQowSYpTYSnyvxFbigxJHiYcS4vctr2vL69rytxgltlBii1HiiFFCKHGEEiOU+CqU+EYoMUKJr0KJLZQ4YpT4IEaJLZQYMZbXteV1bfnflPjjSmwl/hvL69ryurZKbKHEFqPEFkococSIUWILJR5CiS1GiS2UOGKUEKPEN0KJh1Dis1Dis+V1bXldW34olDhCiS2U2EIJocQIJY5QYoujxAglRhwlRowSW2wltngoccRWYpQYy+va8rq24ijxjRIPJY4S/6VQ4iGU+CBGic9ilOV1bXldW/5R4igxYpQYcZQQo8SIrcQIJcQoIZQ4YpR4CCVGKPFjJT4rIY4SYishLK9ry+va8o9QYouthNhKbDFKiKOE2EpsJf7PYisxYpTY4ihxxEOJo8S2vK4tr2t/Adbv1FaPUycHAAAAAElFTkSuQmCC\">"
      ],
      "text/plain": [
       "\u001b[0m\u001b[38;5;236;48;5;236m▀\u001b[38;5;233;48;5;238m▀\u001b[38;5;232;48;5;234m▀\u001b[38;5;236;48;5;236m▀\u001b[38;5;233;48;5;237m▀\u001b[38;5;233;48;5;235m▀\u001b[38;5;236;48;5;237m▀\u001b[38;5;232;48;5;236m▀\u001b[38;5;233;48;5;235m▀\u001b[38;5;233;48;5;233m▀\u001b[38;5;235;48;5;237m▀\u001b[38;5;234;48;5;238m▀\u001b[38;5;235;48;5;238m▀\u001b[38;5;233;48;5;237m▀\u001b[38;5;233;48;5;233m▀\u001b[38;5;235;48;5;237m▀\u001b[38;5;233;48;5;237m▀\u001b[38;5;236;48;5;239m▀\u001b[38;5;235;48;5;238m▀\u001b[38;5;235;48;5;238m▀\u001b[38;5;234;48;5;238m▀\u001b[38;5;235;48;5;234m▀\u001b[38;5;232;48;5;237m▀\u001b[38;5;233;48;5;236m▀\u001b[38;5;235;48;5;234m▀\u001b[38;5;234;48;5;239m▀\u001b[38;5;232;48;5;234m▀\u001b[38;5;233;48;5;233m▀\u001b[38;5;235;48;5;237m▀\u001b[38;5;234;48;5;238m▀\u001b[38;5;235;48;5;238m▀\u001b[38;5;233;48;5;235m▀\u001b[38;5;232;48;5;232m▀\u001b[38;5;233;48;5;233m▀\u001b[38;5;236;48;5;240m▀\u001b[38;5;232;48;5;234m▀\u001b[38;5;235;48;5;236m▀\u001b[38;5;234;48;5;239m▀\u001b[38;5;232;48;5;232m▀\u001b[38;5;235;48;5;234m▀\u001b[38;5;233;48;5;235m▀\u001b[38;5;233;48;5;239m▀\u001b[38;5;232;48;5;232m▀\u001b[38;5;232;48;5;232m▀\u001b[38;5;235;48;5;234m▀\u001b[38;5;234;48;5;237m▀\u001b[38;5;232;48;5;236m▀\u001b[38;5;235;48;5;235m▀\u001b[38;5;234;48;5;240m▀\u001b[38;5;233;48;5;232m▀\u001b[38;5;235;48;5;233m▀\u001b[0m\n",
       "\u001b[0m\u001b[38;5;235;48;5;234m▀\u001b[38;5;239;48;5;236m▀\u001b[38;5;237;48;5;238m▀\u001b[38;5;233;48;5;235m▀\u001b[38;5;237;48;5;235m▀\u001b[38;5;237;48;5;237m▀\u001b[38;5;234;48;5;238m▀\u001b[38;5;238;48;5;233m▀\u001b[38;5;236;48;5;237m▀\u001b[38;5;232;48;5;233m▀\u001b[38;5;236;48;5;235m▀\u001b[38;5;240;48;5;240m▀\u001b[38;5;239;48;5;238m▀\u001b[38;5;237;48;5;232m▀\u001b[38;5;232;48;5;237m▀\u001b[38;5;236;48;5;237m▀\u001b[38;5;239;48;5;235m▀\u001b[38;5;239;48;5;240m▀\u001b[38;5;237;48;5;237m▀\u001b[38;5;239;48;5;240m▀\u001b[38;5;237;48;5;235m▀\u001b[38;5;237;48;5;240m▀\u001b[38;5;235;48;5;233m▀\u001b[38;5;235;48;5;232m▀\u001b[38;5;234;48;5;239m▀\u001b[38;5;237;48;5;236m▀\u001b[38;5;235;48;5;232m▀\u001b[38;5;235;48;5;237m▀\u001b[38;5;237;48;5;239m▀\u001b[38;5;238;48;5;237m▀\u001b[38;5;238;48;5;239m▀\u001b[38;5;232;48;5;232m▀\u001b[38;5;234;48;5;233m▀\u001b[38;5;240;48;5;236m▀\u001b[38;5;233;48;5;236m▀\u001b[38;5;235;48;5;237m▀\u001b[38;5;239;48;5;235m▀\u001b[38;5;234;48;5;238m▀\u001b[38;5;236;48;5;236m▀\u001b[38;5;235;48;5;232m▀\u001b[38;5;233;48;5;234m▀\u001b[38;5;234;48;5;237m▀\u001b[38;5;236;48;5;236m▀\u001b[38;5;232;48;5;232m▀\u001b[38;5;235;48;5;233m▀\u001b[38;5;235;48;5;235m▀\u001b[38;5;237;48;5;240m▀\u001b[38;5;233;48;5;233m▀\u001b[38;5;241;48;5;240m▀\u001b[38;5;233;48;5;235m▀\u001b[38;5;232;48;5;232m▀\u001b[0m\n",
       "\u001b[0m\u001b[38;5;235;48;5;233m▀\u001b[38;5;236;48;5;233m▀\u001b[38;5;236;48;5;239m▀\u001b[38;5;236;48;5;235m▀\u001b[38;5;235;48;5;235m▀\u001b[38;5;236;48;5;239m▀\u001b[38;5;237;48;5;233m▀\u001b[38;5;235;48;5;235m▀\u001b[38;5;237;48;5;240m▀\u001b[38;5;233;48;5;232m▀\u001b[38;5;235;48;5;234m▀\u001b[38;5;239;48;5;240m▀\u001b[38;5;237;48;5;237m▀\u001b[38;5;235;48;5;239m▀\u001b[38;5;236;48;5;233m▀\u001b[38;5;236;48;5;235m▀\u001b[38;5;238;48;5;240m▀\u001b[38;5;238;48;5;236m▀\u001b[38;5;238;48;5;240m▀\u001b[38;5;240;48;5;240m▀\u001b[38;5;237;48;5;235m▀\u001b[38;5;238;48;5;235m▀\u001b[38;5;237;48;5;239m▀\u001b[38;5;232;48;5;233m▀\u001b[38;5;235;48;5;234m▀\u001b[38;5;240;48;5;241m▀\u001b[38;5;232;48;5;232m▀\u001b[38;5;233;48;5;233m▀\u001b[38;5;241;48;5;240m▀\u001b[38;5;235;48;5;235m▀\u001b[38;5;241;48;5;240m▀\u001b[38;5;233;48;5;234m▀\u001b[38;5;232;48;5;232m▀\u001b[38;5;233;48;5;232m▀\u001b[38;5;241;48;5;241m▀\u001b[38;5;233;48;5;234m▀\u001b[38;5;237;48;5;235m▀\u001b[38;5;239;48;5;240m▀\u001b[38;5;232;48;5;232m▀\u001b[38;5;235;48;5;233m▀\u001b[38;5;238;48;5;239m▀\u001b[38;5;234;48;5;235m▀\u001b[38;5;232;48;5;232m▀\u001b[38;5;232;48;5;232m▀\u001b[38;5;239;48;5;233m▀\u001b[38;5;235;48;5;239m▀\u001b[38;5;233;48;5;235m▀\u001b[38;5;239;48;5;235m▀\u001b[38;5;236;48;5;240m▀\u001b[38;5;239;48;5;233m▀\u001b[38;5;234;48;5;232m▀\u001b[0m\n",
       "\u001b[0m\u001b[38;5;239;48;5;233m▀\u001b[38;5;234;48;5;233m▀\u001b[38;5;236;48;5;240m▀\u001b[38;5;239;48;5;234m▀\u001b[38;5;232;48;5;235m▀\u001b[38;5;235;48;5;235m▀\u001b[38;5;240;48;5;239m▀\u001b[38;5;232;48;5;235m▀\u001b[38;5;239;48;5;237m▀\u001b[38;5;237;48;5;234m▀\u001b[38;5;232;48;5;235m▀\u001b[38;5;239;48;5;238m▀\u001b[38;5;237;48;5;238m▀\u001b[38;5;234;48;5;234m▀\u001b[38;5;240;48;5;237m▀\u001b[38;5;233;48;5;236m▀\u001b[38;5;238;48;5;235m▀\u001b[38;5;239;48;5;241m▀\u001b[38;5;241;48;5;238m▀\u001b[38;5;235;48;5;238m▀\u001b[38;5;240;48;5;239m▀\u001b[38;5;233;48;5;238m▀\u001b[38;5;234;48;5;232m▀\u001b[38;5;240;48;5;236m▀\u001b[38;5;233;48;5;238m▀\u001b[38;5;236;48;5;233m▀\u001b[38;5;233;48;5;232m▀\u001b[38;5;237;48;5;238m▀\u001b[38;5;235;48;5;238m▀\u001b[38;5;240;48;5;238m▀\u001b[38;5;235;48;5;238m▀\u001b[38;5;235;48;5;232m▀\u001b[38;5;233;48;5;234m▀\u001b[38;5;236;48;5;240m▀\u001b[38;5;236;48;5;233m▀\u001b[38;5;237;48;5;235m▀\u001b[38;5;234;48;5;239m▀\u001b[38;5;236;48;5;233m▀\u001b[38;5;234;48;5;233m▀\u001b[38;5;236;48;5;240m▀\u001b[38;5;234;48;5;233m▀\u001b[38;5;235;48;5;233m▀\u001b[38;5;232;48;5;232m▀\u001b[38;5;235;48;5;236m▀\u001b[38;5;234;48;5;237m▀\u001b[38;5;234;48;5;233m▀\u001b[38;5;235;48;5;236m▀\u001b[38;5;238;48;5;237m▀\u001b[38;5;239;48;5;236m▀\u001b[38;5;235;48;5;238m▀\u001b[38;5;233;48;5;235m▀\u001b[0m\n",
       "\u001b[0m\u001b[38;5;232m▀\u001b[38;5;232m▀\u001b[38;5;236m▀\u001b[38;5;233m▀\u001b[38;5;233m▀\u001b[38;5;233m▀\u001b[38;5;235m▀\u001b[38;5;233m▀\u001b[38;5;235m▀\u001b[38;5;233m▀\u001b[38;5;233m▀\u001b[38;5;235m▀\u001b[38;5;234m▀\u001b[38;5;232m▀\u001b[38;5;235m▀\u001b[38;5;234m▀\u001b[38;5;233m▀\u001b[38;5;236m▀\u001b[38;5;233m▀\u001b[38;5;236m▀\u001b[38;5;233m▀\u001b[38;5;236m▀\u001b[38;5;232m▀\u001b[38;5;232m▀\u001b[38;5;236m▀\u001b[38;5;233m▀\u001b[38;5;232m▀\u001b[38;5;233m▀\u001b[38;5;236m▀\u001b[38;5;233m▀\u001b[38;5;236m▀\u001b[38;5;232m▀\u001b[38;5;232m▀\u001b[38;5;233m▀\u001b[38;5;235m▀\u001b[38;5;233m▀\u001b[38;5;234m▀\u001b[38;5;235m▀\u001b[38;5;232m▀\u001b[38;5;233m▀\u001b[38;5;233m▀\u001b[38;5;235m▀\u001b[38;5;232m▀\u001b[38;5;233m▀\u001b[38;5;232m▀\u001b[38;5;233m▀\u001b[38;5;236m▀\u001b[38;5;232m▀\u001b[38;5;235m▀\u001b[38;5;234m▀\u001b[38;5;232m▀\u001b[0m"
      ]
     },
     "metadata": {},
     "output_type": "display_data"
    }
   ],
   "source": [
    "Gray.(U)"
   ]
  },
  {
   "cell_type": "code",
   "execution_count": 23,
   "id": "895c4250",
   "metadata": {},
   "outputs": [
    {
     "data": {
      "text/plain": [
       "(16, 100)"
      ]
     },
     "metadata": {},
     "output_type": "display_data"
    }
   ],
   "source": [
    "size(U)"
   ]
  },
  {
   "cell_type": "code",
   "execution_count": 33,
   "id": "cd2f7fd0",
   "metadata": {},
   "outputs": [
    {
     "data": {
      "text/plain": [
       "100-element Vector{Int64}:\n",
       " 1\n",
       " 0\n",
       " 1\n",
       " 1\n",
       " 1\n",
       " 1\n",
       " 1\n",
       " 1\n",
       " 1\n",
       " 1\n",
       " ⋮\n",
       " 1\n",
       " 1\n",
       " 6\n",
       " 1\n",
       " 1\n",
       " 1\n",
       " 1\n",
       " 1\n",
       " 1"
      ]
     },
     "metadata": {},
     "output_type": "display_data"
    }
   ],
   "source": [
    "Nₐ = let\n",
    "    Y = transpose(YS5) |> Matrix;\n",
    "    (number_of_rows, number_of_cols) = size(Y);\n",
    "    number_array = Array{Int64,1}(undef, number_of_cols); # numbers we are going to decode\n",
    "\n",
    "    for i ∈ 1:number_of_cols\n",
    "        number_array[i] = NNlib.softmax(Y[:,i]) |> x-> argmax(x) |> i -> i -1; # zero based\n",
    "    end\n",
    "\n",
    "    number_array\n",
    "end"
   ]
  }
 ],
 "metadata": {
  "kernelspec": {
   "display_name": "Julia 1.11.5",
   "language": "julia",
   "name": "julia-1.11"
  },
  "language_info": {
   "file_extension": ".jl",
   "mimetype": "application/julia",
   "name": "julia",
   "version": "1.11.5"
  }
 },
 "nbformat": 4,
 "nbformat_minor": 5
}
