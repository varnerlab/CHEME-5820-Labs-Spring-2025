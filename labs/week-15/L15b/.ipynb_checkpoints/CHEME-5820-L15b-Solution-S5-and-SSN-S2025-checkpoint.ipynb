{
 "cells": [
  {
   "cell_type": "markdown",
   "id": "4b0b40ea-0b0d-4237-b28e-653a016bbe43",
   "metadata": {},
   "source": [
    "# L15b: Combining S5 and Spike Neural Networks\n",
    "In this lab, we'll explore two alternative neural network architectures: Spike Neural Networks (SNNs) and the simplified structure state space sequence (S5) models. This is going to be a toy lab in the sense that we'll implement each of these and hook them together, but we will not (because of time) train them to do anything useful. \n",
    "\n",
    "* __Objective__: Our goal is to understand how these two models work. We'll start by using an SSN for vector embedding, and then we'll use the output of that model as input to an S5 model. The objective of the S5 model is to output a sequence of transformed digits. \n",
    "\n",
    "### Tasks\n",
    "Before we start, execute the `Run All Cells` command to check if you (or your neighbor) have any code or setup issues. Code issues, then raise your hands - and let's get those fixed!\n",
    "* __Task 1: Setup, Data, Constants (5 min)__: Let's take 5 minutes to load [the MNIST handwritten digits dataset](https://en.wikipedia.org/wiki/MNIST_database) that will serve as the input into the Spike Neural Network (SNN) model.\n",
    "* __Task 2: What is a Spiking Neural Network? (20 min)__: We will build a Spiking Neural Network (SNN) model instance in this task. The SNN model is a type of artificial neural network that is inspired by the way biological neurons communicate with each other. We'll feed in the vectorized digits from the training data, then check out the spiking patterns generated for different digits and hyperparameter choices.\n",
    "* __Task 3: Let's build an S5 model (20 min)__: In this task, we'll create a simplified structured state space sequence (S5) model instance. We'll feed in the spike patterns from our SSN and output a sequence of transformed digits using a nonlinear output transformation.\n",
    "\n",
    "Let's get started!\n",
    "___"
   ]
  },
  {
   "cell_type": "markdown",
   "id": "28e06d22",
   "metadata": {},
   "source": [
    "## Task 1: Setup, Data, Prerequisites\n",
    "We set up the computational environment by including the `Include.jl` file, loading any needed resources, such as sample datasets, and setting up any required constants. \n",
    "* The `Include.jl` file also loads external packages, various functions that we will use in the exercise, and custom types to model the components of our problem. It checks for a `Manifest.toml` file; if it finds one, packages are loaded. Other packages are downloaded and then loaded."
   ]
  },
  {
   "cell_type": "code",
   "execution_count": 3,
   "id": "0f3aa51b",
   "metadata": {},
   "outputs": [],
   "source": [
    "include(\"Include.jl\");"
   ]
  },
  {
   "cell_type": "code",
   "execution_count": 4,
   "id": "17752d75",
   "metadata": {},
   "outputs": [],
   "source": [
    "file_extension(file::String) = file[findlast(==('.'), file)+1:end]; # helper function to get the file extension"
   ]
  },
  {
   "cell_type": "markdown",
   "id": "406bb1c0",
   "metadata": {},
   "source": [
    "### Load the MNIST digits data set\n",
    "In this example, we'll play with image patterns from [the MNIST handwritten digits dataset](https://en.wikipedia.org/wiki/MNIST_database). The goal is to train the network to recognize a digit, e.g., \"3\" or \"5\", etc, and then retrieve it from a noisy input.\n",
    "\n",
    "Load a training image dataset and save training data in the `training_image_dataset` variable.\n",
    "* _What's in the training dataset_? The `training_image_dataset` will be of type `Vector{Tuple{Vector{Float32}, OneHotVector{UInt32}}}` where the first element is the input data `x.` The second element is the `label,` i.e., whether the image corresponds to `0,....,9`. However, the label is encoded as a `OneHotVector` (see below).\n",
    "* _Hmmm. That's strange_. The `Vector{Tuple{Vector{Float32}, OneHotVector{UInt32}}}` type has a couple of _weird features_. First, notice that the floating point is `Float32`, not the default `Float64`. Next, the labels are [One Hot encoded](https://en.wikipedia.org/wiki/One-hot). Finally, the input data `x` is a Vector, not a Matrix (even though the original image is a matrix of `Gray` values).\n",
    "\n",
    "However, before we load the training data, let's set some constants, which we use below. The comment next to each constant describes its permissible values, units, etc."
   ]
  },
  {
   "cell_type": "code",
   "execution_count": 6,
   "id": "b0deacbc",
   "metadata": {},
   "outputs": [],
   "source": [
    "number_of_training_examples = 30; # how many training examples of *each* number to include from the library\n",
    "number_digit_array = range(0,length=10,step=1) |> collect; # numbers 0 ... 9\n",
    "number_of_rows = 28; # number of rows in the image\n",
    "number_of_cols = 28; # number of cols in the image\n",
    "number_of_pixels = number_of_rows*number_of_cols; # how many pixels do we have in the image?\n",
    "number_of_images_to_memorize = 3; # number of images that we want to encode"
   ]
  },
  {
   "cell_type": "markdown",
   "id": "c3c1c2e2",
   "metadata": {},
   "source": [
    "`Unhide` the code blocks below to see how we construct and populate the `training_image_dataset` variable. First, we load all the images into the `training_image_dictionary::Dict{Int64, Array{Gray{N0f8},3}}`, and then we'll convert these to a vector format below."
   ]
  },
  {
   "cell_type": "code",
   "execution_count": 8,
   "id": "5ec7e35a",
   "metadata": {},
   "outputs": [],
   "source": [
    "training_image_dictionary = let\n",
    "    training_image_dictionary = Dict{Int64, Array{Gray{N0f8},3}}();\n",
    "    for i ∈ number_digit_array\n",
    "        \n",
    "        # create a set for this digit -\n",
    "        image_digit_array = Array{Gray{N0f8},3}(undef, number_of_rows, number_of_cols, number_of_training_examples);\n",
    "        files = readdir(joinpath(_PATH_TO_IMAGES,\"$(i)\")); \n",
    "        imagecount = 1;\n",
    "        for fileindex ∈ 1:number_of_training_examples\n",
    "            filename = files[fileindex];\n",
    "            ext = file_extension(filename)\n",
    "            if (ext == \"jpg\")\n",
    "                image_digit_array[:,:,fileindex] = joinpath(_PATH_TO_IMAGES, \"$(i)\", filename) |> x-> FileIO.load(x);\n",
    "                imagecount += 1\n",
    "            end\n",
    "        end\n",
    "    \n",
    "        # capture -\n",
    "        training_image_dictionary[i] = image_digit_array\n",
    "    end\n",
    "    training_image_dictionary\n",
    "end;"
   ]
  },
  {
   "cell_type": "markdown",
   "id": "837fc8eb",
   "metadata": {},
   "source": [
    "Next, we take the images in array format and vectorize them. \n",
    "* _What do we mean by vectorize_? Each $N\\times{N}$ image array containing the grayscale values at each pixel is converted to an $N^{2}$ vector of values. What image class, i.e., what number it represents, is then converted to [one-hot format](https://en.wikipedia.org/wiki/One-hot). The converted data is stored in the `training_image_dataset::Vector{Tuple{Vector{Float32}, OneHotVector{UInt32}}}` variable.\n",
    "* _What's the deal with Float32_? Most neural network libraries (or other machine learning calculations) use `Float32` (or lower) to save memory because of the large number of parameters associated with the network. Additionally, model training is often carried out using specialized hardware [such as Graphical Processing Units (GPUs)](https://www.nvidia.com/en-us/data-center/h100/), which has different memory constraints."
   ]
  },
  {
   "cell_type": "code",
   "execution_count": 10,
   "id": "a2b79705",
   "metadata": {},
   "outputs": [],
   "source": [
    "training_image_dataset = let\n",
    "    training_image_dataset = Vector{Tuple{Vector{Float32}, OneHotVector{UInt32}}}()\n",
    "    for i ∈ number_digit_array\n",
    "        Y = onehot(i, number_digit_array);\n",
    "        X = training_image_dictionary[i];\n",
    "        \n",
    "        for t ∈ 1:number_of_training_examples\n",
    "            D = Array{Float32,1}(undef, number_of_pixels);\n",
    "            linearindex = 1;\n",
    "            for row ∈ 1:number_of_rows\n",
    "                for col ∈ 1:number_of_cols\n",
    "                    D[linearindex] = X[row,col,t] |> x-> convert(Float32,x);\n",
    "                    linearindex+=1;\n",
    "                end\n",
    "            end\n",
    "    \n",
    "            training_tuple = (D,Y);\n",
    "            push!(training_image_dataset,training_tuple);\n",
    "        end\n",
    "    end\n",
    "    training_image_dataset\n",
    "end;"
   ]
  },
  {
   "cell_type": "code",
   "execution_count": 61,
   "id": "fbedfab4-53ed-42c2-812e-0f1ce243031f",
   "metadata": {},
   "outputs": [
    {
     "data": {
      "text/plain": [
       "784-element Vector{Float32}:\n",
       " 0.0\n",
       " 0.011764706\n",
       " 0.4392157\n",
       " 0.011764706\n",
       " 0.0627451\n",
       " 0.011764706\n",
       " 0.7529412\n",
       " 0.011764706\n",
       " 0.3137255\n",
       " 0.011764706\n",
       " 0.1882353\n",
       " 0.011764706\n",
       " 0.5019608\n",
       " ⋮\n",
       " 0.15294118\n",
       " 0.0\n",
       " 0.15294118\n",
       " 0.0\n",
       " 0.15294118\n",
       " 0.0\n",
       " 0.15294118\n",
       " 0.0\n",
       " 0.15294118\n",
       " 0.0\n",
       " 0.15294118\n",
       " 0.0"
      ]
     },
     "execution_count": 61,
     "metadata": {},
     "output_type": "execute_result"
    }
   ],
   "source": [
    "training_image_dataset[1][1]"
   ]
  },
  {
   "cell_type": "markdown",
   "id": "d745b933",
   "metadata": {},
   "source": [
    "## Task 2: What is a Spiking Neural Network?\n",
    "In this task, we will build a Spiking Neural Network (SNN) model instance. The SNN model is a neural network inspired by how actual biological neurons communicate. We'll feed in the vectorized digits and then check out the spiking patterns generated for different digits and hyperparameters.\n",
    "\n",
    "### Background\n",
    "The LIF spiking neural network model is characterized by its ability to generate binary spikes in response to an input current (from _pre-synaptic_ neurons, i.e., input neurons). It incorporates a leaky membrane potential that decays over time. The behavior of each neuron is governed by the (discretized) ordinary differential (now difference) equations:\n",
    "$$\n",
    "\\begin{align*}\n",
    "V_{i}(t+\\Delta{t}) & = \\alpha\\,V_{i}(t) + \\left(1-\\alpha\\right)I_{i}(t) - \\nu{z}_{i}(t)\\\\\n",
    "z_{i}(t) & = H\\left(I_{i}(t) - \\nu\\right)\n",
    "\\end{align*}\n",
    "$$\n",
    "where $V_{i}(\\star)$ denotes the membrane voltage at time $\\star$, $z_{i}(t)\\in\\left\\{0,1\\right\\}$ denotes the spike state of neuron $i$, and $\\nu$ denotes the firing threshold parameter. A LIF neuron will _fire_, i.e., switch to the `on` state from the `off` state, if the input current exceeds the firing threshold parameter. We implement this logic [using the Heaviside step function](https://en.wikipedia.org/wiki/Heaviside_step_function) $H(x)$. The input current for neuron $i$ at time $t$ denoted as $I_{i}(t)$, is given by\n",
    "$$\n",
    "\\begin{align*}\n",
    "I_{i}(t) = \\sum_{j=1}^{d_{in}}w_{ij}z_{j}(t)\n",
    "\\end{align*}\n",
    "$$\n",
    "where $w_{ij}\\in\\mathbb{R}_{+}$ denotes the strength of the connection between neuron $i$ and _pre-synaptic_ (input) neuron $j$, and $z_{j}(t)$ denotes the spike state of _pre synaptic_ neuron $j$. We have $d_{in}$ inputs in this formulation, i.e., $d_{in}$ _pre-synaptic_ neurons. The membrane potential decay constant $\\alpha = \\exp(-\\Delta{t}/\\tau_{m})$, where $\\Delta{t}$ is the timestep, and $\\tau_{m}$ is the membrane time constant.\n",
    "\n",
    "### Algorithm\n",
    "__Initialize__: The user specifies the number of neurons, the initial membrane voltage, and spike states are assumed to be zero. The user provides an input $\\mathbf{Z}\\in\\left\\{0,1\\right\\}^{d_{in}\\times{T}}$ matrix, where $z_{ij}\\in\\mathbf{Z}$ is the spike state of input neuron $i$ at time $j$. Lastly, specify a refractory time $\\Delta_{r}$ (number of time steps before neuron $i$ can refire).\n",
    "\n",
    "For $t = 1,2,\\dots,T\\cdot\\Delta{t}$\n",
    "1. For each neuron $k$, compute the input current $I_{k}(t)$, and compute the _next_ membrane voltage $V_{k}(t+1)  = \\alpha\\,V_{k}(t) + \\left(1-\\alpha\\right)I_{k}(t) - \\nu{z}_{k}(t)$. \n",
    "2. Update the _next_ spike state of neuron $k$ at time $t+1$. Evaluate $z_{k}(t+1) = H(I_{k}(t) - \\nu)$.\n",
    "    * __Refactory check__: If a neuron has recently fired, it is _ineligible_ to fire again until after a refactory period. Thus, if neuron $k$ is not eligible, i.e., fewer than refactory timesteps have passed, and it spiked, ignore the spike update.\n",
    "4. Continue until all input has been processed, i.e., all the columns of the $\\mathbf{Z}$ matrix have been given to the network, and the corresponding spike pattern recorded. \n",
    "\n",
    "Let's start by setting a few constants we will use in the SNN model. The comment next to each constant describes its permissible values, units, etc."
   ]
  },
  {
   "cell_type": "code",
   "execution_count": 12,
   "id": "5b4ab1c3",
   "metadata": {},
   "outputs": [],
   "source": [
    "number_of_samples = length(training_image_dataset); # how many samples do we have?\n",
    "number_of_neurons = 2^4; # TODO: how many SSN neurons do we want? (This will be the embedding dimension.)\n",
    "number_of_inputs = number_of_pixels; # how many inputs do we have? (size of the vector input)\n",
    "ν = 0.1; # Table 2: firing threshold https://arxiv.org/abs/2205.11276\n",
    "τ = 20.0; # Table 2: time constant (ms) https://arxiv.org/abs/2205.11276\n",
    "Δt = 1.0; # samping time step (ms)\n",
    "T₂ = 100; # number of time steps of length Δt (ms) to simulate (needs to be less than number_of_samples)"
   ]
  },
  {
   "cell_type": "code",
   "execution_count": 63,
   "id": "3d93ad1d-d29e-4994-b40e-ef80c5e5b7fb",
   "metadata": {},
   "outputs": [
    {
     "data": {
      "text/plain": [
       "300"
      ]
     },
     "execution_count": 63,
     "metadata": {},
     "output_type": "execute_result"
    }
   ],
   "source": [
    "number_of_samples"
   ]
  },
  {
   "cell_type": "markdown",
   "id": "26ad0a92",
   "metadata": {},
   "source": [
    "Next, we'll create an array `Z::Array{Int64,2}` that will hold the input data for the SSN. The columns of this array will hold the vectorized images, where the rows will be the pixel values transformed to $z_{ij}\\in\\{0,1\\}$ for image $j$ and pixel $i$. "
   ]
  },
  {
   "cell_type": "code",
   "execution_count": 14,
   "id": "7b4d4973",
   "metadata": {},
   "outputs": [
    {
     "data": {
      "text/plain": [
       "784×100 Matrix{Int64}:\n",
       " 0  0  0  0  0  0  0  0  0  0  0  0  0  …  0  0  0  0  0  0  0  0  0  0  0  0\n",
       " 0  0  0  0  0  0  0  0  0  0  0  0  0     0  0  0  0  0  0  0  0  0  0  0  0\n",
       " 0  0  0  0  0  0  0  0  0  0  0  0  0     0  0  0  0  0  0  0  0  0  0  0  0\n",
       " 0  0  0  0  0  0  0  0  0  0  0  0  0     0  0  0  0  0  0  0  0  0  0  0  0\n",
       " 0  0  0  0  0  0  0  0  0  0  0  0  0     0  0  0  0  0  0  0  0  0  0  0  0\n",
       " 0  0  0  0  0  0  0  0  0  0  0  0  0  …  0  0  0  0  0  0  0  0  0  0  0  0\n",
       " 0  0  0  0  0  0  0  0  0  0  0  0  0     0  0  0  0  0  0  0  0  0  0  0  0\n",
       " 0  0  0  0  0  0  0  0  0  0  0  0  0     0  0  0  0  0  0  0  0  0  0  0  0\n",
       " 0  0  0  0  0  0  0  0  0  0  0  0  0     0  0  0  0  0  0  0  0  0  0  0  0\n",
       " 0  0  0  0  0  0  0  0  0  0  0  0  0     0  0  0  0  0  0  0  0  0  0  0  0\n",
       " 0  0  0  0  0  0  0  0  0  0  0  0  0  …  0  0  0  0  0  0  0  0  0  0  0  0\n",
       " 0  0  0  0  0  0  0  0  0  0  0  0  0     0  0  0  0  0  0  0  0  0  0  0  0\n",
       " 0  0  0  0  0  0  0  0  0  0  0  0  0     0  0  0  0  0  0  0  0  0  0  0  0\n",
       " ⋮              ⋮              ⋮        ⋱        ⋮              ⋮           \n",
       " 0  0  0  0  0  0  0  0  0  0  0  0  0     0  0  0  0  0  0  0  0  0  0  0  0\n",
       " 0  0  0  0  0  0  0  0  0  0  0  0  0     0  0  0  0  0  0  0  0  0  0  0  0\n",
       " 0  0  0  0  0  0  0  0  0  0  0  0  0     0  0  0  0  0  0  0  0  0  0  0  0\n",
       " 0  0  0  0  0  0  0  0  0  0  0  0  0  …  0  0  0  0  0  0  0  0  0  0  0  0\n",
       " 0  0  0  0  0  0  0  0  0  0  0  0  0     0  0  0  0  0  0  0  0  0  0  0  0\n",
       " 0  0  0  0  0  0  0  0  0  0  0  0  0     0  0  0  0  0  0  0  0  0  0  0  0\n",
       " 0  0  0  0  0  0  0  0  0  0  0  0  0     0  0  0  0  0  0  0  0  0  0  0  0\n",
       " 0  0  0  0  0  0  0  0  0  0  0  0  0     0  0  0  0  0  0  0  0  0  0  0  0\n",
       " 0  0  0  0  0  0  0  0  0  0  0  0  0  …  0  0  0  0  0  0  0  0  0  0  0  0\n",
       " 0  0  0  0  0  0  0  0  0  0  0  0  0     0  0  0  0  0  0  0  0  0  0  0  0\n",
       " 0  0  0  0  0  0  0  0  0  0  0  0  0     0  0  0  0  0  0  0  0  0  0  0  0\n",
       " 0  0  0  0  0  0  0  0  0  0  0  0  0     0  0  0  0  0  0  0  0  0  0  0  0"
      ]
     },
     "execution_count": 14,
     "metadata": {},
     "output_type": "execute_result"
    }
   ],
   "source": [
    "Z = let\n",
    "\n",
    "    # initialize -\n",
    "    Z = zeros(Int, number_of_inputs, T₂); # we'll store the samples here (images on the col)\n",
    "    indexset = Set{Int64}(); # used to keep track of which samples we have already used\n",
    "    \n",
    "    # transform to {0,1}\n",
    "    for i ∈ 1:T₂\n",
    "        j = rand(1:number_of_samples); # generate a random sample index [1,....,number_of_samples]\n",
    "        if (j ∉ indexset) # if we have not already used this sample\n",
    "\n",
    "            tmp = training_image_dataset[j][1]; # grab the image\n",
    "            for k ∈ 1:number_of_pixels\n",
    "                z = tmp[k]; # grab the pixel value\n",
    "                if (z ≥ 0.5) # if the pixel value is greater than 0.5\n",
    "                    Z[k,i] = 1; # set to 1\n",
    "                else\n",
    "                    Z[k,i] = 0; # set to 0\n",
    "                end\n",
    "            end\n",
    "            push!(indexset,j); # grab the index (so we don't use it again)\n",
    "        end\n",
    "    end\n",
    "\n",
    "    Z # return \n",
    "end"
   ]
  },
  {
   "cell_type": "markdown",
   "id": "258bd06a",
   "metadata": {},
   "source": [
    "__Check__: Let's pick a column, and see what this data looks like. We should get a number back (after some gentle persuasion)."
   ]
  },
  {
   "cell_type": "code",
   "execution_count": 75,
   "id": "e00fb4c0",
   "metadata": {},
   "outputs": [
    {
     "data": {
      "image/png": "[encoded data removed]",
      "text/html": [
       "<img src=\"data:image/png;base64,iVBORw0KGgoAAAANSUhEUgAAAHAAAABwCAAAAADji6uXAAAAAXNSR0IArs4c6QAAAARnQU1BAACxjwv8YQUAAAAgY0hSTQAAeiYAAICEAAD6AAAAgOgAAHUwAADqYAAAOpgAABdwnLpRPAAAAP9JREFUaAW9wUFOw0AQAMEeqf//5eHgQ4QAeeOgrpKYxCQmMYlJTGISk5jEJCYxiUlMYhKTmMQkJjGJSUxiEpOYxCQmMXloeRnOSUxiEpM3LT8tMJyRmMQkJoeW74bLcllguCcxiUlMDiwvw3cDLOckJjGJyY3lZfjbcEZiEpOY3BhguSyXAZZnJCYxicmBAZaX5TmJSUxicmj43XJZYLgnMYlJTP7JcEZiEpOYxCQmMYlJTGISk5jEJCYxickHlstwTmISk5jEJCYxiUlMYhKTmDy0XIb3SExiEpOYxCQmMXlgeU5iEpOYxCQmMYnJB4b3SUxiEpMHhuckJjGJfQFDtxTA/LIHawAAAABJRU5ErkJg\">"
      ],
      "text/plain": [
       "\u001b[0m\u001b[38;2;0;0;0m██\u001b[38;2;0;0;0m██\u001b[38;2;0;0;0m██\u001b[38;2;0;0;0m██\u001b[38;2;0;0;0m██\u001b[38;2;0;0;0m██\u001b[38;2;0;0;0m██\u001b[38;2;0;0;0m██\u001b[38;2;0;0;0m██\u001b[38;2;0;0;0m██\u001b[38;2;0;0;0m██\u001b[38;2;0;0;0m██\u001b[38;2;0;0;0m██\u001b[38;2;0;0;0m██\u001b[38;2;0;0;0m██\u001b[38;2;0;0;0m██\u001b[38;2;0;0;0m██\u001b[38;2;0;0;0m██\u001b[38;2;0;0;0m██\u001b[38;2;0;0;0m██\u001b[38;2;0;0;0m██\u001b[38;2;0;0;0m██\u001b[38;2;0;0;0m██\u001b[38;2;0;0;0m██\u001b[38;2;0;0;0m██\u001b[38;2;0;0;0m██\u001b[38;2;0;0;0m██\u001b[38;2;0;0;0m██\u001b[0m\n",
       "\u001b[0m\u001b[38;2;0;0;0m██\u001b[38;2;0;0;0m██\u001b[38;2;0;0;0m██\u001b[38;2;0;0;0m██\u001b[38;2;0;0;0m██\u001b[38;2;0;0;0m██\u001b[38;2;0;0;0m██\u001b[38;2;0;0;0m██\u001b[38;2;0;0;0m██\u001b[38;2;0;0;0m██\u001b[38;2;0;0;0m██\u001b[38;2;0;0;0m██\u001b[38;2;0;0;0m██\u001b[38;2;0;0;0m██\u001b[38;2;0;0;0m██\u001b[38;2;0;0;0m██\u001b[38;2;0;0;0m██\u001b[38;2;0;0;0m██\u001b[38;2;0;0;0m██\u001b[38;2;0;0;0m██\u001b[38;2;0;0;0m██\u001b[38;2;0;0;0m██\u001b[38;2;0;0;0m██\u001b[38;2;0;0;0m██\u001b[38;2;0;0;0m██\u001b[38;2;0;0;0m██\u001b[38;2;0;0;0m██\u001b[38;2;0;0;0m██\u001b[0m\n",
       "\u001b[0m\u001b[38;2;0;0;0m██\u001b[38;2;0;0;0m██\u001b[38;2;0;0;0m██\u001b[38;2;0;0;0m██\u001b[38;2;0;0;0m██\u001b[38;2;0;0;0m██\u001b[38;2;0;0;0m██\u001b[38;2;0;0;0m██\u001b[38;2;0;0;0m██\u001b[38;2;0;0;0m██\u001b[38;2;0;0;0m██\u001b[38;2;0;0;0m██\u001b[38;2;0;0;0m██\u001b[38;2;0;0;0m██\u001b[38;2;0;0;0m██\u001b[38;2;0;0;0m██\u001b[38;2;0;0;0m██\u001b[38;2;0;0;0m██\u001b[38;2;0;0;0m██\u001b[38;2;0;0;0m██\u001b[38;2;0;0;0m██\u001b[38;2;0;0;0m██\u001b[38;2;0;0;0m██\u001b[38;2;0;0;0m██\u001b[38;2;0;0;0m██\u001b[38;2;0;0;0m██\u001b[38;2;0;0;0m██\u001b[38;2;0;0;0m██\u001b[0m\n",
       "\u001b[0m\u001b[38;2;0;0;0m██\u001b[38;2;0;0;0m██\u001b[38;2;0;0;0m██\u001b[38;2;0;0;0m██\u001b[38;2;0;0;0m██\u001b[38;2;0;0;0m██\u001b[38;2;0;0;0m██\u001b[38;2;0;0;0m██\u001b[38;2;0;0;0m██\u001b[38;2;0;0;0m██\u001b[38;2;0;0;0m██\u001b[38;2;0;0;0m██\u001b[38;2;0;0;0m██\u001b[38;2;0;0;0m██\u001b[38;2;0;0;0m██\u001b[38;2;0;0;0m██\u001b[38;2;0;0;0m██\u001b[38;2;0;0;0m██\u001b[38;2;0;0;0m██\u001b[38;2;0;0;0m██\u001b[38;2;0;0;0m██\u001b[38;2;0;0;0m██\u001b[38;2;0;0;0m██\u001b[38;2;0;0;0m██\u001b[38;2;0;0;0m██\u001b[38;2;0;0;0m██\u001b[38;2;0;0;0m██\u001b[38;2;0;0;0m██\u001b[0m\n",
       "\u001b[0m\u001b[38;2;0;0;0m██\u001b[38;2;0;0;0m██\u001b[38;2;0;0;0m██\u001b[38;2;0;0;0m██\u001b[38;2;0;0;0m██\u001b[38;2;0;0;0m██\u001b[38;2;0;0;0m██\u001b[38;2;0;0;0m██\u001b[38;2;0;0;0m██\u001b[38;2;0;0;0m██\u001b[38;2;0;0;0m██\u001b[38;2;0;0;0m██\u001b[38;2;0;0;0m██\u001b[38;2;0;0;0m██\u001b[38;2;0;0;0m██\u001b[38;2;0;0;0m██\u001b[38;2;0;0;0m██\u001b[38;2;0;0;0m██\u001b[38;2;0;0;0m██\u001b[38;2;0;0;0m██\u001b[38;2;0;0;0m██\u001b[38;2;0;0;0m██\u001b[38;2;0;0;0m██\u001b[38;2;0;0;0m██\u001b[38;2;0;0;0m██\u001b[38;2;0;0;0m██\u001b[38;2;0;0;0m██\u001b[38;2;0;0;0m██\u001b[0m\n",
       "\u001b[0m\u001b[38;2;0;0;0m██\u001b[38;2;0;0;0m██\u001b[38;2;0;0;0m██\u001b[38;2;0;0;0m██\u001b[38;2;0;0;0m██\u001b[38;2;0;0;0m██\u001b[38;2;0;0;0m██\u001b[38;2;0;0;0m██\u001b[38;2;0;0;0m██\u001b[38;2;0;0;0m██\u001b[38;2;0;0;0m██\u001b[38;2;0;0;0m██\u001b[38;2;0;0;0m██\u001b[38;2;0;0;0m██\u001b[38;2;0;0;0m██\u001b[38;2;0;0;0m██\u001b[38;2;0;0;0m██\u001b[38;2;0;0;0m██\u001b[38;2;0;0;0m██\u001b[38;2;0;0;0m██\u001b[38;2;0;0;0m██\u001b[38;2;0;0;0m██\u001b[38;2;0;0;0m██\u001b[38;2;0;0;0m██\u001b[38;2;0;0;0m██\u001b[38;2;0;0;0m██\u001b[38;2;0;0;0m██\u001b[38;2;0;0;0m██\u001b[0m\n",
       "\u001b[0m\u001b[38;2;0;0;0m██\u001b[38;2;0;0;0m██\u001b[38;2;0;0;0m██\u001b[38;2;0;0;0m██\u001b[38;2;0;0;0m██\u001b[38;2;0;0;0m██\u001b[38;2;0;0;0m██\u001b[38;2;0;0;0m██\u001b[38;2;0;0;0m██\u001b[38;2;0;0;0m██\u001b[38;2;0;0;0m██\u001b[38;2;0;0;0m██\u001b[38;2;0;0;0m██\u001b[38;2;0;0;0m██\u001b[38;2;0;0;0m██\u001b[38;2;0;0;0m██\u001b[38;2;0;0;0m██\u001b[38;2;0;0;0m██\u001b[38;2;0;0;0m██\u001b[38;2;0;0;0m██\u001b[38;2;0;0;0m██\u001b[38;2;0;0;0m██\u001b[38;2;0;0;0m██\u001b[38;2;0;0;0m██\u001b[38;2;0;0;0m██\u001b[38;2;0;0;0m██\u001b[38;2;0;0;0m██\u001b[38;2;0;0;0m██\u001b[0m\n",
       "\u001b[0m\u001b[38;2;0;0;0m██\u001b[38;2;0;0;0m██\u001b[38;2;0;0;0m██\u001b[38;2;0;0;0m██\u001b[38;2;0;0;0m██\u001b[38;2;0;0;0m██\u001b[38;2;0;0;0m██\u001b[38;2;0;0;0m██\u001b[38;2;0;0;0m██\u001b[38;2;0;0;0m██\u001b[38;2;0;0;0m██\u001b[38;2;0;0;0m██\u001b[38;2;0;0;0m██\u001b[38;2;0;0;0m██\u001b[38;2;255;255;255m██\u001b[38;2;255;255;255m██\u001b[38;2;255;255;255m██\u001b[38;2;0;0;0m██\u001b[38;2;0;0;0m██\u001b[38;2;0;0;0m██\u001b[38;2;0;0;0m██\u001b[38;2;0;0;0m██\u001b[38;2;0;0;0m██\u001b[38;2;0;0;0m██\u001b[38;2;0;0;0m██\u001b[38;2;0;0;0m██\u001b[38;2;0;0;0m██\u001b[38;2;0;0;0m██\u001b[0m\n",
       "\u001b[0m\u001b[38;2;0;0;0m██\u001b[38;2;0;0;0m██\u001b[38;2;0;0;0m██\u001b[38;2;0;0;0m██\u001b[38;2;0;0;0m██\u001b[38;2;0;0;0m██\u001b[38;2;0;0;0m██\u001b[38;2;0;0;0m██\u001b[38;2;0;0;0m██\u001b[38;2;0;0;0m██\u001b[38;2;0;0;0m██\u001b[38;2;0;0;0m██\u001b[38;2;255;255;255m██\u001b[38;2;255;255;255m██\u001b[38;2;255;255;255m██\u001b[38;2;255;255;255m██\u001b[38;2;255;255;255m██\u001b[38;2;255;255;255m██\u001b[38;2;0;0;0m██\u001b[38;2;0;0;0m██\u001b[38;2;0;0;0m██\u001b[38;2;0;0;0m██\u001b[38;2;0;0;0m██\u001b[38;2;0;0;0m██\u001b[38;2;0;0;0m██\u001b[38;2;0;0;0m██\u001b[38;2;0;0;0m██\u001b[38;2;0;0;0m██\u001b[0m\n",
       "\u001b[0m\u001b[38;2;0;0;0m██\u001b[38;2;0;0;0m██\u001b[38;2;0;0;0m██\u001b[38;2;0;0;0m██\u001b[38;2;0;0;0m██\u001b[38;2;0;0;0m██\u001b[38;2;0;0;0m██\u001b[38;2;0;0;0m██\u001b[38;2;0;0;0m██\u001b[38;2;0;0;0m██\u001b[38;2;255;255;255m██\u001b[38;2;255;255;255m██\u001b[38;2;255;255;255m██\u001b[38;2;255;255;255m██\u001b[38;2;0;0;0m██\u001b[38;2;0;0;0m██\u001b[38;2;255;255;255m██\u001b[38;2;255;255;255m██\u001b[38;2;255;255;255m██\u001b[38;2;0;0;0m██\u001b[38;2;0;0;0m██\u001b[38;2;0;0;0m██\u001b[38;2;0;0;0m██\u001b[38;2;0;0;0m██\u001b[38;2;0;0;0m██\u001b[38;2;0;0;0m██\u001b[38;2;0;0;0m██\u001b[38;2;0;0;0m██\u001b[0m\n",
       "\u001b[0m\u001b[38;2;0;0;0m██\u001b[38;2;0;0;0m██\u001b[38;2;0;0;0m██\u001b[38;2;0;0;0m██\u001b[38;2;0;0;0m██\u001b[38;2;0;0;0m██\u001b[38;2;0;0;0m██\u001b[38;2;0;0;0m██\u001b[38;2;0;0;0m██\u001b[38;2;255;255;255m██\u001b[38;2;255;255;255m██\u001b[38;2;255;255;255m██\u001b[38;2;0;0;0m██\u001b[38;2;0;0;0m██\u001b[38;2;0;0;0m██\u001b[38;2;0;0;0m██\u001b[38;2;0;0;0m██\u001b[38;2;255;255;255m██\u001b[38;2;255;255;255m██\u001b[38;2;0;0;0m██\u001b[38;2;0;0;0m██\u001b[38;2;0;0;0m██\u001b[38;2;0;0;0m██\u001b[38;2;0;0;0m██\u001b[38;2;0;0;0m██\u001b[38;2;0;0;0m██\u001b[38;2;0;0;0m██\u001b[38;2;0;0;0m██\u001b[0m\n",
       "\u001b[0m\u001b[38;2;0;0;0m██\u001b[38;2;0;0;0m██\u001b[38;2;0;0;0m██\u001b[38;2;0;0;0m██\u001b[38;2;0;0;0m██\u001b[38;2;0;0;0m██\u001b[38;2;0;0;0m██\u001b[38;2;0;0;0m██\u001b[38;2;255;255;255m██\u001b[38;2;255;255;255m██\u001b[38;2;255;255;255m██\u001b[38;2;0;0;0m██\u001b[38;2;0;0;0m██\u001b[38;2;0;0;0m██\u001b[38;2;0;0;0m██\u001b[38;2;0;0;0m██\u001b[38;2;0;0;0m██\u001b[38;2;255;255;255m██\u001b[38;2;0;0;0m██\u001b[38;2;0;0;0m██\u001b[38;2;0;0;0m██\u001b[38;2;0;0;0m██\u001b[38;2;0;0;0m██\u001b[38;2;0;0;0m██\u001b[38;2;0;0;0m██\u001b[38;2;0;0;0m██\u001b[38;2;0;0;0m██\u001b[38;2;0;0;0m██\u001b[0m\n",
       "\u001b[0m\u001b[38;2;0;0;0m██\u001b[38;2;0;0;0m██\u001b[38;2;0;0;0m██\u001b[38;2;0;0;0m██\u001b[38;2;0;0;0m██\u001b[38;2;0;0;0m██\u001b[38;2;0;0;0m██\u001b[38;2;0;0;0m██\u001b[38;2;0;0;0m██\u001b[38;2;255;255;255m██\u001b[38;2;255;255;255m██\u001b[38;2;255;255;255m██\u001b[38;2;255;255;255m██\u001b[38;2;0;0;0m██\u001b[38;2;255;255;255m██\u001b[38;2;255;255;255m██\u001b[38;2;255;255;255m██\u001b[38;2;255;255;255m██\u001b[38;2;0;0;0m██\u001b[38;2;0;0;0m██\u001b[38;2;0;0;0m██\u001b[38;2;0;0;0m██\u001b[38;2;0;0;0m██\u001b[38;2;0;0;0m██\u001b[38;2;0;0;0m██\u001b[38;2;0;0;0m██\u001b[38;2;0;0;0m██\u001b[38;2;0;0;0m██\u001b[0m\n",
       "\u001b[0m\u001b[38;2;0;0;0m██\u001b[38;2;0;0;0m██\u001b[38;2;0;0;0m██\u001b[38;2;0;0;0m██\u001b[38;2;0;0;0m██\u001b[38;2;0;0;0m██\u001b[38;2;0;0;0m██\u001b[38;2;0;0;0m██\u001b[38;2;0;0;0m██\u001b[38;2;0;0;0m██\u001b[38;2;255;255;255m██\u001b[38;2;255;255;255m██\u001b[38;2;255;255;255m██\u001b[38;2;255;255;255m██\u001b[38;2;255;255;255m██\u001b[38;2;255;255;255m██\u001b[38;2;255;255;255m██\u001b[38;2;255;255;255m██\u001b[38;2;0;0;0m██\u001b[38;2;0;0;0m██\u001b[38;2;0;0;0m██\u001b[38;2;0;0;0m██\u001b[38;2;0;0;0m██\u001b[38;2;0;0;0m██\u001b[38;2;0;0;0m██\u001b[38;2;0;0;0m██\u001b[38;2;0;0;0m██\u001b[38;2;0;0;0m██\u001b[0m\n",
       "\u001b[0m\u001b[38;2;0;0;0m██\u001b[38;2;0;0;0m██\u001b[38;2;0;0;0m██\u001b[38;2;0;0;0m██\u001b[38;2;0;0;0m██\u001b[38;2;0;0;0m██\u001b[38;2;0;0;0m██\u001b[38;2;0;0;0m██\u001b[38;2;0;0;0m██\u001b[38;2;0;0;0m██\u001b[38;2;0;0;0m██\u001b[38;2;0;0;0m██\u001b[38;2;0;0;0m██\u001b[38;2;0;0;0m██\u001b[38;2;0;0;0m██\u001b[38;2;0;0;0m██\u001b[38;2;255;255;255m██\u001b[38;2;255;255;255m██\u001b[38;2;255;255;255m██\u001b[38;2;0;0;0m██\u001b[38;2;0;0;0m██\u001b[38;2;0;0;0m██\u001b[38;2;0;0;0m██\u001b[38;2;0;0;0m██\u001b[38;2;0;0;0m██\u001b[38;2;0;0;0m██\u001b[38;2;0;0;0m██\u001b[38;2;0;0;0m██\u001b[0m\n",
       "\u001b[0m\u001b[38;2;0;0;0m██\u001b[38;2;0;0;0m██\u001b[38;2;0;0;0m██\u001b[38;2;0;0;0m██\u001b[38;2;0;0;0m██\u001b[38;2;0;0;0m██\u001b[38;2;0;0;0m██\u001b[38;2;0;0;0m██\u001b[38;2;0;0;0m██\u001b[38;2;0;0;0m██\u001b[38;2;0;0;0m██\u001b[38;2;0;0;0m██\u001b[38;2;0;0;0m██\u001b[38;2;0;0;0m██\u001b[38;2;0;0;0m██\u001b[38;2;0;0;0m██\u001b[38;2;255;255;255m██\u001b[38;2;255;255;255m██\u001b[38;2;0;0;0m██\u001b[38;2;0;0;0m██\u001b[38;2;0;0;0m██\u001b[38;2;0;0;0m██\u001b[38;2;0;0;0m██\u001b[38;2;0;0;0m██\u001b[38;2;0;0;0m██\u001b[38;2;0;0;0m██\u001b[38;2;0;0;0m██\u001b[38;2;0;0;0m██\u001b[0m\n",
       "\u001b[0m\u001b[38;2;0;0;0m██\u001b[38;2;0;0;0m██\u001b[38;2;0;0;0m██\u001b[38;2;0;0;0m██\u001b[38;2;0;0;0m██\u001b[38;2;0;0;0m██\u001b[38;2;0;0;0m██\u001b[38;2;0;0;0m██\u001b[38;2;0;0;0m██\u001b[38;2;0;0;0m██\u001b[38;2;0;0;0m██\u001b[38;2;0;0;0m██\u001b[38;2;0;0;0m██\u001b[38;2;0;0;0m██\u001b[38;2;0;0;0m██\u001b[38;2;0;0;0m██\u001b[38;2;255;255;255m██\u001b[38;2;255;255;255m██\u001b[38;2;0;0;0m██\u001b[38;2;0;0;0m██\u001b[38;2;0;0;0m██\u001b[38;2;0;0;0m██\u001b[38;2;0;0;0m██\u001b[38;2;0;0;0m██\u001b[38;2;0;0;0m██\u001b[38;2;0;0;0m██\u001b[38;2;0;0;0m██\u001b[38;2;0;0;0m██\u001b[0m\n",
       "\u001b[0m\u001b[38;2;0;0;0m██\u001b[38;2;0;0;0m██\u001b[38;2;0;0;0m██\u001b[38;2;0;0;0m██\u001b[38;2;0;0;0m██\u001b[38;2;0;0;0m██\u001b[38;2;0;0;0m██\u001b[38;2;0;0;0m██\u001b[38;2;0;0;0m██\u001b[38;2;0;0;0m██\u001b[38;2;0;0;0m██\u001b[38;2;0;0;0m██\u001b[38;2;0;0;0m██\u001b[38;2;0;0;0m██\u001b[38;2;0;0;0m██\u001b[38;2;0;0;0m██\u001b[38;2;255;255;255m██\u001b[38;2;255;255;255m██\u001b[38;2;0;0;0m██\u001b[38;2;0;0;0m██\u001b[38;2;0;0;0m██\u001b[38;2;0;0;0m██\u001b[38;2;0;0;0m██\u001b[38;2;0;0;0m██\u001b[38;2;0;0;0m██\u001b[38;2;0;0;0m██\u001b[38;2;0;0;0m██\u001b[38;2;0;0;0m██\u001b[0m\n",
       "\u001b[0m\u001b[38;2;0;0;0m██\u001b[38;2;0;0;0m██\u001b[38;2;0;0;0m██\u001b[38;2;0;0;0m██\u001b[38;2;0;0;0m██\u001b[38;2;0;0;0m██\u001b[38;2;0;0;0m██\u001b[38;2;0;0;0m██\u001b[38;2;0;0;0m██\u001b[38;2;0;0;0m██\u001b[38;2;0;0;0m██\u001b[38;2;0;0;0m██\u001b[38;2;0;0;0m██\u001b[38;2;0;0;0m██\u001b[38;2;0;0;0m██\u001b[38;2;0;0;0m██\u001b[38;2;255;255;255m██\u001b[38;2;255;255;255m██\u001b[38;2;0;0;0m██\u001b[38;2;0;0;0m██\u001b[38;2;0;0;0m██\u001b[38;2;0;0;0m██\u001b[38;2;0;0;0m██\u001b[38;2;0;0;0m██\u001b[38;2;0;0;0m██\u001b[38;2;0;0;0m██\u001b[38;2;0;0;0m██\u001b[38;2;0;0;0m██\u001b[0m\n",
       "\u001b[0m\u001b[38;2;0;0;0m██\u001b[38;2;0;0;0m██\u001b[38;2;0;0;0m██\u001b[38;2;0;0;0m██\u001b[38;2;0;0;0m██\u001b[38;2;0;0;0m██\u001b[38;2;0;0;0m██\u001b[38;2;0;0;0m██\u001b[38;2;0;0;0m██\u001b[38;2;0;0;0m██\u001b[38;2;0;0;0m██\u001b[38;2;0;0;0m██\u001b[38;2;0;0;0m██\u001b[38;2;0;0;0m██\u001b[38;2;0;0;0m██\u001b[38;2;255;255;255m██\u001b[38;2;255;255;255m██\u001b[38;2;0;0;0m██\u001b[38;2;0;0;0m██\u001b[38;2;0;0;0m██\u001b[38;2;0;0;0m██\u001b[38;2;0;0;0m██\u001b[38;2;0;0;0m██\u001b[38;2;0;0;0m██\u001b[38;2;0;0;0m██\u001b[38;2;0;0;0m██\u001b[38;2;0;0;0m██\u001b[38;2;0;0;0m██\u001b[0m\n",
       "\u001b[0m\u001b[38;2;0;0;0m██\u001b[38;2;0;0;0m██\u001b[38;2;0;0;0m██\u001b[38;2;0;0;0m██\u001b[38;2;0;0;0m██\u001b[38;2;0;0;0m██\u001b[38;2;0;0;0m██\u001b[38;2;0;0;0m██\u001b[38;2;0;0;0m██\u001b[38;2;0;0;0m██\u001b[38;2;0;0;0m██\u001b[38;2;0;0;0m██\u001b[38;2;0;0;0m██\u001b[38;2;0;0;0m██\u001b[38;2;0;0;0m██\u001b[38;2;255;255;255m██\u001b[38;2;255;255;255m██\u001b[38;2;0;0;0m██\u001b[38;2;0;0;0m██\u001b[38;2;0;0;0m██\u001b[38;2;0;0;0m██\u001b[38;2;0;0;0m██\u001b[38;2;0;0;0m██\u001b[38;2;0;0;0m██\u001b[38;2;0;0;0m██\u001b[38;2;0;0;0m██\u001b[38;2;0;0;0m██\u001b[38;2;0;0;0m██\u001b[0m\n",
       "\u001b[0m\u001b[38;2;0;0;0m██\u001b[38;2;0;0;0m██\u001b[38;2;0;0;0m██\u001b[38;2;0;0;0m██\u001b[38;2;0;0;0m██\u001b[38;2;0;0;0m██\u001b[38;2;0;0;0m██\u001b[38;2;0;0;0m██\u001b[38;2;0;0;0m██\u001b[38;2;0;0;0m██\u001b[38;2;0;0;0m██\u001b[38;2;0;0;0m██\u001b[38;2;0;0;0m██\u001b[38;2;0;0;0m██\u001b[38;2;0;0;0m██\u001b[38;2;255;255;255m██\u001b[38;2;255;255;255m██\u001b[38;2;0;0;0m██\u001b[38;2;0;0;0m██\u001b[38;2;0;0;0m██\u001b[38;2;0;0;0m██\u001b[38;2;0;0;0m██\u001b[38;2;0;0;0m██\u001b[38;2;0;0;0m██\u001b[38;2;0;0;0m██\u001b[38;2;0;0;0m██\u001b[38;2;0;0;0m██\u001b[38;2;0;0;0m██\u001b[0m\n",
       "\u001b[0m\u001b[38;2;0;0;0m██\u001b[38;2;0;0;0m██\u001b[38;2;0;0;0m██\u001b[38;2;0;0;0m██\u001b[38;2;0;0;0m██\u001b[38;2;0;0;0m██\u001b[38;2;0;0;0m██\u001b[38;2;0;0;0m██\u001b[38;2;0;0;0m██\u001b[38;2;0;0;0m██\u001b[38;2;0;0;0m██\u001b[38;2;0;0;0m██\u001b[38;2;0;0;0m██\u001b[38;2;0;0;0m██\u001b[38;2;255;255;255m██\u001b[38;2;255;255;255m██\u001b[38;2;0;0;0m██\u001b[38;2;0;0;0m██\u001b[38;2;0;0;0m██\u001b[38;2;0;0;0m██\u001b[38;2;0;0;0m██\u001b[38;2;0;0;0m██\u001b[38;2;0;0;0m██\u001b[38;2;0;0;0m██\u001b[38;2;0;0;0m██\u001b[38;2;0;0;0m██\u001b[38;2;0;0;0m██\u001b[38;2;0;0;0m██\u001b[0m\n",
       "\u001b[0m\u001b[38;2;0;0;0m██\u001b[38;2;0;0;0m██\u001b[38;2;0;0;0m██\u001b[38;2;0;0;0m██\u001b[38;2;0;0;0m██\u001b[38;2;0;0;0m██\u001b[38;2;0;0;0m██\u001b[38;2;0;0;0m██\u001b[38;2;0;0;0m██\u001b[38;2;0;0;0m██\u001b[38;2;0;0;0m██\u001b[38;2;0;0;0m██\u001b[38;2;0;0;0m██\u001b[38;2;0;0;0m██\u001b[38;2;255;255;255m██\u001b[38;2;255;255;255m██\u001b[38;2;0;0;0m██\u001b[38;2;0;0;0m██\u001b[38;2;0;0;0m██\u001b[38;2;0;0;0m██\u001b[38;2;0;0;0m██\u001b[38;2;0;0;0m██\u001b[38;2;0;0;0m██\u001b[38;2;0;0;0m██\u001b[38;2;0;0;0m██\u001b[38;2;0;0;0m██\u001b[38;2;0;0;0m██\u001b[38;2;0;0;0m██\u001b[0m\n",
       "\u001b[0m\u001b[38;2;0;0;0m██\u001b[38;2;0;0;0m██\u001b[38;2;0;0;0m██\u001b[38;2;0;0;0m██\u001b[38;2;0;0;0m██\u001b[38;2;0;0;0m██\u001b[38;2;0;0;0m██\u001b[38;2;0;0;0m██\u001b[38;2;0;0;0m██\u001b[38;2;0;0;0m██\u001b[38;2;0;0;0m██\u001b[38;2;0;0;0m██\u001b[38;2;0;0;0m██\u001b[38;2;255;255;255m██\u001b[38;2;255;255;255m██\u001b[38;2;255;255;255m██\u001b[38;2;0;0;0m██\u001b[38;2;0;0;0m██\u001b[38;2;0;0;0m██\u001b[38;2;0;0;0m██\u001b[38;2;0;0;0m██\u001b[38;2;0;0;0m██\u001b[38;2;0;0;0m██\u001b[38;2;0;0;0m██\u001b[38;2;0;0;0m██\u001b[38;2;0;0;0m██\u001b[38;2;0;0;0m██\u001b[38;2;0;0;0m██\u001b[0m\n",
       "\u001b[0m\u001b[38;2;0;0;0m██\u001b[38;2;0;0;0m██\u001b[38;2;0;0;0m██\u001b[38;2;0;0;0m██\u001b[38;2;0;0;0m██\u001b[38;2;0;0;0m██\u001b[38;2;0;0;0m██\u001b[38;2;0;0;0m██\u001b[38;2;0;0;0m██\u001b[38;2;0;0;0m██\u001b[38;2;0;0;0m██\u001b[38;2;0;0;0m██\u001b[38;2;0;0;0m██\u001b[38;2;255;255;255m██\u001b[38;2;255;255;255m██\u001b[38;2;255;255;255m██\u001b[38;2;0;0;0m██\u001b[38;2;0;0;0m██\u001b[38;2;0;0;0m██\u001b[38;2;0;0;0m██\u001b[38;2;0;0;0m██\u001b[38;2;0;0;0m██\u001b[38;2;0;0;0m██\u001b[38;2;0;0;0m██\u001b[38;2;0;0;0m██\u001b[38;2;0;0;0m██\u001b[38;2;0;0;0m██\u001b[38;2;0;0;0m██\u001b[0m\n",
       "\u001b[0m\u001b[38;2;0;0;0m██\u001b[38;2;0;0;0m██\u001b[38;2;0;0;0m██\u001b[38;2;0;0;0m██\u001b[38;2;0;0;0m██\u001b[38;2;0;0;0m██\u001b[38;2;0;0;0m██\u001b[38;2;0;0;0m██\u001b[38;2;0;0;0m██\u001b[38;2;0;0;0m██\u001b[38;2;0;0;0m██\u001b[38;2;0;0;0m██\u001b[38;2;0;0;0m██\u001b[38;2;255;255;255m██\u001b[38;2;255;255;255m██\u001b[38;2;0;0;0m██\u001b[38;2;0;0;0m██\u001b[38;2;0;0;0m██\u001b[38;2;0;0;0m██\u001b[38;2;0;0;0m██\u001b[38;2;0;0;0m██\u001b[38;2;0;0;0m██\u001b[38;2;0;0;0m██\u001b[38;2;0;0;0m██\u001b[38;2;0;0;0m██\u001b[38;2;0;0;0m██\u001b[38;2;0;0;0m██\u001b[38;2;0;0;0m██\u001b[0m\n",
       "\u001b[0m\u001b[38;2;0;0;0m██\u001b[38;2;0;0;0m██\u001b[38;2;0;0;0m██\u001b[38;2;0;0;0m██\u001b[38;2;0;0;0m██\u001b[38;2;0;0;0m██\u001b[38;2;0;0;0m██\u001b[38;2;0;0;0m██\u001b[38;2;0;0;0m██\u001b[38;2;0;0;0m██\u001b[38;2;0;0;0m██\u001b[38;2;0;0;0m██\u001b[38;2;0;0;0m██\u001b[38;2;0;0;0m██\u001b[38;2;0;0;0m██\u001b[38;2;0;0;0m██\u001b[38;2;0;0;0m██\u001b[38;2;0;0;0m██\u001b[38;2;0;0;0m██\u001b[38;2;0;0;0m██\u001b[38;2;0;0;0m██\u001b[38;2;0;0;0m██\u001b[38;2;0;0;0m██\u001b[38;2;0;0;0m██\u001b[38;2;0;0;0m██\u001b[38;2;0;0;0m██\u001b[38;2;0;0;0m██\u001b[38;2;0;0;0m██\u001b[0m"
      ]
     },
     "execution_count": 75,
     "metadata": {},
     "output_type": "execute_result"
    }
   ],
   "source": [
    "let\n",
    "    index_to_look_at = 80; # which image to look at?\n",
    "    img = Z[:,index_to_look_at] |> x-> reshape(x, number_of_rows, number_of_cols) |> transpose |> Matrix; # Magic? No just the majesty of Julia\n",
    "    Gray.(img) # convert to a gray scale image, display\n",
    "end"
   ]
  },
  {
   "cell_type": "markdown",
   "id": "655b000c",
   "metadata": {},
   "source": [
    "What does the entire $\\mathbf{Z}$ matrix look like? "
   ]
  },
  {
   "cell_type": "code",
   "execution_count": 18,
   "id": "1166ab56",
   "metadata": {},
   "outputs": [
    {
     "data": {
      "image/png": "[encoded data removed]",
      "text/html": [
       "<img src=\"data:image/png;base64,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\">"
      ],
      "text/plain": [
       "\u001b[0m\u001b[38;2;0;0;0;48;2;0;0;0m▀\u001b[38;2;0;0;0;48;2;0;0;0m▀\u001b[38;2;0;0;0;48;2;0;0;0m▀\u001b[38;2;0;0;0;48;2;0;0;0m▀\u001b[38;2;0;0;0;48;2;0;0;0m▀\u001b[38;2;0;0;0;48;2;0;0;0m▀\u001b[38;2;0;0;0;48;2;3;3;3m▀\u001b[38;2;1;1;1;48;2;2;2;2m▀\u001b[38;2;7;7;7;48;2;14;14;14m▀\u001b[38;2;5;5;5;48;2;14;14;14m▀\u001b[38;2;10;10;10;48;2;24;24;24m▀\u001b[38;2;14;14;14;48;2;40;40;40m▀\u001b[38;2;11;11;11;48;2;29;29;29m▀\u001b[38;2;23;23;23;48;2;68;68;68m▀\u001b[38;2;10;10;10;48;2;30;30;30m▀\u001b[38;2;21;21;21;48;2;73;73;73m▀\u001b[38;2;7;7;7;48;2;36;36;36m▀\u001b[38;2;13;13;13;48;2;54;54;54m▀\u001b[38;2;9;9;9;48;2;47;47;47m▀\u001b[38;2;8;8;8;48;2;32;32;32m▀\u001b[38;2;15;15;15;48;2;53;53;53m▀\u001b[38;2;7;7;7;48;2;24;24;24m▀\u001b[38;2;17;17;17;48;2;59;59;59m▀\u001b[38;2;8;8;8;48;2;27;27;27m▀\u001b[38;2;15;15;15;48;2;50;50;50m▀\u001b[38;2;12;12;12;48;2;40;40;40m▀\u001b[38;2;10;10;10;48;2;37;37;37m▀\u001b[38;2;15;15;15;48;2;57;57;57m▀\u001b[38;2;7;7;7;48;2;26;26;26m▀\u001b[38;2;16;16;16;48;2;63;63;63m▀\u001b[38;2;9;9;9;48;2;30;30;30m▀\u001b[38;2;13;13;13;48;2;48;48;48m▀\u001b[38;2;11;11;11;48;2;38;38;38m▀\u001b[38;2;9;9;9;48;2;33;33;33m▀\u001b[38;2;16;16;16;48;2;53;53;53m▀\u001b[38;2;8;8;8;48;2;24;24;24m▀\u001b[38;2;19;19;19;48;2;55;55;55m▀\u001b[38;2;11;11;11;48;2;28;28;28m▀\u001b[38;2;15;15;15;48;2;42;42;42m▀\u001b[38;2;15;15;15;48;2;40;40;40m▀\u001b[38;2;8;8;8;48;2;24;24;24m▀\u001b[38;2;9;9;9;48;2;37;37;37m▀\u001b[38;2;3;3;3;48;2;11;11;11m▀\u001b[38;2;5;5;5;48;2;24;24;24m▀\u001b[38;2;2;2;2;48;2;7;7;7m▀\u001b[38;2;2;2;2;48;2;8;8;8m▀\u001b[38;2;0;0;0;48;2;3;3;3m▀\u001b[38;2;0;0;0;48;2;1;1;1m▀\u001b[38;2;0;0;0;48;2;0;0;0m▀\u001b[38;2;0;0;0;48;2;0;0;0m▀\u001b[0m\n",
       "\u001b[0m\u001b[38;2;0;0;0;48;2;1;1;1m▀\u001b[38;2;1;1;1;48;2;3;3;3m▀\u001b[38;2;1;1;1;48;2;5;5;5m▀\u001b[38;2;1;1;1;48;2;4;4;4m▀\u001b[38;2;0;0;0;48;2;1;1;1m▀\u001b[38;2;0;0;0;48;2;0;0;0m▀\u001b[38;2;5;5;5;48;2;2;2;2m▀\u001b[38;2;3;3;3;48;2;3;3;3m▀\u001b[38;2;17;17;17;48;2;13;13;13m▀\u001b[38;2;15;15;15;48;2;15;15;15m▀\u001b[38;2;36;36;36;48;2;30;30;30m▀\u001b[38;2;41;41;41;48;2;33;33;33m▀\u001b[38;2;39;39;39;48;2;33;33;33m▀\u001b[38;2;65;65;65;48;2;56;56;56m▀\u001b[38;2;34;34;34;48;2;31;31;31m▀\u001b[38;2;76;76;76;48;2;67;67;67m▀\u001b[38;2;42;42;42;48;2;35;35;35m▀\u001b[38;2;57;57;57;48;2;49;49;49m▀\u001b[38;2;49;49;49;48;2;34;34;34m▀\u001b[38;2;32;32;32;48;2;28;28;28m▀\u001b[38;2;52;52;52;48;2;43;43;43m▀\u001b[38;2;25;25;25;48;2;23;23;23m▀\u001b[38;2;59;59;59;48;2;49;49;49m▀\u001b[38;2;34;34;34;48;2;35;35;35m▀\u001b[38;2;60;60;60;48;2;52;52;52m▀\u001b[38;2;48;48;48;48;2;48;48;48m▀\u001b[38;2;42;42;42;48;2;37;37;37m▀\u001b[38;2;61;61;61;48;2;59;59;59m▀\u001b[38;2;31;31;31;48;2;28;28;28m▀\u001b[38;2;70;70;70;48;2;56;56;56m▀\u001b[38;2;31;31;31;48;2;28;28;28m▀\u001b[38;2;51;51;51;48;2;42;42;42m▀\u001b[38;2;41;41;41;48;2;35;35;35m▀\u001b[38;2;34;34;34;48;2;29;29;29m▀\u001b[38;2;55;55;55;48;2;48;48;48m▀\u001b[38;2;29;29;29;48;2;26;26;26m▀\u001b[38;2;59;59;59;48;2;51;51;51m▀\u001b[38;2;35;35;35;48;2;32;32;32m▀\u001b[38;2;45;45;45;48;2;38;38;38m▀\u001b[38;2;55;55;55;48;2;36;36;36m▀\u001b[38;2;28;28;28;48;2;19;19;19m▀\u001b[38;2;53;53;53;48;2;39;39;39m▀\u001b[38;2;13;13;13;48;2;13;13;13m▀\u001b[38;2;27;27;27;48;2;24;24;24m▀\u001b[38;2;3;3;3;48;2;8;8;8m▀\u001b[38;2;4;4;4;48;2;8;8;8m▀\u001b[38;2;2;2;2;48;2;2;2;2m▀\u001b[38;2;1;1;1;48;2;0;0;0m▀\u001b[38;2;0;0;0;48;2;0;0;0m▀\u001b[38;2;0;0;0;48;2;0;0;0m▀\u001b[0m\n",
       "\u001b[0m\u001b[38;2;0;0;0;48;2;0;0;0m▀\u001b[38;2;0;0;0;48;2;0;0;0m▀\u001b[38;2;1;1;1;48;2;0;0;0m▀\u001b[38;2;1;1;1;48;2;1;1;1m▀\u001b[38;2;1;1;1;48;2;1;1;1m▀\u001b[38;2;1;1;1;48;2;1;1;1m▀\u001b[38;2;3;3;3;48;2;4;4;4m▀\u001b[38;2;4;4;4;48;2;4;4;4m▀\u001b[38;2;15;15;15;48;2;16;16;16m▀\u001b[38;2;13;13;13;48;2;13;13;13m▀\u001b[38;2;27;27;27;48;2;25;25;25m▀\u001b[38;2;27;27;27;48;2;27;27;27m▀\u001b[38;2;22;22;22;48;2;24;24;24m▀\u001b[38;2;42;42;42;48;2;45;45;45m▀\u001b[38;2;17;17;17;48;2;22;22;22m▀\u001b[38;2;40;40;40;48;2;51;51;51m▀\u001b[38;2;20;20;20;48;2;23;23;23m▀\u001b[38;2;29;29;29;48;2;39;39;39m▀\u001b[38;2;26;26;26;48;2;32;32;32m▀\u001b[38;2;20;20;20;48;2;24;24;24m▀\u001b[38;2;35;35;35;48;2;40;40;40m▀\u001b[38;2;17;17;17;48;2;20;20;20m▀\u001b[38;2;33;33;33;48;2;44;44;44m▀\u001b[38;2;25;25;25;48;2;26;26;26m▀\u001b[38;2;35;35;35;48;2;40;40;40m▀\u001b[38;2;41;41;41;48;2;46;46;46m▀\u001b[38;2;30;30;30;48;2;35;35;35m▀\u001b[38;2;45;45;45;48;2;61;61;61m▀\u001b[38;2;22;22;22;48;2;27;27;27m▀\u001b[38;2;45;45;45;48;2;60;60;60m▀\u001b[38;2;20;20;20;48;2;24;24;24m▀\u001b[38;2;35;35;35;48;2;37;37;37m▀\u001b[38;2;27;27;27;48;2;32;32;32m▀\u001b[38;2;22;22;22;48;2;26;26;26m▀\u001b[38;2;37;37;37;48;2;40;40;40m▀\u001b[38;2;20;20;20;48;2;22;22;22m▀\u001b[38;2;45;45;45;48;2;48;48;48m▀\u001b[38;2;24;24;24;48;2;26;26;26m▀\u001b[38;2;35;35;35;48;2;31;31;31m▀\u001b[38;2;26;26;26;48;2;30;30;30m▀\u001b[38;2;17;17;17;48;2;19;19;19m▀\u001b[38;2;27;27;27;48;2;33;33;33m▀\u001b[38;2;9;9;9;48;2;9;9;9m▀\u001b[38;2;11;11;11;48;2;15;15;15m▀\u001b[38;2;3;3;3;48;2;2;2;2m▀\u001b[38;2;3;3;3;48;2;2;2;2m▀\u001b[38;2;1;1;1;48;2;1;1;1m▀\u001b[38;2;0;0;0;48;2;1;1;1m▀\u001b[38;2;0;0;0;48;2;0;0;0m▀\u001b[38;2;0;0;0;48;2;0;0;0m▀\u001b[0m\n",
       "\u001b[0m\u001b[38;2;0;0;0;48;2;0;0;0m▀\u001b[38;2;0;0;0;48;2;0;0;0m▀\u001b[38;2;0;0;0;48;2;0;0;0m▀\u001b[38;2;0;0;0;48;2;0;0;0m▀\u001b[38;2;0;0;0;48;2;0;0;0m▀\u001b[38;2;1;1;1;48;2;0;0;0m▀\u001b[38;2;7;7;7;48;2;1;1;1m▀\u001b[38;2;4;4;4;48;2;0;0;0m▀\u001b[38;2;17;17;17;48;2;3;3;3m▀\u001b[38;2;14;14;14;48;2;2;2;2m▀\u001b[38;2;22;22;22;48;2;6;6;6m▀\u001b[38;2;29;29;29;48;2;7;7;7m▀\u001b[38;2;27;27;27;48;2;8;8;8m▀\u001b[38;2;53;53;53;48;2;17;17;17m▀\u001b[38;2;27;27;27;48;2;9;9;9m▀\u001b[38;2;59;59;59;48;2;18;18;18m▀\u001b[38;2;24;24;24;48;2;8;8;8m▀\u001b[38;2;39;39;39;48;2;12;12;12m▀\u001b[38;2;29;29;29;48;2;9;9;9m▀\u001b[38;2;23;23;23;48;2;7;7;7m▀\u001b[38;2;35;35;35;48;2;10;10;10m▀\u001b[38;2;18;18;18;48;2;6;6;6m▀\u001b[38;2;37;37;37;48;2;11;11;11m▀\u001b[38;2;25;25;25;48;2;8;8;8m▀\u001b[38;2;38;38;38;48;2;11;11;11m▀\u001b[38;2;44;44;44;48;2;13;13;13m▀\u001b[38;2;30;30;30;48;2;9;9;9m▀\u001b[38;2;56;56;56;48;2;15;15;15m▀\u001b[38;2;23;23;23;48;2;7;7;7m▀\u001b[38;2;51;51;51;48;2;13;13;13m▀\u001b[38;2;21;21;21;48;2;5;5;5m▀\u001b[38;2;35;35;35;48;2;9;9;9m▀\u001b[38;2;29;29;29;48;2;7;7;7m▀\u001b[38;2;27;27;27;48;2;7;7;7m▀\u001b[38;2;41;41;41;48;2;10;10;10m▀\u001b[38;2;27;27;27;48;2;7;7;7m▀\u001b[38;2;54;54;54;48;2;16;16;16m▀\u001b[38;2;35;35;35;48;2;10;10;10m▀\u001b[38;2;37;37;37;48;2;11;11;11m▀\u001b[38;2;36;36;36;48;2;11;11;11m▀\u001b[38;2;20;20;20;48;2;5;5;5m▀\u001b[38;2;33;33;33;48;2;9;9;9m▀\u001b[38;2;9;9;9;48;2;2;2;2m▀\u001b[38;2;13;13;13;48;2;4;4;4m▀\u001b[38;2;2;2;2;48;2;1;1;1m▀\u001b[38;2;5;5;5;48;2;2;2;2m▀\u001b[38;2;2;2;2;48;2;1;1;1m▀\u001b[38;2;2;2;2;48;2;1;1;1m▀\u001b[38;2;0;0;0;48;2;0;0;0m▀\u001b[38;2;0;0;0;48;2;0;0;0m▀\u001b[0m\n"
      ]
     },
     "execution_count": 18,
     "metadata": {},
     "output_type": "execute_result"
    }
   ],
   "source": [
    "Gray.(transpose(Z)) # tranpose: T x d_{in}"
   ]
  },
  {
   "cell_type": "markdown",
   "id": "cb209bcd",
   "metadata": {},
   "source": [
    "__Build an SSN model instance__: We model an SSN using [the `MyLIFSpikingNeuralNetworkModel` type](src/Types.jl#L5). The [`MyLIFSpikingNeuralNetworkModel` type](src/Types.jl) implements the [Leaky Integrate-and-Fire (LIF) neuron model](https://www.nature.com/articles/s41598-017-07418-y), which is a simple and widely used model for spiking neurons. \n",
    "\n",
    "We construct this type [using a `build(...)` method](src/Factory.jl); we pass in the type of thing we want to build and the data required to build it. We get back a model (populated) model instance. We save the SSN model instance in the `ssnmodel::MyLIFSpikingNeuralNetworkModel` variable."
   ]
  },
  {
   "cell_type": "code",
   "execution_count": 20,
   "id": "ba726710",
   "metadata": {},
   "outputs": [],
   "source": [
    "ssnmodel = let\n",
    "\n",
    "    # build model -\n",
    "    model = build(MyLIFSpikingNeuralNetworkModel, (\n",
    "        Δt = Δt, # time step (ms)\n",
    "        τ = τ, # time constant (ms)\n",
    "        ν = ν, # firing threshold\n",
    "        number_of_nodes = number_of_neurons, # number of neurons\n",
    "        number_of_inputs = number_of_inputs, # number of inputs\n",
    "    ));\n",
    "\n",
    "    model;\n",
    "end;"
   ]
  },
  {
   "cell_type": "markdown",
   "id": "c751c2bb",
   "metadata": {},
   "source": [
    "Not that we have a populated `ssnmodel::MyLIFSpikingNeuralNetworkModel` model, we can run the model forward in time and generate the spiking patterns for our system. We do this [using the `solve(...)` method](src/Compute.jl). \n",
    "* _Arguments_: We pass in the model instance, the input data array (images in the columns), and the length of spike pattern we want to generate (optional arguement with default `100 ms`), and the refractory period parameter $\\Delta_{r}$, which has a default value of `3 ms`. The [`solve(...)` method](src/Compute.jl) returns a time vector `T::Array{Float64,1}`, the membrane voltage array `V::Array{Float64,2}` array and a spike pattern array `s::Array{Float64,2}`.\n",
    "* _What does `T` represent_? The parameter `T` represents the length of time that we run the SNN; we feed a new image during each time step $t = 1,2,\\dots{T}$. Physically, the time $T$ represents the length of time that we are recording the spike pattern of the LIF neurons, where we observe the system every $\\Delta{t}$ ms.\n",
    "\n",
    "Let's run the model:"
   ]
  },
  {
   "cell_type": "code",
   "execution_count": 78,
   "id": "bb453221",
   "metadata": {},
   "outputs": [],
   "source": [
    "(Tₐ,Vₐ,sₐ) = let\n",
    "\n",
    "    # initialize -\n",
    "    Δᵣ = 8; # TODO: Update the refactory period, and see what happens\n",
    "    T = size(Z,2); # How many columns do we have (process one per time step)\n",
    "    sₒ = zeros(Int, number_of_neurons); # initial conditions for the spikes (all 0)\n",
    "    (T,V,s) = solve(ssnmodel, Z, T = T, Δᵣ = Δᵣ, sₒ = sₒ);\n",
    "\n",
    "    (T,V,s) # return the time, voltage, and spikes\n",
    "end;"
   ]
  },
  {
   "cell_type": "markdown",
   "id": "d947b6cc",
   "metadata": {},
   "source": [
    "__What gets generated from the SSN?__ Let's look at the spike pattern generated by the SSN model. The rows of the spike matrix `s::Array{Float64,2}` denote the input image index, while the columns denote the spike state for each neuron in the network. The values in the spike matrix are either `0` (no spike) or `1` (spike)."
   ]
  },
  {
   "cell_type": "code",
   "execution_count": 80,
   "id": "4359710f",
   "metadata": {},
   "outputs": [
    {
     "data": {
      "text/plain": [
       "100×16 Matrix{Float64}:\n",
       " 1.0  0.0  0.0  0.0  0.0  0.0  0.0  1.0  …  0.0  0.0  0.0  0.0  0.0  0.0  0.0\n",
       " 0.0  0.0  0.0  1.0  0.0  0.0  0.0  0.0     0.0  0.0  0.0  1.0  0.0  0.0  0.0\n",
       " 0.0  0.0  0.0  0.0  0.0  0.0  0.0  0.0     0.0  0.0  0.0  0.0  0.0  0.0  0.0\n",
       " 0.0  1.0  1.0  0.0  1.0  1.0  1.0  0.0     1.0  1.0  1.0  0.0  1.0  1.0  1.0\n",
       " 1.0  0.0  0.0  0.0  0.0  0.0  0.0  1.0     0.0  0.0  0.0  0.0  0.0  0.0  0.0\n",
       " 0.0  0.0  0.0  1.0  0.0  0.0  0.0  0.0  …  0.0  0.0  0.0  1.0  0.0  0.0  0.0\n",
       " 0.0  0.0  0.0  0.0  0.0  0.0  0.0  0.0     0.0  0.0  0.0  0.0  0.0  0.0  0.0\n",
       " 0.0  1.0  1.0  0.0  1.0  1.0  1.0  0.0     1.0  1.0  1.0  0.0  1.0  1.0  1.0\n",
       " 1.0  0.0  0.0  0.0  0.0  0.0  0.0  1.0     0.0  0.0  0.0  0.0  0.0  0.0  0.0\n",
       " 0.0  0.0  0.0  1.0  0.0  0.0  0.0  0.0     0.0  0.0  0.0  1.0  0.0  0.0  0.0\n",
       " 0.0  0.0  0.0  0.0  0.0  0.0  0.0  0.0  …  0.0  0.0  0.0  0.0  0.0  0.0  0.0\n",
       " 0.0  0.0  1.0  0.0  0.0  0.0  0.0  0.0     1.0  1.0  0.0  0.0  0.0  0.0  1.0\n",
       " 0.0  1.0  0.0  0.0  0.0  1.0  1.0  0.0     0.0  0.0  1.0  0.0  0.0  1.0  0.0\n",
       " ⋮                        ⋮              ⋱       ⋮                        ⋮\n",
       " 0.0  0.0  1.0  1.0  0.0  0.0  1.0  0.0     0.0  1.0  0.0  0.0  0.0  1.0  1.0\n",
       " 0.0  0.0  0.0  0.0  1.0  1.0  0.0  0.0     1.0  0.0  0.0  0.0  0.0  0.0  0.0\n",
       " 0.0  1.0  0.0  0.0  0.0  0.0  0.0  0.0  …  0.0  0.0  1.0  1.0  1.0  0.0  0.0\n",
       " 0.0  0.0  0.0  0.0  0.0  0.0  0.0  0.0     0.0  0.0  0.0  0.0  0.0  0.0  0.0\n",
       " 1.0  0.0  0.0  0.0  0.0  0.0  0.0  1.0     0.0  0.0  0.0  0.0  0.0  0.0  0.0\n",
       " 0.0  0.0  1.0  1.0  0.0  0.0  0.0  0.0     0.0  1.0  0.0  0.0  0.0  0.0  0.0\n",
       " 0.0  0.0  0.0  0.0  1.0  0.0  1.0  0.0     1.0  0.0  0.0  0.0  0.0  1.0  1.0\n",
       " 0.0  0.0  0.0  0.0  0.0  0.0  0.0  0.0  …  0.0  0.0  0.0  0.0  0.0  0.0  0.0\n",
       " 0.0  1.0  0.0  0.0  0.0  1.0  0.0  0.0     0.0  0.0  0.0  0.0  0.0  0.0  0.0\n",
       " 0.0  0.0  0.0  0.0  0.0  0.0  0.0  0.0     0.0  0.0  1.0  1.0  1.0  0.0  0.0\n",
       " 1.0  0.0  1.0  0.0  0.0  0.0  0.0  1.0     0.0  1.0  0.0  0.0  0.0  0.0  0.0\n",
       " 0.0  0.0  0.0  1.0  0.0  0.0  0.0  0.0     0.0  0.0  0.0  0.0  0.0  0.0  1.0"
      ]
     },
     "execution_count": 80,
     "metadata": {},
     "output_type": "execute_result"
    }
   ],
   "source": [
    "sₐ"
   ]
  },
  {
   "cell_type": "code",
   "execution_count": 81,
   "id": "6eeacbdc",
   "metadata": {},
   "outputs": [
    {
     "data": {
      "image/png": "[encoded data removed]",
      "text/html": [
       "<img src=\"data:image/png;base64,iVBORw0KGgoAAAANSUhEUgAAASwAAAAwCAAAAACOdRj9AAAAAXNSR0IArs4c6QAAAARnQU1BAACxjwv8YQUAAAAgY0hSTQAAeiYAAICEAAD6AAAAgOgAAHUwAADqYAAAOpgAABdwnLpRPAAAAqpJREFUaAXtwVFqGEcUBMBqmPtfucODgWGFZI1sJ/nZqlViK7GVeCjxUYmtxFHiKPFQ4qMSDyU+KvG9EkeJo8QnSjyUsLyuLa9rK7YSW4mjhNhKbKHEiFFihBJbKPFjocSPldhKiKPERyXEUUKM5XVteV1bvlPiVomtxFHiKPFQQhwlRhwlxK+UEFuJo4R4KCG2EiNGCcvr2vK6tlBCjBJilBBbiRGjxIhRQowSYishRokRo8QWo8QWo8QRo8R/J5TldW15XVuIUUKMEuIo8ReEEltsJUZsJUY8lBC/L5R4CCW2UOIIy+va8rq2XChxlBBbCbGV2EqIrYTYSmyxlRixlThilPhSjBIjlDhCiV+JUWJbXteW17Xl50KJLZTYQokRo8QIJbYYJY5Q4gglHuJLJUZsJY4S4qHEQwlxLK9ry+vaKjFCiRFKbKHEEUpsocT/rIQ4SoijxEcljhLiKGF5XVte11YoMUKJEUpsocQRo8QIJUYoscUoIbYSI7YSI7YSIx5KfCK2EiO2EiNGiSNGiRFHCTGW17XldW0hRgkxSohRYsQocYQSI5QYocSXQokjRoktRomHUOJLMUr8vhLiWF7Xlte15c+U2EpsJbYSYpTYYpQ4QokjlPh3lThKHCUsr2vL69rynVBii1FixFZiK/G52EqM2EqM2EqM+MtCiSNGiRFHibG8ri2vawslxCghRokRo8QWo8TPlBixlRixlRixlXiIT5Q4QokRo8QWSvzA8rq2vK4txCghRglxlHgo8WOhxBGjxBZbiREPJT4RW4kRWwlxlPiZ5XVteV1bLpR4KHGUuFLioYQ4SozYShzxKyUeShwlxEMJcZQYsS2va8vr2vKdEg8ljhJbCTFKjBglxFFCbCVGbCVGPJT4Uijxl5XldW15XfsHuj7QV9lzeCMAAAAASUVORK5C\">"
      ],
      "text/plain": [
       "\u001b[0m\u001b[38;2;36;36;36;48;2;16;16;16m▀\u001b[38;2;16;16;16;48;2;40;40;40m▀\u001b[38;2;48;48;48;48;2;88;88;88m▀\u001b[38;2;16;16;16;48;2;40;40;40m▀\u001b[38;2;48;48;48;48;2;88;88;88m▀\u001b[38;2;12;12;12;48;2;28;28;28m▀\u001b[38;2;12;12;12;48;2;72;72;72m▀\u001b[38;2;40;40;40;48;2;36;36;36m▀\u001b[38;2;16;16;16;48;2;32;32;32m▀\u001b[38;2;12;12;12;48;2;76;76;76m▀\u001b[38;2;12;12;12;48;2;16;16;16m▀\u001b[38;2;48;48;48;48;2;84;84;84m▀\u001b[38;2;16;16;16;48;2;40;40;40m▀\u001b[38;2;40;40;40;48;2;64;64;64m▀\u001b[38;2;12;12;12;48;2;60;60;60m▀\u001b[38;2;40;40;40;48;2;64;64;64m▀\u001b[38;2;24;24;24;48;2;56;56;56m▀\u001b[38;2;12;12;12;48;2;28;28;28m▀\u001b[38;2;48;48;48;48;2;88;88;88m▀\u001b[38;2;4;4;4;48;2;24;24;24m▀\u001b[38;2;16;16;16;48;2;52;52;52m▀\u001b[38;2;48;48;48;48;2;72;72;72m▀\u001b[38;2;0;0;0;48;2;4;4;4m▀\u001b[38;2;0;0;0;48;2;36;36;36m▀\u001b[38;2;48;48;48;48;2;72;72;72m▀\u001b[38;2;16;16;16;48;2;20;20;20m▀\u001b[38;2;0;0;0;48;2;36;36;36m▀\u001b[38;2;40;40;40;48;2;48;48;48m▀\u001b[38;2;24;24;24;48;2;44;44;44m▀\u001b[38;2;0;0;0;48;2;12;12;12m▀\u001b[38;2;16;16;16;48;2;56;56;56m▀\u001b[38;2;48;48;48;48;2;60;60;60m▀\u001b[38;2;0;0;0;48;2;0;0;0m▀\u001b[38;2;0;0;0;48;2;0;0;0m▀\u001b[38;2;0;0;0;48;2;0;0;0m▀\u001b[38;2;0;0;0;48;2;16;16;16m▀\u001b[38;2;4;4;4;48;2;60;60;60m▀\u001b[38;2;48;48;48;48;2;48;48;48m▀\u001b[38;2;16;16;16;48;2;64;64;64m▀\u001b[38;2;24;24;24;48;2;56;56;56m▀\u001b[38;2;36;36;36;48;2;28;28;28m▀\u001b[38;2;4;4;4;48;2;60;60;60m▀\u001b[38;2;48;48;48;48;2;48;48;48m▀\u001b[38;2;12;12;12;48;2;4;4;4m▀\u001b[38;2;0;0;0;48;2;48;48;48m▀\u001b[38;2;12;12;12;48;2;52;52;52m▀\u001b[38;2;40;40;40;48;2;40;40;40m▀\u001b[38;2;12;12;12;48;2;52;52;52m▀\u001b[38;2;12;12;12;48;2;36;36;36m▀\u001b[38;2;40;40;40;48;2;64;64;64m▀\u001b[38;2;12;12;12;48;2;28;28;28m▀\u001b[0m\n",
       "\u001b[0m\u001b[38;2;12;12;12;48;2;12;12;12m▀\u001b[38;2;56;56;56;48;2;32;32;32m▀\u001b[38;2;72;72;72;48;2;96;96;96m▀\u001b[38;2;56;56;56;48;2;32;32;32m▀\u001b[38;2;72;72;72;48;2;96;96;96m▀\u001b[38;2;40;40;40;48;2;4;4;4m▀\u001b[38;2;36;36;36;48;2;80;80;80m▀\u001b[38;2;76;76;76;48;2;48;48;48m▀\u001b[38;2;20;20;20;48;2;12;12;12m▀\u001b[38;2;48;48;48;48;2;80;80;80m▀\u001b[38;2;72;72;72;48;2;36;36;36m▀\u001b[38;2;24;24;24;48;2;48;48;48m▀\u001b[38;2;80;80;80;48;2;72;72;72m▀\u001b[38;2;40;40;40;48;2;20;20;20m▀\u001b[38;2;88;88;88;48;2;96;96;96m▀\u001b[38;2;40;40;40;48;2;32;32;32m▀\u001b[38;2;40;40;40;48;2;56;56;56m▀\u001b[38;2;76;76;76;48;2;60;60;60m▀\u001b[38;2;36;36;36;48;2;52;52;52m▀\u001b[38;2;76;76;76;48;2;72;72;72m▀\u001b[38;2;28;28;28;48;2;16;16;16m▀\u001b[38;2;52;52;52;48;2;52;52;52m▀\u001b[38;2;24;24;24;48;2;52;52;52m▀\u001b[38;2;48;48;48;48;2;12;12;12m▀\u001b[38;2;52;52;52;48;2;52;52;52m▀\u001b[38;2;28;28;28;48;2;64;64;64m▀\u001b[38;2;48;48;48;48;2;12;12;12m▀\u001b[38;2;52;52;52;48;2;52;52;52m▀\u001b[38;2;16;16;16;48;2;60;60;60m▀\u001b[38;2;16;16;16;48;2;4;4;4m▀\u001b[38;2;64;64;64;48;2;24;24;24m▀\u001b[38;2;48;48;48;48;2;36;36;36m▀\u001b[38;2;0;0;0;48;2;0;0;0m▀\u001b[38;2;0;0;0;48;2;0;0;0m▀\u001b[38;2;0;0;0;48;2;12;12;12m▀\u001b[38;2;28;28;28;48;2;44;44;44m▀\u001b[38;2;88;88;88;48;2;36;36;36m▀\u001b[38;2;12;12;12;48;2;48;48;48m▀\u001b[38;2;88;88;88;48;2;64;64;64m▀\u001b[38;2;40;40;40;48;2;52;52;52m▀\u001b[38;2;16;16;16;48;2;24;24;24m▀\u001b[38;2;88;88;88;48;2;64;64;64m▀\u001b[38;2;24;24;24;48;2;40;40;40m▀\u001b[38;2;0;0;0;48;2;4;4;4m▀\u001b[38;2;64;64;64;48;2;64;64;64m▀\u001b[38;2;64;64;64;48;2;60;60;60m▀\u001b[38;2;16;16;16;48;2;12;12;12m▀\u001b[38;2;84;84;84;48;2;52;52;52m▀\u001b[38;2;24;24;24;48;2;52;52;52m▀\u001b[38;2;28;28;28;48;2;24;24;24m▀\u001b[38;2;40;40;40;48;2;4;4;4m▀\u001b[0m\n",
       "\u001b[0m\u001b[38;2;48;48;48;48;2;4;4;4m▀\u001b[38;2;56;56;56;48;2;40;40;40m▀\u001b[38;2;72;72;72;48;2;88;88;88m▀\u001b[38;2;56;56;56;48;2;40;40;40m▀\u001b[38;2;72;72;72;48;2;88;88;88m▀\u001b[38;2;52;52;52;48;2;36;36;36m▀\u001b[38;2;36;36;36;48;2;84;84;84m▀\u001b[38;2;76;76;76;48;2;16;16;16m▀\u001b[38;2;24;24;24;48;2;76;76;76m▀\u001b[38;2;28;28;28;48;2;36;36;36m▀\u001b[38;2;52;52;52;48;2;20;20;20m▀\u001b[38;2;52;52;52;48;2;84;84;84m▀\u001b[38;2;64;64;64;48;2;40;40;40m▀\u001b[38;2;60;60;60;48;2;88;88;88m▀\u001b[38;2;64;64;64;48;2;40;40;40m▀\u001b[38;2;64;64;64;48;2;88;88;88m▀\u001b[38;2;20;20;20;48;2;28;28;28m▀\u001b[38;2;64;64;64;48;2;64;64;64m▀\u001b[38;2;64;64;64;48;2;60;60;60m▀\u001b[38;2;48;48;48;48;2;36;36;36m▀\u001b[38;2;40;40;40;48;2;36;36;36m▀\u001b[38;2;40;40;40;48;2;56;56;56m▀\u001b[38;2;48;48;48;48;2;36;36;36m▀\u001b[38;2;36;36;36;48;2;24;24;24m▀\u001b[38;2;40;40;40;48;2;56;56;56m▀\u001b[38;2;52;52;52;48;2;48;48;48m▀\u001b[38;2;36;36;36;48;2;24;24;24m▀\u001b[38;2;40;40;40;48;2;56;56;56m▀\u001b[38;2;52;52;52;48;2;48;48;48m▀\u001b[38;2;0;0;0;48;2;0;0;0m▀\u001b[38;2;40;40;40;48;2;40;40;40m▀\u001b[38;2;24;24;24;48;2;88;88;88m▀\u001b[38;2;0;0;0;48;2;0;0;0m▀\u001b[38;2;0;0;0;48;2;0;0;0m▀\u001b[38;2;36;36;36;48;2;0;0;0m▀\u001b[38;2;36;36;36;48;2;4;4;4m▀\u001b[38;2;44;44;44;48;2;40;40;40m▀\u001b[38;2;48;48;48;48;2;84;84;84m▀\u001b[38;2;40;40;40;48;2;32;32;32m▀\u001b[38;2;52;52;52;48;2;96;96;96m▀\u001b[38;2;40;40;40;48;2;0;0;0m▀\u001b[38;2;72;72;72;48;2;88;88;88m▀\u001b[38;2;16;16;16;48;2;40;40;40m▀\u001b[38;2;12;12;12;48;2;0;0;0m▀\u001b[38;2;64;64;64;48;2;52;52;52m▀\u001b[38;2;52;52;52;48;2;72;72;72m▀\u001b[38;2;36;36;36;48;2;16;16;16m▀\u001b[38;2;36;36;36;48;2;72;72;72m▀\u001b[38;2;44;44;44;48;2;28;28;28m▀\u001b[38;2;48;48;48;48;2;52;52;52m▀\u001b[38;2;12;12;12;48;2;12;12;12m▀\u001b[0m\n",
       "\u001b[0m\u001b[38;2;12;12;12;48;2;4;4;4m▀\u001b[38;2;56;56;56;48;2;40;40;40m▀\u001b[38;2;72;72;72;48;2;88;88;88m▀\u001b[38;2;56;56;56;48;2;40;40;40m▀\u001b[38;2;72;72;72;48;2;88;88;88m▀\u001b[38;2;40;40;40;48;2;16;16;16m▀\u001b[38;2;52;52;52;48;2;60;60;60m▀\u001b[38;2;60;60;60;48;2;60;60;60m▀\u001b[38;2;24;24;24;48;2;8;8;8m▀\u001b[38;2;44;44;44;48;2;60;60;60m▀\u001b[38;2;64;64;64;48;2;60;60;60m▀\u001b[38;2;24;24;24;48;2;28;28;28m▀\u001b[38;2;88;88;88;48;2;88;88;88m▀\u001b[38;2;40;40;40;48;2;28;28;28m▀\u001b[38;2;88;88;88;48;2;88;88;88m▀\u001b[38;2;40;40;40;48;2;40;40;40m▀\u001b[38;2;32;32;32;48;2;32;32;32m▀\u001b[38;2;96;96;96;48;2;88;88;88m▀\u001b[38;2;16;16;16;48;2;28;28;28m▀\u001b[38;2;60;60;60;48;2;84;84;84m▀\u001b[38;2;40;40;40;48;2;16;16;16m▀\u001b[38;2;28;28;28;48;2;28;28;28m▀\u001b[38;2;52;52;52;48;2;60;60;60m▀\u001b[38;2;48;48;48;48;2;48;48;48m▀\u001b[38;2;28;28;28;48;2;20;20;20m▀\u001b[38;2;48;48;48;48;2;48;48;48m▀\u001b[38;2;48;48;48;48;2;48;48;48m▀\u001b[38;2;32;32;32;48;2;32;32;32m▀\u001b[38;2;48;48;48;48;2;48;48;48m▀\u001b[38;2;0;0;0;48;2;0;0;0m▀\u001b[38;2;28;28;28;48;2;48;48;48m▀\u001b[38;2;52;52;52;48;2;16;16;16m▀\u001b[38;2;0;0;0;48;2;0;0;0m▀\u001b[38;2;0;0;0;48;2;0;0;0m▀\u001b[38;2;36;36;36;48;2;12;12;12m▀\u001b[38;2;16;16;16;48;2;56;56;56m▀\u001b[38;2;28;28;28;48;2;60;60;60m▀\u001b[38;2;84;84;84;48;2;12;12;12m▀\u001b[38;2;32;32;32;48;2;64;64;64m▀\u001b[38;2;72;72;72;48;2;56;56;56m▀\u001b[38;2;36;36;36;48;2;28;28;28m▀\u001b[38;2;28;28;28;48;2;60;60;60m▀\u001b[38;2;88;88;88;48;2;48;48;48m▀\u001b[38;2;12;12;12;48;2;4;4;4m▀\u001b[38;2;12;12;12;48;2;48;48;48m▀\u001b[38;2;88;88;88;48;2;64;64;64m▀\u001b[38;2;32;32;32;48;2;16;16;16m▀\u001b[38;2;12;12;12;48;2;48;48;48m▀\u001b[38;2;28;28;28;48;2;32;32;32m▀\u001b[38;2;96;96;96;48;2;52;52;52m▀\u001b[38;2;4;4;4;48;2;12;12;12m▀\u001b[0m\n",
       "\u001b[0m\u001b[38;2;0;0;0m▀\u001b[38;2;16;16;16m▀\u001b[38;2;48;48;48m▀\u001b[38;2;16;16;16m▀\u001b[38;2;48;48;48m▀\u001b[38;2;12;12;12m▀\u001b[38;2;48;48;48m▀\u001b[38;2;4;4;4m▀\u001b[38;2;12;12;12m▀\u001b[38;2;48;48;48m▀\u001b[38;2;4;4;4m▀\u001b[38;2;40;40;40m▀\u001b[38;2;24;24;24m▀\u001b[38;2;36;36;36m▀\u001b[38;2;24;24;24m▀\u001b[38;2;40;40;40m▀\u001b[38;2;16;16;16m▀\u001b[38;2;24;24;24m▀\u001b[38;2;40;40;40m▀\u001b[38;2;12;12;12m▀\u001b[38;2;12;12;12m▀\u001b[38;2;40;40;40m▀\u001b[38;2;12;12;12m▀\u001b[38;2;36;36;36m▀\u001b[38;2;16;16;16m▀\u001b[38;2;12;12;12m▀\u001b[38;2;36;36;36m▀\u001b[38;2;16;16;16m▀\u001b[38;2;12;12;12m▀\u001b[38;2;0;0;0m▀\u001b[38;2;36;36;36m▀\u001b[38;2;12;12;12m▀\u001b[38;2;0;0;0m▀\u001b[38;2;0;0;0m▀\u001b[38;2;0;0;0m▀\u001b[38;2;24;24;24m▀\u001b[38;2;40;40;40m▀\u001b[38;2;0;0;0m▀\u001b[38;2;48;48;48m▀\u001b[38;2;16;16;16m▀\u001b[38;2;16;16;16m▀\u001b[38;2;48;48;48m▀\u001b[38;2;0;0;0m▀\u001b[38;2;0;0;0m▀\u001b[38;2;48;48;48m▀\u001b[38;2;16;16;16m▀\u001b[38;2;0;0;0m▀\u001b[38;2;48;48;48m▀\u001b[38;2;16;16;16m▀\u001b[38;2;12;12;12m▀\u001b[38;2;36;36;36m▀\u001b[0m"
      ]
     },
     "execution_count": 81,
     "metadata": {},
     "output_type": "execute_result"
    }
   ],
   "source": [
    "Gray.(transpose(sₐ)) # What is this saying?"
   ]
  },
  {
   "cell_type": "markdown",
   "id": "dcacf04a",
   "metadata": {},
   "source": [
    "### Discussion\n",
    "1. What do the rows (and columns) of the transposed spike matrix `s::Array{Float64,2}` represent?\n",
    "2. What happens if we change the refractory period parameter $\\Delta_{r}$?"
   ]
  },
  {
   "cell_type": "markdown",
   "id": "4588116d",
   "metadata": {},
   "source": [
    "## Task 3: Let's build an S5 model to process the spikes\n",
    "In this task, we'll build a simplified structured state space sequence (S5) model instance. We'll feed in the spike patterns from our SSN into the S5 model, and output a sequence of transformed digits by including a nonlinear output transformation.\n",
    "\n",
    "First, let's build [an instance of the `MyS5Model` type](src/Types.jl#L5). The [`MyS5Model` type](src/Types.jl) is constructed using [a custom `build(...)` method](src/Factory.jl). In the [`build(...)` method](src/Factory.jl), we pass in the type we want to build, and the data required to build it. We get back a model (populated) model instance. \n",
    "\n",
    "Our build methods don't normally do much, but in this case, we construct all the system matrices, diagonalize them, and compute the required discrete system matrices. We save the S5 model instance in the `s5model::MyS5Model` variable."
   ]
  },
  {
   "cell_type": "code",
   "execution_count": 84,
   "id": "04b34023",
   "metadata": {},
   "outputs": [],
   "source": [
    "s5model = let\n",
    "\n",
    "    # initialize -\n",
    "    number_of_hidden_states = 2^4; # number of hidden states\n",
    "    number_of_inputs = number_of_neurons; # number of inputs\n",
    "    number_of_outputs = 10; # number of outputs: the number of numbers we want to classify\n",
    "    Δt = 2.0; # adjust for open-loop stability (which is curious)\n",
    "\n",
    "    # build model -\n",
    "    model = build(MyS5Model, (\n",
    "        Δt = Δt, # time step (ms)\n",
    "        number_of_hidden_states = number_of_hidden_states, # number of hidden states\n",
    "        number_of_inputs = number_of_inputs, # number of inputs\n",
    "        number_of_outputs = number_of_outputs, # the number of outputs\n",
    "    ));\n",
    "\n",
    "    model;\n",
    "end;"
   ]
  },
  {
   "cell_type": "markdown",
   "id": "4312c353",
   "metadata": {},
   "source": [
    "__Solve the S5 model__: Now that we have a populated `s5model::MyS5Model` model, we can run the model forward in time and generate the output for our system. We do this [using the `solve(...)` method](src/Compute.jl).\n",
    "* _Arguments_: We pass in the model instance, the input data array (spike patterns in the columns), and the time upper bound $[0,T]$. The [`solve(...)` method](src/Compute.jl) returns a time vector `T::Array{Float64,1}`, the hidden state array `H::Array{Float64,2}` array, the output array `Y::Array{Float64,2}` and the output spike pattern array `U::Array{Float64,2}` (which is the transpose of the spike pattern matrix `s::Array{Float64,2}` from the SSN model).\n",
    "\n",
    "Run the S5 model:"
   ]
  },
  {
   "cell_type": "code",
   "execution_count": 86,
   "id": "80a58f8f",
   "metadata": {},
   "outputs": [],
   "source": [
    "(TS5,HS5,YS5, U) = let\n",
    "    \n",
    "    U = transpose(sₐ) |> Matrix; # formulate the input (transposed spike patterns)\n",
    "    (TS5,HS5,YS5) = solve(s5model,U,100); # solve the S5 model -\n",
    "\n",
    "    TS5, HS5, YS5, U # return the time, hidden states, output and the input\n",
    "end;"
   ]
  },
  {
   "cell_type": "markdown",
   "id": "55ebfeb8",
   "metadata": {},
   "source": [
    "What do we put into the S5 model?"
   ]
  },
  {
   "cell_type": "code",
   "execution_count": 88,
   "id": "17ee349a",
   "metadata": {},
   "outputs": [
    {
     "data": {
      "image/png": "[encoded data removed]",
      "text/html": [
       "<img src=\"data:image/png;base64,iVBORw0KGgoAAAANSUhEUgAAASwAAAAwCAAAAACOdRj9AAAAAXNSR0IArs4c6QAAAARnQU1BAACxjwv8YQUAAAAgY0hSTQAAeiYAAICEAAD6AAAAgOgAAHUwAADqYAAAOpgAABdwnLpRPAAAAqpJREFUaAXtwVFqGEcUBMBqmPtfucODgWGFZI1sJ/nZqlViK7GVeCjxUYmtxFHiKPFQ4qMSDyU+KvG9EkeJo8QnSjyUsLyuLa9rK7YSW4mjhNhKbKHEiFFihBJbKPFjocSPldhKiKPERyXEUUKM5XVteV1bvlPiVomtxFHiKPFQQhwlRhwlxK+UEFuJo4R4KCG2EiNGCcvr2vK6tlBCjBJilBBbiRGjxIhRQowSYishRokRo8QWo8QWo8QRo8R/J5TldW15XVuIUUKMEuIo8ReEEltsJUZsJUY8lBC/L5R4CCW2UOIIy+va8rq2XChxlBBbCbGV2EqIrYTYSmyxlRixlThilPhSjBIjlDhCiV+JUWJbXteW17Xl50KJLZTYQokRo8QIJbYYJY5Q4gglHuJLJUZsJY4S4qHEQwlxLK9ry+vaKjFCiRFKbKHEEUpsocT/rIQ4SoijxEcljhLiKGF5XVte11YoMUKJEUpsocQRo8QIJUYoscUoIbYSI7YSI7YSIx5KfCK2EiO2EiNGiSNGiRFHCTGW17XldW0hRgkxSohRYsQocYQSI5QYocSXQokjRoktRomHUOJLMUr8vhLiWF7Xlte15c+U2EpsJbYSYpTYYpQ4QokjlPh3lThKHCUsr2vL69rynVBii1FixFZiK/G52EqM2EqM2EqM+MtCiSNGiRFHibG8ri2vawslxCghRokRo8QWo8TPlBixlRixlRixlXiIT5Q4QokRo8QWSvzA8rq2vK4txCghRglxlHgo8WOhxBGjxBZbiREPJT4RW4kRWwlxlPiZ5XVteV1bLpR4KHGUuFLioYQ4SozYShzxKyUeShwlxEMJcZQYsS2va8vr2vKdEg8ljhJbCTFKjBglxFFCbCVGbCVGPJT4Uijxl5XldW15XfsHuj7QV9lzeCMAAAAASUVORK5C\">"
      ],
      "text/plain": [
       "\u001b[0m\u001b[38;2;36;36;36;48;2;16;16;16m▀\u001b[38;2;16;16;16;48;2;40;40;40m▀\u001b[38;2;48;48;48;48;2;88;88;88m▀\u001b[38;2;16;16;16;48;2;40;40;40m▀\u001b[38;2;48;48;48;48;2;88;88;88m▀\u001b[38;2;12;12;12;48;2;28;28;28m▀\u001b[38;2;12;12;12;48;2;72;72;72m▀\u001b[38;2;40;40;40;48;2;36;36;36m▀\u001b[38;2;16;16;16;48;2;32;32;32m▀\u001b[38;2;12;12;12;48;2;76;76;76m▀\u001b[38;2;12;12;12;48;2;16;16;16m▀\u001b[38;2;48;48;48;48;2;84;84;84m▀\u001b[38;2;16;16;16;48;2;40;40;40m▀\u001b[38;2;40;40;40;48;2;64;64;64m▀\u001b[38;2;12;12;12;48;2;60;60;60m▀\u001b[38;2;40;40;40;48;2;64;64;64m▀\u001b[38;2;24;24;24;48;2;56;56;56m▀\u001b[38;2;12;12;12;48;2;28;28;28m▀\u001b[38;2;48;48;48;48;2;88;88;88m▀\u001b[38;2;4;4;4;48;2;24;24;24m▀\u001b[38;2;16;16;16;48;2;52;52;52m▀\u001b[38;2;48;48;48;48;2;72;72;72m▀\u001b[38;2;0;0;0;48;2;4;4;4m▀\u001b[38;2;0;0;0;48;2;36;36;36m▀\u001b[38;2;48;48;48;48;2;72;72;72m▀\u001b[38;2;16;16;16;48;2;20;20;20m▀\u001b[38;2;0;0;0;48;2;36;36;36m▀\u001b[38;2;40;40;40;48;2;48;48;48m▀\u001b[38;2;24;24;24;48;2;44;44;44m▀\u001b[38;2;0;0;0;48;2;12;12;12m▀\u001b[38;2;16;16;16;48;2;56;56;56m▀\u001b[38;2;48;48;48;48;2;60;60;60m▀\u001b[38;2;0;0;0;48;2;0;0;0m▀\u001b[38;2;0;0;0;48;2;0;0;0m▀\u001b[38;2;0;0;0;48;2;0;0;0m▀\u001b[38;2;0;0;0;48;2;16;16;16m▀\u001b[38;2;4;4;4;48;2;60;60;60m▀\u001b[38;2;48;48;48;48;2;48;48;48m▀\u001b[38;2;16;16;16;48;2;64;64;64m▀\u001b[38;2;24;24;24;48;2;56;56;56m▀\u001b[38;2;36;36;36;48;2;28;28;28m▀\u001b[38;2;4;4;4;48;2;60;60;60m▀\u001b[38;2;48;48;48;48;2;48;48;48m▀\u001b[38;2;12;12;12;48;2;4;4;4m▀\u001b[38;2;0;0;0;48;2;48;48;48m▀\u001b[38;2;12;12;12;48;2;52;52;52m▀\u001b[38;2;40;40;40;48;2;40;40;40m▀\u001b[38;2;12;12;12;48;2;52;52;52m▀\u001b[38;2;12;12;12;48;2;36;36;36m▀\u001b[38;2;40;40;40;48;2;64;64;64m▀\u001b[38;2;12;12;12;48;2;28;28;28m▀\u001b[0m\n",
       "\u001b[0m\u001b[38;2;12;12;12;48;2;12;12;12m▀\u001b[38;2;56;56;56;48;2;32;32;32m▀\u001b[38;2;72;72;72;48;2;96;96;96m▀\u001b[38;2;56;56;56;48;2;32;32;32m▀\u001b[38;2;72;72;72;48;2;96;96;96m▀\u001b[38;2;40;40;40;48;2;4;4;4m▀\u001b[38;2;36;36;36;48;2;80;80;80m▀\u001b[38;2;76;76;76;48;2;48;48;48m▀\u001b[38;2;20;20;20;48;2;12;12;12m▀\u001b[38;2;48;48;48;48;2;80;80;80m▀\u001b[38;2;72;72;72;48;2;36;36;36m▀\u001b[38;2;24;24;24;48;2;48;48;48m▀\u001b[38;2;80;80;80;48;2;72;72;72m▀\u001b[38;2;40;40;40;48;2;20;20;20m▀\u001b[38;2;88;88;88;48;2;96;96;96m▀\u001b[38;2;40;40;40;48;2;32;32;32m▀\u001b[38;2;40;40;40;48;2;56;56;56m▀\u001b[38;2;76;76;76;48;2;60;60;60m▀\u001b[38;2;36;36;36;48;2;52;52;52m▀\u001b[38;2;76;76;76;48;2;72;72;72m▀\u001b[38;2;28;28;28;48;2;16;16;16m▀\u001b[38;2;52;52;52;48;2;52;52;52m▀\u001b[38;2;24;24;24;48;2;52;52;52m▀\u001b[38;2;48;48;48;48;2;12;12;12m▀\u001b[38;2;52;52;52;48;2;52;52;52m▀\u001b[38;2;28;28;28;48;2;64;64;64m▀\u001b[38;2;48;48;48;48;2;12;12;12m▀\u001b[38;2;52;52;52;48;2;52;52;52m▀\u001b[38;2;16;16;16;48;2;60;60;60m▀\u001b[38;2;16;16;16;48;2;4;4;4m▀\u001b[38;2;64;64;64;48;2;24;24;24m▀\u001b[38;2;48;48;48;48;2;36;36;36m▀\u001b[38;2;0;0;0;48;2;0;0;0m▀\u001b[38;2;0;0;0;48;2;0;0;0m▀\u001b[38;2;0;0;0;48;2;12;12;12m▀\u001b[38;2;28;28;28;48;2;44;44;44m▀\u001b[38;2;88;88;88;48;2;36;36;36m▀\u001b[38;2;12;12;12;48;2;48;48;48m▀\u001b[38;2;88;88;88;48;2;64;64;64m▀\u001b[38;2;40;40;40;48;2;52;52;52m▀\u001b[38;2;16;16;16;48;2;24;24;24m▀\u001b[38;2;88;88;88;48;2;64;64;64m▀\u001b[38;2;24;24;24;48;2;40;40;40m▀\u001b[38;2;0;0;0;48;2;4;4;4m▀\u001b[38;2;64;64;64;48;2;64;64;64m▀\u001b[38;2;64;64;64;48;2;60;60;60m▀\u001b[38;2;16;16;16;48;2;12;12;12m▀\u001b[38;2;84;84;84;48;2;52;52;52m▀\u001b[38;2;24;24;24;48;2;52;52;52m▀\u001b[38;2;28;28;28;48;2;24;24;24m▀\u001b[38;2;40;40;40;48;2;4;4;4m▀\u001b[0m\n",
       "\u001b[0m\u001b[38;2;48;48;48;48;2;4;4;4m▀\u001b[38;2;56;56;56;48;2;40;40;40m▀\u001b[38;2;72;72;72;48;2;88;88;88m▀\u001b[38;2;56;56;56;48;2;40;40;40m▀\u001b[38;2;72;72;72;48;2;88;88;88m▀\u001b[38;2;52;52;52;48;2;36;36;36m▀\u001b[38;2;36;36;36;48;2;84;84;84m▀\u001b[38;2;76;76;76;48;2;16;16;16m▀\u001b[38;2;24;24;24;48;2;76;76;76m▀\u001b[38;2;28;28;28;48;2;36;36;36m▀\u001b[38;2;52;52;52;48;2;20;20;20m▀\u001b[38;2;52;52;52;48;2;84;84;84m▀\u001b[38;2;64;64;64;48;2;40;40;40m▀\u001b[38;2;60;60;60;48;2;88;88;88m▀\u001b[38;2;64;64;64;48;2;40;40;40m▀\u001b[38;2;64;64;64;48;2;88;88;88m▀\u001b[38;2;20;20;20;48;2;28;28;28m▀\u001b[38;2;64;64;64;48;2;64;64;64m▀\u001b[38;2;64;64;64;48;2;60;60;60m▀\u001b[38;2;48;48;48;48;2;36;36;36m▀\u001b[38;2;40;40;40;48;2;36;36;36m▀\u001b[38;2;40;40;40;48;2;56;56;56m▀\u001b[38;2;48;48;48;48;2;36;36;36m▀\u001b[38;2;36;36;36;48;2;24;24;24m▀\u001b[38;2;40;40;40;48;2;56;56;56m▀\u001b[38;2;52;52;52;48;2;48;48;48m▀\u001b[38;2;36;36;36;48;2;24;24;24m▀\u001b[38;2;40;40;40;48;2;56;56;56m▀\u001b[38;2;52;52;52;48;2;48;48;48m▀\u001b[38;2;0;0;0;48;2;0;0;0m▀\u001b[38;2;40;40;40;48;2;40;40;40m▀\u001b[38;2;24;24;24;48;2;88;88;88m▀\u001b[38;2;0;0;0;48;2;0;0;0m▀\u001b[38;2;0;0;0;48;2;0;0;0m▀\u001b[38;2;36;36;36;48;2;0;0;0m▀\u001b[38;2;36;36;36;48;2;4;4;4m▀\u001b[38;2;44;44;44;48;2;40;40;40m▀\u001b[38;2;48;48;48;48;2;84;84;84m▀\u001b[38;2;40;40;40;48;2;32;32;32m▀\u001b[38;2;52;52;52;48;2;96;96;96m▀\u001b[38;2;40;40;40;48;2;0;0;0m▀\u001b[38;2;72;72;72;48;2;88;88;88m▀\u001b[38;2;16;16;16;48;2;40;40;40m▀\u001b[38;2;12;12;12;48;2;0;0;0m▀\u001b[38;2;64;64;64;48;2;52;52;52m▀\u001b[38;2;52;52;52;48;2;72;72;72m▀\u001b[38;2;36;36;36;48;2;16;16;16m▀\u001b[38;2;36;36;36;48;2;72;72;72m▀\u001b[38;2;44;44;44;48;2;28;28;28m▀\u001b[38;2;48;48;48;48;2;52;52;52m▀\u001b[38;2;12;12;12;48;2;12;12;12m▀\u001b[0m\n",
       "\u001b[0m\u001b[38;2;12;12;12;48;2;4;4;4m▀\u001b[38;2;56;56;56;48;2;40;40;40m▀\u001b[38;2;72;72;72;48;2;88;88;88m▀\u001b[38;2;56;56;56;48;2;40;40;40m▀\u001b[38;2;72;72;72;48;2;88;88;88m▀\u001b[38;2;40;40;40;48;2;16;16;16m▀\u001b[38;2;52;52;52;48;2;60;60;60m▀\u001b[38;2;60;60;60;48;2;60;60;60m▀\u001b[38;2;24;24;24;48;2;8;8;8m▀\u001b[38;2;44;44;44;48;2;60;60;60m▀\u001b[38;2;64;64;64;48;2;60;60;60m▀\u001b[38;2;24;24;24;48;2;28;28;28m▀\u001b[38;2;88;88;88;48;2;88;88;88m▀\u001b[38;2;40;40;40;48;2;28;28;28m▀\u001b[38;2;88;88;88;48;2;88;88;88m▀\u001b[38;2;40;40;40;48;2;40;40;40m▀\u001b[38;2;32;32;32;48;2;32;32;32m▀\u001b[38;2;96;96;96;48;2;88;88;88m▀\u001b[38;2;16;16;16;48;2;28;28;28m▀\u001b[38;2;60;60;60;48;2;84;84;84m▀\u001b[38;2;40;40;40;48;2;16;16;16m▀\u001b[38;2;28;28;28;48;2;28;28;28m▀\u001b[38;2;52;52;52;48;2;60;60;60m▀\u001b[38;2;48;48;48;48;2;48;48;48m▀\u001b[38;2;28;28;28;48;2;20;20;20m▀\u001b[38;2;48;48;48;48;2;48;48;48m▀\u001b[38;2;48;48;48;48;2;48;48;48m▀\u001b[38;2;32;32;32;48;2;32;32;32m▀\u001b[38;2;48;48;48;48;2;48;48;48m▀\u001b[38;2;0;0;0;48;2;0;0;0m▀\u001b[38;2;28;28;28;48;2;48;48;48m▀\u001b[38;2;52;52;52;48;2;16;16;16m▀\u001b[38;2;0;0;0;48;2;0;0;0m▀\u001b[38;2;0;0;0;48;2;0;0;0m▀\u001b[38;2;36;36;36;48;2;12;12;12m▀\u001b[38;2;16;16;16;48;2;56;56;56m▀\u001b[38;2;28;28;28;48;2;60;60;60m▀\u001b[38;2;84;84;84;48;2;12;12;12m▀\u001b[38;2;32;32;32;48;2;64;64;64m▀\u001b[38;2;72;72;72;48;2;56;56;56m▀\u001b[38;2;36;36;36;48;2;28;28;28m▀\u001b[38;2;28;28;28;48;2;60;60;60m▀\u001b[38;2;88;88;88;48;2;48;48;48m▀\u001b[38;2;12;12;12;48;2;4;4;4m▀\u001b[38;2;12;12;12;48;2;48;48;48m▀\u001b[38;2;88;88;88;48;2;64;64;64m▀\u001b[38;2;32;32;32;48;2;16;16;16m▀\u001b[38;2;12;12;12;48;2;48;48;48m▀\u001b[38;2;28;28;28;48;2;32;32;32m▀\u001b[38;2;96;96;96;48;2;52;52;52m▀\u001b[38;2;4;4;4;48;2;12;12;12m▀\u001b[0m\n",
       "\u001b[0m\u001b[38;2;0;0;0m▀\u001b[38;2;16;16;16m▀\u001b[38;2;48;48;48m▀\u001b[38;2;16;16;16m▀\u001b[38;2;48;48;48m▀\u001b[38;2;12;12;12m▀\u001b[38;2;48;48;48m▀\u001b[38;2;4;4;4m▀\u001b[38;2;12;12;12m▀\u001b[38;2;48;48;48m▀\u001b[38;2;4;4;4m▀\u001b[38;2;40;40;40m▀\u001b[38;2;24;24;24m▀\u001b[38;2;36;36;36m▀\u001b[38;2;24;24;24m▀\u001b[38;2;40;40;40m▀\u001b[38;2;16;16;16m▀\u001b[38;2;24;24;24m▀\u001b[38;2;40;40;40m▀\u001b[38;2;12;12;12m▀\u001b[38;2;12;12;12m▀\u001b[38;2;40;40;40m▀\u001b[38;2;12;12;12m▀\u001b[38;2;36;36;36m▀\u001b[38;2;16;16;16m▀\u001b[38;2;12;12;12m▀\u001b[38;2;36;36;36m▀\u001b[38;2;16;16;16m▀\u001b[38;2;12;12;12m▀\u001b[38;2;0;0;0m▀\u001b[38;2;36;36;36m▀\u001b[38;2;12;12;12m▀\u001b[38;2;0;0;0m▀\u001b[38;2;0;0;0m▀\u001b[38;2;0;0;0m▀\u001b[38;2;24;24;24m▀\u001b[38;2;40;40;40m▀\u001b[38;2;0;0;0m▀\u001b[38;2;48;48;48m▀\u001b[38;2;16;16;16m▀\u001b[38;2;16;16;16m▀\u001b[38;2;48;48;48m▀\u001b[38;2;0;0;0m▀\u001b[38;2;0;0;0m▀\u001b[38;2;48;48;48m▀\u001b[38;2;16;16;16m▀\u001b[38;2;0;0;0m▀\u001b[38;2;48;48;48m▀\u001b[38;2;16;16;16m▀\u001b[38;2;12;12;12m▀\u001b[38;2;36;36;36m▀\u001b[0m"
      ]
     },
     "execution_count": 88,
     "metadata": {},
     "output_type": "execute_result"
    }
   ],
   "source": [
    "Gray.(U) # This is what feed into the model d_neurons x T"
   ]
  },
  {
   "cell_type": "markdown",
   "id": "31f6e61f",
   "metadata": {},
   "source": [
    "What do we get out of the S5 model?"
   ]
  },
  {
   "cell_type": "code",
   "execution_count": 90,
   "id": "895c4250",
   "metadata": {},
   "outputs": [
    {
     "data": {
      "image/png": "[encoded data removed]",
      "text/html": [
       "<img src=\"data:image/png;base64,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\">"
      ],
      "text/plain": [
       "\u001b[0m\u001b[38;2;9;9;9;48;2;22;22;22m▀\u001b[38;2;21;21;21;48;2;54;54;54m▀\u001b[38;2;38;38;38;48;2;103;103;103m▀\u001b[38;2;21;21;21;48;2;56;56;56m▀\u001b[38;2;39;39;39;48;2;104;104;104m▀\u001b[38;2;14;14;14;48;2;39;39;39m▀\u001b[38;2;29;29;29;48;2;74;74;74m▀\u001b[38;2;24;24;24;48;2;64;64;64m▀\u001b[38;2;13;13;13;48;2;34;34;34m▀\u001b[38;2;26;26;26;48;2;66;66;66m▀\u001b[38;2;20;20;20;48;2;51;51;51m▀\u001b[38;2;26;26;26;48;2;66;66;66m▀\u001b[38;2;30;30;30;48;2;79;79;79m▀\u001b[38;2;24;24;24;48;2;64;64;64m▀\u001b[38;2;33;33;33;48;2;86;86;86m▀\u001b[38;2;25;25;25;48;2;69;69;69m▀\u001b[38;2;18;18;18;48;2;47;47;47m▀\u001b[38;2;33;33;33;48;2;83;83;83m▀\u001b[38;2;26;26;26;48;2;68;68;68m▀\u001b[38;2;24;24;24;48;2;64;64;64m▀\u001b[38;2;15;15;15;48;2;39;39;39m▀\u001b[38;2;25;25;25;48;2;63;63;63m▀\u001b[38;2;18;18;18;48;2;45;45;45m▀\u001b[38;2;17;17;17;48;2;45;45;45m▀\u001b[38;2;23;23;23;48;2;59;59;59m▀\u001b[38;2;19;19;19;48;2;51;51;51m▀\u001b[38;2;18;18;18;48;2;44;44;44m▀\u001b[38;2;23;23;23;48;2;58;58;58m▀\u001b[38;2;21;21;21;48;2;54;54;54m▀\u001b[38;2;2;2;2;48;2;5;5;5m▀\u001b[38;2;21;21;21;48;2;54;54;54m▀\u001b[38;2;25;25;25;48;2;63;63;63m▀\u001b[38;2;1;1;1;48;2;1;1;1m▀\u001b[38;2;0;0;0;48;2;0;0;0m▀\u001b[38;2;6;6;6;48;2;15;15;15m▀\u001b[38;2;14;14;14;48;2;35;35;35m▀\u001b[38;2;24;24;24;48;2;62;62;62m▀\u001b[38;2;22;22;22;48;2;59;59;59m▀\u001b[38;2;26;26;26;48;2;68;68;68m▀\u001b[38;2;27;27;27;48;2;71;71;71m▀\u001b[38;2;13;13;13;48;2;34;34;34m▀\u001b[38;2;30;30;30;48;2;78;78;78m▀\u001b[38;2;20;20;20;48;2;54;54;54m▀\u001b[38;2;3;3;3;48;2;7;7;7m▀\u001b[38;2;24;24;24;48;2;61;61;61m▀\u001b[38;2;28;28;28;48;2;74;74;74m▀\u001b[38;2;13;13;13;48;2;34;34;34m▀\u001b[38;2;25;25;25;48;2;64;64;64m▀\u001b[38;2;17;17;17;48;2;44;44;44m▀\u001b[38;2;24;24;24;48;2;64;64;64m▀\u001b[38;2;9;9;9;48;2;25;25;25m▀\u001b[0m\n",
       "\u001b[0m\u001b[38;2;16;16;16;48;2;6;6;6m▀\u001b[38;2;39;39;39;48;2;14;14;14m▀\u001b[38;2;77;77;77;48;2;31;31;31m▀\u001b[38;2;41;41;41;48;2;17;17;17m▀\u001b[38;2;77;77;77;48;2;32;32;32m▀\u001b[38;2;28;28;28;48;2;13;13;13m▀\u001b[38;2;54;54;54;48;2;20;20;20m▀\u001b[38;2;47;47;47;48;2;17;17;17m▀\u001b[38;2;25;25;25;48;2;9;9;9m▀\u001b[38;2;48;48;48;48;2;16;16;16m▀\u001b[38;2;38;38;38;48;2;13;13;13m▀\u001b[38;2;48;48;48;48;2;17;17;17m▀\u001b[38;2;58;58;58;48;2;21;21;21m▀\u001b[38;2;48;48;48;48;2;18;18;18m▀\u001b[38;2;63;63;63;48;2;24;24;24m▀\u001b[38;2;52;52;52;48;2;21;21;21m▀\u001b[38;2;34;34;34;48;2;13;13;13m▀\u001b[38;2;59;59;59;48;2;27;27;27m▀\u001b[38;2;50;50;50;48;2;21;21;21m▀\u001b[38;2;48;48;48;48;2;19;19;19m▀\u001b[38;2;29;29;29;48;2;11;11;11m▀\u001b[38;2;46;46;46;48;2;16;16;16m▀\u001b[38;2;33;33;33;48;2;14;14;14m▀\u001b[38;2;32;32;32;48;2;12;12;12m▀\u001b[38;2;43;43;43;48;2;16;16;16m▀\u001b[38;2;38;38;38;48;2;14;14;14m▀\u001b[38;2;32;32;32;48;2;12;12;12m▀\u001b[38;2;42;42;42;48;2;17;17;17m▀\u001b[38;2;40;40;40;48;2;14;14;14m▀\u001b[38;2;4;4;4;48;2;1;1;1m▀\u001b[38;2;39;39;39;48;2;14;14;14m▀\u001b[38;2;45;45;45;48;2;20;20;20m▀\u001b[38;2;1;1;1;48;2;2;2;2m▀\u001b[38;2;0;0;0;48;2;0;0;0m▀\u001b[38;2;11;11;11;48;2;4;4;4m▀\u001b[38;2;25;25;25;48;2;10;10;10m▀\u001b[38;2;45;45;45;48;2;17;17;17m▀\u001b[38;2;44;44;44;48;2;17;17;17m▀\u001b[38;2;50;50;50;48;2;18;18;18m▀\u001b[38;2;52;52;52;48;2;19;19;19m▀\u001b[38;2;25;25;25;48;2;9;9;9m▀\u001b[38;2;58;58;58;48;2;22;22;22m▀\u001b[38;2;40;40;40;48;2;15;15;15m▀\u001b[38;2;6;6;6;48;2;2;2;2m▀\u001b[38;2;44;44;44;48;2;16;16;16m▀\u001b[38;2;54;54;54;48;2;21;21;21m▀\u001b[38;2;24;24;24;48;2;11;11;11m▀\u001b[38;2;47;47;47;48;2;18;18;18m▀\u001b[38;2;32;32;32;48;2;14;14;14m▀\u001b[38;2;47;47;47;48;2;17;17;17m▀\u001b[38;2;19;19;19;48;2;8;8;8m▀\u001b[0m\n",
       "\u001b[0m\u001b[38;2;4;4;4;48;2;1;1;1m▀\u001b[38;2;9;9;9;48;2;3;3;3m▀\u001b[38;2;33;33;33;48;2;15;15;15m▀\u001b[38;2;19;19;19;48;2;9;9;9m▀\u001b[38;2;34;34;34;48;2;16;16;16m▀\u001b[38;2;16;16;16;48;2;8;8;8m▀\u001b[38;2;14;14;14;48;2;5;5;5m▀\u001b[38;2;10;10;10;48;2;3;3;3m▀\u001b[38;2;5;5;5;48;2;1;1;1m▀\u001b[38;2;9;9;9;48;2;2;2;2m▀\u001b[38;2;6;6;6;48;2;1;1;1m▀\u001b[38;2;10;10;10;48;2;2;2;2m▀\u001b[38;2;16;16;16;48;2;6;6;6m▀\u001b[38;2;16;16;16;48;2;7;7;7m▀\u001b[38;2;21;21;21;48;2;8;8;8m▀\u001b[38;2;23;23;23;48;2;11;11;11m▀\u001b[38;2;12;12;12;48;2;5;5;5m▀\u001b[38;2;28;28;28;48;2;13;13;13m▀\u001b[38;2;21;21;21;48;2;10;10;10m▀\u001b[38;2;19;19;19;48;2;9;9;9m▀\u001b[38;2;8;8;8;48;2;3;3;3m▀\u001b[38;2;8;8;8;48;2;2;2;2m▀\u001b[38;2;12;12;12;48;2;5;5;5m▀\u001b[38;2;8;8;8;48;2;3;3;3m▀\u001b[38;2;11;11;11;48;2;4;4;4m▀\u001b[38;2;9;9;9;48;2;3;3;3m▀\u001b[38;2;9;9;9;48;2;3;3;3m▀\u001b[38;2;14;14;14;48;2;6;6;6m▀\u001b[38;2;7;7;7;48;2;2;2;2m▀\u001b[38;2;1;1;1;48;2;0;0;0m▀\u001b[38;2;9;9;9;48;2;2;2;2m▀\u001b[38;2;21;21;21;48;2;10;10;10m▀\u001b[38;2;3;3;3;48;2;2;2;2m▀\u001b[38;2;0;0;0;48;2;0;0;0m▀\u001b[38;2;4;4;4;48;2;2;2;2m▀\u001b[38;2;9;9;9;48;2;3;3;3m▀\u001b[38;2;13;13;13;48;2;4;4;4m▀\u001b[38;2;15;15;15;48;2;6;6;6m▀\u001b[38;2;13;13;13;48;2;5;5;5m▀\u001b[38;2;12;12;12;48;2;4;4;4m▀\u001b[38;2;8;8;8;48;2;3;3;3m▀\u001b[38;2;17;17;17;48;2;6;6;6m▀\u001b[38;2;13;13;13;48;2;6;6;6m▀\u001b[38;2;2;2;2;48;2;1;1;1m▀\u001b[38;2;10;10;10;48;2;3;3;3m▀\u001b[38;2;16;16;16;48;2;6;6;6m▀\u001b[38;2;11;11;11;48;2;5;5;5m▀\u001b[38;2;13;13;13;48;2;5;5;5m▀\u001b[38;2;15;15;15;48;2;7;7;7m▀\u001b[38;2;13;13;13;48;2;5;5;5m▀\u001b[38;2;7;7;7;48;2;3;3;3m▀\u001b[0m\n"
      ]
     },
     "execution_count": 90,
     "metadata": {},
     "output_type": "execute_result"
    }
   ],
   "source": [
    "Gray.(transpose(abs.(YS5))) # This is what we get (d_{out} x T)"
   ]
  },
  {
   "cell_type": "markdown",
   "id": "baa3da44",
   "metadata": {},
   "source": [
    "__What the S5 is saying to us__? The output of the S5 model is a matrix $\\mathbf{Y}\\in\\mathbb{R}^{d_{out}\\times{T}}$, where $d_{out}$ is the number of outputs in the S5 model (dictated by the application), and $T$ is the time length of the simulation (number of input images). \n",
    "* _What can the columns of the output matrix `Y::Array{Float64,2}` represent_? Depends. In this case, let's run each column through a $\\texttt{softmax}$ function, and then take the index of the maximum value in each column. This gives us a vector of length $T$ that we can use to decode the output of the S5 model, i.e., the digit that the S5 model is trying to tell us.\n",
    "\n",
    "Decode the output of the S5 model:"
   ]
  },
  {
   "cell_type": "code",
   "execution_count": 92,
   "id": "cd2f7fd0",
   "metadata": {},
   "outputs": [
    {
     "data": {
      "text/plain": [
       "100-element Vector{Int64}:\n",
       " 1\n",
       " 1\n",
       " 2\n",
       " 1\n",
       " 8\n",
       " 1\n",
       " 8\n",
       " 1\n",
       " 8\n",
       " 1\n",
       " 8\n",
       " 1\n",
       " 1\n",
       " ⋮\n",
       " 1\n",
       " 1\n",
       " 1\n",
       " 8\n",
       " 1\n",
       " 1\n",
       " 1\n",
       " 8\n",
       " 1\n",
       " 1\n",
       " 1\n",
       " 1"
      ]
     },
     "execution_count": 92,
     "metadata": {},
     "output_type": "execute_result"
    }
   ],
   "source": [
    "Nₐ = let\n",
    "    Y = transpose(YS5) |> Matrix;\n",
    "    (number_of_rows, number_of_cols) = size(Y);\n",
    "    number_array = Array{Int64,1}(undef, number_of_cols); # numbers we are going to decode\n",
    "\n",
    "    for i ∈ 1:number_of_cols\n",
    "        number_array[i] = NNlib.softmax(abs.(Y[:,i])) |> x-> argmax(x) |> i -> i -1; # zero based\n",
    "    end\n",
    "\n",
    "    number_array\n",
    "end"
   ]
  },
  {
   "cell_type": "markdown",
   "id": "8443db24",
   "metadata": {},
   "source": [
    "### Discussion\n",
    "1. What do the rows of the output matrix `Y::Array{Float64,2}` represent?\n",
    "2. Hmmm. Interesting. Let's brainstorm about what we could do with these models if we had more time (and could train them)."
   ]
  },
  {
   "cell_type": "markdown",
   "id": "d0a97478",
   "metadata": {},
   "source": [
    "## What's coming up next time?\n",
    "In lecture `L15c`, we'll look at [Graph Neural Networks (GNNs)](https://en.wikipedia.org/wiki/Graph_neural_network).\n",
    "* __Graph Neural Networks (GNNs)__ are another type of neural network architecture specifically designed to operate on data structured as graphs, where entities (nodes) and their relationships (edges) are represented explicitly. \n",
    "* __How are GNNs different from traditional neural networks?__ Traditional neural networks typically operate on fixed-size, grid-like data structures (e.g., images, sequences), while GNNs can handle variable-sized graphs with complex connectivity patterns. This flexibility allows GNNs to model relationships and dependencies between entities more effectively, e.g., predicting user behavior in social networks by analyzing connections"
   ]
  }
 ],
 "metadata": {
  "kernelspec": {
   "display_name": "Julia 1.11.5",
   "language": "julia",
   "name": "julia-1.11"
  },
  "language_info": {
   "file_extension": ".jl",
   "mimetype": "application/julia",
   "name": "julia",
   "version": "1.11.5"
  }
 },
 "nbformat": 4,
 "nbformat_minor": 5
}
