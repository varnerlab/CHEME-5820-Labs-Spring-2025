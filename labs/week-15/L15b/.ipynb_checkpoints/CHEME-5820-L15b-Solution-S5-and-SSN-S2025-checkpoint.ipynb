{
 "cells": [
  {
   "cell_type": "markdown",
   "id": "4b0b40ea-0b0d-4237-b28e-653a016bbe43",
   "metadata": {},
   "source": [
    "# L15b: Combining S5 and Spike Nueral Networks\n",
    "In this lab, we'll explore two alternative neural network architectures: Spike Neural Networks (SNNs) and the simplified structure state space sequence (S5) models. This is going to be a toy lab in the sense that we'll implement each of these and hook them together, but we will not (because of time) train them to do anything useful. \n",
    "\n",
    "* __Objective__: Our goal is to understand how these two models work. We'll start by using an SSN for vector embedding, and then we'll use the output of that model as input to an S5 model. The objective of the S5 model is to output a sequence of transformed digits. \n",
    "\n",
    "### Tasks\n",
    "Before we start, execute the `Run All Cells` command to check if you (or your neighbor) have any code or setup issues. Code issues, then raise your hands - and let's get those fixed!\n",
    "* __Task 1: Setup, Data, Constants (5 min)__: Let's take 5 minutes to load [the MNIST handwritten digits dataset](https://en.wikipedia.org/wiki/MNIST_database) that will serve as the input into the Spike Neural Network (SNN) model.\n",
    "* __Task 2: What is a Spiking Neural Network? (20 min)__: We will build a Spiking Neural Network (SNN) model instance in this task. The SNN model is a type of artificial neural network that is inspired by the way biological neurons communicate with each other. We'll feed in the vectorized digits from the training data, then check out the spiking patterns generated for different digits and hyperparameter choices.\n",
    "* __Task 3: Let's build an S5 model (20 min)__: In this task, we'll create a simplified structured state space sequence (S5) model instance. We'll feed in the spike patterns from our SSN and output a sequence of transformed digits using a nonlinear output transformation.\n",
    "\n",
    "Let's get started!\n",
    "___"
   ]
  },
  {
   "cell_type": "markdown",
   "id": "28e06d22",
   "metadata": {},
   "source": [
    "## Task 1: Setup, Data, Prerequisites\n",
    "We set up the computational environment by including the `Include.jl` file, loading any needed resources, such as sample datasets, and setting up any required constants. \n",
    "* The `Include.jl` file also loads external packages, various functions that we will use in the exercise, and custom types to model the components of our problem. It checks for a `Manifest.toml` file; if it finds one, packages are loaded. Other packages are downloaded and then loaded."
   ]
  },
  {
   "cell_type": "code",
   "execution_count": 1,
   "id": "0f3aa51b",
   "metadata": {},
   "outputs": [],
   "source": [
    "include(\"Include.jl\");"
   ]
  },
  {
   "cell_type": "code",
   "execution_count": 2,
   "id": "17752d75",
   "metadata": {},
   "outputs": [],
   "source": [
    "file_extension(file::String) = file[findlast(==('.'), file)+1:end]; # helper function to get the file extension"
   ]
  },
  {
   "cell_type": "markdown",
   "id": "406bb1c0",
   "metadata": {},
   "source": [
    "### Load the MNIST digits data set\n",
    "In this example, we'll use a Hopfield network to learn a single image pattern from [the MNIST handwritten digits dataset](https://en.wikipedia.org/wiki/MNIST_database). The goal is to train the network to recognize a digit, e.g., \"3\" or \"5\", etc, and then retrieve it from a noisy input.\n",
    "\n",
    "Load a training image dataset and save training data in the `training_image_dataset` variable.\n",
    "* _What's in the training dataset_? The `training_image_dataset` will be of type `Vector{Tuple{Vector{Float32}, OneHotVector{UInt32}}}` where the first element is the input data `x.` The second element is the `label,` i.e., whether the image corresponds to `0,....,9`. However, the label is encoded as a `OneHotVector` (see below).\n",
    "* _Hmmm. That's strange_. The `Vector{Tuple{Vector{Float32}, OneHotVector{UInt32}}}` type has a couple of _weird features_. First, notice that the floating point is `Float32`, not the default `Float64`. Next, the labels are [One Hot encoded](https://en.wikipedia.org/wiki/One-hot). Finally, the input data `x` is a Vector, not a Matrix (even though the original image is a matrix of `Gray` values).\n",
    "\n",
    "However, before we load the training data, let's set some constants, which we use below. The comment next to each constant describes its permissible values, units, etc."
   ]
  },
  {
   "cell_type": "code",
   "execution_count": 3,
   "id": "b0deacbc",
   "metadata": {},
   "outputs": [],
   "source": [
    "number_of_training_examples = 30; # how many training examples of *each* number to include from the library\n",
    "number_digit_array = range(0,length=10,step=1) |> collect; # numbers 0 ... 9\n",
    "number_of_rows = 28; # number of rows in the image\n",
    "number_of_cols = 28; # number of cols in the image\n",
    "number_of_pixels = number_of_rows*number_of_cols; # how many pixels do we have in the image?\n",
    "number_of_images_to_memorize = 3; # number of images that we want to encode"
   ]
  },
  {
   "cell_type": "markdown",
   "id": "c3c1c2e2",
   "metadata": {},
   "source": [
    "`Unhide` the code blocks below to see how we construct and populate the `training_image_dataset` variable. First, we load all the images into the `training_image_dictionary::Dict{Int64, Array{Gray{N0f8},3}}`, and then we'll convert these to a vector format below."
   ]
  },
  {
   "cell_type": "code",
   "execution_count": 4,
   "id": "5ec7e35a",
   "metadata": {},
   "outputs": [],
   "source": [
    "training_image_dictionary = let\n",
    "    training_image_dictionary = Dict{Int64, Array{Gray{N0f8},3}}();\n",
    "    for i ∈ number_digit_array\n",
    "        \n",
    "        # create a set for this digit -\n",
    "        image_digit_array = Array{Gray{N0f8},3}(undef, number_of_rows, number_of_cols, number_of_training_examples);\n",
    "        files = readdir(joinpath(_PATH_TO_IMAGES,\"$(i)\")); \n",
    "        imagecount = 1;\n",
    "        for fileindex ∈ 1:number_of_training_examples\n",
    "            filename = files[fileindex];\n",
    "            ext = file_extension(filename)\n",
    "            if (ext == \"jpg\")\n",
    "                image_digit_array[:,:,fileindex] = joinpath(_PATH_TO_IMAGES, \"$(i)\", filename) |> x-> FileIO.load(x);\n",
    "                imagecount += 1\n",
    "            end\n",
    "        end\n",
    "    \n",
    "        # capture -\n",
    "        training_image_dictionary[i] = image_digit_array\n",
    "    end\n",
    "    training_image_dictionary\n",
    "end;"
   ]
  },
  {
   "cell_type": "markdown",
   "id": "837fc8eb",
   "metadata": {},
   "source": [
    "Next, we take the images in array format and vectorize them. \n",
    "* _What do we mean by vectorize_? Each $N\\times{N}$ image array containing the grayscale values at each pixel is converted to an $N^{2}$ vector of values. What image class, i.e., what number it represents, is then converted to [one-hot format](https://en.wikipedia.org/wiki/One-hot). The converted data is stored in the `training_image_dataset::Vector{Tuple{Vector{Float32}, OneHotVector{UInt32}}}` variable.\n",
    "* _What's the deal with Float32_? Most neural network libraries (or other machine learning calculations) use `Float32` (or lower) to save memory because of the large number of parameters associated with the network. Additionally, model training is often carried out using specialized hardware [such as Graphical Processing Units (GPUs)](https://www.nvidia.com/en-us/data-center/h100/), which has different memory constraints."
   ]
  },
  {
   "cell_type": "code",
   "execution_count": 5,
   "id": "a2b79705",
   "metadata": {},
   "outputs": [],
   "source": [
    "training_image_dataset = let\n",
    "    training_image_dataset = Vector{Tuple{Vector{Float32}, OneHotVector{UInt32}}}()\n",
    "    for i ∈ number_digit_array\n",
    "        Y = onehot(i, number_digit_array);\n",
    "        X = training_image_dictionary[i];\n",
    "        \n",
    "        for t ∈ 1:number_of_training_examples\n",
    "            D = Array{Float32,1}(undef, number_of_pixels);\n",
    "            linearindex = 1;\n",
    "            for row ∈ 1:number_of_rows\n",
    "                for col ∈ 1:number_of_cols\n",
    "                    D[linearindex] = X[row,col,t] |> x-> convert(Float32,x);\n",
    "                    linearindex+=1;\n",
    "                end\n",
    "            end\n",
    "    \n",
    "            training_tuple = (D,Y);\n",
    "            push!(training_image_dataset,training_tuple);\n",
    "        end\n",
    "    end\n",
    "    training_image_dataset\n",
    "end;"
   ]
  },
  {
   "cell_type": "markdown",
   "id": "d745b933",
   "metadata": {},
   "source": [
    "## Task 2: What is a Spiking Neural Network?\n",
    "We will build a Spiking Neural Network (SNN) model instance in this task. The SNN model is a type of artificial neural network inspired by the way biological neurons communicate with each other. We'll feed in the vectorized digits and then check out the spiking patterns generated for different digits and hyperparameters.\n",
    "\n",
    "### Background\n",
    "The LIF model is characterized by its ability to generate spikes in response to input currents, and it incorporates a leaky membrane potential that decays over time.\n",
    "\n",
    "Let's start by setting a few constants we will use in the SNN model. The comment next to each constant describes its permissible values, units, etc."
   ]
  },
  {
   "cell_type": "code",
   "execution_count": 6,
   "id": "5b4ab1c3",
   "metadata": {},
   "outputs": [],
   "source": [
    "number_of_samples = length(training_image_dataset); # how many samples do we have?\n",
    "number_of_neurons = 2^4; # how many SSN neurons do we want? (this will be the embedding dimension)\n",
    "number_of_inputs = number_of_pixels; # how many inputs do we have? (size of the vector input)\n",
    "ν = 0.1; # Table 2: firing threshold https://arxiv.org/abs/2205.11276\n",
    "τ = 20.0; # Table 2: time constant (ms) https://arxiv.org/abs/2205.11276\n",
    "Δt = 1.0; # samping time step (ms)\n",
    "T₂ = 100; # number of time steps of length Δt (ms) to simulate (needs to be less than number_of_samples)"
   ]
  },
  {
   "cell_type": "markdown",
   "id": "26ad0a92",
   "metadata": {},
   "source": [
    "Next, we'll create an array `Z::Array{Int64,2}` that will hold the input data for the SSN. The columns of this array will hold the vectorized images, where the rows will be the pixel values transformed to $z_{ij}\\in\\{0,1\\}$ for image $j$ and pixel $i$. "
   ]
  },
  {
   "cell_type": "code",
   "execution_count": 7,
   "id": "7b4d4973",
   "metadata": {},
   "outputs": [
    {
     "data": {
      "text/plain": [
       "784×100 Matrix{Int64}:\n",
       " 0  0  0  0  0  0  0  0  0  0  0  0  0  …  0  0  0  0  0  0  0  0  0  0  0  0\n",
       " 0  0  0  0  0  0  0  0  0  0  0  0  0     0  0  0  0  0  0  0  0  0  0  0  0\n",
       " 0  0  0  0  0  0  0  0  0  0  0  0  0     0  0  0  0  0  0  0  0  0  0  0  0\n",
       " 0  0  0  0  0  0  0  0  0  0  0  0  0     0  0  0  0  0  0  0  0  0  0  0  0\n",
       " 0  0  0  0  0  0  0  0  0  0  0  0  0     0  0  0  0  0  0  0  0  0  0  0  0\n",
       " 0  0  0  0  0  0  0  0  0  0  0  0  0  …  0  0  0  0  0  0  0  0  0  0  0  0\n",
       " 0  0  0  0  0  0  0  0  0  0  0  0  0     0  0  0  0  0  0  0  0  0  0  0  0\n",
       " 0  0  0  0  0  0  0  0  0  0  0  0  0     0  0  0  0  0  0  0  0  0  0  0  0\n",
       " 0  0  0  0  0  0  0  0  0  0  0  0  0     0  0  0  0  0  0  0  0  0  0  0  0\n",
       " 0  0  0  0  0  0  0  0  0  0  0  0  0     0  0  0  0  0  0  0  0  0  0  0  0\n",
       " ⋮              ⋮              ⋮        ⋱        ⋮              ⋮           \n",
       " 0  0  0  0  0  0  0  0  0  0  0  0  0  …  0  0  0  0  0  0  0  0  0  0  0  0\n",
       " 0  0  0  0  0  0  0  0  0  0  0  0  0     0  0  0  0  0  0  0  0  0  0  0  0\n",
       " 0  0  0  0  0  0  0  0  0  0  0  0  0     0  0  0  0  0  0  0  0  0  0  0  0\n",
       " 0  0  0  0  0  0  0  0  0  0  0  0  0     0  0  0  0  0  0  0  0  0  0  0  0\n",
       " 0  0  0  0  0  0  0  0  0  0  0  0  0     0  0  0  0  0  0  0  0  0  0  0  0\n",
       " 0  0  0  0  0  0  0  0  0  0  0  0  0  …  0  0  0  0  0  0  0  0  0  0  0  0\n",
       " 0  0  0  0  0  0  0  0  0  0  0  0  0     0  0  0  0  0  0  0  0  0  0  0  0\n",
       " 0  0  0  0  0  0  0  0  0  0  0  0  0     0  0  0  0  0  0  0  0  0  0  0  0\n",
       " 0  0  0  0  0  0  0  0  0  0  0  0  0     0  0  0  0  0  0  0  0  0  0  0  0"
      ]
     },
     "metadata": {},
     "output_type": "display_data"
    }
   ],
   "source": [
    "Z = let\n",
    "\n",
    "    # initialize -\n",
    "    Z = zeros(Int, number_of_inputs, T₂); # we'll store the samples here (images on the col)\n",
    "    indexset = Set{Int64}(); # used to keep track of which samples we have already used\n",
    "    \n",
    "    # transform to {0,1}\n",
    "    for i ∈ 1:T₂\n",
    "        j = rand(1:number_of_samples); # generate a random sample index [1,....,number_of_samples]\n",
    "        if (j ∉ indexset) # if we have not already used this sample\n",
    "\n",
    "            tmp = training_image_dataset[j][1]; # grab the image\n",
    "            for k ∈ 1:number_of_pixels\n",
    "                z = tmp[k]; # grab the pixel value\n",
    "                if (z ≥ 0.5) # if the pixel value is greater than 0.5\n",
    "                    Z[k,i] = 1; # set to 1\n",
    "                else\n",
    "                    Z[k,i] = 0; # set to 0\n",
    "                end\n",
    "            end\n",
    "            push!(indexset,j); # grab the index (so we don't use it again)\n",
    "        end\n",
    "    end\n",
    "\n",
    "    Z # return \n",
    "end"
   ]
  },
  {
   "cell_type": "markdown",
   "id": "258bd06a",
   "metadata": {},
   "source": [
    "__Check__: Let's pick a column, and see what this data looks like."
   ]
  },
  {
   "cell_type": "code",
   "execution_count": 8,
   "id": "e00fb4c0",
   "metadata": {},
   "outputs": [
    {
     "data": {
      "image/png": "[encoded data removed]",
      "text/html": [
       "<img src=\"data:image/png;base64,iVBORw0KGgoAAAANSUhEUgAAAHAAAABwCAAAAADji6uXAAAAAXNSR0IArs4c6QAAAARnQU1BAACxjwv8YQUAAAAgY0hSTQAAeiYAAICEAAD6AAAAgOgAAHUwAADqYAAAOpgAABdwnLpRPAAAAPpJREFUaAW9wUlqxAAQwEA16P9f7hx8MENCxguoSmISk5jEJCYxiUlMYhKTmMQkJjGJSUxiEpOYxCQmMYlJTF5YPg3fSUxiEpMHlr8tMPxPYhKTmNy0nIbTco3EJCYxuWE5DZ8GWL6TmMQkJhctp+Fvw3cSk5jE5KbhHYlJTGISk5jEJCYXLL8th+EeiUlMYvLAclpguE5iEpOYXDDAcljekZjEJCYXDbDAcFgOwz0Sk5jE5IbhPYlJTGISk5jEJCYPLM9JTGISk5jEJCYxeWG4T2ISk5jEJCYxiUlMYhKTmMQkJjGJSUxiEpOYPDA8JzGJSUxiEpOYxH4AN9sSwYYaegUAAAAASUVORK5C\">"
      ],
      "text/plain": [
       "\u001b[0m\u001b[38;5;232;48;5;232m▀\u001b[38;5;232;48;5;232m▀\u001b[38;5;232;48;5;232m▀\u001b[38;5;232;48;5;232m▀\u001b[38;5;232;48;5;232m▀\u001b[38;5;232;48;5;232m▀\u001b[38;5;232;48;5;232m▀\u001b[38;5;232;48;5;232m▀\u001b[38;5;232;48;5;232m▀\u001b[38;5;232;48;5;232m▀\u001b[38;5;232;48;5;232m▀\u001b[38;5;232;48;5;232m▀\u001b[38;5;232;48;5;232m▀\u001b[38;5;232;48;5;232m▀\u001b[38;5;232;48;5;232m▀\u001b[38;5;232;48;5;232m▀\u001b[38;5;232;48;5;232m▀\u001b[38;5;232;48;5;232m▀\u001b[38;5;232;48;5;232m▀\u001b[38;5;232;48;5;232m▀\u001b[38;5;232;48;5;232m▀\u001b[38;5;232;48;5;232m▀\u001b[38;5;232;48;5;232m▀\u001b[38;5;232;48;5;232m▀\u001b[38;5;232;48;5;232m▀\u001b[38;5;232;48;5;232m▀\u001b[38;5;232;48;5;232m▀\u001b[38;5;232;48;5;232m▀\u001b[0m\n",
       "\u001b[0m\u001b[38;5;232;48;5;232m▀\u001b[38;5;232;48;5;232m▀\u001b[38;5;232;48;5;232m▀\u001b[38;5;232;48;5;232m▀\u001b[38;5;232;48;5;232m▀\u001b[38;5;232;48;5;232m▀\u001b[38;5;232;48;5;232m▀\u001b[38;5;232;48;5;232m▀\u001b[38;5;232;48;5;232m▀\u001b[38;5;232;48;5;232m▀\u001b[38;5;232;48;5;232m▀\u001b[38;5;232;48;5;232m▀\u001b[38;5;232;48;5;232m▀\u001b[38;5;232;48;5;232m▀\u001b[38;5;232;48;5;232m▀\u001b[38;5;232;48;5;232m▀\u001b[38;5;232;48;5;232m▀\u001b[38;5;232;48;5;232m▀\u001b[38;5;232;48;5;232m▀\u001b[38;5;232;48;5;232m▀\u001b[38;5;232;48;5;232m▀\u001b[38;5;232;48;5;232m▀\u001b[38;5;232;48;5;232m▀\u001b[38;5;232;48;5;232m▀\u001b[38;5;232;48;5;232m▀\u001b[38;5;232;48;5;232m▀\u001b[38;5;232;48;5;232m▀\u001b[38;5;232;48;5;232m▀\u001b[0m\n",
       "\u001b[0m\u001b[38;5;232;48;5;232m▀\u001b[38;5;232;48;5;232m▀\u001b[38;5;232;48;5;232m▀\u001b[38;5;232;48;5;232m▀\u001b[38;5;232;48;5;232m▀\u001b[38;5;232;48;5;232m▀\u001b[38;5;232;48;5;232m▀\u001b[38;5;232;48;5;232m▀\u001b[38;5;232;48;5;232m▀\u001b[38;5;232;48;5;232m▀\u001b[38;5;232;48;5;232m▀\u001b[38;5;232;48;5;232m▀\u001b[38;5;232;48;5;232m▀\u001b[38;5;232;48;5;232m▀\u001b[38;5;232;48;5;232m▀\u001b[38;5;232;48;5;232m▀\u001b[38;5;232;48;5;232m▀\u001b[38;5;232;48;5;232m▀\u001b[38;5;232;48;5;232m▀\u001b[38;5;232;48;5;232m▀\u001b[38;5;232;48;5;232m▀\u001b[38;5;232;48;5;232m▀\u001b[38;5;232;48;5;232m▀\u001b[38;5;232;48;5;232m▀\u001b[38;5;232;48;5;232m▀\u001b[38;5;232;48;5;232m▀\u001b[38;5;232;48;5;232m▀\u001b[38;5;232;48;5;232m▀\u001b[0m\n",
       "\u001b[0m\u001b[38;5;232;48;5;232m▀\u001b[38;5;232;48;5;232m▀\u001b[38;5;232;48;5;232m▀\u001b[38;5;232;48;5;232m▀\u001b[38;5;232;48;5;232m▀\u001b[38;5;232;48;5;232m▀\u001b[38;5;232;48;5;232m▀\u001b[38;5;232;48;5;232m▀\u001b[38;5;232;48;5;232m▀\u001b[38;5;232;48;5;232m▀\u001b[38;5;232;48;5;232m▀\u001b[38;5;232;48;5;232m▀\u001b[38;5;232;48;5;232m▀\u001b[38;5;232;48;5;255m▀\u001b[38;5;232;48;5;255m▀\u001b[38;5;255;48;5;255m▀\u001b[38;5;255;48;5;255m▀\u001b[38;5;255;48;5;255m▀\u001b[38;5;255;48;5;255m▀\u001b[38;5;232;48;5;255m▀\u001b[38;5;232;48;5;232m▀\u001b[38;5;232;48;5;232m▀\u001b[38;5;232;48;5;232m▀\u001b[38;5;232;48;5;232m▀\u001b[38;5;232;48;5;232m▀\u001b[38;5;232;48;5;232m▀\u001b[38;5;232;48;5;232m▀\u001b[38;5;232;48;5;232m▀\u001b[0m\n",
       "\u001b[0m\u001b[38;5;232;48;5;232m▀\u001b[38;5;232;48;5;232m▀\u001b[38;5;232;48;5;232m▀\u001b[38;5;232;48;5;232m▀\u001b[38;5;232;48;5;232m▀\u001b[38;5;232;48;5;232m▀\u001b[38;5;232;48;5;232m▀\u001b[38;5;232;48;5;232m▀\u001b[38;5;232;48;5;232m▀\u001b[38;5;232;48;5;232m▀\u001b[38;5;232;48;5;232m▀\u001b[38;5;232;48;5;255m▀\u001b[38;5;255;48;5;255m▀\u001b[38;5;255;48;5;255m▀\u001b[38;5;255;48;5;232m▀\u001b[38;5;232;48;5;232m▀\u001b[38;5;232;48;5;232m▀\u001b[38;5;232;48;5;232m▀\u001b[38;5;255;48;5;232m▀\u001b[38;5;255;48;5;255m▀\u001b[38;5;232;48;5;232m▀\u001b[38;5;232;48;5;232m▀\u001b[38;5;232;48;5;232m▀\u001b[38;5;232;48;5;232m▀\u001b[38;5;232;48;5;232m▀\u001b[38;5;232;48;5;232m▀\u001b[38;5;232;48;5;232m▀\u001b[38;5;232;48;5;232m▀\u001b[0m\n",
       "\u001b[0m\u001b[38;5;232;48;5;232m▀\u001b[38;5;232;48;5;232m▀\u001b[38;5;232;48;5;232m▀\u001b[38;5;232;48;5;232m▀\u001b[38;5;232;48;5;232m▀\u001b[38;5;232;48;5;232m▀\u001b[38;5;232;48;5;232m▀\u001b[38;5;232;48;5;232m▀\u001b[38;5;232;48;5;232m▀\u001b[38;5;232;48;5;232m▀\u001b[38;5;255;48;5;255m▀\u001b[38;5;255;48;5;255m▀\u001b[38;5;255;48;5;232m▀\u001b[38;5;232;48;5;232m▀\u001b[38;5;232;48;5;232m▀\u001b[38;5;232;48;5;232m▀\u001b[38;5;232;48;5;232m▀\u001b[38;5;232;48;5;232m▀\u001b[38;5;232;48;5;232m▀\u001b[38;5;232;48;5;232m▀\u001b[38;5;232;48;5;232m▀\u001b[38;5;232;48;5;232m▀\u001b[38;5;232;48;5;232m▀\u001b[38;5;232;48;5;232m▀\u001b[38;5;232;48;5;232m▀\u001b[38;5;232;48;5;232m▀\u001b[38;5;232;48;5;232m▀\u001b[38;5;232;48;5;232m▀\u001b[0m\n",
       "\u001b[0m\u001b[38;5;232;48;5;232m▀\u001b[38;5;232;48;5;232m▀\u001b[38;5;232;48;5;232m▀\u001b[38;5;232;48;5;232m▀\u001b[38;5;232;48;5;232m▀\u001b[38;5;232;48;5;232m▀\u001b[38;5;232;48;5;232m▀\u001b[38;5;232;48;5;232m▀\u001b[38;5;232;48;5;232m▀\u001b[38;5;232;48;5;255m▀\u001b[38;5;255;48;5;255m▀\u001b[38;5;255;48;5;255m▀\u001b[38;5;232;48;5;232m▀\u001b[38;5;232;48;5;232m▀\u001b[38;5;232;48;5;255m▀\u001b[38;5;232;48;5;255m▀\u001b[38;5;232;48;5;232m▀\u001b[38;5;232;48;5;232m▀\u001b[38;5;232;48;5;232m▀\u001b[38;5;232;48;5;232m▀\u001b[38;5;232;48;5;232m▀\u001b[38;5;232;48;5;232m▀\u001b[38;5;232;48;5;232m▀\u001b[38;5;232;48;5;232m▀\u001b[38;5;232;48;5;232m▀\u001b[38;5;232;48;5;232m▀\u001b[38;5;232;48;5;232m▀\u001b[38;5;232;48;5;232m▀\u001b[0m\n",
       "\u001b[0m\u001b[38;5;232;48;5;232m▀\u001b[38;5;232;48;5;232m▀\u001b[38;5;232;48;5;232m▀\u001b[38;5;232;48;5;232m▀\u001b[38;5;232;48;5;232m▀\u001b[38;5;232;48;5;232m▀\u001b[38;5;232;48;5;232m▀\u001b[38;5;232;48;5;232m▀\u001b[38;5;232;48;5;232m▀\u001b[38;5;255;48;5;232m▀\u001b[38;5;255;48;5;255m▀\u001b[38;5;255;48;5;255m▀\u001b[38;5;232;48;5;255m▀\u001b[38;5;255;48;5;255m▀\u001b[38;5;255;48;5;255m▀\u001b[38;5;255;48;5;255m▀\u001b[38;5;255;48;5;255m▀\u001b[38;5;232;48;5;232m▀\u001b[38;5;232;48;5;232m▀\u001b[38;5;232;48;5;232m▀\u001b[38;5;232;48;5;232m▀\u001b[38;5;232;48;5;232m▀\u001b[38;5;232;48;5;232m▀\u001b[38;5;232;48;5;232m▀\u001b[38;5;232;48;5;232m▀\u001b[38;5;232;48;5;232m▀\u001b[38;5;232;48;5;232m▀\u001b[38;5;232;48;5;232m▀\u001b[0m\n",
       "\u001b[0m\u001b[38;5;232;48;5;232m▀\u001b[38;5;232;48;5;232m▀\u001b[38;5;232;48;5;232m▀\u001b[38;5;232;48;5;232m▀\u001b[38;5;232;48;5;232m▀\u001b[38;5;232;48;5;232m▀\u001b[38;5;232;48;5;232m▀\u001b[38;5;232;48;5;232m▀\u001b[38;5;232;48;5;232m▀\u001b[38;5;232;48;5;232m▀\u001b[38;5;232;48;5;232m▀\u001b[38;5;255;48;5;232m▀\u001b[38;5;232;48;5;232m▀\u001b[38;5;232;48;5;232m▀\u001b[38;5;255;48;5;255m▀\u001b[38;5;255;48;5;255m▀\u001b[38;5;232;48;5;232m▀\u001b[38;5;232;48;5;232m▀\u001b[38;5;232;48;5;232m▀\u001b[38;5;232;48;5;232m▀\u001b[38;5;232;48;5;232m▀\u001b[38;5;232;48;5;232m▀\u001b[38;5;232;48;5;232m▀\u001b[38;5;232;48;5;232m▀\u001b[38;5;232;48;5;232m▀\u001b[38;5;232;48;5;232m▀\u001b[38;5;232;48;5;232m▀\u001b[38;5;232;48;5;232m▀\u001b[0m\n",
       "\u001b[0m\u001b[38;5;232;48;5;232m▀\u001b[38;5;232;48;5;232m▀\u001b[38;5;232;48;5;232m▀\u001b[38;5;232;48;5;232m▀\u001b[38;5;232;48;5;232m▀\u001b[38;5;232;48;5;232m▀\u001b[38;5;232;48;5;232m▀\u001b[38;5;232;48;5;232m▀\u001b[38;5;232;48;5;232m▀\u001b[38;5;232;48;5;232m▀\u001b[38;5;232;48;5;232m▀\u001b[38;5;232;48;5;232m▀\u001b[38;5;232;48;5;232m▀\u001b[38;5;232;48;5;255m▀\u001b[38;5;255;48;5;255m▀\u001b[38;5;255;48;5;255m▀\u001b[38;5;232;48;5;232m▀\u001b[38;5;232;48;5;232m▀\u001b[38;5;232;48;5;232m▀\u001b[38;5;232;48;5;232m▀\u001b[38;5;232;48;5;232m▀\u001b[38;5;232;48;5;232m▀\u001b[38;5;232;48;5;232m▀\u001b[38;5;232;48;5;232m▀\u001b[38;5;232;48;5;232m▀\u001b[38;5;232;48;5;232m▀\u001b[38;5;232;48;5;232m▀\u001b[38;5;232;48;5;232m▀\u001b[0m\n",
       "\u001b[0m\u001b[38;5;232;48;5;232m▀\u001b[38;5;232;48;5;232m▀\u001b[38;5;232;48;5;232m▀\u001b[38;5;232;48;5;232m▀\u001b[38;5;232;48;5;232m▀\u001b[38;5;232;48;5;232m▀\u001b[38;5;232;48;5;232m▀\u001b[38;5;232;48;5;232m▀\u001b[38;5;232;48;5;232m▀\u001b[38;5;232;48;5;232m▀\u001b[38;5;232;48;5;232m▀\u001b[38;5;232;48;5;232m▀\u001b[38;5;232;48;5;232m▀\u001b[38;5;255;48;5;255m▀\u001b[38;5;255;48;5;255m▀\u001b[38;5;255;48;5;232m▀\u001b[38;5;232;48;5;232m▀\u001b[38;5;232;48;5;232m▀\u001b[38;5;232;48;5;232m▀\u001b[38;5;232;48;5;232m▀\u001b[38;5;232;48;5;232m▀\u001b[38;5;232;48;5;232m▀\u001b[38;5;232;48;5;232m▀\u001b[38;5;232;48;5;232m▀\u001b[38;5;232;48;5;232m▀\u001b[38;5;232;48;5;232m▀\u001b[38;5;232;48;5;232m▀\u001b[38;5;232;48;5;232m▀\u001b[0m\n",
       "\u001b[0m\u001b[38;5;232;48;5;232m▀\u001b[38;5;232;48;5;232m▀\u001b[38;5;232;48;5;232m▀\u001b[38;5;232;48;5;232m▀\u001b[38;5;232;48;5;232m▀\u001b[38;5;232;48;5;232m▀\u001b[38;5;232;48;5;232m▀\u001b[38;5;232;48;5;232m▀\u001b[38;5;232;48;5;232m▀\u001b[38;5;232;48;5;232m▀\u001b[38;5;232;48;5;232m▀\u001b[38;5;232;48;5;232m▀\u001b[38;5;232;48;5;232m▀\u001b[38;5;255;48;5;255m▀\u001b[38;5;255;48;5;255m▀\u001b[38;5;232;48;5;232m▀\u001b[38;5;232;48;5;232m▀\u001b[38;5;232;48;5;232m▀\u001b[38;5;232;48;5;232m▀\u001b[38;5;232;48;5;232m▀\u001b[38;5;232;48;5;232m▀\u001b[38;5;232;48;5;232m▀\u001b[38;5;232;48;5;232m▀\u001b[38;5;232;48;5;232m▀\u001b[38;5;232;48;5;232m▀\u001b[38;5;232;48;5;232m▀\u001b[38;5;232;48;5;232m▀\u001b[38;5;232;48;5;232m▀\u001b[0m\n",
       "\u001b[0m\u001b[38;5;232;48;5;232m▀\u001b[38;5;232;48;5;232m▀\u001b[38;5;232;48;5;232m▀\u001b[38;5;232;48;5;232m▀\u001b[38;5;232;48;5;232m▀\u001b[38;5;232;48;5;232m▀\u001b[38;5;232;48;5;232m▀\u001b[38;5;232;48;5;232m▀\u001b[38;5;232;48;5;232m▀\u001b[38;5;232;48;5;232m▀\u001b[38;5;232;48;5;232m▀\u001b[38;5;232;48;5;232m▀\u001b[38;5;232;48;5;232m▀\u001b[38;5;255;48;5;255m▀\u001b[38;5;255;48;5;255m▀\u001b[38;5;232;48;5;232m▀\u001b[38;5;232;48;5;232m▀\u001b[38;5;232;48;5;232m▀\u001b[38;5;232;48;5;232m▀\u001b[38;5;232;48;5;232m▀\u001b[38;5;232;48;5;232m▀\u001b[38;5;232;48;5;232m▀\u001b[38;5;232;48;5;232m▀\u001b[38;5;232;48;5;232m▀\u001b[38;5;232;48;5;232m▀\u001b[38;5;232;48;5;232m▀\u001b[38;5;232;48;5;232m▀\u001b[38;5;232;48;5;232m▀\u001b[0m\n",
       "\u001b[0m\u001b[38;5;232;48;5;232m▀\u001b[38;5;232;48;5;232m▀\u001b[38;5;232;48;5;232m▀\u001b[38;5;232;48;5;232m▀\u001b[38;5;232;48;5;232m▀\u001b[38;5;232;48;5;232m▀\u001b[38;5;232;48;5;232m▀\u001b[38;5;232;48;5;232m▀\u001b[38;5;232;48;5;232m▀\u001b[38;5;232;48;5;232m▀\u001b[38;5;232;48;5;232m▀\u001b[38;5;232;48;5;232m▀\u001b[38;5;232;48;5;232m▀\u001b[38;5;232;48;5;232m▀\u001b[38;5;232;48;5;232m▀\u001b[38;5;232;48;5;232m▀\u001b[38;5;232;48;5;232m▀\u001b[38;5;232;48;5;232m▀\u001b[38;5;232;48;5;232m▀\u001b[38;5;232;48;5;232m▀\u001b[38;5;232;48;5;232m▀\u001b[38;5;232;48;5;232m▀\u001b[38;5;232;48;5;232m▀\u001b[38;5;232;48;5;232m▀\u001b[38;5;232;48;5;232m▀\u001b[38;5;232;48;5;232m▀\u001b[38;5;232;48;5;232m▀\u001b[38;5;232;48;5;232m▀\u001b[0m\n"
      ]
     },
     "metadata": {},
     "output_type": "display_data"
    }
   ],
   "source": [
    "let\n",
    "    index_to_look_at = 82; # which image to look at?\n",
    "    img = Z[:,index_to_look_at] |> x-> reshape(x, number_of_rows, number_of_cols) |> transpose |> Matrix; # Magic? No just the majesty of Julia\n",
    "    Gray.(img) # convert to a gray image\n",
    "end"
   ]
  },
  {
   "cell_type": "markdown",
   "id": "655b000c",
   "metadata": {},
   "source": [
    "What does the entire $\\mathbf{Z}$ matrix look like? "
   ]
  },
  {
   "cell_type": "code",
   "execution_count": 9,
   "id": "1166ab56",
   "metadata": {},
   "outputs": [
    {
     "data": {
      "image/png": "[encoded data removed]",
      "text/html": [
       "<img src=\"data:image/png;base64,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\">"
      ],
      "text/plain": [
       "\u001b[0m\u001b[38;5;232;48;5;232m▀\u001b[38;5;232;48;5;232m▀\u001b[38;5;232;48;5;232m▀\u001b[38;5;232;48;5;232m▀\u001b[38;5;232;48;5;232m▀\u001b[0m\n",
       "\u001b[0m\u001b[38;5;232;48;5;232m▀\u001b[38;5;232;48;5;232m▀\u001b[38;5;232;48;5;232m▀\u001b[38;5;232;48;5;232m▀\u001b[38;5;232;48;5;232m▀\u001b[0m\n",
       "\u001b[0m\u001b[38;5;232;48;5;232m▀\u001b[38;5;233;48;5;234m▀\u001b[38;5;233;48;5;234m▀\u001b[38;5;232;48;5;233m▀\u001b[38;5;232;48;5;232m▀\u001b[0m\n",
       "\u001b[0m\u001b[38;5;232;48;5;233m▀\u001b[38;5;236;48;5;237m▀\u001b[38;5;235;48;5;237m▀\u001b[38;5;234;48;5;236m▀\u001b[38;5;232;48;5;232m▀\u001b[0m\n",
       "\u001b[0m\u001b[38;5;233;48;5;233m▀\u001b[38;5;237;48;5;236m▀\u001b[38;5;237;48;5;236m▀\u001b[38;5;236;48;5;236m▀\u001b[38;5;233;48;5;232m▀\u001b[0m\n",
       "\u001b[0m\u001b[38;5;232;48;5;232m▀\u001b[38;5;235;48;5;235m▀\u001b[38;5;236;48;5;236m▀\u001b[38;5;235;48;5;235m▀\u001b[38;5;232;48;5;232m▀\u001b[0m\n",
       "\u001b[0m\u001b[38;5;232;48;5;232m▀\u001b[38;5;236;48;5;236m▀\u001b[38;5;236;48;5;237m▀\u001b[38;5;235;48;5;235m▀\u001b[38;5;232;48;5;232m▀\u001b[0m\n",
       "\u001b[0m\u001b[38;5;232;48;5;232m▀\u001b[38;5;236;48;5;235m▀\u001b[38;5;237;48;5;236m▀\u001b[38;5;236;48;5;235m▀\u001b[38;5;232;48;5;232m▀\u001b[0m\n",
       "\u001b[0m\u001b[38;5;232;48;5;232m▀\u001b[38;5;235;48;5;235m▀\u001b[38;5;236;48;5;236m▀\u001b[38;5;235;48;5;235m▀\u001b[38;5;232;48;5;232m▀\u001b[0m\n",
       "\u001b[0m\u001b[38;5;232;48;5;232m▀\u001b[38;5;236;48;5;236m▀\u001b[38;5;236;48;5;236m▀\u001b[38;5;235;48;5;235m▀\u001b[38;5;232;48;5;232m▀\u001b[0m\n",
       "\u001b[0m\u001b[38;5;233;48;5;232m▀\u001b[38;5;236;48;5;234m▀\u001b[38;5;235;48;5;234m▀\u001b[38;5;234;48;5;234m▀\u001b[38;5;232;48;5;232m▀\u001b[0m\n",
       "\u001b[0m\u001b[38;5;232;48;5;232m▀\u001b[38;5;233;48;5;232m▀\u001b[38;5;233;48;5;232m▀\u001b[38;5;233;48;5;232m▀\u001b[38;5;232;48;5;232m▀\u001b[0m\n",
       "\u001b[0m\u001b[38;5;232;48;5;232m▀\u001b[38;5;232;48;5;232m▀\u001b[38;5;232;48;5;232m▀\u001b[38;5;232;48;5;232m▀\u001b[38;5;232;48;5;232m▀\u001b[0m\n"
      ]
     },
     "metadata": {},
     "output_type": "display_data"
    }
   ],
   "source": [
    "Gray.(Z)"
   ]
  },
  {
   "cell_type": "markdown",
   "id": "cb209bcd",
   "metadata": {},
   "source": [
    "__Build an SSN model instance__: We model an SSN using [the `MyLIFSpikingNeuralNetworkModel` type](src/Types.jl#L5). The [`MyLIFSpikingNeuralNetworkModel` type](src/Types.jl) implements the [Leaky Integrate-and-Fire (LIF) neuron model](https://www.nature.com/articles/s41598-017-07418-y), which is a simple and widely used model for spiking neurons. \n",
    "\n",
    "We construct this type [using a `build(...)` method](src/Factory.jl); we pass in the type of thing we want to build and the data required to build it. We get back a model (populated) model instance. We save the SSN model instance in the `ssnmodel::MyLIFSpikingNeuralNetworkModel` variable."
   ]
  },
  {
   "cell_type": "code",
   "execution_count": 10,
   "id": "ba726710",
   "metadata": {},
   "outputs": [],
   "source": [
    "ssnmodel = let\n",
    "\n",
    "    # build model -\n",
    "    model = build(MyLIFSpikingNeuralNetworkModel, (\n",
    "        Δt = Δt, # time step (ms)\n",
    "        τ = τ, # time constant (ms)\n",
    "        ν = ν, # firing threshold\n",
    "        number_of_nodes = number_of_neurons, # number of neurons\n",
    "        number_of_inputs = number_of_inputs, # number of inputs\n",
    "    ));\n",
    "\n",
    "    model;\n",
    "end;"
   ]
  },
  {
   "cell_type": "markdown",
   "id": "c751c2bb",
   "metadata": {},
   "source": [
    "Not that we have a populated `ssnmodel::MyLIFSpikingNeuralNetworkModel` model, we can run the model forward in time and generate the spiking patterns for our system. We do this [using the `solvesnn(...)` method](src/Compute.jl). \n",
    "* _Arguments_: We pass in the model instance, the input data array (images in the columns), and the length of spike pattern we want to generate (optional arguement with default `100 ms`), and the refractory period parameter $\\Delta_{r}$, which has a dfualt value of `3 ms`. The [`solvesnn(...)` method](src/Compute.jl) returns a time vector `T::Array{Float64,1}`, the membrane voltage array `V::Array{Float64,2}` array and a spike pattern array `s::Array{Float64,2}`. "
   ]
  },
  {
   "cell_type": "code",
   "execution_count": 11,
   "id": "bb453221",
   "metadata": {},
   "outputs": [],
   "source": [
    "(T,V,s) = let\n",
    "\n",
    "    # set the initial conditions for the spikes\n",
    "    sₒ = zeros(Int, number_of_neurons); # initial conditions for the spikes\n",
    "    (T,V,s) = solvessn(ssnmodel, Z, T = 100, Δᵣ = 2, sₒ = sₒ);\n",
    "\n",
    "    (T,V,s) # return the time, voltage, and spikes\n",
    "end;\n"
   ]
  },
  {
   "cell_type": "markdown",
   "id": "d947b6cc",
   "metadata": {},
   "source": [
    "__What gets generated?__ Let's look at the spike pattern generated by the SSN model. The rows of the spike matrix `s::Array{Float64,2}` denote the input image index, while the columns denote the spike state for each neuron in the network. The values in the spike matrix are either `0` (no spike) or `1` (spike)."
   ]
  },
  {
   "cell_type": "code",
   "execution_count": 12,
   "id": "4359710f",
   "metadata": {},
   "outputs": [
    {
     "data": {
      "text/plain": [
       "100×16 Matrix{Float64}:\n",
       " 0.0  1.0  0.0  0.0  0.0  0.0  0.0  1.0  …  0.0  1.0  0.0  0.0  0.0  0.0  0.0\n",
       " 0.0  0.0  0.0  0.0  0.0  1.0  1.0  0.0     0.0  0.0  0.0  0.0  0.0  0.0  0.0\n",
       " 0.0  0.0  0.0  0.0  0.0  0.0  0.0  0.0     1.0  0.0  0.0  0.0  0.0  0.0  0.0\n",
       " 0.0  0.0  1.0  1.0  0.0  0.0  0.0  0.0     0.0  0.0  0.0  0.0  0.0  0.0  0.0\n",
       " 1.0  0.0  0.0  0.0  1.0  0.0  0.0  0.0     0.0  0.0  0.0  0.0  1.0  0.0  1.0\n",
       " 0.0  0.0  0.0  0.0  0.0  0.0  0.0  0.0  …  0.0  0.0  1.0  1.0  0.0  1.0  0.0\n",
       " 0.0  1.0  0.0  0.0  0.0  1.0  1.0  1.0     0.0  1.0  0.0  0.0  0.0  0.0  0.0\n",
       " 0.0  0.0  1.0  1.0  0.0  0.0  0.0  0.0     1.0  0.0  0.0  0.0  0.0  0.0  1.0\n",
       " 1.0  0.0  0.0  0.0  1.0  0.0  0.0  0.0     0.0  0.0  1.0  1.0  1.0  1.0  0.0\n",
       " 0.0  1.0  0.0  0.0  0.0  1.0  0.0  1.0     0.0  1.0  0.0  0.0  0.0  0.0  0.0\n",
       " ⋮                        ⋮              ⋱       ⋮                        ⋮\n",
       " 1.0  0.0  0.0  0.0  1.0  0.0  0.0  1.0     0.0  0.0  0.0  1.0  0.0  0.0  0.0\n",
       " 0.0  0.0  0.0  0.0  0.0  0.0  0.0  0.0     0.0  0.0  0.0  0.0  0.0  0.0  1.0\n",
       " 0.0  1.0  0.0  0.0  0.0  1.0  0.0  0.0     0.0  0.0  0.0  0.0  1.0  0.0  0.0\n",
       " 0.0  0.0  0.0  0.0  0.0  0.0  0.0  0.0     0.0  0.0  0.0  0.0  0.0  0.0  0.0\n",
       " 0.0  0.0  1.0  1.0  0.0  0.0  1.0  0.0  …  1.0  0.0  1.0  0.0  0.0  1.0  0.0\n",
       " 0.0  0.0  0.0  0.0  1.0  0.0  0.0  1.0     0.0  1.0  0.0  0.0  0.0  0.0  0.0\n",
       " 1.0  0.0  0.0  0.0  0.0  0.0  0.0  0.0     0.0  0.0  0.0  1.0  0.0  0.0  1.0\n",
       " 0.0  0.0  0.0  0.0  0.0  0.0  0.0  0.0     0.0  0.0  0.0  0.0  0.0  0.0  0.0\n",
       " 0.0  0.0  0.0  0.0  0.0  0.0  0.0  0.0     0.0  0.0  0.0  0.0  0.0  0.0  0.0"
      ]
     },
     "metadata": {},
     "output_type": "display_data"
    }
   ],
   "source": [
    "s"
   ]
  },
  {
   "cell_type": "code",
   "execution_count": 13,
   "id": "6eeacbdc",
   "metadata": {},
   "outputs": [
    {
     "data": {
      "image/png": "[encoded data removed]",
      "text/html": [
       "<img src=\"data:image/png;base64,iVBORw0KGgoAAAANSUhEUgAAADAAAAEsCAAAAACgCm8PAAAAAXNSR0IArs4c6QAAAARnQU1BAACxjwv8YQUAAAAgY0hSTQAAeiYAAICEAAD6AAAAgOgAAHUwAADqYAAAOpgAABdwnLpRPAAABEhJREFUaAWVwQGOHIkNBDAWUP//sgIt2mjPZu4SkcUQH4ZYQ3yoozoq4jVWPOK3Oqqj+hSvIX6rozqqH2PFh/iijuqoQ4g1xGOI1xCGOqqjxite8RgrDKGO6qgY4jEesYZ4xKqjOirCWCFeQ3wY6qiOOoRYQzyGWOMV6qiOGoZYYQhDrCE+1FEdFbGGEIZYQ3wY6qiO6scQhhBriN9CHdVRhxArXvEa4lFHddT4N2OFsUId1VExxGMIQ6x4xKOO6qiIVxhiDfFbHdVR/Zd4xG9DHdVR/RiPeAzxW6ijOupY8WGINT6EOqqjxoexYg3xYaijOqpP8YrfQh3VUf0Yj3gM8UUd1VHHiscQhljjFauO6qjxIQyxhngNoY7qqP4YK8QjPoShjuqofgzxYYjfQh3VUceKxxAr1njFqqM6anwIY4UhXkOoozqq/xKP+BCrjuqo/jLEvxnqqI7qx1jxGsIQr1BHddSx4jHEihXGikcd1VHjQxgrDCHWEKuO6qj+GCvEGuIVxqqjOup4xBpixRqPEKuO6qjxIYwVhngMseqojuovQ4g1xCuMVUd1VH8M8Yo1xCNWHdVRxyPWEK8wVjzqqI4aryGMFYYQawhDHdVR/SVWrCFeYQh1VEf1xxCvWEM8YtVRHXU8wnjEGsJY8aijOmq84jGEWPEa6qiO6pswxGusUEd1VD/GilesIVY86qiOOlas8Yg1hLFiDXVUR41XPIYQK16hjuqovglDvMYKdVRH9Q9iDbHiUUd1VH8M8Vv8Vkd1VIwVxiPWEMaKRx3VUYd4xGMIseI11FEdNb4IQ/wW6qiO6h/EGmKNFeqojuqPIX6LRzzqqI7qj/i/1FEdFWOF8Yg1hCEeQx3VUYd4xIdYYYgV6qiOGl+MFY941VEd1TfxGGINseqojupfxSMMoY7qqP5vseqojuqPseJ/qKM6KsaKNVasIQzxGOqojjrEK9ZYscIQK9RRHTW+iMcQwhCrjuqo/jLEh3iEIdRRHRXjEcaKNcQrDHVUR0W84hVriEeoozrqEL+NFYYwxKOO6qjxRTxihSFWHdVRMYTxiC/CWHVUR0UY4jHEGsIQK1Yd1VGHEK8wVhjCEI86qqPGF/GIFa86qqP6yxDfDbHqqI7qL/GP4lFHdVQMYQhDfDdWHdVREYZYYQhjhSFWrDqqow4hXmGINYQhHnVUR40v4hErXnVUR8UQa6z4YghDHdVREcaKNYSxwhDCEOqojupHvGLFGuIRq47qqEM8hlhDrFhDPOqojhqveMSHMIShjuqoGOIxxBexQh3VURHGCmEIY4Uh1hDqqI7qR7xixSMeseqojupfDfGhjuqoQzyGWEOsWEM86qiOGq94xId4DHVUR8UQjyG+GEKoozoq4hXfxaOO6qh+jBVrCGOFIdYQ6qiO6kesIYQh1hCPWHVURx3iEY94xBpiDXVUR43/LR6hjuqojuqojv4Dho/2T19tXioAAAAASUVORK5C\">"
      ],
      "text/plain": [
       "\u001b[0m\u001b[38;5;232;48;5;234m▀\u001b[38;5;233;48;5;237m▀\u001b[38;5;235;48;5;236m▀\u001b[38;5;233;48;5;236m▀\u001b[38;5;232;48;5;234m▀\u001b[0m\n",
       "\u001b[0m\u001b[38;5;235;48;5;234m▀\u001b[38;5;239;48;5;237m▀\u001b[38;5;239;48;5;237m▀\u001b[38;5;239;48;5;237m▀\u001b[38;5;235;48;5;234m▀\u001b[0m\n",
       "\u001b[0m\u001b[38;5;234;48;5;235m▀\u001b[38;5;236;48;5;238m▀\u001b[38;5;237;48;5;238m▀\u001b[38;5;236;48;5;238m▀\u001b[38;5;234;48;5;234m▀\u001b[0m\n",
       "\u001b[0m\u001b[38;5;235;48;5;234m▀\u001b[38;5;238;48;5;236m▀\u001b[38;5;237;48;5;237m▀\u001b[38;5;238;48;5;236m▀\u001b[38;5;234;48;5;234m▀\u001b[0m\n",
       "\u001b[0m\u001b[38;5;235;48;5;235m▀\u001b[38;5;239;48;5;238m▀\u001b[38;5;238;48;5;239m▀\u001b[38;5;238;48;5;238m▀\u001b[38;5;234;48;5;235m▀\u001b[0m\n",
       "\u001b[0m\u001b[38;5;235;48;5;235m▀\u001b[38;5;238;48;5;238m▀\u001b[38;5;238;48;5;238m▀\u001b[38;5;238;48;5;238m▀\u001b[38;5;235;48;5;235m▀\u001b[0m\n",
       "\u001b[0m\u001b[38;5;234;48;5;234m▀\u001b[38;5;236;48;5;237m▀\u001b[38;5;237;48;5;237m▀\u001b[38;5;237;48;5;236m▀\u001b[38;5;234;48;5;234m▀\u001b[0m\n",
       "\u001b[0m\u001b[38;5;233;48;5;233m▀\u001b[38;5;236;48;5;234m▀\u001b[38;5;235;48;5;236m▀\u001b[38;5;235;48;5;235m▀\u001b[38;5;234;48;5;233m▀\u001b[0m\n",
       "\u001b[0m\u001b[38;5;234;48;5;234m▀\u001b[38;5;237;48;5;237m▀\u001b[38;5;236;48;5;237m▀\u001b[38;5;236;48;5;237m▀\u001b[38;5;234;48;5;234m▀\u001b[0m\n",
       "\u001b[0m\u001b[38;5;234;48;5;233m▀\u001b[38;5;237;48;5;235m▀\u001b[38;5;237;48;5;235m▀\u001b[38;5;237;48;5;235m▀\u001b[38;5;234;48;5;233m▀\u001b[0m\n",
       "\u001b[0m\u001b[38;5;234;48;5;234m▀\u001b[38;5;237;48;5;237m▀\u001b[38;5;237;48;5;237m▀\u001b[38;5;237;48;5;237m▀\u001b[38;5;234;48;5;234m▀\u001b[0m\n",
       "\u001b[0m\u001b[38;5;234;48;5;234m▀\u001b[38;5;236;48;5;235m▀\u001b[38;5;236;48;5;234m▀\u001b[38;5;236;48;5;235m▀\u001b[38;5;234;48;5;233m▀\u001b[0m\n",
       "\u001b[0m\u001b[38;5;233;48;5;232m▀\u001b[38;5;236;48;5;232m▀\u001b[38;5;237;48;5;232m▀\u001b[38;5;236;48;5;232m▀\u001b[38;5;234;48;5;232m▀\u001b[0m\n"
      ]
     },
     "metadata": {},
     "output_type": "display_data"
    }
   ],
   "source": [
    "Gray.(s)"
   ]
  },
  {
   "cell_type": "markdown",
   "id": "dcacf04a",
   "metadata": {},
   "source": [
    "#### Discussion\n",
    "1. What do the rows of the spike matrix `s::Array{Float64,2}` represent?\n",
    "2. What happens if we change the refractory period parameter $\\Delta_{r}$?"
   ]
  },
  {
   "cell_type": "markdown",
   "id": "4588116d",
   "metadata": {},
   "source": [
    "## Task 3: Let's build an S5 model \n",
    "In this task, we'll build a simplified structured state space sequence (S5) model instance. We'll feed in the spike patterns from our SSN and output a sequence of transformed digits by including a nonlinear transformation of the output.\n",
    "\n",
    "First, let's build an [an instance of the `MyS5Model` type](src/Types.jl#L5). The [`MyS5Model` type](src/Types.jl) is constructed using [a custom `build(...)` method](src/Factory.jl). In the [`build(...)` method](src/Factory.jl), we pass in the type we want to build, and the data required to build it. We get back a model (populated) model instance. \n",
    "\n",
    "Normaally, our build methods don't do much, but in this case we construct all the system matriciesm, diaganolize them, and compute the requyired discete system matricies. We save the S5 model instance in the `s5model::MyS5Model` variable."
   ]
  },
  {
   "cell_type": "code",
   "execution_count": 14,
   "id": "04b34023",
   "metadata": {},
   "outputs": [],
   "source": [
    "s5model = let\n",
    "\n",
    "    # initialize -\n",
    "    number_of_hidden_states = 2^4; # number of hidden states\n",
    "    number_of_inputs = number_of_neurons; # number of inputs\n",
    "    number_of_outputs = 10; # number of outputs: the number of numbers we want to classify\n",
    "    Δt = 2.0; # adjust for stability\n",
    "\n",
    "    # build model -\n",
    "    model = build(MyS5Model, (\n",
    "        Δt = Δt, # time step (ms)\n",
    "        number_of_hidden_states = number_of_hidden_states, # number of hidden states\n",
    "        number_of_inputs = number_of_inputs, # number of inputs\n",
    "        number_of_outputs = number_of_outputs, # the number of outputs\n",
    "    ));\n",
    "\n",
    "    model;\n",
    "end;"
   ]
  },
  {
   "cell_type": "markdown",
   "id": "4312c353",
   "metadata": {},
   "source": [
    "__Solve the S5 model__: Now that we have a populated `s5model::MyS5Model` model, we can run the model forward in time and generate the output for our system. We do this [using the `solve(...)` method](src/Compute.jl).\n",
    "* _Arguments_: We pass in the model instance, the input data array (spike patterns in the columns), and the time upper bound $[0,T]$. The [`solve(...)` method](src/Compute.jl) returns a time vector `T::Array{Float64,1}`, the hidden state array `H::Array{Float64,2}` array, the output array `Y::Array{Float64,2}` and the output spike pattern array `U::Array{Float64,2}` (which is the transpose of the spike pattern matrix `s::Array{Float64,2}` from the SSN model).\n",
    "\n",
    "Run the S5 model:"
   ]
  },
  {
   "cell_type": "code",
   "execution_count": 15,
   "id": "80a58f8f",
   "metadata": {},
   "outputs": [],
   "source": [
    "(TS5,HS5,YS5, U) = let\n",
    "    \n",
    "    U = s |> s-> transpose(s) |> Matrix; # formulate the input (transposed spike patterns)\n",
    "    (TS5,HS5,YS5) = solve(s5model,U,100); # solve the S5 model -\n",
    "\n",
    "    TS5, HS5, YS5, U # return the time, hidden states, output and the input\n",
    "end;"
   ]
  },
  {
   "cell_type": "markdown",
   "id": "55ebfeb8",
   "metadata": {},
   "source": [
    "What do we put into the S5 model?"
   ]
  },
  {
   "cell_type": "code",
   "execution_count": 16,
   "id": "17ee349a",
   "metadata": {},
   "outputs": [
    {
     "data": {
      "image/png": "[encoded data removed]",
      "text/html": [
       "<img src=\"data:image/png;base64,iVBORw0KGgoAAAANSUhEUgAAASwAAAAwCAAAAACOdRj9AAAAAXNSR0IArs4c6QAAAARnQU1BAACxjwv8YQUAAAAgY0hSTQAAeiYAAICEAAD6AAAAgOgAAHUwAADqYAAAOpgAABdwnLpRPAAAAttJREFUaAXtwVGOHccRBMBIoO9/5TTKKKH5FkthSFH2z0QcPyixSqwSH0qsEqvEVWKUWCVWiVXiQ4kPJb4qcZVYJT6UuEp8KPGhxDhejx2vx06JFaOEUGLEKPG/U+JDia9KrBJilBBXCTFKjBglVowSK9bxeux4PXZilRihhBglRqwSq8QqcZV4qsSfFEpcocQIJVYoccUocR2vx47XY8ffKvFIie+VWCVWie+VuEqIr0p8r8SHEv/I8XrseD12/CWUGKGEUOKXlfiqxCghlBihxAolVowSP1XieyXEVWKUGLFKrFBiHa/HjtdjByVGjBJCCbFKjBglhBJilBgxSgglxCjxZ4QSI5T4RowSX8UosWKUGHEdr8eO12PHz4USK5T4KpQYocQKJYQSI5T4d4USVygxQokVSlwxSlzH67Hj9dgp8b0SV4lVYpX4TaHECCVWKHHFKHGFEiNGiRFKXKHEiFFixCqxQol1vB47Xo+duEqIUWKUGLFKrBKrhFglhBJCiRFKjFBihBIrlPhjSqwSYpUYcZW4jtdjx+ux479KiFVilLhKiFFCjBJilBgxSowSq8QoIUYJsUqIq4T4UGKVEKvEn3S8Hjtej50S4ioxSqwSYpVYJVaJVUKMEqOEGCVWiVVCrBIjVokVo4QYJUYocYUSI5RYMUpcocQ6Xo8dr8dOfCgxSvwjocSHUGKEEiOUGDFKjFglRlwlxCqxSnwosUpcJcSHEtfxeux4PXY8UOL/L5T4EEqsUGKEElcoMWKUGLFKrBglxvF67Hg9dvygxDdCiV8WSgglRigxYpQQo8SIVWLFKHGFEiuUGDFKrBglRihxxSixYh2vx47XY8cPQolfE0qMUOIKJYQSI5T4TaHEFUqsUGLFKLFCiRGjxBWjxHW8Hjtejx0/KDFKjBIjVgmhxAolRowSP1VilRglxFVCrBIrVokRSjxSYpUQV4kRo8Q4Xo8dr8f+AyJi8l8sKrr0AAAAAElFTkSuQmCC\">"
      ],
      "text/plain": [
       "\u001b[0m\u001b[38;5;233;48;5;235m▀\u001b[38;5;232;48;5;234m▀\u001b[38;5;235;48;5;237m▀\u001b[38;5;234;48;5;237m▀\u001b[38;5;236;48;5;240m▀\u001b[38;5;234;48;5;238m▀\u001b[38;5;235;48;5;237m▀\u001b[38;5;234;48;5;235m▀\u001b[38;5;232;48;5;234m▀\u001b[38;5;236;48;5;241m▀\u001b[38;5;233;48;5;235m▀\u001b[38;5;236;48;5;241m▀\u001b[38;5;233;48;5;235m▀\u001b[38;5;236;48;5;240m▀\u001b[38;5;233;48;5;233m▀\u001b[38;5;233;48;5;238m▀\u001b[38;5;236;48;5;238m▀\u001b[38;5;236;48;5;241m▀\u001b[38;5;233;48;5;235m▀\u001b[38;5;236;48;5;241m▀\u001b[38;5;233;48;5;235m▀\u001b[38;5;236;48;5;241m▀\u001b[38;5;233;48;5;236m▀\u001b[38;5;236;48;5;241m▀\u001b[38;5;233;48;5;233m▀\u001b[38;5;232;48;5;235m▀\u001b[38;5;236;48;5;240m▀\u001b[38;5;233;48;5;232m▀\u001b[38;5;232;48;5;235m▀\u001b[38;5;236;48;5;240m▀\u001b[38;5;233;48;5;232m▀\u001b[38;5;232;48;5;232m▀\u001b[38;5;234;48;5;240m▀\u001b[38;5;235;48;5;235m▀\u001b[38;5;233;48;5;240m▀\u001b[38;5;235;48;5;235m▀\u001b[38;5;234;48;5;238m▀\u001b[38;5;235;48;5;238m▀\u001b[38;5;233;48;5;232m▀\u001b[38;5;233;48;5;237m▀\u001b[38;5;235;48;5;238m▀\u001b[38;5;234;48;5;237m▀\u001b[38;5;233;48;5;238m▀\u001b[38;5;235;48;5;234m▀\u001b[38;5;233;48;5;240m▀\u001b[38;5;233;48;5;233m▀\u001b[38;5;235;48;5;234m▀\u001b[38;5;233;48;5;237m▀\u001b[38;5;233;48;5;237m▀\u001b[38;5;235;48;5;233m▀\u001b[38;5;232;48;5;232m▀\u001b[0m\n",
       "\u001b[0m\u001b[38;5;232;48;5;235m▀\u001b[38;5;234;48;5;239m▀\u001b[38;5;240;48;5;233m▀\u001b[38;5;235;48;5;240m▀\u001b[38;5;240;48;5;237m▀\u001b[38;5;239;48;5;240m▀\u001b[38;5;237;48;5;234m▀\u001b[38;5;233;48;5;237m▀\u001b[38;5;235;48;5;237m▀\u001b[38;5;240;48;5;236m▀\u001b[38;5;235;48;5;239m▀\u001b[38;5;241;48;5;239m▀\u001b[38;5;239;48;5;238m▀\u001b[38;5;236;48;5;237m▀\u001b[38;5;233;48;5;238m▀\u001b[38;5;240;48;5;234m▀\u001b[38;5;237;48;5;240m▀\u001b[38;5;241;48;5;239m▀\u001b[38;5;237;48;5;239m▀\u001b[38;5;240;48;5;237m▀\u001b[38;5;237;48;5;239m▀\u001b[38;5;241;48;5;240m▀\u001b[38;5;235;48;5;235m▀\u001b[38;5;241;48;5;240m▀\u001b[38;5;233;48;5;235m▀\u001b[38;5;237;48;5;234m▀\u001b[38;5;239;48;5;241m▀\u001b[38;5;233;48;5;232m▀\u001b[38;5;237;48;5;234m▀\u001b[38;5;237;48;5;240m▀\u001b[38;5;232;48;5;233m▀\u001b[38;5;234;48;5;232m▀\u001b[38;5;241;48;5;240m▀\u001b[38;5;233;48;5;235m▀\u001b[38;5;241;48;5;240m▀\u001b[38;5;233;48;5;235m▀\u001b[38;5;240;48;5;238m▀\u001b[38;5;235;48;5;238m▀\u001b[38;5;235;48;5;233m▀\u001b[38;5;238;48;5;237m▀\u001b[38;5;234;48;5;237m▀\u001b[38;5;238;48;5;238m▀\u001b[38;5;239;48;5;237m▀\u001b[38;5;235;48;5;235m▀\u001b[38;5;237;48;5;239m▀\u001b[38;5;234;48;5;233m▀\u001b[38;5;235;48;5;235m▀\u001b[38;5;234;48;5;236m▀\u001b[38;5;240;48;5;237m▀\u001b[38;5;233;48;5;232m▀\u001b[38;5;232;48;5;232m▀\u001b[0m\n",
       "\u001b[0m\u001b[38;5;235;48;5;235m▀\u001b[38;5;235;48;5;236m▀\u001b[38;5;235;48;5;234m▀\u001b[38;5;238;48;5;238m▀\u001b[38;5;239;48;5;240m▀\u001b[38;5;240;48;5;240m▀\u001b[38;5;236;48;5;235m▀\u001b[38;5;236;48;5;237m▀\u001b[38;5;236;48;5;235m▀\u001b[38;5;239;48;5;239m▀\u001b[38;5;236;48;5;237m▀\u001b[38;5;239;48;5;239m▀\u001b[38;5;236;48;5;237m▀\u001b[38;5;237;48;5;239m▀\u001b[38;5;237;48;5;237m▀\u001b[38;5;235;48;5;237m▀\u001b[38;5;240;48;5;238m▀\u001b[38;5;239;48;5;240m▀\u001b[38;5;241;48;5;239m▀\u001b[38;5;235;48;5;238m▀\u001b[38;5;241;48;5;238m▀\u001b[38;5;236;48;5;240m▀\u001b[38;5;239;48;5;235m▀\u001b[38;5;236;48;5;240m▀\u001b[38;5;239;48;5;235m▀\u001b[38;5;233;48;5;237m▀\u001b[38;5;239;48;5;237m▀\u001b[38;5;236;48;5;236m▀\u001b[38;5;232;48;5;234m▀\u001b[38;5;236;48;5;237m▀\u001b[38;5;239;48;5;236m▀\u001b[38;5;232;48;5;233m▀\u001b[38;5;236;48;5;237m▀\u001b[38;5;239;48;5;238m▀\u001b[38;5;234;48;5;237m▀\u001b[38;5;239;48;5;239m▀\u001b[38;5;235;48;5;235m▀\u001b[38;5;241;48;5;241m▀\u001b[38;5;234;48;5;233m▀\u001b[38;5;233;48;5;233m▀\u001b[38;5;241;48;5;241m▀\u001b[38;5;235;48;5;235m▀\u001b[38;5;239;48;5;241m▀\u001b[38;5;235;48;5;233m▀\u001b[38;5;237;48;5;237m▀\u001b[38;5;235;48;5;237m▀\u001b[38;5;235;48;5;233m▀\u001b[38;5;233;48;5;233m▀\u001b[38;5;241;48;5;241m▀\u001b[38;5;233;48;5;233m▀\u001b[38;5;232;48;5;232m▀\u001b[0m\n",
       "\u001b[0m\u001b[38;5;233;48;5;232m▀\u001b[38;5;232;48;5;232m▀\u001b[38;5;235;48;5;238m▀\u001b[38;5;240;48;5;238m▀\u001b[38;5;240;48;5;241m▀\u001b[38;5;235;48;5;235m▀\u001b[38;5;237;48;5;235m▀\u001b[38;5;239;48;5;239m▀\u001b[38;5;232;48;5;233m▀\u001b[38;5;241;48;5;240m▀\u001b[38;5;235;48;5;235m▀\u001b[38;5;241;48;5;237m▀\u001b[38;5;235;48;5;238m▀\u001b[38;5;241;48;5;238m▀\u001b[38;5;235;48;5;237m▀\u001b[38;5;235;48;5;233m▀\u001b[38;5;240;48;5;238m▀\u001b[38;5;240;48;5;240m▀\u001b[38;5;236;48;5;240m▀\u001b[38;5;240;48;5;236m▀\u001b[38;5;235;48;5;240m▀\u001b[38;5;240;48;5;234m▀\u001b[38;5;235;48;5;240m▀\u001b[38;5;240;48;5;236m▀\u001b[38;5;235;48;5;239m▀\u001b[38;5;235;48;5;234m▀\u001b[38;5;239;48;5;234m▀\u001b[38;5;234;48;5;239m▀\u001b[38;5;233;48;5;234m▀\u001b[38;5;239;48;5;234m▀\u001b[38;5;235;48;5;237m▀\u001b[38;5;232;48;5;236m▀\u001b[38;5;236;48;5;233m▀\u001b[38;5;239;48;5;238m▀\u001b[38;5;233;48;5;237m▀\u001b[38;5;240;48;5;234m▀\u001b[38;5;235;48;5;240m▀\u001b[38;5;240;48;5;234m▀\u001b[38;5;234;48;5;235m▀\u001b[38;5;233;48;5;237m▀\u001b[38;5;240;48;5;234m▀\u001b[38;5;235;48;5;238m▀\u001b[38;5;238;48;5;237m▀\u001b[38;5;237;48;5;237m▀\u001b[38;5;235;48;5;237m▀\u001b[38;5;235;48;5;233m▀\u001b[38;5;236;48;5;235m▀\u001b[38;5;234;48;5;237m▀\u001b[38;5;237;48;5;236m▀\u001b[38;5;235;48;5;234m▀\u001b[38;5;232;48;5;232m▀\u001b[0m\n",
       "\u001b[0m\u001b[38;5;232m▀\u001b[38;5;232m▀\u001b[38;5;235m▀\u001b[38;5;235m▀\u001b[38;5;236m▀\u001b[38;5;235m▀\u001b[38;5;233m▀\u001b[38;5;233m▀\u001b[38;5;235m▀\u001b[38;5;235m▀\u001b[38;5;235m▀\u001b[38;5;232m▀\u001b[38;5;236m▀\u001b[38;5;233m▀\u001b[38;5;234m▀\u001b[38;5;235m▀\u001b[38;5;233m▀\u001b[38;5;236m▀\u001b[38;5;236m▀\u001b[38;5;234m▀\u001b[38;5;236m▀\u001b[38;5;233m▀\u001b[38;5;236m▀\u001b[38;5;235m▀\u001b[38;5;234m▀\u001b[38;5;232m▀\u001b[38;5;235m▀\u001b[38;5;234m▀\u001b[38;5;233m▀\u001b[38;5;235m▀\u001b[38;5;232m▀\u001b[38;5;233m▀\u001b[38;5;235m▀\u001b[38;5;233m▀\u001b[38;5;236m▀\u001b[38;5;233m▀\u001b[38;5;236m▀\u001b[38;5;233m▀\u001b[38;5;232m▀\u001b[38;5;236m▀\u001b[38;5;233m▀\u001b[38;5;235m▀\u001b[38;5;234m▀\u001b[38;5;235m▀\u001b[38;5;234m▀\u001b[38;5;232m▀\u001b[38;5;235m▀\u001b[38;5;233m▀\u001b[38;5;234m▀\u001b[38;5;235m▀\u001b[38;5;232m▀\u001b[0m"
      ]
     },
     "metadata": {},
     "output_type": "display_data"
    }
   ],
   "source": [
    "Gray.(U)"
   ]
  },
  {
   "cell_type": "markdown",
   "id": "31f6e61f",
   "metadata": {},
   "source": [
    "What do we get out of the S5 model?"
   ]
  },
  {
   "cell_type": "code",
   "execution_count": 18,
   "id": "895c4250",
   "metadata": {},
   "outputs": [
    {
     "data": {
      "image/png": "[encoded data removed]",
      "text/html": [
       "<img src=\"data:image/png;base64,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\">"
      ],
      "text/plain": [
       "\u001b[0m\u001b[38;5;232;48;5;233m▀\u001b[38;5;233;48;5;234m▀\u001b[38;5;233;48;5;235m▀\u001b[38;5;234;48;5;237m▀\u001b[38;5;234;48;5;238m▀\u001b[38;5;234;48;5;237m▀\u001b[38;5;233;48;5;235m▀\u001b[38;5;233;48;5;235m▀\u001b[38;5;233;48;5;234m▀\u001b[38;5;234;48;5;238m▀\u001b[38;5;233;48;5;235m▀\u001b[38;5;234;48;5;238m▀\u001b[38;5;233;48;5;236m▀\u001b[38;5;234;48;5;237m▀\u001b[38;5;233;48;5;235m▀\u001b[38;5;233;48;5;235m▀\u001b[38;5;234;48;5;237m▀\u001b[38;5;235;48;5;238m▀\u001b[38;5;234;48;5;237m▀\u001b[38;5;234;48;5;237m▀\u001b[38;5;234;48;5;237m▀\u001b[38;5;234;48;5;237m▀\u001b[38;5;233;48;5;236m▀\u001b[38;5;234;48;5;238m▀\u001b[38;5;233;48;5;235m▀\u001b[38;5;233;48;5;234m▀\u001b[38;5;234;48;5;237m▀\u001b[38;5;233;48;5;234m▀\u001b[38;5;232;48;5;234m▀\u001b[38;5;234;48;5;237m▀\u001b[38;5;233;48;5;234m▀\u001b[38;5;232;48;5;233m▀\u001b[38;5;234;48;5;236m▀\u001b[38;5;233;48;5;236m▀\u001b[38;5;234;48;5;236m▀\u001b[38;5;233;48;5;236m▀\u001b[38;5;234;48;5;236m▀\u001b[38;5;234;48;5;237m▀\u001b[38;5;232;48;5;233m▀\u001b[38;5;233;48;5;235m▀\u001b[38;5;234;48;5;237m▀\u001b[38;5;233;48;5;236m▀\u001b[38;5;234;48;5;237m▀\u001b[38;5;233;48;5;235m▀\u001b[38;5;234;48;5;236m▀\u001b[38;5;233;48;5;234m▀\u001b[38;5;233;48;5;234m▀\u001b[38;5;233;48;5;234m▀\u001b[38;5;234;48;5;237m▀\u001b[38;5;232;48;5;234m▀\u001b[38;5;232;48;5;232m▀\u001b[0m\n",
       "\u001b[0m\u001b[38;5;234;48;5;234m▀\u001b[38;5;234;48;5;235m▀\u001b[38;5;236;48;5;237m▀\u001b[38;5;238;48;5;239m▀\u001b[38;5;239;48;5;242m▀\u001b[38;5;238;48;5;240m▀\u001b[38;5;236;48;5;237m▀\u001b[38;5;236;48;5;237m▀\u001b[38;5;234;48;5;235m▀\u001b[38;5;239;48;5;241m▀\u001b[38;5;236;48;5;237m▀\u001b[38;5;239;48;5;241m▀\u001b[38;5;237;48;5;238m▀\u001b[38;5;238;48;5;240m▀\u001b[38;5;235;48;5;237m▀\u001b[38;5;236;48;5;237m▀\u001b[38;5;238;48;5;240m▀\u001b[38;5;240;48;5;242m▀\u001b[38;5;238;48;5;239m▀\u001b[38;5;238;48;5;240m▀\u001b[38;5;237;48;5;239m▀\u001b[38;5;238;48;5;240m▀\u001b[38;5;237;48;5;238m▀\u001b[38;5;239;48;5;241m▀\u001b[38;5;236;48;5;237m▀\u001b[38;5;235;48;5;236m▀\u001b[38;5;238;48;5;240m▀\u001b[38;5;234;48;5;235m▀\u001b[38;5;234;48;5;235m▀\u001b[38;5;238;48;5;239m▀\u001b[38;5;234;48;5;235m▀\u001b[38;5;233;48;5;233m▀\u001b[38;5;237;48;5;239m▀\u001b[38;5;236;48;5;238m▀\u001b[38;5;237;48;5;239m▀\u001b[38;5;236;48;5;238m▀\u001b[38;5;237;48;5;239m▀\u001b[38;5;238;48;5;240m▀\u001b[38;5;234;48;5;234m▀\u001b[38;5;236;48;5;237m▀\u001b[38;5;237;48;5;239m▀\u001b[38;5;236;48;5;238m▀\u001b[38;5;238;48;5;239m▀\u001b[38;5;235;48;5;237m▀\u001b[38;5;237;48;5;238m▀\u001b[38;5;234;48;5;235m▀\u001b[38;5;235;48;5;236m▀\u001b[38;5;235;48;5;236m▀\u001b[38;5;238;48;5;240m▀\u001b[38;5;234;48;5;235m▀\u001b[38;5;232;48;5;232m▀\u001b[0m\n",
       "\u001b[0m\u001b[38;5;233;48;5;233m▀\u001b[38;5;234;48;5;233m▀\u001b[38;5;236;48;5;235m▀\u001b[38;5;237;48;5;236m▀\u001b[38;5;239;48;5;237m▀\u001b[38;5;237;48;5;236m▀\u001b[38;5;235;48;5;234m▀\u001b[38;5;236;48;5;235m▀\u001b[38;5;234;48;5;233m▀\u001b[38;5;239;48;5;237m▀\u001b[38;5;236;48;5;234m▀\u001b[38;5;238;48;5;236m▀\u001b[38;5;236;48;5;235m▀\u001b[38;5;237;48;5;236m▀\u001b[38;5;235;48;5;234m▀\u001b[38;5;236;48;5;234m▀\u001b[38;5;238;48;5;236m▀\u001b[38;5;239;48;5;237m▀\u001b[38;5;237;48;5;236m▀\u001b[38;5;237;48;5;236m▀\u001b[38;5;237;48;5;235m▀\u001b[38;5;238;48;5;236m▀\u001b[38;5;236;48;5;235m▀\u001b[38;5;238;48;5;236m▀\u001b[38;5;235;48;5;234m▀\u001b[38;5;234;48;5;234m▀\u001b[38;5;238;48;5;236m▀\u001b[38;5;234;48;5;233m▀\u001b[38;5;234;48;5;233m▀\u001b[38;5;237;48;5;235m▀\u001b[38;5;234;48;5;233m▀\u001b[38;5;233;48;5;232m▀\u001b[38;5;237;48;5;235m▀\u001b[38;5;236;48;5;235m▀\u001b[38;5;237;48;5;235m▀\u001b[38;5;236;48;5;235m▀\u001b[38;5;237;48;5;235m▀\u001b[38;5;237;48;5;236m▀\u001b[38;5;234;48;5;233m▀\u001b[38;5;235;48;5;234m▀\u001b[38;5;237;48;5;235m▀\u001b[38;5;236;48;5;235m▀\u001b[38;5;237;48;5;236m▀\u001b[38;5;235;48;5;234m▀\u001b[38;5;237;48;5;235m▀\u001b[38;5;234;48;5;233m▀\u001b[38;5;235;48;5;234m▀\u001b[38;5;235;48;5;234m▀\u001b[38;5;237;48;5;236m▀\u001b[38;5;234;48;5;233m▀\u001b[38;5;232;48;5;232m▀\u001b[0m\n"
      ]
     },
     "metadata": {},
     "output_type": "display_data"
    }
   ],
   "source": [
    "Gray.(transpose(abs.(YS5)))"
   ]
  },
  {
   "cell_type": "markdown",
   "id": "baa3da44",
   "metadata": {},
   "source": [
    "__What the S5 is saying to us__? The output of the S5 model is a matrix $\\mathbf{Y}\\in\\mathbb{R}^{d_{out}\\times{T}}$, where $d_{out}$ is the number of outputs in the S5 model (dictated by the application), and $T$ is the time length of the simulation (number of input images). \n",
    "* _What can the columns of the output matrix `Y::Array{Float64,2}` represent_? Depends. In this case, let's run each column through a $\\texttt{softmax}$ function, and then take the index of the maximum value in each column. This gives us a vector of length $T$ that we can use to decode the output of the S5 model, i.e., the digit that the S5 model is trying to tell us.\n",
    "\n",
    "Decode the output of the S5 model:"
   ]
  },
  {
   "cell_type": "code",
   "execution_count": 19,
   "id": "cd2f7fd0",
   "metadata": {},
   "outputs": [
    {
     "data": {
      "text/plain": [
       "100-element Vector{Int64}:\n",
       " 4\n",
       " 5\n",
       " 4\n",
       " 5\n",
       " 4\n",
       " 5\n",
       " 4\n",
       " 5\n",
       " 4\n",
       " 5\n",
       " ⋮\n",
       " 5\n",
       " 5\n",
       " 4\n",
       " 5\n",
       " 4\n",
       " 5\n",
       " 4\n",
       " 5\n",
       " 0"
      ]
     },
     "metadata": {},
     "output_type": "display_data"
    }
   ],
   "source": [
    "Nₐ = let\n",
    "    Y = transpose(YS5) |> Matrix;\n",
    "    (number_of_rows, number_of_cols) = size(Y);\n",
    "    number_array = Array{Int64,1}(undef, number_of_cols); # numbers we are going to decode\n",
    "\n",
    "    for i ∈ 1:number_of_cols\n",
    "        number_array[i] = NNlib.softmax(abs.(Y[:,i])) |> x-> argmax(x) |> i -> i -1; # zero based\n",
    "    end\n",
    "\n",
    "    number_array\n",
    "end"
   ]
  },
  {
   "cell_type": "markdown",
   "id": "8443db24",
   "metadata": {},
   "source": [
    "#### Discussion\n",
    "1. What do the rows of the output matrix `Y::Array{Float64,2}` represent?\n",
    "2. Hmmm. Interesting. Let's brainstorm about what we could do with this model if we had more time (and could train it)."
   ]
  },
  {
   "cell_type": "markdown",
   "id": "d0a97478",
   "metadata": {},
   "source": [
    "## What's coming up next time?\n",
    "In lecture `L15c`, we'll look at [Graph Neural Networks (GNNs)](https://en.wikipedia.org/wiki/Graph_neural_network).\n",
    "* __Graph Neural Networks (GNNs)__ are another type of neural network architecture specifically designed to operate on data structured as graphs, where entities (nodes) and their relationships (edges) are represented explicitly. \n",
    "* __How are GNNs different from traditional neural networks?__ Traditional neural networks typically operate on fixed-size, grid-like data structures (e.g., images, sequences), while GNNs can handle variable-sized graphs with complex connectivity patterns. This flexibility allows GNNs to model relationships and dependencies between entities more effectively, e.g., predicting user behavior in social networks by analyzing connections"
   ]
  }
 ],
 "metadata": {
  "kernelspec": {
   "display_name": "Julia 1.11.5",
   "language": "julia",
   "name": "julia-1.11"
  },
  "language_info": {
   "file_extension": ".jl",
   "mimetype": "application/julia",
   "name": "julia",
   "version": "1.11.5"
  }
 },
 "nbformat": 4,
 "nbformat_minor": 5
}
